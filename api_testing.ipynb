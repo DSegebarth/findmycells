{
 "cells": [
  {
   "cell_type": "markdown",
   "id": "af7224ef-ab39-489e-b9b0-e587645129b6",
   "metadata": {},
   "source": [
    "# Test the API:"
   ]
  },
  {
   "cell_type": "code",
   "execution_count": null,
   "id": "fec357da-86f8-4e63-bce9-7a49baf375a4",
   "metadata": {},
   "outputs": [],
   "source": [
    "from pathlib import Path\n",
    "\n",
    "from findmycells.api import API"
   ]
  },
  {
   "cell_type": "code",
   "execution_count": null,
   "id": "20dba9aa-a063-4921-aac4-543e4e6a9ee4",
   "metadata": {},
   "outputs": [],
   "source": [
    "api = API(project_root_dir=Path('/mnt/c/Users/dsege/Downloads/test/'))"
   ]
  },
  {
   "cell_type": "code",
   "execution_count": null,
   "id": "3b2717b6-f683-4a25-a023-b0e0f4b33e23",
   "metadata": {},
   "outputs": [],
   "source": [
    "api.load_status()"
   ]
  },
  {
   "cell_type": "code",
   "execution_count": null,
   "id": "79e5debb-bcb9-44dd-b4b1-0305dabb5f54",
   "metadata": {},
   "outputs": [],
   "source": [
    "api.database.compute_file_infos()"
   ]
  },
  {
   "cell_type": "code",
   "execution_count": null,
   "id": "973b40f2-f02f-4408-90c7-97fff060c68c",
   "metadata": {},
   "outputs": [],
   "source": [
    "from findmycells.preprocessing.strategies import AdjustBrightnessAndContrastStrat, MaximumIntensityProjectionStrat, CropStitchingArtefactsRGBStrat, CropToROIsBoundingBoxStrat, ConvertTo8BitStrat"
   ]
  },
  {
   "cell_type": "code",
   "execution_count": null,
   "id": "b59a245e-c4b9-4f92-bae6-a85886a4c9fd",
   "metadata": {},
   "outputs": [],
   "source": [
    "api.preprocess(strategies = [AdjustBrightnessAndContrastStrat, MaximumIntensityProjectionStrat, ConvertTo8BitStrat],\n",
    "               strategy_configs = [{'percentage_saturated_pixels': 0.35, 'channel_adjustment_method': 'globally'},\n",
    "                                   {},\n",
    "                                   {}],\n",
    "               processing_configs = {'overwrite': True})"
   ]
  },
  {
   "cell_type": "code",
   "execution_count": null,
   "id": "6b8774c4-45d3-43b5-ad87-fa5831427541",
   "metadata": {},
   "outputs": [],
   "source": [
    "a = api.project_configs.available_processing_objects['preprocessing']()"
   ]
  },
  {
   "cell_type": "code",
   "execution_count": null,
   "id": "6f4459d4-dafa-4a92-97bc-5930d8fc6df1",
   "metadata": {},
   "outputs": [],
   "source": [
    "a.initialize_gui_configs_and_widget()"
   ]
  },
  {
   "cell_type": "code",
   "execution_count": null,
   "id": "94123cc0-cd58-493a-9518-079c4443b593",
   "metadata": {},
   "outputs": [],
   "source": [
    "a.widget"
   ]
  },
  {
   "cell_type": "code",
   "execution_count": null,
   "id": "3b5002dd-f99a-4f33-85b7-3ce002a4ed96",
   "metadata": {},
   "outputs": [],
   "source": [
    "a.gui_configs.export_current_config_values()"
   ]
  },
  {
   "cell_type": "code",
   "execution_count": null,
   "id": "1014e4c5-912d-4f6d-93b7-1eadeec6c35b",
   "metadata": {},
   "outputs": [],
   "source": [
    "api.database.file_histories['0000'].tracked_settings"
   ]
  }
 ],
 "metadata": {
  "kernelspec": {
   "display_name": "Python 3 (ipykernel)",
   "language": "python",
   "name": "python3"
  }
 },
 "nbformat": 4,
 "nbformat_minor": 5
}
