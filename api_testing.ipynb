{
 "cells": [
  {
   "cell_type": "markdown",
   "id": "af7224ef-ab39-489e-b9b0-e587645129b6",
   "metadata": {},
   "source": [
    "# Test the API:"
   ]
  },
  {
   "cell_type": "markdown",
   "id": "b26d10c1-d2df-45bd-adde-c036e5fa3d27",
   "metadata": {},
   "source": [
    "## Starting a new project from scratch:"
   ]
  },
  {
   "cell_type": "code",
   "execution_count": null,
   "id": "fec357da-86f8-4e63-bce9-7a49baf375a4",
   "metadata": {},
   "outputs": [],
   "source": [
    "from pathlib import Path\n",
    "\n",
    "from findmycells.interfaces import API"
   ]
  },
  {
   "cell_type": "markdown",
   "id": "af9a0689-0437-43e1-9940-64f8bbc6fcf4",
   "metadata": {},
   "source": [
    "### Initialize the project in desired root dir:"
   ]
  },
  {
   "cell_type": "code",
   "execution_count": null,
   "id": "20dba9aa-a063-4921-aac4-543e4e6a9ee4",
   "metadata": {},
   "outputs": [],
   "source": [
    "api = API(project_root_dir=Path('/mnt/c/Users/dsege/Downloads/fmc_test_project/'))"
   ]
  },
  {
   "cell_type": "code",
   "execution_count": null,
   "id": "79e5debb-bcb9-44dd-b4b1-0305dabb5f54",
   "metadata": {},
   "outputs": [],
   "source": [
    "# once all files have been arranged in the correct directories, load them to the project:\n",
    "api.update_database_with_current_source_files()"
   ]
  },
  {
   "cell_type": "markdown",
   "id": "8fc03204-04dc-49f1-afe7-7962ae596317",
   "metadata": {},
   "source": [
    "### Preprocessing of the images using preprocessing strategies:\n",
    "\n",
    "You can customize some general processing settings (using `processing_configs`) and more specific settings that change the behavior of individual processing strategies (using `strategy_configs`). If you don't pass any, default values will be used. "
   ]
  },
  {
   "cell_type": "code",
   "execution_count": null,
   "id": "973b40f2-f02f-4408-90c7-97fff060c68c",
   "metadata": {},
   "outputs": [],
   "source": [
    "from findmycells.preprocessing.strategies import AdjustBrightnessAndContrastStrat, MaximumIntensityProjectionStrat, CropStitchingArtefactsRGBStrat, CropToROIsBoundingBoxStrat, ConvertTo8BitStrat"
   ]
  },
  {
   "cell_type": "code",
   "execution_count": null,
   "id": "b59a245e-c4b9-4f92-bae6-a85886a4c9fd",
   "metadata": {},
   "outputs": [
    {
     "data": {
      "application/vnd.jupyter.widget-view+json": {
       "model_id": "4dc34b9d0c4f44908f9cdd409f30f809",
       "version_major": 2,
       "version_minor": 0
      },
      "text/plain": [
       "  0%|          | 0/1 [00:00<?, ?it/s]"
      ]
     },
     "metadata": {},
     "output_type": "display_data"
    }
   ],
   "source": [
    "api.preprocess(strategies = [MaximumIntensityProjectionStrat, CropToROIsBoundingBoxStrat, ConvertTo8BitStrat],\n",
    "               processing_configs = {'overwrite': True})"
   ]
  },
  {
   "cell_type": "markdown",
   "id": "af04a332-a7eb-4a02-bb04-243285d55727",
   "metadata": {},
   "source": [
    "### Segmentation of the images using segmentation strategies:"
   ]
  },
  {
   "cell_type": "code",
   "execution_count": null,
   "id": "08568dcb-9aa1-4999-8933-2d270488dbed",
   "metadata": {},
   "outputs": [],
   "source": [
    "from findmycells.segmentation.strategies import Deepflash2SemanticSegmentationStrat, LosslessConversionOfDF2SemanticSegToInstanceSegWithCPStrat"
   ]
  },
  {
   "cell_type": "code",
   "execution_count": null,
   "id": "2b66ff27-b11b-4f8c-9028-eb272934e94b",
   "metadata": {},
   "outputs": [],
   "source": [
    "strategy_configs = [{'path_to_models': Path('/mnt/c/Users/dsege/Downloads/fmc_test_project/segmentation_tool/trained_models/')},\n",
    "                    {'model_type': 'nuclei'}]"
   ]
  },
  {
   "cell_type": "code",
   "execution_count": null,
   "id": "c869ede6-d268-474c-ab4d-af6c8b705099",
   "metadata": {},
   "outputs": [
    {
     "data": {
      "application/vnd.jupyter.widget-view+json": {
       "model_id": "467f30428c4b457e836714407039b81f",
       "version_major": 2,
       "version_minor": 0
      },
      "text/plain": [
       "  0%|          | 0/2 [00:00<?, ?it/s]"
      ]
     },
     "metadata": {},
     "output_type": "display_data"
    },
    {
     "name": "stdout",
     "output_type": "stream",
     "text": [
      "Starting with segmentation strategy #1\n"
     ]
    },
    {
     "data": {
      "application/vnd.jupyter.widget-view+json": {
       "model_id": "1269234f2b2b4d5c95b127bd93878887",
       "version_major": 2,
       "version_minor": 0
      },
      "text/plain": [
       "  0%|          | 0/1 [00:00<?, ?it/s]"
      ]
     },
     "metadata": {},
     "output_type": "display_data"
    },
    {
     "name": "stdout",
     "output_type": "stream",
     "text": [
      "Starting with batch #1\n",
      "Found 3 models in folder /mnt/c/Users/dsege/Downloads/fmc_test_project/segmentation_tool/trained_models\n",
      "['Unet_resnet34_2classes-fold1.pth', 'Unet_resnet34_2classes-fold3.pth', 'Unet_resnet34_2classes-fold5.pth']\n",
      "Computing Stats...\n",
      "Found 3 models in folder /mnt/c/Users/dsege/Downloads/fmc_test_project/segmentation_tool/trained_models\n",
      "['Unet_resnet34_2classes-fold1.pth', 'Unet_resnet34_2classes-fold3.pth', 'Unet_resnet34_2classes-fold5.pth']\n"
     ]
    },
    {
     "data": {
      "text/html": [
       "\n",
       "<style>\n",
       "    /* Turns off some styling */\n",
       "    progress {\n",
       "        /* gets rid of default border in Firefox and Opera. */\n",
       "        border: none;\n",
       "        /* Needs to be in here for Safari polyfill so background images work as expected. */\n",
       "        background-size: auto;\n",
       "    }\n",
       "    progress:not([value]), progress:not([value])::-webkit-progress-bar {\n",
       "        background: repeating-linear-gradient(45deg, #7e7e7e, #7e7e7e 10px, #5c5c5c 10px, #5c5c5c 20px);\n",
       "    }\n",
       "    .progress-bar-interrupted, .progress-bar-interrupted::-webkit-progress-bar {\n",
       "        background: #F44336;\n",
       "    }\n",
       "</style>\n"
      ],
      "text/plain": [
       "<IPython.core.display.HTML object>"
      ]
     },
     "metadata": {},
     "output_type": "display_data"
    },
    {
     "data": {
      "text/html": [],
      "text/plain": [
       "<IPython.core.display.HTML object>"
      ]
     },
     "metadata": {},
     "output_type": "display_data"
    },
    {
     "name": "stdout",
     "output_type": "stream",
     "text": [
      "Predicting 0000-000.png\n"
     ]
    },
    {
     "data": {
      "text/html": [
       "\n",
       "<style>\n",
       "    /* Turns off some styling */\n",
       "    progress {\n",
       "        /* gets rid of default border in Firefox and Opera. */\n",
       "        border: none;\n",
       "        /* Needs to be in here for Safari polyfill so background images work as expected. */\n",
       "        background-size: auto;\n",
       "    }\n",
       "    progress:not([value]), progress:not([value])::-webkit-progress-bar {\n",
       "        background: repeating-linear-gradient(45deg, #7e7e7e, #7e7e7e 10px, #5c5c5c 10px, #5c5c5c 20px);\n",
       "    }\n",
       "    .progress-bar-interrupted, .progress-bar-interrupted::-webkit-progress-bar {\n",
       "        background: #F44336;\n",
       "    }\n",
       "</style>\n"
      ],
      "text/plain": [
       "<IPython.core.display.HTML object>"
      ]
     },
     "metadata": {},
     "output_type": "display_data"
    },
    {
     "data": {
      "text/html": [],
      "text/plain": [
       "<IPython.core.display.HTML object>"
      ]
     },
     "metadata": {},
     "output_type": "display_data"
    },
    {
     "name": "stdout",
     "output_type": "stream",
     "text": [
      "Starting with segmentation strategy #2\n"
     ]
    },
    {
     "data": {
      "application/vnd.jupyter.widget-view+json": {
       "model_id": "81dc6460ac844d5694e781ace5fe6083",
       "version_major": 2,
       "version_minor": 0
      },
      "text/plain": [
       "  0%|          | 0/1 [00:00<?, ?it/s]"
      ]
     },
     "metadata": {},
     "output_type": "display_data"
    },
    {
     "name": "stdout",
     "output_type": "stream",
     "text": [
      "Starting with batch #1\n",
      "/mnt/c/Users/dsege/Downloads/fmc_test_project/segmentation_tool/segmentation_tool_temp\n"
     ]
    }
   ],
   "source": [
    "api.segment(strategies = [Deepflash2SemanticSegmentationStrat, LosslessConversionOfDF2SemanticSegToInstanceSegWithCPStrat],\n",
    "            strategy_configs = strategy_configs)"
   ]
  },
  {
   "cell_type": "markdown",
   "id": "59f39feb-7b11-45d8-8ff6-11763abe3cb4",
   "metadata": {},
   "source": [
    "## Load from existing project:"
   ]
  },
  {
   "cell_type": "code",
   "execution_count": null,
   "id": "1d72d9f5-a406-4c16-9bae-b2e045ae2ef3",
   "metadata": {},
   "outputs": [],
   "source": [
    "from pathlib import Path\n",
    "\n",
    "from findmycells.interfaces import API"
   ]
  },
  {
   "cell_type": "code",
   "execution_count": null,
   "id": "5d1a0b62-eab5-4f3e-9997-67ecacf4acd4",
   "metadata": {},
   "outputs": [],
   "source": [
    "api = API(project_root_dir=Path('/mnt/c/Users/dsege/Downloads/fmc_test_project/'))"
   ]
  },
  {
   "cell_type": "code",
   "execution_count": null,
   "id": "e43180bb-dc90-468e-aff5-8275433ec479",
   "metadata": {},
   "outputs": [],
   "source": [
    "api.load_status()"
   ]
  },
  {
   "cell_type": "code",
   "execution_count": null,
   "id": "5aadda6f-f5ab-448d-bd3d-8c14bb281965",
   "metadata": {},
   "outputs": [],
   "source": []
  },
  {
   "cell_type": "code",
   "execution_count": null,
   "id": "e7780068-1d22-4b6e-9b7a-e4b769461b10",
   "metadata": {},
   "outputs": [],
   "source": [
    "from findmycells.preprocessing.strategies import AdjustBrightnessAndContrastStrat, MaximumIntensityProjectionStrat, CropStitchingArtefactsRGBStrat, CropToROIsBoundingBoxStrat, ConvertTo8BitStrat"
   ]
  },
  {
   "cell_type": "code",
   "execution_count": null,
   "id": "8b8dbddb-866a-4167-9136-b289ab53482c",
   "metadata": {},
   "outputs": [],
   "source": [
    "api.preprocess(strategies = [MaximumIntensityProjectionStrat, CropToROIsBoundingBoxStrat, ConvertTo8BitStrat],\n",
    "               processing_configs = {'overwrite': False})"
   ]
  },
  {
   "cell_type": "code",
   "execution_count": null,
   "id": "6b05c834-f244-4bbb-9f60-725c30b3b111",
   "metadata": {},
   "outputs": [],
   "source": [
    "from findmycells.segmentation.strategies import Deepflash2SemanticSegmentationStrat, LosslessConversionOfDF2SemanticSegToInstanceSegWithCPStrat"
   ]
  },
  {
   "cell_type": "code",
   "execution_count": null,
   "id": "caa90cd0-3149-4ef6-b9a4-17ab2efbaab3",
   "metadata": {},
   "outputs": [],
   "source": [
    "strategy_configs = [{'path_to_models': Path('/mnt/c/Users/dsege/Downloads/fmc_test_project/segmentation_tool/trained_models/')},\n",
    "                    {'model_type': 'nuclei'}]"
   ]
  },
  {
   "cell_type": "code",
   "execution_count": null,
   "id": "4b76fcda-f612-49d9-a6b2-a8664bdc0deb",
   "metadata": {},
   "outputs": [],
   "source": [
    "api.segment(strategies = [Deepflash2SemanticSegmentationStrat, LosslessConversionOfDF2SemanticSegToInstanceSegWithCPStrat],\n",
    "            strategy_configs = strategy_configs)"
   ]
  },
  {
   "cell_type": "code",
   "execution_count": null,
   "id": "dc62e2a9-f1cd-4ab3-8cca-7681a364c414",
   "metadata": {},
   "outputs": [],
   "source": [
    "api.database.segmentation_tool_temp_dir_dir"
   ]
  },
  {
   "cell_type": "code",
   "execution_count": null,
   "id": "3b2717b6-f683-4a25-a023-b0e0f4b33e23",
   "metadata": {},
   "outputs": [],
   "source": [
    "api.load_status()"
   ]
  },
  {
   "cell_type": "code",
   "execution_count": null,
   "id": "6b8774c4-45d3-43b5-ad87-fa5831427541",
   "metadata": {},
   "outputs": [],
   "source": [
    "a = api.project_configs.available_processing_objects['preprocessing']()"
   ]
  },
  {
   "cell_type": "code",
   "execution_count": null,
   "id": "6f4459d4-dafa-4a92-97bc-5930d8fc6df1",
   "metadata": {},
   "outputs": [],
   "source": [
    "a.initialize_gui_configs_and_widget()"
   ]
  },
  {
   "cell_type": "code",
   "execution_count": null,
   "id": "94123cc0-cd58-493a-9518-079c4443b593",
   "metadata": {},
   "outputs": [],
   "source": [
    "a.widget"
   ]
  },
  {
   "cell_type": "code",
   "execution_count": null,
   "id": "3b5002dd-f99a-4f33-85b7-3ce002a4ed96",
   "metadata": {},
   "outputs": [],
   "source": [
    "a.gui_configs.export_current_config_values()"
   ]
  },
  {
   "cell_type": "code",
   "execution_count": null,
   "id": "1014e4c5-912d-4f6d-93b7-1eadeec6c35b",
   "metadata": {},
   "outputs": [],
   "source": [
    "api.database.file_histories['0000'].tracked_settings"
   ]
  }
 ],
 "metadata": {
  "kernelspec": {
   "display_name": "Python 3 (ipykernel)",
   "language": "python",
   "name": "python3"
  }
 },
 "nbformat": 4,
 "nbformat_minor": 5
}
