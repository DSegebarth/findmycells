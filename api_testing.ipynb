{
 "cells": [
  {
   "cell_type": "markdown",
   "id": "af7224ef-ab39-489e-b9b0-e587645129b6",
   "metadata": {},
   "source": [
    "# Test the API:"
   ]
  },
  {
   "cell_type": "code",
   "execution_count": null,
   "id": "fec357da-86f8-4e63-bce9-7a49baf375a4",
   "metadata": {},
   "outputs": [],
   "source": [
    "from pathlib import Path\n",
    "\n",
    "from findmycells.interfaces import API"
   ]
  },
  {
   "cell_type": "code",
   "execution_count": null,
   "id": "20dba9aa-a063-4921-aac4-543e4e6a9ee4",
   "metadata": {},
   "outputs": [],
   "source": [
    "api = API(project_root_dir=Path('/mnt/c/Users/dsege/Downloads/fmc_test_project/'))"
   ]
  },
  {
   "cell_type": "code",
   "execution_count": null,
   "id": "79e5debb-bcb9-44dd-b4b1-0305dabb5f54",
   "metadata": {},
   "outputs": [],
   "source": [
    "api.database.compute_file_infos()"
   ]
  },
  {
   "cell_type": "code",
   "execution_count": null,
   "id": "973b40f2-f02f-4408-90c7-97fff060c68c",
   "metadata": {},
   "outputs": [],
   "source": [
    "from findmycells.preprocessing.strategies import AdjustBrightnessAndContrastStrat, MaximumIntensityProjectionStrat, CropStitchingArtefactsRGBStrat, CropToROIsBoundingBoxStrat, ConvertTo8BitStrat"
   ]
  },
  {
   "cell_type": "code",
   "execution_count": null,
   "id": "b59a245e-c4b9-4f92-bae6-a85886a4c9fd",
   "metadata": {},
   "outputs": [
    {
     "data": {
      "application/vnd.jupyter.widget-view+json": {
       "model_id": "d55596fab8774746b78ef4b5f97a0f78",
       "version_major": 2,
       "version_minor": 0
      },
      "text/plain": [
       "  0%|          | 0/1 [00:00<?, ?it/s]"
      ]
     },
     "metadata": {},
     "output_type": "display_data"
    }
   ],
   "source": [
    "api.preprocess(strategies = [MaximumIntensityProjectionStrat, CropToROIsBoundingBoxStrat, ConvertTo8BitStrat],\n",
    "               processing_configs = {'overwrite': True})"
   ]
  },
  {
   "cell_type": "code",
   "execution_count": null,
   "id": "08568dcb-9aa1-4999-8933-2d270488dbed",
   "metadata": {},
   "outputs": [],
   "source": [
    "from findmycells.segmentation.strategies import Deepflash2SemanticSegmentationStrat, LosslessConversionOfDF2SemanticSegToInstanceSegWithCPStrat"
   ]
  },
  {
   "cell_type": "code",
   "execution_count": null,
   "id": "2b66ff27-b11b-4f8c-9028-eb272934e94b",
   "metadata": {},
   "outputs": [],
   "source": [
    "strategy_configs = [{'path_to_models': Path('/mnt/c/Users/dsege/Downloads/fmc_test_project/segmentation_tool/trained_models/')},\n",
    "                    {'model_type': 'nuclei'}]"
   ]
  },
  {
   "cell_type": "code",
   "execution_count": null,
   "id": "c869ede6-d268-474c-ab4d-af6c8b705099",
   "metadata": {},
   "outputs": [
    {
     "data": {
      "application/vnd.jupyter.widget-view+json": {
       "model_id": "e25669fcdc6347d3a7eccffd5cd56c38",
       "version_major": 2,
       "version_minor": 0
      },
      "text/plain": [
       "  0%|          | 0/1 [00:00<?, ?it/s]"
      ]
     },
     "metadata": {},
     "output_type": "display_data"
    },
    {
     "name": "stdout",
     "output_type": "stream",
     "text": [
      "Starting with segmentation strategy #1\n"
     ]
    },
    {
     "data": {
      "application/vnd.jupyter.widget-view+json": {
       "model_id": "60b4e559dc2b49feb299bca61362b6e1",
       "version_major": 2,
       "version_minor": 0
      },
      "text/plain": [
       "  0%|          | 0/1 [00:00<?, ?it/s]"
      ]
     },
     "metadata": {},
     "output_type": "display_data"
    },
    {
     "name": "stdout",
     "output_type": "stream",
     "text": [
      "Starting with batch #1\n",
      "Found 3 models in folder /mnt/c/Users/dsege/Downloads/fmc_test_project/segmentation_tool/trained_models\n",
      "['Unet_resnet34_2classes-fold1.pth', 'Unet_resnet34_2classes-fold3.pth', 'Unet_resnet34_2classes-fold5.pth']\n",
      "Computing Stats...\n",
      "Found 3 models in folder /mnt/c/Users/dsege/Downloads/fmc_test_project/segmentation_tool/trained_models\n",
      "['Unet_resnet34_2classes-fold1.pth', 'Unet_resnet34_2classes-fold3.pth', 'Unet_resnet34_2classes-fold5.pth']\n"
     ]
    },
    {
     "data": {
      "text/html": [
       "\n",
       "<style>\n",
       "    /* Turns off some styling */\n",
       "    progress {\n",
       "        /* gets rid of default border in Firefox and Opera. */\n",
       "        border: none;\n",
       "        /* Needs to be in here for Safari polyfill so background images work as expected. */\n",
       "        background-size: auto;\n",
       "    }\n",
       "    progress:not([value]), progress:not([value])::-webkit-progress-bar {\n",
       "        background: repeating-linear-gradient(45deg, #7e7e7e, #7e7e7e 10px, #5c5c5c 10px, #5c5c5c 20px);\n",
       "    }\n",
       "    .progress-bar-interrupted, .progress-bar-interrupted::-webkit-progress-bar {\n",
       "        background: #F44336;\n",
       "    }\n",
       "</style>\n"
      ],
      "text/plain": [
       "<IPython.core.display.HTML object>"
      ]
     },
     "metadata": {},
     "output_type": "display_data"
    },
    {
     "data": {
      "text/html": [],
      "text/plain": [
       "<IPython.core.display.HTML object>"
      ]
     },
     "metadata": {},
     "output_type": "display_data"
    },
    {
     "name": "stdout",
     "output_type": "stream",
     "text": [
      "Predicting 0000-000.png\n"
     ]
    },
    {
     "data": {
      "text/html": [
       "\n",
       "<style>\n",
       "    /* Turns off some styling */\n",
       "    progress {\n",
       "        /* gets rid of default border in Firefox and Opera. */\n",
       "        border: none;\n",
       "        /* Needs to be in here for Safari polyfill so background images work as expected. */\n",
       "        background-size: auto;\n",
       "    }\n",
       "    progress:not([value]), progress:not([value])::-webkit-progress-bar {\n",
       "        background: repeating-linear-gradient(45deg, #7e7e7e, #7e7e7e 10px, #5c5c5c 10px, #5c5c5c 20px);\n",
       "    }\n",
       "    .progress-bar-interrupted, .progress-bar-interrupted::-webkit-progress-bar {\n",
       "        background: #F44336;\n",
       "    }\n",
       "</style>\n"
      ],
      "text/plain": [
       "<IPython.core.display.HTML object>"
      ]
     },
     "metadata": {},
     "output_type": "display_data"
    },
    {
     "data": {
      "text/html": [],
      "text/plain": [
       "<IPython.core.display.HTML object>"
      ]
     },
     "metadata": {},
     "output_type": "display_data"
    }
   ],
   "source": [
    "api.segment(strategies = [Deepflash2SemanticSegmentationStrat, LosslessConversionOfDF2SemanticSegToInstanceSegWithCPStrat],\n",
    "            strategy_configs = strategy_configs)"
   ]
  },
  {
   "cell_type": "code",
   "execution_count": null,
   "id": "dc62e2a9-f1cd-4ab3-8cca-7681a364c414",
   "metadata": {},
   "outputs": [],
   "source": [
    "api.database.segmentation_tool_temp_dir_dir"
   ]
  },
  {
   "cell_type": "code",
   "execution_count": null,
   "id": "3b2717b6-f683-4a25-a023-b0e0f4b33e23",
   "metadata": {},
   "outputs": [],
   "source": [
    "api.load_status()"
   ]
  },
  {
   "cell_type": "code",
   "execution_count": null,
   "id": "6b8774c4-45d3-43b5-ad87-fa5831427541",
   "metadata": {},
   "outputs": [],
   "source": [
    "a = api.project_configs.available_processing_objects['preprocessing']()"
   ]
  },
  {
   "cell_type": "code",
   "execution_count": null,
   "id": "6f4459d4-dafa-4a92-97bc-5930d8fc6df1",
   "metadata": {},
   "outputs": [],
   "source": [
    "a.initialize_gui_configs_and_widget()"
   ]
  },
  {
   "cell_type": "code",
   "execution_count": null,
   "id": "94123cc0-cd58-493a-9518-079c4443b593",
   "metadata": {},
   "outputs": [],
   "source": [
    "a.widget"
   ]
  },
  {
   "cell_type": "code",
   "execution_count": null,
   "id": "3b5002dd-f99a-4f33-85b7-3ce002a4ed96",
   "metadata": {},
   "outputs": [],
   "source": [
    "a.gui_configs.export_current_config_values()"
   ]
  },
  {
   "cell_type": "code",
   "execution_count": null,
   "id": "1014e4c5-912d-4f6d-93b7-1eadeec6c35b",
   "metadata": {},
   "outputs": [],
   "source": [
    "api.database.file_histories['0000'].tracked_settings"
   ]
  }
 ],
 "metadata": {
  "kernelspec": {
   "display_name": "Python 3 (ipykernel)",
   "language": "python",
   "name": "python3"
  }
 },
 "nbformat": 4,
 "nbformat_minor": 5
}
