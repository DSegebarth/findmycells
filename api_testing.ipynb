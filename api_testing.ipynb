{
 "cells": [
  {
   "cell_type": "markdown",
   "id": "af7224ef-ab39-489e-b9b0-e587645129b6",
   "metadata": {},
   "source": [
    "# Test the API:"
   ]
  },
  {
   "cell_type": "code",
   "execution_count": null,
   "id": "fec357da-86f8-4e63-bce9-7a49baf375a4",
   "metadata": {},
   "outputs": [],
   "source": [
    "from pathlib import Path\n",
    "\n",
    "from findmycells.interfaces import API"
   ]
  },
  {
   "cell_type": "code",
   "execution_count": null,
   "id": "20dba9aa-a063-4921-aac4-543e4e6a9ee4",
   "metadata": {},
   "outputs": [],
   "source": [
    "api = API(project_root_dir=Path('/mnt/c/Users/dsege/Downloads/fmc_test_project/'))"
   ]
  },
  {
   "cell_type": "code",
   "execution_count": null,
   "id": "79e5debb-bcb9-44dd-b4b1-0305dabb5f54",
   "metadata": {},
   "outputs": [],
   "source": [
    "api.database.compute_file_infos()"
   ]
  },
  {
   "cell_type": "code",
   "execution_count": null,
   "id": "973b40f2-f02f-4408-90c7-97fff060c68c",
   "metadata": {},
   "outputs": [],
   "source": [
    "from findmycells.preprocessing.strategies import AdjustBrightnessAndContrastStrat, MaximumIntensityProjectionStrat, CropStitchingArtefactsRGBStrat, CropToROIsBoundingBoxStrat, ConvertTo8BitStrat"
   ]
  },
  {
   "cell_type": "code",
   "execution_count": null,
   "id": "b59a245e-c4b9-4f92-bae6-a85886a4c9fd",
   "metadata": {},
   "outputs": [],
   "source": [
    "api.preprocess(strategies = [MaximumIntensityProjectionStrat, CropToROIsBoundingBoxStrat, ConvertTo8BitStrat],\n",
    "               processing_configs = {'overwrite': True})"
   ]
  },
  {
   "cell_type": "code",
   "execution_count": null,
   "id": "08568dcb-9aa1-4999-8933-2d270488dbed",
   "metadata": {},
   "outputs": [],
   "source": [
    "from findmycells.segmentation.strategies import Deepflash2SemanticSegmentationStrat, LosslessConversionOfDF2SemanticSegToInstanceSegWithCPStrat"
   ]
  },
  {
   "cell_type": "code",
   "execution_count": null,
   "id": "2b66ff27-b11b-4f8c-9028-eb272934e94b",
   "metadata": {},
   "outputs": [],
   "source": [
    "strategy_configs = [{'path_to_models': Path('/mnt/c/Users/dsege/Downloads/fmc_test_project/segmentation_tool/trained_models/')},\n",
    "                    {'model_type': 'nuclei'}]"
   ]
  },
  {
   "cell_type": "code",
   "execution_count": null,
   "id": "c869ede6-d268-474c-ab4d-af6c8b705099",
   "metadata": {},
   "outputs": [],
   "source": [
    "api.segment(strategies = [Deepflash2SemanticSegmentationStrat, LosslessConversionOfDF2SemanticSegToInstanceSegWithCPStrat],\n",
    "            strategy_configs = strategy_configs)"
   ]
  },
  {
   "cell_type": "markdown",
   "id": "59f39feb-7b11-45d8-8ff6-11763abe3cb4",
   "metadata": {},
   "source": [
    "## Load from existing project:"
   ]
  },
  {
   "cell_type": "code",
   "execution_count": null,
   "id": "1d72d9f5-a406-4c16-9bae-b2e045ae2ef3",
   "metadata": {},
   "outputs": [],
   "source": [
    "from pathlib import Path\n",
    "\n",
    "from findmycells.interfaces import API"
   ]
  },
  {
   "cell_type": "code",
   "execution_count": null,
   "id": "5d1a0b62-eab5-4f3e-9997-67ecacf4acd4",
   "metadata": {},
   "outputs": [],
   "source": [
    "api = API(project_root_dir=Path('/mnt/c/Users/dsege/Downloads/fmc_test_project/'))"
   ]
  },
  {
   "cell_type": "code",
   "execution_count": null,
   "id": "e43180bb-dc90-468e-aff5-8275433ec479",
   "metadata": {},
   "outputs": [],
   "source": [
    "api.load_status()"
   ]
  },
  {
   "cell_type": "code",
   "execution_count": null,
   "id": "5aadda6f-f5ab-448d-bd3d-8c14bb281965",
   "metadata": {},
   "outputs": [],
   "source": []
  },
  {
   "cell_type": "code",
   "execution_count": null,
   "id": "e7780068-1d22-4b6e-9b7a-e4b769461b10",
   "metadata": {},
   "outputs": [],
   "source": [
    "from findmycells.preprocessing.strategies import AdjustBrightnessAndContrastStrat, MaximumIntensityProjectionStrat, CropStitchingArtefactsRGBStrat, CropToROIsBoundingBoxStrat, ConvertTo8BitStrat"
   ]
  },
  {
   "cell_type": "code",
   "execution_count": null,
   "id": "8b8dbddb-866a-4167-9136-b289ab53482c",
   "metadata": {},
   "outputs": [],
   "source": [
    "api.preprocess(strategies = [MaximumIntensityProjectionStrat, CropToROIsBoundingBoxStrat, ConvertTo8BitStrat],\n",
    "               processing_configs = {'overwrite': False})"
   ]
  },
  {
   "cell_type": "code",
   "execution_count": null,
   "id": "6b05c834-f244-4bbb-9f60-725c30b3b111",
   "metadata": {},
   "outputs": [],
   "source": [
    "from findmycells.segmentation.strategies import Deepflash2SemanticSegmentationStrat, LosslessConversionOfDF2SemanticSegToInstanceSegWithCPStrat"
   ]
  },
  {
   "cell_type": "code",
   "execution_count": null,
   "id": "caa90cd0-3149-4ef6-b9a4-17ab2efbaab3",
   "metadata": {},
   "outputs": [],
   "source": [
    "strategy_configs = [{'path_to_models': Path('/mnt/c/Users/dsege/Downloads/fmc_test_project/segmentation_tool/trained_models/')},\n",
    "                    {'model_type': 'nuclei'}]"
   ]
  },
  {
   "cell_type": "code",
   "execution_count": null,
   "id": "4b76fcda-f612-49d9-a6b2-a8664bdc0deb",
   "metadata": {},
   "outputs": [],
   "source": [
    "api.segment(strategies = [Deepflash2SemanticSegmentationStrat, LosslessConversionOfDF2SemanticSegToInstanceSegWithCPStrat],\n",
    "            strategy_configs = strategy_configs)"
   ]
  },
  {
   "cell_type": "code",
   "execution_count": null,
   "id": "dc62e2a9-f1cd-4ab3-8cca-7681a364c414",
   "metadata": {},
   "outputs": [],
   "source": [
    "api.database.segmentation_tool_temp_dir_dir"
   ]
  },
  {
   "cell_type": "code",
   "execution_count": null,
   "id": "3b2717b6-f683-4a25-a023-b0e0f4b33e23",
   "metadata": {},
   "outputs": [],
   "source": [
    "api.load_status()"
   ]
  },
  {
   "cell_type": "code",
   "execution_count": null,
   "id": "6b8774c4-45d3-43b5-ad87-fa5831427541",
   "metadata": {},
   "outputs": [],
   "source": [
    "a = api.project_configs.available_processing_objects['preprocessing']()"
   ]
  },
  {
   "cell_type": "code",
   "execution_count": null,
   "id": "6f4459d4-dafa-4a92-97bc-5930d8fc6df1",
   "metadata": {},
   "outputs": [],
   "source": [
    "a.initialize_gui_configs_and_widget()"
   ]
  },
  {
   "cell_type": "code",
   "execution_count": null,
   "id": "94123cc0-cd58-493a-9518-079c4443b593",
   "metadata": {},
   "outputs": [],
   "source": [
    "a.widget"
   ]
  },
  {
   "cell_type": "code",
   "execution_count": null,
   "id": "3b5002dd-f99a-4f33-85b7-3ce002a4ed96",
   "metadata": {},
   "outputs": [],
   "source": [
    "a.gui_configs.export_current_config_values()"
   ]
  },
  {
   "cell_type": "code",
   "execution_count": null,
   "id": "1014e4c5-912d-4f6d-93b7-1eadeec6c35b",
   "metadata": {},
   "outputs": [],
   "source": [
    "api.database.file_histories['0000'].tracked_settings"
   ]
  }
 ],
 "metadata": {
  "kernelspec": {
   "display_name": "Python 3 (ipykernel)",
   "language": "python",
   "name": "python3"
  }
 },
 "nbformat": 4,
 "nbformat_minor": 5
}
