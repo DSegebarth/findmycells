{
 "cells": [
  {
   "cell_type": "markdown",
   "id": "0ffcb8fe-6ed3-433a-a012-4b8c924f4b7d",
   "metadata": {},
   "source": [
    "# Utility functions\n",
    "\n",
    "> This module defines several utility functions that are used throughout findmycells"
   ]
  },
  {
   "cell_type": "code",
   "execution_count": null,
   "id": "7d5a47dc-c559-45c1-8720-8aa6ebfad999",
   "metadata": {},
   "outputs": [],
   "source": [
    "#| default_exp utils"
   ]
  },
  {
   "cell_type": "code",
   "execution_count": null,
   "id": "b97bc391-b47d-473f-a41a-dd0a43e2b869",
   "metadata": {},
   "outputs": [],
   "source": [
    "#| export\n",
    "\n",
    "from typing import List\n",
    "from pathlib import Path"
   ]
  },
  {
   "cell_type": "code",
   "execution_count": null,
   "id": "2a613593-c9e5-481b-ac71-9835e2f5d967",
   "metadata": {},
   "outputs": [],
   "source": [
    "#| hide\n",
    "from nbdev.showdoc import *"
   ]
  },
  {
   "cell_type": "code",
   "execution_count": null,
   "id": "41b3d449-4e39-4e65-90fa-85100de9d104",
   "metadata": {},
   "outputs": [],
   "source": [
    "#| export\n",
    "\n",
    "def listdir_nohidden(path: Path) -> List:\n",
    "    return [f for f in os.listdir(path) if f.startswith('.') == False]"
   ]
  },
  {
   "cell_type": "code",
   "execution_count": null,
   "id": "b5c85d21-a042-4134-a90e-31062a693b31",
   "metadata": {},
   "outputs": [],
   "source": [
    "#| hide\n",
    "import nbdev; nbdev.nbdev_export()"
   ]
  }
 ],
 "metadata": {
  "kernelspec": {
   "display_name": "Python 3 (ipykernel)",
   "language": "python",
   "name": "python3"
  }
 },
 "nbformat": 4,
 "nbformat_minor": 5
}
