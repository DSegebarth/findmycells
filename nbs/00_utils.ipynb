{
 "cells": [
  {
   "cell_type": "code",
   "execution_count": null,
   "id": "bf9f99f6-835e-4878-a8be-e8dfd7c3d8f4",
   "metadata": {},
   "outputs": [],
   "source": []
  }
 ],
 "metadata": {
  "kernelspec": {
   "display_name": "Python 3 (ipykernel)",
   "language": "python",
   "name": "python3"
  }
 },
 "nbformat": 4,
 "nbformat_minor": 5
}
