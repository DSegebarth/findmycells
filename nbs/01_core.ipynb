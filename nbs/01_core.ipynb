{
 "cells": [
  {
   "cell_type": "markdown",
   "metadata": {},
   "source": [
    "# core\n",
    "\n",
    "> Defines central classes of findmycells: `ProcessingStrategy`, `ProcessingObject`, `DataLoader`, and `DataReader`"
   ]
  },
  {
   "cell_type": "code",
   "execution_count": null,
   "metadata": {},
   "outputs": [],
   "source": [
    "#| default_exp core"
   ]
  },
  {
   "cell_type": "code",
   "execution_count": null,
   "metadata": {},
   "outputs": [],
   "source": [
    "#| export\n",
    "\n",
    "from abc import ABC, abstractmethod\n",
    "from findmycells.database import Database\n",
    "from typing import List, Dict, Tuple, Optional, Any\n",
    "from types import ModuleType\n",
    "from pathlib import Path"
   ]
  },
  {
   "cell_type": "code",
   "execution_count": null,
   "metadata": {},
   "outputs": [],
   "source": [
    "#| hide\n",
    "from nbdev.showdoc import *"
   ]
  },
  {
   "cell_type": "markdown",
   "metadata": {},
   "source": [
    "The following two classes, `ProcessingObject` and `ProcessingStrategy`, provide the blueprints for all processing strategies and objects that are used throughout the *findmycells* package. As you can see in the corresponding processing step modules (i.e. \"preprocess\", \"segment\", or \"quantify\"), these abstract base classes provide the basic structure of the more specific objects and strategies in each of these modules (e.g. `QuantificationObject` and `QuantificationStrategy` within the \"quantify\" module inherit from `ProcessingObject` and `ProcessingStrategy`, respectively). While this makes these two classes highly relevant for any developer, regular users of *findmycells* won´t be interacting with them, even if they want to use the API instead of the GUI."
   ]
  },
  {
   "cell_type": "code",
   "execution_count": null,
   "metadata": {},
   "outputs": [],
   "source": [
    "#| export\n",
    "\n",
    "class ProcessingObject(ABC):\n",
    "    \n",
    "    \"\"\"\n",
    "    Abstract base class (inherits from ABC) that defines the general structure of `ProcessingObjects` in findmycells.\n",
    "    A `ProcessingObject` combines all information needed for the corresponding processing step, \n",
    "    i.e. what files are supposed to be processed & how. It also interfaces to the database of the\n",
    "    project, such that it can automatically update the database with the latest progress.\n",
    "    \"\"\"\n",
    "    \n",
    "    def __init__(self, \n",
    "                 database: Database, # The database of the findmycells project\n",
    "                 file_ids: List, # A list with the file_ids of all files that need to be processed\n",
    "                 strategies: List # A list of all ProcessingStrategies that shall be run on the files defined in file_ids.\n",
    "                ) -> None:\n",
    "        self.database = database\n",
    "        self.file_ids = file_ids\n",
    "        self.strategies = strategies\n",
    "\n",
    "\n",
    "    @property\n",
    "    @abstractmethod\n",
    "    def processing_type(self\n",
    "                       ) -> str: # string that defines the processing type (e.g. \"preprocessing\" or \"quantification\")\n",
    "        \"\"\"\n",
    "        Abstract method that requires its subclasses to define the `processing_type`\n",
    "        as a property of the class. Thus, this will be specified in each individual \n",
    "        processing module (e.g. the \"preprocess\" or \"quantify\" modules). It will be used\n",
    "        in the database to keep track of the processing progress of the project.\n",
    "        Has to be a string.\n",
    "        \"\"\"\n",
    "        pass\n",
    "\n",
    "\n",
    "    @abstractmethod\n",
    "    def add_processing_specific_infos_to_updates(self, \n",
    "                                                 updates: Dict # A dictionary with updates that need to be passed to the database\n",
    "                                                ) -> Dict: # A dictionary with all updates that need to be passed to the database\n",
    "        \"\"\"\n",
    "        Abstract method that that requires its subclasses to define what updates need to be\n",
    "        passed to the database, in addition to those that are already covered by the corresponding\n",
    "        ProcessingStrategies or the \"self.update_database()\" method. If there are no more \n",
    "        information to add, simply return the input 'updates' dictionary without any alterations.\n",
    "        \n",
    "        Returns a dictionary with all updates that need to be passed to the database.\n",
    "        \"\"\"\n",
    "        return updates\n",
    "    \n",
    "    \n",
    "    def run_all_strategies(self) -> None:\n",
    "        \"\"\"\n",
    "        Runs all ProcessingStrategies that were passed upon initialization (i.e. self.strategies).\n",
    "        For this, the corresponding ProcessingStrategy objects will be initialized and their \".run()\"\n",
    "        method will be called, while passing \"self\" as \"processing_object\". Finally, it updates the\n",
    "        database and deletes the ProcessingStrategy object to clear it from memory.\n",
    "        \"\"\"\n",
    "        for strategy in self.strategies:\n",
    "            processing_strategy = strategy()\n",
    "            self = processing_strategy.run(processing_object = self)\n",
    "            self = processing_strategy.update_database(processing_object = self)\n",
    "            del processing_strategy\n",
    "\n",
    "\n",
    "    def update_database(self) -> None:\n",
    "        \"\"\"\n",
    "        For each microscopy file that had to be processed (self.file_ids), the database\n",
    "        will be updated with the respective processing progress information. Interfaces\n",
    "        back to the abstract method \"self.add_processing_specific_infos_to_updates()\" that\n",
    "        enables the corresponding subclasses to add more specific details before triggering\n",
    "        the update method of the database.\n",
    "        \"\"\"\n",
    "        for file_id in self.file_ids:\n",
    "            updates = dict()\n",
    "            updates[f'{self.processing_type}_completed'] = True\n",
    "            updates = self.add_processing_specific_infos_to_updates(updates = updates)\n",
    "            self.database.update_file_infos(file_id = file_id, updates = updates)"
   ]
  },
  {
   "cell_type": "markdown",
   "metadata": {},
   "source": [
    "Subclasses that inherit from `ProcessingObject` need to implement the following two abstract methods:"
   ]
  },
  {
   "cell_type": "code",
   "execution_count": null,
   "metadata": {},
   "outputs": [
    {
     "data": {
      "text/markdown": [
       "---\n",
       "\n",
       "[source](https://github.com/Defense-Circuits-Lab/findmycells/blob/main/findmycells/core.py#L35){target=\"_blank\" style=\"float:right; font-size:smaller\"}\n",
       "\n",
       "### ProcessingObject.processing_type\n",
       "\n",
       ">      ProcessingObject.processing_type ()\n",
       "\n",
       "Abstract method that requires its subclasses to define the `processing_type`\n",
       "as a property of the class. Thus, this will be specified in each individual \n",
       "processing module (e.g. the \"preprocess\" or \"quantify\" modules). It will be used\n",
       "in the database to keep track of the processing progress of the project.\n",
       "Has to be a string."
      ],
      "text/plain": [
       "---\n",
       "\n",
       "[source](https://github.com/Defense-Circuits-Lab/findmycells/blob/main/findmycells/core.py#L35){target=\"_blank\" style=\"float:right; font-size:smaller\"}\n",
       "\n",
       "### ProcessingObject.processing_type\n",
       "\n",
       ">      ProcessingObject.processing_type ()\n",
       "\n",
       "Abstract method that requires its subclasses to define the `processing_type`\n",
       "as a property of the class. Thus, this will be specified in each individual \n",
       "processing module (e.g. the \"preprocess\" or \"quantify\" modules). It will be used\n",
       "in the database to keep track of the processing progress of the project.\n",
       "Has to be a string."
      ]
     },
     "execution_count": null,
     "metadata": {},
     "output_type": "execute_result"
    }
   ],
   "source": [
    "show_doc(ProcessingObject.processing_type)"
   ]
  },
  {
   "cell_type": "code",
   "execution_count": null,
   "metadata": {},
   "outputs": [
    {
     "data": {
      "text/markdown": [
       "---\n",
       "\n",
       "[source](https://github.com/Defense-Circuits-Lab/findmycells/blob/main/findmycells/core.py#L48){target=\"_blank\" style=\"float:right; font-size:smaller\"}\n",
       "\n",
       "### ProcessingObject.add_processing_specific_infos_to_updates\n",
       "\n",
       ">      ProcessingObject.add_processing_specific_infos_to_updates (updates:Dict)\n",
       "\n",
       "Abstract method that that requires its subclasses to define what updates need to be\n",
       "passed to the database, in addition to those that are already covered by the corresponding\n",
       "ProcessingStrategies or the \"self.update_database()\" method. If there are no more \n",
       "information to add, simply return the input 'updates' dictionary without any alterations.\n",
       "\n",
       "Returns a dictionary with all updates that need to be passed to the database.\n",
       "\n",
       "|    | **Type** | **Details** |\n",
       "| -- | -------- | ----------- |\n",
       "| updates | typing.Dict | A dictionary with updates that need to be passed to the database |\n",
       "| **Returns** | **typing.Dict** | **A dictionary with all updates that need to be passed to the database** |"
      ],
      "text/plain": [
       "---\n",
       "\n",
       "[source](https://github.com/Defense-Circuits-Lab/findmycells/blob/main/findmycells/core.py#L48){target=\"_blank\" style=\"float:right; font-size:smaller\"}\n",
       "\n",
       "### ProcessingObject.add_processing_specific_infos_to_updates\n",
       "\n",
       ">      ProcessingObject.add_processing_specific_infos_to_updates (updates:Dict)\n",
       "\n",
       "Abstract method that that requires its subclasses to define what updates need to be\n",
       "passed to the database, in addition to those that are already covered by the corresponding\n",
       "ProcessingStrategies or the \"self.update_database()\" method. If there are no more \n",
       "information to add, simply return the input 'updates' dictionary without any alterations.\n",
       "\n",
       "Returns a dictionary with all updates that need to be passed to the database.\n",
       "\n",
       "|    | **Type** | **Details** |\n",
       "| -- | -------- | ----------- |\n",
       "| updates | typing.Dict | A dictionary with updates that need to be passed to the database |\n",
       "| **Returns** | **typing.Dict** | **A dictionary with all updates that need to be passed to the database** |"
      ]
     },
     "execution_count": null,
     "metadata": {},
     "output_type": "execute_result"
    }
   ],
   "source": [
    "show_doc(ProcessingObject.add_processing_specific_infos_to_updates)"
   ]
  },
  {
   "cell_type": "markdown",
   "metadata": {},
   "source": [
    "In addition, `ProcessingObject` defines two core functions that will be called on all its subclasses, which are:"
   ]
  },
  {
   "cell_type": "code",
   "execution_count": null,
   "metadata": {},
   "outputs": [
    {
     "data": {
      "text/markdown": [
       "---\n",
       "\n",
       "[source](https://github.com/Defense-Circuits-Lab/findmycells/blob/main/findmycells/core.py#L62){target=\"_blank\" style=\"float:right; font-size:smaller\"}\n",
       "\n",
       "### ProcessingObject.run_all_strategies\n",
       "\n",
       ">      ProcessingObject.run_all_strategies ()\n",
       "\n",
       "Runs all ProcessingStrategies that were passed upon initialization (i.e. self.strategies).\n",
       "For this, the corresponding ProcessingStrategy objects will be initialized and their \".run()\"\n",
       "method will be called, while passing \"self\" as \"processing_object\". Finally, it updates the\n",
       "database and deletes the ProcessingStrategy object to clear it from memory."
      ],
      "text/plain": [
       "---\n",
       "\n",
       "[source](https://github.com/Defense-Circuits-Lab/findmycells/blob/main/findmycells/core.py#L62){target=\"_blank\" style=\"float:right; font-size:smaller\"}\n",
       "\n",
       "### ProcessingObject.run_all_strategies\n",
       "\n",
       ">      ProcessingObject.run_all_strategies ()\n",
       "\n",
       "Runs all ProcessingStrategies that were passed upon initialization (i.e. self.strategies).\n",
       "For this, the corresponding ProcessingStrategy objects will be initialized and their \".run()\"\n",
       "method will be called, while passing \"self\" as \"processing_object\". Finally, it updates the\n",
       "database and deletes the ProcessingStrategy object to clear it from memory."
      ]
     },
     "execution_count": null,
     "metadata": {},
     "output_type": "execute_result"
    }
   ],
   "source": [
    "show_doc(ProcessingObject.run_all_strategies)"
   ]
  },
  {
   "cell_type": "code",
   "execution_count": null,
   "metadata": {},
   "outputs": [
    {
     "data": {
      "text/markdown": [
       "---\n",
       "\n",
       "[source](https://github.com/Defense-Circuits-Lab/findmycells/blob/main/findmycells/core.py#L76){target=\"_blank\" style=\"float:right; font-size:smaller\"}\n",
       "\n",
       "### ProcessingObject.update_database\n",
       "\n",
       ">      ProcessingObject.update_database ()\n",
       "\n",
       "For each microscopy file that had to be processed (self.file_ids), the database\n",
       "will be updated with the respective processing progress information. Interfaces\n",
       "back to the abstract method \"self.add_processing_specific_infos_to_updates()\" that\n",
       "enables the corresponding subclasses to add more specific details before triggering\n",
       "the update method of the database."
      ],
      "text/plain": [
       "---\n",
       "\n",
       "[source](https://github.com/Defense-Circuits-Lab/findmycells/blob/main/findmycells/core.py#L76){target=\"_blank\" style=\"float:right; font-size:smaller\"}\n",
       "\n",
       "### ProcessingObject.update_database\n",
       "\n",
       ">      ProcessingObject.update_database ()\n",
       "\n",
       "For each microscopy file that had to be processed (self.file_ids), the database\n",
       "will be updated with the respective processing progress information. Interfaces\n",
       "back to the abstract method \"self.add_processing_specific_infos_to_updates()\" that\n",
       "enables the corresponding subclasses to add more specific details before triggering\n",
       "the update method of the database."
      ]
     },
     "execution_count": null,
     "metadata": {},
     "output_type": "execute_result"
    }
   ],
   "source": [
    "show_doc(ProcessingObject.update_database)"
   ]
  },
  {
   "cell_type": "code",
   "execution_count": null,
   "metadata": {},
   "outputs": [],
   "source": [
    "#| export\n",
    "\n",
    "class ProcessingStrategy(ABC):\n",
    "    \n",
    "    \"\"\"\n",
    "    Abstract base class that defines the general structure of `ProcessingStrategies` in findmycells.\n",
    "    A `ProcessingStrategy` combines all functions that are required for one particular processing step, \n",
    "    e.g. `ConvertTo8Bit` is a `ProcessingStrategy` in the \"preprocess\" module and converts the corresponding\n",
    "    images into 8-bit.\n",
    "    \"\"\"\n",
    "\n",
    "    @property\n",
    "    @abstractmethod\n",
    "    def processing_type(self):\n",
    "        # has to be any of these: 'preprocessing', 'segmentation', 'quantification', 'inspection'\n",
    "        pass\n",
    "\n",
    "\n",
    "    @abstractmethod\n",
    "    def run(self, processing_object: ProcessingObject) -> ProcessingObject:\n",
    "        # process the processing_object\n",
    "        return processing_object\n",
    "\n",
    "    \n",
    "    @abstractmethod\n",
    "    def add_strategy_specific_infos_to_updates(self, updates: Dict) -> Dict:\n",
    "        # add all ProcessingStrategy specifc information to the update dictionary\n",
    "        # or simply return updates right away if there are no information to add\n",
    "        return updates\n",
    "    def update_database(self, processing_object: ProcessingObject) -> ProcessingObject:\n",
    "        for file_id in processing_object.file_ids:\n",
    "            updates = dict()\n",
    "            step_index = self.determine_correct_step_index(database = processing_object.database, file_id = file_id)\n",
    "            updates[f'{self.processing_type}_step_{str(step_index).zfill(2)}'] = self.strategy_name\n",
    "            updates = self.add_strategy_specific_infos_to_updates(updates = updates)\n",
    "            processing_object.database.update_file_infos(file_id = file_id, updates = updates)\n",
    "        return processing_object\n",
    "\n",
    "\n",
    "    @property\n",
    "    def strategy_name(self):\n",
    "        return self.__class__.__name__ \n",
    "            \n",
    "    \n",
    "    def determine_correct_step_index(self, database: Database, file_id: str) -> int:\n",
    "        file_infos = database.get_file_infos(identifier = file_id)\n",
    "        previous_step_indices_of_same_processing_type = []\n",
    "        for key, value in file_infos.items():\n",
    "            if f'{self.processing_type}_step_' in key:\n",
    "                if value != None: # to ensure that this file_id was actually already processed\n",
    "                    step_index = int(key[key.rfind('_') + 1 :])\n",
    "                    previous_step_indices_of_same_processing_type.append(step_index)\n",
    "        if len(previous_step_indices_of_same_processing_type) > 0:\n",
    "            correct_step_index = max(previous_step_indices_of_same_processing_type) + 1\n",
    "        else:\n",
    "            correct_step_index = 0\n",
    "        return correct_step_index"
   ]
  },
  {
   "cell_type": "markdown",
   "metadata": {},
   "source": [
    "Furthermore, the following two classes `DataLoader` and `DataReader` will be re-used throughout the *findmycells* package to load data into your *findmycells* project."
   ]
  },
  {
   "cell_type": "code",
   "execution_count": null,
   "metadata": {},
   "outputs": [],
   "source": [
    "#| export\n",
    "\n",
    "class DataReader(ABC):\n",
    "    \n",
    "    \"\"\"\n",
    "    Abstract base class that defines the general structure of DataReader subclasses.\n",
    "    Essentially, it demands the corresponding subclasses to define the \"readable_filetype_extensions\" \n",
    "    attribut, as well as the \"set_optional_configs()\" and the \"read()\" methods.\n",
    "    \"\"\"\n",
    "    \n",
    "    @property\n",
    "    @abstractmethod\n",
    "    def readable_filetype_extensions(self) -> List[str]:\n",
    "        \"\"\"\n",
    "        Property that will denote which filetype extensions the respective DataReader subclass can handle.\n",
    "        \"\"\"\n",
    "        pass\n",
    "    \n",
    "    \n",
    "    @property\n",
    "    @abstractmethod\n",
    "    def key_to_configs_attribute_in_database(self) -> str:\n",
    "        \"\"\"\n",
    "        Property that will specify the key under which the corresponding configs can be found in the project configs,\n",
    "        for instance \"MicroscopyImageReader_configs\". Will be specified in the DataReader subclass in each DataReader\n",
    "        module, from which all correpsonding DataReaders of this subclass will inherit from.\n",
    "        \"\"\"\n",
    "        pass\n",
    "    \n",
    "    \n",
    "    @property\n",
    "    @abstractmethod\n",
    "    def default_config_values(self) -> Dict[str, Any]:\n",
    "        \"\"\"\n",
    "        Property that will specify all configs that apply to the specific DataReader subclass.\n",
    "        \"\"\"\n",
    "        pass\n",
    "\n",
    "\n",
    "    @property\n",
    "    @abstractmethod\n",
    "    def default_config_value_types(self) -> Dict[str, List]:\n",
    "        \"\"\"\n",
    "        Property that will specify the types of each configs value.\n",
    "        \"\"\"\n",
    "        pass\n",
    "    \n",
    "    \n",
    "    @abstractmethod\n",
    "    def read(self, filepath: Path, database: Database) -> Any:\n",
    "        \"\"\"\n",
    "        This method eventually reads the data stored at the given filepath applying the specified configs.\n",
    "        The returned datatype will be different for each DataReader subclass, e.g. a numpy array of a specific\n",
    "        shape for MicroscopyImageReaders, or a shapely Polygon for ROIReaders.\n",
    "        \"\"\"\n",
    "        pass\n",
    "    \n",
    "    \n",
    "    @abstractmethod\n",
    "    def assert_correct_output_format(self, output: Any) -> None:\n",
    "        \"\"\"\n",
    "        Run an assert to validate that the data was actually read in the correct way and that the created output\n",
    "        matches the intended format!\n",
    "        \"\"\"\n",
    "        pass\n",
    "    \n",
    "\n",
    "    def set_optional_configs(self, database: Database) -> None:\n",
    "        \"\"\"\n",
    "        For some data it will be important for the user to be able to specify additional configurations, like \n",
    "        for instance which color channel should be read, loaded, and eventually analyzed for microscopy images.\n",
    "        These settings will be saved in the 'optional_configs' section of the `Database` of the project under\n",
    "        the corresponding key, which is, again, specific for each of the data types and will be defined in each\n",
    "        DataReader subclass (e.g. 'MicroscopyImageReader_configs' for all DataReaders that handle microscopy\n",
    "        image data). Via the '_set_defaults_for_unspecified_or_invalid_configs()' method, missing values will\n",
    "        be filled with default values (defined in 'self.default_config_values') and the types of all user\n",
    "        specified values will be confirmed (as defined in 'self.default_config_value_types').\n",
    "        \"\"\"\n",
    "        configs = database['optional_configs'][self.key_to_configs_attribute_in_database]\n",
    "        if type(configs) == dict:\n",
    "            if len(configs.keys) > 0:\n",
    "                for key, value in configs.items():\n",
    "                    setattr(self, key, value)\n",
    "        self._set_defaults_for_unspecified_or_invalid_configs()\n",
    "    \n",
    "\n",
    "    def _set_defaults_for_unspecified_or_invalid_configs(self) -> None:\n",
    "        for key, default_value in self.default_config_values.items():\n",
    "            if hasattr(self, key):\n",
    "                specified_value = getattr(self, key)\n",
    "                if type(specified_value) not in self.default_config_value_types[key]:\n",
    "                    raise ValueError(f'The type of the value you specified as {key} in the {self.key_to_configs_attribute_in_database} '\n",
    "                                     f'does not match the expected type. Your specified value was: {specified_value}, which is of type: '\n",
    "                                     f'{type(specified_value)}, while the default value is: {default_value}, which is of type: '\n",
    "                                     f'{type(default_value)}.')\n",
    "            else:\n",
    "                setattr(self, key, default_value)"
   ]
  },
  {
   "cell_type": "code",
   "execution_count": null,
   "metadata": {},
   "outputs": [],
   "source": [
    "#| export\n",
    "\n",
    "class DataLoader:\n",
    "    \n",
    "    def determine_reader(self, file_extension: str, data_reader_module: ModuleType) -> DataReader:\n",
    "        available_reader = None\n",
    "        for name, data_reader in inspect.getmembers(data_reader_module):\n",
    "            if name.endswith('Reader'):\n",
    "                if file_extension in data_reader().readable_filetype_extensions:\n",
    "                    available_reader = obj\n",
    "        if available_reader == None:\n",
    "            raise NotImplementedError(f'Unfortunately, there is no DataReader implemented in {data_reader_module} '\n",
    "                                      f'which can handle your filetype (\"{file_extension}\").')\n",
    "        return available_reader\n",
    "    \n",
    "    \n",
    "    def load(self, data_reader_class: DataReader, filepath: Path, database: Database) -> Any:\n",
    "        data_reader = data_reader_class()\n",
    "        data_reader.set_optional_configs(database = database)\n",
    "        data = data_reader.read(filepath = filepath, database = databse)\n",
    "        data_reader.assert_correct_output_format(output = data)\n",
    "        return data                 "
   ]
  },
  {
   "cell_type": "code",
   "execution_count": null,
   "metadata": {},
   "outputs": [],
   "source": [
    "#| hide\n",
    "import nbdev; nbdev.nbdev_export()"
   ]
  }
 ],
 "metadata": {
  "kernelspec": {
   "display_name": "Python 3 (ipykernel)",
   "language": "python",
   "name": "python3"
  }
 },
 "nbformat": 4,
 "nbformat_minor": 4
}
