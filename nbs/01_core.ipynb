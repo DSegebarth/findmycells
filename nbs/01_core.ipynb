{
 "cells": [
  {
   "cell_type": "markdown",
   "metadata": {},
   "source": [
    "# core\n",
    "\n",
    "> Defines structure of ProcessingStrategies and ProcessingObjects:"
   ]
  },
  {
   "cell_type": "code",
   "execution_count": null,
   "metadata": {},
   "outputs": [],
   "source": [
    "#| default_exp core"
   ]
  },
  {
   "cell_type": "markdown",
   "metadata": {},
   "source": [
    "The following two classes, `ProcessingObject` and `ProcessingStrategy`, provide the blueprint for all processing strategies and objects that are used throughout the *findmycells* package. As you can see in the corresponding processing step modules (i.e. \"preprocess\", \"segment\", or \"quantify\"), these abstract base classes provide the basic structure of the more specific objects and strategies in each of these modules (i.e. `QuantificationObject` and `QuantificationStrategy` within the \"quantify\" module inherit from `ProcessingObject` and `ProcessingStrategy`, respectively). This makes these two classes of course highly relevant for any developer, but not so much for users, even if they want to use the API instead of the GUI."
   ]
  },
  {
   "cell_type": "code",
   "execution_count": null,
   "metadata": {},
   "outputs": [],
   "source": [
    "#| hide\n",
    "from nbdev.showdoc import *"
   ]
  },
  {
   "cell_type": "code",
   "execution_count": null,
   "metadata": {},
   "outputs": [],
   "source": [
    "#| export\n",
    "\n",
    "from abc import ABC, abstractmethod\n",
    "from findmycells.database import Database\n",
    "from typing import List, Dict"
   ]
  },
  {
   "cell_type": "code",
   "execution_count": null,
   "metadata": {},
   "outputs": [],
   "source": [
    "#| export\n",
    "\n",
    "class ProcessingObject(ABC):\n",
    "    \n",
    "    \"\"\"\n",
    "    Abstract base class that defines the general structure of `ProcessingObjects` in findmycells.\n",
    "    A `ProcessingObject` combines all information needed for the corresponding processing step, \n",
    "    i.e. what files are supposed to be processed & how. It also interfaces to the database of the\n",
    "    project, such that it can automatically update the database with the latest progress.\n",
    "    \"\"\"\n",
    "    \n",
    "    def __init__(self, database: Database, file_ids: List, strategies: List) -> None:\n",
    "        self.database = database\n",
    "        self.file_ids = file_ids\n",
    "        self.strategies = strategies # strategies is a list of ProcessingStrategies (can of course also be just a single strategy)\n",
    "        # additional attributes can be added in the respective subclasses\n",
    "\n",
    "    @property\n",
    "    @abstractmethod\n",
    "    def processing_type(self):\n",
    "        # has to be any of these: 'preprocessing', 'segmentation', 'quantification', 'inspection'\n",
    "        pass\n",
    "\n",
    "\n",
    "    @abstractmethod\n",
    "    def add_processing_specific_infos_to_updates(self, updates: Dict) -> Dict:\n",
    "        # add all additional ProcessingObject specifc information to the update dictionary,\n",
    "        # which is not already covered in the individual ProcessingStrategies.\n",
    "        # Or simply return updates right away if there are no information to add\n",
    "        return updates\n",
    "    \n",
    "    \n",
    "    def run_all_strategies(self) -> None:\n",
    "        for strategy in self.strategies:\n",
    "            processing_strategy = strategy()\n",
    "            self = processing_strategy.run(processing_object = self)\n",
    "            self = processing_strategy.update_database(processing_object = self)\n",
    "            del processing_strategy\n",
    "\n",
    "\n",
    "    def update_database(self) -> None:\n",
    "        for file_id in self.file_ids:\n",
    "            updates = dict()\n",
    "            updates[f'{self.processing_type}_completed'] = True\n",
    "            updates = self.add_processing_specific_infos_to_updates(updates = updates)\n",
    "            self.database.update_file_infos(file_id = file_id, updates = updates)"
   ]
  },
  {
   "cell_type": "code",
   "execution_count": null,
   "metadata": {},
   "outputs": [],
   "source": [
    "#| export\n",
    "\n",
    "class ProcessingStrategy(ABC):\n",
    "    \n",
    "    \"\"\"\n",
    "    Abstract base class that defines the general structure of `ProcessingStrategies` in findmycells.\n",
    "    A `ProcessingStrategy` combines all functions that are required for one particular processing step, \n",
    "    e.g. `ConvertTo8Bit` is a `ProcessingStrategy` in the \"preprocess\" module and converts the corresponding\n",
    "    images into 8-bit.\n",
    "    \"\"\"\n",
    "\n",
    "    @property\n",
    "    @abstractmethod\n",
    "    def processing_type(self):\n",
    "        # has to be any of these: 'preprocessing', 'segmentation', 'quantification', 'inspection'\n",
    "        pass\n",
    "\n",
    "\n",
    "    @abstractmethod\n",
    "    def run(self, processing_object: ProcessingObject) -> ProcessingObject:\n",
    "        # process the processing_object\n",
    "        return processing_object\n",
    "\n",
    "    \n",
    "    @abstractmethod\n",
    "    def add_strategy_specific_infos_to_updates(self, updates: Dict) -> Dict:\n",
    "        # add all ProcessingStrategy specifc information to the update dictionary\n",
    "        # or simply return updates right away if there are no information to add\n",
    "        return updates\n",
    "    def update_database(self, processing_object: ProcessingObject) -> ProcessingObject:\n",
    "        for file_id in processing_object.file_ids:\n",
    "            updates = dict()\n",
    "            step_index = self.determine_correct_step_index(database = processing_object.database, file_id = file_id)\n",
    "            updates[f'{self.processing_type}_step_{str(step_index).zfill(2)}'] = self.strategy_name\n",
    "            updates = self.add_strategy_specific_infos_to_updates(updates = updates)\n",
    "            processing_object.database.update_file_infos(file_id = file_id, updates = updates)\n",
    "        return processing_object\n",
    "\n",
    "\n",
    "    @property\n",
    "    def strategy_name(self):\n",
    "        return self.__class__.__name__ \n",
    "            \n",
    "    \n",
    "    def determine_correct_step_index(self, database: Database, file_id: str) -> int:\n",
    "        file_infos = database.get_file_infos(identifier = file_id)\n",
    "        previous_step_indices_of_same_processing_type = []\n",
    "        for key, value in file_infos.items():\n",
    "            if f'{self.processing_type}_step_' in key:\n",
    "                if value != None: # to ensure that this file_id was actually already processed\n",
    "                    step_index = int(key[key.rfind('_') + 1 :])\n",
    "                    previous_step_indices_of_same_processing_type.append(step_index)\n",
    "        if len(previous_step_indices_of_same_processing_type) > 0:\n",
    "            correct_step_index = max(previous_step_indices_of_same_processing_type) + 1\n",
    "        else:\n",
    "            correct_step_index = 0\n",
    "        return correct_step_index"
   ]
  },
  {
   "cell_type": "code",
   "execution_count": null,
   "metadata": {},
   "outputs": [],
   "source": [
    "#| hide\n",
    "import nbdev; nbdev.nbdev_export()"
   ]
  }
 ],
 "metadata": {
  "kernelspec": {
   "display_name": "Python 3 (ipykernel)",
   "language": "python",
   "name": "python3"
  }
 },
 "nbformat": 4,
 "nbformat_minor": 4
}
