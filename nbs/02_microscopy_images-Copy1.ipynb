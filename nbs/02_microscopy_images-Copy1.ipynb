{
 "cells": [
  {
   "cell_type": "markdown",
   "metadata": {},
   "source": [
    "# data_readers\n",
    "\n",
    "> This module contains all code responsible for reading microscopy images and region-of-interest files:"
   ]
  },
  {
   "cell_type": "code",
   "execution_count": null,
   "metadata": {},
   "outputs": [],
   "source": [
    "#| default_exp data_readers"
   ]
  },
  {
   "cell_type": "code",
   "execution_count": null,
   "metadata": {},
   "outputs": [],
   "source": [
    "#| hide\n",
    "from nbdev.showdoc import *"
   ]
  },
  {
   "cell_type": "markdown",
   "metadata": {},
   "source": [
    "Imaging softwares, especially proprietary ones, produce a vast variety of filetypes. Likewise, you can also have your region-of-interest annotations in various different formats. This module is here to help you get all your data properly read, while the actual interface to the remaining modules, i.e. the `DataLoader`s can be found in the \"data_loaders\" module. This makes it easy to add more `DataReader` subclasses for additional input formats, while the `DataLoader` classes don´t have to be adjusted. For this to work the `DataReader` subclasses have to define what filetype extension they can read. This will be done via the `.readable_filetype_extensions` attribute as described below."
   ]
  },
  {
   "cell_type": "code",
   "execution_count": null,
   "metadata": {},
   "outputs": [],
   "source": [
    "#| export\n",
    "\n",
    "from abc import ABC, abstractmethod\n",
    "import os\n",
    "from pathlib import Path\n",
    "import numpy as np\n",
    "import pandas as pd\n",
    "import czifile\n",
    "from skimage.io import imread"
   ]
  },
  {
   "cell_type": "code",
   "execution_count": null,
   "metadata": {},
   "outputs": [],
   "source": [
    "#| export\n",
    "\n",
    "class DataReader(ABC):\n",
    "    \n",
    "    \"\"\"\n",
    "    Abstract base class that defines the general structure of DataReader subclasses.\n",
    "    Essentially, it demands the corresponding subclasses to define the \"datatype\" and\n",
    "    the \"readable_filetype_extensions\" attributes, as well as the \"read()\" method.\n",
    "    \"\"\"\n",
    "    \n",
    "    @property\n",
    "    @abstractmethod\n",
    "    def datatype(self) -> str:\n",
    "        \"\"\"\n",
    "        Property that will be used to filter the DataReader subclasses by datatype they can handle, \n",
    "        e.g. \"microscopy_images\" or \"roi_files\".\n",
    "        \"\"\"\n",
    "        pass\n",
    "    \n",
    "    \n",
    "    @property\n",
    "    @abstractmethod\n",
    "    def readable_filetype_extensions(self) -> List[str]:\n",
    "        \"\"\"\n",
    "        Property that will denote which filetype extensions the respective DataReader subclass can handle.\n",
    "        \"\"\"\n",
    "        pass\n",
    "    \n",
    "    @abstractmethod\n",
    "    def read(self, filepath: Path):\n",
    "        pass"
   ]
  },
  {
   "cell_type": "code",
   "execution_count": null,
   "metadata": {},
   "outputs": [],
   "source": [
    "#| export\n",
    "\n",
    "class MicroscopyImageReader(DataReader):\n",
    "    \n",
    "    \"\"\"\n",
    "    The read method of MicroscopyImageReader subclasses has to return a numpy array with the following structure:\n",
    "    [imaging-planes, rows, columns, imaging-channel] \n",
    "    For instance, the shape of the array of a RGB Zstack with 10 image planes and 1024x1024 pixels would look like:\n",
    "    [10, 1024, 1024, 3]\n",
    "    To improve re-usability of the same functions for all different kinds of input images, this structure will be used even if there is just a single plane. \n",
    "    For instance, the shape of the array of a grayscale 2D image with 1024 x 1024 pixels should look like this:\n",
    "    [1, 1024, 1024, 1]    \n",
    "    \"\"\"\n",
    "    \n",
    "    def datatype(self) -> str:\n",
    "        return 'microscopy_images'\n"
   ]
  },
  {
   "cell_type": "markdown",
   "metadata": {},
   "source": [
    "Currently, there are the following MicroscopyImageReader subclasses implemented:"
   ]
  },
  {
   "cell_type": "code",
   "execution_count": null,
   "metadata": {},
   "outputs": [],
   "source": [
    "#| export\n",
    "class CZIReader(MicroscopyImageReader):\n",
    "    \n",
    "    \"\"\"\n",
    "    This reader enables loading of images acquired with the ZEN imaging software by Zeiss, using the czifile package.\n",
    "    \"\"\"\n",
    "    def read(self,\n",
    "             filepath: Path # filepath to the microscopy image file\n",
    "            ) -> np.ndarray: # numpy array with the structure: [imaging-planes, rows, columns, imaging-channel]\n",
    "        return czifile.imread(filepath.as_posix())[0, 0, 0]"
   ]
  },
  {
   "cell_type": "code",
   "execution_count": null,
   "metadata": {},
   "outputs": [
    {
     "data": {
      "text/markdown": [
       "---\n",
       "\n",
       "[source](https://github.com/Defense-Circuits-Lab/findmycells/blob/main/findmycells/microscopy_images.py#L43){target=\"_blank\" style=\"float:right; font-size:smaller\"}\n",
       "\n",
       "### CZIReader.read\n",
       "\n",
       ">      CZIReader.read (filepath:pathlib.Path)\n",
       "\n",
       "Abstract method that needs to be defined by the respective subclass\n",
       "Returns the microscopy image as np.ndarray with structure: [imaging-planes, rows, columns, imaging-channel] \n",
       "For instance, the shape of the array of a RGB Zstack with 10 image planes and 1024x1024 pixels would look like:\n",
       "[10, 1024, 1024, 3]\n",
       "To improve re-usability of the same functions for all different kinds of input images, this structure will be used even if there is just a single plane. \n",
       "For instance, the shape of the array of a grayscale 2D image with 1024 x 1024 pixels should look like this:\n",
       "[1, 1024, 1024, 1]\n",
       "\n",
       "|    | **Type** | **Details** |\n",
       "| -- | -------- | ----------- |\n",
       "| filepath | Path | filepath to the microscopy image file |\n",
       "| **Returns** | **ndarray** | **numpy array with the structure: [imaging-planes, rows, columns, imaging-channel]** |"
      ],
      "text/plain": [
       "---\n",
       "\n",
       "[source](https://github.com/Defense-Circuits-Lab/findmycells/blob/main/findmycells/microscopy_images.py#L43){target=\"_blank\" style=\"float:right; font-size:smaller\"}\n",
       "\n",
       "### CZIReader.read\n",
       "\n",
       ">      CZIReader.read (filepath:pathlib.Path)\n",
       "\n",
       "Abstract method that needs to be defined by the respective subclass\n",
       "Returns the microscopy image as np.ndarray with structure: [imaging-planes, rows, columns, imaging-channel] \n",
       "For instance, the shape of the array of a RGB Zstack with 10 image planes and 1024x1024 pixels would look like:\n",
       "[10, 1024, 1024, 3]\n",
       "To improve re-usability of the same functions for all different kinds of input images, this structure will be used even if there is just a single plane. \n",
       "For instance, the shape of the array of a grayscale 2D image with 1024 x 1024 pixels should look like this:\n",
       "[1, 1024, 1024, 1]\n",
       "\n",
       "|    | **Type** | **Details** |\n",
       "| -- | -------- | ----------- |\n",
       "| filepath | Path | filepath to the microscopy image file |\n",
       "| **Returns** | **ndarray** | **numpy array with the structure: [imaging-planes, rows, columns, imaging-channel]** |"
      ]
     },
     "execution_count": null,
     "metadata": {},
     "output_type": "execute_result"
    }
   ],
   "source": [
    "#show_doc(CZIReader.read)"
   ]
  },
  {
   "cell_type": "code",
   "execution_count": null,
   "metadata": {},
   "outputs": [],
   "source": [
    "#| export\n",
    "class RegularImageFiletypeReader(MicroscopyImageReader):\n",
    "    \n",
    "    \"\"\"\n",
    "    This reader enables loading of all regular image filetypes, that scikit-image can read, using the scikit-image.io.imread function.\n",
    "    \"\"\"\n",
    "    def read(self,\n",
    "             filepath: Path # filepath to the microscopy image file\n",
    "            ) -> np.ndarray: # numpy array with the structure: [imaging-planes, rows, columns, imaging-channel]\n",
    "        single_plane_image = imread(filepath)\n",
    "        return np.expand_dims(single_plane_image, axis=[0, -1])"
   ]
  },
  {
   "cell_type": "code",
   "execution_count": null,
   "metadata": {},
   "outputs": [
    {
     "data": {
      "text/markdown": [
       "---\n",
       "\n",
       "[source](https://github.com/Defense-Circuits-Lab/findmycells/blob/main/findmycells/microscopy_images.py#L54){target=\"_blank\" style=\"float:right; font-size:smaller\"}\n",
       "\n",
       "### RegularImageFiletypeReader.read\n",
       "\n",
       ">      RegularImageFiletypeReader.read (filepath:pathlib.Path)\n",
       "\n",
       "Abstract method that needs to be defined by the respective subclass\n",
       "Returns the microscopy image as np.ndarray with structure: [imaging-planes, rows, columns, imaging-channel] \n",
       "For instance, the shape of the array of a RGB Zstack with 10 image planes and 1024x1024 pixels would look like:\n",
       "[10, 1024, 1024, 3]\n",
       "To improve re-usability of the same functions for all different kinds of input images, this structure will be used even if there is just a single plane. \n",
       "For instance, the shape of the array of a grayscale 2D image with 1024 x 1024 pixels should look like this:\n",
       "[1, 1024, 1024, 1]\n",
       "\n",
       "|    | **Type** | **Details** |\n",
       "| -- | -------- | ----------- |\n",
       "| filepath | Path | filepath to the microscopy image file |\n",
       "| **Returns** | **ndarray** | **numpy array with the structure: [imaging-planes, rows, columns, imaging-channel]** |"
      ],
      "text/plain": [
       "---\n",
       "\n",
       "[source](https://github.com/Defense-Circuits-Lab/findmycells/blob/main/findmycells/microscopy_images.py#L54){target=\"_blank\" style=\"float:right; font-size:smaller\"}\n",
       "\n",
       "### RegularImageFiletypeReader.read\n",
       "\n",
       ">      RegularImageFiletypeReader.read (filepath:pathlib.Path)\n",
       "\n",
       "Abstract method that needs to be defined by the respective subclass\n",
       "Returns the microscopy image as np.ndarray with structure: [imaging-planes, rows, columns, imaging-channel] \n",
       "For instance, the shape of the array of a RGB Zstack with 10 image planes and 1024x1024 pixels would look like:\n",
       "[10, 1024, 1024, 3]\n",
       "To improve re-usability of the same functions for all different kinds of input images, this structure will be used even if there is just a single plane. \n",
       "For instance, the shape of the array of a grayscale 2D image with 1024 x 1024 pixels should look like this:\n",
       "[1, 1024, 1024, 1]\n",
       "\n",
       "|    | **Type** | **Details** |\n",
       "| -- | -------- | ----------- |\n",
       "| filepath | Path | filepath to the microscopy image file |\n",
       "| **Returns** | **ndarray** | **numpy array with the structure: [imaging-planes, rows, columns, imaging-channel]** |"
      ]
     },
     "execution_count": null,
     "metadata": {},
     "output_type": "execute_result"
    }
   ],
   "source": [
    "#show_doc(RegularImageFiletypeReader.read)"
   ]
  },
  {
   "cell_type": "code",
   "execution_count": null,
   "metadata": {},
   "outputs": [],
   "source": [
    "#| export\n",
    "class FromExcel(MicroscopyImageReader):\n",
    "    \n",
    "    \"\"\"\n",
    "    This reader is actually only a wrapper to the other MicroscopyImageReader subclasses. It can be used if you stored the filepaths\n",
    "    to your individual plane images in an excel sheet, for instance if you were using our \"prepare my data for findmycells\" functions.\n",
    "    Please be aware that the corresponding datatype has to be loadable with any of the corresponding MicroscopyImageReaders!\n",
    "    \"\"\"\n",
    "    # should actually again check which loaded is applicable! Could be any!\n",
    "    def read(self,\n",
    "             filepath: Path # filepath to the excel sheet that contains the filepaths to the corresponding image files\n",
    "            ) -> np.ndarray: # numpy array with the structure: [imaging-planes, rows, columns, imaging-channel]\n",
    "        df_single_plane_filepaths = pd.read_excel(filepath)\n",
    "        single_plane_images = []\n",
    "        for row_index in range(df_single_plane_filepaths.shape[0]):\n",
    "            single_plane_image_filepath = df_single_plane_filepaths['plane_filepath'].iloc[row_index]\n",
    "            single_plane_images.append(imread(single_plane_image_filepath))\n",
    "        return np.stack(single_plane_images)"
   ]
  },
  {
   "cell_type": "code",
   "execution_count": null,
   "metadata": {},
   "outputs": [
    {
     "data": {
      "text/markdown": [
       "---\n",
       "\n",
       "[source](https://github.com/Defense-Circuits-Lab/findmycells/blob/main/findmycells/microscopy_images.py#L69){target=\"_blank\" style=\"float:right; font-size:smaller\"}\n",
       "\n",
       "### FromExcel.read\n",
       "\n",
       ">      FromExcel.read (filepath:pathlib.Path)\n",
       "\n",
       "Abstract method that needs to be defined by the respective subclass\n",
       "Returns the microscopy image as np.ndarray with structure: [imaging-planes, rows, columns, imaging-channel] \n",
       "For instance, the shape of the array of a RGB Zstack with 10 image planes and 1024x1024 pixels would look like:\n",
       "[10, 1024, 1024, 3]\n",
       "To improve re-usability of the same functions for all different kinds of input images, this structure will be used even if there is just a single plane. \n",
       "For instance, the shape of the array of a grayscale 2D image with 1024 x 1024 pixels should look like this:\n",
       "[1, 1024, 1024, 1]\n",
       "\n",
       "|    | **Type** | **Details** |\n",
       "| -- | -------- | ----------- |\n",
       "| filepath | Path | filepath to the excel sheet that contains the filepaths to the corresponding image files |\n",
       "| **Returns** | **ndarray** | **numpy array with the structure: [imaging-planes, rows, columns, imaging-channel]** |"
      ],
      "text/plain": [
       "---\n",
       "\n",
       "[source](https://github.com/Defense-Circuits-Lab/findmycells/blob/main/findmycells/microscopy_images.py#L69){target=\"_blank\" style=\"float:right; font-size:smaller\"}\n",
       "\n",
       "### FromExcel.read\n",
       "\n",
       ">      FromExcel.read (filepath:pathlib.Path)\n",
       "\n",
       "Abstract method that needs to be defined by the respective subclass\n",
       "Returns the microscopy image as np.ndarray with structure: [imaging-planes, rows, columns, imaging-channel] \n",
       "For instance, the shape of the array of a RGB Zstack with 10 image planes and 1024x1024 pixels would look like:\n",
       "[10, 1024, 1024, 3]\n",
       "To improve re-usability of the same functions for all different kinds of input images, this structure will be used even if there is just a single plane. \n",
       "For instance, the shape of the array of a grayscale 2D image with 1024 x 1024 pixels should look like this:\n",
       "[1, 1024, 1024, 1]\n",
       "\n",
       "|    | **Type** | **Details** |\n",
       "| -- | -------- | ----------- |\n",
       "| filepath | Path | filepath to the excel sheet that contains the filepaths to the corresponding image files |\n",
       "| **Returns** | **ndarray** | **numpy array with the structure: [imaging-planes, rows, columns, imaging-channel]** |"
      ]
     },
     "execution_count": null,
     "metadata": {},
     "output_type": "execute_result"
    }
   ],
   "source": [
    "show_doc(FromExcel.read)"
   ]
  },
  {
   "cell_type": "markdown",
   "metadata": {},
   "source": [
    "While the `MicroscopyImageReader` subclasses defined above are actually doing the job of reading your images, the following `MicroscopyImageLoader` provides the interface to the remaining modules:"
   ]
  },
  {
   "cell_type": "code",
   "execution_count": null,
   "metadata": {},
   "outputs": [],
   "source": [
    "#| export\n",
    "class MicroscopyImageLoader:\n",
    "    \n",
    "    def __init__(self, filepath: Path, filetype: str):\n",
    "        self.filepath = filepath\n",
    "        self.reader = self.determine_reader(filetype = filetype)\n",
    "    \n",
    "    def determine_reader(self, filetype: str) -> MicroscopyImageReader:\n",
    "        if filetype == '.czi':\n",
    "            reader = CZIReader()\n",
    "        elif filetype in ['.png', '.PNG']: #add more that are applicable!\n",
    "            reader = RegularImageFiletypeReader()\n",
    "        elif filetype == '.xlsx':\n",
    "            reader = FromExcel()\n",
    "        else:\n",
    "            message_part1 = 'The microscopy image format you are trying to load is not implemented yet.'\n",
    "            message_part2 = 'Please consider raising an issue in our GitHub repository!'\n",
    "            full_message = message_part1 + message_part2\n",
    "            raise ValueError(full_message)\n",
    "        return reader\n",
    "    \n",
    "    def as_array(self):\n",
    "        return self.reader.read(filepath = self.filepath)"
   ]
  },
  {
   "cell_type": "code",
   "execution_count": null,
   "metadata": {},
   "outputs": [],
   "source": [
    "#| hide\n",
    "import nbdev; nbdev.nbdev_export()"
   ]
  }
 ],
 "metadata": {
  "kernelspec": {
   "display_name": "Python 3 (ipykernel)",
   "language": "python",
   "name": "python3"
  }
 },
 "nbformat": 4,
 "nbformat_minor": 4
}
