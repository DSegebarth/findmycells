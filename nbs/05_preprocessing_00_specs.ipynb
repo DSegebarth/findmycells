{
 "cells": [
  {
   "cell_type": "markdown",
   "id": "04a60ece-55a9-4bc1-9aad-f1fd99baa522",
   "metadata": {},
   "source": [
    "# Specifications of preprocessing specific subclasses\n",
    "\n",
    "> This module defines the specifications of preprocessing related subclasses of `ProcessingStrategy` and `ProcessingObject`"
   ]
  },
  {
   "cell_type": "code",
   "execution_count": null,
   "id": "09060c64-256d-47d4-9135-c5ff04743ed5",
   "metadata": {},
   "outputs": [],
   "source": [
    "#| default_exp preprocessing/specs"
   ]
  },
  {
   "cell_type": "code",
   "execution_count": null,
   "id": "7d5488b7-58b0-4859-a46e-c9745c522be3",
   "metadata": {},
   "outputs": [],
   "source": [
    "#| export\n",
    "\n",
    "import numpy as np\n",
    "from shapely.geometry import Polygon\n",
    "from typing import List, Dict\n",
    "from skimage.io import imsave\n",
    "\n",
    "from findmycells.core import ProcessingObject, ProcessingStrategy, DataLoader\n",
    "from findmycells.database import Database\n",
    "from findmycells import readers"
   ]
  },
  {
   "cell_type": "code",
   "execution_count": null,
   "id": "e6260428-0470-4f47-9cb5-ad14c968e9a8",
   "metadata": {},
   "outputs": [],
   "source": [
    "#| hide\n",
    "from nbdev.showdoc import *"
   ]
  },
  {
   "cell_type": "code",
   "execution_count": null,
   "id": "d37f23db-b2b0-4c01-b3fc-32b54efc01f9",
   "metadata": {},
   "outputs": [],
   "source": [
    "#| export\n",
    "\n",
    "class PreprocessingStrategy(ProcessingStrategy):\n",
    "    \n",
    "    \"\"\"\n",
    "    Extending the `ProcssingStrategy` base class for preprocessing as processing subtype.\n",
    "    \"\"\"\n",
    "    \n",
    "    @property\n",
    "    def processing_type(self):\n",
    "        return 'preprocessing'"
   ]
  },
  {
   "cell_type": "code",
   "execution_count": null,
   "id": "67a46019-0852-4a63-87e6-d304e9fb14f7",
   "metadata": {},
   "outputs": [],
   "source": [
    "#| export\n",
    "\n",
    "class PreprocessingObject(ProcessingObject):\n",
    "    \n",
    "    \"\"\"\n",
    "    Extending the `ProcessingObject` base class for preprocessing as processing subtype.\n",
    "    Responsible for loading the microscopy image(s) and corresponding ROI(s) for each file,\n",
    "    running the specified preprocessing strategies, updating the database, and eventually \n",
    "    for saving the preprocessed images to disk for further processing steps down the line.\n",
    "    \n",
    "    Note: Even though the `file_ids` argument accepts (and actually expects & requires) a \n",
    "          list as input, only a single file_id will be passed to a `PreprocessingObject`\n",
    "          upon initialization. This is handled in the api module of findmycells.\n",
    "    \"\"\"\n",
    "\n",
    "\n",
    "    @property\n",
    "    def processing_type(self):\n",
    "        return 'preprocessing'\n",
    "    \n",
    "    \n",
    "    def __init__(self, database: Database, file_ids: List[str], strategies: List[ProcessingStrategy]) -> None:\n",
    "        super().__init__(database = database, file_ids = file_ids, strategies = strategies)\n",
    "        self.file_id = file_ids[0]\n",
    "        self.file_info = self.database.get_file_infos(identifier = self.file_id)\n",
    "        self.preprocessed_image = self._load_microscopy_image()\n",
    "        self.preprocessed_rois = self._load_rois()\n",
    "\n",
    "\n",
    "    def _load_microscopy_image(self) -> np.ndarray:\n",
    "        microscopy_image_data_loader = DataLoader()\n",
    "        microscopy_image_reader_class = microscopy_image_data_loader.determine_reader(file_extension = self.file_info['microscopy_filetype'],\n",
    "                                                                                      data_reader_module = readers.microscopy_images)\n",
    "        microscopy_image = microscopy_image_data_loader.load(data_reader_class = microscopy_image_reader_class,\n",
    "                                                             filepath = self.file_info['microscopy_filepath'],\n",
    "                                                             database = self.database)\n",
    "        return microscopy_image\n",
    "    \n",
    "\n",
    "    def _load_rois(self) -> Dict[str, Dict[str, Polygon]]:\n",
    "        if self.file_info['rois_present'] ==  False:\n",
    "            raise NotImplementedError('As of now, it is not supported to not provide a ROI file for each image. If you would like to '\n",
    "                                      'quantify the image features in the entire image, please provide a ROI that covers the entire image. '\n",
    "                                      'Warning: However, please be aware that this feature was not fully tested yet and will probably cause '\n",
    "                                      'problems, specifically if any cropping is used as preprocessing method.')\n",
    "        else: # means: self.file_info['rois_present'] == True\n",
    "            roi_data_loader = DataLoader()\n",
    "            roi_reader_class = roi_data_loader.determine_reader(file_extension = self.file_info['rois_filetype'])\n",
    "            extracted_roi_data = roi_data_loader.load(data_reader_class = roi_reader_class,\n",
    "                                                      filepath = self.file_info['rois_filepath'],\n",
    "                                                      database = self.database)\n",
    "        return extracted_roi_data\n",
    "\n",
    "\n",
    "    def add_processing_specific_infos_to_updates(self, updates: Dict) -> Dict:\n",
    "        if self.preprocessed_image.shape[3] == 3:\n",
    "            updates['RGB'] = True\n",
    "        else:\n",
    "            updates['RGB'] = False\n",
    "        updates['total_planes'] = self.preprocessed_image.shape[0]\n",
    "        return updates\n",
    "    \n",
    "\n",
    "    def save_preprocessed_images_on_disk(self) -> None:\n",
    "        for plane_index in range(self.preprocessed_image.shape[0]):\n",
    "            image = self.preprocessed_image[plane_index].astype('uint8')\n",
    "            filepath_out = self.database.preprocessed_images_dir.joinpath(f'{self.file_id}-{str(plane_index).zfill(3)}.png')\n",
    "            imsave(filepath_out, image)\n",
    "\n",
    "\n",
    "    def save_preprocessed_rois_in_database(self) -> None:\n",
    "        self.database.import_rois_dict(file_id = self.file_id, rois_dict = self.preprocessed_rois)"
   ]
  },
  {
   "cell_type": "code",
   "execution_count": null,
   "id": "8718c497-98c8-4dd9-b06f-aa26a4f03be4",
   "metadata": {},
   "outputs": [],
   "source": [
    "#| hide\n",
    "import nbdev; nbdev.nbdev_export()"
   ]
  }
 ],
 "metadata": {
  "kernelspec": {
   "display_name": "Python 3 (ipykernel)",
   "language": "python",
   "name": "python3"
  }
 },
 "nbformat": 4,
 "nbformat_minor": 5
}
