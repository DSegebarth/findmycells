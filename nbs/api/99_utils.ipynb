{
 "cells": [
  {
   "cell_type": "markdown",
   "id": "0ffcb8fe-6ed3-433a-a012-4b8c924f4b7d",
   "metadata": {},
   "source": [
    "# utility functions\n",
    "\n",
    "> Defines several general purpose functions that are used throughout *findmycells* (findmycells.utils)\n",
    "\n",
    "- order: 18"
   ]
  },
  {
   "cell_type": "code",
   "execution_count": null,
   "id": "7d5a47dc-c559-45c1-8720-8aa6ebfad999",
   "metadata": {},
   "outputs": [],
   "source": [
    "#| default_exp utils"
   ]
  },
  {
   "cell_type": "code",
   "execution_count": null,
   "id": "b97bc391-b47d-473f-a41a-dd0a43e2b869",
   "metadata": {},
   "outputs": [],
   "source": [
    "#| export\n",
    "\n",
    "from typing import List, Optional\n",
    "from pathlib import Path, PosixPath\n",
    "\n",
    "import numpy as np\n",
    "from skimage import io\n",
    "from skimage import measure\n",
    "from shapely.geometry import Polygon\n",
    "from shapely.validation import make_valid\n",
    "\n",
    "import wget\n",
    "from zipfile import ZipFile\n",
    "import shutil"
   ]
  },
  {
   "cell_type": "code",
   "execution_count": null,
   "id": "2a613593-c9e5-481b-ac71-9835e2f5d967",
   "metadata": {},
   "outputs": [],
   "source": [
    "#| hide\n",
    "from nbdev.showdoc import *"
   ]
  },
  {
   "cell_type": "code",
   "execution_count": null,
   "id": "41b3d449-4e39-4e65-90fa-85100de9d104",
   "metadata": {},
   "outputs": [],
   "source": [
    "#| export\n",
    "\n",
    "def list_dir_no_hidden(path: PosixPath, only_dirs: Optional[bool]=False, only_files: Optional[bool]=False) -> List[PosixPath]:\n",
    "    if only_dirs == True:\n",
    "        detected_paths = [elem for elem in path.iterdir() if (elem.is_dir() == True) & (elem.name.startswith('.') == False)]\n",
    "    elif only_files == True:\n",
    "        detected_paths = [elem for elem in path.iterdir() if (elem.is_dir() == False) & (elem.name.startswith('.') == False)]\n",
    "    else:\n",
    "        detected_paths = [elem for elem in path.iterdir() if elem.name.startswith('.') == False]\n",
    "    return detected_paths"
   ]
  },
  {
   "cell_type": "code",
   "execution_count": null,
   "id": "46da5b61-68bb-478c-8837-4b8265bafe6f",
   "metadata": {},
   "outputs": [],
   "source": [
    "#| export\n",
    "\n",
    "def load_zstack_as_array_from_single_planes(path: PosixPath, file_id: str, \n",
    "                                            minx: Optional[int]=None, maxx: Optional[int]=None, \n",
    "                                            miny: Optional[int]=None, maxy: Optional[int]=None) -> np.ndarray:\n",
    "    types = list(set([type(minx), type(maxx), type(miny), type(maxy)]))    \n",
    "    if any([minx, maxx, miny, maxy]):\n",
    "        if (len(types) == 1) & (types[0] == int):\n",
    "            cropping = True\n",
    "        else:\n",
    "            raise TypeError(\"'minx', 'maxx', 'miny', and 'maxy' all have to be integers - or None if no cropping has to be done\")\n",
    "    else:\n",
    "        cropping = False\n",
    "    matching_filepaths = [filepath for filepath in list_dir_no_hidden(path) if filepath.name.startswith(file_id)]\n",
    "    cropped_zstack = []\n",
    "    for single_plane_filepath in matching_filepaths:\n",
    "        tmp_image = io.imread(single_plane_filepath)\n",
    "        if cropping == True:\n",
    "            tmp_image = tmp_image[minx:maxx, miny:maxy]\n",
    "        cropped_zstack.append(tmp_image.copy())\n",
    "        del tmp_image\n",
    "    return np.asarray(cropped_zstack) "
   ]
  },
  {
   "cell_type": "code",
   "execution_count": null,
   "id": "7c4b4cfa-1417-404e-8208-416b975eb7e5",
   "metadata": {},
   "outputs": [],
   "source": [
    "#| export\n",
    "\n",
    "def unpad_x_y_dims_in_3d_array(padded_3d_array: np.ndarray, pad_width: int) -> np.ndarray:\n",
    "    return padded_3d_array[:, pad_width:padded_3d_array.shape[1]-pad_width, pad_width:padded_3d_array.shape[2]-pad_width]"
   ]
  },
  {
   "cell_type": "code",
   "execution_count": null,
   "id": "79a34643-9165-48b4-b1f1-a40142e6d4be",
   "metadata": {},
   "outputs": [],
   "source": [
    "#| export\n",
    "\n",
    "def get_polygon_from_instance_segmentation(single_plane: np.ndarray, label_id: int) -> Polygon:\n",
    "    x_dim, y_dim = single_plane.shape\n",
    "    tmp_array = np.zeros((x_dim, y_dim), dtype='uint8')\n",
    "    tmp_array[np.where(single_plane == label_id)] = 1\n",
    "    tmp_contours = measure.find_contours(tmp_array, level = 0)[0]\n",
    "    roi = Polygon(tmp_contours)\n",
    "    if roi.is_valid == False:\n",
    "        roi = make_valid(roi)\n",
    "    return roi"
   ]
  },
  {
   "cell_type": "code",
   "execution_count": null,
   "id": "c74cb40d-8459-471d-8c84-83428e14e126",
   "metadata": {},
   "outputs": [],
   "source": [
    "#| export\n",
    "\n",
    "def download_sample_data(destination_dir_path: PosixPath) -> None:\n",
    "    \"\"\"\n",
    "    Test data for findmycells can be found here: https://zenodo.org/record/7655292#.Y_LI1R-ZNhE\n",
    "    DOI: 10.5281/zenodo.7655292\n",
    "    \"\"\"\n",
    "    assert_failed_message = ('\"destination_dir_path\" has to be a pathlib.Path object pointing to '\n",
    "                             f'an existing directory, not {destination_dir_path}.')\n",
    "    assert destination_dir_path.is_dir(), assert_failed_message\n",
    "    wget.download(url = 'https://zenodo.org/record/7655292/files/cfos_ensemble.zip?download=1',\n",
    "                  out = destination_dir_path.joinpath('ensemble.zip'))\n",
    "    wget.download(url = 'https://zenodo.org/record/7655292/files/cfos_fmc_test_project.zip?download=1',\n",
    "                  out = destination_dir_path.joinpath('test_project.zip'))\n",
    "    with ZipFile(destination_dir_path.joinpath('ensemble.zip'), 'r') as zObject:\n",
    "        zObject.extractall()\n",
    "    with ZipFile(destination_dir_path.joinpath('test_project.zip'), 'r') as zObject:\n",
    "        zObject.extractall()\n",
    "    target_dir_path = destination_dir_path.joinpath('cfos_fmc_test_project', 'segmentation_tool', 'trained_models')\n",
    "    for model_filepath in destination_dir_path.joinpath('cfos_ensemble').iterdir():\n",
    "        shutil.move(model_filepath, target_dir_path)"
   ]
  },
  {
   "cell_type": "code",
   "execution_count": null,
   "id": "b5c85d21-a042-4134-a90e-31062a693b31",
   "metadata": {},
   "outputs": [],
   "source": [
    "#| hide\n",
    "import nbdev; nbdev.nbdev_export()"
   ]
  }
 ],
 "metadata": {
  "kernelspec": {
   "display_name": "python3",
   "language": "python",
   "name": "python3"
  }
 },
 "nbformat": 4,
 "nbformat_minor": 5
}
