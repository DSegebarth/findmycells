{
 "cells": [
  {
   "cell_type": "markdown",
   "id": "04a60ece-55a9-4bc1-9aad-f1fd99baa522",
   "metadata": {},
   "source": [
    "# segmentation subclasses\n",
    "\n",
    "> Extends the classes defined in core for the segmentation-specific requirements (findmycells.segmentation.specs)\n",
    "\n",
    "- order: 16"
   ]
  },
  {
   "cell_type": "code",
   "execution_count": null,
   "id": "09060c64-256d-47d4-9135-c5ff04743ed5",
   "metadata": {},
   "outputs": [],
   "source": [
    "#| default_exp segmentation/specs"
   ]
  },
  {
   "cell_type": "code",
   "execution_count": null,
   "id": "7d5488b7-58b0-4859-a46e-c9745c522be3",
   "metadata": {},
   "outputs": [],
   "source": [
    "#| export\n",
    "\n",
    "from abc import abstractmethod\n",
    "from typing import Dict\n",
    "import shutil\n",
    "\n",
    "\n",
    "from findmycells.core import ProcessingObject, ProcessingStrategy\n",
    "from findmycells.configs import DefaultConfigs"
   ]
  },
  {
   "cell_type": "code",
   "execution_count": null,
   "id": "e6260428-0470-4f47-9cb5-ad14c968e9a8",
   "metadata": {},
   "outputs": [],
   "source": [
    "#| hide\n",
    "from nbdev.showdoc import *"
   ]
  },
  {
   "cell_type": "code",
   "execution_count": null,
   "id": "e9649966-2dd5-485f-974c-03a0630a5af8",
   "metadata": {},
   "outputs": [],
   "source": [
    "#| export\n",
    "\n",
    "class SegmentationStrategy(ProcessingStrategy):\n",
    "    \n",
    "    \"\"\"\n",
    "    Extending the `ProcssingStrategy` base class for segmentation as processing subtype.\n",
    "    Also adding another property that denotes the type of segmentation (i.e. instance or semantic).\n",
    "    \"\"\"\n",
    "    \n",
    "    @property\n",
    "    def processing_type(self):\n",
    "        return 'segmentation'\n",
    "    \n",
    "    @property\n",
    "    @abstractmethod\n",
    "    def segmentation_type(self):\n",
    "        # Either \"instance\" or \"semantic\"\n",
    "        pass"
   ]
  },
  {
   "cell_type": "code",
   "execution_count": null,
   "id": "e53c5dc4-82c6-486b-9fca-e9aa83469bcb",
   "metadata": {},
   "outputs": [],
   "source": [
    "#| export\n",
    "\n",
    "class SegmentationObject(ProcessingObject):\n",
    "\n",
    "    \"\"\"\n",
    "    Extending the `ProcessingObject` base class for segmentation as processing subtype.\n",
    "    The clear_all_tmp_data() method allows to clear all chached results that might \n",
    "    accumulate for instance while using deepflash2.\n",
    "    \"\"\"\n",
    "    \n",
    "    @property\n",
    "    def processing_type(self) -> str:\n",
    "        return 'segmentation'\n",
    "    \n",
    "    @property\n",
    "    def widget_names(self):\n",
    "        widget_names = {'batch_size': 'IntSlider',\n",
    "                        'run_strategies_individually': 'Checkbox',\n",
    "                        'clear_tmp_data': 'Checkbox',\n",
    "                        'overwrite': 'Checkbox',\n",
    "                        'autosave': 'Checkbox',\n",
    "                        'show_progress': 'Checkbox'}\n",
    "        return widget_names\n",
    "\n",
    "    @property\n",
    "    def descriptions(self):\n",
    "        descriptions = {'batch_size': 'batch size (choose 0 to process all files at once)',\n",
    "                        'run_strategies_individually': ('process strategy-wise (checked) or '\n",
    "                                                        'process file-wise (un-checked)'),\n",
    "                        'clear_tmp_data': ('delete temp. files as soon as possible (recommended '\n",
    "                                           'for low memory)'),\n",
    "                        'overwrite': 'overwrite previously processed files',\n",
    "                        'autosave': 'autosave progress after each file',\n",
    "                        'show_progress': 'show progress bar and estimated computation time'}\n",
    "        return descriptions\n",
    "    \n",
    "    @property\n",
    "    def tooltips(self):\n",
    "        return {} \n",
    "    \n",
    "    @property\n",
    "    def default_configs(self) -> DefaultConfigs:\n",
    "        default_values = {'batch_size': 1,\n",
    "                          'run_strategies_individually': True,\n",
    "                          'clear_tmp_data': True,\n",
    "                          'overwrite': False,\n",
    "                          'autosave': True,\n",
    "                          'show_progress': True}\n",
    "        valid_types = {'batch_size': [int],\n",
    "                       'run_strategies_individually': [bool],\n",
    "                       'clear_tmp_data': [bool],\n",
    "                       'overwrite': [bool],\n",
    "                       'autosave': [bool],\n",
    "                       'show_progress': [bool]}\n",
    "        valid_value_ranges = {'batch_size': (0, 25, 1)}\n",
    "        default_configs = DefaultConfigs(default_values = default_values,\n",
    "                                         valid_types = valid_types,\n",
    "                                         valid_value_ranges = valid_value_ranges)\n",
    "        return default_configs\n",
    "    \n",
    "    \n",
    "    def _processing_specific_preparations(self) -> None:\n",
    "        pass    \n",
    "\n",
    "\n",
    "    def _add_processing_specific_infos_to_updates(self, updates: Dict) -> Dict:\n",
    "        return updates\n",
    "\n",
    "\n",
    "    def clear_all_tmp_data_in_seg_tool_dir(self) -> None:\n",
    "        seg_tool_dir_path = self.database.project_configs.root_dir.joinpath(self.database.segmentation_tool_dir)\n",
    "        for tmp_subdir_path in seg_tool_dir_path.iterdir():\n",
    "            if tmp_subdir_path.is_dir() and tmp_subdir_path.name != 'trained_models':\n",
    "                shutil.rmtree(tmp_subdir_path)"
   ]
  },
  {
   "cell_type": "code",
   "execution_count": null,
   "id": "8718c497-98c8-4dd9-b06f-aa26a4f03be4",
   "metadata": {},
   "outputs": [],
   "source": [
    "#| hide\n",
    "import nbdev; nbdev.nbdev_export()"
   ]
  }
 ],
 "metadata": {
  "kernelspec": {
   "display_name": "python3",
   "language": "python",
   "name": "python3"
  }
 },
 "nbformat": 4,
 "nbformat_minor": 5
}
