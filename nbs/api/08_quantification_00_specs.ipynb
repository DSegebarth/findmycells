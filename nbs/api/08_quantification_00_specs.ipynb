{
 "cells": [
  {
   "cell_type": "markdown",
   "id": "04a60ece-55a9-4bc1-9aad-f1fd99baa522",
   "metadata": {},
   "source": [
    "# quantification subclasses\n",
    "\n",
    "> Extends the classes defined in core for the quantification-specific requirements (findmycells.quantification.specs)\n",
    "\n",
    "- order: 11"
   ]
  },
  {
   "cell_type": "code",
   "execution_count": null,
   "id": "09060c64-256d-47d4-9135-c5ff04743ed5",
   "metadata": {},
   "outputs": [],
   "source": [
    "#| default_exp quantification/specs"
   ]
  },
  {
   "cell_type": "code",
   "execution_count": null,
   "id": "7d5488b7-58b0-4859-a46e-c9745c522be3",
   "metadata": {},
   "outputs": [],
   "source": [
    "#| export\n",
    "\n",
    "from typing import Dict, List\n",
    "from skimage import io\n",
    "\n",
    "from findmycells.core import ProcessingObject, ProcessingStrategy\n",
    "from findmycells.configs import DefaultConfigs\n",
    "from findmycells import utils"
   ]
  },
  {
   "cell_type": "code",
   "execution_count": null,
   "id": "e6260428-0470-4f47-9cb5-ad14c968e9a8",
   "metadata": {},
   "outputs": [],
   "source": [
    "#| hide\n",
    "from nbdev.showdoc import *"
   ]
  },
  {
   "cell_type": "code",
   "execution_count": null,
   "id": "e9649966-2dd5-485f-974c-03a0630a5af8",
   "metadata": {},
   "outputs": [],
   "source": [
    "#| export\n",
    "\n",
    "class QuantificationStrategy(ProcessingStrategy):\n",
    "    \n",
    "    \"\"\"\n",
    "    Note for developers: When implementing a new quantification strategy, remember to add\n",
    "    the following line at the end of the \".run()\" method, to ensure that the quantification\n",
    "    results are added to the database: \n",
    "    \n",
    "    quantification_object = self._add_quantification_results_to_database(quantification_object = quantification_object, \n",
    "    results = quantification_results)\n",
    "    \"\"\"\n",
    "    \n",
    "    @property\n",
    "    def processing_type(self):\n",
    "        return 'quantification'\n",
    "\n",
    "\n",
    "    def _add_quantification_results_to_database(self, quantification_object: ProcessingObject, results: Dict) -> ProcessingObject:\n",
    "        if hasattr(quantification_object.database, 'quantification_results') == False:\n",
    "            setattr(quantification_object.database, 'quantification_results', {})\n",
    "        if self.__class__.__name__ not in quantification_object.database.quantification_results.keys():\n",
    "            quantification_object.database.quantification_results[self.__class__.__name__] = {}\n",
    "        quantification_object.database.quantification_results[self.__class__.__name__][quantification_object.file_id] = results\n",
    "        return quantification_object"
   ]
  },
  {
   "cell_type": "code",
   "execution_count": null,
   "id": "e53c5dc4-82c6-486b-9fca-e9aa83469bcb",
   "metadata": {},
   "outputs": [],
   "source": [
    "#| export\n",
    "\n",
    "class QuantificationObject(ProcessingObject):\n",
    "    \n",
    "    \"\"\"\n",
    "    Extending the `ProcessingObject` base class for quantification as processing subtype.\n",
    "    \"\"\"\n",
    "    \n",
    "    @property\n",
    "    def processing_type(self) -> str:\n",
    "        return 'quantification'\n",
    "    \n",
    "    @property\n",
    "    def widget_names(self):\n",
    "        widget_names = {'overwrite': 'Checkbox',\n",
    "                        'autosave': 'Checkbox',\n",
    "                        'show_progress': 'Checkbox'}\n",
    "        return widget_names\n",
    "\n",
    "    @property\n",
    "    def descriptions(self):\n",
    "        descriptions = {'overwrite': 'overwrite previously processed files',\n",
    "                        'autosave': 'autosave progress after each file',\n",
    "                        'show_progress': 'show progress bar and estimated computation time'}\n",
    "        return descriptions\n",
    "    \n",
    "    @property\n",
    "    def tooltips(self):\n",
    "        return {} \n",
    "    \n",
    "    @property\n",
    "    def default_configs(self) -> DefaultConfigs:\n",
    "        default_values = {'overwrite': False,\n",
    "                          'autosave': True,\n",
    "                          'show_progress': True}\n",
    "        valid_types = {'overwrite': [bool],\n",
    "                       'autosave': [bool],\n",
    "                       'show_progress': [bool]}\n",
    "        default_configs = DefaultConfigs(default_values = default_values,\n",
    "                                         valid_types = valid_types)\n",
    "        return default_configs\n",
    "    \n",
    "    \n",
    "    def _processing_specific_preparations(self) -> None:\n",
    "        self.file_id = self.file_ids[0]\n",
    "        self.segmentations_per_area_roi_id = self._load_postprocessed_segmentations()\n",
    "\n",
    "\n",
    "    def _load_postprocessed_segmentations(self) -> Dict:\n",
    "        segmentations_per_area_roi_id = {}\n",
    "        quantified_segmentations_dir_path = self.database.project_configs.root_dir.joinpath(self.database.quantified_segmentations_dir)\n",
    "        for elem in quantified_segmentations_dir_path.iterdir():\n",
    "            if elem.is_dir():\n",
    "                matching_filepaths = [filepath for filepath in utils.list_dir_no_hidden(elem) if filepath.name.startswith(self.file_id)]\n",
    "                if len(matching_filepaths) > 0:\n",
    "                    area_roi_id = elem.name\n",
    "                    segmentations_per_area_roi_id[area_roi_id] = utils.load_zstack_as_array_from_single_planes(path = elem, file_id = self.file_id)\n",
    "        return segmentations_per_area_roi_id\n",
    "\n",
    "\n",
    "    def _add_processing_specific_infos_to_updates(self, updates: Dict) -> Dict:\n",
    "        return updates"
   ]
  },
  {
   "cell_type": "code",
   "execution_count": null,
   "id": "8718c497-98c8-4dd9-b06f-aa26a4f03be4",
   "metadata": {},
   "outputs": [],
   "source": [
    "#| hide\n",
    "import nbdev; nbdev.nbdev_export()"
   ]
  }
 ],
 "metadata": {
  "kernelspec": {
   "display_name": "Python 3 (ipykernel)",
   "language": "python",
   "name": "python3"
  }
 },
 "nbformat": 4,
 "nbformat_minor": 5
}
