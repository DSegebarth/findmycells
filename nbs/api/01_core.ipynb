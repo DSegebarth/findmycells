{
 "cells": [
  {
   "cell_type": "markdown",
   "metadata": {},
   "source": [
    "# core\n",
    "\n",
    "> Defines central classes that are re-used throughout the findmycells package (findmycells.core)\n",
    "\n",
    "- order: 3"
   ]
  },
  {
   "cell_type": "code",
   "execution_count": null,
   "metadata": {},
   "outputs": [],
   "source": [
    "#| default_exp core"
   ]
  },
  {
   "cell_type": "code",
   "execution_count": null,
   "metadata": {},
   "outputs": [],
   "source": [
    "#| export\n",
    "\n",
    "from abc import ABC, abstractmethod\n",
    "from findmycells.database import Database\n",
    "from findmycells.configs import DefaultConfigs, GUIConfigs\n",
    "from typing import List, Dict, Tuple, Optional, Any\n",
    "from types import ModuleType\n",
    "from pathlib import Path, PosixPath\n",
    "import inspect"
   ]
  },
  {
   "cell_type": "code",
   "execution_count": null,
   "metadata": {},
   "outputs": [],
   "source": [
    "#| hide\n",
    "from nbdev.showdoc import *"
   ]
  },
  {
   "cell_type": "markdown",
   "metadata": {},
   "source": [
    "# Handling data processing"
   ]
  },
  {
   "cell_type": "markdown",
   "metadata": {},
   "source": [
    "The following two classes, `ProcessingObject` and `ProcessingStrategy`, provide the blueprints for all processing strategies and objects that are used throughout the *findmycells* package. As you can see in the corresponding processing step modules (i.e. \"preprocess\", \"segment\", or \"quantify\"), these abstract base classes provide the basic structure of the more specific objects and strategies in each of these modules (e.g. `QuantificationObject` and `QuantificationStrategy` within the \"quantify\" module inherit from `ProcessingObject` and `ProcessingStrategy`, respectively). While this makes these two classes highly relevant for any developer, regular users of *findmycells* won´t be interacting with them, even if they want to use the API instead of the GUI."
   ]
  },
  {
   "cell_type": "code",
   "execution_count": null,
   "metadata": {},
   "outputs": [],
   "source": [
    "#| export\n",
    "\n",
    "class ProcessingObject(ABC):\n",
    "    \n",
    "    \"\"\"\n",
    "    Abstract base class (inherits from ABC) that defines the general structure of `ProcessingObjects` in findmycells.\n",
    "    A `ProcessingObject` combines all information needed for the corresponding processing step, \n",
    "    i.e. what files are supposed to be processed & how. It also interfaces to the database of the\n",
    "    project, such that it can automatically update the database with the latest progress.\n",
    "    \"\"\"\n",
    "\n",
    "    @property\n",
    "    @abstractmethod\n",
    "    def processing_type(self\n",
    "                       ) -> str: # string that defines the processing type (e.g. \"preprocessing\" or \"quantification\")\n",
    "        \"\"\"\n",
    "        Abstract property. Will be used in the database to keep track of the processing \n",
    "        progress of the project. Has to be a string that matches with an available \n",
    "        processing module (i.e. \"preprocessing\", \"segmentation\", \"postprocessing\", \n",
    "        \"quantification\").\n",
    "        \"\"\"\n",
    "        pass\n",
    "\n",
    "    \n",
    "    @property\n",
    "    @abstractmethod\n",
    "    def default_configs(self) -> DefaultConfigs:\n",
    "        \"\"\"\n",
    "        Abstract method that requires its subclasses to define the `default_configs`\n",
    "        as a property of the class. Thus, this will specify all configuration options\n",
    "        that come with each subclass, while simultaneously also providing default values\n",
    "        for each option and, moreover, defining what types of values are allowed for each\n",
    "        option. Check out the implementation of `DefaultConfigs` in the configs module, or\n",
    "        have a look at how this is implemented in one of the processing sub-modules, for \n",
    "        instance in the \"specs.py\" file in the preprocessing sub-module.\n",
    "        \"\"\"\n",
    "        pass    \n",
    "    \n",
    "    \n",
    "    @property\n",
    "    @abstractmethod\n",
    "    def widget_names(self) -> Dict[str, str]:\n",
    "        \"\"\"\n",
    "        Defines which widgets will be created (e.g. \"Checkbox\" or \"Dropdown\"). \n",
    "        See `GUIConfigs` to see a full list of available options. \n",
    "        \"\"\"\n",
    "        pass\n",
    "    \n",
    "    \n",
    "    @property\n",
    "    @abstractmethod\n",
    "    def descriptions(self) -> Dict[str, str]:\n",
    "        \"\"\"\n",
    "        Descriptions that will be used as \"description\" parameter in the created \n",
    "        widgets.\n",
    "        \"\"\"\n",
    "        pass\n",
    "    \n",
    "    \n",
    "    @property\n",
    "    @abstractmethod\n",
    "    def tooltips(self) -> Optional[Dict[str, str]]:\n",
    "        \"\"\"\n",
    "        Additional information that can be displayed as tooltip by the respective \n",
    "        widget. Unfortunately, tooltips are not available for all widget types \n",
    "        in the ipywidgets version that is used by *findmycells*.\n",
    "        \"\"\"\n",
    "        return None\n",
    "    \n",
    "    \n",
    "    @abstractmethod\n",
    "    def _add_processing_specific_infos_to_updates(self, \n",
    "                                                 updates: Dict # A dictionary with updates that need to be passed to the database\n",
    "                                                ) -> Dict: # A dictionary with all updates that need to be passed to the database\n",
    "        \"\"\"\n",
    "        Abstract method that that requires its subclasses to define what updates need to be\n",
    "        passed to the database, in addition to those that are already covered by the corresponding\n",
    "        ProcessingStrategies or the \"self.update_database()\" method. If there are no more \n",
    "        information to add, simply return the input 'updates' dictionary without any alterations.\n",
    "        \n",
    "        Returns a dictionary with all updates that need to be passed to the database.\n",
    "        \"\"\"\n",
    "        return updates\n",
    "    \n",
    "    \n",
    "    @abstractmethod\n",
    "    def _processing_specific_preparations(self) -> None:\n",
    "        \"\"\"\n",
    "        Allows to keep the __init__() method clear of any functions, which is \n",
    "        required to be able to just instantiate a representative object to create\n",
    "        its GUI widget (using the GUIConfigs set as attribute). Will be called in\n",
    "        the prepare_for_processing() method and, thus, still enable processing step\n",
    "        specific computations before the strategies are executed. \n",
    "        \n",
    "        Leave as \"pass\" if nothing needs to be done here.\n",
    "        \"\"\"\n",
    "        pass\n",
    "    \n",
    "    \n",
    "    def initialize_gui_configs_and_widget(self) -> None:\n",
    "        \"\"\"\n",
    "        Constructs a `GUIConfigs` from the respectively specified properties \n",
    "        and uses the `GUIConfigs.construct_widget` method to build the associated \n",
    "        widget and sets it as attribute (self.widget). \n",
    "        \"\"\"\n",
    "        gui_configs = GUIConfigs(widget_names = self.widget_names,\n",
    "                                 descriptions = self.descriptions,\n",
    "                                 tooltips = self.tooltips)\n",
    "        info_text = ('<div style=\"font-size: 16px\">'\n",
    "                     '<b>General processing configurations:</b>'\n",
    "                     '</div>')\n",
    "        gui_configs.construct_widget(info_text = info_text,\n",
    "                                     default_configs = self.default_configs)\n",
    "        setattr(self, 'gui_configs', gui_configs)\n",
    "        self.widget = self.gui_configs.strategy_widget\n",
    "    \n",
    "    \n",
    "    def export_current_gui_config_values(self) -> Dict:\n",
    "        \"\"\"\n",
    "        Passes the function call further to the `GUIConfigs` object to \n",
    "        extract the current configs.\n",
    "        \"\"\"\n",
    "        return self.gui_configs.export_current_config_values()\n",
    "    \n",
    "    \n",
    "    def prepare_for_processing(self,\n",
    "                               file_ids: List[str], # A list with the file_ids of all files that need to be processed\n",
    "                               database: Database, # The database of the findmycells project\n",
    "                              ) -> None:\n",
    "        self.file_ids = file_ids\n",
    "        self.database = database\n",
    "        self._processing_specific_preparations()\n",
    "    \n",
    "    \n",
    "    def run_all_strategies(self, strategies: List, strategy_configs: List[Dict]) -> None:\n",
    "        \"\"\"\n",
    "        Runs all ProcessingStrategies that were passed upon initialization (i.e. self.strategies).\n",
    "        For this, the corresponding ProcessingStrategy objects will be initialized and their \".run()\"\n",
    "        method will be called, while passing \"self\" as \"processing_object\". Finally, it updates the\n",
    "        database and deletes the ProcessingStrategy object to clear it from memory.\n",
    "        \"\"\"\n",
    "        for strategy, configs in zip(strategies, strategy_configs):\n",
    "            processing_strategy = strategy()\n",
    "            self = processing_strategy.run(processing_object = self, strategy_configs = configs)\n",
    "            self = processing_strategy.update_tracking_histories(processing_object = self, strategy_configs = configs)\n",
    "            del processing_strategy\n",
    "\n",
    "\n",
    "    def update_database(self, mark_as_completed: bool=True) -> None:\n",
    "        \"\"\"\n",
    "        For each microscopy file that had to be processed (self.file_ids), the database\n",
    "        will be updated with the respective processing progress information. Interfaces\n",
    "        back to the abstract method \"self.add_processing_specific_infos_to_updates()\" that\n",
    "        enables the corresponding subclasses to add more specific details before triggering\n",
    "        the update method of the database.\n",
    "        \"\"\"\n",
    "        for file_id in self.file_ids:\n",
    "            updates = {}\n",
    "            if mark_as_completed == True:\n",
    "                self.database.file_histories[file_id].mark_processing_step_as_completed(processing_step_id = self.processing_type)\n",
    "            updates = self._add_processing_specific_infos_to_updates(updates = updates)\n",
    "            self.database.update_file_infos(file_id = file_id, updates = updates)"
   ]
  },
  {
   "cell_type": "markdown",
   "metadata": {},
   "source": [
    "**Associated public methods:**"
   ]
  },
  {
   "cell_type": "code",
   "execution_count": null,
   "metadata": {},
   "outputs": [
    {
     "data": {
      "text/markdown": [
       "---\n",
       "\n",
       "[source](https://github.com/Defense-Circuits-Lab/findmycells/blob/main/findmycells/core.py#L131){target=\"_blank\" style=\"float:right; font-size:smaller\"}\n",
       "\n",
       "### ProcessingObject.export_current_gui_config_values\n",
       "\n",
       ">      ProcessingObject.export_current_gui_config_values ()\n",
       "\n",
       "Passes the function call further to the `GUIConfigs` object to \n",
       "extract the current configs."
      ],
      "text/plain": [
       "---\n",
       "\n",
       "[source](https://github.com/Defense-Circuits-Lab/findmycells/blob/main/findmycells/core.py#L131){target=\"_blank\" style=\"float:right; font-size:smaller\"}\n",
       "\n",
       "### ProcessingObject.export_current_gui_config_values\n",
       "\n",
       ">      ProcessingObject.export_current_gui_config_values ()\n",
       "\n",
       "Passes the function call further to the `GUIConfigs` object to \n",
       "extract the current configs."
      ]
     },
     "execution_count": null,
     "metadata": {},
     "output_type": "execute_result"
    }
   ],
   "source": [
    "show_doc(ProcessingObject.export_current_gui_config_values)"
   ]
  },
  {
   "cell_type": "code",
   "execution_count": null,
   "metadata": {},
   "outputs": [
    {
     "data": {
      "text/markdown": [
       "---\n",
       "\n",
       "[source](https://github.com/Defense-Circuits-Lab/findmycells/blob/main/findmycells/core.py#L113){target=\"_blank\" style=\"float:right; font-size:smaller\"}\n",
       "\n",
       "### ProcessingObject.initialize_gui_configs_and_widget\n",
       "\n",
       ">      ProcessingObject.initialize_gui_configs_and_widget ()\n",
       "\n",
       "Constructs a `GUIConfigs` from the respectively specified properties \n",
       "and uses the `GUIConfigs.construct_widget` method to build the associated \n",
       "widget and sets it as attribute (self.widget)."
      ],
      "text/plain": [
       "---\n",
       "\n",
       "[source](https://github.com/Defense-Circuits-Lab/findmycells/blob/main/findmycells/core.py#L113){target=\"_blank\" style=\"float:right; font-size:smaller\"}\n",
       "\n",
       "### ProcessingObject.initialize_gui_configs_and_widget\n",
       "\n",
       ">      ProcessingObject.initialize_gui_configs_and_widget ()\n",
       "\n",
       "Constructs a `GUIConfigs` from the respectively specified properties \n",
       "and uses the `GUIConfigs.construct_widget` method to build the associated \n",
       "widget and sets it as attribute (self.widget)."
      ]
     },
     "execution_count": null,
     "metadata": {},
     "output_type": "execute_result"
    }
   ],
   "source": [
    "show_doc(ProcessingObject.initialize_gui_configs_and_widget)"
   ]
  },
  {
   "cell_type": "code",
   "execution_count": null,
   "metadata": {},
   "outputs": [
    {
     "data": {
      "text/markdown": [
       "---\n",
       "\n",
       "[source](https://github.com/Defense-Circuits-Lab/findmycells/blob/main/findmycells/core.py#L139){target=\"_blank\" style=\"float:right; font-size:smaller\"}\n",
       "\n",
       "### ProcessingObject.prepare_for_processing\n",
       "\n",
       ">      ProcessingObject.prepare_for_processing (file_ids:List[str],\n",
       ">                                               database:findmycells.database.Da\n",
       ">                                               tabase)\n",
       "\n",
       "|    | **Type** | **Details** |\n",
       "| -- | -------- | ----------- |\n",
       "| file_ids | typing.List[str] | A list with the file_ids of all files that need to be processed |\n",
       "| database | Database | The database of the findmycells project |\n",
       "| **Returns** | **None** |  |"
      ],
      "text/plain": [
       "---\n",
       "\n",
       "[source](https://github.com/Defense-Circuits-Lab/findmycells/blob/main/findmycells/core.py#L139){target=\"_blank\" style=\"float:right; font-size:smaller\"}\n",
       "\n",
       "### ProcessingObject.prepare_for_processing\n",
       "\n",
       ">      ProcessingObject.prepare_for_processing (file_ids:List[str],\n",
       ">                                               database:findmycells.database.Da\n",
       ">                                               tabase)\n",
       "\n",
       "|    | **Type** | **Details** |\n",
       "| -- | -------- | ----------- |\n",
       "| file_ids | typing.List[str] | A list with the file_ids of all files that need to be processed |\n",
       "| database | Database | The database of the findmycells project |\n",
       "| **Returns** | **None** |  |"
      ]
     },
     "execution_count": null,
     "metadata": {},
     "output_type": "execute_result"
    }
   ],
   "source": [
    "show_doc(ProcessingObject.prepare_for_processing)"
   ]
  },
  {
   "cell_type": "code",
   "execution_count": null,
   "metadata": {},
   "outputs": [
    {
     "data": {
      "text/markdown": [
       "---\n",
       "\n",
       "[source](https://github.com/Defense-Circuits-Lab/findmycells/blob/main/findmycells/core.py#L148){target=\"_blank\" style=\"float:right; font-size:smaller\"}\n",
       "\n",
       "### ProcessingObject.run_all_strategies\n",
       "\n",
       ">      ProcessingObject.run_all_strategies (strategies:List,\n",
       ">                                           strategy_configs:List[Dict])\n",
       "\n",
       "Runs all ProcessingStrategies that were passed upon initialization (i.e. self.strategies).\n",
       "For this, the corresponding ProcessingStrategy objects will be initialized and their \".run()\"\n",
       "method will be called, while passing \"self\" as \"processing_object\". Finally, it updates the\n",
       "database and deletes the ProcessingStrategy object to clear it from memory."
      ],
      "text/plain": [
       "---\n",
       "\n",
       "[source](https://github.com/Defense-Circuits-Lab/findmycells/blob/main/findmycells/core.py#L148){target=\"_blank\" style=\"float:right; font-size:smaller\"}\n",
       "\n",
       "### ProcessingObject.run_all_strategies\n",
       "\n",
       ">      ProcessingObject.run_all_strategies (strategies:List,\n",
       ">                                           strategy_configs:List[Dict])\n",
       "\n",
       "Runs all ProcessingStrategies that were passed upon initialization (i.e. self.strategies).\n",
       "For this, the corresponding ProcessingStrategy objects will be initialized and their \".run()\"\n",
       "method will be called, while passing \"self\" as \"processing_object\". Finally, it updates the\n",
       "database and deletes the ProcessingStrategy object to clear it from memory."
      ]
     },
     "execution_count": null,
     "metadata": {},
     "output_type": "execute_result"
    }
   ],
   "source": [
    "show_doc(ProcessingObject.run_all_strategies)"
   ]
  },
  {
   "cell_type": "code",
   "execution_count": null,
   "metadata": {},
   "outputs": [
    {
     "data": {
      "text/markdown": [
       "---\n",
       "\n",
       "[source](https://github.com/Defense-Circuits-Lab/findmycells/blob/main/findmycells/core.py#L162){target=\"_blank\" style=\"float:right; font-size:smaller\"}\n",
       "\n",
       "### ProcessingObject.update_database\n",
       "\n",
       ">      ProcessingObject.update_database (mark_as_completed:bool=True)\n",
       "\n",
       "For each microscopy file that had to be processed (self.file_ids), the database\n",
       "will be updated with the respective processing progress information. Interfaces\n",
       "back to the abstract method \"self.add_processing_specific_infos_to_updates()\" that\n",
       "enables the corresponding subclasses to add more specific details before triggering\n",
       "the update method of the database."
      ],
      "text/plain": [
       "---\n",
       "\n",
       "[source](https://github.com/Defense-Circuits-Lab/findmycells/blob/main/findmycells/core.py#L162){target=\"_blank\" style=\"float:right; font-size:smaller\"}\n",
       "\n",
       "### ProcessingObject.update_database\n",
       "\n",
       ">      ProcessingObject.update_database (mark_as_completed:bool=True)\n",
       "\n",
       "For each microscopy file that had to be processed (self.file_ids), the database\n",
       "will be updated with the respective processing progress information. Interfaces\n",
       "back to the abstract method \"self.add_processing_specific_infos_to_updates()\" that\n",
       "enables the corresponding subclasses to add more specific details before triggering\n",
       "the update method of the database."
      ]
     },
     "execution_count": null,
     "metadata": {},
     "output_type": "execute_result"
    }
   ],
   "source": [
    "show_doc(ProcessingObject.update_database)"
   ]
  },
  {
   "cell_type": "markdown",
   "metadata": {},
   "source": [
    "**For developers:**\n",
    "\n",
    "Associated properties that need to be implemented in subclasses inheriting from `ProcessingObject`. Feel free to check out the available implementations to see how this should look like, for instance in the \"findmycells.preprocessing.specs\" or \"findmycells.segmentation.specs\" submodules."
   ]
  },
  {
   "cell_type": "code",
   "execution_count": null,
   "metadata": {},
   "outputs": [
    {
     "data": {
      "text/markdown": [
       "---\n",
       "\n",
       "[source](https://github.com/Defense-Circuits-Lab/findmycells/blob/main/findmycells/core.py#L40){target=\"_blank\" style=\"float:right; font-size:smaller\"}\n",
       "\n",
       "### ProcessingObject.default_configs\n",
       "\n",
       ">      ProcessingObject.default_configs ()\n",
       "\n",
       "Abstract method that requires its subclasses to define the `default_configs`\n",
       "as a property of the class. Thus, this will specify all configuration options\n",
       "that come with each subclass, while simultaneously also providing default values\n",
       "for each option and, moreover, defining what types of values are allowed for each\n",
       "option. Check out the implementation of `DefaultConfigs` in the configs module, or\n",
       "have a look at how this is implemented in one of the processing sub-modules, for \n",
       "instance in the \"specs.py\" file in the preprocessing sub-module."
      ],
      "text/plain": [
       "---\n",
       "\n",
       "[source](https://github.com/Defense-Circuits-Lab/findmycells/blob/main/findmycells/core.py#L40){target=\"_blank\" style=\"float:right; font-size:smaller\"}\n",
       "\n",
       "### ProcessingObject.default_configs\n",
       "\n",
       ">      ProcessingObject.default_configs ()\n",
       "\n",
       "Abstract method that requires its subclasses to define the `default_configs`\n",
       "as a property of the class. Thus, this will specify all configuration options\n",
       "that come with each subclass, while simultaneously also providing default values\n",
       "for each option and, moreover, defining what types of values are allowed for each\n",
       "option. Check out the implementation of `DefaultConfigs` in the configs module, or\n",
       "have a look at how this is implemented in one of the processing sub-modules, for \n",
       "instance in the \"specs.py\" file in the preprocessing sub-module."
      ]
     },
     "execution_count": null,
     "metadata": {},
     "output_type": "execute_result"
    }
   ],
   "source": [
    "show_doc(ProcessingObject.default_configs)"
   ]
  },
  {
   "cell_type": "code",
   "execution_count": null,
   "metadata": {},
   "outputs": [
    {
     "data": {
      "text/markdown": [
       "---\n",
       "\n",
       "[source](https://github.com/Defense-Circuits-Lab/findmycells/blob/main/findmycells/core.py#L65){target=\"_blank\" style=\"float:right; font-size:smaller\"}\n",
       "\n",
       "### ProcessingObject.descriptions\n",
       "\n",
       ">      ProcessingObject.descriptions ()\n",
       "\n",
       "Descriptions that will be used as \"description\" parameter in the created \n",
       "widgets."
      ],
      "text/plain": [
       "---\n",
       "\n",
       "[source](https://github.com/Defense-Circuits-Lab/findmycells/blob/main/findmycells/core.py#L65){target=\"_blank\" style=\"float:right; font-size:smaller\"}\n",
       "\n",
       "### ProcessingObject.descriptions\n",
       "\n",
       ">      ProcessingObject.descriptions ()\n",
       "\n",
       "Descriptions that will be used as \"description\" parameter in the created \n",
       "widgets."
      ]
     },
     "execution_count": null,
     "metadata": {},
     "output_type": "execute_result"
    }
   ],
   "source": [
    "show_doc(ProcessingObject.descriptions)"
   ]
  },
  {
   "cell_type": "code",
   "execution_count": null,
   "metadata": {},
   "outputs": [
    {
     "data": {
      "text/markdown": [
       "---\n",
       "\n",
       "[source](https://github.com/Defense-Circuits-Lab/findmycells/blob/main/findmycells/core.py#L27){target=\"_blank\" style=\"float:right; font-size:smaller\"}\n",
       "\n",
       "### ProcessingObject.processing_type\n",
       "\n",
       ">      ProcessingObject.processing_type ()\n",
       "\n",
       "Abstract property. Will be used in the database to keep track of the processing \n",
       "progress of the project. Has to be a string that matches with an available \n",
       "processing module (i.e. \"preprocessing\", \"segmentation\", \"postprocessing\", \n",
       "\"quantification\")."
      ],
      "text/plain": [
       "---\n",
       "\n",
       "[source](https://github.com/Defense-Circuits-Lab/findmycells/blob/main/findmycells/core.py#L27){target=\"_blank\" style=\"float:right; font-size:smaller\"}\n",
       "\n",
       "### ProcessingObject.processing_type\n",
       "\n",
       ">      ProcessingObject.processing_type ()\n",
       "\n",
       "Abstract property. Will be used in the database to keep track of the processing \n",
       "progress of the project. Has to be a string that matches with an available \n",
       "processing module (i.e. \"preprocessing\", \"segmentation\", \"postprocessing\", \n",
       "\"quantification\")."
      ]
     },
     "execution_count": null,
     "metadata": {},
     "output_type": "execute_result"
    }
   ],
   "source": [
    "show_doc(ProcessingObject.processing_type)"
   ]
  },
  {
   "cell_type": "code",
   "execution_count": null,
   "metadata": {},
   "outputs": [
    {
     "data": {
      "text/markdown": [
       "---\n",
       "\n",
       "[source](https://github.com/Defense-Circuits-Lab/findmycells/blob/main/findmycells/core.py#L75){target=\"_blank\" style=\"float:right; font-size:smaller\"}\n",
       "\n",
       "### ProcessingObject.tooltips\n",
       "\n",
       ">      ProcessingObject.tooltips ()\n",
       "\n",
       "Additional information that can be displayed as tooltip by the respective \n",
       "widget. Unfortunately, tooltips are not available for all widget types \n",
       "in the ipywidgets version that is used by *findmycells*."
      ],
      "text/plain": [
       "---\n",
       "\n",
       "[source](https://github.com/Defense-Circuits-Lab/findmycells/blob/main/findmycells/core.py#L75){target=\"_blank\" style=\"float:right; font-size:smaller\"}\n",
       "\n",
       "### ProcessingObject.tooltips\n",
       "\n",
       ">      ProcessingObject.tooltips ()\n",
       "\n",
       "Additional information that can be displayed as tooltip by the respective \n",
       "widget. Unfortunately, tooltips are not available for all widget types \n",
       "in the ipywidgets version that is used by *findmycells*."
      ]
     },
     "execution_count": null,
     "metadata": {},
     "output_type": "execute_result"
    }
   ],
   "source": [
    "show_doc(ProcessingObject.tooltips)"
   ]
  },
  {
   "cell_type": "code",
   "execution_count": null,
   "metadata": {},
   "outputs": [
    {
     "data": {
      "text/markdown": [
       "---\n",
       "\n",
       "[source](https://github.com/Defense-Circuits-Lab/findmycells/blob/main/findmycells/core.py#L55){target=\"_blank\" style=\"float:right; font-size:smaller\"}\n",
       "\n",
       "### ProcessingObject.widget_names\n",
       "\n",
       ">      ProcessingObject.widget_names ()\n",
       "\n",
       "Defines which widgets will be created (e.g. \"Checkbox\" or \"Dropdown\"). \n",
       "See `GUIConfigs` to see a full list of available options."
      ],
      "text/plain": [
       "---\n",
       "\n",
       "[source](https://github.com/Defense-Circuits-Lab/findmycells/blob/main/findmycells/core.py#L55){target=\"_blank\" style=\"float:right; font-size:smaller\"}\n",
       "\n",
       "### ProcessingObject.widget_names\n",
       "\n",
       ">      ProcessingObject.widget_names ()\n",
       "\n",
       "Defines which widgets will be created (e.g. \"Checkbox\" or \"Dropdown\"). \n",
       "See `GUIConfigs` to see a full list of available options."
      ]
     },
     "execution_count": null,
     "metadata": {},
     "output_type": "execute_result"
    }
   ],
   "source": [
    "show_doc(ProcessingObject.widget_names)"
   ]
  },
  {
   "cell_type": "markdown",
   "metadata": {},
   "source": [
    "Associated abstract methods that need to be implemented in subclasses inheriting from `ProcessingObject`:"
   ]
  },
  {
   "cell_type": "code",
   "execution_count": null,
   "metadata": {},
   "outputs": [
    {
     "data": {
      "text/markdown": [
       "---\n",
       "\n",
       "[source](https://github.com/Defense-Circuits-Lab/findmycells/blob/main/findmycells/core.py#L85){target=\"_blank\" style=\"float:right; font-size:smaller\"}\n",
       "\n",
       "### ProcessingObject._add_processing_specific_infos_to_updates\n",
       "\n",
       ">      ProcessingObject._add_processing_specific_infos_to_updates (updates:Dict)\n",
       "\n",
       "Abstract method that that requires its subclasses to define what updates need to be\n",
       "passed to the database, in addition to those that are already covered by the corresponding\n",
       "ProcessingStrategies or the \"self.update_database()\" method. If there are no more \n",
       "information to add, simply return the input 'updates' dictionary without any alterations.\n",
       "\n",
       "Returns a dictionary with all updates that need to be passed to the database.\n",
       "\n",
       "|    | **Type** | **Details** |\n",
       "| -- | -------- | ----------- |\n",
       "| updates | typing.Dict | A dictionary with updates that need to be passed to the database |\n",
       "| **Returns** | **typing.Dict** | **A dictionary with all updates that need to be passed to the database** |"
      ],
      "text/plain": [
       "---\n",
       "\n",
       "[source](https://github.com/Defense-Circuits-Lab/findmycells/blob/main/findmycells/core.py#L85){target=\"_blank\" style=\"float:right; font-size:smaller\"}\n",
       "\n",
       "### ProcessingObject._add_processing_specific_infos_to_updates\n",
       "\n",
       ">      ProcessingObject._add_processing_specific_infos_to_updates (updates:Dict)\n",
       "\n",
       "Abstract method that that requires its subclasses to define what updates need to be\n",
       "passed to the database, in addition to those that are already covered by the corresponding\n",
       "ProcessingStrategies or the \"self.update_database()\" method. If there are no more \n",
       "information to add, simply return the input 'updates' dictionary without any alterations.\n",
       "\n",
       "Returns a dictionary with all updates that need to be passed to the database.\n",
       "\n",
       "|    | **Type** | **Details** |\n",
       "| -- | -------- | ----------- |\n",
       "| updates | typing.Dict | A dictionary with updates that need to be passed to the database |\n",
       "| **Returns** | **typing.Dict** | **A dictionary with all updates that need to be passed to the database** |"
      ]
     },
     "execution_count": null,
     "metadata": {},
     "output_type": "execute_result"
    }
   ],
   "source": [
    "show_doc(ProcessingObject._add_processing_specific_infos_to_updates)"
   ]
  },
  {
   "cell_type": "code",
   "execution_count": null,
   "metadata": {},
   "outputs": [
    {
     "data": {
      "text/markdown": [
       "---\n",
       "\n",
       "[source](https://github.com/Defense-Circuits-Lab/findmycells/blob/main/findmycells/core.py#L100){target=\"_blank\" style=\"float:right; font-size:smaller\"}\n",
       "\n",
       "### ProcessingObject._processing_specific_preparations\n",
       "\n",
       ">      ProcessingObject._processing_specific_preparations ()\n",
       "\n",
       "Allows to keep the __init__() method clear of any functions, which is \n",
       "required to be able to just instantiate a representative object to create\n",
       "its GUI widget (using the GUIConfigs set as attribute). Will be called in\n",
       "the prepare_for_processing() method and, thus, still enable processing step\n",
       "specific computations before the strategies are executed. \n",
       "\n",
       "Leave as \"pass\" if nothing needs to be done here."
      ],
      "text/plain": [
       "---\n",
       "\n",
       "[source](https://github.com/Defense-Circuits-Lab/findmycells/blob/main/findmycells/core.py#L100){target=\"_blank\" style=\"float:right; font-size:smaller\"}\n",
       "\n",
       "### ProcessingObject._processing_specific_preparations\n",
       "\n",
       ">      ProcessingObject._processing_specific_preparations ()\n",
       "\n",
       "Allows to keep the __init__() method clear of any functions, which is \n",
       "required to be able to just instantiate a representative object to create\n",
       "its GUI widget (using the GUIConfigs set as attribute). Will be called in\n",
       "the prepare_for_processing() method and, thus, still enable processing step\n",
       "specific computations before the strategies are executed. \n",
       "\n",
       "Leave as \"pass\" if nothing needs to be done here."
      ]
     },
     "execution_count": null,
     "metadata": {},
     "output_type": "execute_result"
    }
   ],
   "source": [
    "show_doc(ProcessingObject._processing_specific_preparations)"
   ]
  },
  {
   "cell_type": "markdown",
   "metadata": {},
   "source": [
    "<br>\n",
    "<br>\n",
    "<br>"
   ]
  },
  {
   "cell_type": "code",
   "execution_count": null,
   "metadata": {},
   "outputs": [],
   "source": [
    "#| export\n",
    "\n",
    "class ProcessingStrategy(ABC):\n",
    "    \n",
    "    \"\"\"\n",
    "    Abstract base class that defines the general structure of `ProcessingStrategies` in findmycells.\n",
    "    A `ProcessingStrategy` combines all functions that are required for one particular processing step, \n",
    "    e.g. `ConvertTo8Bit` is a `ProcessingStrategy` in the \"preprocess\" module and converts the corresponding\n",
    "    images into 8-bit.\n",
    "    \"\"\"\n",
    "\n",
    "    @property\n",
    "    @abstractmethod\n",
    "    def processing_type(self):\n",
    "        \"\"\"\n",
    "        Abstract property. Will be used for instance in the database to keep track of the processing \n",
    "        progress of the project. Has to be a string that matches with an available \n",
    "        processing module (i.e. \"preprocessing\", \"segmentation\", \"postprocessing\", \n",
    "        \"quantification\").\n",
    "        \"\"\"\n",
    "        pass\n",
    "    \n",
    "    \n",
    "    @property\n",
    "    @abstractmethod\n",
    "    def default_configs(self) -> DefaultConfigs:\n",
    "        \"\"\"\n",
    "        Abstract method that requires its subclasses to define the `default_configs`\n",
    "        as a property of the class. Thus, this will specify all configuration options\n",
    "        that come with each subclass, while simultaneously also providing default values\n",
    "        for each option and, moreover, defining what types of values are allowed for each\n",
    "        option. Check out the implementation of `DefaultConfigs` in the configs module, or\n",
    "        have a look at how this is implemented in one of the processing sub-modules, for \n",
    "        instance in the \"specs.py\" file in the preprocessing sub-module.\n",
    "        \"\"\"\n",
    "        pass\n",
    "    \n",
    "    \n",
    "    @property\n",
    "    @abstractmethod\n",
    "    def widget_names(self) -> Dict[str, str]:\n",
    "        \"\"\"\n",
    "        Defines which widgets will be created (e.g. \"Checkbox\" or \"Dropdown\"). \n",
    "        See `GUIConfigs` to see a full list of available options. \n",
    "        \"\"\"\n",
    "        pass\n",
    "    \n",
    "    \n",
    "    @property\n",
    "    @abstractmethod\n",
    "    def descriptions(self) -> Dict[str, str]:\n",
    "        \"\"\"\n",
    "        Descriptions that will be used as \"description\" parameter in the created \n",
    "        widgets.\n",
    "        \"\"\"\n",
    "        pass\n",
    "    \n",
    "    \n",
    "    @property\n",
    "    @abstractmethod\n",
    "    def tooltips(self) -> Optional[Dict[str, str]]:\n",
    "        \"\"\"\n",
    "        Additional information that can be displayed as tooltip by the respective \n",
    "        widget. Unfortunately, tooltips are not available for all widget types \n",
    "        in the ipywidgets version that is used by *findmycells*.\n",
    "        \"\"\"\n",
    "        pass\n",
    "    \n",
    "    \n",
    "    @property\n",
    "    @abstractmethod\n",
    "    def dropdown_option_value_for_gui(self) -> str:\n",
    "        \"\"\"\n",
    "        This string will be used as the option in the strategy selection \n",
    "        dropdown in the GUI of *findmycells*.\n",
    "        \"\"\"\n",
    "        pass\n",
    "\n",
    "\n",
    "    @abstractmethod\n",
    "    def run(self, processing_object: ProcessingObject, strategy_configs: Dict) -> ProcessingObject:\n",
    "        \"\"\"\n",
    "        Here comes the code that actually does the processing of the data.\n",
    "        \"\"\"\n",
    "        return processing_object\n",
    "\n",
    "    \n",
    "    @abstractmethod\n",
    "    def _add_strategy_specific_infos_to_updates(self, updates: Dict) -> Dict:\n",
    "        \"\"\"\n",
    "        Allows to add processing specific information that is deemed relevant \n",
    "        to the `FileHistory` objects in the `Database`. If there are no relevant \n",
    "        information, simply return the \"updates\" dictionary again without changes.\n",
    "        \"\"\"\n",
    "        return updates\n",
    "\n",
    "\n",
    "    @property\n",
    "    def strategy_name(self):\n",
    "        return self.__class__.__name__ \n",
    "\n",
    "    \n",
    "    def initialize_gui_configs_and_widget(self) -> None:\n",
    "        \"\"\"\n",
    "        Constructs a `GUIConfigs` from the respectively specified properties \n",
    "        and uses the `GUIConfigs.construct_widget` method to build the associated \n",
    "        widget and sets it as attribute (self.widget). \n",
    "        \"\"\"\n",
    "        gui_configs = GUIConfigs(widget_names = self.widget_names,\n",
    "                                 descriptions = self.descriptions,\n",
    "                                 tooltips = self.tooltips)\n",
    "        docstring_in_html_syntax = self._convert_docstring_to_html_syntax()\n",
    "        gui_configs.construct_widget(info_text = docstring_in_html_syntax,\n",
    "                                     default_configs = self.default_configs)\n",
    "        setattr(self, 'gui_configs', gui_configs)\n",
    "        self.widget = self.gui_configs.strategy_widget\n",
    "    \n",
    "    \n",
    "    def export_current_gui_config_values(self) -> Dict:\n",
    "        \"\"\"\n",
    "        Passes the function call further to the `GUIConfigs` object to \n",
    "        extract the current configs.\n",
    "        \"\"\"\n",
    "        return self.gui_configs.export_current_config_values()\n",
    "    \n",
    "    \n",
    "    def update_tracking_histories(self, processing_object: ProcessingObject, strategy_configs: Dict) -> ProcessingObject:\n",
    "        for file_id in processing_object.file_ids:\n",
    "            strategy_configs_with_updates = self._add_strategy_specific_infos_to_updates(updates = strategy_configs)\n",
    "            tracking_history = processing_object.database.file_histories[file_id]\n",
    "            tracking_history.track_processing_strat(processing_step_id = self.processing_type,\n",
    "                                                    processing_strategy_name = self.strategy_name,\n",
    "                                                    strategy_configs = strategy_configs_with_updates)\n",
    "        return processing_object\n",
    "\n",
    "\n",
    "    def _convert_docstring_to_html_syntax(self) -> str:\n",
    "        \"\"\"\n",
    "        To visualize the description of each strategy in a proper way in the GUI, the online hosted\n",
    "        documentation, and in the docstrings, we added some custom \"string commands\". These allow us\n",
    "        to achieve some HTML formatting (required for both GUI and the documentation), while they\n",
    "        don't interfere with the layout of the docstring. For this, the follwing keys were introduced:\n",
    "        \n",
    "        '\\b': Every '\\b' in the original docstring will be replaced by a '<br>' upon conversion of the\n",
    "        docstring into HTML, creating a linebreak. It will simply be ignored in the original docstring\n",
    "        and is therefore not visible.\n",
    "        \n",
    "        '\\1' and '\\2': To make indentation blocks possible, '\\1' and '\\2' were introduced. '\\1' denotes\n",
    "        the beginning of an indentation block, whereas '\\2' marks its end. Accordingly, '\\1' will be \n",
    "        converted into '<div style=\"margin-left: 2em;\">', and '\\2' will be converted into '</div>'.\n",
    "        They can also be used to stack indentations, simply by using multiple '\\1's before closing\n",
    "        one after the other by adding correspondingly matching '\\2's. Again, they will be ignored in\n",
    "        the original docstring and therefore not be visible.\n",
    "        \"\"\"\n",
    "        docstring = self.__doc__\n",
    "        if docstring == None:\n",
    "            docstring = ''\n",
    "        partially_converted_docstring = docstring.replace('\\1', '<div style=\"margin-left: 2em;\">')\n",
    "        partially_converted_docstring = partially_converted_docstring.replace('\\2', '</div>')\n",
    "        partially_converted_docstring = partially_converted_docstring.replace('\\b', '<br>')\n",
    "        html_converted_docstring = partially_converted_docstring.replace('  ', '')\n",
    "        return html_converted_docstring"
   ]
  },
  {
   "cell_type": "markdown",
   "metadata": {},
   "source": [
    "**Associated public methods:**"
   ]
  },
  {
   "cell_type": "code",
   "execution_count": null,
   "metadata": {},
   "outputs": [
    {
     "data": {
      "text/markdown": [
       "---\n",
       "\n",
       "[source](https://github.com/Defense-Circuits-Lab/findmycells/blob/main/findmycells/core.py#L294){target=\"_blank\" style=\"float:right; font-size:smaller\"}\n",
       "\n",
       "### ProcessingStrategy.export_current_gui_config_values\n",
       "\n",
       ">      ProcessingStrategy.export_current_gui_config_values ()\n",
       "\n",
       "Passes the function call further to the `GUIConfigs` object to \n",
       "extract the current configs."
      ],
      "text/plain": [
       "---\n",
       "\n",
       "[source](https://github.com/Defense-Circuits-Lab/findmycells/blob/main/findmycells/core.py#L294){target=\"_blank\" style=\"float:right; font-size:smaller\"}\n",
       "\n",
       "### ProcessingStrategy.export_current_gui_config_values\n",
       "\n",
       ">      ProcessingStrategy.export_current_gui_config_values ()\n",
       "\n",
       "Passes the function call further to the `GUIConfigs` object to \n",
       "extract the current configs."
      ]
     },
     "execution_count": null,
     "metadata": {},
     "output_type": "execute_result"
    }
   ],
   "source": [
    "show_doc(ProcessingStrategy.export_current_gui_config_values)"
   ]
  },
  {
   "cell_type": "code",
   "execution_count": null,
   "metadata": {},
   "outputs": [
    {
     "data": {
      "text/markdown": [
       "---\n",
       "\n",
       "[source](https://github.com/Defense-Circuits-Lab/findmycells/blob/main/findmycells/core.py#L278){target=\"_blank\" style=\"float:right; font-size:smaller\"}\n",
       "\n",
       "### ProcessingStrategy.initialize_gui_configs_and_widget\n",
       "\n",
       ">      ProcessingStrategy.initialize_gui_configs_and_widget ()\n",
       "\n",
       "Constructs a `GUIConfigs` from the respectively specified properties \n",
       "and uses the `GUIConfigs.construct_widget` method to build the associated \n",
       "widget and sets it as attribute (self.widget)."
      ],
      "text/plain": [
       "---\n",
       "\n",
       "[source](https://github.com/Defense-Circuits-Lab/findmycells/blob/main/findmycells/core.py#L278){target=\"_blank\" style=\"float:right; font-size:smaller\"}\n",
       "\n",
       "### ProcessingStrategy.initialize_gui_configs_and_widget\n",
       "\n",
       ">      ProcessingStrategy.initialize_gui_configs_and_widget ()\n",
       "\n",
       "Constructs a `GUIConfigs` from the respectively specified properties \n",
       "and uses the `GUIConfigs.construct_widget` method to build the associated \n",
       "widget and sets it as attribute (self.widget)."
      ]
     },
     "execution_count": null,
     "metadata": {},
     "output_type": "execute_result"
    }
   ],
   "source": [
    "show_doc(ProcessingStrategy.initialize_gui_configs_and_widget)"
   ]
  },
  {
   "cell_type": "code",
   "execution_count": null,
   "metadata": {},
   "outputs": [
    {
     "data": {
      "text/markdown": [
       "---\n",
       "\n",
       "[source](https://github.com/Defense-Circuits-Lab/findmycells/blob/main/findmycells/core.py#L302){target=\"_blank\" style=\"float:right; font-size:smaller\"}\n",
       "\n",
       "### ProcessingStrategy.update_tracking_histories\n",
       "\n",
       ">      ProcessingStrategy.update_tracking_histories\n",
       ">                                                    (processing_object:__main__\n",
       ">                                                    .ProcessingObject,\n",
       ">                                                    strategy_configs:Dict)"
      ],
      "text/plain": [
       "---\n",
       "\n",
       "[source](https://github.com/Defense-Circuits-Lab/findmycells/blob/main/findmycells/core.py#L302){target=\"_blank\" style=\"float:right; font-size:smaller\"}\n",
       "\n",
       "### ProcessingStrategy.update_tracking_histories\n",
       "\n",
       ">      ProcessingStrategy.update_tracking_histories\n",
       ">                                                    (processing_object:__main__\n",
       ">                                                    .ProcessingObject,\n",
       ">                                                    strategy_configs:Dict)"
      ]
     },
     "execution_count": null,
     "metadata": {},
     "output_type": "execute_result"
    }
   ],
   "source": [
    "show_doc(ProcessingStrategy.update_tracking_histories)"
   ]
  },
  {
   "cell_type": "markdown",
   "metadata": {},
   "source": [
    "**For developers:**\n",
    "\n",
    "Associated properties that need to be implemented in subclasses inheriting from `ProcessingStrategy`. Feel free to check out the available implementations to see how this should look like, for instance in the \"findmycells.preprocessing.specs\" & \"findmycells.preprocessing.strategies\" submodules."
   ]
  },
  {
   "cell_type": "code",
   "execution_count": null,
   "metadata": {},
   "outputs": [
    {
     "data": {
      "text/markdown": [
       "---\n",
       "\n",
       "[source](https://github.com/Defense-Circuits-Lab/findmycells/blob/main/findmycells/core.py#L201){target=\"_blank\" style=\"float:right; font-size:smaller\"}\n",
       "\n",
       "### ProcessingStrategy.default_configs\n",
       "\n",
       ">      ProcessingStrategy.default_configs ()\n",
       "\n",
       "Abstract method that requires its subclasses to define the `default_configs`\n",
       "as a property of the class. Thus, this will specify all configuration options\n",
       "that come with each subclass, while simultaneously also providing default values\n",
       "for each option and, moreover, defining what types of values are allowed for each\n",
       "option. Check out the implementation of `DefaultConfigs` in the configs module, or\n",
       "have a look at how this is implemented in one of the processing sub-modules, for \n",
       "instance in the \"specs.py\" file in the preprocessing sub-module."
      ],
      "text/plain": [
       "---\n",
       "\n",
       "[source](https://github.com/Defense-Circuits-Lab/findmycells/blob/main/findmycells/core.py#L201){target=\"_blank\" style=\"float:right; font-size:smaller\"}\n",
       "\n",
       "### ProcessingStrategy.default_configs\n",
       "\n",
       ">      ProcessingStrategy.default_configs ()\n",
       "\n",
       "Abstract method that requires its subclasses to define the `default_configs`\n",
       "as a property of the class. Thus, this will specify all configuration options\n",
       "that come with each subclass, while simultaneously also providing default values\n",
       "for each option and, moreover, defining what types of values are allowed for each\n",
       "option. Check out the implementation of `DefaultConfigs` in the configs module, or\n",
       "have a look at how this is implemented in one of the processing sub-modules, for \n",
       "instance in the \"specs.py\" file in the preprocessing sub-module."
      ]
     },
     "execution_count": null,
     "metadata": {},
     "output_type": "execute_result"
    }
   ],
   "source": [
    "show_doc(ProcessingStrategy.default_configs)"
   ]
  },
  {
   "cell_type": "code",
   "execution_count": null,
   "metadata": {},
   "outputs": [
    {
     "data": {
      "text/markdown": [
       "---\n",
       "\n",
       "[source](https://github.com/Defense-Circuits-Lab/findmycells/blob/main/findmycells/core.py#L226){target=\"_blank\" style=\"float:right; font-size:smaller\"}\n",
       "\n",
       "### ProcessingStrategy.descriptions\n",
       "\n",
       ">      ProcessingStrategy.descriptions ()\n",
       "\n",
       "Descriptions that will be used as \"description\" parameter in the created \n",
       "widgets."
      ],
      "text/plain": [
       "---\n",
       "\n",
       "[source](https://github.com/Defense-Circuits-Lab/findmycells/blob/main/findmycells/core.py#L226){target=\"_blank\" style=\"float:right; font-size:smaller\"}\n",
       "\n",
       "### ProcessingStrategy.descriptions\n",
       "\n",
       ">      ProcessingStrategy.descriptions ()\n",
       "\n",
       "Descriptions that will be used as \"description\" parameter in the created \n",
       "widgets."
      ]
     },
     "execution_count": null,
     "metadata": {},
     "output_type": "execute_result"
    }
   ],
   "source": [
    "show_doc(ProcessingStrategy.descriptions)"
   ]
  },
  {
   "cell_type": "code",
   "execution_count": null,
   "metadata": {},
   "outputs": [
    {
     "data": {
      "text/markdown": [
       "---\n",
       "\n",
       "[source](https://github.com/Defense-Circuits-Lab/findmycells/blob/main/findmycells/core.py#L189){target=\"_blank\" style=\"float:right; font-size:smaller\"}\n",
       "\n",
       "### ProcessingStrategy.processing_type\n",
       "\n",
       ">      ProcessingStrategy.processing_type ()\n",
       "\n",
       "Abstract property. Will be used for instance in the database to keep track of the processing \n",
       "progress of the project. Has to be a string that matches with an available \n",
       "processing module (i.e. \"preprocessing\", \"segmentation\", \"postprocessing\", \n",
       "\"quantification\")."
      ],
      "text/plain": [
       "---\n",
       "\n",
       "[source](https://github.com/Defense-Circuits-Lab/findmycells/blob/main/findmycells/core.py#L189){target=\"_blank\" style=\"float:right; font-size:smaller\"}\n",
       "\n",
       "### ProcessingStrategy.processing_type\n",
       "\n",
       ">      ProcessingStrategy.processing_type ()\n",
       "\n",
       "Abstract property. Will be used for instance in the database to keep track of the processing \n",
       "progress of the project. Has to be a string that matches with an available \n",
       "processing module (i.e. \"preprocessing\", \"segmentation\", \"postprocessing\", \n",
       "\"quantification\")."
      ]
     },
     "execution_count": null,
     "metadata": {},
     "output_type": "execute_result"
    }
   ],
   "source": [
    "show_doc(ProcessingStrategy.processing_type)"
   ]
  },
  {
   "cell_type": "code",
   "execution_count": null,
   "metadata": {},
   "outputs": [
    {
     "data": {
      "text/markdown": [
       "---\n",
       "\n",
       "[source](https://github.com/Defense-Circuits-Lab/findmycells/blob/main/findmycells/core.py#L236){target=\"_blank\" style=\"float:right; font-size:smaller\"}\n",
       "\n",
       "### ProcessingStrategy.tooltips\n",
       "\n",
       ">      ProcessingStrategy.tooltips ()\n",
       "\n",
       "Additional information that can be displayed as tooltip by the respective \n",
       "widget. Unfortunately, tooltips are not available for all widget types \n",
       "in the ipywidgets version that is used by *findmycells*."
      ],
      "text/plain": [
       "---\n",
       "\n",
       "[source](https://github.com/Defense-Circuits-Lab/findmycells/blob/main/findmycells/core.py#L236){target=\"_blank\" style=\"float:right; font-size:smaller\"}\n",
       "\n",
       "### ProcessingStrategy.tooltips\n",
       "\n",
       ">      ProcessingStrategy.tooltips ()\n",
       "\n",
       "Additional information that can be displayed as tooltip by the respective \n",
       "widget. Unfortunately, tooltips are not available for all widget types \n",
       "in the ipywidgets version that is used by *findmycells*."
      ]
     },
     "execution_count": null,
     "metadata": {},
     "output_type": "execute_result"
    }
   ],
   "source": [
    "show_doc(ProcessingStrategy.tooltips)"
   ]
  },
  {
   "cell_type": "code",
   "execution_count": null,
   "metadata": {},
   "outputs": [
    {
     "data": {
      "text/markdown": [
       "---\n",
       "\n",
       "[source](https://github.com/Defense-Circuits-Lab/findmycells/blob/main/findmycells/core.py#L216){target=\"_blank\" style=\"float:right; font-size:smaller\"}\n",
       "\n",
       "### ProcessingStrategy.widget_names\n",
       "\n",
       ">      ProcessingStrategy.widget_names ()\n",
       "\n",
       "Defines which widgets will be created (e.g. \"Checkbox\" or \"Dropdown\"). \n",
       "See `GUIConfigs` to see a full list of available options."
      ],
      "text/plain": [
       "---\n",
       "\n",
       "[source](https://github.com/Defense-Circuits-Lab/findmycells/blob/main/findmycells/core.py#L216){target=\"_blank\" style=\"float:right; font-size:smaller\"}\n",
       "\n",
       "### ProcessingStrategy.widget_names\n",
       "\n",
       ">      ProcessingStrategy.widget_names ()\n",
       "\n",
       "Defines which widgets will be created (e.g. \"Checkbox\" or \"Dropdown\"). \n",
       "See `GUIConfigs` to see a full list of available options."
      ]
     },
     "execution_count": null,
     "metadata": {},
     "output_type": "execute_result"
    }
   ],
   "source": [
    "show_doc(ProcessingStrategy.widget_names)"
   ]
  },
  {
   "cell_type": "code",
   "execution_count": null,
   "metadata": {},
   "outputs": [
    {
     "data": {
      "text/markdown": [
       "---\n",
       "\n",
       "[source](https://github.com/Defense-Circuits-Lab/findmycells/blob/main/findmycells/core.py#L247){target=\"_blank\" style=\"float:right; font-size:smaller\"}\n",
       "\n",
       "### ProcessingStrategy.dropdown_option_value_for_gui\n",
       "\n",
       ">      ProcessingStrategy.dropdown_option_value_for_gui ()\n",
       "\n",
       "This string will be used as the option in the strategy selection \n",
       "dropdown in the GUI of *findmycells*."
      ],
      "text/plain": [
       "---\n",
       "\n",
       "[source](https://github.com/Defense-Circuits-Lab/findmycells/blob/main/findmycells/core.py#L247){target=\"_blank\" style=\"float:right; font-size:smaller\"}\n",
       "\n",
       "### ProcessingStrategy.dropdown_option_value_for_gui\n",
       "\n",
       ">      ProcessingStrategy.dropdown_option_value_for_gui ()\n",
       "\n",
       "This string will be used as the option in the strategy selection \n",
       "dropdown in the GUI of *findmycells*."
      ]
     },
     "execution_count": null,
     "metadata": {},
     "output_type": "execute_result"
    }
   ],
   "source": [
    "show_doc(ProcessingStrategy.dropdown_option_value_for_gui)  "
   ]
  },
  {
   "cell_type": "markdown",
   "metadata": {},
   "source": [
    "Associated abstract methods that need to be implemented in subclasses inheriting from `ProcessingStrategy`:"
   ]
  },
  {
   "cell_type": "code",
   "execution_count": null,
   "metadata": {},
   "outputs": [
    {
     "data": {
      "text/markdown": [
       "---\n",
       "\n",
       "[source](https://github.com/Defense-Circuits-Lab/findmycells/blob/main/findmycells/core.py#L256){target=\"_blank\" style=\"float:right; font-size:smaller\"}\n",
       "\n",
       "### ProcessingStrategy.run\n",
       "\n",
       ">      ProcessingStrategy.run (processing_object:__main__.ProcessingObject,\n",
       ">                              strategy_configs:Dict)\n",
       "\n",
       "Here comes the code that actually does the processing of the data."
      ],
      "text/plain": [
       "---\n",
       "\n",
       "[source](https://github.com/Defense-Circuits-Lab/findmycells/blob/main/findmycells/core.py#L256){target=\"_blank\" style=\"float:right; font-size:smaller\"}\n",
       "\n",
       "### ProcessingStrategy.run\n",
       "\n",
       ">      ProcessingStrategy.run (processing_object:__main__.ProcessingObject,\n",
       ">                              strategy_configs:Dict)\n",
       "\n",
       "Here comes the code that actually does the processing of the data."
      ]
     },
     "execution_count": null,
     "metadata": {},
     "output_type": "execute_result"
    }
   ],
   "source": [
    "show_doc(ProcessingStrategy.run)"
   ]
  },
  {
   "cell_type": "code",
   "execution_count": null,
   "metadata": {},
   "outputs": [
    {
     "data": {
      "text/markdown": [
       "---\n",
       "\n",
       "[source](https://github.com/Defense-Circuits-Lab/findmycells/blob/main/findmycells/core.py#L264){target=\"_blank\" style=\"float:right; font-size:smaller\"}\n",
       "\n",
       "### ProcessingStrategy._add_strategy_specific_infos_to_updates\n",
       "\n",
       ">      ProcessingStrategy._add_strategy_specific_infos_to_updates (updates:Dict)\n",
       "\n",
       "Allows to add processing specific information that is deemed relevant \n",
       "to the `FileHistory` objects in the `Database`. If there are no relevant \n",
       "information, simply return the \"updates\" dictionary again without changes."
      ],
      "text/plain": [
       "---\n",
       "\n",
       "[source](https://github.com/Defense-Circuits-Lab/findmycells/blob/main/findmycells/core.py#L264){target=\"_blank\" style=\"float:right; font-size:smaller\"}\n",
       "\n",
       "### ProcessingStrategy._add_strategy_specific_infos_to_updates\n",
       "\n",
       ">      ProcessingStrategy._add_strategy_specific_infos_to_updates (updates:Dict)\n",
       "\n",
       "Allows to add processing specific information that is deemed relevant \n",
       "to the `FileHistory` objects in the `Database`. If there are no relevant \n",
       "information, simply return the \"updates\" dictionary again without changes."
      ]
     },
     "execution_count": null,
     "metadata": {},
     "output_type": "execute_result"
    }
   ],
   "source": [
    "show_doc(ProcessingStrategy._add_strategy_specific_infos_to_updates)"
   ]
  },
  {
   "cell_type": "markdown",
   "metadata": {},
   "source": [
    "<br>\n",
    "<br>\n",
    "<br>"
   ]
  },
  {
   "cell_type": "markdown",
   "metadata": {},
   "source": [
    "# Handling data import"
   ]
  },
  {
   "cell_type": "markdown",
   "metadata": {},
   "source": [
    "Furthermore, the following two classes `DataLoader` and `DataReader` will be re-used throughout the *findmycells* package to load data into your *findmycells* project. You can find the specific implementations of `DataReader`s in the findmycells.reader module."
   ]
  },
  {
   "cell_type": "code",
   "execution_count": null,
   "metadata": {},
   "outputs": [],
   "source": [
    "#| export\n",
    "\n",
    "class DataReader(ABC):\n",
    "    \n",
    "    \"\"\"\n",
    "    Abstract base class that defines the general structure of DataReader subclasses.\n",
    "    Essentially, it demands the corresponding subclasses to define the \"readable_filetype_extensions\" \n",
    "    attribut, as well as the \"set_optional_configs()\" and the \"read()\" methods.\n",
    "    \"\"\"\n",
    "    \n",
    "    @property\n",
    "    @abstractmethod\n",
    "    def readable_filetype_extensions(self) -> List[str]:\n",
    "        \"\"\"\n",
    "        Property that will denote which filetype extensions the respective DataReader subclass can handle.\n",
    "        \"\"\"\n",
    "        pass\n",
    "    \n",
    "    \n",
    "    @abstractmethod\n",
    "    def read(self, filepath: Path, reader_configs: Dict) -> Any:\n",
    "        \"\"\"\n",
    "        This method eventually reads the data stored at the given filepath applying the specified configs.\n",
    "        The returned datatype will be different for each DataReader subclass, e.g. a numpy array of a specific\n",
    "        shape for MicroscopyImageReaders, or a shapely Polygon for ROIReaders.\n",
    "        \"\"\"\n",
    "        pass\n",
    "    \n",
    "    \n",
    "    @abstractmethod\n",
    "    def assert_correct_output_format(self, output: Any) -> None:\n",
    "        \"\"\"\n",
    "        Run an assert to validate that the data was actually read in the correct way and that the created output\n",
    "        matches the intended format!\n",
    "        \"\"\"\n",
    "        pass"
   ]
  },
  {
   "cell_type": "markdown",
   "metadata": {},
   "source": [
    "**Associated public methods (all abstract methods, that need to be implemented):**"
   ]
  },
  {
   "cell_type": "code",
   "execution_count": null,
   "metadata": {},
   "outputs": [
    {
     "data": {
      "text/markdown": [
       "---\n",
       "\n",
       "[source](https://github.com/Defense-Circuits-Lab/findmycells/blob/main/findmycells/core.py#L358){target=\"_blank\" style=\"float:right; font-size:smaller\"}\n",
       "\n",
       "### DataReader.read\n",
       "\n",
       ">      DataReader.read (filepath:pathlib.Path, reader_configs:Dict)\n",
       "\n",
       "This method eventually reads the data stored at the given filepath applying the specified configs.\n",
       "The returned datatype will be different for each DataReader subclass, e.g. a numpy array of a specific\n",
       "shape for MicroscopyImageReaders, or a shapely Polygon for ROIReaders."
      ],
      "text/plain": [
       "---\n",
       "\n",
       "[source](https://github.com/Defense-Circuits-Lab/findmycells/blob/main/findmycells/core.py#L358){target=\"_blank\" style=\"float:right; font-size:smaller\"}\n",
       "\n",
       "### DataReader.read\n",
       "\n",
       ">      DataReader.read (filepath:pathlib.Path, reader_configs:Dict)\n",
       "\n",
       "This method eventually reads the data stored at the given filepath applying the specified configs.\n",
       "The returned datatype will be different for each DataReader subclass, e.g. a numpy array of a specific\n",
       "shape for MicroscopyImageReaders, or a shapely Polygon for ROIReaders."
      ]
     },
     "execution_count": null,
     "metadata": {},
     "output_type": "execute_result"
    }
   ],
   "source": [
    "show_doc(DataReader.read)"
   ]
  },
  {
   "cell_type": "code",
   "execution_count": null,
   "metadata": {},
   "outputs": [
    {
     "data": {
      "text/markdown": [
       "---\n",
       "\n",
       "[source](https://github.com/Defense-Circuits-Lab/findmycells/blob/main/findmycells/core.py#L368){target=\"_blank\" style=\"float:right; font-size:smaller\"}\n",
       "\n",
       "### DataReader.assert_correct_output_format\n",
       "\n",
       ">      DataReader.assert_correct_output_format (output:Any)\n",
       "\n",
       "Run an assert to validate that the data was actually read in the correct way and that the created output\n",
       "matches the intended format!"
      ],
      "text/plain": [
       "---\n",
       "\n",
       "[source](https://github.com/Defense-Circuits-Lab/findmycells/blob/main/findmycells/core.py#L368){target=\"_blank\" style=\"float:right; font-size:smaller\"}\n",
       "\n",
       "### DataReader.assert_correct_output_format\n",
       "\n",
       ">      DataReader.assert_correct_output_format (output:Any)\n",
       "\n",
       "Run an assert to validate that the data was actually read in the correct way and that the created output\n",
       "matches the intended format!"
      ]
     },
     "execution_count": null,
     "metadata": {},
     "output_type": "execute_result"
    }
   ],
   "source": [
    "show_doc(DataReader.assert_correct_output_format)"
   ]
  },
  {
   "cell_type": "markdown",
   "metadata": {},
   "source": [
    "<br>\n",
    "<br>\n",
    "<br>"
   ]
  },
  {
   "cell_type": "code",
   "execution_count": null,
   "metadata": {},
   "outputs": [],
   "source": [
    "#| export\n",
    "\n",
    "class DataLoader:\n",
    "    \n",
    "    \"\"\"\n",
    "    Works as an interface between whatever needs to import data (e.g. a `PreprocessingObject`) \n",
    "    and the `DataReader`s. It will look for an adequate reader implemented for the specific \n",
    "    data type (i.e. filetype) at hand.\n",
    "    \"\"\"\n",
    "    \n",
    "    def determine_reader(self, file_extension: str, data_reader_module: ModuleType) -> DataReader:\n",
    "        \"\"\"\n",
    "        Check whether there is a reader implemented in the requested reader submodule that \n",
    "        can handle the specified filetype inferred from its extension.\n",
    "        \"\"\"\n",
    "        available_reader = None\n",
    "        for name, data_reader in inspect.getmembers(data_reader_module):\n",
    "            if (name.endswith('Reader') == True) & (name != 'DataReader'):\n",
    "                if file_extension in data_reader().readable_filetype_extensions:\n",
    "                    available_reader = data_reader\n",
    "        if available_reader == None:\n",
    "            raise NotImplementedError(f'Unfortunately, there is no DataReader implemented in {data_reader_module} '\n",
    "                                      f'which can handle your filetype (\"{file_extension}\").')\n",
    "        return available_reader\n",
    "    \n",
    "    \n",
    "    def load(self, data_reader_class: DataReader, filepath: PosixPath, reader_configs: Dict) -> Any:\n",
    "        \"\"\"\n",
    "        Uses the provided `DataReader` subclass to import the data.\n",
    "        \"\"\"\n",
    "        data_reader = data_reader_class()\n",
    "        # data_reader.set_optional_configs(database = database)\n",
    "        data = data_reader.read(filepath = filepath, reader_configs = reader_configs)\n",
    "        data_reader.assert_correct_output_format(output = data)\n",
    "        return data                 "
   ]
  },
  {
   "cell_type": "markdown",
   "metadata": {},
   "source": [
    "**Associated public methods:**"
   ]
  },
  {
   "cell_type": "code",
   "execution_count": null,
   "metadata": {},
   "outputs": [
    {
     "data": {
      "text/markdown": [
       "---\n",
       "\n",
       "[source](https://github.com/Defense-Circuits-Lab/findmycells/blob/main/findmycells/core.py#L384){target=\"_blank\" style=\"float:right; font-size:smaller\"}\n",
       "\n",
       "### DataLoader.determine_reader\n",
       "\n",
       ">      DataLoader.determine_reader (file_extension:str,\n",
       ">                                   data_reader_module:module)\n",
       "\n",
       "Check whether there is a reader implemented in the requested reader submodule that \n",
       "can handle the specified filetype inferred from its extension."
      ],
      "text/plain": [
       "---\n",
       "\n",
       "[source](https://github.com/Defense-Circuits-Lab/findmycells/blob/main/findmycells/core.py#L384){target=\"_blank\" style=\"float:right; font-size:smaller\"}\n",
       "\n",
       "### DataLoader.determine_reader\n",
       "\n",
       ">      DataLoader.determine_reader (file_extension:str,\n",
       ">                                   data_reader_module:module)\n",
       "\n",
       "Check whether there is a reader implemented in the requested reader submodule that \n",
       "can handle the specified filetype inferred from its extension."
      ]
     },
     "execution_count": null,
     "metadata": {},
     "output_type": "execute_result"
    }
   ],
   "source": [
    "show_doc(DataLoader.determine_reader)"
   ]
  },
  {
   "cell_type": "code",
   "execution_count": null,
   "metadata": {},
   "outputs": [
    {
     "data": {
      "text/markdown": [
       "---\n",
       "\n",
       "[source](https://github.com/Defense-Circuits-Lab/findmycells/blob/main/findmycells/core.py#L400){target=\"_blank\" style=\"float:right; font-size:smaller\"}\n",
       "\n",
       "### DataLoader.load\n",
       "\n",
       ">      DataLoader.load (data_reader_class:__main__.DataReader,\n",
       ">                       filepath:pathlib.PosixPath, reader_configs:Dict)\n",
       "\n",
       "Uses the provided `DataReader` subclass to import the data."
      ],
      "text/plain": [
       "---\n",
       "\n",
       "[source](https://github.com/Defense-Circuits-Lab/findmycells/blob/main/findmycells/core.py#L400){target=\"_blank\" style=\"float:right; font-size:smaller\"}\n",
       "\n",
       "### DataLoader.load\n",
       "\n",
       ">      DataLoader.load (data_reader_class:__main__.DataReader,\n",
       ">                       filepath:pathlib.PosixPath, reader_configs:Dict)\n",
       "\n",
       "Uses the provided `DataReader` subclass to import the data."
      ]
     },
     "execution_count": null,
     "metadata": {},
     "output_type": "execute_result"
    }
   ],
   "source": [
    "show_doc(DataLoader.load)"
   ]
  },
  {
   "cell_type": "code",
   "execution_count": null,
   "metadata": {},
   "outputs": [],
   "source": [
    "#| hide\n",
    "import nbdev; nbdev.nbdev_export()"
   ]
  }
 ],
 "metadata": {
  "kernelspec": {
   "display_name": "python3",
   "language": "python",
   "name": "python3"
  }
 },
 "nbformat": 4,
 "nbformat_minor": 4
}
