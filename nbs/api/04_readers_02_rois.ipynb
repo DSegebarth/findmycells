{
 "cells": [
  {
   "cell_type": "markdown",
   "id": "4382ed06-d574-40e4-a27c-a879492482d5",
   "metadata": {},
   "source": [
    "# readers for ROI-files\n",
    "\n",
    "> Extends the generic reader classes for specific ROI data types (findmycells.readers.rois)\n",
    "\n",
    "- order: 15"
   ]
  },
  {
   "cell_type": "code",
   "execution_count": null,
   "id": "cc07231a-a34c-4383-aa0a-bf3d1f89450f",
   "metadata": {},
   "outputs": [],
   "source": [
    "#| default_exp readers/rois"
   ]
  },
  {
   "cell_type": "code",
   "execution_count": null,
   "id": "081b335c-082a-48c9-9eaf-dafcc354b333",
   "metadata": {},
   "outputs": [],
   "source": [
    "#| hide\n",
    "from nbdev.showdoc import *"
   ]
  },
  {
   "cell_type": "code",
   "execution_count": null,
   "id": "b8b04b37-0788-4d1e-b8f3-524370f08136",
   "metadata": {},
   "outputs": [],
   "source": [
    "#| export\n",
    "\n",
    "from typing import Dict, List, Any, Union\n",
    "from pathlib import PosixPath, WindowsPath\n",
    "import numpy as np\n",
    "from shapely.geometry import Polygon\n",
    "import roifile\n",
    "\n",
    "from findmycells.core import DataReader"
   ]
  },
  {
   "cell_type": "code",
   "execution_count": null,
   "id": "d4ddf605-07db-4a89-9358-bdb5430944a0",
   "metadata": {},
   "outputs": [],
   "source": [
    "#| export\n",
    "\n",
    "class ROIReaders(DataReader):\n",
    "    \"\"\" \n",
    "    Return the roi(s) as shapely.geometry.Polygon(s) in a nested dictionary with structure: {plane_id: {roi_id: Polygon}}\n",
    "    In case plane-specific ROIs are required / requested at some point, \n",
    "    having the additional level that enables the reference to plane_id(s) should foster the implementation.\n",
    "    The current implementation, however, only supports the use of ROIs for all planes - the corresponding plane_id is hence: 'all_planes'\n",
    "    Ultimately, this file_id specific dictionary can then be integrated into the 'rois_as_shapely_polygons' attribute of the database.\n",
    "\n",
    "    Note: If multiple ROIs are used for one image, the individual ROIs must be named properly in the ROIManager-Tool in ImageJ.\n",
    "          For instance, if images of the hippocampus are investigated & they can contain images of the DG, CA3 and CA1, \n",
    "          the corresponding ROIs that mark the respective area have to be named consistenly for all .zip files. This makes it possible, \n",
    "          that findmycells can handle the analysis even if not all ROIs are present for each image, e.g. for some files only DG and CA3.\n",
    "    \"\"\"  \n",
    "    \n",
    "    def assert_correct_output_format(self, output: Dict[str, Dict[str, Polygon]]) -> None:\n",
    "        assert type(output) == dict, 'The overall type of the returned data is not a dictionary!'\n",
    "        for plane_id, nested_dict in output.items():\n",
    "            assert type(plane_id) == str, 'Not all keys of the constructed ROI dictrionary are strings!'\n",
    "            assert type(nested_dict) == dict, 'Not all elements in the constructed ROI dictionary are nested dictionaries!'\n",
    "            for roi_id, polygon in output[plane_id].items():\n",
    "                assert type(roi_id) == str, 'Not all assigned ROI-IDs are strings!'\n",
    "                assert type(polygon) == Polygon, 'Not all loaded ROIs were successfully converted into Polygon objects!'"
   ]
  },
  {
   "cell_type": "code",
   "execution_count": null,
   "id": "b8579260-ab1b-410c-ba73-bb7a2c9a072a",
   "metadata": {},
   "outputs": [],
   "source": [
    "#| export\n",
    "\n",
    "class ImageJROIReader(ROIReaders):\n",
    "    \n",
    "    \n",
    "    @property\n",
    "    def readable_filetype_extensions(self) -> List[str]:\n",
    "        return ['.roi', '.zip']\n",
    "    \n",
    "    \n",
    "    def read(self,\n",
    "             filepath: Union[PosixPath, WindowsPath], # filepath to the roi file\n",
    "             reader_configs: Dict # the project database\n",
    "            ) -> Dict[str, Dict[str, Polygon]]: # nested dictionaries of shapely polygons: {plane_id: {roi_id: Polygon}}\n",
    "        if filepath.suffix == '.roi':\n",
    "            loaded_rois = [roifile.ImagejRoi.fromfile(filepath)]\n",
    "        else: # it´s a .zip file:\n",
    "            loaded_rois = roifile.ImagejRoi.fromfile(filepath)\n",
    "        rois_as_shapely_polygons = {'all_planes': {}} # plane specific ROIs are not yet supported, but this structure would allow it\n",
    "        roi_count = len(loaded_rois)\n",
    "        for idx in range(roi_count):\n",
    "            row_coords = loaded_rois[idx].coordinates()[:, 1]\n",
    "            col_coords = loaded_rois[idx].coordinates()[:, 0]\n",
    "            if reader_configs['load_roi_ids_from_file'] == True:\n",
    "                rois_as_shapely_polygons['all_planes'][loaded_rois[idx].name] = Polygon(np.asarray(list(zip(row_coords, col_coords))))\n",
    "            else:\n",
    "                rois_as_shapely_polygons['all_planes'][str(idx).zfill(3)] = Polygon(np.asarray(list(zip(row_coords, col_coords))))            \n",
    "        return rois_as_shapely_polygons"
   ]
  },
  {
   "cell_type": "code",
   "execution_count": null,
   "id": "8718c497-98c8-4dd9-b06f-aa26a4f03be4",
   "metadata": {},
   "outputs": [],
   "source": [
    "#| hide\n",
    "import nbdev; nbdev.nbdev_export()"
   ]
  }
 ],
 "metadata": {
  "kernelspec": {
   "display_name": "python3",
   "language": "python",
   "name": "python3"
  }
 },
 "nbformat": 4,
 "nbformat_minor": 5
}
