{
 "cells": [
  {
   "cell_type": "markdown",
   "id": "cc8009fd-6a00-4ae5-9d29-659adf0e8c29",
   "metadata": {},
   "source": [
    "# microscopy image data readers\n",
    "\n",
    "> This module contains all code responsible for reading microscopy image files:"
   ]
  },
  {
   "cell_type": "code",
   "execution_count": null,
   "id": "24bbf573-1d49-48ce-8a94-0d5027f5313e",
   "metadata": {},
   "outputs": [],
   "source": [
    "#| default_exp /readers/microscopy_images"
   ]
  },
  {
   "cell_type": "code",
   "execution_count": null,
   "id": "b9084583-28b6-4a03-aa8c-c597131763e7",
   "metadata": {},
   "outputs": [],
   "source": [
    "from findmycells.core import DataReader\n",
    "from findmycells.database import Database"
   ]
  },
  {
   "cell_type": "code",
   "execution_count": null,
   "id": "9f5c18c9-d0f4-412a-9886-212273f3d806",
   "metadata": {},
   "outputs": [],
   "source": [
    "#| export\n",
    "\n",
    "class MicroscopyImageReaders(DataReader):\n",
    "    \"\"\"\n",
    "    The read method of MicroscopyImageReaders subclasses has to return a numpy array with the following structure:\n",
    "    [imaging-planes, rows, columns, color-channels] \n",
    "    For instance, an array of a RGB z-stack with 10 image planes of 1024x1024 pixels will have a shape of:\n",
    "    [10, 1024, 1024, 3]\n",
    "    To improve re-usability of the same functions for all different kinds of input images, this structure will \n",
    "    be used even if there is just a single plane. For instance, the shape of the array of a grayscale \n",
    "    2D image with 1024 x 1024 pixels will look like this:\n",
    "    [1, 1024, 1024, 1]    \n",
    "    \"\"\"\n",
    "\n",
    "    @property\n",
    "    def key_to_configs_attribute_in_database(self) -> str\n",
    "        return 'MicroscopyImageReader_configs'\n",
    "    \n",
    "    \n",
    "    @property\n",
    "    def default_config_values(self) -> Dict:\n",
    "        \"\"\"\n",
    "        Commonly only a fraction of the actual microscopy image file needs to analyzed and, therefore,\n",
    "        loaded. This methods allows the user to define the exact color channel, imaging plane, tile, or\n",
    "        version of the image data (often the data can be loaded in different resolutions) that needs to be \n",
    "        loaded. The corresponding `MicroscopyImageReader` implementations will then ensure the correct \n",
    "        selection upon executing the `read()` method.\n",
    "        \"\"\"\n",
    "        default_values = {'color_channel_idx': None,\n",
    "                          'plane_idx': None,\n",
    "                          'version_idx': None,\n",
    "                          'tile_row_col_idxs': None}\n",
    "        return default_values\n",
    "    \n",
    "    \n",
    "    @property\n",
    "    def default_config_value_types(self) -> Dict[str, List]:\n",
    "        default_config_value_types = {'color_channel_idx': [type(None), int],\n",
    "                                      'plane_idx': [type(None), int],\n",
    "                                      'version_idx': [type(None), int],\n",
    "                                      'title_row_col_idxs': [type(None), tuple]}\n",
    "        return default_config_value_types\n",
    "                          \n",
    "        \n",
    "        \n",
    "        \n",
    "\n",
    "    def load_special_configs(self, \n",
    "                             color_channel_idx: Optional[int] = None,\n",
    "                             plane_idx: Optional[int] = None,\n",
    "                             version_idx: Optional[int] = None,\n",
    "                             tile_row_col_idxs: Optional[Tuple[int, int]] = None\n",
    "                            ) -> None:\n",
    "\n",
    "        self.color_channel_idx = color_channel_idx\n",
    "        self.plane_idx = plane_idx\n",
    "        self.version_idx = version_idx\n",
    "        self.tile_row_col_idxs = tile_row_col_idxs"
   ]
  },
  {
   "cell_type": "code",
   "execution_count": null,
   "id": "a76c3fd5-d914-41a6-b9dd-59dbb10240be",
   "metadata": {},
   "outputs": [],
   "source": []
  },
  {
   "cell_type": "code",
   "execution_count": null,
   "id": "614e41d6-1f03-4299-9bd3-747325454fce",
   "metadata": {},
   "outputs": [],
   "source": []
  },
  {
   "cell_type": "code",
   "execution_count": null,
   "id": "f8aeb82c-f472-4576-9f54-dee2f78e780a",
   "metadata": {},
   "outputs": [],
   "source": []
  },
  {
   "cell_type": "code",
   "execution_count": null,
   "id": "0e40e757-ab76-475a-8e69-0768bf8998cb",
   "metadata": {},
   "outputs": [],
   "source": [
    "#| hide\n",
    "from nbdev.showdoc import *"
   ]
  }
 ],
 "metadata": {
  "kernelspec": {
   "display_name": "Python 3 (ipykernel)",
   "language": "python",
   "name": "python3"
  }
 },
 "nbformat": 4,
 "nbformat_minor": 5
}
