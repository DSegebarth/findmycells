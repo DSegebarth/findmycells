{
 "cells": [
  {
   "cell_type": "markdown",
   "id": "04a60ece-55a9-4bc1-9aad-f1fd99baa522",
   "metadata": {},
   "source": [
    "# Specifications of quantification specific subclasses\n",
    "\n",
    "> This module defines the specifications of quantification related subclasses of `ProcessingStrategy` and `ProcessingObject`"
   ]
  },
  {
   "cell_type": "code",
   "execution_count": null,
   "id": "09060c64-256d-47d4-9135-c5ff04743ed5",
   "metadata": {},
   "outputs": [],
   "source": [
    "#| default_exp quantification/specs"
   ]
  },
  {
   "cell_type": "code",
   "execution_count": null,
   "id": "7d5488b7-58b0-4859-a46e-c9745c522be3",
   "metadata": {},
   "outputs": [],
   "source": [
    "#| export\n",
    "\n",
    "from abc import abstractmethod\n",
    "from typing import Dict, List\n",
    "from skimage import io\n",
    "\n",
    "from findmycells.core import ProcessingObject, ProcessingStrategy\n",
    "from findmycells.database import Database\n",
    "from findmycells import utils"
   ]
  },
  {
   "cell_type": "code",
   "execution_count": null,
   "id": "e6260428-0470-4f47-9cb5-ad14c968e9a8",
   "metadata": {},
   "outputs": [],
   "source": [
    "#| hide\n",
    "from nbdev.showdoc import *"
   ]
  },
  {
   "cell_type": "code",
   "execution_count": null,
   "id": "e9649966-2dd5-485f-974c-03a0630a5af8",
   "metadata": {},
   "outputs": [],
   "source": [
    "#| export\n",
    "\n",
    "class QuantificationStrategy(ProcessingStrategy):\n",
    "    \n",
    "    @property\n",
    "    def processing_type(self):\n",
    "        return 'quantification'\n",
    "\n",
    "\n",
    "    @abstractmethod\n",
    "    def _add_quantification_results_to_database(quantification_object: ProcessingObject, results: Dict) -> ProcessingObject:\n",
    "        # This method can actually just be copy-pasted into each strategy that inherits from QuantificationStrategy\n",
    "        # However, it is implemented here as abstractmethod to ensure that it will be raise an error if it´s overlooked.\n",
    "        # For implementation, the code in the docstring below can simply be copy pasted into each subclass,\n",
    "        # and the following line needs to be added as final line to the run() method:\n",
    "        # quantification_object = self._add_quantification_results_to_database(quantification_object = quantification_object, results = quantification_results)\n",
    "        \"\"\"\n",
    "        if hasattr(quantification_object.database, 'quantification_results') == False:\n",
    "            setattr(quantification_object.database, 'quantification_results', {})\n",
    "        if self.__class__.__name__ not in quantification_object.database.quantification_results.keys():\n",
    "            quantification_object.database.quantification_results[self.__class__.__name__] = {}\n",
    "        quantification_object.database.quantification_results[self.__class__.__name__][quantification_object.file_id] = results\n",
    "        \"\"\"\n",
    "        return quantification_object"
   ]
  },
  {
   "cell_type": "code",
   "execution_count": null,
   "id": "e53c5dc4-82c6-486b-9fca-e9aa83469bcb",
   "metadata": {},
   "outputs": [],
   "source": [
    "#| export\n",
    "\n",
    "class QuantificationObject(ProcessingObject):\n",
    "    \n",
    "    def __init__(self, database: Database, file_ids: List[str], strategies: List[QuantificationStrategy]) -> None:\n",
    "        super().__init__(database = database, file_ids = file_ids, strategies = strategies)\n",
    "        self.file_id = file_ids[0]\n",
    "        self.segmentations_per_area_roi_id = self._load_postprocessed_segmentations()\n",
    "\n",
    "\n",
    "    @property\n",
    "    def processing_type(self):\n",
    "        return 'quantification'\n",
    "\n",
    "\n",
    "    def _load_postprocessed_segmentations(self) -> Dict:\n",
    "        segmentations_per_area_roi_id = dict()\n",
    "        for elem in self.database.quantified_segmentations_dir.iterdir():\n",
    "            if elem.is_dir():\n",
    "                filenames = [filename for filename in listdir_nohidden(elem) if filename.startswith(self.file_id)]\n",
    "                if len(filenames) > 0:\n",
    "                    area_roi_id = elem.name\n",
    "                    segmentations_per_area_roi_id[area_roi_id] = utils.load_zstack_as_array_from_single_planes(path = elem, file_id = self.file_id)\n",
    "        return segmentations_per_area_roi_id\n",
    "            \n",
    "\n",
    "    def save_postprocessed_segmentations(self) -> None:\n",
    "        for area_roi_id in self.segmentations_per_area_roi_id.keys():\n",
    "            for plane_index in range(self.segmentations_per_area_roi_id[area_roi_id].shape[0]):\n",
    "                image = self.segmentations_per_area_roi_id[area_roi_id][plane_index]\n",
    "                filepath = self.database.quantified_segmentations_dir.joinpath(area_roi_id)\n",
    "                if filepath.is_dir() == False:\n",
    "                    filepath.mkdir()\n",
    "                filename_path = filepath.joinpath(f'{self.file_id}-{str(plane_index).zfill(3)}_postprocessed_segmentations.png')\n",
    "                io.imsave(filename_path, image, check_contrast=False)\n",
    "\n",
    "\n",
    "    def add_processing_specific_infos_to_updates(self, updates: Dict) -> Dict:\n",
    "        return updates"
   ]
  },
  {
   "cell_type": "code",
   "execution_count": null,
   "id": "8718c497-98c8-4dd9-b06f-aa26a4f03be4",
   "metadata": {},
   "outputs": [],
   "source": [
    "#| hide\n",
    "import nbdev; nbdev.nbdev_export()"
   ]
  }
 ],
 "metadata": {
  "kernelspec": {
   "display_name": "Python 3 (ipykernel)",
   "language": "python",
   "name": "python3"
  }
 },
 "nbformat": 4,
 "nbformat_minor": 5
}
