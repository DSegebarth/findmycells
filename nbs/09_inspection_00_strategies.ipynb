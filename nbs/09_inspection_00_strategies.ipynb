{
 "cells": [
  {
   "cell_type": "markdown",
   "id": "1819fa9d-b390-4250-9c60-1e779f4aeb23",
   "metadata": {},
   "source": [
    "# Inspection methods\n",
    "\n",
    "> This module defines all available inspection methods (= inspection options)"
   ]
  },
  {
   "cell_type": "markdown",
   "id": "5ce065e8-cddb-40d2-95c8-ba6ff7d64405",
   "metadata": {},
   "source": [
    "Note: This submodule does not use the abstract base classes `ProcessingObject` and `ProcessingStrategy`. The reason for this is to make specifying the settings and configurations for these inspection methods more interactive for the user - especially when accessed via the GUI. Unfortunately, this sacrifices a bit of overall code consistency. However, since inspection also does not really represent a processing step, this trade-off in favor of usability seemed reasonable. To make make the distinction ever more apparent, the classes that handle the different inspections will be referred to as \"methods\" instead of \"strategies\" in the class names."
   ]
  },
  {
   "cell_type": "code",
   "execution_count": null,
   "id": "64252aad-c910-4c4b-bad9-df78816a74a4",
   "metadata": {},
   "outputs": [],
   "source": [
    "#| default_exp inspection/methods"
   ]
  },
  {
   "cell_type": "code",
   "execution_count": null,
   "id": "f1514733-f151-4505-b9d0-219dd14ab636",
   "metadata": {},
   "outputs": [],
   "source": [
    "#| export\n",
    "\n",
    "from typing import Tuple, List, Dict\n",
    "from pathlib import Path\n",
    "\n",
    "import numpy as np\n",
    "from skimage import io, color\n",
    "\n",
    "from findmycells.database import Database\n",
    "from findmycells import utils\n",
    "\n",
    "from matplotlib.backend_bases import MouseButton\n",
    "import matplotlib.pyplot as plt"
   ]
  },
  {
   "cell_type": "code",
   "execution_count": null,
   "id": "2c02d588-1495-4f60-8cd9-91f068db60c8",
   "metadata": {},
   "outputs": [],
   "source": [
    "#| hide\n",
    "from nbdev.showdoc import *"
   ]
  },
  {
   "cell_type": "code",
   "execution_count": null,
   "id": "dd244ddb-eef8-4f04-9082-231ec9582656",
   "metadata": {},
   "outputs": [],
   "source": [
    "#| export\n",
    "\n",
    "class InspectionMethod:\n",
    "    \n",
    "    \n",
    "    def __init__(self, file_id: str, area_roi_id: str, database: Database) -> None:\n",
    "        self.file_id = file_id\n",
    "        self.area_roi_id = area_roi_id\n",
    "        self.database = database\n",
    "        self.preprocessed_image = self._load_preprocessed_image()\n",
    "        self.postprocessed_segmentation_mask = self._load_postprocessed_segmentation_mask()\n",
    "        self.rgb_color_coded_2d_overlay_of_image_and_mask = self._create_rgb_color_coded_2d_overlay_of_image_and_mask()\n",
    "        self.area_roi = self.database.area_rois_for_quantification[file_id]['all_planes'][area_roi_id]\n",
    "\n",
    "    \n",
    "    def _load_preprocessed_image(self) -> np.ndarray:\n",
    "        preprocessed_images_dir_path = self.database.project_configs.root_dir.joinpath(self.database.preprocessed_images_dir)\n",
    "        return utils.load_zstack_as_array_from_single_planes(path = preprocessed_images_dir_path, file_id = self.file_id)\n",
    "\n",
    "\n",
    "    def _load_postprocessed_segmentation_mask(self) -> np.ndarray:\n",
    "        postprocessed_masks_dir_path = self.database.project_configs.root_dir.joinpath(self.database.quantified_segmentations_dir, self.area_roi_id)\n",
    "        return utils.load_zstack_as_array_from_single_planes(path = postprocessed_masks_dir_path, file_id = self.file_id)\n",
    "    \n",
    "    \n",
    "    def get_available_label_ids(self) -> List[int]:\n",
    "        return list(np.unique(self.postprocessed_segmentation_mask))\n",
    "    \n",
    "    \n",
    "    def get_available_multi_match_idxs(self) -> List[int]:\n",
    "        return self.database.multi_matches_traceback[self.file_id]['final_label_id']\n",
    "    \n",
    "    \n",
    "    def get_center_coords_from_mouse_click_position(self) -> Tuple[int, int]:\n",
    "        from IPython import get_ipython\n",
    "        ipy = get_ipython()\n",
    "        if ipy is not None:\n",
    "            ipy.run_line_magic('matplotlib', 'tk')\n",
    "        fig = plt.figure(figsize=(10, 10), facecolor = 'white')\n",
    "        plt.connect('button_press_event', self._matplotlib_figure_clicked)\n",
    "        plt.imshow(self.rgb_color_coded_2d_overlay_of_image_and_mask)\n",
    "\n",
    "        \n",
    "    def _matplotlib_figure_clicked(self, event):\n",
    "        if event.button is MouseButton.RIGHT:\n",
    "            # only alternative to printing the values (without installing additional packages) seems to be a global variable...\n",
    "            print(f'Your selected x-coordinate was: {event.x}, and your selected y-coordinate was: {event.y}.')\n",
    "            plt.close()\n",
    "    \n",
    "    \n",
    "    def get_center_coords_from_label_id(self, label_id: int) -> Tuple[int, int]:\n",
    "        if self.postprocessed_segmentation_mask.shape[0] > 1:\n",
    "            mask_as_single_plane = np.max(self.postprocessed_segmentation_mask, axis=0)\n",
    "        else:\n",
    "            mask_as_single_plane = self.postprocessed_segmentation_mask\n",
    "        feature_roi = utils.get_polygon_from_instance_segmentation(single_plane = mask_as_single_plane, label_id = label_id)\n",
    "        return (feature_roi.centroid.y, feature_roi.centroid.x)\n",
    "\n",
    "\n",
    "    def get_center_coords_from_multi_match_idx(self, multi_match_idx: int) -> Tuple[int, int]:\n",
    "        label_id = self.database.multi_matches_traceback[self.file_id]['final_label_id'][multi_match_idx]\n",
    "        return self.get_center_coords_from_label_id(label_id = label_id)\n",
    "    \n",
    "    \n",
    "    def _create_rgb_color_coded_2d_overlay_of_image_and_mask(self) -> np.ndarray:\n",
    "        max_projection_image = np.max(self.preprocessed_image, axis=0)\n",
    "        max_projection_mask = np.max(self.postprocessed_segmentation_mask, axis=0)\n",
    "        return color.label2rgb(max_projection_mask, image = max_projection_image, bg_label = 0, bg_color = None, saturation = 1, alpha = 1)    \n",
    "    \n"
   ]
  },
  {
   "cell_type": "code",
   "execution_count": null,
   "id": "8718c497-98c8-4dd9-b06f-aa26a4f03be4",
   "metadata": {},
   "outputs": [],
   "source": [
    "#| hide\n",
    "import nbdev; nbdev.nbdev_export()"
   ]
  }
 ],
 "metadata": {
  "kernelspec": {
   "display_name": "Python 3 (ipykernel)",
   "language": "python",
   "name": "python3"
  }
 },
 "nbformat": 4,
 "nbformat_minor": 5
}
