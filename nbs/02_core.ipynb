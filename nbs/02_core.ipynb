{
 "cells": [
  {
   "cell_type": "markdown",
   "metadata": {},
   "source": [
    "# core\n",
    "\n",
    "> Defines central classes of findmycells: `ProcessingStrategy`, `ProcessingObject`, `DataLoader`, and `DataReader`"
   ]
  },
  {
   "cell_type": "code",
   "execution_count": null,
   "metadata": {},
   "outputs": [],
   "source": [
    "#| default_exp core"
   ]
  },
  {
   "cell_type": "code",
   "execution_count": null,
   "metadata": {},
   "outputs": [],
   "source": [
    "#| export\n",
    "\n",
    "from abc import ABC, abstractmethod\n",
    "from findmycells.database import Database\n",
    "from findmycells.configs import DefaultConfigs, GUIConfigs\n",
    "from typing import List, Dict, Tuple, Optional, Any\n",
    "from types import ModuleType\n",
    "from pathlib import Path, PosixPath\n",
    "import inspect"
   ]
  },
  {
   "cell_type": "code",
   "execution_count": null,
   "metadata": {},
   "outputs": [],
   "source": [
    "#| hide\n",
    "from nbdev.showdoc import *"
   ]
  },
  {
   "cell_type": "markdown",
   "metadata": {},
   "source": [
    "# Handling data processing"
   ]
  },
  {
   "cell_type": "markdown",
   "metadata": {},
   "source": [
    "The following two classes, `ProcessingObject` and `ProcessingStrategy`, provide the blueprints for all processing strategies and objects that are used throughout the *findmycells* package. As you can see in the corresponding processing step modules (i.e. \"preprocess\", \"segment\", or \"quantify\"), these abstract base classes provide the basic structure of the more specific objects and strategies in each of these modules (e.g. `QuantificationObject` and `QuantificationStrategy` within the \"quantify\" module inherit from `ProcessingObject` and `ProcessingStrategy`, respectively). While this makes these two classes highly relevant for any developer, regular users of *findmycells* won´t be interacting with them, even if they want to use the API instead of the GUI."
   ]
  },
  {
   "cell_type": "code",
   "execution_count": null,
   "metadata": {},
   "outputs": [],
   "source": [
    "#| export\n",
    "\n",
    "class ProcessingObject(ABC):\n",
    "    \n",
    "    \"\"\"\n",
    "    Abstract base class (inherits from ABC) that defines the general structure of `ProcessingObjects` in findmycells.\n",
    "    A `ProcessingObject` combines all information needed for the corresponding processing step, \n",
    "    i.e. what files are supposed to be processed & how. It also interfaces to the database of the\n",
    "    project, such that it can automatically update the database with the latest progress.\n",
    "    \"\"\"\n",
    "\n",
    "    @property\n",
    "    @abstractmethod\n",
    "    def processing_type(self\n",
    "                       ) -> str: # string that defines the processing type (e.g. \"preprocessing\" or \"quantification\")\n",
    "        \"\"\"\n",
    "        Abstract method that requires its subclasses to define the `processing_type`\n",
    "        as a property of the class. Thus, this will be specified in each individual \n",
    "        processing module (e.g. the \"preprocess\" or \"quantify\" modules). It will be used\n",
    "        in the database to keep track of the processing progress of the project.\n",
    "        Has to be a string.\n",
    "        \"\"\"\n",
    "        pass\n",
    "\n",
    "    \n",
    "    @property\n",
    "    @abstractmethod\n",
    "    def default_configs(self) -> DefaultConfigs:\n",
    "        \"\"\"\n",
    "        Abstract method that requires its subclasses to define the `default_configs`\n",
    "        as a property of the class. Thus, this will specify all configuration options\n",
    "        that come with each subclass, while simultaneously also providing default values\n",
    "        for each option and, moreover, defining what types of values are allowed for each\n",
    "        option. Check out the implementation of `DefaultConfigs` in the configs module, or\n",
    "        have a look at how this is implemented in one of the processing sub-modules, for \n",
    "        instance in the \"specs.py\" file in the preprocessing sub-module.\n",
    "        \"\"\"\n",
    "        pass    \n",
    "\n",
    "    \n",
    "    @abstractmethod\n",
    "    def _add_processing_specific_infos_to_updates(self, \n",
    "                                                 updates: Dict # A dictionary with updates that need to be passed to the database\n",
    "                                                ) -> Dict: # A dictionary with all updates that need to be passed to the database\n",
    "        \"\"\"\n",
    "        Abstract method that that requires its subclasses to define what updates need to be\n",
    "        passed to the database, in addition to those that are already covered by the corresponding\n",
    "        ProcessingStrategies or the \"self.update_database()\" method. If there are no more \n",
    "        information to add, simply return the input 'updates' dictionary without any alterations.\n",
    "        \n",
    "        Returns a dictionary with all updates that need to be passed to the database.\n",
    "        \"\"\"\n",
    "        return updates\n",
    "    \n",
    "    \n",
    "    @abstractmethod\n",
    "    def _processing_specific_preparations(self) -> None:\n",
    "        pass\n",
    "    \n",
    "    \n",
    "    def prepare_for_processing(self,\n",
    "                               file_ids: List[str], # A list with the file_ids of all files that need to be processed\n",
    "                               database: Database, # The database of the findmycells project\n",
    "                              ) -> None:\n",
    "        self.file_ids = file_ids\n",
    "        self.database = database\n",
    "        self._processing_specific_preparations()\n",
    "    \n",
    "    \n",
    "    def run_all_strategies(self, strategies: List, strategy_configs: List[Dict]) -> None:\n",
    "        \"\"\"\n",
    "        Runs all ProcessingStrategies that were passed upon initialization (i.e. self.strategies).\n",
    "        For this, the corresponding ProcessingStrategy objects will be initialized and their \".run()\"\n",
    "        method will be called, while passing \"self\" as \"processing_object\". Finally, it updates the\n",
    "        database and deletes the ProcessingStrategy object to clear it from memory.\n",
    "        \"\"\"\n",
    "        for strategy, configs in zip(strategies, strategy_configs):\n",
    "            processing_strategy = strategy()\n",
    "            self = processing_strategy.run(processing_object = self, strategy_configs = configs)\n",
    "            self = processing_strategy.update_tracking_histories(processing_object = self, strategy_configs = configs)\n",
    "            del processing_strategy\n",
    "\n",
    "\n",
    "    def update_database(self, mark_as_completed: bool=True) -> None:\n",
    "        \"\"\"\n",
    "        For each microscopy file that had to be processed (self.file_ids), the database\n",
    "        will be updated with the respective processing progress information. Interfaces\n",
    "        back to the abstract method \"self.add_processing_specific_infos_to_updates()\" that\n",
    "        enables the corresponding subclasses to add more specific details before triggering\n",
    "        the update method of the database.\n",
    "        \"\"\"\n",
    "        for file_id in self.file_ids:\n",
    "            updates = {}\n",
    "            if mark_as_completed == True:\n",
    "                self.database.file_histories[file_id].mark_processing_step_as_completed(processing_step_id = self.processing_type)\n",
    "            updates = self._add_processing_specific_infos_to_updates(updates = updates)\n",
    "            self.database.update_file_infos(file_id = file_id, updates = updates)"
   ]
  },
  {
   "cell_type": "markdown",
   "metadata": {},
   "source": [
    "Subclasses that inherit from `ProcessingObject` need to implement the following two abstract methods:"
   ]
  },
  {
   "cell_type": "code",
   "execution_count": null,
   "metadata": {},
   "outputs": [
    {
     "data": {
      "text/markdown": [
       "---\n",
       "\n",
       "[source](https://github.com/Defense-Circuits-Lab/findmycells/blob/main/findmycells/core.py#L27){target=\"_blank\" style=\"float:right; font-size:smaller\"}\n",
       "\n",
       "### ProcessingObject.processing_type\n",
       "\n",
       ">      ProcessingObject.processing_type ()\n",
       "\n",
       "Abstract method that requires its subclasses to define the `processing_type`\n",
       "as a property of the class. Thus, this will be specified in each individual \n",
       "processing module (e.g. the \"preprocess\" or \"quantify\" modules). It will be used\n",
       "in the database to keep track of the processing progress of the project.\n",
       "Has to be a string."
      ],
      "text/plain": [
       "---\n",
       "\n",
       "[source](https://github.com/Defense-Circuits-Lab/findmycells/blob/main/findmycells/core.py#L27){target=\"_blank\" style=\"float:right; font-size:smaller\"}\n",
       "\n",
       "### ProcessingObject.processing_type\n",
       "\n",
       ">      ProcessingObject.processing_type ()\n",
       "\n",
       "Abstract method that requires its subclasses to define the `processing_type`\n",
       "as a property of the class. Thus, this will be specified in each individual \n",
       "processing module (e.g. the \"preprocess\" or \"quantify\" modules). It will be used\n",
       "in the database to keep track of the processing progress of the project.\n",
       "Has to be a string."
      ]
     },
     "execution_count": null,
     "metadata": {},
     "output_type": "execute_result"
    }
   ],
   "source": [
    "show_doc(ProcessingObject.processing_type)"
   ]
  },
  {
   "cell_type": "code",
   "execution_count": null,
   "metadata": {},
   "outputs": [
    {
     "data": {
      "text/markdown": [
       "---\n",
       "\n",
       "[source](https://github.com/Defense-Circuits-Lab/findmycells/blob/main/findmycells/core.py#L55){target=\"_blank\" style=\"float:right; font-size:smaller\"}\n",
       "\n",
       "### ProcessingObject._add_processing_specific_infos_to_updates\n",
       "\n",
       ">      ProcessingObject._add_processing_specific_infos_to_updates (updates:Dict)\n",
       "\n",
       "Abstract method that that requires its subclasses to define what updates need to be\n",
       "passed to the database, in addition to those that are already covered by the corresponding\n",
       "ProcessingStrategies or the \"self.update_database()\" method. If there are no more \n",
       "information to add, simply return the input 'updates' dictionary without any alterations.\n",
       "\n",
       "Returns a dictionary with all updates that need to be passed to the database.\n",
       "\n",
       "|    | **Type** | **Details** |\n",
       "| -- | -------- | ----------- |\n",
       "| updates | typing.Dict | A dictionary with updates that need to be passed to the database |\n",
       "| **Returns** | **typing.Dict** | **A dictionary with all updates that need to be passed to the database** |"
      ],
      "text/plain": [
       "---\n",
       "\n",
       "[source](https://github.com/Defense-Circuits-Lab/findmycells/blob/main/findmycells/core.py#L55){target=\"_blank\" style=\"float:right; font-size:smaller\"}\n",
       "\n",
       "### ProcessingObject._add_processing_specific_infos_to_updates\n",
       "\n",
       ">      ProcessingObject._add_processing_specific_infos_to_updates (updates:Dict)\n",
       "\n",
       "Abstract method that that requires its subclasses to define what updates need to be\n",
       "passed to the database, in addition to those that are already covered by the corresponding\n",
       "ProcessingStrategies or the \"self.update_database()\" method. If there are no more \n",
       "information to add, simply return the input 'updates' dictionary without any alterations.\n",
       "\n",
       "Returns a dictionary with all updates that need to be passed to the database.\n",
       "\n",
       "|    | **Type** | **Details** |\n",
       "| -- | -------- | ----------- |\n",
       "| updates | typing.Dict | A dictionary with updates that need to be passed to the database |\n",
       "| **Returns** | **typing.Dict** | **A dictionary with all updates that need to be passed to the database** |"
      ]
     },
     "execution_count": null,
     "metadata": {},
     "output_type": "execute_result"
    }
   ],
   "source": [
    "show_doc(ProcessingObject._add_processing_specific_infos_to_updates)"
   ]
  },
  {
   "cell_type": "markdown",
   "metadata": {},
   "source": [
    "In addition, `ProcessingObject` defines two core functions that will be called on all its subclasses, which are:"
   ]
  },
  {
   "cell_type": "code",
   "execution_count": null,
   "metadata": {},
   "outputs": [
    {
     "data": {
      "text/markdown": [
       "---\n",
       "\n",
       "[source](https://github.com/Defense-Circuits-Lab/findmycells/blob/main/findmycells/core.py#L83){target=\"_blank\" style=\"float:right; font-size:smaller\"}\n",
       "\n",
       "### ProcessingObject.run_all_strategies\n",
       "\n",
       ">      ProcessingObject.run_all_strategies (strategies:List,\n",
       ">                                           strategy_configs:List[Dict])\n",
       "\n",
       "Runs all ProcessingStrategies that were passed upon initialization (i.e. self.strategies).\n",
       "For this, the corresponding ProcessingStrategy objects will be initialized and their \".run()\"\n",
       "method will be called, while passing \"self\" as \"processing_object\". Finally, it updates the\n",
       "database and deletes the ProcessingStrategy object to clear it from memory."
      ],
      "text/plain": [
       "---\n",
       "\n",
       "[source](https://github.com/Defense-Circuits-Lab/findmycells/blob/main/findmycells/core.py#L83){target=\"_blank\" style=\"float:right; font-size:smaller\"}\n",
       "\n",
       "### ProcessingObject.run_all_strategies\n",
       "\n",
       ">      ProcessingObject.run_all_strategies (strategies:List,\n",
       ">                                           strategy_configs:List[Dict])\n",
       "\n",
       "Runs all ProcessingStrategies that were passed upon initialization (i.e. self.strategies).\n",
       "For this, the corresponding ProcessingStrategy objects will be initialized and their \".run()\"\n",
       "method will be called, while passing \"self\" as \"processing_object\". Finally, it updates the\n",
       "database and deletes the ProcessingStrategy object to clear it from memory."
      ]
     },
     "execution_count": null,
     "metadata": {},
     "output_type": "execute_result"
    }
   ],
   "source": [
    "show_doc(ProcessingObject.run_all_strategies)"
   ]
  },
  {
   "cell_type": "code",
   "execution_count": null,
   "metadata": {},
   "outputs": [
    {
     "data": {
      "text/markdown": [
       "---\n",
       "\n",
       "[source](https://github.com/Defense-Circuits-Lab/findmycells/blob/main/findmycells/core.py#L97){target=\"_blank\" style=\"float:right; font-size:smaller\"}\n",
       "\n",
       "### ProcessingObject.update_database\n",
       "\n",
       ">      ProcessingObject.update_database (mark_as_completed:bool=True)\n",
       "\n",
       "For each microscopy file that had to be processed (self.file_ids), the database\n",
       "will be updated with the respective processing progress information. Interfaces\n",
       "back to the abstract method \"self.add_processing_specific_infos_to_updates()\" that\n",
       "enables the corresponding subclasses to add more specific details before triggering\n",
       "the update method of the database."
      ],
      "text/plain": [
       "---\n",
       "\n",
       "[source](https://github.com/Defense-Circuits-Lab/findmycells/blob/main/findmycells/core.py#L97){target=\"_blank\" style=\"float:right; font-size:smaller\"}\n",
       "\n",
       "### ProcessingObject.update_database\n",
       "\n",
       ">      ProcessingObject.update_database (mark_as_completed:bool=True)\n",
       "\n",
       "For each microscopy file that had to be processed (self.file_ids), the database\n",
       "will be updated with the respective processing progress information. Interfaces\n",
       "back to the abstract method \"self.add_processing_specific_infos_to_updates()\" that\n",
       "enables the corresponding subclasses to add more specific details before triggering\n",
       "the update method of the database."
      ]
     },
     "execution_count": null,
     "metadata": {},
     "output_type": "execute_result"
    }
   ],
   "source": [
    "show_doc(ProcessingObject.update_database)"
   ]
  },
  {
   "cell_type": "code",
   "execution_count": null,
   "metadata": {},
   "outputs": [],
   "source": [
    "#| export\n",
    "\n",
    "class ProcessingStrategy(ABC):\n",
    "    \n",
    "    \"\"\"\n",
    "    Abstract base class that defines the general structure of `ProcessingStrategies` in findmycells.\n",
    "    A `ProcessingStrategy` combines all functions that are required for one particular processing step, \n",
    "    e.g. `ConvertTo8Bit` is a `ProcessingStrategy` in the \"preprocess\" module and converts the corresponding\n",
    "    images into 8-bit.\n",
    "    \"\"\"\n",
    "\n",
    "    @property\n",
    "    @abstractmethod\n",
    "    def processing_type(self):\n",
    "        # has to be any of these: 'preprocessing', 'segmentation', 'postprocessing', 'quantification', 'inspection'\n",
    "        pass\n",
    "    \n",
    "    \n",
    "    @property\n",
    "    @abstractmethod\n",
    "    def default_configs(self) -> DefaultConfigs:\n",
    "        \"\"\"\n",
    "        Abstract method that requires its subclasses to define the `default_configs`\n",
    "        as a property of the class. Thus, this will specify all configuration options\n",
    "        that come with each subclass, while simultaneously also providing default values\n",
    "        for each option and, moreover, defining what types of values are allowed for each\n",
    "        option. Check out the implementation of `DefaultConfigs` in the configs module, or\n",
    "        have a look at how this is implemented in one of the processing sub-modules, for \n",
    "        instance in the \"specs.py\" file in the preprocessing sub-module.\n",
    "        \"\"\"\n",
    "        pass\n",
    "    \n",
    "    \n",
    "    @property\n",
    "    @abstractmethod\n",
    "    def widget_names(self) -> Dict[str, str]:\n",
    "        pass\n",
    "    \n",
    "    \n",
    "    @property\n",
    "    @abstractmethod\n",
    "    def descriptions(self) -> Dict[str, str]:\n",
    "        pass\n",
    "    \n",
    "    \n",
    "    @property\n",
    "    @abstractmethod\n",
    "    def tooltips(self) -> Optional[Dict[str, str]]:\n",
    "        return None\n",
    "    \n",
    "    \n",
    "    @property\n",
    "    @abstractmethod\n",
    "    def dropdown_option_value_for_gui(self) -> str:\n",
    "        pass\n",
    "\n",
    "\n",
    "    @abstractmethod\n",
    "    def run(self, processing_object: ProcessingObject, strategy_configs: Dict) -> ProcessingObject:\n",
    "        # process the processing_object\n",
    "        return processing_object\n",
    "\n",
    "    \n",
    "    @abstractmethod\n",
    "    def _add_strategy_specific_infos_to_updates(self, updates: Dict) -> Dict:\n",
    "        # add all ProcessingStrategy specifc information to the update dictionary\n",
    "        # or simply return updates right away if there are no information to add\n",
    "        return updates\n",
    "\n",
    "\n",
    "    @property\n",
    "    def strategy_name(self):\n",
    "        return self.__class__.__name__ \n",
    "\n",
    "    \n",
    "    def initialize_gui_configs_and_widget(self) -> None:\n",
    "        gui_configs = GUIConfigs(widget_names = self.widget_names,\n",
    "                                 descriptions = self.descriptions,\n",
    "                                 tooltips = self.tooltips)\n",
    "        gui_configs.construct_widget(strategy_description = self.__doc__,\n",
    "                                     default_configs = self.default_configs)\n",
    "        setattr(self, 'gui_configs', gui_configs)\n",
    "        self.widget = self.gui_configs.strategy_widget\n",
    "    \n",
    "    \n",
    "    def export_current_gui_config_values(self) -> Dict:\n",
    "        return self.gui_configs.export_current_config_values()\n",
    "    \n",
    "    \n",
    "    def update_tracking_histories(self, processing_object: ProcessingObject, strategy_configs: Dict) -> ProcessingObject:\n",
    "        for file_id in processing_object.file_ids:\n",
    "            strategy_configs_with_updates = self._add_strategy_specific_infos_to_updates(updates = strategy_configs)\n",
    "            tracking_history = processing_object.database.file_histories[file_id]\n",
    "            tracking_history.track_processing_strat(processing_step_id = self.processing_type,\n",
    "                                                    processing_strategy_name = self.strategy_name,\n",
    "                                                    strategy_configs = strategy_configs_with_updates)\n",
    "        return processing_object"
   ]
  },
  {
   "cell_type": "markdown",
   "metadata": {},
   "source": [
    "# Handling data reading"
   ]
  },
  {
   "cell_type": "markdown",
   "metadata": {},
   "source": [
    "Furthermore, the following two classes `DataLoader` and `DataReader` will be re-used throughout the *findmycells* package to load data into your *findmycells* project."
   ]
  },
  {
   "cell_type": "code",
   "execution_count": null,
   "metadata": {},
   "outputs": [],
   "source": [
    "#| export\n",
    "\n",
    "class DataReader(ABC):\n",
    "    \n",
    "    \"\"\"\n",
    "    Abstract base class that defines the general structure of DataReader subclasses.\n",
    "    Essentially, it demands the corresponding subclasses to define the \"readable_filetype_extensions\" \n",
    "    attribut, as well as the \"set_optional_configs()\" and the \"read()\" methods.\n",
    "    \"\"\"\n",
    "    \n",
    "    @property\n",
    "    @abstractmethod\n",
    "    def readable_filetype_extensions(self) -> List[str]:\n",
    "        \"\"\"\n",
    "        Property that will denote which filetype extensions the respective DataReader subclass can handle.\n",
    "        \"\"\"\n",
    "        pass\n",
    "    \n",
    "    \n",
    "    @property\n",
    "    @abstractmethod\n",
    "    def default_configs(self) -> DefaultConfigs:\n",
    "        pass\n",
    "    \n",
    "    \n",
    "    @abstractmethod\n",
    "    def read(self, filepath: Path, reader_configs: Dict) -> Any:\n",
    "        \"\"\"\n",
    "        This method eventually reads the data stored at the given filepath applying the specified configs.\n",
    "        The returned datatype will be different for each DataReader subclass, e.g. a numpy array of a specific\n",
    "        shape for MicroscopyImageReaders, or a shapely Polygon for ROIReaders.\n",
    "        \"\"\"\n",
    "        pass\n",
    "    \n",
    "    \n",
    "    @abstractmethod\n",
    "    def assert_correct_output_format(self, output: Any) -> None:\n",
    "        \"\"\"\n",
    "        Run an assert to validate that the data was actually read in the correct way and that the created output\n",
    "        matches the intended format!\n",
    "        \"\"\"\n",
    "        pass"
   ]
  },
  {
   "cell_type": "code",
   "execution_count": null,
   "metadata": {},
   "outputs": [],
   "source": [
    "#| export\n",
    "\n",
    "class DataLoader:\n",
    "    \n",
    "    def determine_reader(self, file_extension: str, data_reader_module: ModuleType) -> DataReader:\n",
    "        available_reader = None\n",
    "        for name, data_reader in inspect.getmembers(data_reader_module):\n",
    "            if (name.endswith('Reader') == True) & (name != 'DataReader'):\n",
    "                if file_extension in data_reader().readable_filetype_extensions:\n",
    "                    available_reader = data_reader\n",
    "        if available_reader == None:\n",
    "            raise NotImplementedError(f'Unfortunately, there is no DataReader implemented in {data_reader_module} '\n",
    "                                      f'which can handle your filetype (\"{file_extension}\").')\n",
    "        return available_reader\n",
    "    \n",
    "    \n",
    "    def load(self, data_reader_class: DataReader, filepath: PosixPath, reader_configs: Dict) -> Any:\n",
    "        data_reader = data_reader_class()\n",
    "        # data_reader.set_optional_configs(database = database)\n",
    "        data = data_reader.read(filepath = filepath, reader_configs = reader_configs)\n",
    "        data_reader.assert_correct_output_format(output = data)\n",
    "        return data                 "
   ]
  },
  {
   "cell_type": "code",
   "execution_count": null,
   "metadata": {},
   "outputs": [],
   "source": [
    "#| hide\n",
    "import nbdev; nbdev.nbdev_export()"
   ]
  }
 ],
 "metadata": {
  "kernelspec": {
   "display_name": "Python 3 (ipykernel)",
   "language": "python",
   "name": "python3"
  }
 },
 "nbformat": 4,
 "nbformat_minor": 4
}
