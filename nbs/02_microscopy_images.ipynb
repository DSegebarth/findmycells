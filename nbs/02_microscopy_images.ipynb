{
 "cells": [
  {
   "cell_type": "markdown",
   "metadata": {},
   "source": [
    "# microscopy_images\n",
    "\n",
    "> Contains all functions of findmycells related to loading your microscopy images:"
   ]
  },
  {
   "cell_type": "code",
   "execution_count": null,
   "metadata": {},
   "outputs": [],
   "source": [
    "#| default_exp preprocessing"
   ]
  },
  {
   "cell_type": "markdown",
   "metadata": {},
   "source": [
    "Imaging softwares, especially proprietary ones, produce a vast variety of filetypes. This module is here to help you get your specific image filetype loaded into *findmycells*. In case your very specific format is not yet supported there is always the option to convert your images to .tiff or .png first, for instance using Fiji or similar tools."
   ]
  },
  {
   "cell_type": "code",
   "execution_count": null,
   "metadata": {},
   "outputs": [],
   "source": [
    "#| hide\n",
    "from nbdev.showdoc import *"
   ]
  },
  {
   "cell_type": "code",
   "execution_count": null,
   "metadata": {},
   "outputs": [],
   "source": [
    "#| export\n",
    "\n",
    "from abc import ABC, abstractmethod\n",
    "import os\n",
    "from pathlib import Path\n",
    "import numpy as np\n",
    "import pandas as pd\n",
    "import czifile\n",
    "from skimage.io import imread"
   ]
  },
  {
   "cell_type": "code",
   "execution_count": null,
   "metadata": {},
   "outputs": [],
   "source": [
    "#| export\n",
    "class MicroscopyImageReader(ABC):\n",
    "    \n",
    "    \"\"\"\n",
    "    Abstract base class that serves as interface to load different types of microscopy image filetypes.\n",
    "    \"\"\"\n",
    "\n",
    "    @abstractmethod\n",
    "    def read(self, \n",
    "             filepath: Path # filepath to the microscopy image file\n",
    "            ) -> np.ndarray: # numpy array with the structure: [imaging-planes, rows, columns, imaging-channel], see docstring for examples\n",
    "        \"\"\" \n",
    "        Abstract method that needs to be defined by the respective subclass\n",
    "        Returns the microscopy image as np.ndarray with structure: [imaging-planes, rows, columns, imaging-channel] \n",
    "        For instance, the shape of the array of a RGB Zstack with 10 image planes and 1024x1024 pixels would look like:\n",
    "        [10, 1024, 1024, 3]\n",
    "        To improve re-usability of the same functions for all different kinds of input images, this structure will be used even if there is just a single plane. \n",
    "        For instance, the shape of the array of a grayscale 2D image with 1024 x 1024 pixels should look like this:\n",
    "        [1, 1024, 1024, 1]\n",
    "        \"\"\"\n",
    "        pass"
   ]
  },
  {
   "cell_type": "code",
   "execution_count": null,
   "metadata": {},
   "outputs": [
    {
     "data": {
      "text/markdown": [
       "---\n",
       "\n",
       "[source](https://github.com/Defense-Circuits-Lab/findmycells/blob/main/findmycells/preprocessing.py#L23){target=\"_blank\" style=\"float:right; font-size:smaller\"}\n",
       "\n",
       "### MicroscopyImageReader.read\n",
       "\n",
       ">      MicroscopyImageReader.read (filepath:pathlib.Path)\n",
       "\n",
       "Abstract method that needs to be defined by the respective subclass\n",
       "Returns the microscopy image as np.ndarray with structure: [imaging-planes, rows, columns, imaging-channel] \n",
       "For instance, the shape of the array of a RGB Zstack with 10 image planes and 1024x1024 pixels would look like:\n",
       "[10, 1024, 1024, 3]\n",
       "To improve re-usability of the same functions for all different kinds of input images, this structure will be used even if there is just a single plane. \n",
       "For instance, the shape of the array of a grayscale 2D image with 1024 x 1024 pixels should look like this:\n",
       "[1, 1024, 1024, 1]\n",
       "\n",
       "|    | **Type** | **Details** |\n",
       "| -- | -------- | ----------- |\n",
       "| filepath | Path | filepath to the microscopy image file |\n",
       "| **Returns** | **ndarray** | **numpy array with the structure: [imaging-planes, rows, columns, imaging-channel], see docstring for examples** |"
      ],
      "text/plain": [
       "---\n",
       "\n",
       "[source](https://github.com/Defense-Circuits-Lab/findmycells/blob/main/findmycells/preprocessing.py#L23){target=\"_blank\" style=\"float:right; font-size:smaller\"}\n",
       "\n",
       "### MicroscopyImageReader.read\n",
       "\n",
       ">      MicroscopyImageReader.read (filepath:pathlib.Path)\n",
       "\n",
       "Abstract method that needs to be defined by the respective subclass\n",
       "Returns the microscopy image as np.ndarray with structure: [imaging-planes, rows, columns, imaging-channel] \n",
       "For instance, the shape of the array of a RGB Zstack with 10 image planes and 1024x1024 pixels would look like:\n",
       "[10, 1024, 1024, 3]\n",
       "To improve re-usability of the same functions for all different kinds of input images, this structure will be used even if there is just a single plane. \n",
       "For instance, the shape of the array of a grayscale 2D image with 1024 x 1024 pixels should look like this:\n",
       "[1, 1024, 1024, 1]\n",
       "\n",
       "|    | **Type** | **Details** |\n",
       "| -- | -------- | ----------- |\n",
       "| filepath | Path | filepath to the microscopy image file |\n",
       "| **Returns** | **ndarray** | **numpy array with the structure: [imaging-planes, rows, columns, imaging-channel], see docstring for examples** |"
      ]
     },
     "execution_count": null,
     "metadata": {},
     "output_type": "execute_result"
    }
   ],
   "source": [
    "show_doc(MicroscopyImageReader.read)"
   ]
  },
  {
   "cell_type": "markdown",
   "metadata": {},
   "source": [
    "Currently, there are the following MicroscopyImageReader subclasses implemented:"
   ]
  },
  {
   "cell_type": "code",
   "execution_count": null,
   "metadata": {},
   "outputs": [],
   "source": [
    "class CZIReader(MicroscopyImageReader):\n",
    "    \n",
    "    \"\"\"\n",
    "    This reader enables loading of images acquired with the ZEN imaging software by Zeiss, using the czifile package.\n",
    "    \"\"\"\n",
    "    def read(self,\n",
    "             filepath: Path # filepath to the microscopy image file\n",
    "            ) -> np.ndarray: # numpy array with the structure: [imaging-planes, rows, columns, imaging-channel]\n",
    "        return czifile.imread(filepath.as_posix())[0, 0, 0]"
   ]
  },
  {
   "cell_type": "code",
   "execution_count": null,
   "metadata": {},
   "outputs": [
    {
     "data": {
      "text/markdown": [
       "---\n",
       "\n",
       "### CZIReader.read\n",
       "\n",
       ">      CZIReader.read (filepath:pathlib.Path)\n",
       "\n",
       "Abstract method that needs to be defined by the respective subclass\n",
       "Returns the microscopy image as np.ndarray with structure: [imaging-planes, rows, columns, imaging-channel] \n",
       "For instance, the shape of the array of a RGB Zstack with 10 image planes and 1024x1024 pixels would look like:\n",
       "[10, 1024, 1024, 3]\n",
       "To improve re-usability of the same functions for all different kinds of input images, this structure will be used even if there is just a single plane. \n",
       "For instance, the shape of the array of a grayscale 2D image with 1024 x 1024 pixels should look like this:\n",
       "[1, 1024, 1024, 1]\n",
       "\n",
       "|    | **Type** | **Details** |\n",
       "| -- | -------- | ----------- |\n",
       "| filepath | Path | filepath to the microscopy image file |\n",
       "| **Returns** | **ndarray** | **numpy array with the structure: [imaging-planes, rows, columns, imaging-channel]** |"
      ],
      "text/plain": [
       "---\n",
       "\n",
       "### CZIReader.read\n",
       "\n",
       ">      CZIReader.read (filepath:pathlib.Path)\n",
       "\n",
       "Abstract method that needs to be defined by the respective subclass\n",
       "Returns the microscopy image as np.ndarray with structure: [imaging-planes, rows, columns, imaging-channel] \n",
       "For instance, the shape of the array of a RGB Zstack with 10 image planes and 1024x1024 pixels would look like:\n",
       "[10, 1024, 1024, 3]\n",
       "To improve re-usability of the same functions for all different kinds of input images, this structure will be used even if there is just a single plane. \n",
       "For instance, the shape of the array of a grayscale 2D image with 1024 x 1024 pixels should look like this:\n",
       "[1, 1024, 1024, 1]\n",
       "\n",
       "|    | **Type** | **Details** |\n",
       "| -- | -------- | ----------- |\n",
       "| filepath | Path | filepath to the microscopy image file |\n",
       "| **Returns** | **ndarray** | **numpy array with the structure: [imaging-planes, rows, columns, imaging-channel]** |"
      ]
     },
     "execution_count": null,
     "metadata": {},
     "output_type": "execute_result"
    }
   ],
   "source": [
    "show_doc(CZIReader.read)"
   ]
  },
  {
   "cell_type": "code",
   "execution_count": null,
   "metadata": {},
   "outputs": [],
   "source": [
    "class RegularImageFiletypeReader(MicroscopyImageReader):\n",
    "    \n",
    "    \"\"\"\n",
    "    This reader enables loading of all regular image filetypes, that scikit-image can read, using the scikit-image.io.imread function.\n",
    "    \"\"\"\n",
    "    def read(self,\n",
    "             filepath: Path # filepath to the microscopy image file\n",
    "            ) -> np.ndarray: # numpy array with the structure: [imaging-planes, rows, columns, imaging-channel]\n",
    "        single_plane_image = imread(filepath)\n",
    "        return np.expand_dims(single_plane_image, axis=[0, -1])"
   ]
  },
  {
   "cell_type": "code",
   "execution_count": null,
   "metadata": {},
   "outputs": [
    {
     "data": {
      "text/markdown": [
       "---\n",
       "\n",
       "### RegularImageFiletypeReader.read\n",
       "\n",
       ">      RegularImageFiletypeReader.read (filepath:pathlib.Path)\n",
       "\n",
       "Abstract method that needs to be defined by the respective subclass\n",
       "Returns the microscopy image as np.ndarray with structure: [imaging-planes, rows, columns, imaging-channel] \n",
       "For instance, the shape of the array of a RGB Zstack with 10 image planes and 1024x1024 pixels would look like:\n",
       "[10, 1024, 1024, 3]\n",
       "To improve re-usability of the same functions for all different kinds of input images, this structure will be used even if there is just a single plane. \n",
       "For instance, the shape of the array of a grayscale 2D image with 1024 x 1024 pixels should look like this:\n",
       "[1, 1024, 1024, 1]\n",
       "\n",
       "|    | **Type** | **Details** |\n",
       "| -- | -------- | ----------- |\n",
       "| filepath | Path | filepath to the microscopy image file |\n",
       "| **Returns** | **ndarray** | **numpy array with the structure: [imaging-planes, rows, columns, imaging-channel]** |"
      ],
      "text/plain": [
       "---\n",
       "\n",
       "### RegularImageFiletypeReader.read\n",
       "\n",
       ">      RegularImageFiletypeReader.read (filepath:pathlib.Path)\n",
       "\n",
       "Abstract method that needs to be defined by the respective subclass\n",
       "Returns the microscopy image as np.ndarray with structure: [imaging-planes, rows, columns, imaging-channel] \n",
       "For instance, the shape of the array of a RGB Zstack with 10 image planes and 1024x1024 pixels would look like:\n",
       "[10, 1024, 1024, 3]\n",
       "To improve re-usability of the same functions for all different kinds of input images, this structure will be used even if there is just a single plane. \n",
       "For instance, the shape of the array of a grayscale 2D image with 1024 x 1024 pixels should look like this:\n",
       "[1, 1024, 1024, 1]\n",
       "\n",
       "|    | **Type** | **Details** |\n",
       "| -- | -------- | ----------- |\n",
       "| filepath | Path | filepath to the microscopy image file |\n",
       "| **Returns** | **ndarray** | **numpy array with the structure: [imaging-planes, rows, columns, imaging-channel]** |"
      ]
     },
     "execution_count": null,
     "metadata": {},
     "output_type": "execute_result"
    }
   ],
   "source": [
    "show_doc(RegularImageFiletypeReader.read)"
   ]
  },
  {
   "cell_type": "code",
   "execution_count": null,
   "metadata": {},
   "outputs": [],
   "source": [
    "class FromExcel(MicroscopyImageReader):\n",
    "    \n",
    "    \"\"\"\n",
    "    This reader is actually only a wrapper to the other MicroscopyImageReader subclasses. It can be used if you stored the filepaths\n",
    "    to your individual plane images in an excel sheet, for instance if you were using our \"prepare my data for findmycells\" functions.\n",
    "    Please be aware that the corresponding datatype has to be loadable with any of the corresponding MicroscopyImageReaders!\n",
    "    \"\"\"\n",
    "    # should actually again check which loaded is applicable! Could be any!\n",
    "    def read(self,\n",
    "             filepath: Path # filepath to the excel sheet that contains the filepaths to the corresponding image files\n",
    "            ) -> np.ndarray: # numpy array with the structure: [imaging-planes, rows, columns, imaging-channel]\n",
    "        df_single_plane_filepaths = pd.read_excel(filepath)\n",
    "        single_plane_images = []\n",
    "        for row_index in range(df_single_plane_filepaths.shape[0]):\n",
    "            single_plane_image_filepath = df_single_plane_filepaths['plane_filepath'].iloc[row_index]\n",
    "            single_plane_images.append(imread(single_plane_image_filepath))\n",
    "        return np.stack(single_plane_images)"
   ]
  },
  {
   "cell_type": "code",
   "execution_count": null,
   "metadata": {},
   "outputs": [
    {
     "data": {
      "text/markdown": [
       "---\n",
       "\n",
       "### FromExcel.read\n",
       "\n",
       ">      FromExcel.read (filepath:pathlib.Path)\n",
       "\n",
       "Abstract method that needs to be defined by the respective subclass\n",
       "Returns the microscopy image as np.ndarray with structure: [imaging-planes, rows, columns, imaging-channel] \n",
       "For instance, the shape of the array of a RGB Zstack with 10 image planes and 1024x1024 pixels would look like:\n",
       "[10, 1024, 1024, 3]\n",
       "To improve re-usability of the same functions for all different kinds of input images, this structure will be used even if there is just a single plane. \n",
       "For instance, the shape of the array of a grayscale 2D image with 1024 x 1024 pixels should look like this:\n",
       "[1, 1024, 1024, 1]\n",
       "\n",
       "|    | **Type** | **Details** |\n",
       "| -- | -------- | ----------- |\n",
       "| filepath | Path | filepath to the excel sheet that contains the filepaths to the corresponding image files |\n",
       "| **Returns** | **ndarray** | **numpy array with the structure: [imaging-planes, rows, columns, imaging-channel]** |"
      ],
      "text/plain": [
       "---\n",
       "\n",
       "### FromExcel.read\n",
       "\n",
       ">      FromExcel.read (filepath:pathlib.Path)\n",
       "\n",
       "Abstract method that needs to be defined by the respective subclass\n",
       "Returns the microscopy image as np.ndarray with structure: [imaging-planes, rows, columns, imaging-channel] \n",
       "For instance, the shape of the array of a RGB Zstack with 10 image planes and 1024x1024 pixels would look like:\n",
       "[10, 1024, 1024, 3]\n",
       "To improve re-usability of the same functions for all different kinds of input images, this structure will be used even if there is just a single plane. \n",
       "For instance, the shape of the array of a grayscale 2D image with 1024 x 1024 pixels should look like this:\n",
       "[1, 1024, 1024, 1]\n",
       "\n",
       "|    | **Type** | **Details** |\n",
       "| -- | -------- | ----------- |\n",
       "| filepath | Path | filepath to the excel sheet that contains the filepaths to the corresponding image files |\n",
       "| **Returns** | **ndarray** | **numpy array with the structure: [imaging-planes, rows, columns, imaging-channel]** |"
      ]
     },
     "execution_count": null,
     "metadata": {},
     "output_type": "execute_result"
    }
   ],
   "source": [
    "show_doc(FromExcel.read)"
   ]
  },
  {
   "cell_type": "markdown",
   "metadata": {},
   "source": [
    "While the `MicroscopyImageReader` subclasses defined above are actually doing the job of reading your images, the following class provides the interface to the remaining modules:"
   ]
  },
  {
   "cell_type": "code",
   "execution_count": null,
   "metadata": {},
   "outputs": [],
   "source": [
    "class MicroscopyImageLoader:\n",
    "    \n",
    "    def __init__(self, filepath: Path, filetype: str):\n",
    "        self.filepath = filepath\n",
    "        self.reader = self.determine_reader(filetype = filetype)\n",
    "    \n",
    "    def determine_reader(self, filetype: str) -> MicroscopyImageReader:\n",
    "        if filetype == '.czi':\n",
    "            reader = CZIReader()\n",
    "        elif filetype in ['.png', '.PNG']: #add more that are applicable!\n",
    "            reader = RegularImageFiletypeReader()\n",
    "        elif filetype == '.xlsx':\n",
    "            reader = FromExcel()\n",
    "        else:\n",
    "            message_part1 = 'The microscopy image format you are trying to load is not implemented yet.'\n",
    "            message_part2 = 'Please consider raising an issue in our GitHub repository!'\n",
    "            full_message = message_part1 + message_part2\n",
    "            raise ValueError(full_message)\n",
    "        return reader\n",
    "    \n",
    "    def as_array(self):\n",
    "        return self.reader.read(filepath = self.filepath)"
   ]
  },
  {
   "cell_type": "code",
   "execution_count": null,
   "metadata": {},
   "outputs": [],
   "source": [
    "#| hide\n",
    "import nbdev; nbdev.nbdev_export()"
   ]
  }
 ],
 "metadata": {
  "kernelspec": {
   "display_name": "Python 3 (ipykernel)",
   "language": "python",
   "name": "python3"
  }
 },
 "nbformat": 4,
 "nbformat_minor": 4
}
