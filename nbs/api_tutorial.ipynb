{
 "cells": [
  {
   "cell_type": "markdown",
   "id": "9e64ab19-6424-4dc8-bfa8-af6e82e453d2",
   "metadata": {},
   "source": [
    "# API tutorials\n",
    "\n",
    "> How to use the API of *findmycells* to process 2D or 3D datasets"
   ]
  },
  {
   "cell_type": "code",
   "execution_count": null,
   "id": "0f4ce320-4612-4eb4-b5f1-f6ef1d9f4b78",
   "metadata": {},
   "outputs": [],
   "source": [
    "#| hide\n",
    "from nbdev.showdoc import *"
   ]
  }
 ],
 "metadata": {
  "kernelspec": {
   "display_name": "Python 3 (ipykernel)",
   "language": "python",
   "name": "python3"
  }
 },
 "nbformat": 4,
 "nbformat_minor": 5
}
