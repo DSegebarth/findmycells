{
 "cells": [
  {
   "cell_type": "markdown",
   "id": "0ffcb8fe-6ed3-433a-a012-4b8c924f4b7d",
   "metadata": {},
   "source": [
    "# Utility functions\n",
    "\n",
    "> This module defines several utility functions that are used throughout findmycells"
   ]
  },
  {
   "cell_type": "code",
   "execution_count": null,
   "id": "7d5a47dc-c559-45c1-8720-8aa6ebfad999",
   "metadata": {},
   "outputs": [],
   "source": [
    "#| default_exp utils"
   ]
  },
  {
   "cell_type": "code",
   "execution_count": null,
   "id": "b97bc391-b47d-473f-a41a-dd0a43e2b869",
   "metadata": {},
   "outputs": [],
   "source": [
    "#| export\n",
    "\n",
    "from typing import List, Optional\n",
    "from pathlib import Path, PosixPath\n",
    "\n",
    "import numpy as np\n",
    "from skimage import io\n",
    "from skimage import measure\n",
    "from shapely.geometry import Polygon\n",
    "from shapely.validation import make_valid\n"
   ]
  },
  {
   "cell_type": "code",
   "execution_count": null,
   "id": "2a613593-c9e5-481b-ac71-9835e2f5d967",
   "metadata": {},
   "outputs": [],
   "source": [
    "#| hide\n",
    "from nbdev.showdoc import *"
   ]
  },
  {
   "cell_type": "code",
   "execution_count": null,
   "id": "41b3d449-4e39-4e65-90fa-85100de9d104",
   "metadata": {},
   "outputs": [],
   "source": [
    "#| export\n",
    "\n",
    "def list_dir_no_hidden(path: PosixPath, only_dirs: Optional[bool]=False, only_files: Optional[bool]=False) -> List[PosixPath]:\n",
    "    if only_dirs == True:\n",
    "        detected_paths = [elem for elem in path.iterdir() if (elem.is_dir() == True) & (elem.name.startswith('.') == False)]\n",
    "    elif only_files == True:\n",
    "        detected_paths = [elem for elem in path.iterdir() if (elem.is_dir() == False) & (elem.name.startswith('.') == False)]\n",
    "    else:\n",
    "        detected_paths = [elem for elem in path.iterdir() if elem.name.startswith('.') == False]\n",
    "    return detected_paths"
   ]
  },
  {
   "cell_type": "code",
   "execution_count": null,
   "id": "46da5b61-68bb-478c-8837-4b8265bafe6f",
   "metadata": {},
   "outputs": [],
   "source": [
    "#| export\n",
    "\n",
    "def load_zstack_as_array_from_single_planes(path: PosixPath, file_id: str, \n",
    "                                            minx: Optional[int]=None, maxx: Optional[int]=None, \n",
    "                                            miny: Optional[int]=None, maxy: Optional[int]=None) -> np.ndarray:\n",
    "    types = list(set([type(minx), type(maxx), type(miny), type(maxy)]))    \n",
    "    if any([minx, maxx, miny, maxy]):\n",
    "        if (len(types) == 1) & (types[0] == int):\n",
    "            cropping = True\n",
    "        else:\n",
    "            raise TypeError(\"'minx', 'maxx', 'miny', and 'maxy' all have to be integers - or None if no cropping has to be done\")\n",
    "    else:\n",
    "        cropping = False\n",
    "    matching_filepaths = [filepath for filepath in list_dir_no_hidden(path) if filepath.name.startswith(file_id)]\n",
    "    cropped_zstack = []\n",
    "    for single_plane_filepath in matching_filepaths:\n",
    "        tmp_image = io.imread(single_plane_filepath)\n",
    "        if cropping == True:\n",
    "            tmp_image = tmp_image[minx:maxx, miny:maxy]\n",
    "        cropped_zstack.append(tmp_image.copy())\n",
    "        del tmp_image\n",
    "    return np.asarray(cropped_zstack) "
   ]
  },
  {
   "cell_type": "code",
   "execution_count": null,
   "id": "7c4b4cfa-1417-404e-8208-416b975eb7e5",
   "metadata": {},
   "outputs": [],
   "source": [
    "#| export\n",
    "\n",
    "def unpad_x_y_dims_in_3d_array(padded_3d_array: np.ndarray, pad_width: int) -> np.ndarray:\n",
    "    return padded_3d_array[:, pad_width:padded_3d_array.shape[1]-pad_width, pad_width:padded_3d_array.shape[2]-pad_width]"
   ]
  },
  {
   "cell_type": "code",
   "execution_count": null,
   "id": "79a34643-9165-48b4-b1f1-a40142e6d4be",
   "metadata": {},
   "outputs": [],
   "source": [
    "#| export\n",
    "\n",
    "def get_polygon_from_instance_segmentation(single_plane: np.ndarray, label_id: int) -> Polygon:\n",
    "    x_dim, y_dim = single_plane.shape\n",
    "    tmp_array = np.zeros((x_dim, y_dim), dtype='uint8')\n",
    "    tmp_array[np.where(single_plane == label_id)] = 1\n",
    "    tmp_contours = measure.find_contours(tmp_array, level = 0)[0]\n",
    "    roi = Polygon(tmp_contours)\n",
    "    if roi.is_valid == False:\n",
    "        roi = make_valid(roi)\n",
    "    return roi"
   ]
  },
  {
   "cell_type": "code",
   "execution_count": null,
   "id": "b5c85d21-a042-4134-a90e-31062a693b31",
   "metadata": {},
   "outputs": [
    {
     "ename": "SyntaxError",
     "evalue": "EOL while scanning string literal (<unknown>, line 40)",
     "output_type": "error",
     "traceback": [
      "Traceback \u001b[0;36m(most recent call last)\u001b[0m:\n",
      "  File \u001b[1;32m~/anaconda3/envs/findmycells/lib/python3.9/site-packages/IPython/core/interactiveshell.py:3398\u001b[0m in \u001b[1;35mrun_code\u001b[0m\n    exec(code_obj, self.user_global_ns, self.user_ns)\n",
      "  Input \u001b[1;32mIn [8]\u001b[0m in \u001b[1;35m<cell line: 2>\u001b[0m\n    import nbdev; nbdev.nbdev_export()\n",
      "  File \u001b[1;32m~/anaconda3/envs/findmycells/lib/python3.9/site-packages/fastcore/script.py:110\u001b[0m in \u001b[1;35m_f\u001b[0m\n    if not mod: return func(*args, **kwargs)\n",
      "  File \u001b[1;32m~/anaconda3/envs/findmycells/lib/python3.9/site-packages/nbdev/doclinks.py:140\u001b[0m in \u001b[1;35mnbdev_export\u001b[0m\n    _build_modidx()\n",
      "  File \u001b[1;32m~/anaconda3/envs/findmycells/lib/python3.9/site-packages/nbdev/doclinks.py:102\u001b[0m in \u001b[1;35m_build_modidx\u001b[0m\n    res['syms'].update(_get_modidx((dest.parent/file).resolve(), code_root, nbs_path=nbs_path))\n",
      "  File \u001b[1;32m~/anaconda3/envs/findmycells/lib/python3.9/site-packages/nbdev/doclinks.py:79\u001b[0m in \u001b[1;35m_get_modidx\u001b[0m\n    for tree in ast.parse(cell.code).body:\n",
      "\u001b[0;36m  File \u001b[0;32m~/anaconda3/envs/findmycells/lib/python3.9/ast.py:50\u001b[0;36m in \u001b[0;35mparse\u001b[0;36m\u001b[0m\n\u001b[0;31m    return compile(source, filename, mode, flags,\u001b[0m\n",
      "\u001b[0;36m  File \u001b[0;32m<unknown>:40\u001b[0;36m\u001b[0m\n\u001b[0;31m    print(f'Your selected x-coordinate was: {event.x}, and your selected y-coordinate was: {event.y}.)\u001b[0m\n\u001b[0m                                                                                                      ^\u001b[0m\n\u001b[0;31mSyntaxError\u001b[0m\u001b[0;31m:\u001b[0m EOL while scanning string literal\n"
     ]
    }
   ],
   "source": [
    "#| hide\n",
    "import nbdev; nbdev.nbdev_export()"
   ]
  }
 ],
 "metadata": {
  "kernelspec": {
   "display_name": "Python 3 (ipykernel)",
   "language": "python",
   "name": "python3"
  }
 },
 "nbformat": 4,
 "nbformat_minor": 5
}
