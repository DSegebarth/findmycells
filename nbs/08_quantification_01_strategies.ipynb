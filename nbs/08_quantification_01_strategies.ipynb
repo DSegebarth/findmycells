{
 "cells": [
  {
   "cell_type": "markdown",
   "id": "1819fa9d-b390-4250-9c60-1e779f4aeb23",
   "metadata": {},
   "source": [
    "# Quantification strategies\n",
    "\n",
    "> This module defines all available quantification strategies (= quantification options)"
   ]
  },
  {
   "cell_type": "code",
   "execution_count": null,
   "id": "64252aad-c910-4c4b-bad9-df78816a74a4",
   "metadata": {},
   "outputs": [],
   "source": [
    "#| default_exp quantification/strategies"
   ]
  },
  {
   "cell_type": "code",
   "execution_count": null,
   "id": "f1514733-f151-4505-b9d0-219dd14ab636",
   "metadata": {},
   "outputs": [],
   "source": [
    "#| export\n",
    "\n",
    "from typing import Tuple, List, Dict\n",
    "from pathlib import Path\n",
    "\n",
    "import cc3d\n",
    "\n",
    "from findmycells.quantification.specs import QuantificationObject, QuantificationStrategy\n",
    "from findmycells.configs import DefaultConfigs\n",
    "from findmycells import utils"
   ]
  },
  {
   "cell_type": "code",
   "execution_count": null,
   "id": "2c02d588-1495-4f60-8cd9-91f068db60c8",
   "metadata": {},
   "outputs": [],
   "source": [
    "#| hide\n",
    "from nbdev.showdoc import *"
   ]
  },
  {
   "cell_type": "code",
   "execution_count": null,
   "id": "e6ca9b14-cec7-4ce5-9f9c-f3d30691130f",
   "metadata": {},
   "outputs": [],
   "source": [
    "#| export\n",
    "\n",
    "class CountFeaturesInWholeAreaROIsStrat(QuantificationStrategy):\n",
    "    \n",
    "    \"\"\"\n",
    "    Strategy description\n",
    "    \"\"\"\n",
    "\n",
    "    @property\n",
    "    def dropdown_option_value_for_gui(self):\n",
    "        return 'Count all features in all area ROIs'\n",
    "    \n",
    "    @property\n",
    "    def default_configs(self):\n",
    "        default_values = {}\n",
    "        valid_types = {}\n",
    "        default_configs = DefaultConfigs(default_values = default_values, valid_types = valid_types)\n",
    "        return default_configs\n",
    "        \n",
    "    @property\n",
    "    def widget_names(self):\n",
    "        return {}\n",
    "\n",
    "    @property\n",
    "    def descriptions(self):\n",
    "        return {}\n",
    "    \n",
    "    @property\n",
    "    def tooltips(self):\n",
    "        return {}\n",
    "    \n",
    "    \n",
    "    def run(self, processing_object: QuantificationObject, strategy_configs: Dict) -> QuantificationObject:\n",
    "        quantification_results = {}\n",
    "        for area_roi_id in processing_object.segmentations_per_area_roi_id.keys():\n",
    "            _, feature_count = cc3d.connected_components(processing_object.segmentations_per_area_roi_id[area_roi_id], return_N=True)\n",
    "            quantification_results[area_roi_id] = feature_count\n",
    "        processing_object = self._add_quantification_results_to_database(quantification_object = processing_object, results = quantification_results)\n",
    "        return processing_object\n",
    "\n",
    "\n",
    "    def _add_strategy_specific_infos_to_updates(self, updates: Dict) -> Dict:\n",
    "        return updates"
   ]
  },
  {
   "cell_type": "code",
   "execution_count": null,
   "id": "8718c497-98c8-4dd9-b06f-aa26a4f03be4",
   "metadata": {},
   "outputs": [],
   "source": [
    "#| hide\n",
    "import nbdev; nbdev.nbdev_export()"
   ]
  }
 ],
 "metadata": {
  "kernelspec": {
   "display_name": "Python 3 (ipykernel)",
   "language": "python",
   "name": "python3"
  }
 },
 "nbformat": 4,
 "nbformat_minor": 5
}
