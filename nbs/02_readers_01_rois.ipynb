{
 "cells": [
  {
   "cell_type": "markdown",
   "id": "4382ed06-d574-40e4-a27c-a879492482d5",
   "metadata": {},
   "source": [
    "# ROI readers\n",
    "\n",
    "> This module contains all code responsible for reading region of interests (ROI) files:"
   ]
  },
  {
   "cell_type": "code",
   "execution_count": null,
   "id": "cc07231a-a34c-4383-aa0a-bf3d1f89450f",
   "metadata": {},
   "outputs": [],
   "source": [
    "#| default_exp readers/rois"
   ]
  },
  {
   "cell_type": "code",
   "execution_count": null,
   "id": "081b335c-082a-48c9-9eaf-dafcc354b333",
   "metadata": {},
   "outputs": [],
   "source": [
    "#| hide\n",
    "from nbdev.showdoc import *"
   ]
  },
  {
   "cell_type": "code",
   "execution_count": null,
   "id": "b8b04b37-0788-4d1e-b8f3-524370f08136",
   "metadata": {},
   "outputs": [],
   "source": [
    "#| export\n",
    "\n",
    "from typing import Dict, List, Any\n",
    "from pathlib import Path\n",
    "import numpy as np\n",
    "from shapely.geometry import Polygon\n",
    "import roifile\n",
    "\n",
    "from findmycells.core import DataReader\n",
    "from findmycells.database import Database"
   ]
  },
  {
   "cell_type": "code",
   "execution_count": null,
   "id": "d4ddf605-07db-4a89-9358-bdb5430944a0",
   "metadata": {},
   "outputs": [],
   "source": [
    "#| export\n",
    "\n",
    "class ROIReaders(DataReader):\n",
    "    \"\"\" \n",
    "    Return the roi(s) as shapely.geometry.Polygon(s) in a nested dictionary with structure: {plane_id: {roi_id: Polygon}}\n",
    "    In case plane-specific ROIs are required / requested at some point, \n",
    "    having the additional level that enables the reference to plane_id(s) should foster the implementation.\n",
    "    The current implementation, however, only supports the use of ROIs for all planes - the corresponding plane_id is hence: 'all_planes'\n",
    "    Ultimately, this file_id specific dictionary can then be integrated into the 'rois_as_shapely_polygons' attribute of the database.\n",
    "\n",
    "    Note: If multiple ROIs are used for one image, the individual ROIs must be named properly in the ROIManager-Tool in ImageJ.\n",
    "          For instance, if images of the hippocampus are investigated & they can contain images of the DG, CA3 and CA1, \n",
    "          the corresponding ROIs that mark the respective area have to be named consistenly for all .zip files. This makes it possible, \n",
    "          that findmycells can handle the analysis even if not all ROIs are present for each image, e.g. for some files only DG and CA3.\n",
    "    \"\"\"\n",
    "    \n",
    "    \n",
    "    @property\n",
    "    def key_to_configs_attribute_in_database(self) -> str:\n",
    "        return 'ROIReader_configs'\n",
    "    \n",
    "    \n",
    "    @property\n",
    "    def default_config_values(self) -> Dict[str, Any]:\n",
    "        \"\"\"\n",
    "        findmycells enables analyses of multiple ROIs in the image data. To do so, they will be matched based on their ID that will\n",
    "        be retrieved from the ROI file. Some softwares that create these ROI-files, however, create default IDs for the individual\n",
    "        ROIs that will interfere with this matching. For instance, in Fiji / ImageJ2, created ROIs get its centroid (?) pixel \n",
    "        coordinates as default ID (e.g. something like \"523-378\"). Since such default IDs most likely won´t be consistent throughout\n",
    "        your entire image dataset, findmycells provides you with two options to adress this:\n",
    "        a) You can set 'load_roi_ids_from_file' to False (default): \n",
    "          This will cause findmycells to ignore the IDs of the ROIs that are saved in the provided ROI file and assign them with \n",
    "          new IDs starting at \"000\". Note: Essentially, this requires you to have always the same type of ROIs present in the \n",
    "          exact same order in all your ROI-files. It is therefore only recommended if you have just a single ROI you´d like to analyze.\n",
    "        b) You can set 'load_roi_ids_from_file' to True (recommended if you have more than a single ROI):\n",
    "          This will enforce that findmycells uses the IDs that each ROI was saved with. Therefore, it requires that you use consistent\n",
    "          naming of the ROIs with your preferred software. For instance, if you´re using Fiji / ImageJ2, you can rename each ROI in the\n",
    "          ROIManager (e.g. \"CA3\", \"vlPAG\", or \"ipsilateral_SNc\"). Analyses and quantifications will then be matched and pooled across\n",
    "          all ROIs with the respective IDs (e.g. all \"CA3\" ROIs).\n",
    "        \"\"\"\n",
    "        default_values = {'load_roi_ids_from_file': False}\n",
    "        return default_values\n",
    "    \n",
    "    \n",
    "    @property\n",
    "    def default_config_value_types(self) -> Dict[str, List[type]]:\n",
    "        default_config_value_types = {'load_roi_ids_from_file': [bool]}\n",
    "        return default_config_value_types\n",
    "    \n",
    "    \n",
    "    def assert_correct_output_format(self, output: Dict[str, Dict[str, Polygon]]) -> None:\n",
    "        assert type(output) == dict, 'The overall type of the returned data is not a dictionary!'\n",
    "        for plane_id, nested_dict in output.items():\n",
    "            assert type(plane_id) == str, 'Not all keys of the constructed ROI dictrionary are strings!'\n",
    "            assert type(nested_dict) == dict, 'Not all elements in the constructed ROI dictionary are nested dictionaries!'\n",
    "            for roi_id, polygon in output[plane_id].items():\n",
    "                assert type(roi_id) == str, 'Not all assigned ROI-IDs are strings!'\n",
    "                assert type(polygon) == Polygon, 'Not all loaded ROIs were successfully converted into Polygon objects!'"
   ]
  },
  {
   "cell_type": "code",
   "execution_count": null,
   "id": "b8579260-ab1b-410c-ba73-bb7a2c9a072a",
   "metadata": {},
   "outputs": [],
   "source": [
    "#| export\n",
    "\n",
    "class ImageJROIReader(ROIReaders):\n",
    "    \n",
    "    \n",
    "    @property\n",
    "    def readable_filetype_extensions(self) -> List[str]:\n",
    "        return ['.roi', '.zip']\n",
    "    \n",
    "    \n",
    "    def read(self,\n",
    "             filepath: Path, # filepath to the microscopy image file\n",
    "             database: Database # the project database\n",
    "            ) -> Dict[str, Dict[str, Polygon]]: # nested dictionaries of shapely polygons: {plane_id: {roi_id: Polygon}}\n",
    "        if filepath.name.endswith('.roi'):\n",
    "            loaded_rois = [roifile.ImagejRoi.fromfile(filepath)]\n",
    "        else: # it´s a .zip file:\n",
    "            loaded_rois = roifile.ImagejRoi.fromfile(filepath)\n",
    "        rois_as_shapely_polygons = {'all_planes': {}} # plane specific ROIs are not yet supported, but this structure would allow it\n",
    "        roi_count = len(loaded_rois)\n",
    "        for idx in range(roi_count):\n",
    "            row_coords = loaded_rois[idx].coordinates()[:, 1]\n",
    "            col_coords = loaded_rois[idx].coordinates()[:, 0]\n",
    "            if self.load_roi_ids_from_file:\n",
    "                rois_as_shapely_polygons['all_planes'][loaded_rois[idx].name] = Polygon(np.asarray(list(zip(row_coords, col_coords))))\n",
    "            else:\n",
    "                rois_as_shapely_polygons['all_planes'][str(idx).zfill(3)] = Polygon(np.asarray(list(zip(row_coords, col_coords))))            \n",
    "        return rois_as_shapely_polygons"
   ]
  },
  {
   "cell_type": "code",
   "execution_count": null,
   "id": "8718c497-98c8-4dd9-b06f-aa26a4f03be4",
   "metadata": {},
   "outputs": [],
   "source": [
    "#| hide\n",
    "import nbdev; nbdev.nbdev_export()"
   ]
  }
 ],
 "metadata": {
  "kernelspec": {
   "display_name": "Python 3 (ipykernel)",
   "language": "python",
   "name": "python3"
  }
 },
 "nbformat": 4,
 "nbformat_minor": 5
}
