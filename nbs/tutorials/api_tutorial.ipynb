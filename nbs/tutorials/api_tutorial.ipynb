{
 "cells": [
  {
   "cell_type": "markdown",
   "id": "9e64ab19-6424-4dc8-bfa8-af6e82e453d2",
   "metadata": {},
   "source": [
    "# API tutorials\n",
    "\n",
    "> How to use the API of *findmycells* to process 2D or 3D datasets"
   ]
  },
  {
   "cell_type": "code",
   "execution_count": null,
   "id": "a06f5f22-ea5d-4a17-9b3b-b7dfd67a7c0c",
   "metadata": {},
   "outputs": [],
   "source": [
    "from pathlib import Path\n",
    "from findmycells import utils"
   ]
  }
 ],
 "metadata": {
  "kernelspec": {
   "display_name": "Python 3 (ipykernel)",
   "language": "python",
   "name": "python3"
  }
 },
 "nbformat": 4,
 "nbformat_minor": 5
}
