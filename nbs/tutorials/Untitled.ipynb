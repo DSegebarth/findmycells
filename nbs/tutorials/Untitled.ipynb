{
 "cells": [
  {
   "cell_type": "markdown",
   "id": "8f8e271f-a5af-40dc-af7b-f6f3f32a288c",
   "metadata": {},
   "source": [
    "# GUI tutorial\n",
    "\n",
    "> How to use the GUI of *findmycells* to process 2D or 3D datasets"
   ]
  },
  {
   "cell_type": "code",
   "execution_count": null,
   "id": "968087c4-61f0-4379-b238-200dd072bdd0",
   "metadata": {},
   "outputs": [],
   "source": [
    "from findmycells.interfaces import launch_gui\n",
    "from pathlib import Path"
   ]
  },
  {
   "cell_type": "code",
   "execution_count": null,
   "id": "e46ee5b8-51de-46f9-95cc-ff405abb17d6",
   "metadata": {},
   "outputs": [],
   "source": [
    "import os\n",
    "tutorials_dir = Path(os.getcwd())"
   ]
  },
  {
   "cell_type": "code",
   "execution_count": null,
   "id": "7524012a-66d9-475a-a2d7-0b68d4e46fca",
   "metadata": {},
   "outputs": [],
   "source": [
    "project_root_dir = tutorials_dir.parent.parent.joinpath('test_data', 'cfos_fmc_test_project')"
   ]
  },
  {
   "cell_type": "code",
   "execution_count": null,
   "id": "e2265c68-cb8b-4173-9e1f-92eb7f09d1fe",
   "metadata": {},
   "outputs": [],
   "source": []
  },
  {
   "cell_type": "code",
   "execution_count": null,
   "id": "66d14ead-8645-4390-a8de-0f603bcae39f",
   "metadata": {},
   "outputs": [],
   "source": [
    "launch_gui(project_root_dir = project_root_dir)"
   ]
  },
  {
   "cell_type": "code",
   "execution_count": null,
   "id": "63c1f5cd-913b-4404-8653-934e4f690271",
   "metadata": {},
   "outputs": [],
   "source": []
  }
 ],
 "metadata": {
  "kernelspec": {
   "display_name": "python3",
   "language": "python",
   "name": "python3"
  }
 },
 "nbformat": 4,
 "nbformat_minor": 5
}
