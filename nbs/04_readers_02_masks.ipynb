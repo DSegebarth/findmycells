{
 "cells": [
  {
   "cell_type": "markdown",
   "id": "4c3cce12-30b3-467e-ab87-183e2c991033",
   "metadata": {},
   "source": [
    "# mask data readers\n",
    "\n",
    "> This module contains all code responsible for reading image mask files:"
   ]
  },
  {
   "cell_type": "markdown",
   "id": "851ddaae-6891-47fd-81a0-51bf51653ebc",
   "metadata": {},
   "source": [
    "#| default_exp readers/masks"
   ]
  },
  {
   "cell_type": "code",
   "execution_count": null,
   "id": "9bc73812-a334-4c0d-a15c-70f065de5744",
   "metadata": {},
   "outputs": [],
   "source": [
    "#| hide\n",
    "from nbdev.showdoc import *"
   ]
  },
  {
   "cell_type": "code",
   "execution_count": null,
   "id": "d4c0d73d-7cc0-4771-9972-7051c7e018b7",
   "metadata": {},
   "outputs": [],
   "source": []
  }
 ],
 "metadata": {
  "kernelspec": {
   "display_name": "Python 3 (ipykernel)",
   "language": "python",
   "name": "python3"
  }
 },
 "nbformat": 4,
 "nbformat_minor": 5
}
