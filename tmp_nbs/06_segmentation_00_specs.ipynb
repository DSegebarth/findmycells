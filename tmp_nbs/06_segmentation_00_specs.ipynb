{
 "cells": [
  {
   "cell_type": "markdown",
   "id": "04a60ece-55a9-4bc1-9aad-f1fd99baa522",
   "metadata": {},
   "source": [
    "# Specifications of segmentation specific subclasses\n",
    "\n",
    "> This module defines the specifications of segmentation related subclasses of `ProcessingStrategy` and `ProcessingObject`"
   ]
  },
  {
   "cell_type": "code",
   "execution_count": null,
   "id": "09060c64-256d-47d4-9135-c5ff04743ed5",
   "metadata": {},
   "outputs": [],
   "source": [
    "#| default_exp segmentation/specs"
   ]
  },
  {
   "cell_type": "code",
   "execution_count": null,
   "id": "7d5488b7-58b0-4859-a46e-c9745c522be3",
   "metadata": {},
   "outputs": [],
   "source": [
    "#| export\n",
    "\n",
    "from abc import abstractmethod\n",
    "from typing import Dict\n",
    "\n",
    "\n",
    "from findmycells.core import ProcessingObject, ProcessingStrategy\n",
    "from findmycells.database import Database"
   ]
  },
  {
   "cell_type": "code",
   "execution_count": null,
   "id": "e6260428-0470-4f47-9cb5-ad14c968e9a8",
   "metadata": {},
   "outputs": [],
   "source": [
    "#| hide\n",
    "from nbdev.showdoc import *"
   ]
  },
  {
   "cell_type": "code",
   "execution_count": null,
   "id": "e9649966-2dd5-485f-974c-03a0630a5af8",
   "metadata": {},
   "outputs": [],
   "source": [
    "#| export\n",
    "\n",
    "class SegmentationStrategy(ProcessingStrategy):\n",
    "    \n",
    "    \"\"\"\n",
    "    Extending the `ProcssingStrategy` base class for segmentation as processing subtype.\n",
    "    Also adding another property that denotes the type of segmentation (i.e. instance or semantic).\n",
    "    \"\"\"\n",
    "    \n",
    "    @property\n",
    "    def processing_type(self):\n",
    "        return 'segmentation'\n",
    "    \n",
    "    @property\n",
    "    @abstractmethod\n",
    "    def segmentation_type(self):\n",
    "        # Either \"instance\" or \"semantic\"\n",
    "        pass"
   ]
  },
  {
   "cell_type": "code",
   "execution_count": null,
   "id": "e53c5dc4-82c6-486b-9fca-e9aa83469bcb",
   "metadata": {},
   "outputs": [],
   "source": [
    "#| export\n",
    "\n",
    "class SegmentationObject(ProcessingObject):\n",
    "\n",
    "    \"\"\"\n",
    "    Extending the `ProcessingObject` base class for segmentation as processing subtype.\n",
    "    The clear_all_tmp_data() method allows to clear all chached results that might \n",
    "    accumulate for instance while using deepflash2.\n",
    "    \"\"\"\n",
    "    \n",
    "    @property\n",
    "    def processing_type(self) -> str:\n",
    "        return 'segmentation'\n",
    "\n",
    "\n",
    "    def add_processing_specific_infos_to_updates(self, updates: Dict) -> Dict:\n",
    "        return updates\n",
    "\n",
    "\n",
    "    def clear_all_tmp_data(self) -> None:\n",
    "        if all(self.database.file_infos['segmentation_completed']):\n",
    "            for tmp_subdir_path in self.database.segmentation_tool_dir.iterdir():\n",
    "                if tmp_subdir_path.is_dir() and tmp_subdir_path.name != 'trained_models':\n",
    "                    shutil.rmtree(tmp_subdir_path)"
   ]
  },
  {
   "cell_type": "code",
   "execution_count": null,
   "id": "8718c497-98c8-4dd9-b06f-aa26a4f03be4",
   "metadata": {},
   "outputs": [],
   "source": [
    "#| hide\n",
    "import nbdev; nbdev.nbdev_export()"
   ]
  }
 ],
 "metadata": {
  "kernelspec": {
   "display_name": "Python 3 (ipykernel)",
   "language": "python",
   "name": "python3"
  }
 },
 "nbformat": 4,
 "nbformat_minor": 5
}
