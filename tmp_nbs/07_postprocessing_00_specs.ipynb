{
 "cells": [
  {
   "cell_type": "markdown",
   "id": "04a60ece-55a9-4bc1-9aad-f1fd99baa522",
   "metadata": {},
   "source": [
    "# Specifications of postprocessing specific subclasses\n",
    "\n",
    "> This module defines the specifications of postprocessing related subclasses of `ProcessingStrategy` and `ProcessingObject`"
   ]
  },
  {
   "cell_type": "code",
   "execution_count": null,
   "id": "09060c64-256d-47d4-9135-c5ff04743ed5",
   "metadata": {},
   "outputs": [],
   "source": [
    "#| default_exp postprocessing/specs"
   ]
  },
  {
   "cell_type": "code",
   "execution_count": null,
   "id": "7d5488b7-58b0-4859-a46e-c9745c522be3",
   "metadata": {},
   "outputs": [],
   "source": [
    "#| export\n",
    "\n",
    "from abc import abstractmethod\n",
    "from typing import Dict, List\n",
    "from skimage import io\n",
    "\n",
    "from findmycells.core import ProcessingObject, ProcessingStrategy\n",
    "from findmycells.database import Database\n",
    "from findmycells import utils"
   ]
  },
  {
   "cell_type": "code",
   "execution_count": null,
   "id": "e6260428-0470-4f47-9cb5-ad14c968e9a8",
   "metadata": {},
   "outputs": [],
   "source": [
    "#| hide\n",
    "from nbdev.showdoc import *"
   ]
  },
  {
   "cell_type": "code",
   "execution_count": null,
   "id": "20975972-4a66-4b5c-87de-10fda55553fb",
   "metadata": {},
   "outputs": [],
   "source": [
    "#| export\n",
    "\n",
    "class PostprocessingStrategy(ProcessingStrategy):\n",
    "    \n",
    "    \"\"\"\n",
    "    Extending the `ProcssingStrategy` base class for postprocessing as processing subtype.\n",
    "    \"\"\"\n",
    "    \n",
    "    @property\n",
    "    def processing_type(self):\n",
    "        return 'postprocessing' "
   ]
  },
  {
   "cell_type": "code",
   "execution_count": null,
   "id": "c755ed18-63a7-4b87-95ae-3c19d9aace06",
   "metadata": {},
   "outputs": [],
   "source": [
    "#| export\n",
    "\n",
    "class PostprocessingObject(ProcessingObject):\n",
    "    \n",
    "    \"\"\"\n",
    "    Extending the `ProcessingObject` base class for postprocessing as processing subtype.\n",
    "    \"\"\"\n",
    "    \n",
    "    def __init__(self, database: Database, file_ids: List[str], strategies: List[PostprocessingStrategy], segmentations_to_use: str) -> None:\n",
    "        super().__init__(database = database, file_ids = file_ids, strategies = strategies)\n",
    "        self.file_id = file_ids[0]\n",
    "        self.file_info = self.database.get_file_infos(identifier = self.file_id)\n",
    "        if segmentations_to_use == 'semantic':\n",
    "            path = self.database.semantic_segmentations_dir\n",
    "        elif segmentations_to_use == 'instance':\n",
    "            path = self.database.instance_segmentations_dir\n",
    "        else:\n",
    "            raise ValueError(\"'segmentations_to_use' has to be either 'semantic' or 'instance'.\")\n",
    "        self.postprocessed_segmentations = utils.load_zstack_as_array_from_single_planes(path = path, file_id = self.file_id)\n",
    "        self.rois_dict = self.database.area_rois_for_quantification[self.file_id]\n",
    "        self.segmentations_per_area_roi_id = dict()\n",
    "\n",
    "\n",
    "    @property\n",
    "    def processing_type(self):\n",
    "        return 'postprocessing'\n",
    "            \n",
    "    \n",
    "    def save_postprocessed_segmentations(self) -> None:\n",
    "        for area_roi_id in self.segmentations_per_area_roi_id.keys():\n",
    "            for plane_index in range(self.segmentations_per_area_roi_id[area_roi_id].shape[0]):\n",
    "                image = self.segmentations_per_area_roi_id[area_roi_id][plane_index]\n",
    "                filepath = self.database.quantified_segmentations_dir.joinpath(area_roi_id)\n",
    "                if filepath.is_dir() == False:\n",
    "                    filepath.mkdir()\n",
    "                filename_path = filepath.joinpath(f'{self.file_id}-{str(plane_index).zfill(3)}_postprocessed_segmentations.png')\n",
    "                io.imsave(filename_path, image, check_contrast=False)\n",
    "\n",
    "\n",
    "    def add_processing_specific_infos_to_updates(self, updates: Dict) -> Dict:\n",
    "        return updates"
   ]
  },
  {
   "cell_type": "code",
   "execution_count": null,
   "id": "8718c497-98c8-4dd9-b06f-aa26a4f03be4",
   "metadata": {},
   "outputs": [],
   "source": [
    "#| hide\n",
    "import nbdev; nbdev.nbdev_export()"
   ]
  }
 ],
 "metadata": {
  "kernelspec": {
   "display_name": "Python 3 (ipykernel)",
   "language": "python",
   "name": "python3"
  }
 },
 "nbformat": 4,
 "nbformat_minor": 5
}
