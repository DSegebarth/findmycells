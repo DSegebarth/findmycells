{
 "cells": [
  {
   "cell_type": "markdown",
   "id": "9fc509ad-1e65-446d-928a-446e4c35ae46",
   "metadata": {},
   "source": [
    "# Rebuild estimation of feature count from using a grid method"
   ]
  },
  {
   "cell_type": "markdown",
   "id": "406b1882-6f49-433c-b782-728fd6c61809",
   "metadata": {},
   "source": [
    "#### Parameters that **have to be** adjustable:\n",
    "\n",
    "- Size of the grid (i.e. how large is the side of each square)\n",
    "- Size of the counting square (i.e. how large is the side of each counting square). To consider:\n",
    "    - Size relative to grid square? Percentage of grid square side or of grid square area?\n",
    "    - or make its size absolute? --> min > 0 & max = grid square side"
   ]
  },
  {
   "cell_type": "markdown",
   "id": "9a4fce91-a297-492a-889b-9c21fad42e34",
   "metadata": {},
   "source": [
    "### Parameters that **should** adjustable:\n",
    "\n",
    "- inclusion / exclusion criteria:\n",
    "    - on which sides of the square / cube is a ROI included / excluded\n",
    "- position of the counting square:\n",
    "    - upper left, upper center, upper right\n",
    "    - middle left, middle center, middle right\n",
    "    - lower left, lower center, lower right"
   ]
  },
  {
   "cell_type": "code",
   "execution_count": 1,
   "id": "3f63c28d-4725-4d3f-b5f9-bbe2e4fadcf1",
   "metadata": {},
   "outputs": [],
   "source": [
    "import os\n",
    "from pathlib import Path\n",
    "import numpy as np\n",
    "import matplotlib.pyplot as plt\n",
    "from skimage.io import imread\n",
    "from skimage import measure\n",
    "from shapely.geometry import Polygon, LineString\n",
    "from shapely.validation import make_valid\n",
    "import roifile\n",
    "\n",
    "from typing import Dict, Tuple, List, Optional"
   ]
  },
  {
   "cell_type": "markdown",
   "id": "a1b2097b-dcb7-4f94-b33a-09e70dc70301",
   "metadata": {},
   "source": [
    "### Classes:"
   ]
  },
  {
   "cell_type": "code",
   "execution_count": 2,
   "id": "db896b6e-71f9-4383-8827-4310bc11acba",
   "metadata": {},
   "outputs": [],
   "source": [
    "class CountingSquare:\n",
    "    \n",
    "    def __init__(self, size: int, position: str, corners: Dict):\n",
    "        self.size = size\n",
    "        self.position = position\n",
    "        self.all_corner_coords = corners\n",
    "        self.bounding_box_roi = Polygon([corners['upper_left'], \n",
    "                                         corners['upper_right'], \n",
    "                                         corners['lower_right'], \n",
    "                                         corners['lower_left']])\n",
    "        self.bounding_box_x_for_plotting = self.bounding_box_roi.boundary.xy[1]\n",
    "        self.bounding_box_y_for_plotting = self.bounding_box_roi.boundary.xy[0]\n",
    "        \n",
    "    \n",
    "    def set_in_and_exclusion_sides(self, sides: List[str], passed_in_or_exclusion_sides: str='exclusion') -> None:\n",
    "        self._assert_valid_input(sides = sides, passed_in_or_exclusion_sides = passed_in_or_exclusion_sides)\n",
    "        if passed_in_or_exclusion_sides == 'exclusion':\n",
    "            in_and_exclusion_attributes = self._derive_in_and_exclusion_attributes(sides = sides, in_or_exclusion = 'exclusion')\n",
    "        elif passed_in_or_exclusion_sides == 'inclusion':\n",
    "            in_and_exclusion_attributes = self._derive_in_and_exclusion_attributes(sides = sides, in_or_exclusion = 'inclusion')\n",
    "        for in_or_exclusion_key in ['inclusion', 'exclusion']:\n",
    "            for attribute_key in ['as_strings', 'as_lines']:\n",
    "                setattr(self, f'{in_or_exclusion_key}_sides_{attribute_key}', in_and_exclusion_attributes[in_or_exclusion_key][attribute_key])\n",
    "            \n",
    "    \n",
    "    def _assert_valid_input(self, sides: List[str], passed_in_or_exclusion_sides: str) -> None:\n",
    "        sides_error_message = '\"sides\" has to be a list of two string elements, which can be any of these: \"upper\", \"right\", \"lower\", \"left\" - no duplicates!'\n",
    "        if type(sides) == list:\n",
    "            if len(sides) != 2:\n",
    "                raise ValueError(sides_error_message)\n",
    "            if sides[0] == sides[1]:\n",
    "                raise ValueError()\n",
    "            for elem in sides:\n",
    "                if type(elem) != str:\n",
    "                    raise TypeError(sides_error_message)\n",
    "                if elem not in ['upper', 'right', 'lower', 'left']:\n",
    "                    raise ValueError(sides_error_message)\n",
    "        else:\n",
    "            raise TypeError(sides_error_message)\n",
    "        in_or_exclusion_error_message = '\"passed_in_or_exclusion_sides\" has to be either \"exclusion\" or \"inclusion\".'\n",
    "        if type(passed_in_or_exclusion_sides) == str:\n",
    "            if passed_in_or_exclusion_sides not in ['exclusion', 'inclusion']:\n",
    "                raise ValueError(in_or_exclusion_error_message)\n",
    "        else:\n",
    "            raise TypeError(in_or_exclusion_error_message)             \n",
    "    \n",
    "           \n",
    "    def _derive_in_and_exclusion_attributes(self, sides: List[str], in_or_exclusion: str) -> Dict:\n",
    "        in_and_exclusion_attributes = {'inclusion': {},\n",
    "                                       'exclusion': {}}\n",
    "        in_and_exclusion_attributes[in_or_exclusion]['as_strings'] = sides\n",
    "        in_and_exclusion_attributes[in_or_exclusion]['as_lines'] = [self._construct_line_shape_from_side_string(side_string) for side_string in sides]\n",
    "        remaining_sides = ['upper', 'right', 'lower', 'left']\n",
    "        for side_string in sides:\n",
    "            remaining_sides.remove(side_string)\n",
    "        if in_or_exclusion == 'inclusion':\n",
    "            remaining_in_or_exclusion = 'exclusion'\n",
    "        else:\n",
    "            remaining_in_or_exclusion = 'inclusion'\n",
    "        in_and_exclusion_attributes[remaining_in_or_exclusion]['as_strings'] = remaining_sides\n",
    "        in_and_exclusion_attributes[remaining_in_or_exclusion]['as_lines'] = [self._construct_line_shape_from_side_string(side_string) for side_string in remaining_sides]        \n",
    "        return in_and_exclusion_attributes\n",
    "    \n",
    "    \n",
    "    def _construct_line_shape_from_side_string(self, side_string: str) -> LineString:\n",
    "        corner_point_keys = list(self.all_corner_coords.keys())\n",
    "        corners = [key for key in corner_point_keys if side_string in key]\n",
    "        starting_point_coords = self.all_corner_coords[corners[0]]\n",
    "        end_point_coords = self.all_corner_coords[corners[1]]\n",
    "        return LineString([starting_point_coords, end_point_coords])"
   ]
  },
  {
   "cell_type": "code",
   "execution_count": 3,
   "id": "7932fe64-b1d5-41bc-830b-6d6ee15321e9",
   "metadata": {},
   "outputs": [],
   "source": [
    "class ImageTile:\n",
    "    \n",
    "    def __init__(self, tiles_row_id: int, tiles_col_id: int, tile: np.ndarray):\n",
    "        self.row_id = tiles_row_id\n",
    "        self.col_id = tiles_col_id\n",
    "        self.image = tile\n",
    "        self.height, self.width = tile.shape[0:2]\n",
    "        self.all_corner_coords = self._calculate_all_corner_coords()\n",
    "        self.bounding_box_roi = self._convert_corner_coords_to_bounding_box_roi()\n",
    "        self.bounding_box_x_for_plotting = self.bounding_box_roi.boundary.xy[1]\n",
    "        self.bounding_box_y_for_plotting = self.bounding_box_roi.boundary.xy[0]\n",
    "        \n",
    "    def _convert_corner_coords_to_bounding_box_roi(self):\n",
    "        coords = self.all_corner_coords\n",
    "        return Polygon([coords['upper_left'], coords['upper_right'], coords['lower_right'], coords['lower_left']])\n",
    "    \n",
    "    def _calculate_all_corner_coords(self) -> Dict:\n",
    "        upper_left = (self.row_id * self.height, self.col_id * self.width)\n",
    "        shape = (self.height, self.width)\n",
    "        all_corner_coords = self._corners_from_upper_left_corner_and_shape(upper_left = upper_left, shape = shape)\n",
    "        return all_corner_coords\n",
    "    \n",
    "    def _corners_from_upper_left_corner_and_shape(self, upper_left: Tuple[int, int], shape: Tuple[int, int]) -> Dict:\n",
    "        all_corner_coords = {}\n",
    "        all_corner_coords['upper_left'] = upper_left\n",
    "        all_corner_coords['upper_right'] = (upper_left[0], upper_left[1] + shape[1])\n",
    "        all_corner_coords['lower_left'] = (upper_left[0] + shape[0], upper_left[1])\n",
    "        all_corner_coords['lower_right'] = (upper_left[0] + shape[0], upper_left[1] + shape[1])   \n",
    "        return all_corner_coords\n",
    "    \n",
    "    def create_counting_square(self, size: int, position: str, sides_to_exclude: List[str]):\n",
    "        self._ensure_counting_square_fits_within_tile(size = size)\n",
    "        counting_square_upper_left_corner_coords = self._get_upper_left_corner_coords_by_position(size = size, position = position)\n",
    "        all_corners_counting_square = self._corners_from_upper_left_corner_and_shape(upper_left = counting_square_upper_left_corner_coords,\n",
    "                                                                                     shape = (size, size))\n",
    "        self.counting_square = CountingSquare(size = size, position = position, corners = all_corners_counting_square)\n",
    "        self.counting_square.set_in_and_exclusion_sides(sides = sides_to_exclude)\n",
    "        \n",
    "    \n",
    "    def _ensure_counting_square_fits_within_tile(self, size: int):\n",
    "        if (size > self.height) or (size > self.width):\n",
    "            error_message_line_1 = 'The \"size\" you have chosen for the counting square is too large!\\n'\n",
    "            error_message_line_2 = f'It has to fit within your grid with height = {self.height} and width = {self.width}.\\n'\n",
    "            error_message_line_3 = f'Thus, the max value you could select for \"size\" is {min(self.height, self.width)}.'\n",
    "            error_message = error_message_line_1 + error_message_line_2 + error_message_line_3\n",
    "            raise ValueError(error_message)\n",
    "        \n",
    "        \n",
    "    def _get_upper_left_corner_coords_by_position(self, size: int, position: str) -> Tuple[int, int]:\n",
    "        upper_row = self.all_corner_coords['upper_left'][0]\n",
    "        middle_row = upper_row + int(self.height * 0.5) - int(size * 0.5)\n",
    "        lower_row = self.all_corner_coords['lower_left'][0] - size\n",
    "        left_col = self.all_corner_coords['upper_left'][1]\n",
    "        center_col = left_col + int(self.width * 0.5) - int(size * 0.5)\n",
    "        right_col = self.all_corner_coords['upper_right'][1] - size\n",
    "        if position == 'upper left':\n",
    "            return (upper_row, left_col)\n",
    "        elif position == 'upper center':\n",
    "            return (upper_row, center_col)\n",
    "        elif position == 'upper right':\n",
    "            return (upper_row, right_col)\n",
    "        elif position == 'middle left':\n",
    "            return (middle_row, left_col)\n",
    "        elif position == 'middle center':\n",
    "            return (middle_row, center_col)\n",
    "        elif position == 'middle right':\n",
    "            return (middle_row, right_col)\n",
    "        elif position == 'lower left':\n",
    "            return (lower_row, left_col)\n",
    "        elif position == 'lower center':\n",
    "            return (lower_row, center_col)\n",
    "        elif position == 'lower right':\n",
    "            return (lower_row, right_col)\n",
    "        else:\n",
    "            raise ValueError(f'Please double-check the \"position\" you passed.')"
   ]
  },
  {
   "cell_type": "markdown",
   "id": "84242b2d-93e5-4b2f-89d7-ed3cb241faae",
   "metadata": {},
   "source": [
    "### Functions:"
   ]
  },
  {
   "cell_type": "code",
   "execution_count": 4,
   "id": "ea001a44-75d4-42d7-9625-8557cddb355b",
   "metadata": {},
   "outputs": [
    {
     "data": {
      "text/plain": [
       "'\\n# adapted from: https://towardsdatascience.com/efficiently-splitting-an-image-into-tiles-in-python-using-numpy-d1bf0dd7b6f7\\ndef resize_image_and_create_tiles(image: np.ndarray, tile_size: Tuple[int, int]) -> np.ndarray:\\n    if len(image.shape) == 3:\\n        image_height, image_width, image_channels = image.shape # might crash with grayscale images?\\n        tile_height, tile_width = tile_size\\n        if (image_height % tile_height != 0) or (image_width % tile_width != 0):\\n            image = _resize_image_for_tiles_by_padding_bottom_right(image = image, tile_size = tile_size)\\n            image_height, image_width, image_channels = image.shape\\n        tiles = image.reshape(image_height // tile_height,\\n                              tile_height,\\n                              image_width // tile_width,\\n                              tile_width, \\n                              image_channels)\\n        tiles = tiles.swapaxes(1,2)\\n    else:\\n        image_height, image_width = image.shape # might crash with grayscale images?\\n        tile_height, tile_width = tile_size\\n        if (image_height % tile_height != 0) or (image_width % tile_width != 0):\\n            image = _resize_image_for_tiles_by_padding_bottom_right(image = image, tile_size = tile_size)\\n            image_height, image_width = image.shape\\n        tiles = image.reshape(image_height // tile_height,\\n                              tile_height,\\n                              image_width // tile_width,\\n                              tile_width)\\n        tiles = tiles.swapaxes(1,2)        \\n    return image, tiles\\n\\n\\ndef _resize_image_for_tiles_by_padding_bottom_right(image: np.ndarray, tile_size: Tuple[int, int]) -> np.ndarray:\\n    image_height, image_width = image.shape[:2]\\n    pixels_required_for_height = tile_size[0] - image_height % tile_size[0]\\n    pixels_required_for_width = tile_size[1] - image_width % tile_size[1]\\n    if len(image.shape) == 3:\\n        return np.pad(image, ((0, pixels_required_for_height), (0, pixels_required_for_width), (0, 0)))\\n    else:\\n        return np.pad(image, ((0, pixels_required_for_height), (0, pixels_required_for_width)))\\n'"
      ]
     },
     "execution_count": 4,
     "metadata": {},
     "output_type": "execute_result"
    }
   ],
   "source": [
    "\"\"\"\n",
    "# adapted from: https://towardsdatascience.com/efficiently-splitting-an-image-into-tiles-in-python-using-numpy-d1bf0dd7b6f7\n",
    "def resize_image_and_create_tiles(image: np.ndarray, tile_size: Tuple[int, int]) -> np.ndarray:\n",
    "    if len(image.shape) == 3:\n",
    "        image_height, image_width, image_channels = image.shape # might crash with grayscale images?\n",
    "        tile_height, tile_width = tile_size\n",
    "        if (image_height % tile_height != 0) or (image_width % tile_width != 0):\n",
    "            image = _resize_image_for_tiles_by_padding_bottom_right(image = image, tile_size = tile_size)\n",
    "            image_height, image_width, image_channels = image.shape\n",
    "        tiles = image.reshape(image_height // tile_height,\n",
    "                              tile_height,\n",
    "                              image_width // tile_width,\n",
    "                              tile_width, \n",
    "                              image_channels)\n",
    "        tiles = tiles.swapaxes(1,2)\n",
    "    else:\n",
    "        image_height, image_width = image.shape # might crash with grayscale images?\n",
    "        tile_height, tile_width = tile_size\n",
    "        if (image_height % tile_height != 0) or (image_width % tile_width != 0):\n",
    "            image = _resize_image_for_tiles_by_padding_bottom_right(image = image, tile_size = tile_size)\n",
    "            image_height, image_width = image.shape\n",
    "        tiles = image.reshape(image_height // tile_height,\n",
    "                              tile_height,\n",
    "                              image_width // tile_width,\n",
    "                              tile_width)\n",
    "        tiles = tiles.swapaxes(1,2)        \n",
    "    return image, tiles\n",
    "\n",
    "\n",
    "def _resize_image_for_tiles_by_padding_bottom_right(image: np.ndarray, tile_size: Tuple[int, int]) -> np.ndarray:\n",
    "    image_height, image_width = image.shape[:2]\n",
    "    pixels_required_for_height = tile_size[0] - image_height % tile_size[0]\n",
    "    pixels_required_for_width = tile_size[1] - image_width % tile_size[1]\n",
    "    if len(image.shape) == 3:\n",
    "        return np.pad(image, ((0, pixels_required_for_height), (0, pixels_required_for_width), (0, 0)))\n",
    "    else:\n",
    "        return np.pad(image, ((0, pixels_required_for_height), (0, pixels_required_for_width)))\n",
    "\"\"\"\n"
   ]
  },
  {
   "cell_type": "code",
   "execution_count": 5,
   "id": "dcb95b6b-602f-44cc-bbf8-313c018be9f8",
   "metadata": {},
   "outputs": [],
   "source": [
    "# from utils\n",
    "\n",
    "def listdir_nohidden(path: Path) -> List:\n",
    "    return [f for f in os.listdir(path) if f.startswith('.') == False]\n",
    "\n",
    "\n",
    "def load_zstack_as_array_from_single_planes(path: Path, file_id: str, \n",
    "                                            minx: Optional[int]=None, maxx: Optional[int]=None, \n",
    "                                            miny: Optional[int]=None, maxy: Optional[int]=None) -> np.ndarray:\n",
    "    types = list(set([type(minx), type(maxx), type(miny), type(maxy)]))    \n",
    "    if any([minx, maxx, miny, maxy]):\n",
    "        if (len(types) == 1) & (types[0] == int):\n",
    "            cropping = True\n",
    "        else:\n",
    "            raise TypeError(\"'minx', 'maxx', 'miny', and 'maxy' all have to be integers - or None if no cropping has to be done\")\n",
    "    else:\n",
    "        cropping = False\n",
    "    filenames = [filename for filename in listdir_nohidden(path) if filename.startswith(file_id)]\n",
    "    cropped_zstack = list()\n",
    "    for single_plane_filename in filenames:\n",
    "        tmp_image = imread(path.joinpath(single_plane_filename))\n",
    "        if cropping:\n",
    "            tmp_image = tmp_image[minx:maxx, miny:maxy]\n",
    "        cropped_zstack.append(tmp_image.copy())\n",
    "        del tmp_image\n",
    "    return np.asarray(cropped_zstack)\n",
    "\n",
    "\n",
    "def get_polygon_from_instance_segmentation(single_plane: np.ndarray, label_id: int) -> Polygon:\n",
    "    x_dim, y_dim = single_plane.shape\n",
    "    tmp_array = np.zeros((x_dim, y_dim), dtype='uint8')\n",
    "    tmp_array[np.where(single_plane == label_id)] = 1\n",
    "    tmp_contours = measure.find_contours(tmp_array, level = 0)[0]\n",
    "    roi = Polygon(tmp_contours)\n",
    "    if roi.is_valid == False:\n",
    "        roi = make_valid(roi)\n",
    "    return roi"
   ]
  },
  {
   "cell_type": "code",
   "execution_count": 6,
   "id": "f9e5fb42-afb5-4982-8b7b-59d03e8493c7",
   "metadata": {},
   "outputs": [],
   "source": [
    "# adapted from: https://towardsdatascience.com/efficiently-splitting-an-image-into-tiles-in-python-using-numpy-d1bf0dd7b6f7\n",
    "def resize_grayscale_image_stack_and_create_tiles(image_stack: np.ndarray, tile_size: Tuple[int, int]) -> np.ndarray:\n",
    "    image_height, image_width = image_stack.shape[1], image_stack.shape[2]\n",
    "    tile_height, tile_width = tile_size\n",
    "    if (image_height % tile_height != 0) or (image_width % tile_width != 0):\n",
    "        image_stack = _resize_image_stack_for_tiles_by_padding_bottom_right(image_stack = image_stack, tile_size = tile_size)\n",
    "        image_height, image_width  = image_stack.shape[1], image_stack.shape[2]\n",
    "    representative_plane = image_stack[0]\n",
    "    tiles = representative_plane.reshape(image_height // tile_height,\n",
    "                                         tile_height,\n",
    "                                         image_width // tile_width,\n",
    "                                         tile_width)\n",
    "    tiles = tiles.swapaxes(1,2)      \n",
    "    return image_stack, tiles\n",
    "\n",
    "\n",
    "def _resize_image_stack_for_tiles_by_padding_bottom_right(image_stack: np.ndarray, tile_size: Tuple[int, int]) -> np.ndarray:\n",
    "    image_height, image_width = image_stack[0].shape\n",
    "    pixels_required_for_height = tile_size[0] - image_height % tile_size[0]\n",
    "    pixels_required_for_width = tile_size[1] - image_width % tile_size[1]\n",
    "    return np.pad(image_stack, ((0,0), (0, pixels_required_for_height), (0, pixels_required_for_width)))"
   ]
  },
  {
   "cell_type": "markdown",
   "id": "2fd315e8-e8e4-4e33-98c5-a4b3960e0e73",
   "metadata": {},
   "source": [
    "## Testing:"
   ]
  },
  {
   "cell_type": "code",
   "execution_count": 7,
   "id": "6c5a475f-1d39-41ee-89cd-7d7ca6aae809",
   "metadata": {},
   "outputs": [
    {
     "data": {
      "text/plain": [
       "(13, 5568, 4189)"
      ]
     },
     "execution_count": 7,
     "metadata": {},
     "output_type": "execute_result"
    }
   ],
   "source": [
    "mask_zstack = load_zstack_as_array_from_single_planes(path = Path('/mnt/c/Users/dsege/TEMP/findmycells_projects/dummy_data/instance_segmentations/'), file_id = '0000')\n",
    "mask_zstack_to_quantify_for_grid_estimation = mask_zstack.copy()\n",
    "mask_zstack_to_quantify_for_grid_estimation.shape"
   ]
  },
  {
   "cell_type": "code",
   "execution_count": 8,
   "id": "61a92dfa-8abe-4950-abd2-6650cfa4ee60",
   "metadata": {},
   "outputs": [],
   "source": [
    "loaded_roi = roifile.ImagejRoi.fromfile('/mnt/c/Users/dsege/TEMP/findmycells_projects/dummy_data/0000.roi')\n",
    "row_coords = loaded_roi.coordinates()[:, 1]\n",
    "col_coords = loaded_roi.coordinates()[:, 0]\n",
    "area_roi = Polygon(np.asarray(list(zip(row_coords, col_coords))))"
   ]
  },
  {
   "cell_type": "code",
   "execution_count": 9,
   "id": "8e292c15-d9c3-48e4-93f4-98a337c4f284",
   "metadata": {},
   "outputs": [
    {
     "data": {
      "text/plain": [
       "(13, 6000, 4500)"
      ]
     },
     "execution_count": 9,
     "metadata": {},
     "output_type": "execute_result"
    }
   ],
   "source": [
    "resized_mask_zstack, tiles = resize_grayscale_image_stack_and_create_tiles(image_stack = mask_zstack_to_quantify_for_grid_estimation, tile_size = (500, 500))\n",
    "resized_mask_zstack.shape"
   ]
  },
  {
   "cell_type": "code",
   "execution_count": 10,
   "id": "31870017-0e4a-4eb5-88c8-362b48184b25",
   "metadata": {},
   "outputs": [],
   "source": [
    "overlapping_tiles = []\n",
    "for row_id in range(tiles.shape[0]):\n",
    "    for col_id in range(tiles.shape[1]):\n",
    "        selected_tile = ImageTile(tiles_row_id = row_id, tiles_col_id = col_id, tile = tiles[row_id, col_id])\n",
    "        if (selected_tile.bounding_box_roi.overlaps(area_roi)) or (selected_tile.bounding_box_roi.within(area_roi)):\n",
    "            selected_tile.create_counting_square(size = 250, position = 'middle center', sides_to_exclude = ['right', 'lower'])\n",
    "            overlapping_tiles.append(selected_tile)"
   ]
  },
  {
   "cell_type": "code",
   "execution_count": 11,
   "id": "bc62107f-c0e5-4355-8718-4383a4499999",
   "metadata": {},
   "outputs": [
    {
     "name": "stdout",
     "output_type": "stream",
     "text": [
      "Processing plane 1/13\n",
      "Processing plane 2/13\n",
      "Processing plane 3/13\n",
      "Processing plane 4/13\n",
      "Processing plane 5/13\n",
      "Processing plane 6/13\n",
      "Processing plane 7/13\n",
      "Processing plane 8/13\n",
      "Processing plane 9/13\n",
      "Processing plane 10/13\n",
      "Processing plane 11/13\n",
      "Processing plane 12/13\n",
      "Processing plane 13/13\n"
     ]
    }
   ],
   "source": [
    "# to speed up things - can I pass a list of label_ids and set them all to 0 in np.where?\n",
    "\n",
    "all_label_id_matching_results = {}\n",
    "\n",
    "label_ids_in_exclusion_plane = list(np.unique(resized_mask_zstack[-1]))\n",
    "if 0 in label_ids_in_exclusion_plane:\n",
    "    label_ids_in_exclusion_plane.remove(0)\n",
    "if 0.0 in label_ids_in_exclusion_plane:\n",
    "    label_ids_in_exclusion_plane.remove(0.0)\n",
    "for label_id in label_ids_in_exclusion_plane:\n",
    "    resized_mask_zstack[np.where(resized_mask_zstack == label_id)] = 0\n",
    "    mask_zstack_to_quantify_for_grid_estimation[np.where(mask_zstack_to_quantify_for_grid_estimation == label_id)] = 0\n",
    "\n",
    "for plane_id in range(resized_mask_zstack.shape[0]):\n",
    "    print(f'Processing plane {plane_id + 1}/{resized_mask_zstack.shape[0]}')\n",
    "    single_plane = resized_mask_zstack[plane_id]\n",
    "    unique_label_ids = list(np.unique(single_plane))\n",
    "    if 0 in unique_label_ids:\n",
    "        unique_label_ids.remove(0)\n",
    "    if 0.0 in unique_label_ids:\n",
    "        unique_label_ids.remove(0.0)\n",
    "    for label_id in unique_label_ids:\n",
    "        all_label_id_matching_results[label_id] = {'overlapping_counting_squares': [],\n",
    "                                                   'intersection_with_exclusion_lines': []}\n",
    "        roi = get_polygon_from_instance_segmentation(single_plane = single_plane, label_id = label_id)\n",
    "        for tile in overlapping_tiles:\n",
    "            if roi.overlaps(tile.counting_square.bounding_box_roi) or roi.within(tile.counting_square.bounding_box_roi):\n",
    "                if tile.counting_square not in all_label_id_matching_results[label_id]['overlapping_counting_squares']:\n",
    "                    if len(all_label_id_matching_results[label_id]['overlapping_counting_squares']) > 0:\n",
    "                        print(f'Warning: {label_id} overlaps with multiple counting squares! This case is actually not properly dealt with yet!') \n",
    "                    all_label_id_matching_results[label_id]['overlapping_counting_squares'].append(tile.counting_square)\n",
    "                    # set to False per default\n",
    "                    all_label_id_matching_results[label_id]['intersection_with_exclusion_lines'].append(False)\n",
    "                lookup_index = all_label_id_matching_results[label_id]['overlapping_counting_squares'].index(tile.counting_square)\n",
    "                if (roi.intersects(tile.counting_square.exclusion_sides_as_lines[0]) or\n",
    "                    roi.intersects(tile.counting_square.exclusion_sides_as_lines[1])):\n",
    "                    all_label_id_matching_results[label_id]['intersection_with_exclusion_lines'][lookup_index] = True\n",
    "\n",
    "\n",
    "for label_id in all_label_id_matching_results.keys():\n",
    "    overlaps_with_at_least_one_counting_square = len(all_label_id_matching_results[label_id]['overlapping_counting_squares']) > 0\n",
    "    is_included_for_at_least_one_counting_square = False in all_label_id_matching_results[label_id]['intersection_with_exclusion_lines']\n",
    "    if overlaps_with_at_least_one_counting_square & is_included_for_at_least_one_counting_square:\n",
    "        continue\n",
    "    else:\n",
    "        mask_zstack_to_quantify_for_grid_estimation[np.where(mask_zstack_to_quantify_for_grid_estimation == label_id)] = 0"
   ]
  },
  {
   "cell_type": "code",
   "execution_count": 14,
   "id": "a4f202e1-067b-4d4d-a9f9-80e0cc261caa",
   "metadata": {},
   "outputs": [],
   "source": [
    "import cc3d"
   ]
  },
  {
   "cell_type": "code",
   "execution_count": 15,
   "id": "5e62382d-b82a-4fcb-bdcf-e82511cf281a",
   "metadata": {},
   "outputs": [],
   "source": [
    "_, feature_count = cc3d.connected_components(mask_zstack, return_N=True)\n",
    "features_per_area = feature_count / area_roi.area"
   ]
  },
  {
   "cell_type": "code",
   "execution_count": 17,
   "id": "1c47079f-e7db-4ef6-8ba4-657bc8b7a440",
   "metadata": {},
   "outputs": [],
   "source": [
    "_, feature_count_grid = cc3d.connected_components(mask_zstack_to_quantify_for_grid_estimation, return_N=True)\n",
    "total_area = len(overlapping_tiles) * overlapping_tiles[0].counting_square.bounding_box_roi.area\n",
    "features_per_area_grid = feature_count_grid / total_area"
   ]
  },
  {
   "cell_type": "code",
   "execution_count": null,
   "id": "4a7d8506-f4bf-4bc5-95ac-b4d229200f27",
   "metadata": {},
   "outputs": [],
   "source": []
  },
  {
   "cell_type": "code",
   "execution_count": 41,
   "id": "3d7d30ee-24aa-4f09-ad5b-d7ba4e5d2886",
   "metadata": {},
   "outputs": [
    {
     "data": {
      "image/png": "[encoded data removed]",
      "text/plain": [
       "<Figure size 1080x1224 with 2 Axes>"
      ]
     },
     "metadata": {
      "needs_background": "light"
     },
     "output_type": "display_data"
    }
   ],
   "source": [
    "mask_max_projection = np.max(mask_zstack, axis=0)\n",
    "quantification_mask_max_projection = np.max(mask_zstack_to_quantify_for_grid_estimation, axis=0)\n",
    "\n",
    "fig = plt.figure(figsize=(15,17))\n",
    "gs = fig.add_gridspec(1, 2)\n",
    "\n",
    "fig.add_subplot(gs[0, 0])\n",
    "plt.imshow(mask_max_projection)\n",
    "for tile in overlapping_tiles:\n",
    "    plt.plot(tile.bounding_box_x_for_plotting, tile.bounding_box_y_for_plotting)\n",
    "    for i in range(2):\n",
    "        plt.plot(tile.counting_square.exclusion_sides_as_lines[i].xy[1], tile.counting_square.exclusion_sides_as_lines[i].xy[0], c='red')\n",
    "        plt.plot(tile.counting_square.inclusion_sides_as_lines[i].xy[1], tile.counting_square.inclusion_sides_as_lines[i].xy[0], c='green')\n",
    "plt.plot(area_roi.boundary.xy[1], area_roi.boundary.xy[0])\n",
    "plt.title(f'Whole area quantification outputs: {round(features_per_area*1000, 4)} features per 1000px^2')\n",
    "\n",
    "fig.add_subplot(gs[0, 1])\n",
    "plt.imshow(quantification_mask_max_projection)\n",
    "for tile in overlapping_tiles:\n",
    "    plt.plot(tile.bounding_box_x_for_plotting, tile.bounding_box_y_for_plotting)\n",
    "    for i in range(2):\n",
    "        plt.plot(tile.counting_square.exclusion_sides_as_lines[i].xy[1], tile.counting_square.exclusion_sides_as_lines[i].xy[0], c='red')\n",
    "        plt.plot(tile.counting_square.inclusion_sides_as_lines[i].xy[1], tile.counting_square.inclusion_sides_as_lines[i].xy[0], c='green')\n",
    "plt.plot(area_roi.boundary.xy[1], area_roi.boundary.xy[0])\n",
    "plt.title(f'Grid estimation outputs: {round(features_per_area_grid*1000, 4)} features per 1000px^2')\n",
    "\n",
    "plt.suptitle(f'Grid estimation detected ~ {round(features_per_area_grid/features_per_area, 2)}-times as many features as whole area quantification', y=0.76)\n",
    "\n",
    "plt.show()"
   ]
  }
 ],
 "metadata": {
  "kernelspec": {
   "display_name": "Python 3 (ipykernel)",
   "language": "python",
   "name": "python3"
  },
  "language_info": {
   "codemirror_mode": {
    "name": "ipython",
    "version": 3
   },
   "file_extension": ".py",
   "mimetype": "text/x-python",
   "name": "python",
   "nbconvert_exporter": "python",
   "pygments_lexer": "ipython3",
   "version": "3.7.12"
  }
 },
 "nbformat": 4,
 "nbformat_minor": 5
}
