{
 "cells": [
  {
   "cell_type": "markdown",
   "id": "05fbc4c0-57a1-4ddb-9958-9f157cebf6a7",
   "metadata": {},
   "source": [
    "# **Cheatsheet for working on the _findmycells_ project**"
   ]
  },
  {
   "cell_type": "markdown",
   "id": "66c13b18-dcbc-4544-b3b5-92f682f3db08",
   "metadata": {},
   "source": [
    "## A - GitHub workflows & terminal commands"
   ]
  },
  {
   "cell_type": "markdown",
   "id": "eedaf3a7-5e6f-4c94-bff6-d329247650ea",
   "metadata": {},
   "source": [
    "### 1) Initial cloning of the repository"
   ]
  },
  {
   "cell_type": "markdown",
   "id": "ce12218d-60e5-4271-b619-19b65b85d6c4",
   "metadata": {},
   "source": [
    "Make sure you can use _git_ from your systems command line. For this, you can for instance open your command line tool (i.e. 'terminal' on MacOS or 'PowerShell' on Windows) and type `git --version` (and confirm by hitting return). If git is installed, this command will return the version of git. If not, please follow [the respective instructions for your system](https://git-scm.com/book/en/v2/Getting-Started-Installing-Git) to install git on your local mashine.\n",
    "\n",
    "Once git is set up, use the command line to navigate to the directory in which the repository should be cloned. You can do this by using the `cd` command. For instance, if you are currently inside the _Desktop_ directory and want to enter the _GitHub_Repos_ folder that is inside the _Desktop_ directory, you enter `cd GitHub_Repos`. The directory you are currently in is indicated at the beginning of each line in your command line tool. If you want to see a list of all files and folders inside your current directory, you can enter `ls`. You can also use the tab key for auto completion when typing in the directory paths. Finally, if you need to navigate backwards or out of a directory, let´s say back out from the _GitHub_Repos_ folder to the _Desktop_, you can do this by entering `cd ..` \n",
    "\n",
    "Once you reached the directory in which the GitHub repository should be cloned, you can clone it from GitHub by copying the repository URL (e.g. https://github.com/DSegebarth/DCLmeetsRETUNE.git for the repository in which the _findmycells_ codebase is currently stored in) and entering the following command to your command line tool:\n",
    "\n",
    "> `git clone https://github.com/DSegebarth/DCLmeetsRETUNE.git`\n",
    "\n",
    "This will now create a new folder inside the directory you previously navigated to, with the name of the repository (_DCLmeetsRetune_ in this case). Now simply navigate into this folder by: \n",
    "\n",
    "> `cd DCLmeetsRetune`\n",
    "\n",
    "and check for the current status of your local git repository to confirm again that everything is working properly:\n",
    "\n",
    "> `git status`\n",
    "\n",
    "The output of this command will indicate the current branch you are working on, as well as changes that are staged or unstaged for commiting, and also potential differences between your local copy of the repository and the remote origin.\n",
    "\n",
    "To conclude this initial setup of your local repository clone, make sure to also create a copy of the _development_ branch on your system. You can do this by typing:\n",
    "\n",
    "> `git checkout -b development origin/development`\n",
    "\n",
    "\n",
    "\n",
    "**Additional git commands:**\n",
    "\n",
    "To see all local branches (an asterisk will indicate the branch you are currently in): `git branch`\n",
    "\n",
    "To see all branches, both local and remote: `git branch --all`\n",
    "\n",
    "To create a new branch (branching from the branch you are currently located in): `git branch <new_branch_name>`, for instance: `git branch feature/add_csv_export_of_results`\n",
    "\n",
    "To swith to a certain branch: `git checkout <branch_name>`, for instance: `git checkout development`\n",
    "\n",
    "To update your local repository from the remote origin (will affect only the branch you are currently in): `git pull`\n",
    "\n",
    "To see the current status of your branch: `git status`\n",
    "\n",
    "To add files with recognized changes to the _staged_ level (_staged_ files will be included when a commit is performed, while _unstaged_ files will be ignored): `git add <filename>`, for instance `git add README.txt` - or `git add -A` to all add files with changes to the _staged_ level\n",
    "\n",
    "To make a commit: `git commit -m '<your short description here'` \n",
    "\n",
    "To push the commit to the remote origin: `git push` - this will ask you for your username & password (where password is actually a GitHube Token you have to create, see [here](https://docs.github.com/en/authentication/keeping-your-account-and-data-secure/creating-a-personal-access-token)"
   ]
  },
  {
   "cell_type": "markdown",
   "id": "76e87957-2cb7-469d-8a66-e73e914fb7d5",
   "metadata": {},
   "source": [
    "### 2) Working on the code"
   ]
  },
  {
   "cell_type": "markdown",
   "id": "54dd3f56-b2cb-4349-96ae-68dbcfa61643",
   "metadata": {},
   "source": [
    "To keep the repository as structured as possible (with the limited knowledge and experience in git we/I have so far), let´s try to stick to certain workflows until we find better alternatives :)\n",
    "\n",
    "The 'main' branch should remain untouched to always have a clean version. From 'main', the 'development' branch was created and serves as the actual test environment in which all lower-level branches converge. The 'development' branch can thus be used to test, whether all changes work fine together or if any errors occur. If not, this version can be merged into the main. In order to make this possible, there should also no changes be made directly on the 'development' branch. Instead, you should always create a branch from the 'development' branch to add a new piece of code (or also to clean up / edit / refactor any existing part). Once these changes are completed (and commited), you can create a pull request from your 'feature' branch back into the 'development' branch. \n",
    "\n",
    "How this could look like:\n",
    "\n",
    "1) Upon starting your coding session, you navigate to the corresponding directory: \n",
    "> `cd GitHub_Repos/DCLmeetsRetune`\n",
    "\n",
    "2) First of all, check in which branch you currently are and what it´s status is:\n",
    "> `git status`\n",
    "\n",
    "3) If you are not already in a feature branch that you created previously, please do so before working on the files. If you are already in your feature branch, you can skip the following to steps 3a) and 3b) <br>\n",
    "    3a) Make sure to branch from the 'development' branch by first entering the 'development' branch: \n",
    "> `git checkout development` <br>\n",
    "\n",
    "    3b) Now create a new branch for the feature you want to work on (ideally, please follow the naming scheme - 'feature/<short_description_of_the_feature_you_work_on'):\n",
    "> `git checkout -b feature/add_new_max_projection_to_preprocessing` <br>\n",
    "\n",
    "    The `-b` flag allows you to create the branch while directly switching to it as usually done with the `checkout` command\n",
    "    \n",
    "4) Now you´re good to go! Have fun coding! :)\n",
    "\n",
    "5) Done with coding? Check which files you changed, which are already staged for commit and which are still unstaged: \n",
    "> `git status`\n",
    "\n",
    "6) Add all files you´d like to stage for commit by specifying them individually (see section A - 1) above) or simply all together: \n",
    "> `git add -A`\n",
    "\n",
    "7) Ready to commit your changes? Great! Please add a short (max 10 words) message to describe the content of your commit:\n",
    "> `git commit -m 'your short description goes here`\n",
    "\n",
    "8) You can now also upload them to GitHub: \n",
    "> ´git push´\n",
    "\n",
    "9) I this is your first time pushing your newly created branch, you might have to run:\n",
    "> 'git push --set-upstream origin feature/*name of your branch*'.\n",
    "\n",
    "**You´re done here now - well done! :-D"
   ]
  },
  {
   "cell_type": "markdown",
   "id": "f30793b0-7fab-49eb-99bc-86150f7c1d13",
   "metadata": {},
   "source": [
    "### 3) Pull requests "
   ]
  },
  {
   "cell_type": "markdown",
   "id": "e0c4cb26-4402-47ce-ab98-6179ee6a76cb",
   "metadata": {},
   "source": [
    "For now, we keep requesting pull requests via the GitHub website. Again, no worries about overwriting anything, there should be automatic rules in place that only allow admin users to accept pull requests into both the 'development' and the 'main' branch :)"
   ]
  },
  {
   "cell_type": "markdown",
   "id": "f5189c73-e987-4bc3-b823-853d0878df68",
   "metadata": {},
   "source": [
    "## X - classes 101"
   ]
  },
  {
   "cell_type": "markdown",
   "id": "2ed77bf1-2e53-4593-87db-78ce8b43f79f",
   "metadata": {},
   "source": [
    "#### Regular classes:"
   ]
  },
  {
   "cell_type": "code",
   "execution_count": 1,
   "id": "1af0e7dc-3b3d-4c31-97e2-973ad75c50c6",
   "metadata": {},
   "outputs": [],
   "source": [
    "class Animal:\n",
    "    \n",
    "    # The __init__ method is called when the object is constructed\n",
    "    def __init__(self, species: str, age_in_years: int, name: str):\n",
    "        # The constructor method is usually used to set certain attributes (self.whatever) based on the input\n",
    "        self.species = species\n",
    "        self.age = age_in_years\n",
    "        self.name = name\n",
    "    \n",
    "    # functions that are defined in a class are called methods and always have to have 'self' as first argument\n",
    "    def get_older(self):\n",
    "        self.age = self.age + 1\n",
    "        \n",
    "        # This print function is using a formatted string, which can be quite useful to integrate variables in strings\n",
    "        # You simply add an f in front of the string and can then use {} to insert your variables\n",
    "        print(f'{self.name} is now {self.age} years old!')\n",
    "                \n",
    "        \n",
    "    # methods can also do stuff that is not related to any attributes of the respectively created object\n",
    "    def add_one(self, a: int) -> int:\n",
    "        a = a + 1\n",
    "        return a"
   ]
  },
  {
   "cell_type": "code",
   "execution_count": 2,
   "id": "7b1c1823-44af-4c95-95ca-9d4766cf930c",
   "metadata": {},
   "outputs": [
    {
     "data": {
      "text/plain": [
       "9"
      ]
     },
     "execution_count": 2,
     "metadata": {},
     "output_type": "execute_result"
    }
   ],
   "source": [
    "# create an object of a defined class:\n",
    "snoopy = Animal(species = 'dog', age_in_years = 9, name = 'Snoopy')\n",
    "\n",
    "# access an objects attributes:\n",
    "snoopy.age"
   ]
  },
  {
   "cell_type": "code",
   "execution_count": 7,
   "id": "81717717-2277-4d05-b0d8-c7c78b7663eb",
   "metadata": {},
   "outputs": [
    {
     "name": "stdout",
     "output_type": "stream",
     "text": [
      "Snoopy is now 14 years old!\n",
      "54\n"
     ]
    }
   ],
   "source": [
    "# call the methods of the object:\n",
    "snoopy.get_older()\n",
    "\n",
    "b = snoopy.add_one(a = 53)\n",
    "print(b)"
   ]
  },
  {
   "cell_type": "code",
   "execution_count": 8,
   "id": "de5b6b89-5e49-4e0b-866e-d74672fcffce",
   "metadata": {},
   "outputs": [
    {
     "name": "stdout",
     "output_type": "stream",
     "text": [
      "Kitty is now 6 years old!\n",
      "Tweety is now 3 years old!\n",
      "Snoopy is now 15 years old!\n"
     ]
    }
   ],
   "source": [
    "# we can create multiple objects of a certain class, just like we can create as many variables as we like to:\n",
    "kitty = Animal(species = 'cat', age_in_years = 5, name = 'Kitty')\n",
    "tweety = Animal(species = 'bird', age_in_years = 2, name = 'Tweety')\n",
    "\n",
    "kitty.get_older()\n",
    "tweety.get_older()\n",
    "snoopy.get_older()"
   ]
  },
  {
   "cell_type": "markdown",
   "id": "cdea05cf-2473-4035-be66-1b25c6778399",
   "metadata": {
    "tags": []
   },
   "source": [
    "#### Inheritance:\n",
    "\n",
    "Classes can inherit from other classes. In general, this is quite usefull if you want to create subtypes of a certain class"
   ]
  },
  {
   "cell_type": "code",
   "execution_count": 12,
   "id": "49a4a9e1-eb7a-4495-9506-04905ba09806",
   "metadata": {},
   "outputs": [],
   "source": [
    "# let´s rearrange what we had above\n",
    "# NewAnimal will now serve as our class for which we create some subclasses\n",
    "class NewAnimal():\n",
    "    # this time we don´t want to add species here\n",
    "    def __init__(self, age_in_years: int, name: str):\n",
    "        self.age = age_in_years\n",
    "        self.name = name\n",
    "    \n",
    "    def get_older(self):\n",
    "        self.age = self.age + 1\n",
    "        print(f'{self.name} is now {self.age} years old!')\n",
    "        \n",
    "# For instance a Cat subclass - which we still want to be an Animal, so it inherits stuff from the Animal class\n",
    "class Cat(NewAnimal):\n",
    "    # we can now add additional stuff, like for instance another attribute that definces the species\n",
    "    # Since species for the Cat class will always be 'cat', we don´t need any input for that and hence no __init__ method:\n",
    "    species = 'cat'\n",
    "    \n",
    "    # in addition, we want all animals to make their sound:\n",
    "    def make_your_sound(self):\n",
    "        print('Meow')\n",
    "        \n",
    "\n",
    "# Now copy paste that more or less for another subclass:\n",
    "class Dog(NewAnimal):\n",
    "    species = 'dog'\n",
    "    \n",
    "    # in addition, we want all animals to make their sound:\n",
    "    def make_your_sound(self):\n",
    "        print('Wuff')"
   ]
  },
  {
   "cell_type": "code",
   "execution_count": 14,
   "id": "77e9e471-160c-4dfc-a0e5-943496634473",
   "metadata": {},
   "outputs": [
    {
     "name": "stdout",
     "output_type": "stream",
     "text": [
      "Kitty2 is now 4 years old!\n",
      "Snoopy2 is now 8 years old!\n"
     ]
    }
   ],
   "source": [
    "kitty2 = Cat(age_in_years = 3, name = 'Kitty2')\n",
    "snoopy2 = Dog(age_in_years = 7, name = 'Snoopy2')\n",
    "\n",
    "# We can still call the methods that are defined in the NewAnimal class:\n",
    "kitty2.get_older()\n",
    "snoopy2.get_older()"
   ]
  },
  {
   "cell_type": "code",
   "execution_count": 15,
   "id": "3b32ee20-dcfa-4fa6-b01f-2f0654f0877a",
   "metadata": {},
   "outputs": [
    {
     "data": {
      "text/plain": [
       "'cat'"
      ]
     },
     "execution_count": 15,
     "metadata": {},
     "output_type": "execute_result"
    }
   ],
   "source": [
    "# And of course also the additional stuff that was added within the subclasses:\n",
    "kitty2.species"
   ]
  },
  {
   "cell_type": "code",
   "execution_count": 16,
   "id": "840c9983-5d19-403a-b524-e5c9952e749d",
   "metadata": {},
   "outputs": [
    {
     "name": "stdout",
     "output_type": "stream",
     "text": [
      "Wuff\n"
     ]
    }
   ],
   "source": [
    "snoopy2.make_your_sound()"
   ]
  },
  {
   "cell_type": "markdown",
   "id": "85e93598-607e-4d65-ab05-c52253b46f02",
   "metadata": {},
   "source": [
    "#### Some more special classes - the use of AbstractBaseClasses:"
   ]
  },
  {
   "cell_type": "code",
   "execution_count": 17,
   "id": "7644ffb8-e524-4e5c-bbc9-c6f874c165a7",
   "metadata": {},
   "outputs": [],
   "source": [
    "from abc import ABC, abstractmethod\n",
    "\n",
    "# In a very similar way, we can use inheritance from the AbstractBaseClass to create abstractmethods\n",
    "# There are several advantages of doing this, one very simple is:\n",
    "# It is mandatory for every class that inherits now from this class to actually implement the method\n",
    "# If this is not done, your code will throw an error once it tries to create the respective object.\n",
    "# So it basically forces you as developer to make sure that this function will always be implemented\n",
    "# Again, there are a lot more advantages of it, but this is the most straightforward one\n",
    "class AbstractAnimal(ABC):\n",
    "    \n",
    "    @abstractmethod\n",
    "    def make_your_sound(self):\n",
    "        # do something\n",
    "        pass\n",
    "    \n",
    "class AbstractCat(AbstractAnimal):\n",
    "    \n",
    "    def make_your_sound(self):\n",
    "        print('Meow')\n",
    "        \n",
    "        \n",
    "class AbstractFox(AbstractAnimal):\n",
    "    \n",
    "    def i_dont_care(self):\n",
    "        print('not important what I write here - this function will actually never be called')"
   ]
  },
  {
   "cell_type": "code",
   "execution_count": 18,
   "id": "6fed03b2-35f8-4b15-b20b-8d9518d8c01b",
   "metadata": {},
   "outputs": [
    {
     "name": "stdout",
     "output_type": "stream",
     "text": [
      "Meow\n"
     ]
    }
   ],
   "source": [
    "# This object can be created, since AbstractCat does implement the make_your_sound method\n",
    "abstract_kitty = AbstractCat()\n",
    "abstract_kitty.make_your_sound()"
   ]
  },
  {
   "cell_type": "code",
   "execution_count": 19,
   "id": "c189a8be-b9d4-4da3-a711-1edee01417f4",
   "metadata": {},
   "outputs": [
    {
     "ename": "TypeError",
     "evalue": "Can't instantiate abstract class AbstractFox with abstract methods make_your_sound",
     "output_type": "error",
     "traceback": [
      "\u001b[0;31m---------------------------------------------------------------------------\u001b[0m",
      "\u001b[0;31mTypeError\u001b[0m                                 Traceback (most recent call last)",
      "\u001b[0;32m/tmp/ipykernel_450/2248761369.py\u001b[0m in \u001b[0;36m<module>\u001b[0;34m\u001b[0m\n\u001b[1;32m      1\u001b[0m \u001b[0;31m# This however will throw an error, since the AbstractFox \"does not follow the contract\" and has no implementation of the method\u001b[0m\u001b[0;34m\u001b[0m\u001b[0;34m\u001b[0m\u001b[0;34m\u001b[0m\u001b[0m\n\u001b[0;32m----> 2\u001b[0;31m \u001b[0mabstract_foxy\u001b[0m \u001b[0;34m=\u001b[0m \u001b[0mAbstractFox\u001b[0m\u001b[0;34m(\u001b[0m\u001b[0;34m)\u001b[0m\u001b[0;34m\u001b[0m\u001b[0;34m\u001b[0m\u001b[0m\n\u001b[0m\u001b[1;32m      3\u001b[0m \u001b[0mabstract_foxy\u001b[0m\u001b[0;34m.\u001b[0m\u001b[0mi_dont_care\u001b[0m\u001b[0;34m(\u001b[0m\u001b[0;34m)\u001b[0m\u001b[0;34m\u001b[0m\u001b[0;34m\u001b[0m\u001b[0m\n",
      "\u001b[0;31mTypeError\u001b[0m: Can't instantiate abstract class AbstractFox with abstract methods make_your_sound"
     ]
    }
   ],
   "source": [
    "# This however will throw an error, since the AbstractFox \"does not follow the contract\" and has no implementation of the method\n",
    "abstract_foxy = AbstractFox()\n",
    "abstract_foxy.i_dont_care()"
   ]
  },
  {
   "cell_type": "markdown",
   "id": "804de451-63bc-4ffd-a564-aa81a01b3b56",
   "metadata": {},
   "source": [
    "## Other random stuff:"
   ]
  },
  {
   "cell_type": "code",
   "execution_count": 20,
   "id": "8a7a8d5c-a2b8-4b25-81b3-f4927ee07109",
   "metadata": {},
   "outputs": [],
   "source": [
    "a_list = [1, 2]\n",
    "\n",
    "a_tuple = (1, 2)\n",
    "\n",
    "a_dict = {'dog': 'hund', \n",
    "         'cat': 'katze'}"
   ]
  },
  {
   "cell_type": "code",
   "execution_count": 21,
   "id": "db2a013f-3c4f-40ac-a817-2a7ee320584e",
   "metadata": {},
   "outputs": [
    {
     "data": {
      "text/plain": [
       "1"
      ]
     },
     "execution_count": 21,
     "metadata": {},
     "output_type": "execute_result"
    }
   ],
   "source": [
    "# You can access elements of a list and a tuple by using an index:\n",
    "a_list[0]"
   ]
  },
  {
   "cell_type": "code",
   "execution_count": 22,
   "id": "941c7094-a79b-442b-a298-1e56bc3bbd01",
   "metadata": {},
   "outputs": [
    {
     "data": {
      "text/plain": [
       "1"
      ]
     },
     "execution_count": 22,
     "metadata": {},
     "output_type": "execute_result"
    }
   ],
   "source": [
    "a_tuple[0]"
   ]
  },
  {
   "cell_type": "code",
   "execution_count": 23,
   "id": "ddab81e7-a014-4e38-b8ed-097c22139c96",
   "metadata": {},
   "outputs": [
    {
     "ename": "KeyError",
     "evalue": "0",
     "output_type": "error",
     "traceback": [
      "\u001b[0;31m---------------------------------------------------------------------------\u001b[0m",
      "\u001b[0;31mKeyError\u001b[0m                                  Traceback (most recent call last)",
      "\u001b[0;32m/tmp/ipykernel_450/418816761.py\u001b[0m in \u001b[0;36m<module>\u001b[0;34m\u001b[0m\n\u001b[1;32m      1\u001b[0m \u001b[0;31m# But this does not work for dictionaries:\u001b[0m\u001b[0;34m\u001b[0m\u001b[0;34m\u001b[0m\u001b[0;34m\u001b[0m\u001b[0m\n\u001b[0;32m----> 2\u001b[0;31m \u001b[0ma_dict\u001b[0m\u001b[0;34m[\u001b[0m\u001b[0;36m0\u001b[0m\u001b[0;34m]\u001b[0m\u001b[0;34m\u001b[0m\u001b[0;34m\u001b[0m\u001b[0m\n\u001b[0m",
      "\u001b[0;31mKeyError\u001b[0m: 0"
     ]
    }
   ],
   "source": [
    "# But this does not work for dictionaries:\n",
    "a_dict[0]"
   ]
  },
  {
   "cell_type": "code",
   "execution_count": 24,
   "id": "ed4a9c2e-eaf8-449c-96e8-74561075782f",
   "metadata": {},
   "outputs": [
    {
     "data": {
      "text/plain": [
       "'hund'"
      ]
     },
     "execution_count": 24,
     "metadata": {},
     "output_type": "execute_result"
    }
   ],
   "source": [
    "# Instead, you have to pass the key to get the respective value:\n",
    "a_dict['dog']"
   ]
  },
  {
   "cell_type": "code",
   "execution_count": 26,
   "id": "7531e871-7069-4ea5-85f2-bc649349cd40",
   "metadata": {},
   "outputs": [
    {
     "name": "stdout",
     "output_type": "stream",
     "text": [
      "First element of the list is now: hund\n",
      "The value stored for key \"dog\" is now: 1\n"
     ]
    }
   ],
   "source": [
    "# Both lists and dictionaries are mutuable, meaning that you can change their elements / values:\n",
    "a_list[0] = 'hund'\n",
    "a_dict['dog'] = 1\n",
    "\n",
    "print(f'First element of the list is now: {a_list[0]}')\n",
    "print(f'The value stored for key \"dog\" is now: {a_dict[\"dog\"]}')"
   ]
  },
  {
   "cell_type": "code",
   "execution_count": 27,
   "id": "78b7b8e6-7f5d-422f-8254-91322fefe1d6",
   "metadata": {},
   "outputs": [
    {
     "ename": "TypeError",
     "evalue": "'tuple' object does not support item assignment",
     "output_type": "error",
     "traceback": [
      "\u001b[0;31m---------------------------------------------------------------------------\u001b[0m",
      "\u001b[0;31mTypeError\u001b[0m                                 Traceback (most recent call last)",
      "\u001b[0;32m/tmp/ipykernel_450/697448123.py\u001b[0m in \u001b[0;36m<module>\u001b[0;34m\u001b[0m\n\u001b[1;32m      1\u001b[0m \u001b[0;31m# This, however, does not apply to tuples, as they are immutuable:\u001b[0m\u001b[0;34m\u001b[0m\u001b[0;34m\u001b[0m\u001b[0;34m\u001b[0m\u001b[0m\n\u001b[1;32m      2\u001b[0m \u001b[0;34m\u001b[0m\u001b[0m\n\u001b[0;32m----> 3\u001b[0;31m \u001b[0ma_tuple\u001b[0m\u001b[0;34m[\u001b[0m\u001b[0;36m0\u001b[0m\u001b[0;34m]\u001b[0m \u001b[0;34m=\u001b[0m \u001b[0;34m'unicorn'\u001b[0m\u001b[0;34m\u001b[0m\u001b[0;34m\u001b[0m\u001b[0m\n\u001b[0m",
      "\u001b[0;31mTypeError\u001b[0m: 'tuple' object does not support item assignment"
     ]
    }
   ],
   "source": [
    "# This, however, does not apply to tuples, as they are immutuable:\n",
    "\n",
    "a_tuple[0] = 'unicorn'"
   ]
  },
  {
   "cell_type": "markdown",
   "id": "e589594f-8f61-46f0-a864-333bfefc74b5",
   "metadata": {},
   "source": [
    "You can also create your own functions outside of classes. In this case, you don´t need to have \"self\" as the first attribute"
   ]
  },
  {
   "cell_type": "code",
   "execution_count": 28,
   "id": "9e0551b1-45b4-4958-ad6a-1c40dc39044b",
   "metadata": {},
   "outputs": [],
   "source": [
    "def return_two_things(a, b):\n",
    "    return a, b"
   ]
  },
  {
   "cell_type": "code",
   "execution_count": 29,
   "id": "d755f57f-a0e4-4f5a-af0f-5e50e2211191",
   "metadata": {},
   "outputs": [
    {
     "name": "stdout",
     "output_type": "stream",
     "text": [
      "(1, 3)\n",
      "<class 'tuple'>\n"
     ]
    }
   ],
   "source": [
    "c = return_two_things(1, 3)\n",
    "\n",
    "# if a function returns multiple things, they are returned as a tuple\n",
    "print(c)\n",
    "print(type(c))"
   ]
  },
  {
   "cell_type": "code",
   "execution_count": 30,
   "id": "9ae74a02-6f0b-42a5-a0ad-db2b8034a4d5",
   "metadata": {},
   "outputs": [
    {
     "name": "stdout",
     "output_type": "stream",
     "text": [
      "[1, 3]\n",
      "<class 'list'>\n"
     ]
    }
   ],
   "source": [
    "# you can easily convert most basic types into each other, for instance here from a tuple to a list\n",
    "c = list(c)\n",
    "\n",
    "print(c)\n",
    "print(type(c))"
   ]
  },
  {
   "cell_type": "code",
   "execution_count": 31,
   "id": "3e05df9d-23d2-4b10-9eb2-f53cc8afbb0a",
   "metadata": {},
   "outputs": [
    {
     "name": "stdout",
     "output_type": "stream",
     "text": [
      "4\n",
      "<class 'int'>\n",
      "5\n",
      "<class 'int'>\n"
     ]
    }
   ],
   "source": [
    "# You can also right away store all returned things in seperate variables:\n",
    "e, f = return_two_things(4, 5)\n",
    "\n",
    "print(e)\n",
    "print(type(e))\n",
    "\n",
    "print(f)\n",
    "print(type(f))"
   ]
  },
  {
   "cell_type": "code",
   "execution_count": null,
   "id": "a61b3be7-8a40-402b-abcc-c861f237d651",
   "metadata": {},
   "outputs": [],
   "source": []
  }
 ],
 "metadata": {
  "kernelspec": {
   "display_name": "Python 3",
   "language": "python",
   "name": "python3"
  },
  "language_info": {
   "codemirror_mode": {
    "name": "ipython",
    "version": 3
   },
   "file_extension": ".py",
   "mimetype": "text/x-python",
   "name": "python",
   "nbconvert_exporter": "python",
   "pygments_lexer": "ipython3",
   "version": "3.8.5"
  }
 },
 "nbformat": 4,
 "nbformat_minor": 5
}
