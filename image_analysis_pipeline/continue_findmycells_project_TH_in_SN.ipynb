{
 "cells": [
  {
   "cell_type": "code",
   "execution_count": null,
   "id": "45db5b67-1d76-4c63-807e-2cde119ce44c",
   "metadata": {},
   "outputs": [],
   "source": [
    "from findmycells.main import Project\n",
    "from findmycells.quantifications import ReconstructCellsIn3DFrom2DInstanceLabels, CountCellsInWholeStructure\n",
    "from findmycells.inspection import InspectUsingMultiMatchIDX"
   ]
  },
  {
   "cell_type": "code",
   "execution_count": null,
   "id": "19c96042-f864-400b-9a84-5c5e1a654604",
   "metadata": {},
   "outputs": [],
   "source": [
    "project_root_dir = '/mnt/c/Users/dsege/TEMP/findmycells_projects/TH_in_SN/'"
   ]
  },
  {
   "cell_type": "code",
   "execution_count": null,
   "id": "4e210890-708d-486c-893e-55baf09386aa",
   "metadata": {},
   "outputs": [],
   "source": [
    "user_input_via_gui = {'project_root_dir': project_root_dir,\n",
    "                      'only_duplication': True}"
   ]
  },
  {
   "cell_type": "code",
   "execution_count": null,
   "id": "f2b16417-3bc6-458e-adb9-ee4b8d56eee9",
   "metadata": {},
   "outputs": [],
   "source": [
    "th_in_sn = Project(user_input_via_gui)"
   ]
  },
  {
   "cell_type": "code",
   "execution_count": null,
   "id": "bf12caf2-f5e8-4eec-89e6-54d2e6aa1ed2",
   "metadata": {},
   "outputs": [],
   "source": [
    "file_ids = th_in_sn.database.file_infos['file_id'][:40]"
   ]
  },
  {
   "cell_type": "code",
   "execution_count": null,
   "id": "a5dfab7d-ceca-41ce-ba21-3529878349b9",
   "metadata": {},
   "outputs": [],
   "source": [
    "th_in_sn.run_quantifications(file_ids = file_ids)"
   ]
  },
  {
   "cell_type": "code",
   "execution_count": null,
   "id": "cf286e84-4c97-48c4-8742-6ae5a35b552a",
   "metadata": {},
   "outputs": [],
   "source": [
    "th_in_sn.database.quantification_results"
   ]
  },
  {
   "cell_type": "code",
   "execution_count": null,
   "id": "182150b2-cd11-4f4f-b5ff-956df46823fc",
   "metadata": {},
   "outputs": [],
   "source": [
    "th_in_sn.save_status()"
   ]
  },
  {
   "cell_type": "code",
   "execution_count": null,
   "id": "ecc92bee-fcad-47f8-b4a1-ed9b76c82b78",
   "metadata": {},
   "outputs": [],
   "source": []
  },
  {
   "cell_type": "code",
   "execution_count": null,
   "id": "b6dfab9a-8066-4361-885e-caca804e14ec",
   "metadata": {},
   "outputs": [],
   "source": [
    "len(th_in_sn.database.multi_matches_traceback['0063']['final_label_id'])"
   ]
  },
  {
   "cell_type": "code",
   "execution_count": null,
   "id": "97ff31d5-a651-4889-89af-2bf9a425cbcf",
   "metadata": {},
   "outputs": [],
   "source": [
    "th_in_sn.run_inspection('0063', InspectUsingMultiMatchIDX(multi_match_index=25, reconstruction_strategy='2D', save=True, show=True))"
   ]
  }
 ],
 "metadata": {
  "kernelspec": {
   "display_name": "Python 3 (ipykernel)",
   "language": "python",
   "name": "python3"
  },
  "language_info": {
   "codemirror_mode": {
    "name": "ipython",
    "version": 3
   },
   "file_extension": ".py",
   "mimetype": "text/x-python",
   "name": "python",
   "nbconvert_exporter": "python",
   "pygments_lexer": "ipython3",
   "version": "3.7.12"
  }
 },
 "nbformat": 4,
 "nbformat_minor": 5
}
