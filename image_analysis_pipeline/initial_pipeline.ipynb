{
 "cells": [
  {
   "cell_type": "code",
   "execution_count": 1,
   "id": "866d6ab6-5857-41c0-aaf1-1611826308b1",
   "metadata": {},
   "outputs": [],
   "source": [
    "import os\n",
    "import numpy as np\n",
    "import pandas as pd\n",
    "\n",
    "import matplotlib.pyplot as plt\n",
    "\n",
    "from czifile import imread\n",
    "from roifile import ImagejRoi\n",
    "from skimage import draw, measure\n",
    "from shapely.geometry import Polygon\n",
    "\n",
    "\n",
    "import cc3d\n",
    "from PIL import Image"
   ]
  },
  {
   "cell_type": "markdown",
   "id": "4f4e8892-7c03-4c56-b259-f8e16dfd2fa5",
   "metadata": {},
   "source": [
    "## Functions"
   ]
  },
  {
   "cell_type": "code",
   "execution_count": 2,
   "id": "dbbcce8b-5cd8-41ed-b24a-abe0c5838ec7",
   "metadata": {},
   "outputs": [],
   "source": [
    "def get_cropping_indices(a):\n",
    "    unique, counts = np.unique(a, return_counts=True)\n",
    "    indices_with_black_pixels = unique[np.where(counts > 100)]\n",
    "    lower_cropping_index = indices_with_black_pixels[np.where(np.diff(indices_with_black_pixels) > 1)[0]][0] + 1\n",
    "    upper_cropping_index = indices_with_black_pixels[np.where(np.diff(indices_with_black_pixels) > 1)[0] + 1][0]\n",
    "    \n",
    "    return lower_cropping_index, upper_cropping_index"
   ]
  },
  {
   "cell_type": "code",
   "execution_count": 3,
   "id": "e3f08954-61aa-4da2-bd73-ad6e43ba6d73",
   "metadata": {},
   "outputs": [],
   "source": [
    "def get_relative_position(roi_to_check, reference):\n",
    "    if roi_to_check.within(reference):\n",
    "        rel_position = 'within'\n",
    "    elif roi_to_check.intersects(reference):\n",
    "        rel_position = 'intersects'\n",
    "    elif roi_to_check.touches(reference):\n",
    "        rel_position = 'touches'\n",
    "    else:\n",
    "        rel_position = 'no_overlap'\n",
    "    \n",
    "    return rel_position"
   ]
  },
  {
   "cell_type": "markdown",
   "id": "0e352677-3096-429c-88b8-7b6c31b68657",
   "metadata": {},
   "source": [
    "## Preprocessing"
   ]
  },
  {
   "cell_type": "markdown",
   "id": "bc4ba514-d7fc-40f8-b495-fb85688ca5ba",
   "metadata": {},
   "source": [
    "* ~load .czi file~\n",
    "* ~convert to single planes~\n",
    "* ~crop stitching artifacts~\n",
    "* load SN .roi file\n",
    "* adjust roi to cropping\n",
    "* rename\n",
    "* index all information to master df / dict\n",
    "* create settings log file\n",
    "* save:\n",
    "    * single planes as .png\n",
    "    * cropping adjusted .roi\n",
    "    * settings\n",
    "    * index file\n",
    "\n",
    "\n",
    "Options:\n",
    "* crop image to ROI"
   ]
  },
  {
   "cell_type": "code",
   "execution_count": 5,
   "id": "774a7643-5356-41aa-84b4-8a7cd46d6b23",
   "metadata": {},
   "outputs": [],
   "source": [
    "czi_file = imread('/mnt/c/Users/dsege/Transfer_to_Ubuntu/#5_SN_tg_s1_sfr1.czi')\n",
    "z_stack = czi_file[0, 0, 0]\n",
    "\n",
    "img_plane = z_stack[0].copy()"
   ]
  },
  {
   "cell_type": "markdown",
   "id": "d8cb835e-09c8-495a-ad38-97738af45445",
   "metadata": {},
   "source": [
    "cropped_z_stack = []\n",
    "\n",
    "for plane_idx in range(z_stack.shape[0]):\n",
    "    image_plane = z_stack[plane_idx].copy()\n",
    "    black_pixel_row_indices, black_pixel_column_indices = np.where(np.all(image_plane == 0, axis = -1))\n",
    "    lower_row_idx, upper_row_idx = get_cropping_indices(black_pixel_row_indices)\n",
    "    lower_column_idx, upper_column_idx = get_cropping_indices(black_pixel_column_indices)\n",
    "    cropped_image_plane = image_plane[lower_row_idx:upper_row_idx, lower_column_idx:upper_column_idx]\n",
    "    \n",
    "    cropped_z_stack.append(cropped_image_plane)\n",
    "    \n",
    "cropped_z_stack = np.asarray(cropped_z_stack)"
   ]
  },
  {
   "cell_type": "code",
   "execution_count": 14,
   "id": "abb418e1-877f-4b43-b081-9989e14ad4d6",
   "metadata": {},
   "outputs": [],
   "source": [
    "for plane_idx in range(z_stack.shape[0]):\n",
    "    image_plane = z_stack[plane_idx].copy()\n",
    "    black_pixel_row_indices, black_pixel_column_indices = np.where(np.all(image_plane == 0, axis = -1))\n",
    "    lower_row_idx, upper_row_idx = get_cropping_indices(black_pixel_row_indices)\n",
    "    lower_column_idx, upper_column_idx = get_cropping_indices(black_pixel_column_indices)\n",
    "    cropped_image_plane = image_plane[lower_row_idx:upper_row_idx, lower_column_idx:upper_column_idx]\n",
    "    \n",
    "    #convert to 8-bit - WTF???\n",
    "    cropped_image_plane = (cropped_image_plane / 4095 * 255).round(0).astype('uint8')\n",
    "    \n",
    "    img = Image.fromarray(cropped_image_plane, 'RGB')\n",
    "    img.save('000{}_cropped.png'.format(str(plane_idx)))\n",
    "    \n",
    "    \n"
   ]
  },
  {
   "cell_type": "code",
   "execution_count": 9,
   "id": "4bb423ff-4075-470f-a12b-b7e8e0269905",
   "metadata": {},
   "outputs": [],
   "source": [
    "image_plane = z_stack[0].copy()\n",
    "black_pixel_row_indices, black_pixel_column_indices = np.where(np.all(image_plane == 0, axis = -1))\n",
    "lower_row_idx, upper_row_idx = get_cropping_indices(black_pixel_row_indices)\n",
    "lower_column_idx, upper_column_idx = get_cropping_indices(black_pixel_column_indices)"
   ]
  },
  {
   "cell_type": "code",
   "execution_count": 10,
   "id": "f43d306a-45c3-4c28-b9ff-184dd6545028",
   "metadata": {},
   "outputs": [
    {
     "data": {
      "text/plain": [
       "(26, 7621)"
      ]
     },
     "execution_count": 10,
     "metadata": {},
     "output_type": "execute_result"
    }
   ],
   "source": [
    "lower_row_idx, upper_row_idx "
   ]
  },
  {
   "cell_type": "code",
   "execution_count": 11,
   "id": "a3b3256b-8ec4-4f41-bab6-129f9bd34753",
   "metadata": {},
   "outputs": [
    {
     "data": {
      "text/plain": [
       "(62, 4687)"
      ]
     },
     "execution_count": 11,
     "metadata": {},
     "output_type": "execute_result"
    }
   ],
   "source": [
    "lower_column_idx, upper_column_idx"
   ]
  },
  {
   "cell_type": "code",
   "execution_count": 12,
   "id": "9b3b5e57-db16-4317-8a3c-f4c997645934",
   "metadata": {},
   "outputs": [
    {
     "data": {
      "image/svg+xml": [
       "<svg xmlns=\"http://www.w3.org/2000/svg\" xmlns:xlink=\"http://www.w3.org/1999/xlink\" width=\"300\" height=\"300\" viewBox=\"958.3199999999999 1042.32 6039.360000000001 2567.3599999999997\" preserveAspectRatio=\"xMinYMin meet\"><g transform=\"matrix(1,0,0,-1,0,4652.0)\"><path fill-rule=\"evenodd\" fill=\"#66cc99\" stroke=\"#555555\" stroke-width=\"40.26240000000001\" opacity=\"0.6\" d=\"M 6774.0,1378.0 L 6454.0,2746.0 L 6270.0,3106.0 L 5230.0,3386.0 L 4894.0,3066.0 L 4582.0,2594.0 L 3534.0,2330.0 L 2598.0,2066.0 L 1334.0,1442.0 L 1182.0,1266.0 L 2806.0,1466.0 L 3326.0,1530.0 L 3830.0,1602.0 L 4558.0,1754.0 L 5206.0,1762.0 L 6350.0,1370.0 L 6774.0,1378.0 z\" /></g></svg>"
      ],
      "text/plain": [
       "<shapely.geometry.polygon.Polygon at 0x7efbd6b57dd0>"
      ]
     },
     "execution_count": 12,
     "metadata": {},
     "output_type": "execute_result"
    }
   ],
   "source": [
    "roi_file = ImagejRoi.fromfile('/mnt/c/Users/dsege/TEMP/alex_single_planes/ROI for automated cell counting hm2asyn/#7_SN_wtOld/#7_SN_wt_s1_sfr2.roi')\n",
    "\n",
    "roi_outline_coords_crop_corrected = []\n",
    "\n",
    "for coords in roi_file.coordinates():\n",
    "    corrected_row_idx = coords[1] - lower_row_idx\n",
    "    corrected_column_idx = coords[0] - lower_column_idx\n",
    "    roi_outline_coords_crop_corrected.append([corrected_row_idx, corrected_column_idx])\n",
    "    \n",
    "roi_outline_coords_crop_corrected = np.asarray(roi_outline_coords_crop_corrected)\n",
    "\n",
    "substantia_nigra = Polygon(roi_outline_coords_crop_corrected)\n",
    "substantia_nigra"
   ]
  },
  {
   "cell_type": "code",
   "execution_count": 19,
   "id": "4261eab7-8f03-46d6-b658-2c3e47639367",
   "metadata": {},
   "outputs": [
    {
     "data": {
      "text/plain": [
       "['0000_cropped.png_class1.tif',\n",
       " '0001_cropped.png_class1.tif',\n",
       " '0002_cropped.png_class1.tif',\n",
       " '0003_cropped.png_class1.tif',\n",
       " '0004_cropped.png_class1.tif',\n",
       " '0005_cropped.png_class1.tif',\n",
       " '0006_cropped.png_class1.tif',\n",
       " '0007_cropped.png_class1.tif']"
      ]
     },
     "execution_count": 19,
     "metadata": {},
     "output_type": "execute_result"
    }
   ],
   "source": [
    "\n",
    "cellpose_preds"
   ]
  },
  {
   "cell_type": "code",
   "execution_count": 25,
   "id": "a450fa46-e188-499a-9b33-cc92b224519d",
   "metadata": {},
   "outputs": [
    {
     "name": "stdout",
     "output_type": "stream",
     "text": [
      "Merging error for image: 0000_cropped.png_class1.tif\n",
      "Difference of 1 cells\n",
      "Merging error for image: 0001_cropped.png_class1.tif\n",
      "Difference of 1 cells\n",
      "Merging error for image: 0002_cropped.png_class1.tif\n",
      "Difference of 6 cells\n",
      "Merging error for image: 0003_cropped.png_class1.tif\n",
      "Difference of 2 cells\n",
      "Merging error for image: 0004_cropped.png_class1.tif\n",
      "Difference of 2 cells\n"
     ]
    }
   ],
   "source": [
    "path = '/home/ds/Retune/3d_cell_counting/cropped_cellpose_preds/'\n",
    "\n",
    "cellpose_preds = os.listdir(path)\n",
    "cellpose_preds.sort()\n",
    "\n",
    "final_preds_to_stack = []\n",
    "\n",
    "for single_plane in cellpose_preds:\n",
    "\n",
    "    cellpose_preds = plt.imread(path + single_plane)\n",
    "\n",
    "    unique_values = np.unique(cellpose_preds)\n",
    "    roi_ids = np.delete(unique_values, [0])\n",
    "\n",
    "    positions_relative_to_reference = []\n",
    "\n",
    "    for roi_id in roi_ids:\n",
    "        temp_array = np.zeros((cellpose_preds.shape[0], cellpose_preds.shape[1]), dtype='uint8')\n",
    "        temp_array[np.where(cellpose_preds == roi_id)] = 1\n",
    "        temp_contours = measure.find_contours(temp_array, level = 0)[0]\n",
    "        roi = Polygon(temp_contours)\n",
    "        rel_position = get_relative_position(roi, substantia_nigra)\n",
    "        positions_relative_to_reference.append((roi_id, rel_position))\n",
    "\n",
    "    rois_to_exclude = [elem[0] for elem in positions_relative_to_reference if elem[1] != 'within']\n",
    "\n",
    "    binarized_pred_after_exclusion = cellpose_preds.copy()\n",
    "\n",
    "    for roi_id in rois_to_exclude:\n",
    "        binarized_pred_after_exclusion[np.where(binarized_pred_after_exclusion == roi_id)] = 0\n",
    "\n",
    "\n",
    "    binarized_pred_after_exclusion[np.where(binarized_pred_after_exclusion > 0)] = 255\n",
    "    binarized_pred_after_exclusion = binarized_pred_after_exclusion.astype('uint8')\n",
    "\n",
    "    n_rois_after_binarization = len(measure.find_contours(binarized_pred_after_exclusion, level=0))\n",
    "    if n_rois_after_binarization != (len(positions_relative_to_reference) - len(rois_to_exclude)):\n",
    "        print('Merging error for image: {}'.format(single_plane))\n",
    "        print('Difference of {} cells'.format(str((len(positions_relative_to_reference) - len(rois_to_exclude)) - n_rois_after_binarization)))\n",
    "        \n",
    "    else:\n",
    "        pass\n",
    "    \n",
    "    final_preds_to_stack.append(binarized_pred_after_exclusion)"
   ]
  },
  {
   "cell_type": "code",
   "execution_count": null,
   "id": "460354a0-7220-4faf-a25a-69ea80533468",
   "metadata": {},
   "outputs": [],
   "source": []
  },
  {
   "cell_type": "code",
   "execution_count": 23,
   "id": "773f37be-348e-4658-8355-982c335defe6",
   "metadata": {},
   "outputs": [
    {
     "data": {
      "text/plain": [
       "63"
      ]
     },
     "execution_count": 23,
     "metadata": {},
     "output_type": "execute_result"
    }
   ],
   "source": [
    "preds_in_3d = np.array(final_preds_to_stack)\n",
    "\n",
    "labels_out_preds_in_3d, N_cc_preds_in_3d = cc3d.connected_components(preds_in_3d, return_N=True)\n",
    "\n",
    "for cc_id in range(1,N_cc_preds_in_3d + 1):\n",
    "    planes_with_cc_id = np.unique(np.where(labels_out_preds_in_3d == cc_id)[0])\n",
    "    if planes_with_cc_id.shape[0] < 2:\n",
    "        labels_out_preds_in_3d[np.where(labels_out_preds_in_3d == cc_id)] = 0\n",
    "\n",
    "corrected_labels_out_preds_in_3d, corrected_N_cc_preds_in_3d = cc3d.connected_components(labels_out_preds_in_3d, return_N=True)\n",
    "corrected_N_cc_preds_in_3d"
   ]
  },
  {
   "cell_type": "code",
   "execution_count": null,
   "id": "353489e7-0315-426d-9bfc-4ff35271a536",
   "metadata": {},
   "outputs": [],
   "source": []
  },
  {
   "cell_type": "code",
   "execution_count": null,
   "id": "af0a8ae4-0328-4c1c-89c4-52516c2a1fd9",
   "metadata": {},
   "outputs": [],
   "source": []
  },
  {
   "cell_type": "code",
   "execution_count": null,
   "id": "5446bbde-fcf7-4a3b-ad30-e8a3ce48448b",
   "metadata": {},
   "outputs": [],
   "source": [
    "N_cc_preds_in_3d"
   ]
  },
  {
   "cell_type": "code",
   "execution_count": null,
   "id": "90f5434a-ae00-4c12-8d8b-bca0cd3f1660",
   "metadata": {},
   "outputs": [],
   "source": [
    "cc_id = 2"
   ]
  },
  {
   "cell_type": "code",
   "execution_count": null,
   "id": "3cd7c6d2-613f-4485-8c3f-f4117f6aa869",
   "metadata": {},
   "outputs": [],
   "source": [
    "\n"
   ]
  },
  {
   "cell_type": "code",
   "execution_count": null,
   "id": "27f7a5f5-7df0-4907-9824-0f60270b1bbe",
   "metadata": {},
   "outputs": [],
   "source": [
    "planes_with_cc_id.shape[0]"
   ]
  },
  {
   "cell_type": "code",
   "execution_count": null,
   "id": "f9f4d2ce-f39e-4715-9790-0bf8d81e4a93",
   "metadata": {},
   "outputs": [],
   "source": [
    "np.unique(labels_out_preds_in_3d)"
   ]
  },
  {
   "cell_type": "code",
   "execution_count": null,
   "id": "61d3a580-ca22-4e70-82e9-2ea1f5a69c62",
   "metadata": {},
   "outputs": [],
   "source": []
  },
  {
   "cell_type": "code",
   "execution_count": null,
   "id": "be4131a8-50ad-4f6b-9d47-ecf5ac579c28",
   "metadata": {},
   "outputs": [],
   "source": [
    "corrected_labels_out_preds_in_3d, corrected_N_cc_preds_in_3d = cc3d.connected_components(labels_out_preds_in_3d, return_N=True)"
   ]
  },
  {
   "cell_type": "code",
   "execution_count": null,
   "id": "52846a06-4d20-4faa-b04e-d822778586fe",
   "metadata": {},
   "outputs": [],
   "source": [
    "corrected_N_cc_preds_in_3d"
   ]
  },
  {
   "cell_type": "code",
   "execution_count": null,
   "id": "07e1676d-1b4e-4e8f-a26c-abde6efe7ec3",
   "metadata": {},
   "outputs": [],
   "source": [
    "np.unique(corrected_labels_out_preds_in_3d)"
   ]
  },
  {
   "cell_type": "code",
   "execution_count": null,
   "id": "cf413923-4c17-40db-80ca-aeb7e42718d3",
   "metadata": {},
   "outputs": [],
   "source": []
  },
  {
   "cell_type": "code",
   "execution_count": null,
   "id": "ce37b35d-fbdb-4117-baeb-9eee2c616844",
   "metadata": {},
   "outputs": [],
   "source": [
    "plt.figure(figsize=(20,20))\n",
    "\n",
    "plt.imshow(binarized_pred_after_exclusion)\n",
    "plt.plot(substantia_nigra.exterior.coords.xy[1], substantia_nigra.exterior.coords.xy[0], color='black')\n",
    "plt.show()\n"
   ]
  },
  {
   "cell_type": "code",
   "execution_count": null,
   "id": "1bf5f99e-25da-4608-b239-5dc6609872f8",
   "metadata": {},
   "outputs": [],
   "source": []
  },
  {
   "cell_type": "code",
   "execution_count": null,
   "id": "037e4bcb-3ced-4904-beb5-727245eb4026",
   "metadata": {},
   "outputs": [],
   "source": []
  },
  {
   "cell_type": "code",
   "execution_count": null,
   "id": "2511cc3a-aaa8-48cb-9fcf-52e1d97e1e6d",
   "metadata": {},
   "outputs": [],
   "source": []
  },
  {
   "cell_type": "code",
   "execution_count": null,
   "id": "6c0016d7-e593-4fb2-af95-e245d5c01393",
   "metadata": {},
   "outputs": [],
   "source": []
  },
  {
   "cell_type": "code",
   "execution_count": null,
   "id": "d78872f1-2257-43fe-b8d1-2d901e2635b4",
   "metadata": {},
   "outputs": [],
   "source": []
  },
  {
   "cell_type": "code",
   "execution_count": null,
   "id": "6863dfd9-9707-407e-a9e0-7c55a11a8ca6",
   "metadata": {},
   "outputs": [],
   "source": []
  },
  {
   "cell_type": "code",
   "execution_count": null,
   "id": "d44c62a7-b617-4f32-a8e1-25188173fc90",
   "metadata": {},
   "outputs": [],
   "source": [
    "roi_outline_coords_crop_corrected"
   ]
  },
  {
   "cell_type": "code",
   "execution_count": null,
   "id": "72285321-1e51-42b2-aa2e-817b281e1283",
   "metadata": {},
   "outputs": [],
   "source": [
    "SN = Polygon(roi_outline_coords_crop_corrected)"
   ]
  },
  {
   "cell_type": "code",
   "execution_count": null,
   "id": "c53f8cde-244d-4f23-b55c-ebf2ae657bee",
   "metadata": {},
   "outputs": [],
   "source": [
    "ROI = np.asarray([[1300, 1350], [1400, 1350], [1400, 1200], [1300, 1200]])"
   ]
  },
  {
   "cell_type": "code",
   "execution_count": null,
   "id": "8e40d250-2453-45ae-9786-bfd85d70f4f4",
   "metadata": {},
   "outputs": [],
   "source": [
    "cell = Polygon(ROI)"
   ]
  },
  {
   "cell_type": "code",
   "execution_count": null,
   "id": "a8ced2e4-9a94-4219-99b8-cba847d7e883",
   "metadata": {},
   "outputs": [],
   "source": [
    "\n",
    "empty_array = np.zeros((7595, 4625), dtype=np.uint8)\n",
    "rr, cc = draw.polygon(roi_outline_coords_crop_corrected[:, 0], roi_outline_coords_crop_corrected[:, 1])\n",
    "empty_array[rr, cc] = 1\n"
   ]
  },
  {
   "cell_type": "code",
   "execution_count": null,
   "id": "c7f11e84-bced-43d0-9b50-54fd60626bbc",
   "metadata": {},
   "outputs": [],
   "source": [
    "SN.exterior.coords.xy\n",
    "\n"
   ]
  },
  {
   "cell_type": "code",
   "execution_count": null,
   "id": "6dd5f829-6a5d-4167-a51a-81fe5fad5d25",
   "metadata": {},
   "outputs": [],
   "source": [
    "np.where(empty_array == 1)[0].shape"
   ]
  },
  {
   "cell_type": "code",
   "execution_count": null,
   "id": "487fb0d2-a5c7-46f8-a60e-d8e2c7e079bd",
   "metadata": {},
   "outputs": [],
   "source": [
    "\n",
    "\n",
    "contours = measure.find_contours(empty_array, level=0)\n",
    "\n",
    "plt.imshow(empty_array)\n",
    "plt.plot(contours[0][:, 1], contours[0][:, 0], color='red')\n",
    "\n",
    "plt.ylim(1475, 1450)\n",
    "plt.xlim(1500, 1525)\n",
    "plt.show()"
   ]
  },
  {
   "cell_type": "code",
   "execution_count": null,
   "id": "cc60ed8e-593f-4f84-9a6a-e372e25e993f",
   "metadata": {},
   "outputs": [],
   "source": [
    "SN.within(SN2)"
   ]
  },
  {
   "cell_type": "code",
   "execution_count": null,
   "id": "2cfa1efa-0ec5-410f-8eec-6b797eb548b0",
   "metadata": {},
   "outputs": [],
   "source": [
    "SN.contains(SN2)"
   ]
  },
  {
   "cell_type": "code",
   "execution_count": null,
   "id": "e8c2774b-e301-49bd-b33b-8ca6a3b14fbb",
   "metadata": {},
   "outputs": [],
   "source": [
    "SN.intersection(SN2).area"
   ]
  },
  {
   "cell_type": "code",
   "execution_count": null,
   "id": "56d28791-bd36-4a62-8b95-528084c7cb9c",
   "metadata": {},
   "outputs": [],
   "source": [
    "SN == SN2"
   ]
  },
  {
   "cell_type": "code",
   "execution_count": null,
   "id": "ba05f1d6-8ebd-4eeb-b7eb-c1acfd143c30",
   "metadata": {},
   "outputs": [],
   "source": [
    "SN.area"
   ]
  },
  {
   "cell_type": "code",
   "execution_count": null,
   "id": "7b0b089f-2fca-4c59-8743-69af589a4976",
   "metadata": {},
   "outputs": [],
   "source": [
    "SN2 = Polygon(np.column_stack((contours[0][:, 0], contours[0][:, 1])))\n"
   ]
  },
  {
   "cell_type": "code",
   "execution_count": null,
   "id": "2e9ebeec-624c-48ec-bdc0-6a070976b3a8",
   "metadata": {},
   "outputs": [],
   "source": [
    "contours"
   ]
  },
  {
   "cell_type": "code",
   "execution_count": null,
   "id": "34b475e1-e377-4428-82c3-3b25682ea8ed",
   "metadata": {},
   "outputs": [],
   "source": [
    "contours[0][:, 1]"
   ]
  },
  {
   "cell_type": "code",
   "execution_count": null,
   "id": "f6a0f4eb-5669-47ce-9bec-3a0bb0618bc1",
   "metadata": {},
   "outputs": [],
   "source": [
    "plt.plot(contours[0][:, 1], contours[0][:, 0], color='red')"
   ]
  },
  {
   "cell_type": "code",
   "execution_count": null,
   "id": "3cadf040-f6f1-4b55-b0fd-2e6ff1b55a03",
   "metadata": {},
   "outputs": [],
   "source": [
    "plt.imshow(mask)"
   ]
  },
  {
   "cell_type": "code",
   "execution_count": null,
   "id": "8699d345-de04-4d23-aa06-bb6b00247b47",
   "metadata": {},
   "outputs": [],
   "source": []
  },
  {
   "cell_type": "code",
   "execution_count": null,
   "id": "c5d4d0a3-55e8-4501-89a1-0a95e940798c",
   "metadata": {},
   "outputs": [],
   "source": []
  },
  {
   "cell_type": "code",
   "execution_count": null,
   "id": "db7fe1bd-231b-4354-99f9-88e395c07403",
   "metadata": {},
   "outputs": [],
   "source": []
  },
  {
   "cell_type": "code",
   "execution_count": null,
   "id": "d37fb6de-27e3-43fd-94af-30316fe598ca",
   "metadata": {},
   "outputs": [],
   "source": []
  },
  {
   "cell_type": "code",
   "execution_count": null,
   "id": "dc99fb1d-c2d3-409d-930a-e10221605bbe",
   "metadata": {},
   "outputs": [],
   "source": [
    "binarized_rois_after_exclusion"
   ]
  },
  {
   "cell_type": "code",
   "execution_count": null,
   "id": "02fb3161-8526-4d11-8815-eeec2684bd1f",
   "metadata": {},
   "outputs": [],
   "source": [
    "binarized_rois_after_exclusion.astype('uint8')\n",
    "\n"
   ]
  },
  {
   "cell_type": "code",
   "execution_count": null,
   "id": "bc436ab8-ac1f-4e61-9ba5-04d448ec4614",
   "metadata": {},
   "outputs": [],
   "source": [
    "np.unique(cellpose_preds).shape"
   ]
  },
  {
   "cell_type": "code",
   "execution_count": null,
   "id": "08fdd03e-1ae7-4be1-bd0a-a697af9398db",
   "metadata": {},
   "outputs": [],
   "source": [
    "measure.find_contours("
   ]
  },
  {
   "cell_type": "code",
   "execution_count": null,
   "id": "aa0a734f-c7ce-44fb-9d06-a9bf305ca59d",
   "metadata": {},
   "outputs": [],
   "source": [
    "cellposed_rois_after_exclusion = cellpose_preds.copy()\n",
    "\n",
    "\n",
    "binarized_rois_after_exclusion = cellpose_preds.copy()\n",
    "binarized_rois_after_exclusion[np.where(binarized_rois_after_exclusion > 0)] = 255"
   ]
  },
  {
   "cell_type": "code",
   "execution_count": null,
   "id": "f671a560-8e7e-4fbc-97e5-d58e7e551639",
   "metadata": {},
   "outputs": [],
   "source": [
    "cellposed_contours = measure.find_contours(cellposed_rois_after_exclusion, level=0)\n",
    "len(cellposed_contours)"
   ]
  },
  {
   "cell_type": "code",
   "execution_count": null,
   "id": "2910b33d-3f63-4c61-b39e-cc283561c2da",
   "metadata": {},
   "outputs": [],
   "source": [
    "binarized_contours = measure.find_contours(binarized_rois_after_exclusion, level=0)\n",
    "len(binarized_contours)"
   ]
  },
  {
   "cell_type": "code",
   "execution_count": null,
   "id": "d3520a65-8fc7-4acb-8876-a9ac4c4d0427",
   "metadata": {},
   "outputs": [],
   "source": []
  },
  {
   "cell_type": "code",
   "execution_count": null,
   "id": "8dc809b6-293b-4f51-ac60-b25357393df6",
   "metadata": {},
   "outputs": [],
   "source": [
    "roi.touches(substantia_nigra)"
   ]
  },
  {
   "cell_type": "code",
   "execution_count": null,
   "id": "f8d556c0-78e8-42f4-aaf7-50e9b2f1beb1",
   "metadata": {},
   "outputs": [],
   "source": []
  },
  {
   "cell_type": "code",
   "execution_count": null,
   "id": "e192400e-355d-4f5a-a97d-fca93be60605",
   "metadata": {},
   "outputs": [],
   "source": [
    "def meets_exclusion_criteria(cell, roi):\n",
    "    "
   ]
  },
  {
   "cell_type": "code",
   "execution_count": null,
   "id": "bb4659f0-ead7-4fd4-a0d9-066d3d868147",
   "metadata": {},
   "outputs": [],
   "source": [
    "plt.imshow(cellpose_preds)"
   ]
  },
  {
   "cell_type": "code",
   "execution_count": null,
   "id": "3b76657c-7feb-4153-a75e-039a57cc5415",
   "metadata": {},
   "outputs": [],
   "source": [
    "contours = measure.find_contours(cellpose_preds, level = 0)\n",
    "\n",
    "len(contours)"
   ]
  },
  {
   "cell_type": "code",
   "execution_count": null,
   "id": "6d1add16-bb5a-497b-92c7-eea52cf3e934",
   "metadata": {},
   "outputs": [],
   "source": [
    "cellpose_preds.shape"
   ]
  },
  {
   "cell_type": "code",
   "execution_count": null,
   "id": "b05ee4d3-33e2-419f-ad21-d412ac04a139",
   "metadata": {},
   "outputs": [],
   "source": [
    "test = np.zeros((7588, 4606), dtype=np.uint8)\n",
    "test[np.where(cellpose_preds==1)] = 1\n",
    "\n",
    "plt.imshow(test)\n",
    "plt.plot(contours[0][:, 1], contours[0][:, 0], c='red')\n",
    "\n",
    "plt.ylim(3400, 3250)\n",
    "plt.xlim(1750, 1900)\n"
   ]
  },
  {
   "cell_type": "code",
   "execution_count": null,
   "id": "ae639c47-60a3-46ff-8230-61537eeb456d",
   "metadata": {},
   "outputs": [],
   "source": []
  },
  {
   "cell_type": "code",
   "execution_count": null,
   "id": "11632ad3-a992-47f2-a958-3da8dfb518ca",
   "metadata": {},
   "outputs": [],
   "source": [
    "plt.plot(contours[0][:, 0], contours[0][:, 1], c='red')"
   ]
  },
  {
   "cell_type": "code",
   "execution_count": null,
   "id": "853c5b47-b95d-4c01-925f-a6761ca59f78",
   "metadata": {},
   "outputs": [],
   "source": [
    "np.where(cellpose_preds"
   ]
  },
  {
   "cell_type": "code",
   "execution_count": null,
   "id": "a2796d82-2868-4e74-8427-9eb0081688bb",
   "metadata": {},
   "outputs": [],
   "source": [
    "contours = measure.find_contours(empty_array, level=0)\n",
    "\n",
    "plt.imshow(empty_array)\n",
    "plt.plot(contours[0][:, 1], contours[0][:, 0], color='red')\n",
    "\n",
    "plt.ylim(1475, 1450)\n",
    "plt.xlim(1500, 1525)\n",
    "plt.show()"
   ]
  },
  {
   "cell_type": "code",
   "execution_count": null,
   "id": "9d820ee3-22f3-46b4-a101-1519d607d123",
   "metadata": {},
   "outputs": [],
   "source": [
    "SN.contains(cell)"
   ]
  },
  {
   "cell_type": "code",
   "execution_count": null,
   "id": "13180452-2a72-4c31-a427-39994c77160a",
   "metadata": {},
   "outputs": [],
   "source": [
    "SN.intersects(cell)"
   ]
  },
  {
   "cell_type": "code",
   "execution_count": null,
   "id": "42b9a615-3715-4d3f-83b3-50b9b65b47d8",
   "metadata": {},
   "outputs": [],
   "source": [
    "list(SN.exterior.coords)"
   ]
  },
  {
   "cell_type": "code",
   "execution_count": null,
   "id": "f128dee9-1bb6-4faf-a6f9-4dc1c2a33419",
   "metadata": {},
   "outputs": [],
   "source": [
    "SN_roi = ImagejRoi.fromfile('/mnt/c/Users/dsege/TEMP/alex_single_planes/ROI for automated cell counting hm2asyn/#7_SN_wtOld/#7_SN_wt_s1_sfr2.roi')"
   ]
  },
  {
   "cell_type": "code",
   "execution_count": null,
   "id": "610dc73e-0a1c-48f5-9656-b0c619267593",
   "metadata": {},
   "outputs": [],
   "source": [
    "coords = SN_roi.coordinates()\n",
    "coords_new = []\n",
    "for elem in coords:\n",
    "    new_column_index = elem[0] - lower_column_idx\n",
    "    new_row_index = elem[1] - lower_row_idx\n",
    "    coords_new.append([new_row_index, new_column_index])\n",
    "    "
   ]
  },
  {
   "cell_type": "code",
   "execution_count": null,
   "id": "2e624ff1-4e94-4b26-9eaf-2164856822fd",
   "metadata": {},
   "outputs": [],
   "source": [
    "np.asarray(coords_new)[:, 0]"
   ]
  },
  {
   "cell_type": "code",
   "execution_count": null,
   "id": "b8db84a0-66c3-454e-aa0d-b25c247d3b39",
   "metadata": {},
   "outputs": [],
   "source": []
  },
  {
   "cell_type": "code",
   "execution_count": null,
   "id": "bc19bf96-cf5a-491b-a028-7cbc652bf3b9",
   "metadata": {},
   "outputs": [],
   "source": [
    "plt.figure(figsize=(20,20))\n",
    "plt.imshow(SN_cropped[:, :, 0])\n",
    "plt.plot(np.asarray(coords_new)[:, 1], np.asarray(coords_new)[:, 0], c='red')\n",
    "plt.plot([1350, 1350, 1200, 1200], [1300, 1400, 1400, 1300], c='black')\n",
    "\n",
    "plt.ylim(1000, 1500)\n",
    "plt.xlim(1100, 1400)\n",
    "plt.show()"
   ]
  },
  {
   "cell_type": "code",
   "execution_count": null,
   "id": "106a60bf-5877-4708-9bc8-b2a368a4741a",
   "metadata": {},
   "outputs": [],
   "source": [
    "ImagejRoi.fromfile('/mnt/c/Users/dsege/TEMP/alex_single_planes/SN_in_full_size_image.roi')"
   ]
  },
  {
   "cell_type": "code",
   "execution_count": null,
   "id": "3e694b3d-5776-4d13-8aa9-e71c15380e16",
   "metadata": {},
   "outputs": [],
   "source": []
  },
  {
   "cell_type": "code",
   "execution_count": null,
   "id": "4f540e2d-e76e-4e0f-ab6a-014ca6b4a588",
   "metadata": {},
   "outputs": [],
   "source": [
    "from PIL import Image"
   ]
  },
  {
   "cell_type": "code",
   "execution_count": null,
   "id": "eff8f5d4-e1cd-4165-a5dc-6b004b2d9653",
   "metadata": {},
   "outputs": [],
   "source": [
    "SN_fullsize = plt.imread('/mnt/c/Users/dsege/TEMP/alex_single_planes/0000_000.png')"
   ]
  },
  {
   "cell_type": "code",
   "execution_count": null,
   "id": "1942e251-9515-444f-bcf0-2c7a8feb07e8",
   "metadata": {},
   "outputs": [],
   "source": [
    "SN_fullsize.shape"
   ]
  },
  {
   "cell_type": "code",
   "execution_count": null,
   "id": "bcbaec1c-7965-4e0a-9372-67f4255dc8e6",
   "metadata": {},
   "outputs": [],
   "source": [
    "SN_cropped = SN_fullsize[lower_row_idx:upper_row_idx, lower_column_idx:upper_column_idx]"
   ]
  },
  {
   "cell_type": "code",
   "execution_count": null,
   "id": "fae11368-25e1-4015-a892-32d5791d3875",
   "metadata": {},
   "outputs": [],
   "source": [
    "plt.imshow(SN_cropped)"
   ]
  },
  {
   "cell_type": "code",
   "execution_count": null,
   "id": "8c4eef28-a1b3-49ce-a4ba-7a410721151d",
   "metadata": {},
   "outputs": [],
   "source": [
    "SN_cropped = SN_cropped.astype('uint8')"
   ]
  },
  {
   "cell_type": "code",
   "execution_count": null,
   "id": "ee451236-2e01-4d76-8b1f-1ef0afe9a9f8",
   "metadata": {},
   "outputs": [],
   "source": [
    "SN_cropped = SN_cropped * 255"
   ]
  },
  {
   "cell_type": "code",
   "execution_count": null,
   "id": "99b4af51-4b56-482d-a3f5-6fcca611a1f7",
   "metadata": {},
   "outputs": [],
   "source": [
    "SN_cropped.s"
   ]
  },
  {
   "cell_type": "code",
   "execution_count": null,
   "id": "75fed471-d2a3-44d6-97b8-ba34a91906f3",
   "metadata": {},
   "outputs": [],
   "source": [
    "plt.imshow(SN_cropped[:, :, 0])"
   ]
  },
  {
   "cell_type": "code",
   "execution_count": null,
   "id": "09550e4c-ac75-46fd-af77-cf17d2fb3876",
   "metadata": {},
   "outputs": [],
   "source": [
    "im = Image.fromarray(SN_cropped[:, :, 0])\n",
    "im.save('/mnt/c/Users/dsege/TEMP/alex_single_planes/0000_000_cropped1.png')"
   ]
  },
  {
   "cell_type": "code",
   "execution_count": null,
   "id": "46e3ddad-a6b8-470c-b580-71ec51c39891",
   "metadata": {},
   "outputs": [],
   "source": []
  },
  {
   "cell_type": "code",
   "execution_count": null,
   "id": "df6cc4e0-fe18-483a-8653-e4eee07327ec",
   "metadata": {},
   "outputs": [],
   "source": [
    "SN_roi_full_size = ImagejRoi.fromfile('/mnt/c/Users/dsege/TEMP/alex_single_planes/SN_in_full_size_image.roi')\n",
    "SN_roi_cropped = ImagejRoi.fromfile('/mnt/c/Users/dsege/TEMP/alex_single_planes/SN_in_cropped_image.roi')"
   ]
  },
  {
   "cell_type": "code",
   "execution_count": null,
   "id": "fdd8d6d7-5896-4a49-a4aa-0c8849769c69",
   "metadata": {},
   "outputs": [],
   "source": [
    "SN_roi_cropped.coordinates()"
   ]
  },
  {
   "cell_type": "code",
   "execution_count": null,
   "id": "a9c1f435-84a5-40fb-a244-c8d67fc3fd78",
   "metadata": {},
   "outputs": [],
   "source": [
    "SN_roi_full_size.coordinates().max()"
   ]
  },
  {
   "cell_type": "code",
   "execution_count": null,
   "id": "2f3f0b18-3812-4ab8-87ce-d573b031d5c3",
   "metadata": {},
   "outputs": [],
   "source": [
    "diff = SN_roi_full_size.coordinates() - SN_roi_cropped.coordinates()"
   ]
  },
  {
   "cell_type": "code",
   "execution_count": null,
   "id": "91256711-36c0-4946-afee-d46931dbda3c",
   "metadata": {},
   "outputs": [],
   "source": [
    "np.unique(diff)"
   ]
  },
  {
   "cell_type": "code",
   "execution_count": null,
   "id": "d522298a-2076-4d36-9c58-4238ebfc7229",
   "metadata": {},
   "outputs": [],
   "source": [
    "lower_row_idx"
   ]
  },
  {
   "cell_type": "code",
   "execution_count": null,
   "id": "0e81f254-62af-4e75-a553-64573b191ab2",
   "metadata": {},
   "outputs": [],
   "source": [
    "lower_column_idx"
   ]
  },
  {
   "cell_type": "code",
   "execution_count": null,
   "id": "40646a31-b313-41f3-b0ed-114eb3bd7667",
   "metadata": {},
   "outputs": [],
   "source": [
    "import os\n",
    "\n",
    "os.listdir('/mnt/c/Users/dsege/TEMP/alex_single_planes/ROI for automated cell counting hm2asyn/')"
   ]
  },
  {
   "cell_type": "code",
   "execution_count": null,
   "id": "a8dfd7a1-9eb9-4efa-8c94-54dfb6934d69",
   "metadata": {},
   "outputs": [],
   "source": [
    "plane = stack[0].copy()"
   ]
  },
  {
   "cell_type": "code",
   "execution_count": null,
   "id": "da04a6bd-696c-42a2-a60c-d1ec4df2767e",
   "metadata": {},
   "outputs": [],
   "source": [
    "plane = plane / 4095"
   ]
  },
  {
   "cell_type": "code",
   "execution_count": null,
   "id": "997207ae-3d81-4242-b4f7-a75190aa3d85",
   "metadata": {},
   "outputs": [],
   "source": [
    "plt.imshow(plane)"
   ]
  },
  {
   "cell_type": "code",
   "execution_count": null,
   "id": "70efa9c9-6aee-48d7-bcaa-666dd6ddf5cd",
   "metadata": {},
   "outputs": [],
   "source": [
    "from roifile import ImagejRoi"
   ]
  },
  {
   "cell_type": "code",
   "execution_count": null,
   "id": "00f4b15b-cee4-4b62-b8e7-ea0c81916706",
   "metadata": {},
   "outputs": [],
   "source": [
    "SN_roi.coordinates()"
   ]
  },
  {
   "cell_type": "code",
   "execution_count": null,
   "id": "cba95c69-3289-4194-80e1-5cd0f90fe0ab",
   "metadata": {},
   "outputs": [],
   "source": [
    "SN_mask = np.asarray(SN_roi)"
   ]
  },
  {
   "cell_type": "code",
   "execution_count": null,
   "id": "e57b98a9-e9ea-426b-b46a-2bdbba18a61e",
   "metadata": {},
   "outputs": [],
   "source": [
    "SN_mask"
   ]
  },
  {
   "cell_type": "code",
   "execution_count": null,
   "id": "9039f0ed-2705-4726-9595-6c5392f56867",
   "metadata": {},
   "outputs": [],
   "source": [
    "stack[0][:, :, 0].max()"
   ]
  },
  {
   "cell_type": "code",
   "execution_count": null,
   "id": "a7a23032-59f2-4124-97c5-931735870bde",
   "metadata": {},
   "outputs": [],
   "source": []
  }
 ],
 "metadata": {
  "kernelspec": {
   "display_name": "Python 3 (ipykernel)",
   "language": "python",
   "name": "python3"
  },
  "language_info": {
   "codemirror_mode": {
    "name": "ipython",
    "version": 3
   },
   "file_extension": ".py",
   "mimetype": "text/x-python",
   "name": "python",
   "nbconvert_exporter": "python",
   "pygments_lexer": "ipython3",
   "version": "3.7.12"
  }
 },
 "nbformat": 4,
 "nbformat_minor": 5
}
