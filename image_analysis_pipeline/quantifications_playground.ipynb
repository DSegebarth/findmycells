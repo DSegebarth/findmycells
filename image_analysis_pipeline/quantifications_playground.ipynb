{
 "cells": [
  {
   "cell_type": "code",
   "execution_count": 1,
   "id": "ea291da6-dab5-41af-a981-8e7eff5a83a4",
   "metadata": {},
   "outputs": [],
   "source": [
    "import cc3d\n",
    "import numpy as np\n",
    "import matplotlib.pyplot as plt\n",
    "from skimage import draw, measure\n",
    "from shapely.geometry import Polygon\n",
    "\n",
    "from mpl_toolkits.mplot3d import Axes3D\n",
    "from PIL import Image\n",
    "import os"
   ]
  },
  {
   "cell_type": "markdown",
   "id": "d4863381-45f1-469e-b1da-1c225f8f8e91",
   "metadata": {
    "tags": []
   },
   "source": [
    "## Functions"
   ]
  },
  {
   "cell_type": "code",
   "execution_count": 2,
   "id": "aab395d8-4c49-4b5b-80aa-a3e55408c229",
   "metadata": {},
   "outputs": [],
   "source": [
    "from typing import Dict\n",
    "\n",
    "def roi_matching(original_roi: Polygon, roi_to_compare: Polygon, roi_to_compare_id: int, results: Dict, plane_indicator: str) -> Dict:\n",
    "    \n",
    "        tmp_roi = Polygon(tmp_contours)\n",
    "\n",
    "        iou = original_roi.intersection(roi_to_compare).area / original_roi.union(roi_to_compare).area\n",
    "        proportion = original_roi.intersection(roi_to_compare).area / original_roi.area\n",
    "\n",
    "        if original_roi.within(roi_to_compare) or roi_to_compare.within(original_roi): within = True\n",
    "        else: within = False\n",
    "\n",
    "        results[f'matching_ids_{plane_indicator}_plane'].append(roi_to_compare_id)\n",
    "        results[f'full_overlap_{plane_indicator}_plane'].append(within)\n",
    "        results[f'overlapping_area_{plane_indicator}_plane'].append(proportion)\n",
    "        results[f'IoUs_{plane_indicator}_plane'].append(iou)\n",
    "        \n",
    "        return results\n",
    "    "
   ]
  },
  {
   "cell_type": "code",
   "execution_count": 3,
   "id": "32d1d1b2-2ee7-4c4e-8e2c-79578147d284",
   "metadata": {},
   "outputs": [],
   "source": [
    "def find_best_matches(results: Dict) -> Dict:\n",
    "    \n",
    "    for plane_indicator in ['previous', 'next']:\n",
    "        if len(results[f'matching_ids_{plane_indicator}_plane']) > 0:\n",
    "            max_iou = max(results[f'IoUs_{plane_indicator}_plane'])\n",
    "            if max_iou >= 0.5: # Does this really make sense here? IoU could also be < 0.5 and within == False, but only because of some pixel? Max reciprocal overlap??\n",
    "                index = results[f'IoUs_{plane_indicator}_plane'].index(max_iou)\n",
    "            elif any(results[f'full_overlap_{plane_indicator}_plane']):\n",
    "                index = results[f'full_overlap_{plane_indicator}_plane'].index(True)\n",
    "            else:\n",
    "                index = None\n",
    "            \n",
    "            if type(index) == int:\n",
    "                best_matching_id = results[f'matching_ids_{plane_indicator}_plane'][index]\n",
    "                iou = max_iou\n",
    "                overlap = results[f'overlapping_area_{plane_indicator}_plane'][index]\n",
    "            else: \n",
    "                best_matching_id, iou, overlap = None, None, None\n",
    "                \n",
    "            results[f'best_match_{plane_indicator}_plane'] = best_matching_id\n",
    "            results[f'overlapping_area_best_match_{plane_indicator}_plane'] = overlap\n",
    "            results[f'IoU_best_match_{plane_indicator}_plane'] = iou\n",
    "    \n",
    "    return results\n",
    "            \n",
    "            \n",
    "            \n",
    "        \n",
    "        \n",
    "    "
   ]
  },
  {
   "cell_type": "code",
   "execution_count": 4,
   "id": "3752909f-a493-4397-921e-28e7f18b2017",
   "metadata": {},
   "outputs": [],
   "source": [
    "def trace_matches(matching_results, final_ids_assignment, current_final_id, current_plane_idx, current_plane_label_id):\n",
    "    best_match_next_plane = matching_results[current_plane_idx][current_plane_label_id]['best_match_next_plane']\n",
    "    next_plane_idx = current_plane_idx + 1\n",
    "\n",
    "    if matching_results[next_plane_idx][best_match_next_plane]['final_label_id_assigned']:\n",
    "        raise ValueError(f'ROI with ID {best_match_next_plane} in plane {next_plane_idx} was already assigned! :o')\n",
    "    else:\n",
    "        if matching_results[next_plane_idx][best_match_next_plane]['best_match_previous_plane'] != current_plane_label_id:\n",
    "            raise ValueError(f'ROI with ID {best_match_next_plane} in plane {next_plane_idx} does not share best matching with previous plane!')\n",
    "        else:\n",
    "            matching_results[next_plane_idx][best_match_next_plane]['final_label_id_assigned'] = True\n",
    "            matching_results[next_plane_idx][best_match_next_plane]['final_label_id'] = current_final_id\n",
    "            final_ids_assignment[current_final_id]['plane_index'].append(next_plane_idx)\n",
    "            final_ids_assignment[current_final_id]['original_label_id'].append(best_match_next_plane)\n",
    "\n",
    "            if matching_results[next_plane_idx][best_match_next_plane]['best_match_next_plane'] != None:\n",
    "                keep_tracing = True\n",
    "                \n",
    "            else:\n",
    "                keep_tracing = False\n",
    "\n",
    "    return matching_results, final_ids_assignment, keep_tracing"
   ]
  },
  {
   "cell_type": "code",
   "execution_count": 5,
   "id": "ca1f6025-5da1-4efe-8fd2-398da152e707",
   "metadata": {},
   "outputs": [],
   "source": [
    "def unpad_x_y_dims_in_2d_array(padded_2d_array, pad_width):\n",
    "    return padded_2d_array[pad_width:padded_2d_array.shape[0]-pad_width, pad_width:padded_2d_array.shape[1]-pad_width]\n",
    "    \n",
    "    \n",
    "def unpad_x_y_dims_in_3d_array(padded_3d_array, pad_width):\n",
    "    return padded_3d_array[:, pad_width:padded_3d_array.shape[1]-pad_width, pad_width:padded_3d_array.shape[2]-pad_width]"
   ]
  },
  {
   "cell_type": "markdown",
   "id": "8733146f-c510-43d4-a7a2-3ba21d179ad7",
   "metadata": {},
   "source": [
    "# Create some dummy data to develop & test first ideas"
   ]
  },
  {
   "cell_type": "code",
   "execution_count": 6,
   "id": "efea45ed-64a4-4fb7-ac0e-dcb355677161",
   "metadata": {},
   "outputs": [],
   "source": [
    "plane_0 = np.array([[1, 1, 1, 0, 0, 0, 0, 0, 0, 0], \n",
    "                    [1, 1, 1, 0, 0, 0, 0, 0, 0, 0],\n",
    "                    [1, 1, 1, 0, 0, 0, 0, 0, 0, 0],\n",
    "                    [0, 0, 0, 0, 0, 0, 0, 0, 0, 0],\n",
    "                    [0, 0, 0, 0, 0, 0, 0, 0, 0, 0],\n",
    "                    [0, 0, 0, 0, 0, 0, 0, 0, 0, 0],\n",
    "                    [0, 0, 0, 0, 0, 0, 0, 0, 0, 0],\n",
    "                    [0, 0, 0, 0, 0, 0, 0, 0, 0, 0],\n",
    "                    [0, 0, 0, 0, 0, 0, 0, 0, 0, 0],\n",
    "                    [0, 0, 0, 0, 0, 0, 0, 0, 0, 0]])\n",
    "\n",
    "plane_1 = np.array([[1, 1, 1, 0, 0, 0, 0, 0, 0, 0], \n",
    "                    [1, 1, 1, 0, 0, 0, 0, 0, 0, 0],\n",
    "                    [1, 1, 1, 0, 0, 0, 0, 0, 0, 0],\n",
    "                    [0, 0, 0, 0, 0, 0, 0, 0, 0, 0],\n",
    "                    [0, 0, 0, 1, 1, 1, 0, 0, 0, 0],\n",
    "                    [0, 0, 0, 1, 1, 1, 0, 0, 0, 0],\n",
    "                    [0, 0, 0, 1, 1, 1, 0, 0, 0, 0],\n",
    "                    [0, 0, 0, 0, 0, 0, 0, 0, 0, 0],\n",
    "                    [0, 0, 0, 0, 0, 0, 0, 0, 0, 0],\n",
    "                    [0, 0, 0, 0, 0, 0, 0, 0, 0, 0]])\n",
    "\n",
    "plane_2 = np.array([[1, 1, 1, 0, 0, 0, 0, 0, 0, 0], \n",
    "                    [1, 1, 1, 0, 0, 0, 0, 0, 0, 0],\n",
    "                    [1, 1, 1, 0, 0, 0, 0, 0, 0, 0],\n",
    "                    [0, 0, 0, 0, 0, 0, 0, 0, 0, 0],\n",
    "                    [0, 0, 0, 1, 1, 1, 0, 0, 0, 0],\n",
    "                    [0, 0, 0, 1, 1, 1, 0, 0, 0, 0],\n",
    "                    [0, 0, 0, 1, 1, 1, 0, 0, 0, 0],\n",
    "                    [0, 0, 0, 0, 0, 0, 0, 0, 1, 0],\n",
    "                    [0, 0, 0, 0, 0, 0, 0, 1, 1, 1],\n",
    "                    [0, 0, 0, 0, 0, 0, 0, 0, 1, 0]])\n",
    "\n",
    "plane_3 = np.array([[0, 0, 0, 0, 0, 0, 0, 0, 0, 0], \n",
    "                    [0, 0, 0, 0, 0, 0, 0, 0, 0, 0],\n",
    "                    [0, 0, 0, 0, 0, 0, 0, 0, 0, 0],\n",
    "                    [0, 0, 0, 0, 0, 0, 0, 0, 0, 0],\n",
    "                    [0, 0, 0, 1, 1, 1, 0, 0, 0, 0],\n",
    "                    [0, 0, 0, 1, 1, 1, 0, 0, 0, 0],\n",
    "                    [0, 0, 0, 1, 1, 1, 0, 0, 0, 0],\n",
    "                    [0, 0, 0, 0, 0, 0, 0, 0, 1, 0],\n",
    "                    [0, 1, 1, 0, 0, 0, 0, 1, 1, 1],\n",
    "                    [0, 1, 1, 0, 0, 0, 0, 0, 1, 0]])\n",
    "\n",
    "plane_4 = np.array([[0, 0, 0, 0, 0, 0, 0, 0, 0, 0], \n",
    "                    [0, 0, 0, 0, 0, 0, 0, 0, 0, 0],\n",
    "                    [0, 0, 0, 0, 0, 0, 0, 0, 0, 0],\n",
    "                    [0, 0, 0, 0, 0, 0, 0, 0, 0, 0],\n",
    "                    [0, 0, 0, 0, 0, 0, 0, 0, 0, 0],\n",
    "                    [0, 0, 0, 0, 0, 0, 0, 0, 0, 0],\n",
    "                    [0, 0, 0, 0, 0, 0, 0, 0, 0, 0],\n",
    "                    [0, 0, 0, 0, 0, 0, 0, 0, 0, 0],\n",
    "                    [0, 1, 1, 0, 0, 0, 0, 0, 0, 0],\n",
    "                    [0, 1, 1, 0, 0, 0, 0, 0, 0, 0]])\n",
    "\n"
   ]
  },
  {
   "cell_type": "code",
   "execution_count": 7,
   "id": "f1b16f6b-b966-4cdd-a215-f8c44b535c59",
   "metadata": {},
   "outputs": [],
   "source": [
    "instseg_plane_0 = np.array([[1, 1, 2, 2, 0, 0, 0, 0, 0, 0], \n",
    "                            [1, 1, 2, 2, 0, 0, 0, 0, 0, 0],\n",
    "                            [1, 1, 2, 2, 0, 0, 0, 0, 0, 0],\n",
    "                            [0, 0, 0, 0, 0, 0, 0, 0, 0, 0],\n",
    "                            [0, 0, 0, 0, 0, 0, 0, 0, 0, 0],\n",
    "                            [0, 0, 0, 0, 0, 0, 0, 0, 0, 0],\n",
    "                            [0, 0, 0, 0, 0, 0, 0, 0, 0, 0],\n",
    "                            [0, 0, 0, 0, 0, 0, 0, 0, 0, 0],\n",
    "                            [0, 0, 0, 0, 0, 0, 0, 0, 0, 0],\n",
    "                            [0, 0, 0, 0, 0, 0, 0, 0, 0, 0]])\n",
    "\n",
    "instseg_plane_1 = np.array([[1, 1, 1, 0, 0, 0, 0, 0, 0, 0], \n",
    "                            [1, 1, 1, 0, 0, 0, 0, 0, 0, 0],\n",
    "                            [1, 1, 1, 0, 0, 0, 0, 0, 0, 0],\n",
    "                            [0, 0, 0, 0, 0, 0, 0, 0, 0, 0],\n",
    "                            [0, 0, 0, 2, 2, 2, 0, 0, 0, 0],\n",
    "                            [0, 0, 0, 2, 2, 2, 0, 0, 0, 0],\n",
    "                            [0, 0, 0, 2, 2, 2, 0, 0, 0, 0],\n",
    "                            [0, 0, 0, 0, 0, 0, 0, 0, 0, 0],\n",
    "                            [0, 0, 0, 0, 0, 0, 0, 0, 0, 0],\n",
    "                            [0, 0, 0, 0, 0, 0, 0, 0, 0, 0]])\n",
    "\n",
    "instseg_plane_2 = np.array([[1, 1, 1, 0, 0, 0, 0, 0, 0, 0], \n",
    "                            [1, 1, 1, 0, 0, 0, 0, 0, 0, 0],\n",
    "                            [1, 1, 1, 0, 0, 0, 0, 0, 0, 0],\n",
    "                            [0, 0, 0, 0, 0, 0, 0, 0, 0, 0],\n",
    "                            [0, 0, 0, 2, 2, 2, 0, 0, 0, 0],\n",
    "                            [0, 0, 0, 2, 2, 2, 0, 0, 0, 0],\n",
    "                            [0, 0, 0, 2, 2, 2, 0, 0, 0, 0],\n",
    "                            [0, 0, 0, 0, 0, 0, 0, 0, 3, 0],\n",
    "                            [0, 0, 0, 0, 0, 0, 0, 3, 3, 3],\n",
    "                            [0, 0, 0, 0, 0, 0, 0, 0, 3, 0]])\n",
    "\n",
    "instseg_plane_3 = np.array([[0, 0, 0, 0, 0, 0, 0, 0, 0, 0], \n",
    "                            [0, 0, 0, 0, 0, 0, 0, 0, 0, 0],\n",
    "                            [0, 0, 0, 0, 0, 0, 0, 0, 0, 0],\n",
    "                            [0, 0, 0, 0, 0, 0, 0, 0, 0, 0],\n",
    "                            [0, 0, 0, 1, 1, 1, 0, 0, 0, 0],\n",
    "                            [0, 0, 0, 1, 1, 1, 0, 0, 0, 0],\n",
    "                            [0, 0, 0, 0, 0, 0, 0, 0, 0, 0],\n",
    "                            [0, 0, 0, 0, 0, 0, 0, 0, 2, 0],\n",
    "                            [0, 3, 3, 0, 0, 0, 0, 2, 2, 2],\n",
    "                            [0, 3, 3, 0, 0, 0, 0, 0, 2, 0]])\n",
    "\n",
    "instseg_plane_4 = np.array([[0, 0, 0, 0, 0, 0, 0, 0, 0, 0], \n",
    "                            [0, 0, 0, 0, 0, 0, 0, 0, 0, 0],\n",
    "                            [0, 0, 0, 0, 0, 0, 0, 0, 0, 0],\n",
    "                            [0, 0, 0, 0, 0, 0, 0, 0, 0, 0],\n",
    "                            [0, 0, 0, 0, 0, 0, 0, 0, 0, 0],\n",
    "                            [0, 0, 0, 0, 0, 0, 0, 0, 0, 0],\n",
    "                            [0, 0, 0, 0, 0, 0, 0, 0, 0, 0],\n",
    "                            [0, 0, 0, 0, 0, 0, 0, 0, 0, 0],\n",
    "                            [0, 1, 1, 0, 0, 0, 0, 0, 0, 0],\n",
    "                            [0, 1, 1, 0, 0, 0, 0, 0, 0, 0]])\n",
    "\n"
   ]
  },
  {
   "cell_type": "code",
   "execution_count": 8,
   "id": "25231bae-460a-486c-9242-a512dc78ee78",
   "metadata": {},
   "outputs": [],
   "source": [
    "instseg_plane_0 = np.array([[1, 1, 1, 0, 0, 0, 0, 0, 0, 0], \n",
    "                            [1, 1, 1, 2, 2, 0, 0, 0, 0, 0],\n",
    "                            [1, 1, 2, 2, 2, 2, 0, 0, 0, 0],\n",
    "                            [0, 0, 2, 2, 2, 2, 0, 0, 0, 0],\n",
    "                            [0, 0, 0, 2, 2, 0, 0, 0, 0, 0],\n",
    "                            [0, 0, 0, 0, 0, 0, 0, 0, 0, 0],\n",
    "                            [0, 0, 0, 0, 0, 0, 0, 0, 0, 0],\n",
    "                            [0, 0, 0, 0, 0, 0, 0, 0, 0, 0],\n",
    "                            [0, 0, 0, 0, 0, 0, 0, 0, 0, 0],\n",
    "                            [0, 0, 0, 0, 0, 0, 0, 0, 0, 0]])\n",
    "\n",
    "instseg_plane_1 = np.array([[1, 1, 1, 0, 0, 0, 0, 0, 0, 0], \n",
    "                            [1, 1, 1, 2, 2, 2, 0, 0, 0, 0],\n",
    "                            [1, 1, 1, 2, 2, 2, 0, 0, 0, 0],\n",
    "                            [0, 0, 0, 2, 2, 2, 0, 0, 0, 0],\n",
    "                            [0, 0, 0, 3, 2, 3, 0, 0, 0, 0],\n",
    "                            [0, 0, 0, 3, 3, 3, 0, 0, 0, 0],\n",
    "                            [0, 0, 0, 3, 3, 3, 0, 0, 0, 0],\n",
    "                            [0, 0, 0, 0, 0, 0, 0, 0, 0, 0],\n",
    "                            [0, 0, 0, 0, 0, 0, 0, 0, 0, 0],\n",
    "                            [0, 0, 0, 0, 0, 0, 0, 0, 0, 0]])\n",
    "\n",
    "instseg_plane_2 = np.array([[1, 1, 1, 0, 0, 0, 0, 0, 0, 0], \n",
    "                            [1, 1, 1, 0, 0, 0, 0, 0, 0, 0],\n",
    "                            [1, 1, 1, 0, 0, 0, 0, 0, 0, 0],\n",
    "                            [0, 0, 0, 0, 0, 0, 0, 0, 0, 0],\n",
    "                            [0, 0, 0, 2, 2, 2, 0, 0, 0, 0],\n",
    "                            [0, 0, 0, 2, 2, 2, 0, 0, 0, 0],\n",
    "                            [0, 0, 0, 2, 2, 2, 0, 0, 0, 0],\n",
    "                            [0, 0, 0, 0, 0, 0, 0, 0, 3, 0],\n",
    "                            [0, 0, 0, 0, 0, 0, 0, 3, 3, 3],\n",
    "                            [0, 0, 0, 0, 0, 0, 0, 0, 3, 0]])\n",
    "\n",
    "instseg_plane_3 = np.array([[0, 0, 0, 0, 0, 0, 0, 0, 0, 0], \n",
    "                            [0, 0, 0, 0, 0, 0, 0, 0, 0, 0],\n",
    "                            [0, 0, 0, 0, 0, 0, 0, 0, 0, 0],\n",
    "                            [0, 0, 0, 0, 0, 0, 0, 0, 0, 0],\n",
    "                            [0, 0, 0, 1, 1, 1, 0, 0, 0, 0],\n",
    "                            [0, 0, 0, 1, 1, 1, 0, 0, 0, 0],\n",
    "                            [0, 0, 0, 0, 0, 0, 0, 0, 0, 0],\n",
    "                            [0, 0, 0, 0, 0, 0, 0, 0, 2, 0],\n",
    "                            [0, 3, 3, 0, 0, 0, 0, 2, 2, 2],\n",
    "                            [0, 3, 3, 0, 0, 0, 0, 0, 2, 0]])\n",
    "\n",
    "instseg_plane_4 = np.array([[0, 0, 0, 0, 0, 0, 0, 0, 0, 0], \n",
    "                            [0, 0, 0, 0, 0, 0, 0, 0, 0, 0],\n",
    "                            [0, 0, 0, 0, 0, 0, 0, 0, 0, 0],\n",
    "                            [0, 0, 0, 0, 0, 0, 0, 0, 0, 0],\n",
    "                            [0, 0, 0, 0, 0, 0, 0, 0, 0, 0],\n",
    "                            [0, 0, 0, 0, 0, 0, 0, 0, 0, 0],\n",
    "                            [0, 0, 0, 0, 0, 0, 0, 0, 0, 0],\n",
    "                            [0, 0, 0, 0, 0, 0, 0, 0, 0, 0],\n",
    "                            [0, 1, 1, 0, 0, 0, 0, 0, 0, 0],\n",
    "                            [0, 1, 1, 0, 0, 0, 0, 0, 0, 0]])\n",
    "\n"
   ]
  },
  {
   "cell_type": "code",
   "execution_count": 9,
   "id": "c83f2cc5-db29-4f5f-af58-4145c3e43a12",
   "metadata": {},
   "outputs": [],
   "source": [
    "zstack = np.array([plane_0, plane_1, plane_2, plane_3, plane_4])\n",
    "instseg_zstack = np.array([instseg_plane_0, instseg_plane_1, instseg_plane_2, instseg_plane_3, instseg_plane_4])\n",
    "labels_out_zstack, N_cc_zstack = cc3d.connected_components(zstack, return_N = True)\n",
    "labels_out_instseg_zstack, N_cc_instseg_zstack = cc3d.connected_components(instseg_zstack, return_N = True)\n"
   ]
  },
  {
   "cell_type": "code",
   "execution_count": 10,
   "id": "acb854cb-455e-4319-ab2a-06866c304de8",
   "metadata": {},
   "outputs": [
    {
     "data": {
      "text/plain": [
       "8"
      ]
     },
     "execution_count": 10,
     "metadata": {},
     "output_type": "execute_result"
    }
   ],
   "source": [
    "N_cc_instseg_zstack"
   ]
  },
  {
   "cell_type": "code",
   "execution_count": 11,
   "id": "0dafd4f8-ea6f-45d1-903b-cc93979963b1",
   "metadata": {},
   "outputs": [
    {
     "data": {
      "text/plain": [
       "array([[[1, 1, 1, 0, 0, 0, 0, 0, 0, 0],\n",
       "        [1, 1, 1, 2, 2, 0, 0, 0, 0, 0],\n",
       "        [1, 1, 2, 2, 2, 2, 0, 0, 0, 0],\n",
       "        [0, 0, 2, 2, 2, 2, 0, 0, 0, 0],\n",
       "        [0, 0, 0, 2, 2, 0, 0, 0, 0, 0],\n",
       "        [0, 0, 0, 0, 0, 0, 0, 0, 0, 0],\n",
       "        [0, 0, 0, 0, 0, 0, 0, 0, 0, 0],\n",
       "        [0, 0, 0, 0, 0, 0, 0, 0, 0, 0],\n",
       "        [0, 0, 0, 0, 0, 0, 0, 0, 0, 0],\n",
       "        [0, 0, 0, 0, 0, 0, 0, 0, 0, 0]],\n",
       "\n",
       "       [[1, 1, 1, 0, 0, 0, 0, 0, 0, 0],\n",
       "        [1, 1, 1, 2, 2, 2, 0, 0, 0, 0],\n",
       "        [1, 1, 1, 2, 2, 2, 0, 0, 0, 0],\n",
       "        [0, 0, 0, 2, 2, 2, 0, 0, 0, 0],\n",
       "        [0, 0, 0, 3, 2, 3, 0, 0, 0, 0],\n",
       "        [0, 0, 0, 3, 3, 3, 0, 0, 0, 0],\n",
       "        [0, 0, 0, 3, 3, 3, 0, 0, 0, 0],\n",
       "        [0, 0, 0, 0, 0, 0, 0, 0, 0, 0],\n",
       "        [0, 0, 0, 0, 0, 0, 0, 0, 0, 0],\n",
       "        [0, 0, 0, 0, 0, 0, 0, 0, 0, 0]],\n",
       "\n",
       "       [[1, 1, 1, 0, 0, 0, 0, 0, 0, 0],\n",
       "        [1, 1, 1, 0, 0, 0, 0, 0, 0, 0],\n",
       "        [1, 1, 1, 0, 0, 0, 0, 0, 0, 0],\n",
       "        [0, 0, 0, 0, 0, 0, 0, 0, 0, 0],\n",
       "        [0, 0, 0, 2, 2, 2, 0, 0, 0, 0],\n",
       "        [0, 0, 0, 2, 2, 2, 0, 0, 0, 0],\n",
       "        [0, 0, 0, 2, 2, 2, 0, 0, 0, 0],\n",
       "        [0, 0, 0, 0, 0, 0, 0, 0, 3, 0],\n",
       "        [0, 0, 0, 0, 0, 0, 0, 3, 3, 3],\n",
       "        [0, 0, 0, 0, 0, 0, 0, 0, 3, 0]],\n",
       "\n",
       "       [[0, 0, 0, 0, 0, 0, 0, 0, 0, 0],\n",
       "        [0, 0, 0, 0, 0, 0, 0, 0, 0, 0],\n",
       "        [0, 0, 0, 0, 0, 0, 0, 0, 0, 0],\n",
       "        [0, 0, 0, 0, 0, 0, 0, 0, 0, 0],\n",
       "        [0, 0, 0, 1, 1, 1, 0, 0, 0, 0],\n",
       "        [0, 0, 0, 1, 1, 1, 0, 0, 0, 0],\n",
       "        [0, 0, 0, 0, 0, 0, 0, 0, 0, 0],\n",
       "        [0, 0, 0, 0, 0, 0, 0, 0, 2, 0],\n",
       "        [0, 3, 3, 0, 0, 0, 0, 2, 2, 2],\n",
       "        [0, 3, 3, 0, 0, 0, 0, 0, 2, 0]],\n",
       "\n",
       "       [[0, 0, 0, 0, 0, 0, 0, 0, 0, 0],\n",
       "        [0, 0, 0, 0, 0, 0, 0, 0, 0, 0],\n",
       "        [0, 0, 0, 0, 0, 0, 0, 0, 0, 0],\n",
       "        [0, 0, 0, 0, 0, 0, 0, 0, 0, 0],\n",
       "        [0, 0, 0, 0, 0, 0, 0, 0, 0, 0],\n",
       "        [0, 0, 0, 0, 0, 0, 0, 0, 0, 0],\n",
       "        [0, 0, 0, 0, 0, 0, 0, 0, 0, 0],\n",
       "        [0, 0, 0, 0, 0, 0, 0, 0, 0, 0],\n",
       "        [0, 1, 1, 0, 0, 0, 0, 0, 0, 0],\n",
       "        [0, 1, 1, 0, 0, 0, 0, 0, 0, 0]]])"
      ]
     },
     "execution_count": 11,
     "metadata": {},
     "output_type": "execute_result"
    }
   ],
   "source": [
    "instseg_zstack"
   ]
  },
  {
   "cell_type": "markdown",
   "id": "21beaf50-d7b3-4ed4-862e-7a79d1ac019d",
   "metadata": {},
   "source": [
    "# Load actual instance segmented data"
   ]
  },
  {
   "cell_type": "code",
   "execution_count": 12,
   "id": "bef9e273-ff90-4238-9b64-90609bf0752a",
   "metadata": {},
   "outputs": [],
   "source": [
    "import os\n",
    "\n",
    "path = '/mnt/c/Users/dsege/TEMP/test_project2/05_instance_segmentations/'\n",
    "cellpose_preds = [filename for filename in os.listdir(path) if filename.startswith('0000')]\n",
    "\n",
    "cellpose_preds_to_stack = list()\n",
    "for single_plane in cellpose_preds:\n",
    "    cellpose_preds_to_stack.append(plt.imread(path + single_plane))\n",
    "    \n",
    "cellpose_pred_zstack = np.asarray(cellpose_preds_to_stack)"
   ]
  },
  {
   "cell_type": "code",
   "execution_count": 13,
   "id": "0b68a2ec-68ff-4a81-9c5b-9ca521cb842c",
   "metadata": {},
   "outputs": [
    {
     "data": {
      "text/plain": [
       "array([ 0,  1,  2,  3,  4,  5,  6,  7,  8,  9, 10, 11, 12, 13, 14, 15, 16,\n",
       "       17, 18, 19, 20, 21, 22, 23, 24, 25, 26, 27, 28, 29, 30, 31, 32, 33,\n",
       "       34, 35, 36, 37, 38, 39, 40, 41, 42, 43, 44, 45, 46, 47, 48, 49, 50,\n",
       "       51, 52, 53, 54, 55, 56, 57, 58, 59, 60, 61, 62, 63, 64, 65, 66, 67,\n",
       "       68, 69, 70, 71, 72, 73, 74, 75, 76, 77, 78, 79, 80, 81, 82, 83, 84,\n",
       "       85, 86, 87, 88, 89, 90, 91, 92], dtype=uint16)"
      ]
     },
     "execution_count": 13,
     "metadata": {},
     "output_type": "execute_result"
    }
   ],
   "source": [
    "np.unique(cellpose_pred_zstack[5])"
   ]
  },
  {
   "cell_type": "code",
   "execution_count": null,
   "id": "fa67a98b-81b4-43bd-a78f-e72858a1436b",
   "metadata": {},
   "outputs": [],
   "source": []
  },
  {
   "cell_type": "code",
   "execution_count": null,
   "id": "e774cfd9-5efd-4826-bc20-4785b49c7263",
   "metadata": {},
   "outputs": [],
   "source": []
  },
  {
   "cell_type": "code",
   "execution_count": null,
   "id": "261d0fd4-559e-4db6-918d-84cce43bcb76",
   "metadata": {},
   "outputs": [],
   "source": []
  },
  {
   "cell_type": "code",
   "execution_count": 14,
   "id": "384dcdbb-c5f4-48a2-bc50-a65b477e3feb",
   "metadata": {},
   "outputs": [
    {
     "name": "stdout",
     "output_type": "stream",
     "text": [
      "starting with plane 0\n",
      "starting with plane 1\n",
      "starting with plane 2\n",
      "starting with plane 3\n",
      "starting with plane 4\n",
      "starting with plane 5\n",
      "starting with plane 6\n",
      "starting with plane 7\n"
     ]
    }
   ],
   "source": [
    "pad_width = 1\n",
    "\n",
    "padded_zstack = cellpose_pred_zstack.copy()\n",
    "padded_zstack = np.pad(padded_zstack, pad_width=pad_width, mode = 'constant', constant_values = 0)\n",
    "padded_zstack = padded_zstack[pad_width:padded_zstack.shape[0]-pad_width]\n",
    "\n",
    "\n",
    "zstack = padded_zstack.copy()\n",
    "z_dim, x_dim, y_dim = zstack.shape\n",
    "\n",
    "results = dict()\n",
    "\n",
    "for plane_idx in range(z_dim):\n",
    "    print(f'starting with plane {plane_idx}')\n",
    "    results[plane_idx] = dict()\n",
    "    \n",
    "    if plane_idx == 0:\n",
    "        previous_plane_idx = None\n",
    "        next_plane_idx = plane_idx + 1\n",
    "    elif plane_idx == z_dim - 1:\n",
    "        previous_plane_idx = plane_idx - 1\n",
    "        next_plane_idx = None\n",
    "    else:\n",
    "        previous_plane_idx = plane_idx - 1\n",
    "        next_plane_idx = plane_idx + 1\n",
    "         \n",
    "    plane = zstack[plane_idx]\n",
    "    unique_label_ids = list(np.unique(plane))\n",
    "    unique_label_ids.remove(0)\n",
    "\n",
    "    for label_id in unique_label_ids:\n",
    "        tmp_array = np.zeros((x_dim, y_dim), dtype='uint8')\n",
    "        tmp_array[np.where(zstack[plane_idx] == label_id)] = 1\n",
    "        tmp_contours = measure.find_contours(tmp_array, level = 0)[0]\n",
    "        roi = Polygon(tmp_contours)\n",
    "        roi_area = roi.area\n",
    "        \n",
    "        results[plane_idx][label_id] = {'final_label_id_assigned': False,\n",
    "                                        'final_label_id': None,\n",
    "                                        'area': roi_area,\n",
    "                                        'matching_ids_previous_plane': list(),\n",
    "                                        'full_overlap_previous_plane': list(), # only relevant if best match less than 0.5 IoU threshold?\n",
    "                                        'overlapping_area_previous_plane': list(),\n",
    "                                        'IoUs_previous_plane': list(),\n",
    "                                        'matching_ids_next_plane': list(),\n",
    "                                        'full_overlap_next_plane': list(), # only relevant if best match less than 0.5 IoU threshold?\n",
    "                                        'overlapping_area_next_plane': list(),\n",
    "                                        'IoUs_next_plane': list(),\n",
    "                                        'best_match_previous_plane': None,\n",
    "                                        'overlapping_area_best_match_previous_plane': None,\n",
    "                                        'IoU_best_match_previous_plane': None,\n",
    "                                        'best_match_next_plane': None,\n",
    "                                        'overlapping_area_best_match_next_plane': None,\n",
    "                                        'IoU_best_match_next_plane': None}\n",
    "        # Reset results:\n",
    "        labels_of_pixels_in_previous_plane, labels_of_pixels_in_next_plane = None, None\n",
    "        \n",
    "        if previous_plane_idx != None:\n",
    "            labels_of_pixels_in_previous_plane = zstack[previous_plane_idx][np.where(plane == label_id)]\n",
    "            labels_of_pixels_in_previous_plane = list(np.unique(labels_of_pixels_in_previous_plane))\n",
    "            if 0 in labels_of_pixels_in_previous_plane:\n",
    "                labels_of_pixels_in_previous_plane.remove(0)\n",
    "            elif 0.0 in labels_of_pixels_in_previous_plane:\n",
    "                labels_of_pixels_in_previous_plane.remove(0.0)\n",
    "            \n",
    "            for label_id_prev_plane in labels_of_pixels_in_previous_plane:\n",
    "                tmp_array = np.zeros((x_dim, y_dim), dtype='uint8')\n",
    "                tmp_array[np.where(zstack[previous_plane_idx] == label_id_prev_plane)] = 1\n",
    "                tmp_contours = measure.find_contours(tmp_array, level = 0)[0]\n",
    "                tmp_roi = Polygon(tmp_contours)\n",
    "                \n",
    "                results[plane_idx][label_id] = roi_matching(roi, tmp_roi, label_id_prev_plane, results[plane_idx][label_id], 'previous')\n",
    "                \n",
    "        if next_plane_idx != None:\n",
    "            labels_of_pixels_in_next_plane = zstack[next_plane_idx][np.where(plane == label_id)]\n",
    "            labels_of_pixels_in_next_plane = list(np.unique(labels_of_pixels_in_next_plane))\n",
    "            if 0 in labels_of_pixels_in_next_plane:\n",
    "                labels_of_pixels_in_next_plane.remove(0)\n",
    "            elif 0.0 in labels_of_pixels_in_next_plane:\n",
    "                labels_of_pixels_in_next_plane.remove(0.0)\n",
    "                \n",
    "            for label_id_next_plane in labels_of_pixels_in_next_plane:\n",
    "                tmp_array = np.zeros((x_dim, y_dim), dtype='uint8')\n",
    "                tmp_array[np.where(zstack[next_plane_idx] == label_id_next_plane)] = 1\n",
    "                tmp_contours = measure.find_contours(tmp_array, level = 0)[0]\n",
    "                tmp_roi = Polygon(tmp_contours)\n",
    "                \n",
    "                results[plane_idx][label_id] = roi_matching(roi, tmp_roi, label_id_next_plane, results[plane_idx][label_id], 'next')            \n",
    "\n",
    "            \n",
    "        "
   ]
  },
  {
   "cell_type": "code",
   "execution_count": 15,
   "id": "6c87390e-47c6-4562-8a96-5b1415fa5785",
   "metadata": {},
   "outputs": [],
   "source": [
    "for plane_id in range(z_dim):\n",
    "    for label_id in results[plane_id].keys():\n",
    "        results[plane_id][label_id] = find_best_matches(results[plane_id][label_id])"
   ]
  },
  {
   "cell_type": "code",
   "execution_count": 16,
   "id": "353bca26-ee65-489c-a37c-09cf0d6e2ed0",
   "metadata": {},
   "outputs": [],
   "source": [
    "final_ids = dict()\n",
    "\n",
    "keep_going = True\n",
    "final_label_id = 2000\n",
    "\n",
    "for plane_idx in range(z_dim):\n",
    "    for label_id in results[plane_idx].keys():\n",
    "        if results[plane_idx][label_id]['final_label_id_assigned']:\n",
    "            continue\n",
    "        else:\n",
    "            final_ids[final_label_id] = {'plane_index': list(),\n",
    "                                         'original_label_id': list()}\n",
    "            \n",
    "            results[plane_idx][label_id]['final_label_id_assigned'] = True\n",
    "            results[plane_idx][label_id]['final_label_id'] = final_label_id\n",
    "            final_ids[final_label_id]['plane_index'].append(plane_idx)\n",
    "            final_ids[final_label_id]['original_label_id'].append(label_id)\n",
    "\n",
    "            # Now start tracing:\n",
    "            if results[plane_idx][label_id]['best_match_next_plane'] != None:\n",
    "\n",
    "                keep_tracing = True\n",
    "                while keep_tracing:\n",
    "                    results, final_ids, keep_tracing = trace_matches(results, \n",
    "                                                                     final_ids, \n",
    "                                                                     final_label_id, \n",
    "                                                                     final_ids[final_label_id]['plane_index'][-1], \n",
    "                                                                     final_ids[final_label_id]['original_label_id'][-1])\n",
    "\n",
    "\n",
    "            final_label_id += 1"
   ]
  },
  {
   "cell_type": "code",
   "execution_count": 17,
   "id": "78d41def-8859-40e0-92e8-d5059b542652",
   "metadata": {},
   "outputs": [
    {
     "data": {
      "text/plain": [
       "{2000: {'plane_index': [0, 1], 'original_label_id': [1, 1]},\n",
       " 2001: {'plane_index': [0, 1, 2], 'original_label_id': [2, 3, 4]},\n",
       " 2002: {'plane_index': [0, 1, 2, 3, 4],\n",
       "  'original_label_id': [3, 5, 7, 13, 10]},\n",
       " 2003: {'plane_index': [0, 1, 2], 'original_label_id': [4, 6, 8]},\n",
       " 2004: {'plane_index': [0, 1, 2], 'original_label_id': [5, 10, 12]},\n",
       " 2005: {'plane_index': [0, 1, 2, 3], 'original_label_id': [6, 11, 13, 18]},\n",
       " 2006: {'plane_index': [0, 1, 2, 3], 'original_label_id': [7, 17, 23, 30]},\n",
       " 2007: {'plane_index': [0, 1, 2, 3], 'original_label_id': [8, 21, 28, 35]},\n",
       " 2008: {'plane_index': [0, 1, 2, 3, 4],\n",
       "  'original_label_id': [9, 23, 30, 40, 40]},\n",
       " 2009: {'plane_index': [0, 1, 2, 3, 4],\n",
       "  'original_label_id': [10, 24, 33, 47, 48]},\n",
       " 2010: {'plane_index': [0, 1, 2, 3, 4],\n",
       "  'original_label_id': [11, 28, 37, 53, 55]},\n",
       " 2011: {'plane_index': [0, 1, 2], 'original_label_id': [12, 31, 47]},\n",
       " 2012: {'plane_index': [0, 1, 2, 3, 4, 5, 6],\n",
       "  'original_label_id': [13, 36, 51, 62, 71, 55, 31]},\n",
       " 2013: {'plane_index': [0, 1, 2, 3, 4, 5],\n",
       "  'original_label_id': [14, 44, 65, 72, 85, 76]},\n",
       " 2014: {'plane_index': [0, 1, 2, 3], 'original_label_id': [15, 45, 68, 74]},\n",
       " 2015: {'plane_index': [0, 1, 2, 3, 4],\n",
       "  'original_label_id': [16, 49, 73, 81, 93]},\n",
       " 2016: {'plane_index': [1, 2, 3, 4], 'original_label_id': [2, 2, 4, 5]},\n",
       " 2017: {'plane_index': [1, 2, 3], 'original_label_id': [4, 5, 11]},\n",
       " 2018: {'plane_index': [1, 2, 3, 4], 'original_label_id': [7, 9, 14, 11]},\n",
       " 2019: {'plane_index': [1], 'original_label_id': [8]},\n",
       " 2020: {'plane_index': [1, 2, 3], 'original_label_id': [9, 11, 17]},\n",
       " 2021: {'plane_index': [1, 2, 3], 'original_label_id': [12, 14, 19]},\n",
       " 2022: {'plane_index': [1, 2, 3], 'original_label_id': [13, 16, 23]},\n",
       " 2023: {'plane_index': [1], 'original_label_id': [14]},\n",
       " 2024: {'plane_index': [1, 2, 3, 4], 'original_label_id': [15, 21, 29, 23]},\n",
       " 2025: {'plane_index': [1, 2], 'original_label_id': [16, 22]},\n",
       " 2026: {'plane_index': [1, 2], 'original_label_id': [18, 24]},\n",
       " 2027: {'plane_index': [1, 2, 3, 4], 'original_label_id': [19, 26, 33, 28]},\n",
       " 2028: {'plane_index': [1, 2], 'original_label_id': [20, 27]},\n",
       " 2029: {'plane_index': [1, 2, 3, 4], 'original_label_id': [22, 29, 38, 36]},\n",
       " 2030: {'plane_index': [1, 2, 3, 4], 'original_label_id': [25, 34, 48, 49]},\n",
       " 2031: {'plane_index': [1, 2], 'original_label_id': [26, 35]},\n",
       " 2032: {'plane_index': [1, 2], 'original_label_id': [27, 36]},\n",
       " 2033: {'plane_index': [1, 2, 3], 'original_label_id': [29, 42, 57]},\n",
       " 2034: {'plane_index': [1, 2, 3, 4, 5],\n",
       "  'original_label_id': [30, 44, 58, 63, 47]},\n",
       " 2035: {'plane_index': [1, 2], 'original_label_id': [32, 48]},\n",
       " 2036: {'plane_index': [1, 2], 'original_label_id': [33, 49]},\n",
       " 2037: {'plane_index': [1, 2], 'original_label_id': [34, 50]},\n",
       " 2038: {'plane_index': [1, 2], 'original_label_id': [35, 52]},\n",
       " 2039: {'plane_index': [1, 2], 'original_label_id': [37, 56]},\n",
       " 2040: {'plane_index': [1, 2], 'original_label_id': [38, 58]},\n",
       " 2041: {'plane_index': [1, 2, 3], 'original_label_id': [39, 60, 69]},\n",
       " 2042: {'plane_index': [1, 2], 'original_label_id': [40, 61]},\n",
       " 2043: {'plane_index': [1, 2], 'original_label_id': [41, 62]},\n",
       " 2044: {'plane_index': [1, 2, 3, 4], 'original_label_id': [42, 63, 70, 80]},\n",
       " 2045: {'plane_index': [1, 2, 3, 4, 5],\n",
       "  'original_label_id': [43, 64, 71, 83, 73]},\n",
       " 2046: {'plane_index': [1, 2, 3, 4], 'original_label_id': [46, 70, 75, 89]},\n",
       " 2047: {'plane_index': [1, 2, 3], 'original_label_id': [47, 71, 76]},\n",
       " 2048: {'plane_index': [1, 2, 3], 'original_label_id': [48, 72, 77]},\n",
       " 2049: {'plane_index': [1, 2], 'original_label_id': [50, 78]},\n",
       " 2050: {'plane_index': [2, 3, 4, 5], 'original_label_id': [1, 2, 2, 1]},\n",
       " 2051: {'plane_index': [2, 3, 4], 'original_label_id': [3, 8, 8]},\n",
       " 2052: {'plane_index': [2, 3], 'original_label_id': [6, 12]},\n",
       " 2053: {'plane_index': [2, 3], 'original_label_id': [10, 15]},\n",
       " 2054: {'plane_index': [2, 3], 'original_label_id': [15, 22]},\n",
       " 2055: {'plane_index': [2, 3, 4, 5, 6],\n",
       "  'original_label_id': [17, 24, 17, 10, 6]},\n",
       " 2056: {'plane_index': [2, 3, 4, 5], 'original_label_id': [18, 25, 18, 11]},\n",
       " 2057: {'plane_index': [2, 3, 4, 5, 6],\n",
       "  'original_label_id': [19, 26, 19, 12, 7]},\n",
       " 2058: {'plane_index': [2, 3, 4, 5], 'original_label_id': [20, 27, 20, 13]},\n",
       " 2059: {'plane_index': [2, 3, 4, 5], 'original_label_id': [25, 32, 27, 17]},\n",
       " 2060: {'plane_index': [2], 'original_label_id': [31]},\n",
       " 2061: {'plane_index': [2, 3], 'original_label_id': [32, 46]},\n",
       " 2062: {'plane_index': [2, 3, 4], 'original_label_id': [38, 52, 54]},\n",
       " 2063: {'plane_index': [2, 3, 4, 5, 6],\n",
       "  'original_label_id': [39, 54, 57, 40, 21]},\n",
       " 2064: {'plane_index': [2, 3, 4, 5], 'original_label_id': [40, 55, 58, 41]},\n",
       " 2065: {'plane_index': [2, 3], 'original_label_id': [41, 56]},\n",
       " 2066: {'plane_index': [2], 'original_label_id': [43]},\n",
       " 2067: {'plane_index': [2], 'original_label_id': [45]},\n",
       " 2068: {'plane_index': [2], 'original_label_id': [46]},\n",
       " 2069: {'plane_index': [2, 3], 'original_label_id': [53, 63]},\n",
       " 2070: {'plane_index': [2], 'original_label_id': [54]},\n",
       " 2071: {'plane_index': [2, 3, 4], 'original_label_id': [55, 67, 77]},\n",
       " 2072: {'plane_index': [2, 3], 'original_label_id': [57, 68]},\n",
       " 2073: {'plane_index': [2], 'original_label_id': [59]},\n",
       " 2074: {'plane_index': [2, 3], 'original_label_id': [66, 73]},\n",
       " 2075: {'plane_index': [2], 'original_label_id': [67]},\n",
       " 2076: {'plane_index': [2], 'original_label_id': [69]},\n",
       " 2077: {'plane_index': [2, 3], 'original_label_id': [74, 82]},\n",
       " 2078: {'plane_index': [2, 3, 4, 5, 6, 7],\n",
       "  'original_label_id': [75, 83, 94, 83, 48, 14]},\n",
       " 2079: {'plane_index': [2], 'original_label_id': [76]},\n",
       " 2080: {'plane_index': [2, 3, 4], 'original_label_id': [77, 84, 96]},\n",
       " 2081: {'plane_index': [2, 3], 'original_label_id': [79, 86]},\n",
       " 2082: {'plane_index': [2], 'original_label_id': [80]},\n",
       " 2083: {'plane_index': [3, 4], 'original_label_id': [1, 1]},\n",
       " 2084: {'plane_index': [3, 4, 5, 6], 'original_label_id': [3, 4, 2, 1]},\n",
       " 2085: {'plane_index': [3, 4, 5], 'original_label_id': [5, 6, 3]},\n",
       " 2086: {'plane_index': [3, 4, 5, 6], 'original_label_id': [6, 7, 4, 2]},\n",
       " 2087: {'plane_index': [3], 'original_label_id': [7]},\n",
       " 2088: {'plane_index': [3], 'original_label_id': [9]},\n",
       " 2089: {'plane_index': [3, 4, 5], 'original_label_id': [10, 9, 5]},\n",
       " 2090: {'plane_index': [3, 4, 5], 'original_label_id': [16, 12, 6]},\n",
       " 2091: {'plane_index': [3, 4, 5, 6], 'original_label_id': [20, 14, 7, 3]},\n",
       " 2092: {'plane_index': [3, 4, 5, 6, 7],\n",
       "  'original_label_id': [21, 15, 8, 4, 1]},\n",
       " 2093: {'plane_index': [3, 4, 5, 6], 'original_label_id': [28, 21, 14, 8]},\n",
       " 2094: {'plane_index': [3, 4], 'original_label_id': [31, 25]},\n",
       " 2095: {'plane_index': [3, 4, 5, 6], 'original_label_id': [34, 32, 21, 9]},\n",
       " 2096: {'plane_index': [3, 4, 5, 6, 7],\n",
       "  'original_label_id': [36, 35, 23, 10, 2]},\n",
       " 2097: {'plane_index': [3, 4, 5], 'original_label_id': [37, 34, 24]},\n",
       " 2098: {'plane_index': [3, 4], 'original_label_id': [39, 39]},\n",
       " 2099: {'plane_index': [3, 4], 'original_label_id': [41, 42]},\n",
       " 2100: {'plane_index': [3, 4, 5, 6, 7],\n",
       "  'original_label_id': [42, 43, 28, 14, 5]},\n",
       " 2101: {'plane_index': [3, 4, 5, 6], 'original_label_id': [43, 44, 29, 15]},\n",
       " 2102: {'plane_index': [3], 'original_label_id': [44]},\n",
       " 2103: {'plane_index': [3, 4, 5, 6, 7],\n",
       "  'original_label_id': [45, 45, 30, 16, 6]},\n",
       " 2104: {'plane_index': [3, 4], 'original_label_id': [49, 50]},\n",
       " 2105: {'plane_index': [3, 4, 5], 'original_label_id': [50, 52, 36]},\n",
       " 2106: {'plane_index': [3, 4, 5], 'original_label_id': [51, 53, 37]},\n",
       " 2107: {'plane_index': [3, 4], 'original_label_id': [59, 64]},\n",
       " 2108: {'plane_index': [3], 'original_label_id': [60]},\n",
       " 2109: {'plane_index': [3, 4, 5], 'original_label_id': [61, 70, 54]},\n",
       " 2110: {'plane_index': [3, 4, 5, 6], 'original_label_id': [64, 72, 56, 32]},\n",
       " 2111: {'plane_index': [3, 4, 5], 'original_label_id': [65, 74, 57]},\n",
       " 2112: {'plane_index': [3, 4, 5], 'original_label_id': [66, 75, 59]},\n",
       " 2113: {'plane_index': [3, 4, 5], 'original_label_id': [78, 91, 81]},\n",
       " 2114: {'plane_index': [3, 4], 'original_label_id': [79, 92]},\n",
       " 2115: {'plane_index': [3], 'original_label_id': [80]},\n",
       " 2116: {'plane_index': [3, 4], 'original_label_id': [85, 97]},\n",
       " 2117: {'plane_index': [3], 'original_label_id': [87]},\n",
       " 2118: {'plane_index': [4], 'original_label_id': [3]},\n",
       " 2119: {'plane_index': [4], 'original_label_id': [13]},\n",
       " 2120: {'plane_index': [4, 5, 6], 'original_label_id': [16, 9, 5]},\n",
       " 2121: {'plane_index': [4, 5], 'original_label_id': [22, 15]},\n",
       " 2122: {'plane_index': [4], 'original_label_id': [24]},\n",
       " 2123: {'plane_index': [4, 5], 'original_label_id': [26, 16]},\n",
       " 2124: {'plane_index': [4], 'original_label_id': [29]},\n",
       " 2125: {'plane_index': [4, 5], 'original_label_id': [30, 18]},\n",
       " 2126: {'plane_index': [4, 5], 'original_label_id': [31, 20]},\n",
       " 2127: {'plane_index': [4, 5], 'original_label_id': [33, 22]},\n",
       " 2128: {'plane_index': [4, 5, 6, 7], 'original_label_id': [37, 25, 11, 3]},\n",
       " 2129: {'plane_index': [4], 'original_label_id': [38]},\n",
       " 2130: {'plane_index': [4, 5, 6], 'original_label_id': [41, 27, 13]},\n",
       " 2131: {'plane_index': [4, 5, 6], 'original_label_id': [46, 31, 17]},\n",
       " 2132: {'plane_index': [4, 5], 'original_label_id': [47, 32]},\n",
       " 2133: {'plane_index': [4, 5, 6], 'original_label_id': [51, 35, 19]},\n",
       " 2134: {'plane_index': [4, 5, 6, 7], 'original_label_id': [56, 39, 22, 7]},\n",
       " 2135: {'plane_index': [4, 5, 6], 'original_label_id': [59, 42, 23]},\n",
       " 2136: {'plane_index': [4, 5, 6, 7], 'original_label_id': [60, 43, 24, 8]},\n",
       " 2137: {'plane_index': [4, 5], 'original_label_id': [61, 44]},\n",
       " 2138: {'plane_index': [4, 5, 6], 'original_label_id': [62, 45, 25]},\n",
       " 2139: {'plane_index': [4, 5, 6], 'original_label_id': [65, 49, 26]},\n",
       " 2140: {'plane_index': [4, 5], 'original_label_id': [66, 50]},\n",
       " 2141: {'plane_index': [4, 5], 'original_label_id': [67, 51]},\n",
       " 2142: {'plane_index': [4, 5, 6], 'original_label_id': [68, 52, 28]},\n",
       " 2143: {'plane_index': [4, 5], 'original_label_id': [69, 53]},\n",
       " 2144: {'plane_index': [4, 5, 6, 7], 'original_label_id': [73, 58, 33, 9]},\n",
       " 2145: {'plane_index': [4, 5], 'original_label_id': [76, 60]},\n",
       " 2146: {'plane_index': [4, 5], 'original_label_id': [78, 62]},\n",
       " 2147: {'plane_index': [4, 5, 6], 'original_label_id': [79, 68, 40]},\n",
       " 2148: {'plane_index': [4, 5, 6], 'original_label_id': [81, 70, 42]},\n",
       " 2149: {'plane_index': [4], 'original_label_id': [82]},\n",
       " 2150: {'plane_index': [4, 5], 'original_label_id': [84, 74]},\n",
       " 2151: {'plane_index': [4, 5, 6, 7], 'original_label_id': [86, 77, 44, 12]},\n",
       " 2152: {'plane_index': [4], 'original_label_id': [87]},\n",
       " 2153: {'plane_index': [4], 'original_label_id': [88]},\n",
       " 2154: {'plane_index': [4, 5], 'original_label_id': [90, 79]},\n",
       " 2155: {'plane_index': [4, 5], 'original_label_id': [95, 84]},\n",
       " 2156: {'plane_index': [4, 5, 6, 7], 'original_label_id': [98, 86, 51, 15]},\n",
       " 2157: {'plane_index': [4, 5, 6], 'original_label_id': [99, 88, 53]},\n",
       " 2158: {'plane_index': [4, 5, 6, 7], 'original_label_id': [100, 90, 54, 16]},\n",
       " 2159: {'plane_index': [4], 'original_label_id': [101]},\n",
       " 2160: {'plane_index': [5], 'original_label_id': [19]},\n",
       " 2161: {'plane_index': [5, 6, 7], 'original_label_id': [26, 12, 4]},\n",
       " 2162: {'plane_index': [5], 'original_label_id': [33]},\n",
       " 2163: {'plane_index': [5, 6], 'original_label_id': [34, 18]},\n",
       " 2164: {'plane_index': [5, 6], 'original_label_id': [38, 20]},\n",
       " 2165: {'plane_index': [5], 'original_label_id': [46]},\n",
       " 2166: {'plane_index': [5], 'original_label_id': [48]},\n",
       " 2167: {'plane_index': [5, 6, 7], 'original_label_id': [61, 36, 10]},\n",
       " 2168: {'plane_index': [5], 'original_label_id': [63]},\n",
       " 2169: {'plane_index': [5, 6], 'original_label_id': [64, 38]},\n",
       " 2170: {'plane_index': [5, 6], 'original_label_id': [65, 39]},\n",
       " 2171: {'plane_index': [5], 'original_label_id': [66]},\n",
       " 2172: {'plane_index': [5], 'original_label_id': [67]},\n",
       " 2173: {'plane_index': [5, 6], 'original_label_id': [69, 41]},\n",
       " 2174: {'plane_index': [5], 'original_label_id': [71]},\n",
       " 2175: {'plane_index': [5], 'original_label_id': [72]},\n",
       " 2176: {'plane_index': [5], 'original_label_id': [75]},\n",
       " 2177: {'plane_index': [5, 6], 'original_label_id': [78, 45]},\n",
       " 2178: {'plane_index': [5, 6], 'original_label_id': [80, 46]},\n",
       " 2179: {'plane_index': [5, 6, 7], 'original_label_id': [82, 47, 13]},\n",
       " 2180: {'plane_index': [5, 6], 'original_label_id': [85, 50]},\n",
       " 2181: {'plane_index': [5, 6], 'original_label_id': [87, 52]},\n",
       " 2182: {'plane_index': [5], 'original_label_id': [89]},\n",
       " 2183: {'plane_index': [5], 'original_label_id': [91]},\n",
       " 2184: {'plane_index': [5], 'original_label_id': [92]},\n",
       " 2185: {'plane_index': [6], 'original_label_id': [27]},\n",
       " 2186: {'plane_index': [6], 'original_label_id': [29]},\n",
       " 2187: {'plane_index': [6], 'original_label_id': [30]},\n",
       " 2188: {'plane_index': [6], 'original_label_id': [34]},\n",
       " 2189: {'plane_index': [6], 'original_label_id': [35]},\n",
       " 2190: {'plane_index': [6], 'original_label_id': [37]},\n",
       " 2191: {'plane_index': [6, 7], 'original_label_id': [43, 11]},\n",
       " 2192: {'plane_index': [6], 'original_label_id': [49]}}"
      ]
     },
     "execution_count": 17,
     "metadata": {},
     "output_type": "execute_result"
    }
   ],
   "source": [
    "final_ids"
   ]
  },
  {
   "cell_type": "code",
   "execution_count": 18,
   "id": "0ec99415-97c4-4dc0-9322-6170832d6c7e",
   "metadata": {},
   "outputs": [],
   "source": [
    "new_zstack = zstack.copy()"
   ]
  },
  {
   "cell_type": "code",
   "execution_count": 19,
   "id": "183189aa-258e-4faf-aa7a-f5ac3f1f84b3",
   "metadata": {},
   "outputs": [],
   "source": [
    "for final_label_id in final_ids.keys():\n",
    "    for idx in range(len(final_ids[final_label_id]['plane_index'])):\n",
    "        plane_index = final_ids[final_label_id]['plane_index'][idx]\n",
    "        label_id = final_ids[final_label_id]['original_label_id'][idx]\n",
    "        new_zstack[plane_index][np.where(new_zstack[plane_index] == label_id)] = final_label_id\n",
    "        \n",
    "new_zstack = unpad_x_y_dims_in_3d_array(new_zstack, pad_width)"
   ]
  },
  {
   "cell_type": "code",
   "execution_count": 16,
   "id": "c49dd1b1-1104-4b60-89d3-fbc09203d321",
   "metadata": {},
   "outputs": [],
   "source": [
    "labels_out_new_zstack, N_cc_new_zstack = cc3d.connected_components(new_zstack, return_N = True)"
   ]
  },
  {
   "cell_type": "code",
   "execution_count": 17,
   "id": "d6da3d4b-f446-4139-85ff-e4f4320b7bbf",
   "metadata": {},
   "outputs": [
    {
     "data": {
      "text/plain": [
       "193"
      ]
     },
     "execution_count": 17,
     "metadata": {},
     "output_type": "execute_result"
    }
   ],
   "source": [
    "N_cc_new_zstack"
   ]
  },
  {
   "cell_type": "code",
   "execution_count": null,
   "id": "e48182f4-3270-436a-b1e4-bbd692b589ad",
   "metadata": {},
   "outputs": [],
   "source": [
    "# select a roi in a given plane (e.g. from tracing for rois with multiple matches)\n",
    "\n",
    "# get centroid coordinates & compute image slice to look at: +- 200 pixels from centroid x and y\n",
    "\n",
    "# find all rois with their final_ids that are in this image slice\n",
    "\n",
    "# assign a color to each of them\n",
    "\n",
    "# plot one row per plane: rgb image, cellpose mask, rgb image + roi boundaries color coded, cellpose mask + roi boundaries color coded "
   ]
  },
  {
   "cell_type": "code",
   "execution_count": 20,
   "id": "00160d97-b335-4c02-bc7e-6fb20e532c2d",
   "metadata": {},
   "outputs": [
    {
     "data": {
      "text/plain": [
       "[(1, 7),\n",
       " (1, 29),\n",
       " (1, 36),\n",
       " (1, 44),\n",
       " (2, 4),\n",
       " (2, 6),\n",
       " (2, 30),\n",
       " (2, 53),\n",
       " (2, 65),\n",
       " (2, 66),\n",
       " (3, 14),\n",
       " (3, 40),\n",
       " (3, 58),\n",
       " (3, 62),\n",
       " (3, 72),\n",
       " (3, 73),\n",
       " (4, 39),\n",
       " (4, 66),\n",
       " (4, 71),\n",
       " (4, 81),\n",
       " (4, 85),\n",
       " (4, 91),\n",
       " (5, 26),\n",
       " (5, 53),\n",
       " (5, 69),\n",
       " (6, 27),\n",
       " (6, 42),\n",
       " (6, 43),\n",
       " (6, 46)]"
      ]
     },
     "execution_count": 20,
     "metadata": {},
     "output_type": "execute_result"
    }
   ],
   "source": [
    "multi_matches_traceback = list()\n",
    "\n",
    "for plane_idx in results.keys():\n",
    "    for label_id in results[plane_idx].keys():\n",
    "        condition_a = len(results[plane_idx][label_id]['matching_ids_next_plane']) > 1\n",
    "        condition_b = len(results[plane_idx][label_id]['matching_ids_previous_plane']) > 1\n",
    "        if condition_a or condition_b:\n",
    "            multi_matches_traceback.append((plane_idx, label_id))\n",
    "\n",
    "multi_matches_traceback"
   ]
  },
  {
   "cell_type": "code",
   "execution_count": 21,
   "id": "3e82d725-88d2-488c-9c27-01cbd02d5f5c",
   "metadata": {},
   "outputs": [
    {
     "data": {
      "text/plain": [
       "{'final_label_id_assigned': True,\n",
       " 'final_label_id': 2161,\n",
       " 'area': 4395.5,\n",
       " 'matching_ids_previous_plane': [39, 40],\n",
       " 'full_overlap_previous_plane': [False, False],\n",
       " 'overlapping_area_previous_plane': [0.42918894323740187, 0.5377658969400523],\n",
       " 'IoUs_previous_plane': [0.42156424581005586, 0.43147903071236254],\n",
       " 'matching_ids_next_plane': [12],\n",
       " 'full_overlap_next_plane': [False],\n",
       " 'overlapping_area_next_plane': [0.9430098964850415],\n",
       " 'IoUs_next_plane': [0.9087919315939487],\n",
       " 'best_match_previous_plane': None,\n",
       " 'overlapping_area_best_match_previous_plane': None,\n",
       " 'IoU_best_match_previous_plane': None,\n",
       " 'best_match_next_plane': 12,\n",
       " 'overlapping_area_best_match_next_plane': 0.9430098964850415,\n",
       " 'IoU_best_match_next_plane': 0.9087919315939487}"
      ]
     },
     "execution_count": 21,
     "metadata": {},
     "output_type": "execute_result"
    }
   ],
   "source": [
    "results[5][26]"
   ]
  },
  {
   "cell_type": "code",
   "execution_count": 22,
   "id": "a9856513-26f6-48ba-ab08-fd88ecea120c",
   "metadata": {},
   "outputs": [],
   "source": [
    "unpadded_zstack = unpad_x_y_dims_in_3d_array(zstack, 1)\n",
    "z_dim, x_dim, y_dim = unpadded_zstack.shape"
   ]
  },
  {
   "cell_type": "code",
   "execution_count": 23,
   "id": "f582f36b-87cc-41f3-8f6d-ac66a90380d9",
   "metadata": {},
   "outputs": [
    {
     "data": {
      "image/svg+xml": [
       "<svg xmlns=\"http://www.w3.org/2000/svg\" xmlns:xlink=\"http://www.w3.org/1999/xlink\" width=\"100.0\" height=\"100.0\" viewBox=\"4162.64 2379.64 76.71999999999935 90.72000000000025\" preserveAspectRatio=\"xMinYMin meet\"><g transform=\"matrix(1,0,0,-1,0,4850.0)\"><path fill-rule=\"evenodd\" fill=\"#66cc99\" stroke=\"#555555\" stroke-width=\"1.8144000000000051\" opacity=\"0.6\" d=\"M 4236.0,2445.0 L 4236.0,2444.0 L 4236.0,2443.0 L 4236.0,2442.0 L 4236.0,2441.0 L 4236.0,2440.0 L 4236.0,2439.0 L 4236.0,2438.0 L 4235.0,2437.0 L 4235.0,2436.0 L 4234.0,2435.0 L 4233.0,2434.0 L 4233.0,2433.0 L 4232.0,2432.0 L 4232.0,2431.0 L 4232.0,2430.0 L 4231.0,2429.0 L 4231.0,2428.0 L 4231.0,2427.0 L 4231.0,2426.0 L 4231.0,2425.0 L 4231.0,2424.0 L 4230.0,2423.0 L 4230.0,2422.0 L 4230.0,2421.0 L 4230.0,2420.0 L 4231.0,2419.0 L 4231.0,2418.0 L 4231.0,2417.0 L 4231.0,2416.0 L 4231.0,2415.0 L 4231.0,2414.0 L 4231.0,2413.0 L 4231.0,2412.0 L 4231.0,2411.0 L 4231.0,2410.0 L 4231.0,2409.0 L 4231.0,2408.0 L 4231.0,2407.0 L 4231.0,2406.0 L 4231.0,2405.0 L 4231.0,2404.0 L 4231.0,2403.0 L 4231.0,2402.0 L 4230.0,2401.0 L 4230.0,2400.0 L 4230.0,2399.0 L 4229.0,2398.0 L 4229.0,2397.0 L 4228.0,2396.0 L 4227.0,2395.0 L 4226.0,2394.0 L 4225.0,2393.0 L 4224.0,2392.0 L 4223.0,2391.0 L 4222.0,2391.0 L 4221.0,2390.0 L 4220.0,2389.0 L 4219.0,2389.0 L 4218.0,2388.0 L 4217.0,2388.0 L 4216.0,2387.0 L 4215.0,2386.0 L 4214.0,2386.0 L 4213.0,2385.0 L 4212.0,2385.0 L 4211.0,2385.0 L 4210.0,2384.0 L 4209.0,2384.0 L 4208.0,2384.0 L 4207.0,2383.0 L 4206.0,2383.0 L 4205.0,2383.0 L 4204.0,2383.0 L 4203.0,2383.0 L 4202.0,2383.0 L 4201.0,2383.0 L 4200.0,2383.0 L 4199.0,2383.0 L 4198.0,2383.0 L 4197.0,2383.0 L 4196.0,2383.0 L 4195.0,2384.0 L 4194.0,2384.0 L 4193.0,2384.0 L 4192.0,2385.0 L 4191.0,2385.0 L 4190.0,2386.0 L 4189.0,2386.0 L 4188.0,2387.0 L 4187.0,2388.0 L 4186.0,2389.0 L 4185.0,2390.0 L 4184.0,2391.0 L 4183.0,2392.0 L 4182.0,2393.0 L 4182.0,2394.0 L 4181.0,2395.0 L 4180.0,2396.0 L 4180.0,2397.0 L 4180.0,2398.0 L 4179.0,2399.0 L 4179.0,2400.0 L 4178.0,2401.0 L 4178.0,2402.0 L 4178.0,2403.0 L 4178.0,2404.0 L 4177.0,2405.0 L 4177.0,2406.0 L 4177.0,2407.0 L 4176.0,2408.0 L 4176.0,2409.0 L 4176.0,2410.0 L 4175.0,2411.0 L 4175.0,2412.0 L 4174.0,2413.0 L 4174.0,2414.0 L 4173.0,2415.0 L 4172.0,2416.0 L 4172.0,2417.0 L 4171.0,2418.0 L 4171.0,2419.0 L 4170.0,2420.0 L 4170.0,2421.0 L 4169.0,2422.0 L 4169.0,2423.0 L 4168.0,2424.0 L 4168.0,2425.0 L 4168.0,2426.0 L 4167.0,2427.0 L 4167.0,2428.0 L 4167.0,2429.0 L 4167.0,2430.0 L 4166.0,2431.0 L 4166.0,2432.0 L 4166.0,2433.0 L 4166.0,2434.0 L 4166.0,2435.0 L 4166.0,2436.0 L 4166.0,2437.0 L 4166.0,2438.0 L 4167.0,2439.0 L 4167.0,2440.0 L 4167.0,2441.0 L 4167.0,2442.0 L 4167.0,2443.0 L 4168.0,2444.0 L 4168.0,2445.0 L 4169.0,2446.0 L 4169.0,2447.0 L 4170.0,2448.0 L 4170.0,2449.0 L 4171.0,2450.0 L 4172.0,2451.0 L 4172.0,2452.0 L 4173.0,2453.0 L 4174.0,2454.0 L 4174.0,2455.0 L 4175.0,2456.0 L 4176.0,2457.0 L 4177.0,2458.0 L 4178.0,2459.0 L 4179.0,2460.0 L 4180.0,2461.0 L 4181.0,2461.0 L 4182.0,2462.0 L 4183.0,2463.0 L 4184.0,2463.0 L 4185.0,2464.0 L 4186.0,2464.0 L 4187.0,2465.0 L 4188.0,2465.0 L 4189.0,2465.0 L 4190.0,2466.0 L 4191.0,2466.0 L 4192.0,2466.0 L 4193.0,2467.0 L 4194.0,2467.0 L 4195.0,2467.0 L 4196.0,2467.0 L 4197.0,2467.0 L 4198.0,2467.0 L 4199.0,2467.0 L 4200.0,2467.0 L 4201.0,2467.0 L 4202.0,2466.0 L 4203.0,2466.0 L 4204.0,2466.0 L 4205.0,2465.0 L 4206.0,2465.0 L 4207.0,2465.0 L 4208.0,2464.0 L 4209.0,2464.0 L 4210.0,2463.0 L 4211.0,2463.0 L 4212.0,2462.0 L 4213.0,2462.0 L 4214.0,2461.0 L 4215.0,2461.0 L 4216.0,2460.0 L 4217.0,2460.0 L 4218.0,2459.0 L 4219.0,2459.0 L 4220.0,2458.0 L 4221.0,2458.0 L 4222.0,2457.0 L 4223.0,2457.0 L 4224.0,2456.0 L 4225.0,2456.0 L 4226.0,2455.0 L 4227.0,2455.0 L 4228.0,2454.0 L 4229.0,2453.0 L 4230.0,2453.0 L 4231.0,2452.0 L 4232.0,2451.0 L 4233.0,2450.0 L 4234.0,2449.0 L 4234.0,2448.0 L 4235.0,2447.0 L 4235.0,2446.0 L 4236.0,2445.0 z\" /></g></svg>"
      ],
      "text/plain": [
       "<shapely.geometry.polygon.Polygon at 0x7fec06385110>"
      ]
     },
     "execution_count": 23,
     "metadata": {},
     "output_type": "execute_result"
    }
   ],
   "source": [
    "plane_id = 5\n",
    "label_id = 26\n",
    "\n",
    "plane = unpadded_zstack[plane_id]\n",
    "tmp_array = np.zeros((x_dim, y_dim), dtype='uint8')\n",
    "tmp_array[np.where(plane == label_id)] = 1\n",
    "tmp_contours = measure.find_contours(tmp_array, level = 0)[0]\n",
    "tmp_roi = Polygon(tmp_contours)\n",
    "tmp_roi"
   ]
  },
  {
   "cell_type": "code",
   "execution_count": 24,
   "id": "01bf0efe-cfcc-4b90-8f9e-f25b26d41188",
   "metadata": {},
   "outputs": [],
   "source": [
    "half_window_size = 200\n",
    "\n",
    "centroid_x, centroid_y = round(tmp_roi.centroid.x), round(tmp_roi.centroid.y)\n",
    "\n",
    "cminx, cmaxx = centroid_x - half_window_size, centroid_x + half_window_size\n",
    "cminy, cmaxy = centroid_y - half_window_size, centroid_y + half_window_size\n",
    "\n",
    "cropped_new_zstack = new_zstack.copy()\n",
    "cropped_new_zstack = cropped_new_zstack[:, cminx:cmaxx, cminy:cmaxy]\n",
    "\n",
    "cropped_z_dim, cropped_x_dim, cropped_y_dim = cropped_new_zstack.shape"
   ]
  },
  {
   "cell_type": "code",
   "execution_count": 36,
   "id": "55b76f7a-68d6-4958-8f77-1aa30efa12d8",
   "metadata": {},
   "outputs": [],
   "source": [
    "from matplotlib.pyplot import cm\n",
    "\n",
    "label_ids = list(np.unique(cropped_new_zstack))\n",
    "if 0 in label_ids:\n",
    "    label_ids.remove(0)\n",
    "    \n",
    "n_label_ids = len(label_ids)\n",
    "colormixer = cm.rainbow(np.linspace(0, 1, n_label_ids))\n",
    "\n",
    "color_code = dict()\n",
    "for idx in range(n_label_ids):\n",
    "    color_code[label_ids[idx]] = colormixer[idx]\n",
    "\n",
    "plotting_info = dict()\n",
    "for plane_index in range(cropped_z_dim):\n",
    "    plotting_info[plane_index] = dict()\n",
    "    \n",
    "\n",
    "\n",
    "for label_id in label_ids:\n",
    "    for plane_index in final_ids[label_id]['plane_index']:\n",
    "        plane = cropped_new_zstack[plane_index]\n",
    "        if label_id in np.unique(cropped_new_zstack[plane_index]):\n",
    "            tmp_array = np.zeros((cropped_x_dim, cropped_y_dim), dtype='uint8')\n",
    "            tmp_array[np.where(plane == label_id)] = 1\n",
    "            tmp_contours = measure.find_contours(tmp_array, level = 0)[0]\n",
    "            tmp_roi = Polygon(tmp_contours)\n",
    "            boundary_x_coords, boundary_y_coords = np.asarray(tmp_roi.boundary.xy[0]), np.asarray(tmp_roi.boundary.xy[1])\n",
    "            plotting_info[plane_index][label_id] = {'color': color_code[label_id],\n",
    "                                                    'boundary_x_coords': boundary_x_coords,\n",
    "                                                    'boundary_y_coords': boundary_y_coords}    "
   ]
  },
  {
   "cell_type": "code",
   "execution_count": 61,
   "id": "ec713ca2-75bf-4254-8980-f03fadbe3fdf",
   "metadata": {},
   "outputs": [
    {
     "data": {
      "image/png": "[encoded data removed]",
      "text/plain": [
       "<Figure size 576x4608 with 8 Axes>"
      ]
     },
     "metadata": {},
     "output_type": "display_data"
    }
   ],
   "source": [
    "fig = plt.figure(figsize=(20, 5*cropped_z_dim), facecolor='white')\n",
    "gs = fig.add_gridspec(cropped_z_dim, 1)\n",
    "\n",
    "\n",
    "\n",
    "\n",
    "\n",
    "\n",
    "\n",
    "for plane_index in range(cropped_z_dim):\n",
    "    fig.add_subplot(gs[plane_index, 0])\n",
    "    plt.imshow(cropped_new_zstack[plane_index])\n",
    "    for label_id in plotting_info[plane_index].keys():\n",
    "        plt.plot(plotting_info[plane_index][label_id]['boundary_y_coords'], \n",
    "                 plotting_info[plane_index][label_id]['boundary_x_coords'], \n",
    "                 c=plotting_info[plane_index][label_id]['color'], \n",
    "                 lw=3)\n",
    "plt.show()    "
   ]
  },
  {
   "cell_type": "markdown",
   "id": "b95d5b99-21f5-4e62-8698-a695504d4543",
   "metadata": {},
   "source": [
    "# Caution: This seems to be too much for the RAM to handle!"
   ]
  },
  {
   "cell_type": "code",
   "execution_count": null,
   "id": "3cc3072a-e58a-4e47-ba87-4c2b01c1f035",
   "metadata": {},
   "outputs": [],
   "source": [
    "from matplotlib.image import imread\n",
    "\n",
    "file_id = '0000'\n",
    "\n",
    "preprocessed_path = '/mnt/c/Users/dsege/TEMP/test_project2/03_preprocessed_images/'\n",
    "preprocessed_filenames = [filename for filename in os.listdir(preprocessed_path) if filename.startswith(file_id)]\n",
    "\n",
    "preprocessed_zstack = list()\n",
    "for single_plane in preprocessed_filenames:\n",
    "    preprocessed_zstack.append(imread(preprocessed_path + single_plane))\n",
    "    \n",
    "preprocessed_zstack = np.asarray(preprocessed_zstack)\n",
    "preprocessed_zstack = preprocessed_zstack[:, cminx:cmaxx, cminy:cmaxy]\n",
    "\n",
    "    \n",
    "instance_mask_path = '/mnt/c/Users/dsege/TEMP/test_project2/05_instance_segmentations/'\n",
    "instance_mask_filenames = [filename for filename in os.listdir(instance_mask_path) if filename.startswith(file_id)]\n",
    "\n",
    "instance_mask_zstack = list()\n",
    "for single_plane in instance_mask_filenames:\n",
    "    instance_mask_zstack.append(imread(instance_mask_path + single_plane))\n",
    "    \n",
    "instance_mask_zstack = np.asarray(instance_mask_zstack)\n",
    "instance_mask_zstack = instance_mask_zstack[:, cminx:cmaxx, cminy:cmaxy]"
   ]
  },
  {
   "cell_type": "code",
   "execution_count": 48,
   "id": "2462cbbb-89b4-4c49-8274-c45254b7b41d",
   "metadata": {},
   "outputs": [
    {
     "data": {
      "image/png": "[encoded data removed]",
      "text/plain": [
       "<Figure size 432x288 with 1 Axes>"
      ]
     },
     "metadata": {
      "needs_background": "light"
     },
     "output_type": "display_data"
    }
   ],
   "source": [
    "plt.imshow(cropped_new_zstack[0])\n",
    "plt.plot(plotting_info[0][2007]['boundary_y_coords'], plotting_info[0][2007]['boundary_x_coords'], c=plotting_info[0][2007]['color'], lw=3)\n",
    "plt.plot(plotting_info[0][2008]['boundary_y_coords'], plotting_info[0][2008]['boundary_x_coords'], c=plotting_info[0][2008]['color'], lw=3)\n",
    "\n",
    "plt.show()"
   ]
  },
  {
   "cell_type": "code",
   "execution_count": 35,
   "id": "0b497f28-c836-4e5d-8529-bd9e035316eb",
   "metadata": {},
   "outputs": [
    {
     "data": {
      "text/plain": [
       "False"
      ]
     },
     "execution_count": 35,
     "metadata": {},
     "output_type": "execute_result"
    }
   ],
   "source": [
    "2103 in np.unique(cropped_new_zstack[plane_index])"
   ]
  },
  {
   "cell_type": "code",
   "execution_count": 34,
   "id": "b78d84a3-6231-4e92-b8f5-257517ab1310",
   "metadata": {},
   "outputs": [
    {
     "data": {
      "text/plain": [
       "[3, 4, 5, 6, 7]"
      ]
     },
     "execution_count": 34,
     "metadata": {},
     "output_type": "execute_result"
    }
   ],
   "source": [
    "final_ids[2103]['plane_index']"
   ]
  },
  {
   "cell_type": "code",
   "execution_count": null,
   "id": "b9ee3b8a-c08b-46ba-bbfd-f4e34fb292b8",
   "metadata": {},
   "outputs": [],
   "source": [
    "n_label_ids = len(label_ids)\n",
    "colormixer = cm.rainbow(np.linspace(0, 1, n_label_ids))\n",
    "\n",
    "color_code = dict()\n",
    "for idx in range(n_label_ids):\n",
    "    color_code[label_ids[idx]] = colormixer[idx]\n",
    "    \n",
    "color_code"
   ]
  },
  {
   "cell_type": "code",
   "execution_count": null,
   "id": "3ea75054-d59a-4465-a2f2-66077eb69536",
   "metadata": {},
   "outputs": [],
   "source": []
  },
  {
   "cell_type": "code",
   "execution_count": null,
   "id": "c027b7ad-4333-4ea7-977f-1a809624e1cb",
   "metadata": {},
   "outputs": [],
   "source": []
  },
  {
   "cell_type": "code",
   "execution_count": null,
   "id": "119018aa-c5c9-4b1c-adae-01f39c33a7a9",
   "metadata": {},
   "outputs": [],
   "source": [
    "from matplotlib.image import imread\n",
    "\n",
    "file_id = '0000'\n",
    "\n",
    "preprocessed_path = '/mnt/c/Users/dsege/TEMP/test_project2/03_preprocessed_images/'\n",
    "preprocessed_filenames = [filename for filename in os.listdir(preprocessed_path) if filename.startswith(file_id)]\n",
    "\n",
    "preprocessed_zstack = list()\n",
    "for single_plane in preprocessed_filenames:\n",
    "    preprocessed_zstack.append(imread(preprocessed_path + single_plane))\n",
    "    \n",
    "preprocessed_zstack = np.asarray(preprocessed_zstack)\n",
    "preprocessed_zstack = preprocessed_zstack[:, cminx:cmaxx, cminy:cmaxy]\n",
    "\n",
    "    \n",
    "instance_mask_path = '/mnt/c/Users/dsege/TEMP/test_project2/05_instance_segmentations/'\n",
    "instance_mask_filenames = [filename for filename in os.listdir(instance_mask_path) if filename.startswith(file_id)]\n",
    "\n",
    "instance_mask_zstack = list()\n",
    "for single_plane in instance_mask_filenames:\n",
    "    instance_mask_zstack.append(imread(instance_mask_path + single_plane))\n",
    "    \n",
    "instance_mask_zstack = np.asarray(instance_mask_zstack)\n",
    "instance_mask_zstack = instance_mask_zstack[:, cminx:cmaxx, cminy:cmaxy]"
   ]
  },
  {
   "cell_type": "code",
   "execution_count": null,
   "id": "5d9f5f19-5d79-4735-8a76-9c477a24fe3b",
   "metadata": {},
   "outputs": [],
   "source": [
    "cropped_zstack\n",
    "\n"
   ]
  },
  {
   "cell_type": "code",
   "execution_count": null,
   "id": "dc54e712-5d49-4475-81e6-d008b078c842",
   "metadata": {},
   "outputs": [],
   "source": []
  },
  {
   "cell_type": "code",
   "execution_count": null,
   "id": "2916d583-6093-470a-a57e-85d569d2d0eb",
   "metadata": {},
   "outputs": [],
   "source": []
  },
  {
   "cell_type": "code",
   "execution_count": 79,
   "id": "b0ee862d-8c0c-4e14-936b-9193d0103e9a",
   "metadata": {},
   "outputs": [
    {
     "data": {
      "text/plain": [
       "array([0.5, 0. , 1. , 1. ])"
      ]
     },
     "execution_count": 79,
     "metadata": {},
     "output_type": "execute_result"
    }
   ],
   "source": [
    "color[0]"
   ]
  },
  {
   "cell_type": "code",
   "execution_count": 83,
   "id": "05a206cc-8fcd-40c2-9602-1c82c2a9e7a1",
   "metadata": {},
   "outputs": [
    {
     "data": {
      "image/png": "[encoded data removed]",
      "text/plain": [
       "<Figure size 432x288 with 1 Axes>"
      ]
     },
     "metadata": {
      "needs_background": "light"
     },
     "output_type": "display_data"
    }
   ],
   "source": [
    "plt.plot([1, 2, 3], [1, 1, 1], color=color_code[2007])\n",
    "plt.show()"
   ]
  },
  {
   "cell_type": "code",
   "execution_count": null,
   "id": "caad7624-053a-48e8-8b3d-9717e3f136a3",
   "metadata": {},
   "outputs": [],
   "source": []
  },
  {
   "cell_type": "code",
   "execution_count": null,
   "id": "64b7c31d-0f90-422d-bf98-98ff1263bf9c",
   "metadata": {},
   "outputs": [],
   "source": []
  },
  {
   "cell_type": "code",
   "execution_count": null,
   "id": "27a2c5a3-a576-416c-95d3-8a6cea555714",
   "metadata": {},
   "outputs": [],
   "source": []
  },
  {
   "cell_type": "code",
   "execution_count": 30,
   "id": "15786a14-5eb6-4a4b-95a6-64a93a4fc2af",
   "metadata": {},
   "outputs": [
    {
     "data": {
      "text/plain": [
       "array([ 0,  1,  2,  3,  4,  5,  6,  7,  8,  9, 10, 11, 12, 13, 14, 15, 16,\n",
       "       17, 18, 19, 20, 21, 22, 23, 24, 25, 26, 27, 28, 29, 30, 31, 32, 33,\n",
       "       34, 35, 36, 37, 38, 39, 40, 41, 42, 43, 44, 45, 46, 47, 48, 49, 50,\n",
       "       51, 52, 53, 54, 55, 56, 57, 58, 59, 60, 61, 62, 63, 64, 65, 66, 67,\n",
       "       68, 69, 70, 71, 72, 73, 74, 75, 76, 77, 78, 79, 80, 81, 82, 83, 84,\n",
       "       85, 86, 87, 88, 89, 90, 91, 92], dtype=uint16)"
      ]
     },
     "execution_count": 30,
     "metadata": {},
     "output_type": "execute_result"
    }
   ],
   "source": [
    "np.unique(unpadded_zstack[5])"
   ]
  },
  {
   "cell_type": "code",
   "execution_count": null,
   "id": "2e22333b-6bf5-40cc-b4dd-1d25a007899a",
   "metadata": {},
   "outputs": [],
   "source": [
    "from matplotlib.image import imread"
   ]
  },
  {
   "cell_type": "code",
   "execution_count": null,
   "id": "907d0489-ac4f-4df7-b8df-f0aef956464c",
   "metadata": {},
   "outputs": [],
   "source": []
  },
  {
   "cell_type": "code",
   "execution_count": null,
   "id": "a70eb3aa-1f9b-4a0a-a38f-3b85346c277a",
   "metadata": {},
   "outputs": [],
   "source": []
  },
  {
   "cell_type": "code",
   "execution_count": 18,
   "id": "4c5e20ec-8953-4627-b975-d8429fc71daa",
   "metadata": {},
   "outputs": [
    {
     "data": {
      "text/plain": [
       "(8, 7600, 4628)"
      ]
     },
     "execution_count": 18,
     "metadata": {},
     "output_type": "execute_result"
    }
   ],
   "source": []
  },
  {
   "cell_type": "code",
   "execution_count": 220,
   "id": "08afe535-ce53-4f42-8fef-e50b0616fb3f",
   "metadata": {},
   "outputs": [
    {
     "data": {
      "text/plain": [
       "array([[0, 0, 0, ..., 0, 0, 0],\n",
       "       [0, 0, 0, ..., 0, 0, 0],\n",
       "       [0, 0, 0, ..., 0, 0, 0],\n",
       "       ...,\n",
       "       [0, 0, 0, ..., 0, 0, 0],\n",
       "       [0, 0, 0, ..., 0, 0, 0],\n",
       "       [0, 0, 0, ..., 0, 0, 0]], dtype=uint16)"
      ]
     },
     "execution_count": 220,
     "metadata": {},
     "output_type": "execute_result"
    }
   ],
   "source": [
    "cellpose_pred_image"
   ]
  },
  {
   "cell_type": "code",
   "execution_count": 222,
   "id": "b4e99e4e-ac7a-4396-8fa5-67bb6911d9b3",
   "metadata": {},
   "outputs": [],
   "source": [
    "plane = cellpose_pred_image\n",
    "\n",
    "x_dim, y_dim = plane.shape"
   ]
  },
  {
   "cell_type": "code",
   "execution_count": 223,
   "id": "6c9dfd74-3a30-4429-a7c3-ff439ac4a924",
   "metadata": {},
   "outputs": [
    {
     "data": {
      "text/plain": [
       "array([ 0,  1,  2,  3,  4,  5,  6,  7,  8,  9, 10, 11, 12, 13, 14, 15, 16,\n",
       "       17, 18, 19, 20, 21, 22, 23, 24, 25, 26, 27, 28, 29, 30, 31, 32, 33,\n",
       "       34, 35, 36, 37, 38, 39, 40, 41, 42, 43, 44, 45, 46, 47, 48, 49, 50,\n",
       "       51, 52, 53, 54, 55, 56, 57, 58, 59, 60, 61, 62, 63, 64, 65, 66, 67,\n",
       "       68, 69, 70, 71, 72, 73, 74, 75, 76, 77, 78, 79, 80, 81, 82, 83, 84,\n",
       "       85, 86, 87, 88, 89, 90, 91, 92], dtype=uint16)"
      ]
     },
     "execution_count": 223,
     "metadata": {},
     "output_type": "execute_result"
    }
   ],
   "source": [
    "np.unique(cellpose_pred_image)"
   ]
  },
  {
   "cell_type": "code",
   "execution_count": null,
   "id": "6cb5c6ed-c0b3-4077-84a7-fe43b2663349",
   "metadata": {},
   "outputs": [],
   "source": []
  },
  {
   "cell_type": "code",
   "execution_count": 224,
   "id": "20af6b97-72d8-4e76-a66e-3580ef757573",
   "metadata": {},
   "outputs": [],
   "source": [
    "tmp_array = np.zeros((x_dim, y_dim), dtype='uint8')\n",
    "tmp_array[np.where(plane == 26)] = 1\n",
    "tmp_contours = measure.find_contours(tmp_array, level = 0)[0]\n",
    "tmp_roi = Polygon(tmp_contours)"
   ]
  },
  {
   "cell_type": "code",
   "execution_count": 225,
   "id": "4c76dd06-ee79-40b6-bad4-96a004933a2a",
   "metadata": {},
   "outputs": [
    {
     "data": {
      "image/svg+xml": [
       "<svg xmlns=\"http://www.w3.org/2000/svg\" xmlns:xlink=\"http://www.w3.org/1999/xlink\" width=\"100.0\" height=\"100.0\" viewBox=\"4162.64 2379.64 76.71999999999935 90.72000000000025\" preserveAspectRatio=\"xMinYMin meet\"><g transform=\"matrix(1,0,0,-1,0,4850.0)\"><path fill-rule=\"evenodd\" fill=\"#66cc99\" stroke=\"#555555\" stroke-width=\"1.8144000000000051\" opacity=\"0.6\" d=\"M 4236.0,2445.0 L 4236.0,2444.0 L 4236.0,2443.0 L 4236.0,2442.0 L 4236.0,2441.0 L 4236.0,2440.0 L 4236.0,2439.0 L 4236.0,2438.0 L 4235.0,2437.0 L 4235.0,2436.0 L 4234.0,2435.0 L 4233.0,2434.0 L 4233.0,2433.0 L 4232.0,2432.0 L 4232.0,2431.0 L 4232.0,2430.0 L 4231.0,2429.0 L 4231.0,2428.0 L 4231.0,2427.0 L 4231.0,2426.0 L 4231.0,2425.0 L 4231.0,2424.0 L 4230.0,2423.0 L 4230.0,2422.0 L 4230.0,2421.0 L 4230.0,2420.0 L 4231.0,2419.0 L 4231.0,2418.0 L 4231.0,2417.0 L 4231.0,2416.0 L 4231.0,2415.0 L 4231.0,2414.0 L 4231.0,2413.0 L 4231.0,2412.0 L 4231.0,2411.0 L 4231.0,2410.0 L 4231.0,2409.0 L 4231.0,2408.0 L 4231.0,2407.0 L 4231.0,2406.0 L 4231.0,2405.0 L 4231.0,2404.0 L 4231.0,2403.0 L 4231.0,2402.0 L 4230.0,2401.0 L 4230.0,2400.0 L 4230.0,2399.0 L 4229.0,2398.0 L 4229.0,2397.0 L 4228.0,2396.0 L 4227.0,2395.0 L 4226.0,2394.0 L 4225.0,2393.0 L 4224.0,2392.0 L 4223.0,2391.0 L 4222.0,2391.0 L 4221.0,2390.0 L 4220.0,2389.0 L 4219.0,2389.0 L 4218.0,2388.0 L 4217.0,2388.0 L 4216.0,2387.0 L 4215.0,2386.0 L 4214.0,2386.0 L 4213.0,2385.0 L 4212.0,2385.0 L 4211.0,2385.0 L 4210.0,2384.0 L 4209.0,2384.0 L 4208.0,2384.0 L 4207.0,2383.0 L 4206.0,2383.0 L 4205.0,2383.0 L 4204.0,2383.0 L 4203.0,2383.0 L 4202.0,2383.0 L 4201.0,2383.0 L 4200.0,2383.0 L 4199.0,2383.0 L 4198.0,2383.0 L 4197.0,2383.0 L 4196.0,2383.0 L 4195.0,2384.0 L 4194.0,2384.0 L 4193.0,2384.0 L 4192.0,2385.0 L 4191.0,2385.0 L 4190.0,2386.0 L 4189.0,2386.0 L 4188.0,2387.0 L 4187.0,2388.0 L 4186.0,2389.0 L 4185.0,2390.0 L 4184.0,2391.0 L 4183.0,2392.0 L 4182.0,2393.0 L 4182.0,2394.0 L 4181.0,2395.0 L 4180.0,2396.0 L 4180.0,2397.0 L 4180.0,2398.0 L 4179.0,2399.0 L 4179.0,2400.0 L 4178.0,2401.0 L 4178.0,2402.0 L 4178.0,2403.0 L 4178.0,2404.0 L 4177.0,2405.0 L 4177.0,2406.0 L 4177.0,2407.0 L 4176.0,2408.0 L 4176.0,2409.0 L 4176.0,2410.0 L 4175.0,2411.0 L 4175.0,2412.0 L 4174.0,2413.0 L 4174.0,2414.0 L 4173.0,2415.0 L 4172.0,2416.0 L 4172.0,2417.0 L 4171.0,2418.0 L 4171.0,2419.0 L 4170.0,2420.0 L 4170.0,2421.0 L 4169.0,2422.0 L 4169.0,2423.0 L 4168.0,2424.0 L 4168.0,2425.0 L 4168.0,2426.0 L 4167.0,2427.0 L 4167.0,2428.0 L 4167.0,2429.0 L 4167.0,2430.0 L 4166.0,2431.0 L 4166.0,2432.0 L 4166.0,2433.0 L 4166.0,2434.0 L 4166.0,2435.0 L 4166.0,2436.0 L 4166.0,2437.0 L 4166.0,2438.0 L 4167.0,2439.0 L 4167.0,2440.0 L 4167.0,2441.0 L 4167.0,2442.0 L 4167.0,2443.0 L 4168.0,2444.0 L 4168.0,2445.0 L 4169.0,2446.0 L 4169.0,2447.0 L 4170.0,2448.0 L 4170.0,2449.0 L 4171.0,2450.0 L 4172.0,2451.0 L 4172.0,2452.0 L 4173.0,2453.0 L 4174.0,2454.0 L 4174.0,2455.0 L 4175.0,2456.0 L 4176.0,2457.0 L 4177.0,2458.0 L 4178.0,2459.0 L 4179.0,2460.0 L 4180.0,2461.0 L 4181.0,2461.0 L 4182.0,2462.0 L 4183.0,2463.0 L 4184.0,2463.0 L 4185.0,2464.0 L 4186.0,2464.0 L 4187.0,2465.0 L 4188.0,2465.0 L 4189.0,2465.0 L 4190.0,2466.0 L 4191.0,2466.0 L 4192.0,2466.0 L 4193.0,2467.0 L 4194.0,2467.0 L 4195.0,2467.0 L 4196.0,2467.0 L 4197.0,2467.0 L 4198.0,2467.0 L 4199.0,2467.0 L 4200.0,2467.0 L 4201.0,2467.0 L 4202.0,2466.0 L 4203.0,2466.0 L 4204.0,2466.0 L 4205.0,2465.0 L 4206.0,2465.0 L 4207.0,2465.0 L 4208.0,2464.0 L 4209.0,2464.0 L 4210.0,2463.0 L 4211.0,2463.0 L 4212.0,2462.0 L 4213.0,2462.0 L 4214.0,2461.0 L 4215.0,2461.0 L 4216.0,2460.0 L 4217.0,2460.0 L 4218.0,2459.0 L 4219.0,2459.0 L 4220.0,2458.0 L 4221.0,2458.0 L 4222.0,2457.0 L 4223.0,2457.0 L 4224.0,2456.0 L 4225.0,2456.0 L 4226.0,2455.0 L 4227.0,2455.0 L 4228.0,2454.0 L 4229.0,2453.0 L 4230.0,2453.0 L 4231.0,2452.0 L 4232.0,2451.0 L 4233.0,2450.0 L 4234.0,2449.0 L 4234.0,2448.0 L 4235.0,2447.0 L 4235.0,2446.0 L 4236.0,2445.0 z\" /></g></svg>"
      ],
      "text/plain": [
       "<shapely.geometry.polygon.Polygon at 0x7f4fdef03f10>"
      ]
     },
     "execution_count": 225,
     "metadata": {},
     "output_type": "execute_result"
    }
   ],
   "source": [
    "tmp_roi"
   ]
  },
  {
   "cell_type": "code",
   "execution_count": 226,
   "id": "1f2765eb-e870-4386-99fd-8a35c656528c",
   "metadata": {},
   "outputs": [
    {
     "data": {
      "text/plain": [
       "4201"
      ]
     },
     "execution_count": 226,
     "metadata": {},
     "output_type": "execute_result"
    }
   ],
   "source": [
    "round(tmp_roi.centroid.x)"
   ]
  },
  {
   "cell_type": "code",
   "execution_count": 227,
   "id": "7ed7dc13-889b-4a16-91e1-9d89c2c68fbf",
   "metadata": {},
   "outputs": [],
   "source": [
    "centroid_x, centroid_y = round(tmp_roi.centroid.x), round(tmp_roi.centroid.y)"
   ]
  },
  {
   "cell_type": "code",
   "execution_count": 228,
   "id": "95625536-4530-43f1-888d-bdcb50bfe6f8",
   "metadata": {},
   "outputs": [],
   "source": [
    "cminx, cmaxx = centroid_x - 150, centroid_x + 150\n",
    "cminy, cmaxy = centroid_y - 150, centroid_y + 150"
   ]
  },
  {
   "cell_type": "code",
   "execution_count": 235,
   "id": "8e194726-f34a-40f0-baa3-e453c84d396e",
   "metadata": {},
   "outputs": [
    {
     "data": {
      "text/plain": [
       "4051"
      ]
     },
     "execution_count": 235,
     "metadata": {},
     "output_type": "execute_result"
    }
   ],
   "source": [
    "cminx"
   ]
  },
  {
   "cell_type": "code",
   "execution_count": 219,
   "id": "5b04f019-407b-44ed-aae9-93890fd2d426",
   "metadata": {},
   "outputs": [],
   "source": [
    "cellpose_pred_image = imread(path + cellpose_preds[5])\n",
    "#cellpose_pred_image = cellpose_pred_image[2500:5000, 1500:3000]\n"
   ]
  },
  {
   "cell_type": "code",
   "execution_count": 236,
   "id": "c9891e8d-8d01-4427-bfd5-ccbfa49b9805",
   "metadata": {},
   "outputs": [],
   "source": [
    "boundary_x_coords, boundary_y_coords = np.asarray(tmp_roi.boundary.xy[0]) - cminx, np.asarray(tmp_roi.boundary.xy[1]) - cminy"
   ]
  },
  {
   "cell_type": "code",
   "execution_count": null,
   "id": "a42f0d12-3a21-4158-a4df-b8f7a11887cd",
   "metadata": {},
   "outputs": [],
   "source": []
  },
  {
   "cell_type": "code",
   "execution_count": 241,
   "id": "cd948165-a651-4164-a011-594cbd8149a0",
   "metadata": {},
   "outputs": [
    {
     "data": {
      "text/plain": [
       "[<matplotlib.lines.Line2D at 0x7f4fdeb25490>]"
      ]
     },
     "execution_count": 241,
     "metadata": {},
     "output_type": "execute_result"
    },
    {
     "data": {
      "image/png": "[encoded data removed]",
      "text/plain": [
       "<Figure size 432x288 with 1 Axes>"
      ]
     },
     "metadata": {
      "needs_background": "light"
     },
     "output_type": "display_data"
    }
   ],
   "source": [
    "plt.imshow(cellpose_pred_image[cminx:cmaxx, cminy:cmaxy])\n",
    "plt.plot(boundary_y_coords, boundary_x_coords, c='red', lw=3)"
   ]
  },
  {
   "cell_type": "code",
   "execution_count": 243,
   "id": "104cfb0d-20e8-495d-adac-ec1020053220",
   "metadata": {},
   "outputs": [
    {
     "data": {
      "text/plain": [
       "[<matplotlib.lines.Line2D at 0x7f4fdea26610>]"
      ]
     },
     "execution_count": 243,
     "metadata": {},
     "output_type": "execute_result"
    },
    {
     "data": {
      "image/png": "[encoded data removed]",
      "text/plain": [
       "<Figure size 432x288 with 1 Axes>"
      ]
     },
     "metadata": {
      "needs_background": "light"
     },
     "output_type": "display_data"
    }
   ],
   "source": [
    "plt.imshow(preprocessed_image[cminx:cmaxx, cminy:cmaxy])\n",
    "plt.plot(boundary_y_coords, boundary_x_coords, c='red', lw=3)"
   ]
  },
  {
   "cell_type": "code",
   "execution_count": 215,
   "id": "b9bfb90e-98c6-4826-8877-3c0129ab7e75",
   "metadata": {},
   "outputs": [
    {
     "data": {
      "text/plain": [
       "array([446., 445., 444., 443., 442., 441., 440., 439., 438., 437., 436.,\n",
       "       435., 434., 433., 432., 431., 430., 429., 428., 427., 426., 425.,\n",
       "       424., 423., 422., 421., 420., 419., 418., 417., 416., 415., 414.,\n",
       "       413., 412., 411., 410., 409., 408., 407., 406., 405., 404., 403.,\n",
       "       402., 401., 400., 399., 398., 397., 396., 395., 394., 393., 392.,\n",
       "       392., 391., 390., 390., 389., 389., 388., 387., 387., 386., 386.,\n",
       "       386., 385., 385., 385., 384., 384., 384., 384., 384., 384., 384.,\n",
       "       384., 384., 384., 384., 384., 385., 385., 385., 386., 386., 387.,\n",
       "       387., 388., 389., 390., 391., 392., 393., 394., 395., 396., 397.,\n",
       "       398., 399., 400., 401., 402., 403., 404., 405., 406., 407., 408.,\n",
       "       409., 410., 411., 412., 413., 414., 415., 416., 417., 418., 419.,\n",
       "       420., 421., 422., 423., 424., 425., 426., 427., 428., 429., 430.,\n",
       "       431., 432., 433., 434., 435., 436., 437., 438., 439., 440., 441.,\n",
       "       442., 443., 444., 445., 446., 447., 448., 449., 450., 451., 452.,\n",
       "       453., 454., 455., 456., 457., 458., 459., 460., 461., 462., 462.,\n",
       "       463., 464., 464., 465., 465., 466., 466., 466., 467., 467., 467.,\n",
       "       468., 468., 468., 468., 468., 468., 468., 468., 468., 467., 467.,\n",
       "       467., 466., 466., 466., 465., 465., 464., 464., 463., 463., 462.,\n",
       "       462., 461., 461., 460., 460., 459., 459., 458., 458., 457., 457.,\n",
       "       456., 456., 455., 454., 454., 453., 452., 451., 450., 449., 448.,\n",
       "       447., 446.])"
      ]
     },
     "execution_count": 215,
     "metadata": {},
     "output_type": "execute_result"
    }
   ],
   "source": [
    "np.asarray(tmp_roi.boundary.xy[1]) - 500"
   ]
  },
  {
   "cell_type": "code",
   "execution_count": 158,
   "id": "6ae647dd-0ec2-4055-b280-e35e85aa9d74",
   "metadata": {},
   "outputs": [
    {
     "data": {
      "text/plain": [
       "'/mnt/c/Users/dsege/TEMP/test_project2/05_instance_segmentations/'"
      ]
     },
     "execution_count": 158,
     "metadata": {},
     "output_type": "execute_result"
    }
   ],
   "source": [
    "path"
   ]
  },
  {
   "cell_type": "code",
   "execution_count": 159,
   "id": "af8263ee-bdbf-437c-ad30-0bb75ce89786",
   "metadata": {},
   "outputs": [
    {
     "data": {
      "text/plain": [
       "'0000-005.png_class1.tif'"
      ]
     },
     "execution_count": 159,
     "metadata": {},
     "output_type": "execute_result"
    }
   ],
   "source": [
    "cellpose_preds[5]"
   ]
  },
  {
   "cell_type": "code",
   "execution_count": 144,
   "id": "0a7adeea-aee9-4963-b6b9-f39ed4445725",
   "metadata": {},
   "outputs": [],
   "source": [
    "file_id = '0000'"
   ]
  },
  {
   "cell_type": "code",
   "execution_count": 145,
   "id": "6e1e73a7-fce6-4656-b24b-10e86c6b3ee7",
   "metadata": {},
   "outputs": [
    {
     "data": {
      "text/plain": [
       "['0000-000.png',\n",
       " '0000-001.png',\n",
       " '0000-002.png',\n",
       " '0000-003.png',\n",
       " '0000-004.png',\n",
       " '0000-005.png',\n",
       " '0000-006.png',\n",
       " '0000-007.png']"
      ]
     },
     "execution_count": 145,
     "metadata": {},
     "output_type": "execute_result"
    }
   ],
   "source": [
    "preprocessed_path = '/mnt/c/Users/dsege/TEMP/test_project2/03_preprocessed_images/'\n",
    "preprocessed_filenames = [filename for filename in os.listdir(preprocessed_path) if filename.startswith(file_id)]\n",
    "\n",
    "preprocessed_filenames"
   ]
  },
  {
   "cell_type": "code",
   "execution_count": 152,
   "id": "01ef1534-ff33-452f-b37c-16f0ac99319c",
   "metadata": {},
   "outputs": [],
   "source": [
    "from matplotlib.image import imread"
   ]
  },
  {
   "cell_type": "code",
   "execution_count": 242,
   "id": "baf580eb-ce84-44ee-a61b-ee83c4df05f0",
   "metadata": {},
   "outputs": [
    {
     "data": {
      "text/plain": [
       "numpy.ndarray"
      ]
     },
     "execution_count": 242,
     "metadata": {},
     "output_type": "execute_result"
    }
   ],
   "source": [
    "preprocessed_image = imread(preprocessed_path + preprocessed_filenames[5])\n",
    "type(preprocessed_image)"
   ]
  },
  {
   "cell_type": "code",
   "execution_count": 157,
   "id": "ab749c92-6bfc-466e-ad6a-6de76a624c89",
   "metadata": {},
   "outputs": [
    {
     "data": {
      "text/plain": [
       "<matplotlib.image.AxesImage at 0x7f4fdf2b1710>"
      ]
     },
     "execution_count": 157,
     "metadata": {},
     "output_type": "execute_result"
    },
    {
     "data": {
      "image/png": "[encoded data removed]",
      "text/plain": [
       "<Figure size 432x288 with 1 Axes>"
      ]
     },
     "metadata": {
      "needs_background": "light"
     },
     "output_type": "display_data"
    }
   ],
   "source": [
    "plt.imshow(preprocessed_image)"
   ]
  },
  {
   "cell_type": "code",
   "execution_count": 151,
   "id": "cd1a0cea-b2c8-4337-b137-7dbe210f348d",
   "metadata": {},
   "outputs": [
    {
     "ename": "ValueError",
     "evalue": "bad mode 'RGB'",
     "output_type": "error",
     "traceback": [
      "\u001b[0;31m---------------------------------------------------------------------------\u001b[0m",
      "\u001b[0;31mValueError\u001b[0m                                Traceback (most recent call last)",
      "\u001b[0;32m/tmp/ipykernel_743/2824799174.py\u001b[0m in \u001b[0;36m<module>\u001b[0;34m\u001b[0m\n\u001b[0;32m----> 1\u001b[0;31m \u001b[0mpreprocessed_image\u001b[0m \u001b[0;34m=\u001b[0m \u001b[0mImage\u001b[0m\u001b[0;34m.\u001b[0m\u001b[0mopen\u001b[0m\u001b[0;34m(\u001b[0m\u001b[0mpreprocessed_path\u001b[0m \u001b[0;34m+\u001b[0m \u001b[0mpreprocessed_filenames\u001b[0m\u001b[0;34m[\u001b[0m\u001b[0;36m5\u001b[0m\u001b[0;34m]\u001b[0m\u001b[0;34m,\u001b[0m \u001b[0mmode\u001b[0m\u001b[0;34m=\u001b[0m\u001b[0;34m'RGB'\u001b[0m\u001b[0;34m)\u001b[0m\u001b[0;34m\u001b[0m\u001b[0;34m\u001b[0m\u001b[0m\n\u001b[0m\u001b[1;32m      2\u001b[0m \u001b[0mpreprocessed_image\u001b[0m \u001b[0;34m=\u001b[0m \u001b[0mnp\u001b[0m\u001b[0;34m.\u001b[0m\u001b[0masarray\u001b[0m\u001b[0;34m(\u001b[0m\u001b[0mpreprocessed_image\u001b[0m\u001b[0;34m)\u001b[0m\u001b[0;34m\u001b[0m\u001b[0;34m\u001b[0m\u001b[0m\n",
      "\u001b[0;32m~/anaconda3/envs/DCLwidgets_clone/lib/python3.7/site-packages/PIL/Image.py\u001b[0m in \u001b[0;36mopen\u001b[0;34m(fp, mode, formats)\u001b[0m\n\u001b[1;32m   2953\u001b[0m \u001b[0;34m\u001b[0m\u001b[0m\n\u001b[1;32m   2954\u001b[0m     \u001b[0;32mif\u001b[0m \u001b[0mmode\u001b[0m \u001b[0;34m!=\u001b[0m \u001b[0;34m\"r\"\u001b[0m\u001b[0;34m:\u001b[0m\u001b[0;34m\u001b[0m\u001b[0;34m\u001b[0m\u001b[0m\n\u001b[0;32m-> 2955\u001b[0;31m         \u001b[0;32mraise\u001b[0m \u001b[0mValueError\u001b[0m\u001b[0;34m(\u001b[0m\u001b[0;34mf\"bad mode {repr(mode)}\"\u001b[0m\u001b[0;34m)\u001b[0m\u001b[0;34m\u001b[0m\u001b[0;34m\u001b[0m\u001b[0m\n\u001b[0m\u001b[1;32m   2956\u001b[0m     \u001b[0;32melif\u001b[0m \u001b[0misinstance\u001b[0m\u001b[0;34m(\u001b[0m\u001b[0mfp\u001b[0m\u001b[0;34m,\u001b[0m \u001b[0mio\u001b[0m\u001b[0;34m.\u001b[0m\u001b[0mStringIO\u001b[0m\u001b[0;34m)\u001b[0m\u001b[0;34m:\u001b[0m\u001b[0;34m\u001b[0m\u001b[0;34m\u001b[0m\u001b[0m\n\u001b[1;32m   2957\u001b[0m         raise ValueError(\n",
      "\u001b[0;31mValueError\u001b[0m: bad mode 'RGB'"
     ]
    }
   ],
   "source": [
    "preprocessed_image = Image.open(preprocessed_path + preprocessed_filenames[5], mode='RGB')\n",
    "preprocessed_image = np.asarray(preprocessed_image)"
   ]
  },
  {
   "cell_type": "code",
   "execution_count": 149,
   "id": "53e7a7f4-0383-4f11-ad53-60220f18e789",
   "metadata": {},
   "outputs": [
    {
     "data": {
      "text/plain": [
       "(7598, 4626, 3)"
      ]
     },
     "execution_count": 149,
     "metadata": {},
     "output_type": "execute_result"
    }
   ],
   "source": [
    "preprocessed_image.shape"
   ]
  },
  {
   "cell_type": "code",
   "execution_count": 150,
   "id": "ab0831ff-1e11-4d02-8f99-72f07671b908",
   "metadata": {},
   "outputs": [
    {
     "ename": "ValueError",
     "evalue": "The truth value of an array with more than one element is ambiguous. Use a.any() or a.all()",
     "output_type": "error",
     "traceback": [
      "\u001b[0;31m---------------------------------------------------------------------------\u001b[0m",
      "\u001b[0;31mValueError\u001b[0m                                Traceback (most recent call last)",
      "\u001b[0;32m/tmp/ipykernel_743/3800829662.py\u001b[0m in \u001b[0;36m<module>\u001b[0;34m\u001b[0m\n\u001b[0;32m----> 1\u001b[0;31m \u001b[0mplt\u001b[0m\u001b[0;34m.\u001b[0m\u001b[0mshow\u001b[0m\u001b[0;34m(\u001b[0m\u001b[0mpreprocessed_image\u001b[0m\u001b[0;34m)\u001b[0m\u001b[0;34m\u001b[0m\u001b[0;34m\u001b[0m\u001b[0m\n\u001b[0m",
      "\u001b[0;32m~/anaconda3/envs/DCLwidgets_clone/lib/python3.7/site-packages/matplotlib/pyplot.py\u001b[0m in \u001b[0;36mshow\u001b[0;34m(*args, **kwargs)\u001b[0m\n\u001b[1;32m    366\u001b[0m     \"\"\"\n\u001b[1;32m    367\u001b[0m     \u001b[0m_warn_if_gui_out_of_main_thread\u001b[0m\u001b[0;34m(\u001b[0m\u001b[0;34m)\u001b[0m\u001b[0;34m\u001b[0m\u001b[0;34m\u001b[0m\u001b[0m\n\u001b[0;32m--> 368\u001b[0;31m     \u001b[0;32mreturn\u001b[0m \u001b[0m_backend_mod\u001b[0m\u001b[0;34m.\u001b[0m\u001b[0mshow\u001b[0m\u001b[0;34m(\u001b[0m\u001b[0;34m*\u001b[0m\u001b[0margs\u001b[0m\u001b[0;34m,\u001b[0m \u001b[0;34m**\u001b[0m\u001b[0mkwargs\u001b[0m\u001b[0;34m)\u001b[0m\u001b[0;34m\u001b[0m\u001b[0;34m\u001b[0m\u001b[0m\n\u001b[0m\u001b[1;32m    369\u001b[0m \u001b[0;34m\u001b[0m\u001b[0m\n\u001b[1;32m    370\u001b[0m \u001b[0;34m\u001b[0m\u001b[0m\n",
      "\u001b[0;32m~/anaconda3/envs/DCLwidgets_clone/lib/python3.7/site-packages/matplotlib_inline/backend_inline.py\u001b[0m in \u001b[0;36mshow\u001b[0;34m(close, block)\u001b[0m\n\u001b[1;32m     47\u001b[0m         \u001b[0;31m# only call close('all') if any to close\u001b[0m\u001b[0;34m\u001b[0m\u001b[0;34m\u001b[0m\u001b[0;34m\u001b[0m\u001b[0m\n\u001b[1;32m     48\u001b[0m         \u001b[0;31m# close triggers gc.collect, which can be slow\u001b[0m\u001b[0;34m\u001b[0m\u001b[0;34m\u001b[0m\u001b[0;34m\u001b[0m\u001b[0m\n\u001b[0;32m---> 49\u001b[0;31m         \u001b[0;32mif\u001b[0m \u001b[0mclose\u001b[0m \u001b[0;32mand\u001b[0m \u001b[0mGcf\u001b[0m\u001b[0;34m.\u001b[0m\u001b[0mget_all_fig_managers\u001b[0m\u001b[0;34m(\u001b[0m\u001b[0;34m)\u001b[0m\u001b[0;34m:\u001b[0m\u001b[0;34m\u001b[0m\u001b[0;34m\u001b[0m\u001b[0m\n\u001b[0m\u001b[1;32m     50\u001b[0m             \u001b[0mmatplotlib\u001b[0m\u001b[0;34m.\u001b[0m\u001b[0mpyplot\u001b[0m\u001b[0;34m.\u001b[0m\u001b[0mclose\u001b[0m\u001b[0;34m(\u001b[0m\u001b[0;34m'all'\u001b[0m\u001b[0;34m)\u001b[0m\u001b[0;34m\u001b[0m\u001b[0;34m\u001b[0m\u001b[0m\n\u001b[1;32m     51\u001b[0m \u001b[0;34m\u001b[0m\u001b[0m\n",
      "\u001b[0;31mValueError\u001b[0m: The truth value of an array with more than one element is ambiguous. Use a.any() or a.all()"
     ]
    }
   ],
   "source": [
    "plt.show(preprocessed_image)"
   ]
  },
  {
   "cell_type": "code",
   "execution_count": 138,
   "id": "41ffced5-02e6-4c31-bdf3-e657fe660b84",
   "metadata": {},
   "outputs": [
    {
     "ename": "TypeError",
     "evalue": "Image data of dtype <U87 cannot be converted to float",
     "output_type": "error",
     "traceback": [
      "\u001b[0;31m---------------------------------------------------------------------------\u001b[0m",
      "\u001b[0;31mTypeError\u001b[0m                                 Traceback (most recent call last)",
      "\u001b[0;32m/tmp/ipykernel_743/1219504372.py\u001b[0m in \u001b[0;36m<module>\u001b[0;34m\u001b[0m\n\u001b[0;32m----> 1\u001b[0;31m \u001b[0mplt\u001b[0m\u001b[0;34m.\u001b[0m\u001b[0mimshow\u001b[0m\u001b[0;34m(\u001b[0m\u001b[0mpath\u001b[0m \u001b[0;34m+\u001b[0m \u001b[0mcellpose_preds\u001b[0m\u001b[0;34m[\u001b[0m\u001b[0;36m5\u001b[0m\u001b[0;34m]\u001b[0m\u001b[0;34m)\u001b[0m\u001b[0;34m\u001b[0m\u001b[0;34m\u001b[0m\u001b[0m\n\u001b[0m",
      "\u001b[0;32m~/anaconda3/envs/DCLwidgets_clone/lib/python3.7/site-packages/matplotlib/_api/deprecation.py\u001b[0m in \u001b[0;36mwrapper\u001b[0;34m(*args, **kwargs)\u001b[0m\n\u001b[1;32m    454\u001b[0m                 \u001b[0;34m\"parameter will become keyword-only %(removal)s.\"\u001b[0m\u001b[0;34m,\u001b[0m\u001b[0;34m\u001b[0m\u001b[0;34m\u001b[0m\u001b[0m\n\u001b[1;32m    455\u001b[0m                 name=name, obj_type=f\"parameter of {func.__name__}()\")\n\u001b[0;32m--> 456\u001b[0;31m         \u001b[0;32mreturn\u001b[0m \u001b[0mfunc\u001b[0m\u001b[0;34m(\u001b[0m\u001b[0;34m*\u001b[0m\u001b[0margs\u001b[0m\u001b[0;34m,\u001b[0m \u001b[0;34m**\u001b[0m\u001b[0mkwargs\u001b[0m\u001b[0;34m)\u001b[0m\u001b[0;34m\u001b[0m\u001b[0;34m\u001b[0m\u001b[0m\n\u001b[0m\u001b[1;32m    457\u001b[0m \u001b[0;34m\u001b[0m\u001b[0m\n\u001b[1;32m    458\u001b[0m     \u001b[0;31m# Don't modify *func*'s signature, as boilerplate.py needs it.\u001b[0m\u001b[0;34m\u001b[0m\u001b[0;34m\u001b[0m\u001b[0;34m\u001b[0m\u001b[0m\n",
      "\u001b[0;32m~/anaconda3/envs/DCLwidgets_clone/lib/python3.7/site-packages/matplotlib/pyplot.py\u001b[0m in \u001b[0;36mimshow\u001b[0;34m(X, cmap, norm, aspect, interpolation, alpha, vmin, vmax, origin, extent, interpolation_stage, filternorm, filterrad, resample, url, data, **kwargs)\u001b[0m\n\u001b[1;32m   2645\u001b[0m         \u001b[0mfilternorm\u001b[0m\u001b[0;34m=\u001b[0m\u001b[0mfilternorm\u001b[0m\u001b[0;34m,\u001b[0m \u001b[0mfilterrad\u001b[0m\u001b[0;34m=\u001b[0m\u001b[0mfilterrad\u001b[0m\u001b[0;34m,\u001b[0m \u001b[0mresample\u001b[0m\u001b[0;34m=\u001b[0m\u001b[0mresample\u001b[0m\u001b[0;34m,\u001b[0m\u001b[0;34m\u001b[0m\u001b[0;34m\u001b[0m\u001b[0m\n\u001b[1;32m   2646\u001b[0m         \u001b[0murl\u001b[0m\u001b[0;34m=\u001b[0m\u001b[0murl\u001b[0m\u001b[0;34m,\u001b[0m \u001b[0;34m**\u001b[0m\u001b[0;34m(\u001b[0m\u001b[0;34m{\u001b[0m\u001b[0;34m\"data\"\u001b[0m\u001b[0;34m:\u001b[0m \u001b[0mdata\u001b[0m\u001b[0;34m}\u001b[0m \u001b[0;32mif\u001b[0m \u001b[0mdata\u001b[0m \u001b[0;32mis\u001b[0m \u001b[0;32mnot\u001b[0m \u001b[0;32mNone\u001b[0m \u001b[0;32melse\u001b[0m \u001b[0;34m{\u001b[0m\u001b[0;34m}\u001b[0m\u001b[0;34m)\u001b[0m\u001b[0;34m,\u001b[0m\u001b[0;34m\u001b[0m\u001b[0;34m\u001b[0m\u001b[0m\n\u001b[0;32m-> 2647\u001b[0;31m         **kwargs)\n\u001b[0m\u001b[1;32m   2648\u001b[0m     \u001b[0msci\u001b[0m\u001b[0;34m(\u001b[0m\u001b[0m__ret\u001b[0m\u001b[0;34m)\u001b[0m\u001b[0;34m\u001b[0m\u001b[0;34m\u001b[0m\u001b[0m\n\u001b[1;32m   2649\u001b[0m     \u001b[0;32mreturn\u001b[0m \u001b[0m__ret\u001b[0m\u001b[0;34m\u001b[0m\u001b[0;34m\u001b[0m\u001b[0m\n",
      "\u001b[0;32m~/anaconda3/envs/DCLwidgets_clone/lib/python3.7/site-packages/matplotlib/_api/deprecation.py\u001b[0m in \u001b[0;36mwrapper\u001b[0;34m(*args, **kwargs)\u001b[0m\n\u001b[1;32m    454\u001b[0m                 \u001b[0;34m\"parameter will become keyword-only %(removal)s.\"\u001b[0m\u001b[0;34m,\u001b[0m\u001b[0;34m\u001b[0m\u001b[0;34m\u001b[0m\u001b[0m\n\u001b[1;32m    455\u001b[0m                 name=name, obj_type=f\"parameter of {func.__name__}()\")\n\u001b[0;32m--> 456\u001b[0;31m         \u001b[0;32mreturn\u001b[0m \u001b[0mfunc\u001b[0m\u001b[0;34m(\u001b[0m\u001b[0;34m*\u001b[0m\u001b[0margs\u001b[0m\u001b[0;34m,\u001b[0m \u001b[0;34m**\u001b[0m\u001b[0mkwargs\u001b[0m\u001b[0;34m)\u001b[0m\u001b[0;34m\u001b[0m\u001b[0;34m\u001b[0m\u001b[0m\n\u001b[0m\u001b[1;32m    457\u001b[0m \u001b[0;34m\u001b[0m\u001b[0m\n\u001b[1;32m    458\u001b[0m     \u001b[0;31m# Don't modify *func*'s signature, as boilerplate.py needs it.\u001b[0m\u001b[0;34m\u001b[0m\u001b[0;34m\u001b[0m\u001b[0;34m\u001b[0m\u001b[0m\n",
      "\u001b[0;32m~/anaconda3/envs/DCLwidgets_clone/lib/python3.7/site-packages/matplotlib/__init__.py\u001b[0m in \u001b[0;36minner\u001b[0;34m(ax, data, *args, **kwargs)\u001b[0m\n\u001b[1;32m   1410\u001b[0m     \u001b[0;32mdef\u001b[0m \u001b[0minner\u001b[0m\u001b[0;34m(\u001b[0m\u001b[0max\u001b[0m\u001b[0;34m,\u001b[0m \u001b[0;34m*\u001b[0m\u001b[0margs\u001b[0m\u001b[0;34m,\u001b[0m \u001b[0mdata\u001b[0m\u001b[0;34m=\u001b[0m\u001b[0;32mNone\u001b[0m\u001b[0;34m,\u001b[0m \u001b[0;34m**\u001b[0m\u001b[0mkwargs\u001b[0m\u001b[0;34m)\u001b[0m\u001b[0;34m:\u001b[0m\u001b[0;34m\u001b[0m\u001b[0;34m\u001b[0m\u001b[0m\n\u001b[1;32m   1411\u001b[0m         \u001b[0;32mif\u001b[0m \u001b[0mdata\u001b[0m \u001b[0;32mis\u001b[0m \u001b[0;32mNone\u001b[0m\u001b[0;34m:\u001b[0m\u001b[0;34m\u001b[0m\u001b[0;34m\u001b[0m\u001b[0m\n\u001b[0;32m-> 1412\u001b[0;31m             \u001b[0;32mreturn\u001b[0m \u001b[0mfunc\u001b[0m\u001b[0;34m(\u001b[0m\u001b[0max\u001b[0m\u001b[0;34m,\u001b[0m \u001b[0;34m*\u001b[0m\u001b[0mmap\u001b[0m\u001b[0;34m(\u001b[0m\u001b[0msanitize_sequence\u001b[0m\u001b[0;34m,\u001b[0m \u001b[0margs\u001b[0m\u001b[0;34m)\u001b[0m\u001b[0;34m,\u001b[0m \u001b[0;34m**\u001b[0m\u001b[0mkwargs\u001b[0m\u001b[0;34m)\u001b[0m\u001b[0;34m\u001b[0m\u001b[0;34m\u001b[0m\u001b[0m\n\u001b[0m\u001b[1;32m   1413\u001b[0m \u001b[0;34m\u001b[0m\u001b[0m\n\u001b[1;32m   1414\u001b[0m         \u001b[0mbound\u001b[0m \u001b[0;34m=\u001b[0m \u001b[0mnew_sig\u001b[0m\u001b[0;34m.\u001b[0m\u001b[0mbind\u001b[0m\u001b[0;34m(\u001b[0m\u001b[0max\u001b[0m\u001b[0;34m,\u001b[0m \u001b[0;34m*\u001b[0m\u001b[0margs\u001b[0m\u001b[0;34m,\u001b[0m \u001b[0;34m**\u001b[0m\u001b[0mkwargs\u001b[0m\u001b[0;34m)\u001b[0m\u001b[0;34m\u001b[0m\u001b[0;34m\u001b[0m\u001b[0m\n",
      "\u001b[0;32m~/anaconda3/envs/DCLwidgets_clone/lib/python3.7/site-packages/matplotlib/axes/_axes.py\u001b[0m in \u001b[0;36mimshow\u001b[0;34m(self, X, cmap, norm, aspect, interpolation, alpha, vmin, vmax, origin, extent, interpolation_stage, filternorm, filterrad, resample, url, **kwargs)\u001b[0m\n\u001b[1;32m   5486\u001b[0m                               **kwargs)\n\u001b[1;32m   5487\u001b[0m \u001b[0;34m\u001b[0m\u001b[0m\n\u001b[0;32m-> 5488\u001b[0;31m         \u001b[0mim\u001b[0m\u001b[0;34m.\u001b[0m\u001b[0mset_data\u001b[0m\u001b[0;34m(\u001b[0m\u001b[0mX\u001b[0m\u001b[0;34m)\u001b[0m\u001b[0;34m\u001b[0m\u001b[0;34m\u001b[0m\u001b[0m\n\u001b[0m\u001b[1;32m   5489\u001b[0m         \u001b[0mim\u001b[0m\u001b[0;34m.\u001b[0m\u001b[0mset_alpha\u001b[0m\u001b[0;34m(\u001b[0m\u001b[0malpha\u001b[0m\u001b[0;34m)\u001b[0m\u001b[0;34m\u001b[0m\u001b[0;34m\u001b[0m\u001b[0m\n\u001b[1;32m   5490\u001b[0m         \u001b[0;32mif\u001b[0m \u001b[0mim\u001b[0m\u001b[0;34m.\u001b[0m\u001b[0mget_clip_path\u001b[0m\u001b[0;34m(\u001b[0m\u001b[0;34m)\u001b[0m \u001b[0;32mis\u001b[0m \u001b[0;32mNone\u001b[0m\u001b[0;34m:\u001b[0m\u001b[0;34m\u001b[0m\u001b[0;34m\u001b[0m\u001b[0m\n",
      "\u001b[0;32m~/anaconda3/envs/DCLwidgets_clone/lib/python3.7/site-packages/matplotlib/image.py\u001b[0m in \u001b[0;36mset_data\u001b[0;34m(self, A)\u001b[0m\n\u001b[1;32m    705\u001b[0m                 not np.can_cast(self._A.dtype, float, \"same_kind\")):\n\u001b[1;32m    706\u001b[0m             raise TypeError(\"Image data of dtype {} cannot be converted to \"\n\u001b[0;32m--> 707\u001b[0;31m                             \"float\".format(self._A.dtype))\n\u001b[0m\u001b[1;32m    708\u001b[0m \u001b[0;34m\u001b[0m\u001b[0m\n\u001b[1;32m    709\u001b[0m         \u001b[0;32mif\u001b[0m \u001b[0mself\u001b[0m\u001b[0;34m.\u001b[0m\u001b[0m_A\u001b[0m\u001b[0;34m.\u001b[0m\u001b[0mndim\u001b[0m \u001b[0;34m==\u001b[0m \u001b[0;36m3\u001b[0m \u001b[0;32mand\u001b[0m \u001b[0mself\u001b[0m\u001b[0;34m.\u001b[0m\u001b[0m_A\u001b[0m\u001b[0;34m.\u001b[0m\u001b[0mshape\u001b[0m\u001b[0;34m[\u001b[0m\u001b[0;34m-\u001b[0m\u001b[0;36m1\u001b[0m\u001b[0;34m]\u001b[0m \u001b[0;34m==\u001b[0m \u001b[0;36m1\u001b[0m\u001b[0;34m:\u001b[0m\u001b[0;34m\u001b[0m\u001b[0;34m\u001b[0m\u001b[0m\n",
      "\u001b[0;31mTypeError\u001b[0m: Image data of dtype <U87 cannot be converted to float"
     ]
    },
    {
     "data": {
      "image/png": "[encoded data removed]",
      "text/plain": [
       "<Figure size 432x288 with 1 Axes>"
      ]
     },
     "metadata": {
      "needs_background": "light"
     },
     "output_type": "display_data"
    }
   ],
   "source": [
    "plt.imshow(path + cellpose_preds[5])"
   ]
  },
  {
   "cell_type": "code",
   "execution_count": null,
   "id": "a600d7b2-5631-4ddd-b006-b9d5c6defa90",
   "metadata": {},
   "outputs": [],
   "source": []
  },
  {
   "cell_type": "code",
   "execution_count": null,
   "id": "5a713434-7f33-4699-b063-bfb6f65d89d1",
   "metadata": {},
   "outputs": [],
   "source": []
  },
  {
   "cell_type": "code",
   "execution_count": null,
   "id": "80dcea26-f208-443e-a63b-f67b044c4505",
   "metadata": {},
   "outputs": [],
   "source": []
  },
  {
   "cell_type": "code",
   "execution_count": null,
   "id": "877f5b40-bc22-48da-9ad0-db96360e8370",
   "metadata": {},
   "outputs": [],
   "source": []
  },
  {
   "cell_type": "code",
   "execution_count": 117,
   "id": "53e4c954-6262-4acb-9238-ac6e7db1b0fc",
   "metadata": {},
   "outputs": [],
   "source": [
    "minx, miny, maxx, maxy = tmp_roi.bounds"
   ]
  },
  {
   "cell_type": "code",
   "execution_count": 119,
   "id": "047a7d24-e8e0-4b3b-9fbe-d08cab88da36",
   "metadata": {},
   "outputs": [
    {
     "data": {
      "text/plain": [
       "884.0"
      ]
     },
     "execution_count": 119,
     "metadata": {},
     "output_type": "execute_result"
    }
   ],
   "source": [
    "miny"
   ]
  },
  {
   "cell_type": "code",
   "execution_count": 120,
   "id": "7f02efb3-b4c1-4dab-8293-060fd2c87a2a",
   "metadata": {},
   "outputs": [
    {
     "data": {
      "image/svg+xml": [
       "<svg xmlns=\"http://www.w3.org/2000/svg\" xmlns:xlink=\"http://www.w3.org/1999/xlink\" width=\"100.0\" height=\"100.0\" viewBox=\"1662.64 879.64 76.7199999999998 90.72000000000003\" preserveAspectRatio=\"xMinYMin meet\"><g transform=\"matrix(1,0,0,-1,0,1850.0)\"><path fill-rule=\"evenodd\" fill=\"#66cc99\" stroke=\"#555555\" stroke-width=\"1.8144000000000005\" opacity=\"0.6\" d=\"M 1736.0,945.0 L 1736.0,944.0 L 1736.0,943.0 L 1736.0,942.0 L 1736.0,941.0 L 1736.0,940.0 L 1736.0,939.0 L 1736.0,938.0 L 1735.0,937.0 L 1735.0,936.0 L 1734.0,935.0 L 1733.0,934.0 L 1733.0,933.0 L 1732.0,932.0 L 1732.0,931.0 L 1732.0,930.0 L 1731.0,929.0 L 1731.0,928.0 L 1731.0,927.0 L 1731.0,926.0 L 1731.0,925.0 L 1731.0,924.0 L 1730.0,923.0 L 1730.0,922.0 L 1730.0,921.0 L 1730.0,920.0 L 1731.0,919.0 L 1731.0,918.0 L 1731.0,917.0 L 1731.0,916.0 L 1731.0,915.0 L 1731.0,914.0 L 1731.0,913.0 L 1731.0,912.0 L 1731.0,911.0 L 1731.0,910.0 L 1731.0,909.0 L 1731.0,908.0 L 1731.0,907.0 L 1731.0,906.0 L 1731.0,905.0 L 1731.0,904.0 L 1731.0,903.0 L 1731.0,902.0 L 1730.0,901.0 L 1730.0,900.0 L 1730.0,899.0 L 1729.0,898.0 L 1729.0,897.0 L 1728.0,896.0 L 1727.0,895.0 L 1726.0,894.0 L 1725.0,893.0 L 1724.0,892.0 L 1723.0,891.0 L 1722.0,891.0 L 1721.0,890.0 L 1720.0,889.0 L 1719.0,889.0 L 1718.0,888.0 L 1717.0,888.0 L 1716.0,887.0 L 1715.0,886.0 L 1714.0,886.0 L 1713.0,885.0 L 1712.0,885.0 L 1711.0,885.0 L 1710.0,884.0 L 1709.0,884.0 L 1708.0,884.0 L 1707.0,883.0 L 1706.0,883.0 L 1705.0,883.0 L 1704.0,883.0 L 1703.0,883.0 L 1702.0,883.0 L 1701.0,883.0 L 1700.0,883.0 L 1699.0,883.0 L 1698.0,883.0 L 1697.0,883.0 L 1696.0,883.0 L 1695.0,884.0 L 1694.0,884.0 L 1693.0,884.0 L 1692.0,885.0 L 1691.0,885.0 L 1690.0,886.0 L 1689.0,886.0 L 1688.0,887.0 L 1687.0,888.0 L 1686.0,889.0 L 1685.0,890.0 L 1684.0,891.0 L 1683.0,892.0 L 1682.0,893.0 L 1682.0,894.0 L 1681.0,895.0 L 1680.0,896.0 L 1680.0,897.0 L 1680.0,898.0 L 1679.0,899.0 L 1679.0,900.0 L 1678.0,901.0 L 1678.0,902.0 L 1678.0,903.0 L 1678.0,904.0 L 1677.0,905.0 L 1677.0,906.0 L 1677.0,907.0 L 1676.0,908.0 L 1676.0,909.0 L 1676.0,910.0 L 1675.0,911.0 L 1675.0,912.0 L 1674.0,913.0 L 1674.0,914.0 L 1673.0,915.0 L 1672.0,916.0 L 1672.0,917.0 L 1671.0,918.0 L 1671.0,919.0 L 1670.0,920.0 L 1670.0,921.0 L 1669.0,922.0 L 1669.0,923.0 L 1668.0,924.0 L 1668.0,925.0 L 1668.0,926.0 L 1667.0,927.0 L 1667.0,928.0 L 1667.0,929.0 L 1667.0,930.0 L 1666.0,931.0 L 1666.0,932.0 L 1666.0,933.0 L 1666.0,934.0 L 1666.0,935.0 L 1666.0,936.0 L 1666.0,937.0 L 1666.0,938.0 L 1667.0,939.0 L 1667.0,940.0 L 1667.0,941.0 L 1667.0,942.0 L 1667.0,943.0 L 1668.0,944.0 L 1668.0,945.0 L 1669.0,946.0 L 1669.0,947.0 L 1670.0,948.0 L 1670.0,949.0 L 1671.0,950.0 L 1672.0,951.0 L 1672.0,952.0 L 1673.0,953.0 L 1674.0,954.0 L 1674.0,955.0 L 1675.0,956.0 L 1676.0,957.0 L 1677.0,958.0 L 1678.0,959.0 L 1679.0,960.0 L 1680.0,961.0 L 1681.0,961.0 L 1682.0,962.0 L 1683.0,963.0 L 1684.0,963.0 L 1685.0,964.0 L 1686.0,964.0 L 1687.0,965.0 L 1688.0,965.0 L 1689.0,965.0 L 1690.0,966.0 L 1691.0,966.0 L 1692.0,966.0 L 1693.0,967.0 L 1694.0,967.0 L 1695.0,967.0 L 1696.0,967.0 L 1697.0,967.0 L 1698.0,967.0 L 1699.0,967.0 L 1700.0,967.0 L 1701.0,967.0 L 1702.0,966.0 L 1703.0,966.0 L 1704.0,966.0 L 1705.0,965.0 L 1706.0,965.0 L 1707.0,965.0 L 1708.0,964.0 L 1709.0,964.0 L 1710.0,963.0 L 1711.0,963.0 L 1712.0,962.0 L 1713.0,962.0 L 1714.0,961.0 L 1715.0,961.0 L 1716.0,960.0 L 1717.0,960.0 L 1718.0,959.0 L 1719.0,959.0 L 1720.0,958.0 L 1721.0,958.0 L 1722.0,957.0 L 1723.0,957.0 L 1724.0,956.0 L 1725.0,956.0 L 1726.0,955.0 L 1727.0,955.0 L 1728.0,954.0 L 1729.0,953.0 L 1730.0,953.0 L 1731.0,952.0 L 1732.0,951.0 L 1733.0,950.0 L 1734.0,949.0 L 1734.0,948.0 L 1735.0,947.0 L 1735.0,946.0 L 1736.0,945.0 z\" /></g></svg>"
      ],
      "text/plain": [
       "<shapely.geometry.polygon.Polygon at 0x7f50308a1dd0>"
      ]
     },
     "execution_count": 120,
     "metadata": {},
     "output_type": "execute_result"
    }
   ],
   "source": [
    "plane = new_zstack[5]\n",
    "\n",
    "x_dim, y_dim = plane.shape\n",
    "\n",
    "tmp_array = np.zeros((x_dim, y_dim), dtype='uint8')\n",
    "tmp_array[np.where(plane == 2059)] = 1\n",
    "tmp_contours = measure.find_contours(tmp_array, level = 0)[0]\n",
    "tmp_roi = Polygon(tmp_contours)\n",
    "\n",
    "tmp_roi"
   ]
  },
  {
   "cell_type": "code",
   "execution_count": 122,
   "id": "e0e8e38d-dc3b-4c60-bfd8-202d794de6d0",
   "metadata": {},
   "outputs": [
    {
     "data": {
      "text/plain": [
       "(1666.0, 883.0, 1736.0, 967.0)"
      ]
     },
     "execution_count": 122,
     "metadata": {},
     "output_type": "execute_result"
    }
   ],
   "source": [
    "tmp_roi.bounds"
   ]
  },
  {
   "cell_type": "code",
   "execution_count": 123,
   "id": "7227fc28-59c1-4e3d-9167-43ad81254e16",
   "metadata": {},
   "outputs": [
    {
     "data": {
      "text/plain": [
       "(8, 2502, 1502)"
      ]
     },
     "execution_count": 123,
     "metadata": {},
     "output_type": "execute_result"
    }
   ],
   "source": [
    "zstack.shape"
   ]
  },
  {
   "cell_type": "code",
   "execution_count": 87,
   "id": "6dca4cf2-dcc7-42d5-8105-ad41058e76b0",
   "metadata": {
    "tags": []
   },
   "outputs": [
    {
     "data": {
      "text/plain": [
       "{'final_label_id_assigned': True,\n",
       " 'final_label_id': 2000,\n",
       " 'area': 3326.5,\n",
       " 'matching_ids_previous_plane': [],\n",
       " 'full_overlap_previous_plane': [],\n",
       " 'overlapping_area_previous_plane': [],\n",
       " 'IoUs_previous_plane': [],\n",
       " 'matching_ids_next_plane': [10],\n",
       " 'full_overlap_next_plane': [False],\n",
       " 'overlapping_area_next_plane': [0.9984969186833008],\n",
       " 'IoUs_next_plane': [0.9117485588800439],\n",
       " 'best_match_previous_plane': None,\n",
       " 'overlapping_area_best_match_previous_plane': None,\n",
       " 'IoU_best_match_previous_plane': None,\n",
       " 'best_match_next_plane': 10,\n",
       " 'overlapping_area_best_match_next_plane': 0.9984969186833008,\n",
       " 'IoU_best_match_next_plane': 0.9117485588800439}"
      ]
     },
     "execution_count": 87,
     "metadata": {},
     "output_type": "execute_result"
    }
   ],
   "source": [
    "results[0][5]"
   ]
  },
  {
   "cell_type": "code",
   "execution_count": 88,
   "id": "67a72ba9-9013-473d-85ac-6ce1ae165917",
   "metadata": {},
   "outputs": [
    {
     "data": {
      "text/plain": [
       "{'final_label_id_assigned': True,\n",
       " 'final_label_id': 2000,\n",
       " 'area': 3638.0,\n",
       " 'matching_ids_previous_plane': [5],\n",
       " 'full_overlap_previous_plane': [False],\n",
       " 'overlapping_area_previous_plane': [0.913001649257834],\n",
       " 'IoUs_previous_plane': [0.9117485588800439],\n",
       " 'matching_ids_next_plane': [12],\n",
       " 'full_overlap_next_plane': [False],\n",
       " 'overlapping_area_next_plane': [0.6668499175371083],\n",
       " 'IoUs_next_plane': [0.6639299397920088],\n",
       " 'best_match_previous_plane': 5,\n",
       " 'overlapping_area_best_match_previous_plane': 0.913001649257834,\n",
       " 'IoU_best_match_previous_plane': 0.9117485588800439,\n",
       " 'best_match_next_plane': 12,\n",
       " 'overlapping_area_best_match_next_plane': 0.6668499175371083,\n",
       " 'IoU_best_match_next_plane': 0.6639299397920088}"
      ]
     },
     "execution_count": 88,
     "metadata": {},
     "output_type": "execute_result"
    }
   ],
   "source": [
    "results[1][10]"
   ]
  },
  {
   "cell_type": "code",
   "execution_count": 89,
   "id": "2ccd50aa-160f-4d79-8cc5-16fca1b377d7",
   "metadata": {},
   "outputs": [
    {
     "data": {
      "text/plain": [
       "{'final_label_id_assigned': True,\n",
       " 'final_label_id': 2000,\n",
       " 'area': 2442.0,\n",
       " 'matching_ids_previous_plane': [10],\n",
       " 'full_overlap_previous_plane': [False],\n",
       " 'overlapping_area_previous_plane': [0.9934479934479934],\n",
       " 'IoUs_previous_plane': [0.6639299397920088],\n",
       " 'matching_ids_next_plane': [],\n",
       " 'full_overlap_next_plane': [],\n",
       " 'overlapping_area_next_plane': [],\n",
       " 'IoUs_next_plane': [],\n",
       " 'best_match_previous_plane': 10,\n",
       " 'overlapping_area_best_match_previous_plane': 0.9934479934479934,\n",
       " 'IoU_best_match_previous_plane': 0.6639299397920088,\n",
       " 'best_match_next_plane': None,\n",
       " 'overlapping_area_best_match_next_plane': None,\n",
       " 'IoU_best_match_next_plane': None}"
      ]
     },
     "execution_count": 89,
     "metadata": {},
     "output_type": "execute_result"
    }
   ],
   "source": [
    "results[2][12]"
   ]
  },
  {
   "cell_type": "code",
   "execution_count": 90,
   "id": "04c24467-64da-4403-ab24-20369d12992f",
   "metadata": {},
   "outputs": [
    {
     "data": {
      "text/plain": [
       "True"
      ]
     },
     "execution_count": 90,
     "metadata": {},
     "output_type": "execute_result"
    }
   ],
   "source": [
    "condition_a = 3 > 1\n",
    "\n",
    "condition_a"
   ]
  },
  {
   "cell_type": "code",
   "execution_count": 91,
   "id": "82edd883-074d-4824-b15e-e3108ea77638",
   "metadata": {},
   "outputs": [],
   "source": []
  },
  {
   "cell_type": "code",
   "execution_count": 92,
   "id": "80b63e90-c7d4-4f46-b304-7237de2f0844",
   "metadata": {},
   "outputs": [
    {
     "data": {
      "text/plain": [
       "[(2, 30), (3, 40), (4, 39), (5, 26)]"
      ]
     },
     "execution_count": 92,
     "metadata": {},
     "output_type": "execute_result"
    }
   ],
   "source": []
  },
  {
   "cell_type": "code",
   "execution_count": 97,
   "id": "48ea72cf-9c26-4ef0-8b74-364ed0bcbf7c",
   "metadata": {},
   "outputs": [
    {
     "data": {
      "text/plain": [
       "{'final_label_id_assigned': True,\n",
       " 'final_label_id': 2059,\n",
       " 'area': 4395.5,\n",
       " 'matching_ids_previous_plane': [39, 40],\n",
       " 'full_overlap_previous_plane': [False, False],\n",
       " 'overlapping_area_previous_plane': [0.42918894323740187, 0.5377658969400523],\n",
       " 'IoUs_previous_plane': [0.42156424581005586, 0.43147903071236254],\n",
       " 'matching_ids_next_plane': [12],\n",
       " 'full_overlap_next_plane': [False],\n",
       " 'overlapping_area_next_plane': [0.9430098964850415],\n",
       " 'IoUs_next_plane': [0.9087919315939487],\n",
       " 'best_match_previous_plane': None,\n",
       " 'overlapping_area_best_match_previous_plane': None,\n",
       " 'IoU_best_match_previous_plane': None,\n",
       " 'best_match_next_plane': 12,\n",
       " 'overlapping_area_best_match_next_plane': 0.9430098964850415,\n",
       " 'IoU_best_match_next_plane': 0.9087919315939487}"
      ]
     },
     "execution_count": 97,
     "metadata": {},
     "output_type": "execute_result"
    }
   ],
   "source": [
    "results[5][26]"
   ]
  },
  {
   "cell_type": "code",
   "execution_count": 96,
   "id": "648bb03f-2668-4511-b5cd-1cdc9e117e2f",
   "metadata": {},
   "outputs": [
    {
     "data": {
      "text/plain": [
       "{'plane_index': [0, 1, 2, 3, 4], 'original_label_id': [9, 23, 30, 40, 40]}"
      ]
     },
     "execution_count": 96,
     "metadata": {},
     "output_type": "execute_result"
    }
   ],
   "source": [
    "final_ids[2004]"
   ]
  },
  {
   "cell_type": "code",
   "execution_count": 98,
   "id": "49cc7636-97af-408e-a7f2-14b28f57899c",
   "metadata": {},
   "outputs": [
    {
     "data": {
      "text/plain": [
       "{'plane_index': [5, 6, 7], 'original_label_id': [26, 12, 4]}"
      ]
     },
     "execution_count": 98,
     "metadata": {},
     "output_type": "execute_result"
    }
   ],
   "source": [
    "final_ids[2059]"
   ]
  },
  {
   "cell_type": "code",
   "execution_count": 100,
   "id": "ed18fc7a-3a50-4fb4-8257-0334cb08a3aa",
   "metadata": {},
   "outputs": [
    {
     "data": {
      "text/plain": [
       "{'plane_index': [3, 4], 'original_label_id': [39, 39]}"
      ]
     },
     "execution_count": 100,
     "metadata": {},
     "output_type": "execute_result"
    }
   ],
   "source": [
    "final_ids[2033]"
   ]
  },
  {
   "cell_type": "code",
   "execution_count": 101,
   "id": "10cc4893-7a3b-43b7-83c5-bffbb166164c",
   "metadata": {},
   "outputs": [
    {
     "data": {
      "text/plain": [
       "{'final_label_id_assigned': True,\n",
       " 'final_label_id': 2033,\n",
       " 'area': 971.5,\n",
       " 'matching_ids_previous_plane': [30],\n",
       " 'full_overlap_previous_plane': [False],\n",
       " 'overlapping_area_previous_plane': [0.11219763252702007],\n",
       " 'IoUs_previous_plane': [0.0241872850327305],\n",
       " 'matching_ids_next_plane': [39],\n",
       " 'full_overlap_next_plane': [True],\n",
       " 'overlapping_area_next_plane': [1.0],\n",
       " 'IoUs_next_plane': [0.4941505595116989],\n",
       " 'best_match_previous_plane': None,\n",
       " 'overlapping_area_best_match_previous_plane': None,\n",
       " 'IoU_best_match_previous_plane': None,\n",
       " 'best_match_next_plane': 39,\n",
       " 'overlapping_area_best_match_next_plane': 1.0,\n",
       " 'IoU_best_match_next_plane': 0.4941505595116989}"
      ]
     },
     "execution_count": 101,
     "metadata": {},
     "output_type": "execute_result"
    }
   ],
   "source": [
    "results[3][39]"
   ]
  },
  {
   "cell_type": "code",
   "execution_count": 99,
   "id": "050dfef6-6ef3-4178-9223-a6cacf765614",
   "metadata": {},
   "outputs": [
    {
     "data": {
      "text/plain": [
       "{'final_label_id_assigned': True,\n",
       " 'final_label_id': 2033,\n",
       " 'area': 1966.0,\n",
       " 'matching_ids_previous_plane': [39, 40],\n",
       " 'full_overlap_previous_plane': [True, False],\n",
       " 'overlapping_area_previous_plane': [0.4941505595116989, 0.086088504577823],\n",
       " 'IoUs_previous_plane': [0.4941505595116989, 0.03165770399812953],\n",
       " 'matching_ids_next_plane': [26],\n",
       " 'full_overlap_next_plane': [False],\n",
       " 'overlapping_area_next_plane': [0.9595625635808749],\n",
       " 'IoUs_next_plane': [0.42156424581005586],\n",
       " 'best_match_previous_plane': 39,\n",
       " 'overlapping_area_best_match_previous_plane': 0.4941505595116989,\n",
       " 'IoU_best_match_previous_plane': 0.4941505595116989,\n",
       " 'best_match_next_plane': None,\n",
       " 'overlapping_area_best_match_next_plane': None,\n",
       " 'IoU_best_match_next_plane': None}"
      ]
     },
     "execution_count": 99,
     "metadata": {},
     "output_type": "execute_result"
    }
   ],
   "source": [
    "results[4][39]"
   ]
  },
  {
   "cell_type": "code",
   "execution_count": 102,
   "id": "10c2a890-a8cf-4604-9d88-16734b108f18",
   "metadata": {},
   "outputs": [
    {
     "data": {
      "text/plain": [
       "{'final_label_id_assigned': True,\n",
       " 'final_label_id': 2059,\n",
       " 'area': 4395.5,\n",
       " 'matching_ids_previous_plane': [39, 40],\n",
       " 'full_overlap_previous_plane': [False, False],\n",
       " 'overlapping_area_previous_plane': [0.42918894323740187, 0.5377658969400523],\n",
       " 'IoUs_previous_plane': [0.42156424581005586, 0.43147903071236254],\n",
       " 'matching_ids_next_plane': [12],\n",
       " 'full_overlap_next_plane': [False],\n",
       " 'overlapping_area_next_plane': [0.9430098964850415],\n",
       " 'IoUs_next_plane': [0.9087919315939487],\n",
       " 'best_match_previous_plane': None,\n",
       " 'overlapping_area_best_match_previous_plane': None,\n",
       " 'IoU_best_match_previous_plane': None,\n",
       " 'best_match_next_plane': 12,\n",
       " 'overlapping_area_best_match_next_plane': 0.9430098964850415,\n",
       " 'IoU_best_match_next_plane': 0.9087919315939487}"
      ]
     },
     "execution_count": 102,
     "metadata": {},
     "output_type": "execute_result"
    }
   ],
   "source": [
    "results[5][26]"
   ]
  },
  {
   "cell_type": "code",
   "execution_count": null,
   "id": "2055ecc4-6603-4bf8-95d0-8a59279a13e3",
   "metadata": {},
   "outputs": [],
   "source": []
  },
  {
   "cell_type": "code",
   "execution_count": 52,
   "id": "9ba8560e-77d5-4cc5-86d7-2f070a1fb85e",
   "metadata": {},
   "outputs": [
    {
     "data": {
      "text/plain": [
       "array([[[1, 1, 2, 2, 0, 0, 0, 0, 0, 0],\n",
       "        [1, 1, 2, 2, 0, 0, 0, 0, 0, 0],\n",
       "        [1, 1, 2, 2, 0, 0, 0, 0, 0, 0],\n",
       "        [0, 0, 0, 0, 0, 0, 0, 0, 0, 0],\n",
       "        [0, 0, 0, 0, 0, 0, 0, 0, 0, 0],\n",
       "        [0, 0, 0, 0, 0, 0, 0, 0, 0, 0],\n",
       "        [0, 0, 0, 0, 0, 0, 0, 0, 0, 0],\n",
       "        [0, 0, 0, 0, 0, 0, 0, 0, 0, 0],\n",
       "        [0, 0, 0, 0, 0, 0, 0, 0, 0, 0],\n",
       "        [0, 0, 0, 0, 0, 0, 0, 0, 0, 0]],\n",
       "\n",
       "       [[1, 1, 1, 0, 0, 0, 0, 0, 0, 0],\n",
       "        [1, 1, 1, 0, 0, 0, 0, 0, 0, 0],\n",
       "        [1, 1, 1, 0, 0, 0, 0, 0, 0, 0],\n",
       "        [0, 0, 0, 0, 0, 0, 0, 0, 0, 0],\n",
       "        [0, 0, 0, 3, 3, 3, 0, 0, 0, 0],\n",
       "        [0, 0, 0, 3, 3, 3, 0, 0, 0, 0],\n",
       "        [0, 0, 0, 3, 3, 3, 0, 0, 0, 0],\n",
       "        [0, 0, 0, 0, 0, 0, 0, 0, 0, 0],\n",
       "        [0, 0, 0, 0, 0, 0, 0, 0, 0, 0],\n",
       "        [0, 0, 0, 0, 0, 0, 0, 0, 0, 0]],\n",
       "\n",
       "       [[1, 1, 1, 0, 0, 0, 0, 0, 0, 0],\n",
       "        [1, 1, 1, 0, 0, 0, 0, 0, 0, 0],\n",
       "        [1, 1, 1, 0, 0, 0, 0, 0, 0, 0],\n",
       "        [0, 0, 0, 0, 0, 0, 0, 0, 0, 0],\n",
       "        [0, 0, 0, 3, 3, 3, 0, 0, 0, 0],\n",
       "        [0, 0, 0, 3, 3, 3, 0, 0, 0, 0],\n",
       "        [0, 0, 0, 3, 3, 3, 0, 0, 0, 0],\n",
       "        [0, 0, 0, 0, 0, 0, 0, 0, 4, 0],\n",
       "        [0, 0, 0, 0, 0, 0, 0, 4, 4, 4],\n",
       "        [0, 0, 0, 0, 0, 0, 0, 0, 4, 0]],\n",
       "\n",
       "       [[0, 0, 0, 0, 0, 0, 0, 0, 0, 0],\n",
       "        [0, 0, 0, 0, 0, 0, 0, 0, 0, 0],\n",
       "        [0, 0, 0, 0, 0, 0, 0, 0, 0, 0],\n",
       "        [0, 0, 0, 0, 0, 0, 0, 0, 0, 0],\n",
       "        [0, 0, 0, 3, 3, 3, 0, 0, 0, 0],\n",
       "        [0, 0, 0, 3, 3, 3, 0, 0, 0, 0],\n",
       "        [0, 0, 0, 0, 0, 0, 0, 0, 0, 0],\n",
       "        [0, 0, 0, 0, 0, 0, 0, 0, 4, 0],\n",
       "        [0, 5, 5, 0, 0, 0, 0, 4, 4, 4],\n",
       "        [0, 5, 5, 0, 0, 0, 0, 0, 4, 0]],\n",
       "\n",
       "       [[0, 0, 0, 0, 0, 0, 0, 0, 0, 0],\n",
       "        [0, 0, 0, 0, 0, 0, 0, 0, 0, 0],\n",
       "        [0, 0, 0, 0, 0, 0, 0, 0, 0, 0],\n",
       "        [0, 0, 0, 0, 0, 0, 0, 0, 0, 0],\n",
       "        [0, 0, 0, 0, 0, 0, 0, 0, 0, 0],\n",
       "        [0, 0, 0, 0, 0, 0, 0, 0, 0, 0],\n",
       "        [0, 0, 0, 0, 0, 0, 0, 0, 0, 0],\n",
       "        [0, 0, 0, 0, 0, 0, 0, 0, 0, 0],\n",
       "        [0, 5, 5, 0, 0, 0, 0, 0, 0, 0],\n",
       "        [0, 5, 5, 0, 0, 0, 0, 0, 0, 0]]], dtype=uint16)"
      ]
     },
     "execution_count": 52,
     "metadata": {},
     "output_type": "execute_result"
    }
   ],
   "source": [
    "labels_out_new_zstack"
   ]
  },
  {
   "cell_type": "code",
   "execution_count": null,
   "id": "47470947-164c-4956-ad42-cef3413b6c66",
   "metadata": {},
   "outputs": [],
   "source": []
  }
 ],
 "metadata": {
  "kernelspec": {
   "display_name": "Python 3 (ipykernel)",
   "language": "python",
   "name": "python3"
  },
  "language_info": {
   "codemirror_mode": {
    "name": "ipython",
    "version": 3
   },
   "file_extension": ".py",
   "mimetype": "text/x-python",
   "name": "python",
   "nbconvert_exporter": "python",
   "pygments_lexer": "ipython3",
   "version": "3.7.12"
  }
 },
 "nbformat": 4,
 "nbformat_minor": 5
}
