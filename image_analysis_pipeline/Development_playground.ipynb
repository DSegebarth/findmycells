{
 "cells": [
  {
   "cell_type": "code",
   "execution_count": 1,
   "id": "568314ef-08cc-44fb-be00-37e6f68b5869",
   "metadata": {},
   "outputs": [],
   "source": [
    "from pathlib import Path"
   ]
  },
  {
   "cell_type": "markdown",
   "id": "a6c273b4-65c0-4a00-b71e-35460c1d077e",
   "metadata": {},
   "source": [
    "Next steps:\n",
    "\n",
    " - load ROIs (or create one with shape of the image)\n",
    " - make adaptations to database:\n",
    "   - ~use Path objects to enable continous integration~\n",
    "   - ~rename deepflash2_dir to segmentation_tool_dir~\n",
    "   - create sorted list of all preprocessing steps (i.e. preprocessing strategies)\n",
    " - adapt main\n",
    " - function that saves preprocessed images\n",
    "\n",
    " - Minimal preprocessing steps are:\n",
    "    - save the \"unprocessed\" microscopy images to the preprocessed_dir\n",
    "    - load the unprocessed ROIs into the database (create ROI with shape of image if whole image is to be analyzed)"
   ]
  },
  {
   "cell_type": "code",
   "execution_count": null,
   "id": "b7919fda-794d-4735-b615-f426321df9f4",
   "metadata": {},
   "outputs": [],
   "source": []
  },
  {
   "cell_type": "code",
   "execution_count": 13,
   "id": "c1fd3960-ef21-4ff1-9cb2-a830d761011c",
   "metadata": {},
   "outputs": [],
   "source": [
    "hunde = list()\n",
    "katzen = list()\n",
    "for x in hunde:\n",
    "    katzen.append(x)\n",
    "    "
   ]
  },
  {
   "cell_type": "code",
   "execution_count": 14,
   "id": "749b9d79-cfb5-40b8-aa34-5c7fb909b18f",
   "metadata": {},
   "outputs": [
    {
     "data": {
      "text/plain": [
       "[]"
      ]
     },
     "execution_count": 14,
     "metadata": {},
     "output_type": "execute_result"
    }
   ],
   "source": [
    "katzen"
   ]
  },
  {
   "cell_type": "code",
   "execution_count": null,
   "id": "2af5ea2e-62b4-4890-b16a-65025d9c9519",
   "metadata": {},
   "outputs": [],
   "source": []
  },
  {
   "cell_type": "code",
   "execution_count": 2,
   "id": "ffcbf1e1-0e52-45da-8605-346ec98aa478",
   "metadata": {},
   "outputs": [],
   "source": [
    "project_root_dir = Path('/mnt/c/Users/dsege/TEMP/test_project2/')"
   ]
  },
  {
   "cell_type": "code",
   "execution_count": 12,
   "id": "0daaf827-68d7-41fb-b776-212fc9596d92",
   "metadata": {},
   "outputs": [
    {
     "data": {
      "text/plain": [
       "'/mnt/c/Users/dsege/TEMP/test_project2/merge_error_example_file_id_0000_plane_5_centroid_x_4201_y_2426.png'"
      ]
     },
     "execution_count": 12,
     "metadata": {},
     "output_type": "execute_result"
    }
   ],
   "source": [
    "project_root_dir.joinpath(elem).as_posix()"
   ]
  },
  {
   "cell_type": "code",
   "execution_count": 10,
   "id": "1846f57b-abe1-43f7-9488-316a0d81e843",
   "metadata": {},
   "outputs": [
    {
     "data": {
      "text/plain": [
       "PosixPath('/mnt/c/Users/dsege/TEMP/test_project2/merge_error_example_file_id_0000_plane_5_centroid_x_4201_y_2426.png')"
      ]
     },
     "execution_count": 10,
     "metadata": {},
     "output_type": "execute_result"
    }
   ],
   "source": [
    "elem"
   ]
  },
  {
   "cell_type": "code",
   "execution_count": 10,
   "id": "2a862d86-ebbb-4d9f-a4f1-a26788151de7",
   "metadata": {},
   "outputs": [
    {
     "data": {
      "text/plain": [
       "True"
      ]
     },
     "execution_count": 10,
     "metadata": {},
     "output_type": "execute_result"
    }
   ],
   "source": [
    "project_root_dir.is_dir()"
   ]
  },
  {
   "cell_type": "code",
   "execution_count": 15,
   "id": "3953188b-1dbd-4931-b81f-7cb540b2dd41",
   "metadata": {},
   "outputs": [
    {
     "data": {
      "text/plain": [
       "PosixPath('/mnt/c/Users/dsege/TEMP/test_project2')"
      ]
     },
     "execution_count": 15,
     "metadata": {},
     "output_type": "execute_result"
    }
   ],
   "source": [
    "project_root_dir"
   ]
  },
  {
   "cell_type": "code",
   "execution_count": null,
   "id": "39a4a408-254f-40d7-b1e7-79e1cdf19b59",
   "metadata": {},
   "outputs": [],
   "source": [
    "self.project_root_dir + [elem for elem in subdirectories if 'microscopy' in elem][0] + '/'"
   ]
  },
  {
   "cell_type": "code",
   "execution_count": 27,
   "id": "9d5dd650-809a-4ac3-a059-43b8e956091f",
   "metadata": {},
   "outputs": [
    {
     "data": {
      "text/plain": [
       "['00_microscopy_images',\n",
       " '01_rois_to_analyze',\n",
       " '02_preprocessed_images',\n",
       " '03_deepflash2',\n",
       " '04_binary_segmentations',\n",
       " '05_instance_segmentations',\n",
       " '06_inspection',\n",
       " '07_results',\n",
       " 'for_sofie',\n",
       " 'for_sofie.zip',\n",
       " 'intermediate',\n",
       " 'merge_error_example_file_id_0000_plane_5_centroid_x_4201_y_2426.png']"
      ]
     },
     "execution_count": 27,
     "metadata": {},
     "output_type": "execute_result"
    }
   ],
   "source": [
    "subdirectories"
   ]
  },
  {
   "cell_type": "code",
   "execution_count": 13,
   "id": "9c60ec87-1550-445a-8e2c-32b436d5b153",
   "metadata": {},
   "outputs": [],
   "source": [
    "import os\n",
    "def listdir_nohidden(path):\n",
    "    return [f for f in os.listdir(path) if f.startswith('.') == False]"
   ]
  },
  {
   "cell_type": "code",
   "execution_count": 16,
   "id": "d3939d87-37d3-4123-9d36-d8e55e98a571",
   "metadata": {},
   "outputs": [],
   "source": [
    "subdirectories = listdir_nohidden(path = project_root_dir)"
   ]
  },
  {
   "cell_type": "code",
   "execution_count": 33,
   "id": "54a73aaf-94ad-48c6-8c99-1e3711b32b55",
   "metadata": {},
   "outputs": [
    {
     "data": {
      "text/plain": [
       "\u001b[0;31mSignature:\u001b[0m  \u001b[0mmicroscopy_image_dir\u001b[0m\u001b[0;34m.\u001b[0m\u001b[0mmkdir\u001b[0m\u001b[0;34m(\u001b[0m\u001b[0mmode\u001b[0m\u001b[0;34m=\u001b[0m\u001b[0;36m511\u001b[0m\u001b[0;34m,\u001b[0m \u001b[0mparents\u001b[0m\u001b[0;34m=\u001b[0m\u001b[0;32mFalse\u001b[0m\u001b[0;34m,\u001b[0m \u001b[0mexist_ok\u001b[0m\u001b[0;34m=\u001b[0m\u001b[0;32mFalse\u001b[0m\u001b[0;34m)\u001b[0m\u001b[0;34m\u001b[0m\u001b[0;34m\u001b[0m\u001b[0m\n",
       "\u001b[0;31mDocstring:\u001b[0m Create a new directory at this given path.\n",
       "\u001b[0;31mFile:\u001b[0m      ~/anaconda3/envs/DCLwidgets_clone/lib/python3.7/pathlib.py\n",
       "\u001b[0;31mType:\u001b[0m      method\n"
      ]
     },
     "metadata": {},
     "output_type": "display_data"
    }
   ],
   "source": [
    "? microscopy_image_dir.mkdir"
   ]
  },
  {
   "cell_type": "code",
   "execution_count": 28,
   "id": "553ceb23-5870-4d34-aca2-dc3d37a4b537",
   "metadata": {},
   "outputs": [],
   "source": [
    "subdirectory_attributes = {'rois_to_analyze_dir': {'foldername': '01_rois_to_analyze',\n",
    "                                                   'key_substring': 'rois'},\n",
    "                           'preprocessed_images_dir': {'foldername': '02_preprocessed_images',\n",
    "                                                       'key_substring': 'preprocessed'},\n",
    "                           'deepflash2_dir': {'foldername': '03_deepflash2',\n",
    "                                              'key_substring': 'deepflash'},\n",
    "                           'binary_segmentations_dir': {'foldername': '04_binary_segmentations',\n",
    "                                                        'key_substring': 'binary'},\n",
    "                           'instance_segmentations_dir': {'foldername': '05_instance_segmentations',\n",
    "                                                          'key_substring': 'instance'},\n",
    "                           'inspection_dir': {'foldername': '06_inspection',\n",
    "                                              'key_substring': 'inspection'},\n",
    "                           'results_dir': {'foldername': '07_results',\n",
    "                                           'key_substring': 'results'}}\n"
   ]
  },
  {
   "cell_type": "code",
   "execution_count": null,
   "id": "b2f4dc56-05ce-42fa-8e29-50792a88872b",
   "metadata": {},
   "outputs": [],
   "source": [
    "for attribute_key in subdirectory_attributes.keys():\n",
    "    elements_matching_key_substring = [elem for elem in subdirectories if subdirectory_attributes[attribute_key]['key_substring'] in elem]\n",
    "    if len(elements_matching_key_substring) > 0:\n",
    "        for matching_element in elements_matching_key_substring:\n",
    "            if (project_root_dir.joinpath(matching_element).is_dir()) & (hasattr(self, attribute_key) == False):\n",
    "                setattr(self, attribute_key, project_root_dir.joinpath(matching_element))\n",
    "    if hasattr(self, attribute_key) == False:\n",
    "        subdirectory_path = project_root_dir.joinpath(subdirectory_attributes[attribute_key]['foldername'])\n",
    "        subdirectory_path.mkdir()\n",
    "        setattr(self, attribute_key, subdirectory_path)\n",
    "                \n",
    "                "
   ]
  },
  {
   "cell_type": "code",
   "execution_count": null,
   "id": "4aa00488-c46f-4390-a4f2-d8c882d0c9a2",
   "metadata": {},
   "outputs": [],
   "source": []
  },
  {
   "cell_type": "code",
   "execution_count": 19,
   "id": "d0861cab-21d7-474e-b1eb-d2645a18970a",
   "metadata": {},
   "outputs": [],
   "source": [
    "folder = [elem for elem in subdirectories if 'microscopy' in elem][0]"
   ]
  },
  {
   "cell_type": "code",
   "execution_count": 23,
   "id": "0ff4ecd1-e8c6-4e19-a91a-178cfb3fd476",
   "metadata": {},
   "outputs": [],
   "source": [
    "microscopy_image_dir = project_root_dir.joinpath('hund')"
   ]
  },
  {
   "cell_type": "code",
   "execution_count": 29,
   "id": "f5dda9bf-05e7-4e6e-8002-cae6a58167ab",
   "metadata": {},
   "outputs": [
    {
     "data": {
      "text/plain": [
       "False"
      ]
     },
     "execution_count": 29,
     "metadata": {},
     "output_type": "execute_result"
    }
   ],
   "source": [
    "project_root_dir.joinpath('hund').is_dir()\n",
    "    "
   ]
  },
  {
   "cell_type": "code",
   "execution_count": 26,
   "id": "44b4e714-17fa-4321-b8fa-064ad35c0756",
   "metadata": {},
   "outputs": [
    {
     "data": {
      "text/plain": [
       "PosixPath('/mnt/c/Users/dsege/TEMP/test_project2/hund')"
      ]
     },
     "execution_count": 26,
     "metadata": {},
     "output_type": "execute_result"
    }
   ],
   "source": [
    "microscopy_image_dir"
   ]
  },
  {
   "cell_type": "code",
   "execution_count": null,
   "id": "a2ec393f-08aa-474d-8294-f2d9aa5ab7af",
   "metadata": {},
   "outputs": [],
   "source": [
    "from findmycells.main import Project\n",
    "import os\n",
    "import pandas as pd\n",
    "from datetime import datetime"
   ]
  }
 ],
 "metadata": {
  "kernelspec": {
   "display_name": "Python 3 (ipykernel)",
   "language": "python",
   "name": "python3"
  },
  "language_info": {
   "codemirror_mode": {
    "name": "ipython",
    "version": 3
   },
   "file_extension": ".py",
   "mimetype": "text/x-python",
   "name": "python",
   "nbconvert_exporter": "python",
   "pygments_lexer": "ipython3",
   "version": "3.7.12"
  }
 },
 "nbformat": 4,
 "nbformat_minor": 5
}
