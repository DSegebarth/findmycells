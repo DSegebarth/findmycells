{
 "cells": [
  {
   "cell_type": "markdown",
   "id": "a6c273b4-65c0-4a00-b71e-35460c1d077e",
   "metadata": {},
   "source": [
    "Next steps:\n",
    "\n",
    " - load ROIs (or create one with shape of the image)\n",
    " - make adaptations to database:\n",
    "   - ~use Path objects to enable continous integration~\n",
    "   - ~rename deepflash2_dir to segmentation_tool_dir~\n",
    "   - create sorted list of all preprocessing steps (i.e. preprocessing strategies)\n",
    " - adapt main\n",
    " - function that saves preprocessed images\n",
    "\n",
    " - Minimal preprocessing steps are:\n",
    "    - save the \"unprocessed\" microscopy images to the preprocessed_dir\n",
    "    - load the unprocessed ROIs into the database (create ROI with shape of image if whole image is to be analyzed)"
   ]
  },
  {
   "cell_type": "code",
   "execution_count": 37,
   "id": "568314ef-08cc-44fb-be00-37e6f68b5869",
   "metadata": {},
   "outputs": [],
   "source": [
    "from pathlib import Path\n",
    "from shapely.geometry import Polygon\n",
    "import roifile\n",
    "import numpy as np"
   ]
  },
  {
   "cell_type": "code",
   "execution_count": 65,
   "id": "b7919fda-794d-4735-b615-f426321df9f4",
   "metadata": {},
   "outputs": [],
   "source": [
    "roi_filepath = Path('/mnt/c/Users/dsege/TEMP/test_project2/01_rois_to_analyze/tg/#5_tg_old/#hund.roi')"
   ]
  },
  {
   "cell_type": "code",
   "execution_count": 57,
   "id": "7ea77698-0f6b-4025-aa11-b4d0108b5d71",
   "metadata": {},
   "outputs": [],
   "source": [
    "roi_filepath = Path('/mnt/c/Users/dsege/TEMP/test_project2/01_rois_to_analyze/tg/#5_tg_old/RoiSet.zip')"
   ]
  },
  {
   "cell_type": "code",
   "execution_count": 47,
   "id": "ce5f8645-a1e5-4f12-a6fa-c085d0754bf6",
   "metadata": {},
   "outputs": [
    {
     "data": {
      "text/plain": [
       "False"
      ]
     },
     "execution_count": 47,
     "metadata": {},
     "output_type": "execute_result"
    }
   ],
   "source": [
    "roi_filepath.name.endswith('.zip')"
   ]
  },
  {
   "cell_type": "code",
   "execution_count": 53,
   "id": "367e51cc-ae5b-48e1-acf8-a06d58952bfc",
   "metadata": {},
   "outputs": [
    {
     "data": {
      "text/plain": [
       "True"
      ]
     },
     "execution_count": 53,
     "metadata": {},
     "output_type": "execute_result"
    }
   ],
   "source": [
    "'.zip' in ['.roi', '.zip']"
   ]
  },
  {
   "cell_type": "code",
   "execution_count": 61,
   "id": "7e4ce74a-fff0-48d6-8276-a89e66ba357f",
   "metadata": {},
   "outputs": [
    {
     "data": {
      "text/plain": [
       "'0240-0268'"
      ]
     },
     "execution_count": 61,
     "metadata": {},
     "output_type": "execute_result"
    }
   ],
   "source": [
    "loaded_rois[1].name"
   ]
  },
  {
   "cell_type": "code",
   "execution_count": 66,
   "id": "9d970e4b-5987-4b8f-8470-e6af93aab732",
   "metadata": {},
   "outputs": [
    {
     "ename": "FileNotFoundError",
     "evalue": "[Errno 2] No such file or directory: '/mnt/c/Users/dsege/TEMP/test_project2/01_rois_to_analyze/tg/#5_tg_old/#hund.roi'",
     "output_type": "error",
     "traceback": [
      "\u001b[0;31m---------------------------------------------------------------------------\u001b[0m",
      "\u001b[0;31mFileNotFoundError\u001b[0m                         Traceback (most recent call last)",
      "\u001b[0;32m/tmp/ipykernel_725/633608376.py\u001b[0m in \u001b[0;36m<module>\u001b[0;34m\u001b[0m\n\u001b[1;32m      1\u001b[0m \u001b[0;32mif\u001b[0m \u001b[0mroi_filepath\u001b[0m\u001b[0;34m.\u001b[0m\u001b[0mname\u001b[0m\u001b[0;34m.\u001b[0m\u001b[0mendswith\u001b[0m\u001b[0;34m(\u001b[0m\u001b[0;34m'.roi'\u001b[0m\u001b[0;34m)\u001b[0m\u001b[0;34m:\u001b[0m\u001b[0;34m\u001b[0m\u001b[0;34m\u001b[0m\u001b[0m\n\u001b[0;32m----> 2\u001b[0;31m     \u001b[0mloaded_rois\u001b[0m \u001b[0;34m=\u001b[0m \u001b[0;34m[\u001b[0m\u001b[0mroifile\u001b[0m\u001b[0;34m.\u001b[0m\u001b[0mImagejRoi\u001b[0m\u001b[0;34m.\u001b[0m\u001b[0mfromfile\u001b[0m\u001b[0;34m(\u001b[0m\u001b[0mroi_filepath\u001b[0m\u001b[0;34m)\u001b[0m\u001b[0;34m]\u001b[0m\u001b[0;34m\u001b[0m\u001b[0;34m\u001b[0m\u001b[0m\n\u001b[0m\u001b[1;32m      3\u001b[0m \u001b[0;32melif\u001b[0m \u001b[0mroi_filepath\u001b[0m\u001b[0;34m.\u001b[0m\u001b[0mname\u001b[0m\u001b[0;34m.\u001b[0m\u001b[0mendswith\u001b[0m\u001b[0;34m(\u001b[0m\u001b[0;34m'.zip'\u001b[0m\u001b[0;34m)\u001b[0m\u001b[0;34m:\u001b[0m\u001b[0;34m\u001b[0m\u001b[0;34m\u001b[0m\u001b[0m\n\u001b[1;32m      4\u001b[0m     \u001b[0mloaded_rois\u001b[0m \u001b[0;34m=\u001b[0m \u001b[0mroifile\u001b[0m\u001b[0;34m.\u001b[0m\u001b[0mImagejRoi\u001b[0m\u001b[0;34m.\u001b[0m\u001b[0mfromfile\u001b[0m\u001b[0;34m(\u001b[0m\u001b[0mroi_filepath\u001b[0m\u001b[0;34m)\u001b[0m\u001b[0;34m\u001b[0m\u001b[0;34m\u001b[0m\u001b[0m\n\u001b[1;32m      5\u001b[0m \u001b[0;32melse\u001b[0m\u001b[0;34m:\u001b[0m\u001b[0;34m\u001b[0m\u001b[0;34m\u001b[0m\u001b[0m\n",
      "\u001b[0;32m~/anaconda3/envs/DCLwidgets_clone/lib/python3.7/site-packages/roifile/roifile.py\u001b[0m in \u001b[0;36mfromfile\u001b[0;34m(cls, filename)\u001b[0m\n\u001b[1;32m    390\u001b[0m                 ]\n\u001b[1;32m    391\u001b[0m \u001b[0;34m\u001b[0m\u001b[0m\n\u001b[0;32m--> 392\u001b[0;31m         \u001b[0;32mwith\u001b[0m \u001b[0mopen\u001b[0m\u001b[0;34m(\u001b[0m\u001b[0mfilename\u001b[0m\u001b[0;34m,\u001b[0m \u001b[0;34m'rb'\u001b[0m\u001b[0;34m)\u001b[0m \u001b[0;32mas\u001b[0m \u001b[0mfh\u001b[0m\u001b[0;34m:\u001b[0m\u001b[0;34m\u001b[0m\u001b[0;34m\u001b[0m\u001b[0m\n\u001b[0m\u001b[1;32m    393\u001b[0m             \u001b[0mdata\u001b[0m \u001b[0;34m=\u001b[0m \u001b[0mfh\u001b[0m\u001b[0;34m.\u001b[0m\u001b[0mread\u001b[0m\u001b[0;34m(\u001b[0m\u001b[0;34m)\u001b[0m\u001b[0;34m\u001b[0m\u001b[0;34m\u001b[0m\u001b[0m\n\u001b[1;32m    394\u001b[0m         \u001b[0;32mreturn\u001b[0m \u001b[0mcls\u001b[0m\u001b[0;34m.\u001b[0m\u001b[0mfrombytes\u001b[0m\u001b[0;34m(\u001b[0m\u001b[0mdata\u001b[0m\u001b[0;34m)\u001b[0m\u001b[0;34m\u001b[0m\u001b[0;34m\u001b[0m\u001b[0m\n",
      "\u001b[0;31mFileNotFoundError\u001b[0m: [Errno 2] No such file or directory: '/mnt/c/Users/dsege/TEMP/test_project2/01_rois_to_analyze/tg/#5_tg_old/#hund.roi'"
     ]
    }
   ],
   "source": [
    "if roi_filepath.name.endswith('.roi'):\n",
    "    loaded_rois = [roifile.ImagejRoi.fromfile(roi_filepath)]\n",
    "elif roi_filepath.name.endswith('.zip'):\n",
    "    loaded_rois = roifile.ImagejRoi.fromfile(roi_filepath)\n",
    "else:\n",
    "    filetype = roi_filepath.name[roi_filepath.name.find('.'):]\n",
    "    raise ValueError(f'ImageJROIReader cannot handle files of type {filetype}')\n",
    "\n",
    "rois_as_shapely_polygons = {'all_planes': dict()}\n",
    "roi_count = len(loaded_rois)\n",
    "for roi_index in range(roi_count):\n",
    "    row_coords = loaded_rois[roi_index].coordinates()[:, 1]\n",
    "    col_coords = loaded_rois[roi_index].coordinates()[:, 0]\n",
    "    if roi_count > 1:\n",
    "        rois_as_shapely_polygons['all_planes'][loaded_rois[roi_index].name] = Polygon(np.asarray(list(zip(row_coords, col_coords))))\n",
    "    else:\n",
    "        rois_as_shapely_polygons['all_planes'][str(roi_index).zfill(3)] = Polygon(np.asarray(list(zip(row_coords, col_coords)))) \n"
   ]
  },
  {
   "cell_type": "code",
   "execution_count": 85,
   "id": "40bceb9a-7b38-434e-bcdd-ecc73e08ec8e",
   "metadata": {},
   "outputs": [
    {
     "data": {
      "text/plain": [
       "[289.0, 371.0, 371.0, 289.0, 289.0]"
      ]
     },
     "execution_count": 85,
     "metadata": {},
     "output_type": "execute_result"
    }
   ],
   "source": [
    "row_coords"
   ]
  },
  {
   "cell_type": "code",
   "execution_count": 95,
   "id": "e0ccd590-c245-4125-baff-46f7ed0efc96",
   "metadata": {},
   "outputs": [
    {
     "data": {
      "text/plain": [
       "[284.0, 366.0, 366.0, 284.0, 284.0]"
      ]
     },
     "execution_count": 95,
     "metadata": {},
     "output_type": "execute_result"
    }
   ],
   "source": [
    "row_coords = [row - 5 for row in row_coords]\n",
    "row_coords"
   ]
  },
  {
   "cell_type": "code",
   "execution_count": 87,
   "id": "9a980d3a-a77f-487a-a135-8b954a837bdf",
   "metadata": {},
   "outputs": [],
   "source": [
    "a = np.asarray(row_coords)"
   ]
  },
  {
   "cell_type": "code",
   "execution_count": 88,
   "id": "1fa60ed2-97e8-4515-b6c5-7059acb9eb7a",
   "metadata": {},
   "outputs": [],
   "source": [
    "a -= 5"
   ]
  },
  {
   "cell_type": "code",
   "execution_count": 89,
   "id": "9d6b51d9-d35d-42ab-9955-0a313f285c0d",
   "metadata": {},
   "outputs": [
    {
     "data": {
      "text/plain": [
       "array([284., 366., 366., 284., 284.])"
      ]
     },
     "execution_count": 89,
     "metadata": {},
     "output_type": "execute_result"
    }
   ],
   "source": [
    "a"
   ]
  },
  {
   "cell_type": "code",
   "execution_count": 93,
   "id": "5a27ae8b-ab04-4d5c-8e14-1fad31d53932",
   "metadata": {},
   "outputs": [
    {
     "data": {
      "image/svg+xml": [
       "<svg xmlns=\"http://www.w3.org/2000/svg\" xmlns:xlink=\"http://www.w3.org/1999/xlink\" width=\"100.0\" height=\"100.0\" viewBox=\"285.72 376.72 88.55999999999995 52.559999999999945\" preserveAspectRatio=\"xMinYMin meet\"><g transform=\"matrix(1,0,0,-1,0,806.0)\"><path fill-rule=\"evenodd\" fill=\"#66cc99\" stroke=\"#555555\" stroke-width=\"1.771199999999999\" opacity=\"0.6\" d=\"M 289.0,380.0 L 371.0,380.0 L 371.0,426.0 L 289.0,426.0 L 289.0,380.0 z\" /></g></svg>"
      ],
      "text/plain": [
       "<shapely.geometry.polygon.Polygon at 0x7fc13c1d5350>"
      ]
     },
     "execution_count": 93,
     "metadata": {},
     "output_type": "execute_result"
    }
   ],
   "source": [
    "Polygon(np.asarray(list(zip(np.asarray(row_coords), np.asarray(col_coords)))))"
   ]
  },
  {
   "cell_type": "code",
   "execution_count": 94,
   "id": "f24d9f1b-70e5-42be-baae-c705fc905835",
   "metadata": {},
   "outputs": [
    {
     "data": {
      "text/plain": [
       "[380.0, 380.0, 426.0, 426.0, 380.0]"
      ]
     },
     "execution_count": 94,
     "metadata": {},
     "output_type": "execute_result"
    }
   ],
   "source": [
    "col_coords"
   ]
  },
  {
   "cell_type": "code",
   "execution_count": 84,
   "id": "26435e84-a46b-48a1-920e-ddb1620288eb",
   "metadata": {},
   "outputs": [],
   "source": [
    "row_coords = [coordinates[0] for coordinates in rois_as_shapely_polygons['all_planes']['0330-0403'].boundary.coords[:]]\n",
    "col_coords = [coordinates[1] for coordinates in rois_as_shapely_polygons['all_planes']['0330-0403'].boundary.coords[:]]"
   ]
  },
  {
   "cell_type": "code",
   "execution_count": null,
   "id": "bcc266b9-f28e-4e08-bf61-78e48ad38c8c",
   "metadata": {},
   "outputs": [],
   "source": []
  },
  {
   "cell_type": "code",
   "execution_count": 78,
   "id": "db04a3e8-726e-4982-9c6b-8ade173faea3",
   "metadata": {},
   "outputs": [
    {
     "data": {
      "text/plain": [
       "dict_keys(['0118-0098', '0240-0268', '0374-0150', '0330-0403'])"
      ]
     },
     "execution_count": 78,
     "metadata": {},
     "output_type": "execute_result"
    }
   ],
   "source": [
    "rois_as_shapely_polygons['all_planes'].keys()"
   ]
  },
  {
   "cell_type": "code",
   "execution_count": 33,
   "id": "3bc9aa06-1223-4bd7-9ced-1e4a4f3543e3",
   "metadata": {},
   "outputs": [
    {
     "data": {
      "text/plain": [
       "'ImageJROIReader cannot handle files of type .zip'"
      ]
     },
     "execution_count": 33,
     "metadata": {},
     "output_type": "execute_result"
    }
   ],
   "source": [
    "f'ImageJROIReader cannot handle files of type {filetype}'"
   ]
  },
  {
   "cell_type": "code",
   "execution_count": 18,
   "id": "03e41052-8143-483c-b0a0-466f609bcde7",
   "metadata": {},
   "outputs": [
    {
     "data": {
      "text/plain": [
       "array([[ 71.,  86.],\n",
       "       [ 71., 150.],\n",
       "       [126., 150.],\n",
       "       [126.,  86.],\n",
       "       [ 71.,  86.]], dtype=float32)"
      ]
     },
     "execution_count": 18,
     "metadata": {},
     "output_type": "execute_result"
    }
   ],
   "source": [
    "roi[0].coordinates()"
   ]
  },
  {
   "cell_type": "code",
   "execution_count": null,
   "id": "e4a107b5-13e1-4423-a578-1613acc0cddb",
   "metadata": {},
   "outputs": [],
   "source": [
    "self.as_polygons[roi_id] = Polygon(np.asarray(list(zip(self.roi_coordinates[roi_id][0], self.roi_coordinates[roi_id][1]))))"
   ]
  },
  {
   "cell_type": "code",
   "execution_count": null,
   "id": "50b0236b-9f74-4b08-a296-e93ffc370e3d",
   "metadata": {},
   "outputs": [],
   "source": []
  },
  {
   "cell_type": "code",
   "execution_count": null,
   "id": "e72a8d57-f68e-4b49-9abb-ba06bcd3715c",
   "metadata": {},
   "outputs": [],
   "source": [
    "rois_as_shapely_polygons['file_id']['plane_id']['roi_id']"
   ]
  },
  {
   "cell_type": "code",
   "execution_count": 13,
   "id": "c1fd3960-ef21-4ff1-9cb2-a830d761011c",
   "metadata": {},
   "outputs": [],
   "source": [
    "hunde = list()\n",
    "katzen = list()\n",
    "for x in hunde:\n",
    "    katzen.append(x)\n",
    "    "
   ]
  },
  {
   "cell_type": "code",
   "execution_count": 14,
   "id": "749b9d79-cfb5-40b8-aa34-5c7fb909b18f",
   "metadata": {},
   "outputs": [
    {
     "data": {
      "text/plain": [
       "[]"
      ]
     },
     "execution_count": 14,
     "metadata": {},
     "output_type": "execute_result"
    }
   ],
   "source": [
    "katzen"
   ]
  },
  {
   "cell_type": "code",
   "execution_count": null,
   "id": "2af5ea2e-62b4-4890-b16a-65025d9c9519",
   "metadata": {},
   "outputs": [],
   "source": []
  },
  {
   "cell_type": "code",
   "execution_count": 2,
   "id": "ffcbf1e1-0e52-45da-8605-346ec98aa478",
   "metadata": {},
   "outputs": [],
   "source": [
    "project_root_dir = Path('/mnt/c/Users/dsege/TEMP/test_project2/')"
   ]
  },
  {
   "cell_type": "code",
   "execution_count": 12,
   "id": "0daaf827-68d7-41fb-b776-212fc9596d92",
   "metadata": {},
   "outputs": [
    {
     "data": {
      "text/plain": [
       "'/mnt/c/Users/dsege/TEMP/test_project2/merge_error_example_file_id_0000_plane_5_centroid_x_4201_y_2426.png'"
      ]
     },
     "execution_count": 12,
     "metadata": {},
     "output_type": "execute_result"
    }
   ],
   "source": [
    "project_root_dir.joinpath(elem).as_posix()"
   ]
  },
  {
   "cell_type": "code",
   "execution_count": 10,
   "id": "1846f57b-abe1-43f7-9488-316a0d81e843",
   "metadata": {},
   "outputs": [
    {
     "data": {
      "text/plain": [
       "PosixPath('/mnt/c/Users/dsege/TEMP/test_project2/merge_error_example_file_id_0000_plane_5_centroid_x_4201_y_2426.png')"
      ]
     },
     "execution_count": 10,
     "metadata": {},
     "output_type": "execute_result"
    }
   ],
   "source": [
    "elem"
   ]
  },
  {
   "cell_type": "code",
   "execution_count": 10,
   "id": "2a862d86-ebbb-4d9f-a4f1-a26788151de7",
   "metadata": {},
   "outputs": [
    {
     "data": {
      "text/plain": [
       "True"
      ]
     },
     "execution_count": 10,
     "metadata": {},
     "output_type": "execute_result"
    }
   ],
   "source": [
    "project_root_dir.is_dir()"
   ]
  },
  {
   "cell_type": "code",
   "execution_count": 15,
   "id": "3953188b-1dbd-4931-b81f-7cb540b2dd41",
   "metadata": {},
   "outputs": [
    {
     "data": {
      "text/plain": [
       "PosixPath('/mnt/c/Users/dsege/TEMP/test_project2')"
      ]
     },
     "execution_count": 15,
     "metadata": {},
     "output_type": "execute_result"
    }
   ],
   "source": [
    "project_root_dir"
   ]
  },
  {
   "cell_type": "code",
   "execution_count": null,
   "id": "39a4a408-254f-40d7-b1e7-79e1cdf19b59",
   "metadata": {},
   "outputs": [],
   "source": [
    "self.project_root_dir + [elem for elem in subdirectories if 'microscopy' in elem][0] + '/'"
   ]
  },
  {
   "cell_type": "code",
   "execution_count": 27,
   "id": "9d5dd650-809a-4ac3-a059-43b8e956091f",
   "metadata": {},
   "outputs": [
    {
     "data": {
      "text/plain": [
       "['00_microscopy_images',\n",
       " '01_rois_to_analyze',\n",
       " '02_preprocessed_images',\n",
       " '03_deepflash2',\n",
       " '04_binary_segmentations',\n",
       " '05_instance_segmentations',\n",
       " '06_inspection',\n",
       " '07_results',\n",
       " 'for_sofie',\n",
       " 'for_sofie.zip',\n",
       " 'intermediate',\n",
       " 'merge_error_example_file_id_0000_plane_5_centroid_x_4201_y_2426.png']"
      ]
     },
     "execution_count": 27,
     "metadata": {},
     "output_type": "execute_result"
    }
   ],
   "source": [
    "subdirectories"
   ]
  },
  {
   "cell_type": "code",
   "execution_count": 13,
   "id": "9c60ec87-1550-445a-8e2c-32b436d5b153",
   "metadata": {},
   "outputs": [],
   "source": [
    "import os\n",
    "def listdir_nohidden(path):\n",
    "    return [f for f in os.listdir(path) if f.startswith('.') == False]"
   ]
  },
  {
   "cell_type": "code",
   "execution_count": 16,
   "id": "d3939d87-37d3-4123-9d36-d8e55e98a571",
   "metadata": {},
   "outputs": [],
   "source": [
    "subdirectories = listdir_nohidden(path = project_root_dir)"
   ]
  },
  {
   "cell_type": "code",
   "execution_count": 33,
   "id": "54a73aaf-94ad-48c6-8c99-1e3711b32b55",
   "metadata": {},
   "outputs": [
    {
     "data": {
      "text/plain": [
       "\u001b[0;31mSignature:\u001b[0m  \u001b[0mmicroscopy_image_dir\u001b[0m\u001b[0;34m.\u001b[0m\u001b[0mmkdir\u001b[0m\u001b[0;34m(\u001b[0m\u001b[0mmode\u001b[0m\u001b[0;34m=\u001b[0m\u001b[0;36m511\u001b[0m\u001b[0;34m,\u001b[0m \u001b[0mparents\u001b[0m\u001b[0;34m=\u001b[0m\u001b[0;32mFalse\u001b[0m\u001b[0;34m,\u001b[0m \u001b[0mexist_ok\u001b[0m\u001b[0;34m=\u001b[0m\u001b[0;32mFalse\u001b[0m\u001b[0;34m)\u001b[0m\u001b[0;34m\u001b[0m\u001b[0;34m\u001b[0m\u001b[0m\n",
       "\u001b[0;31mDocstring:\u001b[0m Create a new directory at this given path.\n",
       "\u001b[0;31mFile:\u001b[0m      ~/anaconda3/envs/DCLwidgets_clone/lib/python3.7/pathlib.py\n",
       "\u001b[0;31mType:\u001b[0m      method\n"
      ]
     },
     "metadata": {},
     "output_type": "display_data"
    }
   ],
   "source": [
    "? microscopy_image_dir.mkdir"
   ]
  },
  {
   "cell_type": "code",
   "execution_count": 28,
   "id": "553ceb23-5870-4d34-aca2-dc3d37a4b537",
   "metadata": {},
   "outputs": [],
   "source": [
    "subdirectory_attributes = {'rois_to_analyze_dir': {'foldername': '01_rois_to_analyze',\n",
    "                                                   'key_substring': 'rois'},\n",
    "                           'preprocessed_images_dir': {'foldername': '02_preprocessed_images',\n",
    "                                                       'key_substring': 'preprocessed'},\n",
    "                           'deepflash2_dir': {'foldername': '03_deepflash2',\n",
    "                                              'key_substring': 'deepflash'},\n",
    "                           'binary_segmentations_dir': {'foldername': '04_binary_segmentations',\n",
    "                                                        'key_substring': 'binary'},\n",
    "                           'instance_segmentations_dir': {'foldername': '05_instance_segmentations',\n",
    "                                                          'key_substring': 'instance'},\n",
    "                           'inspection_dir': {'foldername': '06_inspection',\n",
    "                                              'key_substring': 'inspection'},\n",
    "                           'results_dir': {'foldername': '07_results',\n",
    "                                           'key_substring': 'results'}}\n"
   ]
  },
  {
   "cell_type": "code",
   "execution_count": null,
   "id": "b2f4dc56-05ce-42fa-8e29-50792a88872b",
   "metadata": {},
   "outputs": [],
   "source": [
    "for attribute_key in subdirectory_attributes.keys():\n",
    "    elements_matching_key_substring = [elem for elem in subdirectories if subdirectory_attributes[attribute_key]['key_substring'] in elem]\n",
    "    if len(elements_matching_key_substring) > 0:\n",
    "        for matching_element in elements_matching_key_substring:\n",
    "            if (project_root_dir.joinpath(matching_element).is_dir()) & (hasattr(self, attribute_key) == False):\n",
    "                setattr(self, attribute_key, project_root_dir.joinpath(matching_element))\n",
    "    if hasattr(self, attribute_key) == False:\n",
    "        subdirectory_path = project_root_dir.joinpath(subdirectory_attributes[attribute_key]['foldername'])\n",
    "        subdirectory_path.mkdir()\n",
    "        setattr(self, attribute_key, subdirectory_path)\n",
    "                \n",
    "                "
   ]
  },
  {
   "cell_type": "code",
   "execution_count": null,
   "id": "4aa00488-c46f-4390-a4f2-d8c882d0c9a2",
   "metadata": {},
   "outputs": [],
   "source": []
  },
  {
   "cell_type": "code",
   "execution_count": 19,
   "id": "d0861cab-21d7-474e-b1eb-d2645a18970a",
   "metadata": {},
   "outputs": [],
   "source": [
    "folder = [elem for elem in subdirectories if 'microscopy' in elem][0]"
   ]
  },
  {
   "cell_type": "code",
   "execution_count": 23,
   "id": "0ff4ecd1-e8c6-4e19-a91a-178cfb3fd476",
   "metadata": {},
   "outputs": [],
   "source": [
    "microscopy_image_dir = project_root_dir.joinpath('hund')"
   ]
  },
  {
   "cell_type": "code",
   "execution_count": 29,
   "id": "f5dda9bf-05e7-4e6e-8002-cae6a58167ab",
   "metadata": {},
   "outputs": [
    {
     "data": {
      "text/plain": [
       "False"
      ]
     },
     "execution_count": 29,
     "metadata": {},
     "output_type": "execute_result"
    }
   ],
   "source": [
    "project_root_dir.joinpath('hund').is_dir()\n",
    "    "
   ]
  },
  {
   "cell_type": "code",
   "execution_count": 26,
   "id": "44b4e714-17fa-4321-b8fa-064ad35c0756",
   "metadata": {},
   "outputs": [
    {
     "data": {
      "text/plain": [
       "PosixPath('/mnt/c/Users/dsege/TEMP/test_project2/hund')"
      ]
     },
     "execution_count": 26,
     "metadata": {},
     "output_type": "execute_result"
    }
   ],
   "source": [
    "microscopy_image_dir"
   ]
  },
  {
   "cell_type": "code",
   "execution_count": null,
   "id": "a2ec393f-08aa-474d-8294-f2d9aa5ab7af",
   "metadata": {},
   "outputs": [],
   "source": [
    "from findmycells.main import Project\n",
    "import os\n",
    "import pandas as pd\n",
    "from datetime import datetime"
   ]
  }
 ],
 "metadata": {
  "kernelspec": {
   "display_name": "Python 3 (ipykernel)",
   "language": "python",
   "name": "python3"
  },
  "language_info": {
   "codemirror_mode": {
    "name": "ipython",
    "version": 3
   },
   "file_extension": ".py",
   "mimetype": "text/x-python",
   "name": "python",
   "nbconvert_exporter": "python",
   "pygments_lexer": "ipython3",
   "version": "3.7.12"
  }
 },
 "nbformat": 4,
 "nbformat_minor": 5
}
