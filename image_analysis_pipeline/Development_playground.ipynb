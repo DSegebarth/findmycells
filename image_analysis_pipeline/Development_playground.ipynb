{
 "cells": [
  {
   "cell_type": "markdown",
   "id": "a6c273b4-65c0-4a00-b71e-35460c1d077e",
   "metadata": {},
   "source": [
    "Next steps:\n",
    "\n",
    " - ~load ROIs~ (or create one with shape of the image)\n",
    " - ~make adaptations to database:~\n",
    "   - ~use Path objects to enable continous integration~\n",
    "   - ~rename deepflash2_dir to segmentation_tool_dir~\n",
    "   - ~create sorted list of all preprocessing steps (i.e. preprocessing strategies)~\n",
    " - ~adapt main~\n",
    " - ~function that saves preprocessed images~\n",
    " \n",
    " \n",
    " - confirm that roi is loaded and adjusted correctly (rows and columns switched?)\n",
    " - continue with segmentations\n",
    "\n",
    " - Minimal preprocessing steps are:\n",
    "    - save the \"unprocessed\" microscopy images to the preprocessed_dir\n",
    "    - load the unprocessed ROIs into the database (create ROI with shape of image if whole image is to be analyzed)"
   ]
  },
  {
   "cell_type": "code",
   "execution_count": 6,
   "id": "5698a817-1fb1-483e-ae85-9819e4ec2a8e",
   "metadata": {},
   "outputs": [
    {
     "data": {
      "text/plain": [
       "3"
      ]
     },
     "execution_count": 6,
     "metadata": {},
     "output_type": "execute_result"
    }
   ],
   "source": [
    "import numpy as np\n",
    "max(np.asarray([0, 1, 3, False, False]))"
   ]
  },
  {
   "cell_type": "code",
   "execution_count": null,
   "id": "a7b32d7e-fa6b-436f-8ba0-c01de4dfdca3",
   "metadata": {},
   "outputs": [],
   "source": []
  },
  {
   "cell_type": "code",
   "execution_count": null,
   "id": "126b3170-6380-49e5-9902-ccce3d2c2331",
   "metadata": {
    "tags": []
   },
   "outputs": [],
   "source": [
    "from findmycells.main import Project\n",
    "from pathlib import Path"
   ]
  },
  {
   "cell_type": "code",
   "execution_count": null,
   "id": "d22c5813-1033-4e8f-9729-cadc728adf2e",
   "metadata": {},
   "outputs": [],
   "source": [
    "from findmycells.preprocessing import CropStitchingArtefactsRGB, ConvertFrom12To8BitRGB"
   ]
  },
  {
   "cell_type": "code",
   "execution_count": null,
   "id": "abf7f2d3-e522-4907-828f-f234361202cd",
   "metadata": {},
   "outputs": [],
   "source": [
    "project_root_dir = Path('/mnt/c/Users/dsege/TEMP/test_project4')"
   ]
  },
  {
   "cell_type": "code",
   "execution_count": null,
   "id": "99658d36-0877-4dac-b348-26b0dd8fdd42",
   "metadata": {},
   "outputs": [],
   "source": []
  },
  {
   "cell_type": "code",
   "execution_count": null,
   "id": "55d6c4f7-a245-4d27-862d-ea33aaea1a0f",
   "metadata": {},
   "outputs": [],
   "source": [
    "user_input_via_gui = {'project_root_dir': project_root_dir, \n",
    "                      'preprocessing_strategies': [ConvertFrom12To8BitRGB, CropStitchingArtefactsRGB]}"
   ]
  },
  {
   "cell_type": "code",
   "execution_count": null,
   "id": "6469e4c9-18a8-4402-af1d-8704e305008d",
   "metadata": {},
   "outputs": [],
   "source": [
    "refactored_project = Project({'project_root_dir': project_root_dir})"
   ]
  },
  {
   "cell_type": "code",
   "execution_count": null,
   "id": "3abc49d1-bb9f-41bb-9cca-23b5c4b5f458",
   "metadata": {},
   "outputs": [],
   "source": [
    "refactored_project.load_status()"
   ]
  },
  {
   "cell_type": "code",
   "execution_count": null,
   "id": "c9da8aad-2f06-4069-8b62-5ae292386e85",
   "metadata": {},
   "outputs": [],
   "source": [
    "refactored_project.database.file_infos"
   ]
  },
  {
   "cell_type": "code",
   "execution_count": null,
   "id": "f16baab5-b00a-485a-af27-c74d7fda0bda",
   "metadata": {},
   "outputs": [],
   "source": [
    "refactored_project.preprocess()"
   ]
  },
  {
   "cell_type": "code",
   "execution_count": null,
   "id": "b9185a61-a7fc-4679-8746-6c946d77c989",
   "metadata": {},
   "outputs": [],
   "source": [
    "refactored_project.save_status()"
   ]
  },
  {
   "cell_type": "code",
   "execution_count": null,
   "id": "5c865d94-cf2d-4ce9-b6d8-a722161d0b88",
   "metadata": {},
   "outputs": [],
   "source": []
  },
  {
   "cell_type": "code",
   "execution_count": null,
   "id": "ee15bfd3-15e2-44a5-a86b-ee540e97f07a",
   "metadata": {},
   "outputs": [],
   "source": [
    "refactored_project.database.area_rois_for_quantification"
   ]
  },
  {
   "cell_type": "code",
   "execution_count": null,
   "id": "53925323-e490-4f6a-a2f7-a164d2467a94",
   "metadata": {},
   "outputs": [],
   "source": [
    "refactored_project.preprocessing_object.load_rois()"
   ]
  },
  {
   "cell_type": "code",
   "execution_count": null,
   "id": "bddd2159-86a2-45a5-82ac-97a0b5c25bd2",
   "metadata": {},
   "outputs": [],
   "source": []
  },
  {
   "cell_type": "code",
   "execution_count": null,
   "id": "fbb972e2-f1a9-4744-afcc-7869ae9e62a3",
   "metadata": {},
   "outputs": [],
   "source": []
  },
  {
   "cell_type": "code",
   "execution_count": null,
   "id": "1cbe38a4-808e-43eb-a7db-1736ebf5ee04",
   "metadata": {},
   "outputs": [],
   "source": [
    "refactored_project.database.file_infos['microscopy_filepath'][0]"
   ]
  },
  {
   "cell_type": "code",
   "execution_count": null,
   "id": "60955ed9-0e69-4a8e-8c21-b61a1329e133",
   "metadata": {},
   "outputs": [],
   "source": [
    "from findmycells.microscopyimages import MicroscopyImageLoader\n",
    "import matplotlib.pyplot as plt"
   ]
  },
  {
   "cell_type": "code",
   "execution_count": null,
   "id": "2856aee1-c87d-4125-a72f-e9a92e06ea39",
   "metadata": {},
   "outputs": [],
   "source": [
    "microscopy_image_loader = MicroscopyImageLoader(filepath = refactored_project.database.file_infos['microscopy_filepath'][0],\n",
    "                                                filetype = refactored_project.database.file_infos['microscopy_filetype'][0])\n",
    "zstack = microscopy_image_loader.as_array()"
   ]
  },
  {
   "cell_type": "code",
   "execution_count": null,
   "id": "3519656f-f651-4c8b-b482-bffbb4e14165",
   "metadata": {},
   "outputs": [],
   "source": [
    "zstack.shape"
   ]
  },
  {
   "cell_type": "code",
   "execution_count": null,
   "id": "38c06c82-a6a0-4100-905a-5aa09b261a19",
   "metadata": {},
   "outputs": [],
   "source": [
    "cropped_zstack = zstack[:, 100:7100, 100:4600, :]"
   ]
  },
  {
   "cell_type": "code",
   "execution_count": null,
   "id": "05013083-8056-4cf3-9efb-6f2f4e10597d",
   "metadata": {},
   "outputs": [],
   "source": [
    "from PIL import Image\n",
    "import os"
   ]
  },
  {
   "cell_type": "code",
   "execution_count": null,
   "id": "03eb6f1f-b667-4946-92e3-b0f8ace53a3e",
   "metadata": {},
   "outputs": [],
   "source": [
    "pil_image = Image.fromarray(rgb_image, 'RGB')"
   ]
  },
  {
   "cell_type": "code",
   "execution_count": null,
   "id": "c0a33c1d-1126-4008-b0aa-d0f735ae1e8c",
   "metadata": {},
   "outputs": [],
   "source": [
    "pil_image.save('pil_image.png')"
   ]
  },
  {
   "cell_type": "code",
   "execution_count": null,
   "id": "9f3bba72-3fad-4dbb-8801-f45800000ad9",
   "metadata": {},
   "outputs": [],
   "source": []
  },
  {
   "cell_type": "code",
   "execution_count": null,
   "id": "461481eb-31d9-4753-bdb9-9e1444733a3d",
   "metadata": {},
   "outputs": [],
   "source": [
    "from skimage.io import imsave\n",
    "rgb_image = rgb_image.astype('uint8')\n",
    "imsave('skimage_image.png', rgb_image)"
   ]
  },
  {
   "cell_type": "code",
   "execution_count": null,
   "id": "c300610e-b37a-4d43-9672-1d8ac63c42e8",
   "metadata": {},
   "outputs": [],
   "source": []
  },
  {
   "cell_type": "code",
   "execution_count": null,
   "id": "d916e813-507f-4b1a-9cf9-466a07faf12e",
   "metadata": {},
   "outputs": [],
   "source": [
    "rgb_image"
   ]
  },
  {
   "cell_type": "code",
   "execution_count": null,
   "id": "d9924168-790a-4d07-a17e-73dd7a6893ab",
   "metadata": {},
   "outputs": [],
   "source": [
    "rgb_image = refactored_project.preprocessing_object.preprocessed_image[0].copy()"
   ]
  },
  {
   "cell_type": "code",
   "execution_count": null,
   "id": "bf794fbc-d511-4dc5-be7f-9a9000a7f0ef",
   "metadata": {},
   "outputs": [],
   "source": [
    "plt.imshow(rgb_image)"
   ]
  },
  {
   "cell_type": "code",
   "execution_count": null,
   "id": "73036e97-6fb4-4575-bab5-f9fc582b43bb",
   "metadata": {},
   "outputs": [],
   "source": [
    "converted_image = (rgb_image / 4095 * 255).round(0).astype('uint8')"
   ]
  },
  {
   "cell_type": "code",
   "execution_count": null,
   "id": "568314ef-08cc-44fb-be00-37e6f68b5869",
   "metadata": {},
   "outputs": [],
   "source": [
    "from pathlib import Path\n",
    "from shapely.geometry import Polygon\n",
    "import roifile\n",
    "import numpy as np"
   ]
  },
  {
   "cell_type": "code",
   "execution_count": null,
   "id": "b7919fda-794d-4735-b615-f426321df9f4",
   "metadata": {},
   "outputs": [],
   "source": [
    "roi_filepath = Path('/mnt/c/Users/dsege/TEMP/test_project2/01_rois_to_analyze/tg/#5_tg_old/#hund.roi')"
   ]
  },
  {
   "cell_type": "code",
   "execution_count": null,
   "id": "7ea77698-0f6b-4025-aa11-b4d0108b5d71",
   "metadata": {},
   "outputs": [],
   "source": [
    "roi_filepath = Path('/mnt/c/Users/dsege/TEMP/test_project2/01_rois_to_analyze/tg/#5_tg_old/RoiSet.zip')"
   ]
  },
  {
   "cell_type": "code",
   "execution_count": null,
   "id": "ce5f8645-a1e5-4f12-a6fa-c085d0754bf6",
   "metadata": {},
   "outputs": [],
   "source": [
    "roi_filepath.name.endswith('.zip')"
   ]
  },
  {
   "cell_type": "code",
   "execution_count": null,
   "id": "367e51cc-ae5b-48e1-acf8-a06d58952bfc",
   "metadata": {},
   "outputs": [],
   "source": [
    "'.zip' in ['.roi', '.zip']"
   ]
  },
  {
   "cell_type": "code",
   "execution_count": null,
   "id": "7e4ce74a-fff0-48d6-8276-a89e66ba357f",
   "metadata": {},
   "outputs": [],
   "source": [
    "loaded_rois[1].name"
   ]
  },
  {
   "cell_type": "code",
   "execution_count": null,
   "id": "9d970e4b-5987-4b8f-8470-e6af93aab732",
   "metadata": {},
   "outputs": [],
   "source": [
    "if roi_filepath.name.endswith('.roi'):\n",
    "    loaded_rois = [roifile.ImagejRoi.fromfile(roi_filepath)]\n",
    "elif roi_filepath.name.endswith('.zip'):\n",
    "    loaded_rois = roifile.ImagejRoi.fromfile(roi_filepath)\n",
    "else:\n",
    "    filetype = roi_filepath.name[roi_filepath.name.find('.'):]\n",
    "    raise ValueError(f'ImageJROIReader cannot handle files of type {filetype}')\n",
    "\n",
    "rois_as_shapely_polygons = {'all_planes': dict()}\n",
    "roi_count = len(loaded_rois)\n",
    "for roi_index in range(roi_count):\n",
    "    row_coords = loaded_rois[roi_index].coordinates()[:, 1]\n",
    "    col_coords = loaded_rois[roi_index].coordinates()[:, 0]\n",
    "    if roi_count > 1:\n",
    "        rois_as_shapely_polygons['all_planes'][loaded_rois[roi_index].name] = Polygon(np.asarray(list(zip(row_coords, col_coords))))\n",
    "    else:\n",
    "        rois_as_shapely_polygons['all_planes'][str(roi_index).zfill(3)] = Polygon(np.asarray(list(zip(row_coords, col_coords)))) \n"
   ]
  },
  {
   "cell_type": "code",
   "execution_count": null,
   "id": "40bceb9a-7b38-434e-bcdd-ecc73e08ec8e",
   "metadata": {},
   "outputs": [],
   "source": [
    "row_coords"
   ]
  },
  {
   "cell_type": "code",
   "execution_count": null,
   "id": "e0ccd590-c245-4125-baff-46f7ed0efc96",
   "metadata": {},
   "outputs": [],
   "source": [
    "row_coords = [row - 5 for row in row_coords]\n",
    "row_coords"
   ]
  },
  {
   "cell_type": "code",
   "execution_count": null,
   "id": "9a980d3a-a77f-487a-a135-8b954a837bdf",
   "metadata": {},
   "outputs": [],
   "source": [
    "a = np.asarray(row_coords)"
   ]
  },
  {
   "cell_type": "code",
   "execution_count": null,
   "id": "1fa60ed2-97e8-4515-b6c5-7059acb9eb7a",
   "metadata": {},
   "outputs": [],
   "source": [
    "a -= 5"
   ]
  },
  {
   "cell_type": "code",
   "execution_count": null,
   "id": "9d6b51d9-d35d-42ab-9955-0a313f285c0d",
   "metadata": {},
   "outputs": [],
   "source": [
    "a"
   ]
  },
  {
   "cell_type": "code",
   "execution_count": null,
   "id": "5a27ae8b-ab04-4d5c-8e14-1fad31d53932",
   "metadata": {},
   "outputs": [],
   "source": [
    "Polygon(np.asarray(list(zip(np.asarray(row_coords), np.asarray(col_coords)))))"
   ]
  },
  {
   "cell_type": "code",
   "execution_count": null,
   "id": "f24d9f1b-70e5-42be-baae-c705fc905835",
   "metadata": {},
   "outputs": [],
   "source": [
    "col_coords"
   ]
  },
  {
   "cell_type": "code",
   "execution_count": null,
   "id": "26435e84-a46b-48a1-920e-ddb1620288eb",
   "metadata": {},
   "outputs": [],
   "source": [
    "row_coords = [coordinates[0] for coordinates in rois_as_shapely_polygons['all_planes']['0330-0403'].boundary.coords[:]]\n",
    "col_coords = [coordinates[1] for coordinates in rois_as_shapely_polygons['all_planes']['0330-0403'].boundary.coords[:]]"
   ]
  },
  {
   "cell_type": "code",
   "execution_count": null,
   "id": "bcc266b9-f28e-4e08-bf61-78e48ad38c8c",
   "metadata": {},
   "outputs": [],
   "source": []
  },
  {
   "cell_type": "code",
   "execution_count": null,
   "id": "db04a3e8-726e-4982-9c6b-8ade173faea3",
   "metadata": {},
   "outputs": [],
   "source": [
    "rois_as_shapely_polygons['all_planes'].keys()"
   ]
  },
  {
   "cell_type": "code",
   "execution_count": null,
   "id": "3bc9aa06-1223-4bd7-9ced-1e4a4f3543e3",
   "metadata": {},
   "outputs": [],
   "source": [
    "f'ImageJROIReader cannot handle files of type {filetype}'"
   ]
  },
  {
   "cell_type": "code",
   "execution_count": null,
   "id": "03e41052-8143-483c-b0a0-466f609bcde7",
   "metadata": {},
   "outputs": [],
   "source": [
    "roi[0].coordinates()"
   ]
  },
  {
   "cell_type": "code",
   "execution_count": null,
   "id": "e4a107b5-13e1-4423-a578-1613acc0cddb",
   "metadata": {},
   "outputs": [],
   "source": [
    "self.as_polygons[roi_id] = Polygon(np.asarray(list(zip(self.roi_coordinates[roi_id][0], self.roi_coordinates[roi_id][1]))))"
   ]
  },
  {
   "cell_type": "code",
   "execution_count": null,
   "id": "50b0236b-9f74-4b08-a296-e93ffc370e3d",
   "metadata": {},
   "outputs": [],
   "source": []
  },
  {
   "cell_type": "code",
   "execution_count": null,
   "id": "e72a8d57-f68e-4b49-9abb-ba06bcd3715c",
   "metadata": {},
   "outputs": [],
   "source": [
    "rois_as_shapely_polygons['file_id']['plane_id']['roi_id']"
   ]
  },
  {
   "cell_type": "code",
   "execution_count": null,
   "id": "c1fd3960-ef21-4ff1-9cb2-a830d761011c",
   "metadata": {},
   "outputs": [],
   "source": [
    "hunde = list()\n",
    "katzen = list()\n",
    "for x in hunde:\n",
    "    katzen.append(x)\n",
    "    "
   ]
  },
  {
   "cell_type": "code",
   "execution_count": null,
   "id": "749b9d79-cfb5-40b8-aa34-5c7fb909b18f",
   "metadata": {},
   "outputs": [],
   "source": [
    "katzen"
   ]
  },
  {
   "cell_type": "code",
   "execution_count": null,
   "id": "2af5ea2e-62b4-4890-b16a-65025d9c9519",
   "metadata": {},
   "outputs": [],
   "source": []
  },
  {
   "cell_type": "code",
   "execution_count": null,
   "id": "ffcbf1e1-0e52-45da-8605-346ec98aa478",
   "metadata": {},
   "outputs": [],
   "source": [
    "project_root_dir = Path('/mnt/c/Users/dsege/TEMP/test_project2/')"
   ]
  },
  {
   "cell_type": "code",
   "execution_count": null,
   "id": "0daaf827-68d7-41fb-b776-212fc9596d92",
   "metadata": {},
   "outputs": [],
   "source": [
    "project_root_dir.joinpath(elem).as_posix()"
   ]
  },
  {
   "cell_type": "code",
   "execution_count": null,
   "id": "1846f57b-abe1-43f7-9488-316a0d81e843",
   "metadata": {},
   "outputs": [],
   "source": [
    "elem"
   ]
  },
  {
   "cell_type": "code",
   "execution_count": null,
   "id": "2a862d86-ebbb-4d9f-a4f1-a26788151de7",
   "metadata": {},
   "outputs": [],
   "source": [
    "project_root_dir.is_dir()"
   ]
  },
  {
   "cell_type": "code",
   "execution_count": null,
   "id": "3953188b-1dbd-4931-b81f-7cb540b2dd41",
   "metadata": {},
   "outputs": [],
   "source": [
    "project_root_dir"
   ]
  },
  {
   "cell_type": "code",
   "execution_count": null,
   "id": "39a4a408-254f-40d7-b1e7-79e1cdf19b59",
   "metadata": {},
   "outputs": [],
   "source": [
    "self.project_root_dir + [elem for elem in subdirectories if 'microscopy' in elem][0] + '/'"
   ]
  },
  {
   "cell_type": "code",
   "execution_count": null,
   "id": "9d5dd650-809a-4ac3-a059-43b8e956091f",
   "metadata": {},
   "outputs": [],
   "source": [
    "subdirectories"
   ]
  },
  {
   "cell_type": "code",
   "execution_count": null,
   "id": "9c60ec87-1550-445a-8e2c-32b436d5b153",
   "metadata": {},
   "outputs": [],
   "source": [
    "import os\n",
    "def listdir_nohidden(path):\n",
    "    return [f for f in os.listdir(path) if f.startswith('.') == False]"
   ]
  },
  {
   "cell_type": "code",
   "execution_count": null,
   "id": "d3939d87-37d3-4123-9d36-d8e55e98a571",
   "metadata": {},
   "outputs": [],
   "source": [
    "subdirectories = listdir_nohidden(path = project_root_dir)"
   ]
  },
  {
   "cell_type": "code",
   "execution_count": null,
   "id": "54a73aaf-94ad-48c6-8c99-1e3711b32b55",
   "metadata": {},
   "outputs": [],
   "source": [
    "? microscopy_image_dir.mkdir"
   ]
  },
  {
   "cell_type": "code",
   "execution_count": null,
   "id": "553ceb23-5870-4d34-aca2-dc3d37a4b537",
   "metadata": {},
   "outputs": [],
   "source": [
    "subdirectory_attributes = {'rois_to_analyze_dir': {'foldername': '01_rois_to_analyze',\n",
    "                                                   'key_substring': 'rois'},\n",
    "                           'preprocessed_images_dir': {'foldername': '02_preprocessed_images',\n",
    "                                                       'key_substring': 'preprocessed'},\n",
    "                           'deepflash2_dir': {'foldername': '03_deepflash2',\n",
    "                                              'key_substring': 'deepflash'},\n",
    "                           'binary_segmentations_dir': {'foldername': '04_binary_segmentations',\n",
    "                                                        'key_substring': 'binary'},\n",
    "                           'instance_segmentations_dir': {'foldername': '05_instance_segmentations',\n",
    "                                                          'key_substring': 'instance'},\n",
    "                           'inspection_dir': {'foldername': '06_inspection',\n",
    "                                              'key_substring': 'inspection'},\n",
    "                           'results_dir': {'foldername': '07_results',\n",
    "                                           'key_substring': 'results'}}\n"
   ]
  },
  {
   "cell_type": "code",
   "execution_count": null,
   "id": "b2f4dc56-05ce-42fa-8e29-50792a88872b",
   "metadata": {},
   "outputs": [],
   "source": [
    "for attribute_key in subdirectory_attributes.keys():\n",
    "    elements_matching_key_substring = [elem for elem in subdirectories if subdirectory_attributes[attribute_key]['key_substring'] in elem]\n",
    "    if len(elements_matching_key_substring) > 0:\n",
    "        for matching_element in elements_matching_key_substring:\n",
    "            if (project_root_dir.joinpath(matching_element).is_dir()) & (hasattr(self, attribute_key) == False):\n",
    "                setattr(self, attribute_key, project_root_dir.joinpath(matching_element))\n",
    "    if hasattr(self, attribute_key) == False:\n",
    "        subdirectory_path = project_root_dir.joinpath(subdirectory_attributes[attribute_key]['foldername'])\n",
    "        subdirectory_path.mkdir()\n",
    "        setattr(self, attribute_key, subdirectory_path)\n",
    "                \n",
    "                "
   ]
  },
  {
   "cell_type": "code",
   "execution_count": null,
   "id": "4aa00488-c46f-4390-a4f2-d8c882d0c9a2",
   "metadata": {},
   "outputs": [],
   "source": []
  },
  {
   "cell_type": "code",
   "execution_count": null,
   "id": "d0861cab-21d7-474e-b1eb-d2645a18970a",
   "metadata": {},
   "outputs": [],
   "source": [
    "folder = [elem for elem in subdirectories if 'microscopy' in elem][0]"
   ]
  },
  {
   "cell_type": "code",
   "execution_count": null,
   "id": "0ff4ecd1-e8c6-4e19-a91a-178cfb3fd476",
   "metadata": {},
   "outputs": [],
   "source": [
    "microscopy_image_dir = project_root_dir.joinpath('hund')"
   ]
  },
  {
   "cell_type": "code",
   "execution_count": null,
   "id": "f5dda9bf-05e7-4e6e-8002-cae6a58167ab",
   "metadata": {},
   "outputs": [],
   "source": [
    "project_root_dir.joinpath('hund').is_dir()\n",
    "    "
   ]
  },
  {
   "cell_type": "code",
   "execution_count": null,
   "id": "44b4e714-17fa-4321-b8fa-064ad35c0756",
   "metadata": {},
   "outputs": [],
   "source": [
    "microscopy_image_dir"
   ]
  },
  {
   "cell_type": "code",
   "execution_count": null,
   "id": "a2ec393f-08aa-474d-8294-f2d9aa5ab7af",
   "metadata": {},
   "outputs": [],
   "source": [
    "from findmycells.main import Project\n",
    "import os\n",
    "import pandas as pd\n",
    "from datetime import datetime"
   ]
  }
 ],
 "metadata": {
  "kernelspec": {
   "display_name": "Python 3 (ipykernel)",
   "language": "python",
   "name": "python3"
  },
  "language_info": {
   "codemirror_mode": {
    "name": "ipython",
    "version": 3
   },
   "file_extension": ".py",
   "mimetype": "text/x-python",
   "name": "python",
   "nbconvert_exporter": "python",
   "pygments_lexer": "ipython3",
   "version": "3.7.12"
  }
 },
 "nbformat": 4,
 "nbformat_minor": 5
}
