{
 "cells": [
  {
   "cell_type": "markdown",
   "id": "a6c273b4-65c0-4a00-b71e-35460c1d077e",
   "metadata": {},
   "source": [
    "Next steps:\n",
    "\n",
    " - ~load ROIs~ (or create one with shape of the image)\n",
    " - ~make adaptations to database:~\n",
    "   - ~use Path objects to enable continous integration~\n",
    "   - ~rename deepflash2_dir to segmentation_tool_dir~\n",
    "   - ~create sorted list of all preprocessing steps (i.e. preprocessing strategies)~\n",
    " - ~adapt main~\n",
    " - ~function that saves preprocessed images~\n",
    " \n",
    " \n",
    " - confirm that roi is loaded and adjusted correctly (rows and columns switched?)\n",
    " - continue with segmentations\n",
    "\n",
    " - Minimal preprocessing steps are:\n",
    "    - save the \"unprocessed\" microscopy images to the preprocessed_dir\n",
    "    - load the unprocessed ROIs into the database (create ROI with shape of image if whole image is to be analyzed)"
   ]
  },
  {
   "cell_type": "code",
   "execution_count": null,
   "id": "6737d86a-e84d-4e8f-b947-a789c7ac3e71",
   "metadata": {},
   "outputs": [],
   "source": [
    "import random"
   ]
  },
  {
   "cell_type": "code",
   "execution_count": null,
   "id": "db889067-4c3c-4eba-ac86-f80858b768ef",
   "metadata": {},
   "outputs": [],
   "source": [
    "animals = ['hund', 'katze', 'maus', 'vogel', 'maulwurf']"
   ]
  },
  {
   "cell_type": "code",
   "execution_count": null,
   "id": "7de77f15-01e7-4bad-9dda-14043ddfddba",
   "metadata": {},
   "outputs": [],
   "source": [
    "animals.remove('hund')"
   ]
  },
  {
   "cell_type": "code",
   "execution_count": null,
   "id": "80d62f59-4022-4d63-934a-50f118955cb3",
   "metadata": {},
   "outputs": [],
   "source": [
    "animals"
   ]
  },
  {
   "cell_type": "code",
   "execution_count": null,
   "id": "9037b9cc-a645-493a-840a-334c8c923958",
   "metadata": {},
   "outputs": [],
   "source": [
    "random.sample(animals, 2)"
   ]
  },
  {
   "cell_type": "code",
   "execution_count": null,
   "id": "6d04dee0-0c2d-4d90-aa41-c2a3072cf011",
   "metadata": {},
   "outputs": [],
   "source": [
    "batch_size = 2"
   ]
  },
  {
   "cell_type": "code",
   "execution_count": null,
   "id": "1ef10a9b-9584-4eef-b1ac-9dee26241fcb",
   "metadata": {},
   "outputs": [],
   "source": []
  },
  {
   "cell_type": "code",
   "execution_count": null,
   "id": "6228a27f-f155-4af5-8d1b-bc0d3bb49a15",
   "metadata": {},
   "outputs": [],
   "source": [
    "if len(animals) % batch_size == 0:\n",
    "    total_batches = int(len(animals) / batch_size)\n",
    "else:\n",
    "    total_batches = int(len(animals) / batch_size) + 1\n",
    "file_ids_per_batch = list()\n",
    "for batch_id in range(total_batches):\n",
    "    if len(animals) >= batch_size:\n",
    "        sampled_file_ids = random.sample(animals, batch_size)\n",
    "    else:\n",
    "        sampled_file_ids = animals.copy()\n",
    "    file_ids_per_batch.append(sampled_file_ids)\n",
    "    for elem in sampled_file_ids:\n",
    "        animals.remove(elem)\n",
    "return file_ids_per_batch    "
   ]
  },
  {
   "cell_type": "code",
   "execution_count": null,
   "id": "6c6c5f05-c527-4056-94c7-e1dfeaef978d",
   "metadata": {},
   "outputs": [],
   "source": [
    "file_ids_per_batch"
   ]
  },
  {
   "cell_type": "code",
   "execution_count": null,
   "id": "5698a817-1fb1-483e-ae85-9819e4ec2a8e",
   "metadata": {},
   "outputs": [],
   "source": [
    "import numpy as np\n",
    "max(np.asarray([0, 1, 3, False, False]))"
   ]
  },
  {
   "cell_type": "code",
   "execution_count": null,
   "id": "a7b32d7e-fa6b-436f-8ba0-c01de4dfdca3",
   "metadata": {},
   "outputs": [],
   "source": []
  },
  {
   "cell_type": "code",
   "execution_count": 1,
   "id": "126b3170-6380-49e5-9902-ccce3d2c2331",
   "metadata": {
    "tags": []
   },
   "outputs": [],
   "source": [
    "from findmycells.main import Project\n",
    "from pathlib import Path"
   ]
  },
  {
   "cell_type": "code",
   "execution_count": 2,
   "id": "d22c5813-1033-4e8f-9729-cadc728adf2e",
   "metadata": {},
   "outputs": [],
   "source": [
    "from findmycells.preprocessing import CropStitchingArtefactsRGB, ConvertTo8Bit, MaximumIntensityProjection, MinimumIntensityProjection, CropToROIsBoundingBox, AdjustBrightnessAndContrast\n",
    "from findmycells.segmentation import Deepflash2SemanticAndInstanceSegmentation\n",
    "from findmycells.quantifications import ReconstructCellsIn3DFrom2DInstanceLabels, ApplyExclusionCriteria, CountFeaturesInWholeAreaROIs\n",
    "from findmycells.inspection import InspectReconstructedCells2D"
   ]
  },
  {
   "cell_type": "code",
   "execution_count": 3,
   "id": "abf7f2d3-e522-4907-828f-f234361202cd",
   "metadata": {},
   "outputs": [],
   "source": [
    "project_root_dir = Path('/mnt/c/Users/dsege/TEMP/test_project_multiple_rois/')"
   ]
  },
  {
   "cell_type": "code",
   "execution_count": 4,
   "id": "f653edea-12b3-491f-a840-d9f930d8bff3",
   "metadata": {},
   "outputs": [],
   "source": [
    "quantification_configs = {'segmentations_to_use': 'instance',\n",
    "                          'postprocessing_strategies': [ReconstructCellsIn3DFrom2DInstanceLabels, ApplyExclusionCriteria],\n",
    "                          'quantification_strategies': [CountFeaturesInWholeAreaROIs]}"
   ]
  },
  {
   "cell_type": "code",
   "execution_count": 5,
   "id": "55d6c4f7-a245-4d27-862d-ea33aaea1a0f",
   "metadata": {},
   "outputs": [],
   "source": [
    "user_input_via_gui = {'project_root_dir': project_root_dir, \n",
    "                      'preprocessing_strategies': [ConvertTo8Bit, CropToROIsBoundingBox, CropStitchingArtefactsRGB], \n",
    "                      'segmentation_strategies': [Deepflash2SemanticAndInstanceSegmentation], \n",
    "                      'quantification_configs': quantification_configs,\n",
    "                      'inspection_strategies': [InspectReconstructedCells2D],\n",
    "                      'clear_tmp_zarrs': True}"
   ]
  },
  {
   "cell_type": "code",
   "execution_count": 6,
   "id": "99658d36-0877-4dac-b348-26b0dd8fdd42",
   "metadata": {},
   "outputs": [],
   "source": [
    "refactored_project = Project(user_input_via_gui)"
   ]
  },
  {
   "cell_type": "code",
   "execution_count": 7,
   "id": "2d85df8b-9dba-4542-b934-69994731acf1",
   "metadata": {},
   "outputs": [],
   "source": [
    "refactored_project.load_status()"
   ]
  },
  {
   "cell_type": "code",
   "execution_count": 8,
   "id": "01ffea5b-01dd-49c3-be3c-3502db13b7cf",
   "metadata": {},
   "outputs": [
    {
     "data": {
      "text/plain": [
       "{'CountFeaturesInWholeAreaROIs': {'0000': {'SN': 49, 'VTA': 20},\n",
       "  '0001': {'SN': 12, 'VTA': 1},\n",
       "  '0002': {'SN': 42, 'VTA': 2},\n",
       "  '0003': {'SN': 76, 'VTA': 2}}}"
      ]
     },
     "execution_count": 8,
     "metadata": {},
     "output_type": "execute_result"
    }
   ],
   "source": [
    "refactored_project.database.quantification_results"
   ]
  },
  {
   "cell_type": "code",
   "execution_count": null,
   "id": "c85e12b6-18d7-410e-870c-988c0ecc411b",
   "metadata": {},
   "outputs": [],
   "source": [
    "refactored_project.inspect(file_ids = ['0000'], area_roi_ids = ['SN'], label_indices = [12, 15, 29])"
   ]
  },
  {
   "cell_type": "code",
   "execution_count": 13,
   "id": "f99bc9b6-e4f3-43de-a8f8-7ddbfe419801",
   "metadata": {},
   "outputs": [
    {
     "data": {
      "text/plain": [
       "'CountFeaturesInWholeAreaROIs'"
      ]
     },
     "execution_count": 13,
     "metadata": {},
     "output_type": "execute_result"
    }
   ],
   "source": [
    "list(refactored_project.database.quantification_results.keys())[0]"
   ]
  },
  {
   "cell_type": "code",
   "execution_count": null,
   "id": "03ab66b0-d32b-4fe2-a5b1-fcdcaf8c3979",
   "metadata": {},
   "outputs": [],
   "source": []
  },
  {
   "cell_type": "code",
   "execution_count": 10,
   "id": "02177fb5-6efa-435b-9c8d-0cb74ccd4034",
   "metadata": {},
   "outputs": [
    {
     "data": {
      "text/plain": [
       "{'file_id': ['0000', '0001', '0002', '0003'],\n",
       " 'original_file_id': ['#5_SN_tg_s2_sfr1',\n",
       "  '#8_SN_tg_s2_sfr1',\n",
       "  '#7_SN_wt_s2_sfr1',\n",
       "  '#9_SN_wt_s2_sfr1'],\n",
       " 'group_id': ['tg', 'tg', 'wt', 'wt'],\n",
       " 'subject_id': ['#5_tg_old', '#8_tg_old', '#7_wt_old', '#9_wt_old'],\n",
       " 'microscopy_filepath': [PosixPath('/mnt/c/Users/dsege/TEMP/test_project_multiple_rois_3D/00_microscopy_images/tg/#5_tg_old/#5_SN_tg_s2_sfr1.czi'),\n",
       "  PosixPath('/mnt/c/Users/dsege/TEMP/test_project_multiple_rois_3D/00_microscopy_images/tg/#8_tg_old/#8_SN_tg_s2_sfr1.czi'),\n",
       "  PosixPath('/mnt/c/Users/dsege/TEMP/test_project_multiple_rois_3D/00_microscopy_images/wt/#7_wt_old/#7_SN_wt_s2_sfr1.czi'),\n",
       "  PosixPath('/mnt/c/Users/dsege/TEMP/test_project_multiple_rois_3D/00_microscopy_images/wt/#9_wt_old/#9_SN_wt_s2_sfr1.czi')],\n",
       " 'microscopy_filetype': ['.czi', '.czi', '.czi', '.czi'],\n",
       " 'rois_present': [True, True, True, True],\n",
       " 'rois_filepath': [PosixPath('/mnt/c/Users/dsege/TEMP/test_project_multiple_rois_3D/01_rois_to_analyze/tg/#5_tg_old/#5_SN_tg_s2_sfr1.zip'),\n",
       "  PosixPath('/mnt/c/Users/dsege/TEMP/test_project_multiple_rois_3D/01_rois_to_analyze/tg/#8_tg_old/#8_SN_tg_s2_sfr1.zip'),\n",
       "  PosixPath('/mnt/c/Users/dsege/TEMP/test_project_multiple_rois_3D/01_rois_to_analyze/wt/#7_wt_old/#7_SN_wt_s2_sfr1.zip'),\n",
       "  PosixPath('/mnt/c/Users/dsege/TEMP/test_project_multiple_rois_3D/01_rois_to_analyze/wt/#9_wt_old/#9_SN_wt_s2_sfr1.zip')],\n",
       " 'rois_filetype': ['.zip', '.zip', '.zip', '.zip'],\n",
       " 'preprocessing_completed': [True, True, True, True],\n",
       " 'preprocessing_step_00': ['ConvertTo8Bit',\n",
       "  'ConvertTo8Bit',\n",
       "  'ConvertTo8Bit',\n",
       "  'ConvertTo8Bit'],\n",
       " 'preprocessing_step_01': ['CropToROIsBoundingBox',\n",
       "  'CropToROIsBoundingBox',\n",
       "  'CropToROIsBoundingBox',\n",
       "  'CropToROIsBoundingBox'],\n",
       " 'cropping_row_indices': [(0, -1), (0, -1), (0, 305519), (0, 4639)],\n",
       " 'cropping_column_indices': [(0, -1), (0, -1), (61, 4688), (0, 126210)],\n",
       " 'preprocessing_step_02': ['CropStitchingArtefactsRGB',\n",
       "  'CropStitchingArtefactsRGB',\n",
       "  'CropStitchingArtefactsRGB',\n",
       "  'CropStitchingArtefactsRGB'],\n",
       " 'RGB': [True, True, True, True],\n",
       " 'total_planes': [8, 8, 8, 9],\n",
       " 'segmentation_completed': [True, True, True, True],\n",
       " 'segmentation_step_00': ['Deepflash2SemanticAndInstanceSegmentation',\n",
       "  'Deepflash2SemanticAndInstanceSegmentation',\n",
       "  'Deepflash2SemanticAndInstanceSegmentation',\n",
       "  'Deepflash2SemanticAndInstanceSegmentation'],\n",
       " 'semantic_segmentations_done': [True, True, True, True],\n",
       " 'instance_segmentations_done': [True, True, True, True],\n",
       " 'batch_id': [0, 1, 0, 1],\n",
       " 'quantification_completed': [True, True, True, True],\n",
       " 'postprocessing_step_00': ['ReconstructCellsIn3DFrom2DInstanceLabels',\n",
       "  'ReconstructCellsIn3DFrom2DInstanceLabels',\n",
       "  'ReconstructCellsIn3DFrom2DInstanceLabels',\n",
       "  'ReconstructCellsIn3DFrom2DInstanceLabels'],\n",
       " 'postprocessing_step_01': ['ApplyExclusionCriteria',\n",
       "  'ApplyExclusionCriteria',\n",
       "  'ApplyExclusionCriteria',\n",
       "  'ApplyExclusionCriteria'],\n",
       " 'included_relative_positions': [['within', 'intersects'],\n",
       "  ['within', 'intersects'],\n",
       "  ['within', 'intersects'],\n",
       "  ['within', 'intersects']],\n",
       " 'minimum_number_of_planes_required_to_cover': [2, 2, 2, 2],\n",
       " 'quantification_step_00': ['CountFeaturesInWholeAreaROIs',\n",
       "  'CountFeaturesInWholeAreaROIs',\n",
       "  'CountFeaturesInWholeAreaROIs',\n",
       "  'CountFeaturesInWholeAreaROIs'],\n",
       " 'postprocessing_completed': [True, True, True, True]}"
      ]
     },
     "execution_count": 10,
     "metadata": {},
     "output_type": "execute_result"
    }
   ],
   "source": [
    "refactored_project.database.file_infos"
   ]
  },
  {
   "cell_type": "code",
   "execution_count": 7,
   "id": "9dbd7686-85ab-4c45-9e63-829d228305a4",
   "metadata": {},
   "outputs": [],
   "source": [
    "refactored_project.preprocess()"
   ]
  },
  {
   "cell_type": "code",
   "execution_count": 8,
   "id": "7866d791-a9ee-4632-a581-909777cd17b3",
   "metadata": {},
   "outputs": [
    {
     "name": "stdout",
     "output_type": "stream",
     "text": [
      "Found 3 models in folder /mnt/c/Users/dsege/TEMP/test_project_multiple_rois_3D/03_segmentation_tool/trained_models\n",
      "['Unet_resnet34_2classes-fold1.pth', 'Unet_resnet34_2classes-fold3.pth', 'Unet_resnet34_2classes-fold5.pth']\n",
      "Computing Stats...\n",
      "Found 3 models in folder /mnt/c/Users/dsege/TEMP/test_project_multiple_rois_3D/03_segmentation_tool/trained_models\n",
      "['Unet_resnet34_2classes-fold1.pth', 'Unet_resnet34_2classes-fold3.pth', 'Unet_resnet34_2classes-fold5.pth']\n"
     ]
    },
    {
     "data": {
      "text/html": [],
      "text/plain": [
       "<IPython.core.display.HTML object>"
      ]
     },
     "metadata": {},
     "output_type": "display_data"
    },
    {
     "name": "stdout",
     "output_type": "stream",
     "text": [
      "Predicting 0000-000.png\n"
     ]
    },
    {
     "data": {
      "text/html": [],
      "text/plain": [
       "<IPython.core.display.HTML object>"
      ]
     },
     "metadata": {},
     "output_type": "display_data"
    },
    {
     "name": "stdout",
     "output_type": "stream",
     "text": [
      "Predicting 0000-001.png\n"
     ]
    },
    {
     "data": {
      "text/html": [],
      "text/plain": [
       "<IPython.core.display.HTML object>"
      ]
     },
     "metadata": {},
     "output_type": "display_data"
    },
    {
     "name": "stdout",
     "output_type": "stream",
     "text": [
      "Predicting 0000-002.png\n"
     ]
    },
    {
     "data": {
      "text/html": [],
      "text/plain": [
       "<IPython.core.display.HTML object>"
      ]
     },
     "metadata": {},
     "output_type": "display_data"
    },
    {
     "name": "stdout",
     "output_type": "stream",
     "text": [
      "Predicting 0000-003.png\n"
     ]
    },
    {
     "data": {
      "text/html": [],
      "text/plain": [
       "<IPython.core.display.HTML object>"
      ]
     },
     "metadata": {},
     "output_type": "display_data"
    },
    {
     "name": "stdout",
     "output_type": "stream",
     "text": [
      "Predicting 0000-004.png\n"
     ]
    },
    {
     "data": {
      "text/html": [],
      "text/plain": [
       "<IPython.core.display.HTML object>"
      ]
     },
     "metadata": {},
     "output_type": "display_data"
    },
    {
     "name": "stdout",
     "output_type": "stream",
     "text": [
      "Predicting 0000-005.png\n"
     ]
    },
    {
     "data": {
      "text/html": [],
      "text/plain": [
       "<IPython.core.display.HTML object>"
      ]
     },
     "metadata": {},
     "output_type": "display_data"
    },
    {
     "name": "stdout",
     "output_type": "stream",
     "text": [
      "Predicting 0000-006.png\n"
     ]
    },
    {
     "data": {
      "text/html": [],
      "text/plain": [
       "<IPython.core.display.HTML object>"
      ]
     },
     "metadata": {},
     "output_type": "display_data"
    },
    {
     "name": "stdout",
     "output_type": "stream",
     "text": [
      "Predicting 0000-007.png\n"
     ]
    },
    {
     "data": {
      "text/html": [],
      "text/plain": [
       "<IPython.core.display.HTML object>"
      ]
     },
     "metadata": {},
     "output_type": "display_data"
    },
    {
     "name": "stdout",
     "output_type": "stream",
     "text": [
      "Predicting 0002-000.png\n"
     ]
    },
    {
     "data": {
      "text/html": [],
      "text/plain": [
       "<IPython.core.display.HTML object>"
      ]
     },
     "metadata": {},
     "output_type": "display_data"
    },
    {
     "name": "stdout",
     "output_type": "stream",
     "text": [
      "Predicting 0002-001.png\n"
     ]
    },
    {
     "data": {
      "text/html": [],
      "text/plain": [
       "<IPython.core.display.HTML object>"
      ]
     },
     "metadata": {},
     "output_type": "display_data"
    },
    {
     "name": "stdout",
     "output_type": "stream",
     "text": [
      "Predicting 0002-002.png\n"
     ]
    },
    {
     "data": {
      "text/html": [],
      "text/plain": [
       "<IPython.core.display.HTML object>"
      ]
     },
     "metadata": {},
     "output_type": "display_data"
    },
    {
     "name": "stdout",
     "output_type": "stream",
     "text": [
      "Predicting 0002-003.png\n"
     ]
    },
    {
     "data": {
      "text/html": [],
      "text/plain": [
       "<IPython.core.display.HTML object>"
      ]
     },
     "metadata": {},
     "output_type": "display_data"
    },
    {
     "name": "stdout",
     "output_type": "stream",
     "text": [
      "Predicting 0002-004.png\n"
     ]
    },
    {
     "data": {
      "text/html": [],
      "text/plain": [
       "<IPython.core.display.HTML object>"
      ]
     },
     "metadata": {},
     "output_type": "display_data"
    },
    {
     "name": "stdout",
     "output_type": "stream",
     "text": [
      "Predicting 0002-005.png\n"
     ]
    },
    {
     "data": {
      "text/html": [],
      "text/plain": [
       "<IPython.core.display.HTML object>"
      ]
     },
     "metadata": {},
     "output_type": "display_data"
    },
    {
     "name": "stdout",
     "output_type": "stream",
     "text": [
      "Predicting 0002-006.png\n"
     ]
    },
    {
     "data": {
      "text/html": [],
      "text/plain": [
       "<IPython.core.display.HTML object>"
      ]
     },
     "metadata": {},
     "output_type": "display_data"
    },
    {
     "name": "stdout",
     "output_type": "stream",
     "text": [
      "Predicting 0002-007.png\n"
     ]
    },
    {
     "data": {
      "text/html": [],
      "text/plain": [
       "<IPython.core.display.HTML object>"
      ]
     },
     "metadata": {},
     "output_type": "display_data"
    },
    {
     "name": "stdout",
     "output_type": "stream",
     "text": [
      "2022-02-22 19:35:09,889 [INFO] WRITING LOG OUTPUT TO /home/ds/.cellpose/run.log\n",
      "Found 3 models in folder /mnt/c/Users/dsege/TEMP/test_project_multiple_rois_3D/03_segmentation_tool/trained_models\n",
      "['Unet_resnet34_2classes-fold1.pth', 'Unet_resnet34_2classes-fold3.pth', 'Unet_resnet34_2classes-fold5.pth']\n",
      "Using diameter of 53\n",
      "2022-02-22 19:35:17,656 [INFO] ** TORCH CUDA version installed and working. **\n",
      "2022-02-22 19:35:17,657 [INFO] >>>> using GPU\n",
      "2022-02-22 19:35:17,858 [INFO] ~~~ FINDING MASKS ~~~\n",
      "2022-02-22 19:35:40,930 [INFO] >>>> TOTAL TIME 23.07 sec\n",
      "Found 3 models in folder /mnt/c/Users/dsege/TEMP/test_project_multiple_rois_3D/03_segmentation_tool/trained_models\n",
      "['Unet_resnet34_2classes-fold1.pth', 'Unet_resnet34_2classes-fold3.pth', 'Unet_resnet34_2classes-fold5.pth']\n",
      "Using diameter of 53\n",
      "2022-02-22 19:35:44,672 [INFO] ** TORCH CUDA version installed and working. **\n",
      "2022-02-22 19:35:44,673 [INFO] >>>> using GPU\n",
      "2022-02-22 19:35:44,803 [INFO] ~~~ FINDING MASKS ~~~\n",
      "2022-02-22 19:36:02,072 [INFO] >>>> TOTAL TIME 17.27 sec\n",
      "Found 3 models in folder /mnt/c/Users/dsege/TEMP/test_project_multiple_rois_3D/03_segmentation_tool/trained_models\n",
      "['Unet_resnet34_2classes-fold1.pth', 'Unet_resnet34_2classes-fold3.pth', 'Unet_resnet34_2classes-fold5.pth']\n",
      "Using diameter of 53\n",
      "2022-02-22 19:36:05,977 [INFO] ** TORCH CUDA version installed and working. **\n",
      "2022-02-22 19:36:05,977 [INFO] >>>> using GPU\n",
      "2022-02-22 19:36:06,089 [INFO] ~~~ FINDING MASKS ~~~\n",
      "2022-02-22 19:36:23,956 [INFO] >>>> TOTAL TIME 17.87 sec\n",
      "Found 3 models in folder /mnt/c/Users/dsege/TEMP/test_project_multiple_rois_3D/03_segmentation_tool/trained_models\n",
      "['Unet_resnet34_2classes-fold1.pth', 'Unet_resnet34_2classes-fold3.pth', 'Unet_resnet34_2classes-fold5.pth']\n",
      "Using diameter of 53\n",
      "2022-02-22 19:36:28,002 [INFO] ** TORCH CUDA version installed and working. **\n",
      "2022-02-22 19:36:28,002 [INFO] >>>> using GPU\n",
      "2022-02-22 19:36:28,123 [INFO] ~~~ FINDING MASKS ~~~\n",
      "2022-02-22 19:36:47,137 [INFO] >>>> TOTAL TIME 19.01 sec\n",
      "Found 3 models in folder /mnt/c/Users/dsege/TEMP/test_project_multiple_rois_3D/03_segmentation_tool/trained_models\n",
      "['Unet_resnet34_2classes-fold1.pth', 'Unet_resnet34_2classes-fold3.pth', 'Unet_resnet34_2classes-fold5.pth']\n",
      "Using diameter of 53\n",
      "2022-02-22 19:36:50,965 [INFO] ** TORCH CUDA version installed and working. **\n",
      "2022-02-22 19:36:50,966 [INFO] >>>> using GPU\n",
      "2022-02-22 19:36:51,059 [INFO] ~~~ FINDING MASKS ~~~\n",
      "2022-02-22 19:37:09,552 [INFO] >>>> TOTAL TIME 18.49 sec\n",
      "Found 3 models in folder /mnt/c/Users/dsege/TEMP/test_project_multiple_rois_3D/03_segmentation_tool/trained_models\n",
      "['Unet_resnet34_2classes-fold1.pth', 'Unet_resnet34_2classes-fold3.pth', 'Unet_resnet34_2classes-fold5.pth']\n",
      "Using diameter of 53\n",
      "2022-02-22 19:37:13,358 [INFO] ** TORCH CUDA version installed and working. **\n",
      "2022-02-22 19:37:13,359 [INFO] >>>> using GPU\n",
      "2022-02-22 19:37:13,468 [INFO] ~~~ FINDING MASKS ~~~\n",
      "2022-02-22 19:37:31,477 [INFO] >>>> TOTAL TIME 18.01 sec\n",
      "Found 3 models in folder /mnt/c/Users/dsege/TEMP/test_project_multiple_rois_3D/03_segmentation_tool/trained_models\n",
      "['Unet_resnet34_2classes-fold1.pth', 'Unet_resnet34_2classes-fold3.pth', 'Unet_resnet34_2classes-fold5.pth']\n",
      "Using diameter of 53\n",
      "2022-02-22 19:37:35,240 [INFO] ** TORCH CUDA version installed and working. **\n",
      "2022-02-22 19:37:35,240 [INFO] >>>> using GPU\n",
      "2022-02-22 19:37:35,360 [INFO] ~~~ FINDING MASKS ~~~\n",
      "2022-02-22 19:37:52,276 [INFO] >>>> TOTAL TIME 16.92 sec\n",
      "Found 3 models in folder /mnt/c/Users/dsege/TEMP/test_project_multiple_rois_3D/03_segmentation_tool/trained_models\n",
      "['Unet_resnet34_2classes-fold1.pth', 'Unet_resnet34_2classes-fold3.pth', 'Unet_resnet34_2classes-fold5.pth']\n",
      "Using diameter of 53\n",
      "2022-02-22 19:37:55,826 [INFO] ** TORCH CUDA version installed and working. **\n",
      "2022-02-22 19:37:55,826 [INFO] >>>> using GPU\n",
      "2022-02-22 19:37:55,946 [INFO] ~~~ FINDING MASKS ~~~\n",
      "2022-02-22 19:38:12,065 [INFO] >>>> TOTAL TIME 16.12 sec\n",
      "Found 3 models in folder /mnt/c/Users/dsege/TEMP/test_project_multiple_rois_3D/03_segmentation_tool/trained_models\n",
      "['Unet_resnet34_2classes-fold1.pth', 'Unet_resnet34_2classes-fold3.pth', 'Unet_resnet34_2classes-fold5.pth']\n",
      "Using diameter of 53\n",
      "2022-02-22 19:38:15,727 [INFO] ** TORCH CUDA version installed and working. **\n",
      "2022-02-22 19:38:15,728 [INFO] >>>> using GPU\n",
      "2022-02-22 19:38:15,850 [INFO] ~~~ FINDING MASKS ~~~\n",
      "2022-02-22 19:38:42,641 [INFO] >>>> TOTAL TIME 26.79 sec\n",
      "Found 3 models in folder /mnt/c/Users/dsege/TEMP/test_project_multiple_rois_3D/03_segmentation_tool/trained_models\n",
      "['Unet_resnet34_2classes-fold1.pth', 'Unet_resnet34_2classes-fold3.pth', 'Unet_resnet34_2classes-fold5.pth']\n",
      "Using diameter of 53\n",
      "2022-02-22 19:38:47,546 [INFO] ** TORCH CUDA version installed and working. **\n",
      "2022-02-22 19:38:47,547 [INFO] >>>> using GPU\n",
      "2022-02-22 19:38:47,725 [INFO] ~~~ FINDING MASKS ~~~\n",
      "2022-02-22 19:39:12,527 [INFO] >>>> TOTAL TIME 24.80 sec\n",
      "Found 3 models in folder /mnt/c/Users/dsege/TEMP/test_project_multiple_rois_3D/03_segmentation_tool/trained_models\n",
      "['Unet_resnet34_2classes-fold1.pth', 'Unet_resnet34_2classes-fold3.pth', 'Unet_resnet34_2classes-fold5.pth']\n",
      "Using diameter of 53\n",
      "2022-02-22 19:39:17,431 [INFO] ** TORCH CUDA version installed and working. **\n",
      "2022-02-22 19:39:17,432 [INFO] >>>> using GPU\n",
      "2022-02-22 19:39:17,587 [INFO] ~~~ FINDING MASKS ~~~\n",
      "2022-02-22 19:39:43,125 [INFO] >>>> TOTAL TIME 25.54 sec\n",
      "Found 3 models in folder /mnt/c/Users/dsege/TEMP/test_project_multiple_rois_3D/03_segmentation_tool/trained_models\n",
      "['Unet_resnet34_2classes-fold1.pth', 'Unet_resnet34_2classes-fold3.pth', 'Unet_resnet34_2classes-fold5.pth']\n",
      "Using diameter of 53\n",
      "2022-02-22 19:39:47,646 [INFO] ** TORCH CUDA version installed and working. **\n",
      "2022-02-22 19:39:47,647 [INFO] >>>> using GPU\n",
      "2022-02-22 19:39:47,801 [INFO] ~~~ FINDING MASKS ~~~\n",
      "2022-02-22 19:40:14,015 [INFO] >>>> TOTAL TIME 26.21 sec\n",
      "Found 3 models in folder /mnt/c/Users/dsege/TEMP/test_project_multiple_rois_3D/03_segmentation_tool/trained_models\n",
      "['Unet_resnet34_2classes-fold1.pth', 'Unet_resnet34_2classes-fold3.pth', 'Unet_resnet34_2classes-fold5.pth']\n",
      "Using diameter of 53\n",
      "2022-02-22 19:40:18,623 [INFO] ** TORCH CUDA version installed and working. **\n",
      "2022-02-22 19:40:18,624 [INFO] >>>> using GPU\n",
      "2022-02-22 19:40:18,750 [INFO] ~~~ FINDING MASKS ~~~\n",
      "2022-02-22 19:40:44,358 [INFO] >>>> TOTAL TIME 25.61 sec\n",
      "Found 3 models in folder /mnt/c/Users/dsege/TEMP/test_project_multiple_rois_3D/03_segmentation_tool/trained_models\n",
      "['Unet_resnet34_2classes-fold1.pth', 'Unet_resnet34_2classes-fold3.pth', 'Unet_resnet34_2classes-fold5.pth']\n",
      "Using diameter of 53\n",
      "2022-02-22 19:40:48,569 [INFO] ** TORCH CUDA version installed and working. **\n",
      "2022-02-22 19:40:48,569 [INFO] >>>> using GPU\n",
      "2022-02-22 19:40:48,697 [INFO] ~~~ FINDING MASKS ~~~\n",
      "2022-02-22 19:41:14,430 [INFO] >>>> TOTAL TIME 25.73 sec\n",
      "Found 3 models in folder /mnt/c/Users/dsege/TEMP/test_project_multiple_rois_3D/03_segmentation_tool/trained_models\n",
      "['Unet_resnet34_2classes-fold1.pth', 'Unet_resnet34_2classes-fold3.pth', 'Unet_resnet34_2classes-fold5.pth']\n",
      "Using diameter of 53\n",
      "2022-02-22 19:41:18,813 [INFO] ** TORCH CUDA version installed and working. **\n",
      "2022-02-22 19:41:18,814 [INFO] >>>> using GPU\n",
      "2022-02-22 19:41:18,947 [INFO] ~~~ FINDING MASKS ~~~\n",
      "2022-02-22 19:41:44,299 [INFO] >>>> TOTAL TIME 25.35 sec\n",
      "Found 3 models in folder /mnt/c/Users/dsege/TEMP/test_project_multiple_rois_3D/03_segmentation_tool/trained_models\n",
      "['Unet_resnet34_2classes-fold1.pth', 'Unet_resnet34_2classes-fold3.pth', 'Unet_resnet34_2classes-fold5.pth']\n",
      "Using diameter of 53\n",
      "2022-02-22 19:41:48,544 [INFO] ** TORCH CUDA version installed and working. **\n",
      "2022-02-22 19:41:48,545 [INFO] >>>> using GPU\n",
      "2022-02-22 19:41:48,675 [INFO] ~~~ FINDING MASKS ~~~\n",
      "2022-02-22 19:42:13,708 [INFO] >>>> TOTAL TIME 25.03 sec\n",
      "Found 3 models in folder /mnt/c/Users/dsege/TEMP/test_project_multiple_rois_3D/03_segmentation_tool/trained_models\n",
      "['Unet_resnet34_2classes-fold1.pth', 'Unet_resnet34_2classes-fold3.pth', 'Unet_resnet34_2classes-fold5.pth']\n"
     ]
    },
    {
     "data": {
      "text/html": [],
      "text/plain": [
       "<IPython.core.display.HTML object>"
      ]
     },
     "metadata": {},
     "output_type": "display_data"
    },
    {
     "name": "stdout",
     "output_type": "stream",
     "text": [
      "Predicting 0001-000.png\n"
     ]
    },
    {
     "data": {
      "text/html": [],
      "text/plain": [
       "<IPython.core.display.HTML object>"
      ]
     },
     "metadata": {},
     "output_type": "display_data"
    },
    {
     "name": "stdout",
     "output_type": "stream",
     "text": [
      "Predicting 0001-001.png\n"
     ]
    },
    {
     "data": {
      "text/html": [],
      "text/plain": [
       "<IPython.core.display.HTML object>"
      ]
     },
     "metadata": {},
     "output_type": "display_data"
    },
    {
     "name": "stdout",
     "output_type": "stream",
     "text": [
      "Predicting 0001-002.png\n"
     ]
    },
    {
     "data": {
      "text/html": [],
      "text/plain": [
       "<IPython.core.display.HTML object>"
      ]
     },
     "metadata": {},
     "output_type": "display_data"
    },
    {
     "name": "stdout",
     "output_type": "stream",
     "text": [
      "Predicting 0001-003.png\n"
     ]
    },
    {
     "data": {
      "text/html": [],
      "text/plain": [
       "<IPython.core.display.HTML object>"
      ]
     },
     "metadata": {},
     "output_type": "display_data"
    },
    {
     "name": "stdout",
     "output_type": "stream",
     "text": [
      "Predicting 0001-004.png\n"
     ]
    },
    {
     "data": {
      "text/html": [],
      "text/plain": [
       "<IPython.core.display.HTML object>"
      ]
     },
     "metadata": {},
     "output_type": "display_data"
    },
    {
     "name": "stdout",
     "output_type": "stream",
     "text": [
      "Predicting 0001-005.png\n"
     ]
    },
    {
     "data": {
      "text/html": [],
      "text/plain": [
       "<IPython.core.display.HTML object>"
      ]
     },
     "metadata": {},
     "output_type": "display_data"
    },
    {
     "name": "stdout",
     "output_type": "stream",
     "text": [
      "Predicting 0001-006.png\n"
     ]
    },
    {
     "data": {
      "text/html": [],
      "text/plain": [
       "<IPython.core.display.HTML object>"
      ]
     },
     "metadata": {},
     "output_type": "display_data"
    },
    {
     "name": "stdout",
     "output_type": "stream",
     "text": [
      "Predicting 0001-007.png\n"
     ]
    },
    {
     "data": {
      "text/html": [],
      "text/plain": [
       "<IPython.core.display.HTML object>"
      ]
     },
     "metadata": {},
     "output_type": "display_data"
    },
    {
     "name": "stdout",
     "output_type": "stream",
     "text": [
      "Predicting 0003-000.png\n"
     ]
    },
    {
     "data": {
      "text/html": [],
      "text/plain": [
       "<IPython.core.display.HTML object>"
      ]
     },
     "metadata": {},
     "output_type": "display_data"
    },
    {
     "name": "stdout",
     "output_type": "stream",
     "text": [
      "Predicting 0003-001.png\n"
     ]
    },
    {
     "data": {
      "text/html": [],
      "text/plain": [
       "<IPython.core.display.HTML object>"
      ]
     },
     "metadata": {},
     "output_type": "display_data"
    },
    {
     "name": "stdout",
     "output_type": "stream",
     "text": [
      "Predicting 0003-002.png\n"
     ]
    },
    {
     "data": {
      "text/html": [],
      "text/plain": [
       "<IPython.core.display.HTML object>"
      ]
     },
     "metadata": {},
     "output_type": "display_data"
    },
    {
     "name": "stdout",
     "output_type": "stream",
     "text": [
      "Predicting 0003-003.png\n"
     ]
    },
    {
     "data": {
      "text/html": [],
      "text/plain": [
       "<IPython.core.display.HTML object>"
      ]
     },
     "metadata": {},
     "output_type": "display_data"
    },
    {
     "name": "stdout",
     "output_type": "stream",
     "text": [
      "Predicting 0003-004.png\n"
     ]
    },
    {
     "data": {
      "text/html": [],
      "text/plain": [
       "<IPython.core.display.HTML object>"
      ]
     },
     "metadata": {},
     "output_type": "display_data"
    },
    {
     "name": "stdout",
     "output_type": "stream",
     "text": [
      "Predicting 0003-005.png\n"
     ]
    },
    {
     "data": {
      "text/html": [],
      "text/plain": [
       "<IPython.core.display.HTML object>"
      ]
     },
     "metadata": {},
     "output_type": "display_data"
    },
    {
     "name": "stdout",
     "output_type": "stream",
     "text": [
      "Predicting 0003-006.png\n"
     ]
    },
    {
     "data": {
      "text/html": [],
      "text/plain": [
       "<IPython.core.display.HTML object>"
      ]
     },
     "metadata": {},
     "output_type": "display_data"
    },
    {
     "name": "stdout",
     "output_type": "stream",
     "text": [
      "Predicting 0003-007.png\n"
     ]
    },
    {
     "data": {
      "text/html": [],
      "text/plain": [
       "<IPython.core.display.HTML object>"
      ]
     },
     "metadata": {},
     "output_type": "display_data"
    },
    {
     "name": "stdout",
     "output_type": "stream",
     "text": [
      "Predicting 0003-008.png\n"
     ]
    },
    {
     "data": {
      "text/html": [],
      "text/plain": [
       "<IPython.core.display.HTML object>"
      ]
     },
     "metadata": {},
     "output_type": "display_data"
    },
    {
     "name": "stdout",
     "output_type": "stream",
     "text": [
      "Found 3 models in folder /mnt/c/Users/dsege/TEMP/test_project_multiple_rois_3D/03_segmentation_tool/trained_models\n",
      "['Unet_resnet34_2classes-fold1.pth', 'Unet_resnet34_2classes-fold3.pth', 'Unet_resnet34_2classes-fold5.pth']\n",
      "Using diameter of 53\n",
      "2022-02-22 20:24:39,056 [INFO] ** TORCH CUDA version installed and working. **\n",
      "2022-02-22 20:24:39,061 [INFO] >>>> using GPU\n",
      "2022-02-22 20:24:39,198 [INFO] ~~~ FINDING MASKS ~~~\n",
      "2022-02-22 20:24:55,180 [INFO] >>>> TOTAL TIME 15.98 sec\n",
      "Found 3 models in folder /mnt/c/Users/dsege/TEMP/test_project_multiple_rois_3D/03_segmentation_tool/trained_models\n",
      "['Unet_resnet34_2classes-fold1.pth', 'Unet_resnet34_2classes-fold3.pth', 'Unet_resnet34_2classes-fold5.pth']\n",
      "Using diameter of 53\n",
      "2022-02-22 20:24:58,393 [INFO] ** TORCH CUDA version installed and working. **\n",
      "2022-02-22 20:24:58,394 [INFO] >>>> using GPU\n",
      "2022-02-22 20:24:58,519 [INFO] ~~~ FINDING MASKS ~~~\n",
      "2022-02-22 20:25:13,591 [INFO] >>>> TOTAL TIME 15.07 sec\n",
      "Found 3 models in folder /mnt/c/Users/dsege/TEMP/test_project_multiple_rois_3D/03_segmentation_tool/trained_models\n",
      "['Unet_resnet34_2classes-fold1.pth', 'Unet_resnet34_2classes-fold3.pth', 'Unet_resnet34_2classes-fold5.pth']\n",
      "Using diameter of 53\n",
      "2022-02-22 20:25:16,783 [INFO] ** TORCH CUDA version installed and working. **\n",
      "2022-02-22 20:25:16,783 [INFO] >>>> using GPU\n",
      "2022-02-22 20:25:16,895 [INFO] ~~~ FINDING MASKS ~~~\n",
      "2022-02-22 20:25:32,699 [INFO] >>>> TOTAL TIME 15.80 sec\n",
      "Found 3 models in folder /mnt/c/Users/dsege/TEMP/test_project_multiple_rois_3D/03_segmentation_tool/trained_models\n",
      "['Unet_resnet34_2classes-fold1.pth', 'Unet_resnet34_2classes-fold3.pth', 'Unet_resnet34_2classes-fold5.pth']\n",
      "Using diameter of 53\n",
      "2022-02-22 20:25:36,215 [INFO] ** TORCH CUDA version installed and working. **\n",
      "2022-02-22 20:25:36,215 [INFO] >>>> using GPU\n",
      "2022-02-22 20:25:36,338 [INFO] ~~~ FINDING MASKS ~~~\n",
      "2022-02-22 20:25:51,888 [INFO] >>>> TOTAL TIME 15.55 sec\n",
      "Found 3 models in folder /mnt/c/Users/dsege/TEMP/test_project_multiple_rois_3D/03_segmentation_tool/trained_models\n",
      "['Unet_resnet34_2classes-fold1.pth', 'Unet_resnet34_2classes-fold3.pth', 'Unet_resnet34_2classes-fold5.pth']\n",
      "Using diameter of 53\n",
      "2022-02-22 20:25:55,335 [INFO] ** TORCH CUDA version installed and working. **\n",
      "2022-02-22 20:25:55,336 [INFO] >>>> using GPU\n",
      "2022-02-22 20:25:55,452 [INFO] ~~~ FINDING MASKS ~~~\n",
      "2022-02-22 20:26:10,797 [INFO] >>>> TOTAL TIME 15.35 sec\n",
      "Found 3 models in folder /mnt/c/Users/dsege/TEMP/test_project_multiple_rois_3D/03_segmentation_tool/trained_models\n",
      "['Unet_resnet34_2classes-fold1.pth', 'Unet_resnet34_2classes-fold3.pth', 'Unet_resnet34_2classes-fold5.pth']\n",
      "Using diameter of 53\n",
      "2022-02-22 20:26:14,465 [INFO] ** TORCH CUDA version installed and working. **\n",
      "2022-02-22 20:26:14,466 [INFO] >>>> using GPU\n",
      "2022-02-22 20:26:14,590 [INFO] ~~~ FINDING MASKS ~~~\n",
      "2022-02-22 20:26:30,211 [INFO] >>>> TOTAL TIME 15.62 sec\n",
      "Found 3 models in folder /mnt/c/Users/dsege/TEMP/test_project_multiple_rois_3D/03_segmentation_tool/trained_models\n",
      "['Unet_resnet34_2classes-fold1.pth', 'Unet_resnet34_2classes-fold3.pth', 'Unet_resnet34_2classes-fold5.pth']\n",
      "Using diameter of 53\n",
      "2022-02-22 20:26:33,453 [INFO] ** TORCH CUDA version installed and working. **\n",
      "2022-02-22 20:26:33,454 [INFO] >>>> using GPU\n",
      "2022-02-22 20:26:33,571 [INFO] ~~~ FINDING MASKS ~~~\n",
      "2022-02-22 20:26:48,312 [INFO] >>>> TOTAL TIME 14.74 sec\n",
      "Found 3 models in folder /mnt/c/Users/dsege/TEMP/test_project_multiple_rois_3D/03_segmentation_tool/trained_models\n",
      "['Unet_resnet34_2classes-fold1.pth', 'Unet_resnet34_2classes-fold3.pth', 'Unet_resnet34_2classes-fold5.pth']\n",
      "Using diameter of 53\n",
      "2022-02-22 20:26:52,298 [INFO] ** TORCH CUDA version installed and working. **\n",
      "2022-02-22 20:26:52,299 [INFO] >>>> using GPU\n",
      "2022-02-22 20:26:52,445 [INFO] ~~~ FINDING MASKS ~~~\n",
      "2022-02-22 20:27:08,096 [INFO] >>>> TOTAL TIME 15.65 sec\n",
      "Found 3 models in folder /mnt/c/Users/dsege/TEMP/test_project_multiple_rois_3D/03_segmentation_tool/trained_models\n",
      "['Unet_resnet34_2classes-fold1.pth', 'Unet_resnet34_2classes-fold3.pth', 'Unet_resnet34_2classes-fold5.pth']\n",
      "Using diameter of 53\n",
      "2022-02-22 20:27:12,679 [INFO] ** TORCH CUDA version installed and working. **\n",
      "2022-02-22 20:27:12,680 [INFO] >>>> using GPU\n",
      "2022-02-22 20:27:12,855 [INFO] ~~~ FINDING MASKS ~~~\n",
      "2022-02-22 20:27:43,971 [INFO] >>>> TOTAL TIME 31.12 sec\n",
      "Found 3 models in folder /mnt/c/Users/dsege/TEMP/test_project_multiple_rois_3D/03_segmentation_tool/trained_models\n",
      "['Unet_resnet34_2classes-fold1.pth', 'Unet_resnet34_2classes-fold3.pth', 'Unet_resnet34_2classes-fold5.pth']\n",
      "Using diameter of 53\n",
      "2022-02-22 20:27:49,069 [INFO] ** TORCH CUDA version installed and working. **\n",
      "2022-02-22 20:27:49,070 [INFO] >>>> using GPU\n",
      "2022-02-22 20:27:49,226 [INFO] ~~~ FINDING MASKS ~~~\n",
      "2022-02-22 20:28:18,607 [INFO] >>>> TOTAL TIME 29.38 sec\n",
      "Found 3 models in folder /mnt/c/Users/dsege/TEMP/test_project_multiple_rois_3D/03_segmentation_tool/trained_models\n",
      "['Unet_resnet34_2classes-fold1.pth', 'Unet_resnet34_2classes-fold3.pth', 'Unet_resnet34_2classes-fold5.pth']\n",
      "Using diameter of 53\n",
      "2022-02-22 20:28:22,928 [INFO] ** TORCH CUDA version installed and working. **\n",
      "2022-02-22 20:28:22,929 [INFO] >>>> using GPU\n",
      "2022-02-22 20:28:23,079 [INFO] ~~~ FINDING MASKS ~~~\n",
      "2022-02-22 20:28:51,844 [INFO] >>>> TOTAL TIME 28.76 sec\n",
      "Found 3 models in folder /mnt/c/Users/dsege/TEMP/test_project_multiple_rois_3D/03_segmentation_tool/trained_models\n",
      "['Unet_resnet34_2classes-fold1.pth', 'Unet_resnet34_2classes-fold3.pth', 'Unet_resnet34_2classes-fold5.pth']\n",
      "Using diameter of 53\n",
      "2022-02-22 20:28:56,532 [INFO] ** TORCH CUDA version installed and working. **\n",
      "2022-02-22 20:28:56,533 [INFO] >>>> using GPU\n",
      "2022-02-22 20:28:56,677 [INFO] ~~~ FINDING MASKS ~~~\n",
      "2022-02-22 20:29:24,298 [INFO] >>>> TOTAL TIME 27.62 sec\n",
      "Found 3 models in folder /mnt/c/Users/dsege/TEMP/test_project_multiple_rois_3D/03_segmentation_tool/trained_models\n",
      "['Unet_resnet34_2classes-fold1.pth', 'Unet_resnet34_2classes-fold3.pth', 'Unet_resnet34_2classes-fold5.pth']\n",
      "Using diameter of 53\n",
      "2022-02-22 20:29:28,964 [INFO] ** TORCH CUDA version installed and working. **\n",
      "2022-02-22 20:29:28,965 [INFO] >>>> using GPU\n",
      "2022-02-22 20:29:29,116 [INFO] ~~~ FINDING MASKS ~~~\n",
      "2022-02-22 20:29:57,003 [INFO] >>>> TOTAL TIME 27.89 sec\n",
      "Found 3 models in folder /mnt/c/Users/dsege/TEMP/test_project_multiple_rois_3D/03_segmentation_tool/trained_models\n",
      "['Unet_resnet34_2classes-fold1.pth', 'Unet_resnet34_2classes-fold3.pth', 'Unet_resnet34_2classes-fold5.pth']\n",
      "Using diameter of 53\n",
      "2022-02-22 20:30:01,774 [INFO] ** TORCH CUDA version installed and working. **\n",
      "2022-02-22 20:30:01,775 [INFO] >>>> using GPU\n",
      "2022-02-22 20:30:01,913 [INFO] ~~~ FINDING MASKS ~~~\n",
      "2022-02-22 20:30:29,411 [INFO] >>>> TOTAL TIME 27.50 sec\n",
      "Found 3 models in folder /mnt/c/Users/dsege/TEMP/test_project_multiple_rois_3D/03_segmentation_tool/trained_models\n",
      "['Unet_resnet34_2classes-fold1.pth', 'Unet_resnet34_2classes-fold3.pth', 'Unet_resnet34_2classes-fold5.pth']\n",
      "Using diameter of 53\n",
      "2022-02-22 20:30:34,045 [INFO] ** TORCH CUDA version installed and working. **\n",
      "2022-02-22 20:30:34,046 [INFO] >>>> using GPU\n",
      "2022-02-22 20:30:34,182 [INFO] ~~~ FINDING MASKS ~~~\n",
      "2022-02-22 20:31:02,108 [INFO] >>>> TOTAL TIME 27.93 sec\n",
      "Found 3 models in folder /mnt/c/Users/dsege/TEMP/test_project_multiple_rois_3D/03_segmentation_tool/trained_models\n",
      "['Unet_resnet34_2classes-fold1.pth', 'Unet_resnet34_2classes-fold3.pth', 'Unet_resnet34_2classes-fold5.pth']\n",
      "Using diameter of 53\n",
      "2022-02-22 20:31:06,794 [INFO] ** TORCH CUDA version installed and working. **\n",
      "2022-02-22 20:31:06,795 [INFO] >>>> using GPU\n",
      "2022-02-22 20:31:06,950 [INFO] ~~~ FINDING MASKS ~~~\n",
      "2022-02-22 20:31:34,930 [INFO] >>>> TOTAL TIME 27.98 sec\n",
      "Found 3 models in folder /mnt/c/Users/dsege/TEMP/test_project_multiple_rois_3D/03_segmentation_tool/trained_models\n",
      "['Unet_resnet34_2classes-fold1.pth', 'Unet_resnet34_2classes-fold3.pth', 'Unet_resnet34_2classes-fold5.pth']\n",
      "Using diameter of 53\n",
      "2022-02-22 20:31:39,577 [INFO] ** TORCH CUDA version installed and working. **\n",
      "2022-02-22 20:31:39,578 [INFO] >>>> using GPU\n",
      "2022-02-22 20:31:39,739 [INFO] ~~~ FINDING MASKS ~~~\n",
      "2022-02-22 20:32:06,622 [INFO] >>>> TOTAL TIME 26.88 sec\n"
     ]
    }
   ],
   "source": [
    "refactored_project.segment(batch_size = 2)"
   ]
  },
  {
   "cell_type": "code",
   "execution_count": 9,
   "id": "7e1533be-7de5-4516-9f66-241c569debae",
   "metadata": {},
   "outputs": [
    {
     "name": "stdout",
     "output_type": "stream",
     "text": [
      "Warning: preprocessing_step_00 not yet specified in renaming dictionary\n",
      "Warning: preprocessing_step_01 not yet specified in renaming dictionary\n",
      "Warning: preprocessing_step_02 not yet specified in renaming dictionary\n",
      "Warning: total_planes not yet specified in renaming dictionary\n",
      "Warning: segmentation_completed not yet specified in renaming dictionary\n",
      "Warning: segmentation_step_00 not yet specified in renaming dictionary\n",
      "Warning: semantic_segmentations_done not yet specified in renaming dictionary\n",
      "Warning: instance_segmentations_done not yet specified in renaming dictionary\n",
      "Warning: batch_id not yet specified in renaming dictionary\n"
     ]
    }
   ],
   "source": [
    "refactored_project.save_status()"
   ]
  },
  {
   "cell_type": "code",
   "execution_count": 10,
   "id": "1f434735-1320-4cf4-aa19-f20ded426d26",
   "metadata": {},
   "outputs": [
    {
     "name": "stdout",
     "output_type": "stream",
     "text": [
      "Quantification of file ID: 0000 (1/4)\n",
      "-Initializing 3D reconstruction from 2D instance segmentations\n",
      "--matching ROIs across planes (1/8)\n",
      "--matching ROIs across planes (2/8)\n",
      "--matching ROIs across planes (3/8)\n",
      "--matching ROIs across planes (4/8)\n",
      "--matching ROIs across planes (5/8)\n",
      "--matching ROIs across planes (6/8)\n",
      "--matching ROIs across planes (7/8)\n",
      "--matching ROIs across planes (8/8)\n",
      "-applying exclusion criteria\n",
      "-counting the number of image features per region of interest\n",
      "Quantification of file ID: 0001 (2/4)\n",
      "-Initializing 3D reconstruction from 2D instance segmentations\n",
      "--matching ROIs across planes (1/8)\n",
      "--matching ROIs across planes (2/8)\n",
      "--matching ROIs across planes (3/8)\n",
      "--matching ROIs across planes (4/8)\n",
      "--matching ROIs across planes (5/8)\n",
      "--matching ROIs across planes (6/8)\n",
      "--matching ROIs across planes (7/8)\n",
      "--matching ROIs across planes (8/8)\n",
      "-applying exclusion criteria\n",
      "-counting the number of image features per region of interest\n",
      "Quantification of file ID: 0002 (3/4)\n",
      "-Initializing 3D reconstruction from 2D instance segmentations\n",
      "--matching ROIs across planes (1/8)\n",
      "--matching ROIs across planes (2/8)\n",
      "--matching ROIs across planes (3/8)\n",
      "--matching ROIs across planes (4/8)\n",
      "--matching ROIs across planes (5/8)\n",
      "--matching ROIs across planes (6/8)\n",
      "--matching ROIs across planes (7/8)\n",
      "--matching ROIs across planes (8/8)\n",
      "-applying exclusion criteria\n",
      "-counting the number of image features per region of interest\n",
      "Quantification of file ID: 0003 (4/4)\n",
      "-Initializing 3D reconstruction from 2D instance segmentations\n",
      "--matching ROIs across planes (1/9)\n",
      "--matching ROIs across planes (2/9)\n",
      "--matching ROIs across planes (3/9)\n",
      "--matching ROIs across planes (4/9)\n",
      "--matching ROIs across planes (5/9)\n",
      "--matching ROIs across planes (6/9)\n",
      "--matching ROIs across planes (7/9)\n",
      "--matching ROIs across planes (8/9)\n",
      "--matching ROIs across planes (9/9)\n",
      "-applying exclusion criteria\n",
      "-counting the number of image features per region of interest\n"
     ]
    }
   ],
   "source": [
    "refactored_project.quantify()"
   ]
  },
  {
   "cell_type": "code",
   "execution_count": 12,
   "id": "9d4380ea-8f31-45fd-bd70-bc82a525336b",
   "metadata": {},
   "outputs": [
    {
     "data": {
      "text/plain": [
       "{'CountFeaturesInWholeAreaROIs': {'0000': {'SN': 83, 'VTA': 39},\n",
       "  '0001': {'SN': 19, 'VTA': 1},\n",
       "  '0002': {'SN': 76, 'VTA': 3},\n",
       "  '0003': {'SN': 136, 'VTA': 2}}}"
      ]
     },
     "execution_count": 12,
     "metadata": {},
     "output_type": "execute_result"
    }
   ],
   "source": [
    "refactored_project.database.quantification_results"
   ]
  },
  {
   "cell_type": "code",
   "execution_count": null,
   "id": "98888e6f-47b6-441e-85ea-802cb6b52256",
   "metadata": {},
   "outputs": [],
   "source": [
    "database.quantification_results['CountFeaturesInWholeAreaROIs'][file_id][area_roi_id] = count"
   ]
  },
  {
   "cell_type": "code",
   "execution_count": 12,
   "id": "87d2f011-1168-4435-9d1b-549cf36b52d2",
   "metadata": {},
   "outputs": [
    {
     "data": {
      "text/plain": [
       "{'CountFeaturesInWholeAreaROIs': {'0000': {'SN': 49, 'VTA': 20},\n",
       "  '0001': {'SN': 12, 'VTA': 1},\n",
       "  '0002': {'SN': 42, 'VTA': 2},\n",
       "  '0003': {'SN': 76, 'VTA': 2}}}"
      ]
     },
     "execution_count": 12,
     "metadata": {},
     "output_type": "execute_result"
    }
   ],
   "source": [
    "refactored_project.database.quantification_results"
   ]
  },
  {
   "cell_type": "code",
   "execution_count": 14,
   "id": "bfa6f97b-f328-4e6d-9400-d3ed15df1930",
   "metadata": {},
   "outputs": [
    {
     "name": "stdout",
     "output_type": "stream",
     "text": [
      "Warning: preprocessing_step_00 not yet specified in renaming dictionary\n",
      "Warning: preprocessing_step_01 not yet specified in renaming dictionary\n",
      "Warning: preprocessing_step_02 not yet specified in renaming dictionary\n",
      "Warning: total_planes not yet specified in renaming dictionary\n",
      "Warning: segmentation_completed not yet specified in renaming dictionary\n",
      "Warning: segmentation_step_00 not yet specified in renaming dictionary\n",
      "Warning: semantic_segmentations_done not yet specified in renaming dictionary\n",
      "Warning: instance_segmentations_done not yet specified in renaming dictionary\n",
      "Warning: batch_id not yet specified in renaming dictionary\n",
      "Warning: postprocessing_step_00 not yet specified in renaming dictionary\n",
      "Warning: postprocessing_step_01 not yet specified in renaming dictionary\n",
      "Warning: included_relative_positions not yet specified in renaming dictionary\n",
      "Warning: minimum_number_of_planes_required_to_cover not yet specified in renaming dictionary\n",
      "Warning: quantification_step_00 not yet specified in renaming dictionary\n",
      "Warning: postprocessing_completed not yet specified in renaming dictionary\n"
     ]
    }
   ],
   "source": [
    "refactored_project.save_status()"
   ]
  },
  {
   "cell_type": "code",
   "execution_count": 12,
   "id": "251dd4d4-2b19-4326-9151-342183da52d0",
   "metadata": {},
   "outputs": [
    {
     "data": {
      "text/plain": [
       "{'CountFeaturesInWholeAreaROIs': {'0000': {'000': 50},\n",
       "  '0001': {'000': 13},\n",
       "  '0002': {'000': 41},\n",
       "  '0003': {'000': 76}}}"
      ]
     },
     "execution_count": 12,
     "metadata": {},
     "output_type": "execute_result"
    }
   ],
   "source": [
    "refactored_project.database.quantification_results"
   ]
  },
  {
   "cell_type": "code",
   "execution_count": 10,
   "id": "b4ffa59e-a5dc-46d4-9f45-530bc55f248a",
   "metadata": {},
   "outputs": [
    {
     "name": "stdout",
     "output_type": "stream",
     "text": [
      "--matching ROIs across planes (1/8)\n",
      "--matching ROIs across planes (2/8)\n",
      "--matching ROIs across planes (3/8)\n",
      "--matching ROIs across planes (4/8)\n",
      "--matching ROIs across planes (5/8)\n",
      "--matching ROIs across planes (6/8)\n",
      "--matching ROIs across planes (7/8)\n",
      "--matching ROIs across planes (8/8)\n",
      "--matching ROIs across planes (1/8)\n",
      "--matching ROIs across planes (2/8)\n",
      "--matching ROIs across planes (3/8)\n",
      "--matching ROIs across planes (4/8)\n",
      "--matching ROIs across planes (5/8)\n",
      "--matching ROIs across planes (6/8)\n",
      "--matching ROIs across planes (7/8)\n",
      "--matching ROIs across planes (8/8)\n",
      "--matching ROIs across planes (1/8)\n",
      "--matching ROIs across planes (2/8)\n",
      "--matching ROIs across planes (3/8)\n",
      "--matching ROIs across planes (4/8)\n",
      "--matching ROIs across planes (5/8)\n",
      "--matching ROIs across planes (6/8)\n",
      "--matching ROIs across planes (7/8)\n",
      "--matching ROIs across planes (8/8)\n",
      "--matching ROIs across planes (1/9)\n",
      "--matching ROIs across planes (2/9)\n",
      "--matching ROIs across planes (3/9)\n",
      "--matching ROIs across planes (4/9)\n",
      "--matching ROIs across planes (5/9)\n",
      "--matching ROIs across planes (6/9)\n",
      "--matching ROIs across planes (7/9)\n",
      "--matching ROIs across planes (8/9)\n",
      "--matching ROIs across planes (9/9)\n"
     ]
    }
   ],
   "source": [
    "#refactored_project.load_status()\n",
    "refactored_project.quantify()"
   ]
  },
  {
   "cell_type": "code",
   "execution_count": 11,
   "id": "a449b62f-4750-4ff7-b3c1-728af2bd766c",
   "metadata": {},
   "outputs": [
    {
     "data": {
      "text/plain": [
       "{'CountFeaturesInWholeAreaROIs': {'0000': {'000': 84},\n",
       "  '0001': {'000': 20},\n",
       "  '0002': {'000': 76},\n",
       "  '0003': {'000': 137}}}"
      ]
     },
     "execution_count": 11,
     "metadata": {},
     "output_type": "execute_result"
    }
   ],
   "source": [
    "refactored_project.database.quantification_results"
   ]
  },
  {
   "cell_type": "code",
   "execution_count": 13,
   "id": "6469e4c9-18a8-4402-af1d-8704e305008d",
   "metadata": {},
   "outputs": [],
   "source": [
    "refactored_project.preprocess()"
   ]
  },
  {
   "cell_type": "code",
   "execution_count": 14,
   "id": "8c42aafa-8110-448e-85f0-390ed2c32d01",
   "metadata": {},
   "outputs": [
    {
     "data": {
      "text/plain": [
       "{'0000': {'all_planes': {'000': <shapely.geometry.polygon.Polygon at 0x7f1893379f10>}},\n",
       " '0001': {'all_planes': {'000': <shapely.geometry.polygon.Polygon at 0x7f1893379f50>}},\n",
       " '0002': {'all_planes': {'000': <shapely.geometry.polygon.Polygon at 0x7f1893387050>}},\n",
       " '0003': {'all_planes': {'000': <shapely.geometry.polygon.Polygon at 0x7f18933870d0>}}}"
      ]
     },
     "execution_count": 14,
     "metadata": {},
     "output_type": "execute_result"
    }
   ],
   "source": [
    "refactored_project.database.area_rois_for_quantification"
   ]
  },
  {
   "cell_type": "code",
   "execution_count": 8,
   "id": "6882d47f-b326-4a54-99aa-966b6e0ca039",
   "metadata": {
    "collapsed": true,
    "jupyter": {
     "outputs_hidden": true
    },
    "tags": []
   },
   "outputs": [
    {
     "name": "stdout",
     "output_type": "stream",
     "text": [
      "Found 3 models in folder /mnt/c/Users/dsege/TEMP/test_project4/03_segmentation_tool/trained_models\n",
      "['Unet_resnet34_2classes-fold1.pth', 'Unet_resnet34_2classes-fold3.pth', 'Unet_resnet34_2classes-fold5.pth']\n",
      "Computing Stats...\n",
      "Found 3 models in folder /mnt/c/Users/dsege/TEMP/test_project4/03_segmentation_tool/trained_models\n",
      "['Unet_resnet34_2classes-fold1.pth', 'Unet_resnet34_2classes-fold3.pth', 'Unet_resnet34_2classes-fold5.pth']\n"
     ]
    },
    {
     "data": {
      "text/html": [],
      "text/plain": [
       "<IPython.core.display.HTML object>"
      ]
     },
     "metadata": {},
     "output_type": "display_data"
    },
    {
     "name": "stdout",
     "output_type": "stream",
     "text": [
      "Predicting 0002-000.png\n"
     ]
    },
    {
     "data": {
      "text/html": [],
      "text/plain": [
       "<IPython.core.display.HTML object>"
      ]
     },
     "metadata": {},
     "output_type": "display_data"
    },
    {
     "name": "stdout",
     "output_type": "stream",
     "text": [
      "Predicting 0002-001.png\n"
     ]
    },
    {
     "data": {
      "text/html": [],
      "text/plain": [
       "<IPython.core.display.HTML object>"
      ]
     },
     "metadata": {},
     "output_type": "display_data"
    },
    {
     "name": "stdout",
     "output_type": "stream",
     "text": [
      "Predicting 0002-002.png\n"
     ]
    },
    {
     "data": {
      "text/html": [],
      "text/plain": [
       "<IPython.core.display.HTML object>"
      ]
     },
     "metadata": {},
     "output_type": "display_data"
    },
    {
     "name": "stdout",
     "output_type": "stream",
     "text": [
      "Predicting 0002-003.png\n"
     ]
    },
    {
     "data": {
      "text/html": [],
      "text/plain": [
       "<IPython.core.display.HTML object>"
      ]
     },
     "metadata": {},
     "output_type": "display_data"
    },
    {
     "name": "stdout",
     "output_type": "stream",
     "text": [
      "Predicting 0002-004.png\n"
     ]
    },
    {
     "data": {
      "text/html": [],
      "text/plain": [
       "<IPython.core.display.HTML object>"
      ]
     },
     "metadata": {},
     "output_type": "display_data"
    },
    {
     "name": "stdout",
     "output_type": "stream",
     "text": [
      "Predicting 0002-005.png\n"
     ]
    },
    {
     "data": {
      "text/html": [],
      "text/plain": [
       "<IPython.core.display.HTML object>"
      ]
     },
     "metadata": {},
     "output_type": "display_data"
    },
    {
     "name": "stdout",
     "output_type": "stream",
     "text": [
      "Predicting 0002-006.png\n"
     ]
    },
    {
     "data": {
      "text/html": [],
      "text/plain": [
       "<IPython.core.display.HTML object>"
      ]
     },
     "metadata": {},
     "output_type": "display_data"
    },
    {
     "name": "stdout",
     "output_type": "stream",
     "text": [
      "Predicting 0002-007.png\n"
     ]
    },
    {
     "data": {
      "text/html": [],
      "text/plain": [
       "<IPython.core.display.HTML object>"
      ]
     },
     "metadata": {},
     "output_type": "display_data"
    },
    {
     "name": "stdout",
     "output_type": "stream",
     "text": [
      "Predicting 0003-000.png\n"
     ]
    },
    {
     "data": {
      "text/html": [],
      "text/plain": [
       "<IPython.core.display.HTML object>"
      ]
     },
     "metadata": {},
     "output_type": "display_data"
    },
    {
     "name": "stdout",
     "output_type": "stream",
     "text": [
      "Predicting 0003-001.png\n"
     ]
    },
    {
     "data": {
      "text/html": [],
      "text/plain": [
       "<IPython.core.display.HTML object>"
      ]
     },
     "metadata": {},
     "output_type": "display_data"
    },
    {
     "name": "stdout",
     "output_type": "stream",
     "text": [
      "Predicting 0003-002.png\n"
     ]
    },
    {
     "data": {
      "text/html": [],
      "text/plain": [
       "<IPython.core.display.HTML object>"
      ]
     },
     "metadata": {},
     "output_type": "display_data"
    },
    {
     "name": "stdout",
     "output_type": "stream",
     "text": [
      "Predicting 0003-003.png\n"
     ]
    },
    {
     "data": {
      "text/html": [],
      "text/plain": [
       "<IPython.core.display.HTML object>"
      ]
     },
     "metadata": {},
     "output_type": "display_data"
    },
    {
     "name": "stdout",
     "output_type": "stream",
     "text": [
      "Predicting 0003-004.png\n"
     ]
    },
    {
     "data": {
      "text/html": [],
      "text/plain": [
       "<IPython.core.display.HTML object>"
      ]
     },
     "metadata": {},
     "output_type": "display_data"
    },
    {
     "name": "stdout",
     "output_type": "stream",
     "text": [
      "Predicting 0003-005.png\n"
     ]
    },
    {
     "data": {
      "text/html": [],
      "text/plain": [
       "<IPython.core.display.HTML object>"
      ]
     },
     "metadata": {},
     "output_type": "display_data"
    },
    {
     "name": "stdout",
     "output_type": "stream",
     "text": [
      "Predicting 0003-006.png\n"
     ]
    },
    {
     "data": {
      "text/html": [],
      "text/plain": [
       "<IPython.core.display.HTML object>"
      ]
     },
     "metadata": {},
     "output_type": "display_data"
    },
    {
     "name": "stdout",
     "output_type": "stream",
     "text": [
      "Predicting 0003-007.png\n"
     ]
    },
    {
     "data": {
      "text/html": [],
      "text/plain": [
       "<IPython.core.display.HTML object>"
      ]
     },
     "metadata": {},
     "output_type": "display_data"
    },
    {
     "name": "stdout",
     "output_type": "stream",
     "text": [
      "Predicting 0003-008.png\n"
     ]
    },
    {
     "data": {
      "text/html": [],
      "text/plain": [
       "<IPython.core.display.HTML object>"
      ]
     },
     "metadata": {},
     "output_type": "display_data"
    },
    {
     "name": "stdout",
     "output_type": "stream",
     "text": [
      "2022-02-21 17:03:23,410 [INFO] WRITING LOG OUTPUT TO /home/ds/.cellpose/run.log\n",
      "Found 3 models in folder /mnt/c/Users/dsege/TEMP/test_project4/03_segmentation_tool/trained_models\n",
      "['Unet_resnet34_2classes-fold1.pth', 'Unet_resnet34_2classes-fold3.pth', 'Unet_resnet34_2classes-fold5.pth']\n",
      "Using diameter of 55\n",
      "2022-02-21 17:03:35,302 [INFO] ** TORCH CUDA version installed and working. **\n",
      "2022-02-21 17:03:35,302 [INFO] >>>> using GPU\n",
      "2022-02-21 17:03:35,668 [INFO] ~~~ FINDING MASKS ~~~\n",
      "2022-02-21 17:04:23,329 [INFO] >>>> TOTAL TIME 47.66 sec\n",
      "Found 3 models in folder /mnt/c/Users/dsege/TEMP/test_project4/03_segmentation_tool/trained_models\n",
      "['Unet_resnet34_2classes-fold1.pth', 'Unet_resnet34_2classes-fold3.pth', 'Unet_resnet34_2classes-fold5.pth']\n",
      "Using diameter of 55\n",
      "2022-02-21 17:04:29,608 [INFO] ** TORCH CUDA version installed and working. **\n",
      "2022-02-21 17:04:29,609 [INFO] >>>> using GPU\n",
      "2022-02-21 17:04:29,788 [INFO] ~~~ FINDING MASKS ~~~\n",
      "2022-02-21 17:05:03,330 [INFO] >>>> TOTAL TIME 33.54 sec\n",
      "Found 3 models in folder /mnt/c/Users/dsege/TEMP/test_project4/03_segmentation_tool/trained_models\n",
      "['Unet_resnet34_2classes-fold1.pth', 'Unet_resnet34_2classes-fold3.pth', 'Unet_resnet34_2classes-fold5.pth']\n",
      "Using diameter of 55\n",
      "2022-02-21 17:05:09,383 [INFO] ** TORCH CUDA version installed and working. **\n",
      "2022-02-21 17:05:09,384 [INFO] >>>> using GPU\n",
      "2022-02-21 17:05:09,563 [INFO] ~~~ FINDING MASKS ~~~\n",
      "2022-02-21 17:05:43,349 [INFO] >>>> TOTAL TIME 33.79 sec\n",
      "Found 3 models in folder /mnt/c/Users/dsege/TEMP/test_project4/03_segmentation_tool/trained_models\n",
      "['Unet_resnet34_2classes-fold1.pth', 'Unet_resnet34_2classes-fold3.pth', 'Unet_resnet34_2classes-fold5.pth']\n",
      "Using diameter of 55\n",
      "2022-02-21 17:05:49,709 [INFO] ** TORCH CUDA version installed and working. **\n",
      "2022-02-21 17:05:49,710 [INFO] >>>> using GPU\n",
      "2022-02-21 17:05:49,905 [INFO] ~~~ FINDING MASKS ~~~\n",
      "2022-02-21 17:06:19,709 [INFO] >>>> TOTAL TIME 29.80 sec\n",
      "Found 3 models in folder /mnt/c/Users/dsege/TEMP/test_project4/03_segmentation_tool/trained_models\n",
      "['Unet_resnet34_2classes-fold1.pth', 'Unet_resnet34_2classes-fold3.pth', 'Unet_resnet34_2classes-fold5.pth']\n",
      "Using diameter of 55\n",
      "2022-02-21 17:06:25,491 [INFO] ** TORCH CUDA version installed and working. **\n",
      "2022-02-21 17:06:25,492 [INFO] >>>> using GPU\n",
      "2022-02-21 17:06:25,636 [INFO] ~~~ FINDING MASKS ~~~\n",
      "2022-02-21 17:06:53,603 [INFO] >>>> TOTAL TIME 27.97 sec\n",
      "Found 3 models in folder /mnt/c/Users/dsege/TEMP/test_project4/03_segmentation_tool/trained_models\n",
      "['Unet_resnet34_2classes-fold1.pth', 'Unet_resnet34_2classes-fold3.pth', 'Unet_resnet34_2classes-fold5.pth']\n",
      "Using diameter of 55\n",
      "2022-02-21 17:06:59,558 [INFO] ** TORCH CUDA version installed and working. **\n",
      "2022-02-21 17:06:59,559 [INFO] >>>> using GPU\n",
      "2022-02-21 17:06:59,697 [INFO] ~~~ FINDING MASKS ~~~\n",
      "2022-02-21 17:07:25,656 [INFO] >>>> TOTAL TIME 25.96 sec\n",
      "Found 3 models in folder /mnt/c/Users/dsege/TEMP/test_project4/03_segmentation_tool/trained_models\n",
      "['Unet_resnet34_2classes-fold1.pth', 'Unet_resnet34_2classes-fold3.pth', 'Unet_resnet34_2classes-fold5.pth']\n",
      "Using diameter of 55\n",
      "2022-02-21 17:07:31,031 [INFO] ** TORCH CUDA version installed and working. **\n",
      "2022-02-21 17:07:31,032 [INFO] >>>> using GPU\n",
      "2022-02-21 17:07:31,177 [INFO] ~~~ FINDING MASKS ~~~\n",
      "2022-02-21 17:07:56,873 [INFO] >>>> TOTAL TIME 25.70 sec\n",
      "Found 3 models in folder /mnt/c/Users/dsege/TEMP/test_project4/03_segmentation_tool/trained_models\n",
      "['Unet_resnet34_2classes-fold1.pth', 'Unet_resnet34_2classes-fold3.pth', 'Unet_resnet34_2classes-fold5.pth']\n",
      "Using diameter of 55\n",
      "2022-02-21 17:08:01,986 [INFO] ** TORCH CUDA version installed and working. **\n",
      "2022-02-21 17:08:01,987 [INFO] >>>> using GPU\n",
      "2022-02-21 17:08:02,118 [INFO] ~~~ FINDING MASKS ~~~\n",
      "2022-02-21 17:08:27,022 [INFO] >>>> TOTAL TIME 24.90 sec\n",
      "Found 3 models in folder /mnt/c/Users/dsege/TEMP/test_project4/03_segmentation_tool/trained_models\n",
      "['Unet_resnet34_2classes-fold1.pth', 'Unet_resnet34_2classes-fold3.pth', 'Unet_resnet34_2classes-fold5.pth']\n",
      "Using diameter of 55\n",
      "2022-02-21 17:08:32,298 [INFO] ** TORCH CUDA version installed and working. **\n",
      "2022-02-21 17:08:32,298 [INFO] >>>> using GPU\n",
      "2022-02-21 17:08:32,430 [INFO] ~~~ FINDING MASKS ~~~\n",
      "2022-02-21 17:08:59,521 [INFO] >>>> TOTAL TIME 27.09 sec\n",
      "Found 3 models in folder /mnt/c/Users/dsege/TEMP/test_project4/03_segmentation_tool/trained_models\n",
      "['Unet_resnet34_2classes-fold1.pth', 'Unet_resnet34_2classes-fold3.pth', 'Unet_resnet34_2classes-fold5.pth']\n",
      "Using diameter of 55\n",
      "2022-02-21 17:09:04,762 [INFO] ** TORCH CUDA version installed and working. **\n",
      "2022-02-21 17:09:04,763 [INFO] >>>> using GPU\n",
      "2022-02-21 17:09:04,889 [INFO] ~~~ FINDING MASKS ~~~\n",
      "2022-02-21 17:09:33,074 [INFO] >>>> TOTAL TIME 28.18 sec\n",
      "Found 3 models in folder /mnt/c/Users/dsege/TEMP/test_project4/03_segmentation_tool/trained_models\n",
      "['Unet_resnet34_2classes-fold1.pth', 'Unet_resnet34_2classes-fold3.pth', 'Unet_resnet34_2classes-fold5.pth']\n",
      "Using diameter of 55\n",
      "2022-02-21 17:09:38,289 [INFO] ** TORCH CUDA version installed and working. **\n",
      "2022-02-21 17:09:38,290 [INFO] >>>> using GPU\n",
      "2022-02-21 17:09:38,426 [INFO] ~~~ FINDING MASKS ~~~\n",
      "2022-02-21 17:10:08,660 [INFO] >>>> TOTAL TIME 30.23 sec\n",
      "Found 3 models in folder /mnt/c/Users/dsege/TEMP/test_project4/03_segmentation_tool/trained_models\n",
      "['Unet_resnet34_2classes-fold1.pth', 'Unet_resnet34_2classes-fold3.pth', 'Unet_resnet34_2classes-fold5.pth']\n",
      "Using diameter of 55\n",
      "2022-02-21 17:10:14,363 [INFO] ** TORCH CUDA version installed and working. **\n",
      "2022-02-21 17:10:14,364 [INFO] >>>> using GPU\n",
      "2022-02-21 17:10:14,492 [INFO] ~~~ FINDING MASKS ~~~\n",
      "2022-02-21 17:10:42,891 [INFO] >>>> TOTAL TIME 28.40 sec\n",
      "Found 3 models in folder /mnt/c/Users/dsege/TEMP/test_project4/03_segmentation_tool/trained_models\n",
      "['Unet_resnet34_2classes-fold1.pth', 'Unet_resnet34_2classes-fold3.pth', 'Unet_resnet34_2classes-fold5.pth']\n",
      "Using diameter of 55\n",
      "2022-02-21 17:10:48,650 [INFO] ** TORCH CUDA version installed and working. **\n",
      "2022-02-21 17:10:48,651 [INFO] >>>> using GPU\n",
      "2022-02-21 17:10:48,792 [INFO] ~~~ FINDING MASKS ~~~\n",
      "2022-02-21 17:11:18,455 [INFO] >>>> TOTAL TIME 29.66 sec\n",
      "Found 3 models in folder /mnt/c/Users/dsege/TEMP/test_project4/03_segmentation_tool/trained_models\n",
      "['Unet_resnet34_2classes-fold1.pth', 'Unet_resnet34_2classes-fold3.pth', 'Unet_resnet34_2classes-fold5.pth']\n",
      "Using diameter of 55\n",
      "2022-02-21 17:11:24,399 [INFO] ** TORCH CUDA version installed and working. **\n",
      "2022-02-21 17:11:24,400 [INFO] >>>> using GPU\n",
      "2022-02-21 17:11:24,535 [INFO] ~~~ FINDING MASKS ~~~\n",
      "2022-02-21 17:11:54,411 [INFO] >>>> TOTAL TIME 29.88 sec\n",
      "Found 3 models in folder /mnt/c/Users/dsege/TEMP/test_project4/03_segmentation_tool/trained_models\n",
      "['Unet_resnet34_2classes-fold1.pth', 'Unet_resnet34_2classes-fold3.pth', 'Unet_resnet34_2classes-fold5.pth']\n",
      "Using diameter of 55\n",
      "2022-02-21 17:12:00,021 [INFO] ** TORCH CUDA version installed and working. **\n",
      "2022-02-21 17:12:00,022 [INFO] >>>> using GPU\n",
      "2022-02-21 17:12:00,155 [INFO] ~~~ FINDING MASKS ~~~\n",
      "2022-02-21 17:12:29,408 [INFO] >>>> TOTAL TIME 29.25 sec\n",
      "Found 3 models in folder /mnt/c/Users/dsege/TEMP/test_project4/03_segmentation_tool/trained_models\n",
      "['Unet_resnet34_2classes-fold1.pth', 'Unet_resnet34_2classes-fold3.pth', 'Unet_resnet34_2classes-fold5.pth']\n",
      "Using diameter of 55\n",
      "2022-02-21 17:12:35,382 [INFO] ** TORCH CUDA version installed and working. **\n",
      "2022-02-21 17:12:35,383 [INFO] >>>> using GPU\n",
      "2022-02-21 17:12:35,525 [INFO] ~~~ FINDING MASKS ~~~\n",
      "2022-02-21 17:13:01,909 [INFO] >>>> TOTAL TIME 26.38 sec\n",
      "Found 3 models in folder /mnt/c/Users/dsege/TEMP/test_project4/03_segmentation_tool/trained_models\n",
      "['Unet_resnet34_2classes-fold1.pth', 'Unet_resnet34_2classes-fold3.pth', 'Unet_resnet34_2classes-fold5.pth']\n",
      "Using diameter of 55\n",
      "2022-02-21 17:13:07,846 [INFO] ** TORCH CUDA version installed and working. **\n",
      "2022-02-21 17:13:07,847 [INFO] >>>> using GPU\n",
      "2022-02-21 17:13:08,007 [INFO] ~~~ FINDING MASKS ~~~\n",
      "2022-02-21 17:13:33,200 [INFO] >>>> TOTAL TIME 25.19 sec\n",
      "Found 3 models in folder /mnt/c/Users/dsege/TEMP/test_project4/03_segmentation_tool/trained_models\n",
      "['Unet_resnet34_2classes-fold1.pth', 'Unet_resnet34_2classes-fold3.pth', 'Unet_resnet34_2classes-fold5.pth']\n"
     ]
    },
    {
     "data": {
      "text/html": [],
      "text/plain": [
       "<IPython.core.display.HTML object>"
      ]
     },
     "metadata": {},
     "output_type": "display_data"
    },
    {
     "name": "stdout",
     "output_type": "stream",
     "text": [
      "Predicting 0000-000.png\n"
     ]
    },
    {
     "data": {
      "text/html": [],
      "text/plain": [
       "<IPython.core.display.HTML object>"
      ]
     },
     "metadata": {},
     "output_type": "display_data"
    },
    {
     "name": "stdout",
     "output_type": "stream",
     "text": [
      "Predicting 0000-001.png\n"
     ]
    },
    {
     "data": {
      "text/html": [],
      "text/plain": [
       "<IPython.core.display.HTML object>"
      ]
     },
     "metadata": {},
     "output_type": "display_data"
    },
    {
     "name": "stdout",
     "output_type": "stream",
     "text": [
      "Predicting 0000-002.png\n"
     ]
    },
    {
     "data": {
      "text/html": [],
      "text/plain": [
       "<IPython.core.display.HTML object>"
      ]
     },
     "metadata": {},
     "output_type": "display_data"
    },
    {
     "name": "stdout",
     "output_type": "stream",
     "text": [
      "Predicting 0000-003.png\n"
     ]
    },
    {
     "data": {
      "text/html": [],
      "text/plain": [
       "<IPython.core.display.HTML object>"
      ]
     },
     "metadata": {},
     "output_type": "display_data"
    },
    {
     "name": "stdout",
     "output_type": "stream",
     "text": [
      "Predicting 0000-004.png\n"
     ]
    },
    {
     "data": {
      "text/html": [],
      "text/plain": [
       "<IPython.core.display.HTML object>"
      ]
     },
     "metadata": {},
     "output_type": "display_data"
    },
    {
     "name": "stdout",
     "output_type": "stream",
     "text": [
      "Predicting 0000-005.png\n"
     ]
    },
    {
     "data": {
      "text/html": [],
      "text/plain": [
       "<IPython.core.display.HTML object>"
      ]
     },
     "metadata": {},
     "output_type": "display_data"
    },
    {
     "name": "stdout",
     "output_type": "stream",
     "text": [
      "Predicting 0000-006.png\n"
     ]
    },
    {
     "data": {
      "text/html": [],
      "text/plain": [
       "<IPython.core.display.HTML object>"
      ]
     },
     "metadata": {},
     "output_type": "display_data"
    },
    {
     "name": "stdout",
     "output_type": "stream",
     "text": [
      "Predicting 0000-007.png\n"
     ]
    },
    {
     "data": {
      "text/html": [],
      "text/plain": [
       "<IPython.core.display.HTML object>"
      ]
     },
     "metadata": {},
     "output_type": "display_data"
    },
    {
     "name": "stdout",
     "output_type": "stream",
     "text": [
      "Predicting 0001-000.png\n"
     ]
    },
    {
     "data": {
      "text/html": [],
      "text/plain": [
       "<IPython.core.display.HTML object>"
      ]
     },
     "metadata": {},
     "output_type": "display_data"
    },
    {
     "name": "stdout",
     "output_type": "stream",
     "text": [
      "Predicting 0001-001.png\n"
     ]
    },
    {
     "data": {
      "text/html": [],
      "text/plain": [
       "<IPython.core.display.HTML object>"
      ]
     },
     "metadata": {},
     "output_type": "display_data"
    },
    {
     "name": "stdout",
     "output_type": "stream",
     "text": [
      "Predicting 0001-002.png\n"
     ]
    },
    {
     "data": {
      "text/html": [],
      "text/plain": [
       "<IPython.core.display.HTML object>"
      ]
     },
     "metadata": {},
     "output_type": "display_data"
    },
    {
     "name": "stdout",
     "output_type": "stream",
     "text": [
      "Predicting 0001-003.png\n"
     ]
    },
    {
     "data": {
      "text/html": [],
      "text/plain": [
       "<IPython.core.display.HTML object>"
      ]
     },
     "metadata": {},
     "output_type": "display_data"
    },
    {
     "name": "stdout",
     "output_type": "stream",
     "text": [
      "Predicting 0001-004.png\n"
     ]
    },
    {
     "data": {
      "text/html": [],
      "text/plain": [
       "<IPython.core.display.HTML object>"
      ]
     },
     "metadata": {},
     "output_type": "display_data"
    },
    {
     "name": "stdout",
     "output_type": "stream",
     "text": [
      "Predicting 0001-005.png\n"
     ]
    },
    {
     "data": {
      "text/html": [],
      "text/plain": [
       "<IPython.core.display.HTML object>"
      ]
     },
     "metadata": {},
     "output_type": "display_data"
    },
    {
     "name": "stdout",
     "output_type": "stream",
     "text": [
      "Predicting 0001-006.png\n"
     ]
    },
    {
     "data": {
      "text/html": [],
      "text/plain": [
       "<IPython.core.display.HTML object>"
      ]
     },
     "metadata": {},
     "output_type": "display_data"
    },
    {
     "name": "stdout",
     "output_type": "stream",
     "text": [
      "Predicting 0001-007.png\n"
     ]
    },
    {
     "data": {
      "text/html": [],
      "text/plain": [
       "<IPython.core.display.HTML object>"
      ]
     },
     "metadata": {},
     "output_type": "display_data"
    },
    {
     "name": "stdout",
     "output_type": "stream",
     "text": [
      "Found 3 models in folder /mnt/c/Users/dsege/TEMP/test_project4/03_segmentation_tool/trained_models\n",
      "['Unet_resnet34_2classes-fold1.pth', 'Unet_resnet34_2classes-fold3.pth', 'Unet_resnet34_2classes-fold5.pth']\n",
      "Using diameter of 55\n",
      "2022-02-21 17:37:22,232 [INFO] ** TORCH CUDA version installed and working. **\n",
      "2022-02-21 17:37:22,233 [INFO] >>>> using GPU\n",
      "2022-02-21 17:37:22,350 [INFO] ~~~ FINDING MASKS ~~~\n",
      "2022-02-21 17:37:35,638 [INFO] >>>> TOTAL TIME 13.29 sec\n",
      "Found 3 models in folder /mnt/c/Users/dsege/TEMP/test_project4/03_segmentation_tool/trained_models\n",
      "['Unet_resnet34_2classes-fold1.pth', 'Unet_resnet34_2classes-fold3.pth', 'Unet_resnet34_2classes-fold5.pth']\n",
      "Using diameter of 55\n",
      "2022-02-21 17:37:38,162 [INFO] ** TORCH CUDA version installed and working. **\n",
      "2022-02-21 17:37:38,163 [INFO] >>>> using GPU\n",
      "2022-02-21 17:37:38,268 [INFO] ~~~ FINDING MASKS ~~~\n",
      "2022-02-21 17:37:51,422 [INFO] >>>> TOTAL TIME 13.15 sec\n",
      "Found 3 models in folder /mnt/c/Users/dsege/TEMP/test_project4/03_segmentation_tool/trained_models\n",
      "['Unet_resnet34_2classes-fold1.pth', 'Unet_resnet34_2classes-fold3.pth', 'Unet_resnet34_2classes-fold5.pth']\n",
      "Using diameter of 55\n",
      "2022-02-21 17:37:53,701 [INFO] ** TORCH CUDA version installed and working. **\n",
      "2022-02-21 17:37:53,703 [INFO] >>>> using GPU\n",
      "2022-02-21 17:37:53,823 [INFO] ~~~ FINDING MASKS ~~~\n",
      "2022-02-21 17:38:07,554 [INFO] >>>> TOTAL TIME 13.73 sec\n",
      "Found 3 models in folder /mnt/c/Users/dsege/TEMP/test_project4/03_segmentation_tool/trained_models\n",
      "['Unet_resnet34_2classes-fold1.pth', 'Unet_resnet34_2classes-fold3.pth', 'Unet_resnet34_2classes-fold5.pth']\n",
      "Using diameter of 55\n",
      "2022-02-21 17:38:10,222 [INFO] ** TORCH CUDA version installed and working. **\n",
      "2022-02-21 17:38:10,222 [INFO] >>>> using GPU\n",
      "2022-02-21 17:38:10,341 [INFO] ~~~ FINDING MASKS ~~~\n",
      "2022-02-21 17:38:24,263 [INFO] >>>> TOTAL TIME 13.92 sec\n",
      "Found 3 models in folder /mnt/c/Users/dsege/TEMP/test_project4/03_segmentation_tool/trained_models\n",
      "['Unet_resnet34_2classes-fold1.pth', 'Unet_resnet34_2classes-fold3.pth', 'Unet_resnet34_2classes-fold5.pth']\n",
      "Using diameter of 55\n",
      "2022-02-21 17:38:26,854 [INFO] ** TORCH CUDA version installed and working. **\n",
      "2022-02-21 17:38:26,855 [INFO] >>>> using GPU\n",
      "2022-02-21 17:38:26,986 [INFO] ~~~ FINDING MASKS ~~~\n",
      "2022-02-21 17:38:40,926 [INFO] >>>> TOTAL TIME 13.94 sec\n",
      "Found 3 models in folder /mnt/c/Users/dsege/TEMP/test_project4/03_segmentation_tool/trained_models\n",
      "['Unet_resnet34_2classes-fold1.pth', 'Unet_resnet34_2classes-fold3.pth', 'Unet_resnet34_2classes-fold5.pth']\n",
      "Using diameter of 55\n",
      "2022-02-21 17:38:43,187 [INFO] ** TORCH CUDA version installed and working. **\n",
      "2022-02-21 17:38:43,187 [INFO] >>>> using GPU\n",
      "2022-02-21 17:38:43,339 [INFO] ~~~ FINDING MASKS ~~~\n",
      "2022-02-21 17:38:56,204 [INFO] >>>> TOTAL TIME 12.86 sec\n",
      "Found 3 models in folder /mnt/c/Users/dsege/TEMP/test_project4/03_segmentation_tool/trained_models\n",
      "['Unet_resnet34_2classes-fold1.pth', 'Unet_resnet34_2classes-fold3.pth', 'Unet_resnet34_2classes-fold5.pth']\n",
      "Using diameter of 55\n",
      "2022-02-21 17:38:58,344 [INFO] ** TORCH CUDA version installed and working. **\n",
      "2022-02-21 17:38:58,345 [INFO] >>>> using GPU\n",
      "2022-02-21 17:38:58,459 [INFO] ~~~ FINDING MASKS ~~~\n",
      "2022-02-21 17:39:10,513 [INFO] >>>> TOTAL TIME 12.05 sec\n",
      "Found 3 models in folder /mnt/c/Users/dsege/TEMP/test_project4/03_segmentation_tool/trained_models\n",
      "['Unet_resnet34_2classes-fold1.pth', 'Unet_resnet34_2classes-fold3.pth', 'Unet_resnet34_2classes-fold5.pth']\n",
      "Using diameter of 55\n",
      "2022-02-21 17:39:12,733 [INFO] ** TORCH CUDA version installed and working. **\n",
      "2022-02-21 17:39:12,733 [INFO] >>>> using GPU\n",
      "2022-02-21 17:39:12,850 [INFO] ~~~ FINDING MASKS ~~~\n",
      "2022-02-21 17:39:24,711 [INFO] >>>> TOTAL TIME 11.86 sec\n",
      "Found 3 models in folder /mnt/c/Users/dsege/TEMP/test_project4/03_segmentation_tool/trained_models\n",
      "['Unet_resnet34_2classes-fold1.pth', 'Unet_resnet34_2classes-fold3.pth', 'Unet_resnet34_2classes-fold5.pth']\n",
      "Using diameter of 55\n",
      "2022-02-21 17:39:27,021 [INFO] ** TORCH CUDA version installed and working. **\n",
      "2022-02-21 17:39:27,022 [INFO] >>>> using GPU\n",
      "2022-02-21 17:39:27,171 [INFO] ~~~ FINDING MASKS ~~~\n",
      "2022-02-21 17:39:37,768 [INFO] >>>> TOTAL TIME 10.60 sec\n",
      "Found 3 models in folder /mnt/c/Users/dsege/TEMP/test_project4/03_segmentation_tool/trained_models\n",
      "['Unet_resnet34_2classes-fold1.pth', 'Unet_resnet34_2classes-fold3.pth', 'Unet_resnet34_2classes-fold5.pth']\n",
      "Using diameter of 55\n",
      "2022-02-21 17:39:40,310 [INFO] ** TORCH CUDA version installed and working. **\n",
      "2022-02-21 17:39:40,310 [INFO] >>>> using GPU\n",
      "2022-02-21 17:39:40,428 [INFO] ~~~ FINDING MASKS ~~~\n",
      "2022-02-21 17:39:51,248 [INFO] >>>> TOTAL TIME 10.82 sec\n",
      "Found 3 models in folder /mnt/c/Users/dsege/TEMP/test_project4/03_segmentation_tool/trained_models\n",
      "['Unet_resnet34_2classes-fold1.pth', 'Unet_resnet34_2classes-fold3.pth', 'Unet_resnet34_2classes-fold5.pth']\n",
      "Using diameter of 55\n",
      "2022-02-21 17:39:53,363 [INFO] ** TORCH CUDA version installed and working. **\n",
      "2022-02-21 17:39:53,363 [INFO] >>>> using GPU\n",
      "2022-02-21 17:39:53,460 [INFO] ~~~ FINDING MASKS ~~~\n",
      "2022-02-21 17:40:04,436 [INFO] >>>> TOTAL TIME 10.98 sec\n",
      "Found 3 models in folder /mnt/c/Users/dsege/TEMP/test_project4/03_segmentation_tool/trained_models\n",
      "['Unet_resnet34_2classes-fold1.pth', 'Unet_resnet34_2classes-fold3.pth', 'Unet_resnet34_2classes-fold5.pth']\n",
      "Using diameter of 55\n",
      "2022-02-21 17:40:07,408 [INFO] ** TORCH CUDA version installed and working. **\n",
      "2022-02-21 17:40:07,409 [INFO] >>>> using GPU\n",
      "2022-02-21 17:40:07,633 [INFO] ~~~ FINDING MASKS ~~~\n",
      "2022-02-21 17:40:18,204 [INFO] >>>> TOTAL TIME 10.57 sec\n",
      "Found 3 models in folder /mnt/c/Users/dsege/TEMP/test_project4/03_segmentation_tool/trained_models\n",
      "['Unet_resnet34_2classes-fold1.pth', 'Unet_resnet34_2classes-fold3.pth', 'Unet_resnet34_2classes-fold5.pth']\n",
      "Using diameter of 55\n",
      "2022-02-21 17:40:20,888 [INFO] ** TORCH CUDA version installed and working. **\n",
      "2022-02-21 17:40:20,889 [INFO] >>>> using GPU\n",
      "2022-02-21 17:40:21,040 [INFO] ~~~ FINDING MASKS ~~~\n",
      "2022-02-21 17:40:32,010 [INFO] >>>> TOTAL TIME 10.97 sec\n",
      "Found 3 models in folder /mnt/c/Users/dsege/TEMP/test_project4/03_segmentation_tool/trained_models\n",
      "['Unet_resnet34_2classes-fold1.pth', 'Unet_resnet34_2classes-fold3.pth', 'Unet_resnet34_2classes-fold5.pth']\n",
      "Using diameter of 55\n",
      "2022-02-21 17:40:34,762 [INFO] ** TORCH CUDA version installed and working. **\n",
      "2022-02-21 17:40:34,763 [INFO] >>>> using GPU\n",
      "2022-02-21 17:40:34,904 [INFO] ~~~ FINDING MASKS ~~~\n",
      "2022-02-21 17:40:45,527 [INFO] >>>> TOTAL TIME 10.62 sec\n",
      "Found 3 models in folder /mnt/c/Users/dsege/TEMP/test_project4/03_segmentation_tool/trained_models\n",
      "['Unet_resnet34_2classes-fold1.pth', 'Unet_resnet34_2classes-fold3.pth', 'Unet_resnet34_2classes-fold5.pth']\n",
      "Using diameter of 55\n",
      "2022-02-21 17:40:48,370 [INFO] ** TORCH CUDA version installed and working. **\n",
      "2022-02-21 17:40:48,371 [INFO] >>>> using GPU\n",
      "2022-02-21 17:40:48,473 [INFO] ~~~ FINDING MASKS ~~~\n",
      "2022-02-21 17:40:58,868 [INFO] >>>> TOTAL TIME 10.39 sec\n",
      "Found 3 models in folder /mnt/c/Users/dsege/TEMP/test_project4/03_segmentation_tool/trained_models\n",
      "['Unet_resnet34_2classes-fold1.pth', 'Unet_resnet34_2classes-fold3.pth', 'Unet_resnet34_2classes-fold5.pth']\n",
      "Using diameter of 55\n",
      "2022-02-21 17:41:01,606 [INFO] ** TORCH CUDA version installed and working. **\n",
      "2022-02-21 17:41:01,607 [INFO] >>>> using GPU\n",
      "2022-02-21 17:41:01,733 [INFO] ~~~ FINDING MASKS ~~~\n",
      "2022-02-21 17:41:12,273 [INFO] >>>> TOTAL TIME 10.54 sec\n"
     ]
    }
   ],
   "source": [
    "refactored_project.segment(batch_size = 2)"
   ]
  },
  {
   "cell_type": "code",
   "execution_count": 12,
   "id": "0b0d7c8f-263d-4e28-9b82-c9d8c17ca6c9",
   "metadata": {},
   "outputs": [
    {
     "name": "stdout",
     "output_type": "stream",
     "text": [
      "Warning: preprocessing_step_00 not yet specified in renaming dictionary\n",
      "Warning: preprocessing_step_01 not yet specified in renaming dictionary\n",
      "Warning: preprocessing_step_02 not yet specified in renaming dictionary\n",
      "Warning: total_planes not yet specified in renaming dictionary\n",
      "Warning: segmentation_completed not yet specified in renaming dictionary\n",
      "Warning: segmentation_step_00 not yet specified in renaming dictionary\n",
      "Warning: semantic_segmentations_done not yet specified in renaming dictionary\n",
      "Warning: instance_segmentations_done not yet specified in renaming dictionary\n",
      "Warning: batch_id not yet specified in renaming dictionary\n",
      "Warning: postprocessing_step_00 not yet specified in renaming dictionary\n",
      "Warning: postprocessing_step_01 not yet specified in renaming dictionary\n",
      "Warning: included_relative_positions not yet specified in renaming dictionary\n",
      "Warning: minimum_number_of_planes_required_to_cover not yet specified in renaming dictionary\n",
      "Warning: quantification_step_00 not yet specified in renaming dictionary\n",
      "Warning: postprocessing_completed not yet specified in renaming dictionary\n",
      "Warning: quantifications_completed not yet specified in renaming dictionary\n"
     ]
    }
   ],
   "source": [
    "refactored_project.save_status()"
   ]
  },
  {
   "cell_type": "code",
   "execution_count": 15,
   "id": "52990a1d-2c26-4d5c-94d4-49548abad614",
   "metadata": {},
   "outputs": [
    {
     "data": {
      "text/plain": [
       "{'file_id': ['0000', '0001', '0002', '0003'],\n",
       " 'original_file_id': ['#5_SN_tg_s2_sfr1',\n",
       "  '#8_SN_tg_s2_sfr1',\n",
       "  '#7_SN_wt_s2_sfr1',\n",
       "  '#9_SN_wt_s2_sfr1'],\n",
       " 'group_id': ['tg', 'tg', 'wt', 'wt'],\n",
       " 'subject_id': ['#5_tg_old', '#8_tg_old', '#7_wt_old', '#9_wt_old'],\n",
       " 'microscopy_filepath': [PosixPath('/mnt/c/Users/dsege/TEMP/test_project4/00_microscopy_images/tg/#5_tg_old/#5_SN_tg_s2_sfr1.czi'),\n",
       "  PosixPath('/mnt/c/Users/dsege/TEMP/test_project4/00_microscopy_images/tg/#8_tg_old/#8_SN_tg_s2_sfr1.czi'),\n",
       "  PosixPath('/mnt/c/Users/dsege/TEMP/test_project4/00_microscopy_images/wt/#7_wt_old/#7_SN_wt_s2_sfr1.czi'),\n",
       "  PosixPath('/mnt/c/Users/dsege/TEMP/test_project4/00_microscopy_images/wt/#9_wt_old/#9_SN_wt_s2_sfr1.czi')],\n",
       " 'microscopy_filetype': ['.czi', '.czi', '.czi', '.czi'],\n",
       " 'rois_present': [True, True, True, True],\n",
       " 'rois_filepath': [PosixPath('/mnt/c/Users/dsege/TEMP/test_project4/01_rois_to_analyze/tg/#5_tg_old/#5_SN_tg_s2_sfr1.roi'),\n",
       "  PosixPath('/mnt/c/Users/dsege/TEMP/test_project4/01_rois_to_analyze/tg/#8_tg_old/#8_SN_tg_s2_sfr1.roi'),\n",
       "  PosixPath('/mnt/c/Users/dsege/TEMP/test_project4/01_rois_to_analyze/wt/#7_wt_old/#7_SN_wt_s2_sfr1.roi'),\n",
       "  PosixPath('/mnt/c/Users/dsege/TEMP/test_project4/01_rois_to_analyze/wt/#9_wt_old/#9_SN_wt_s2_sfr1.roi')],\n",
       " 'rois_filetype': ['.roi', '.roi', '.roi', '.roi'],\n",
       " 'preprocessing_completed': [True, True, True, True],\n",
       " 'preprocessing_step_00': ['ConvertTo8Bit',\n",
       "  'ConvertTo8Bit',\n",
       "  'ConvertTo8Bit',\n",
       "  'ConvertTo8Bit'],\n",
       " 'preprocessing_step_01': ['CropToROIsBoundingBox',\n",
       "  'CropToROIsBoundingBox',\n",
       "  'CropToROIsBoundingBox',\n",
       "  'CropToROIsBoundingBox'],\n",
       " 'cropping_row_indices': [(0, -1), (0, -1), (0, 305519), (0, 4639)],\n",
       " 'cropping_column_indices': [(0, -1), (0, -1), (61, 4688), (0, 126210)],\n",
       " 'preprocessing_step_02': ['CropStitchingArtefactsRGB',\n",
       "  'CropStitchingArtefactsRGB',\n",
       "  'CropStitchingArtefactsRGB',\n",
       "  'CropStitchingArtefactsRGB'],\n",
       " 'RGB': [True, True, True, True],\n",
       " 'total_planes': [8, 8, 8, 9],\n",
       " 'segmentation_completed': [True, True, True, True],\n",
       " 'segmentation_step_00': ['Deepflash2SemanticAndInstanceSegmentation',\n",
       "  'Deepflash2SemanticAndInstanceSegmentation',\n",
       "  'Deepflash2SemanticAndInstanceSegmentation',\n",
       "  'Deepflash2SemanticAndInstanceSegmentation'],\n",
       " 'semantic_segmentations_done': [True, True, True, True],\n",
       " 'instance_segmentations_done': [True, True, True, True],\n",
       " 'batch_id': [1, 1, 0, 0]}"
      ]
     },
     "execution_count": 15,
     "metadata": {},
     "output_type": "execute_result"
    }
   ],
   "source": [
    "refactored_project.database.file_infos"
   ]
  },
  {
   "cell_type": "code",
   "execution_count": 8,
   "id": "8cb7c923-ef00-4f85-9c4f-10579d9015e6",
   "metadata": {},
   "outputs": [
    {
     "name": "stdout",
     "output_type": "stream",
     "text": [
      "Warning: preprocessing_step_00 not yet specified in renaming dictionary\n",
      "Warning: preprocessing_step_01 not yet specified in renaming dictionary\n",
      "Warning: total_planes not yet specified in renaming dictionary\n"
     ]
    }
   ],
   "source": [
    "refactored_project.save_status()"
   ]
  },
  {
   "cell_type": "code",
   "execution_count": 7,
   "id": "7b234ebd-c924-4bbb-99df-ab0ec70c0d5c",
   "metadata": {},
   "outputs": [
    {
     "name": "stdout",
     "output_type": "stream",
     "text": [
      "Found 3 models in folder /mnt/c/Users/dsege/TEMP/test_project4/03_segmentation_tool/trained_models\n",
      "['Unet_resnet34_2classes-fold1.pth', 'Unet_resnet34_2classes-fold3.pth', 'Unet_resnet34_2classes-fold5.pth']\n",
      "Computing Stats...\n",
      "Found 3 models in folder /mnt/c/Users/dsege/TEMP/test_project4/03_segmentation_tool/trained_models\n",
      "['Unet_resnet34_2classes-fold1.pth', 'Unet_resnet34_2classes-fold3.pth', 'Unet_resnet34_2classes-fold5.pth']\n"
     ]
    },
    {
     "data": {
      "text/html": [],
      "text/plain": [
       "<IPython.core.display.HTML object>"
      ]
     },
     "metadata": {},
     "output_type": "display_data"
    },
    {
     "name": "stdout",
     "output_type": "stream",
     "text": [
      "Predicting 0000-000.png\n"
     ]
    },
    {
     "data": {
      "text/html": [],
      "text/plain": [
       "<IPython.core.display.HTML object>"
      ]
     },
     "metadata": {},
     "output_type": "display_data"
    },
    {
     "name": "stdout",
     "output_type": "stream",
     "text": [
      "Predicting 0000-001.png\n"
     ]
    },
    {
     "data": {
      "text/html": [],
      "text/plain": [
       "<IPython.core.display.HTML object>"
      ]
     },
     "metadata": {},
     "output_type": "display_data"
    },
    {
     "name": "stdout",
     "output_type": "stream",
     "text": [
      "Predicting 0000-002.png\n"
     ]
    },
    {
     "data": {
      "text/html": [],
      "text/plain": [
       "<IPython.core.display.HTML object>"
      ]
     },
     "metadata": {},
     "output_type": "display_data"
    },
    {
     "name": "stdout",
     "output_type": "stream",
     "text": [
      "Predicting 0000-003.png\n"
     ]
    },
    {
     "data": {
      "text/html": [],
      "text/plain": [
       "<IPython.core.display.HTML object>"
      ]
     },
     "metadata": {},
     "output_type": "display_data"
    },
    {
     "name": "stdout",
     "output_type": "stream",
     "text": [
      "Predicting 0000-004.png\n"
     ]
    },
    {
     "data": {
      "text/html": [],
      "text/plain": [
       "<IPython.core.display.HTML object>"
      ]
     },
     "metadata": {},
     "output_type": "display_data"
    },
    {
     "name": "stdout",
     "output_type": "stream",
     "text": [
      "Predicting 0000-005.png\n"
     ]
    },
    {
     "data": {
      "text/html": [],
      "text/plain": [
       "<IPython.core.display.HTML object>"
      ]
     },
     "metadata": {},
     "output_type": "display_data"
    },
    {
     "name": "stdout",
     "output_type": "stream",
     "text": [
      "Predicting 0000-006.png\n"
     ]
    },
    {
     "data": {
      "text/html": [],
      "text/plain": [
       "<IPython.core.display.HTML object>"
      ]
     },
     "metadata": {},
     "output_type": "display_data"
    },
    {
     "name": "stdout",
     "output_type": "stream",
     "text": [
      "Predicting 0000-007.png\n"
     ]
    },
    {
     "data": {
      "text/html": [],
      "text/plain": [
       "<IPython.core.display.HTML object>"
      ]
     },
     "metadata": {},
     "output_type": "display_data"
    },
    {
     "name": "stdout",
     "output_type": "stream",
     "text": [
      "2022-02-20 16:11:03,551 [INFO] WRITING LOG OUTPUT TO /home/ds/.cellpose/run.log\n",
      "Found 3 models in folder /mnt/c/Users/dsege/TEMP/test_project4/03_segmentation_tool/trained_models\n",
      "['Unet_resnet34_2classes-fold1.pth', 'Unet_resnet34_2classes-fold3.pth', 'Unet_resnet34_2classes-fold5.pth']\n",
      "Using diameter of 51\n",
      "2022-02-20 16:11:15,107 [INFO] ** TORCH CUDA version installed and working. **\n",
      "2022-02-20 16:11:15,108 [INFO] >>>> using GPU\n",
      "2022-02-20 16:11:15,308 [INFO] ~~~ FINDING MASKS ~~~\n",
      "2022-02-20 16:12:01,675 [INFO] >>>> TOTAL TIME 46.37 sec\n",
      "Found 3 models in folder /mnt/c/Users/dsege/TEMP/test_project4/03_segmentation_tool/trained_models\n",
      "['Unet_resnet34_2classes-fold1.pth', 'Unet_resnet34_2classes-fold3.pth', 'Unet_resnet34_2classes-fold5.pth']\n",
      "Using diameter of 51\n",
      "2022-02-20 16:12:08,639 [INFO] ** TORCH CUDA version installed and working. **\n",
      "2022-02-20 16:12:08,639 [INFO] >>>> using GPU\n",
      "2022-02-20 16:12:08,763 [INFO] ~~~ FINDING MASKS ~~~\n",
      "2022-02-20 16:12:50,977 [INFO] >>>> TOTAL TIME 42.21 sec\n",
      "Found 3 models in folder /mnt/c/Users/dsege/TEMP/test_project4/03_segmentation_tool/trained_models\n",
      "['Unet_resnet34_2classes-fold1.pth', 'Unet_resnet34_2classes-fold3.pth', 'Unet_resnet34_2classes-fold5.pth']\n",
      "Using diameter of 51\n",
      "2022-02-20 16:12:57,622 [INFO] ** TORCH CUDA version installed and working. **\n",
      "2022-02-20 16:12:57,623 [INFO] >>>> using GPU\n",
      "2022-02-20 16:12:57,733 [INFO] ~~~ FINDING MASKS ~~~\n",
      "2022-02-20 16:13:37,728 [INFO] >>>> TOTAL TIME 39.99 sec\n",
      "Found 3 models in folder /mnt/c/Users/dsege/TEMP/test_project4/03_segmentation_tool/trained_models\n",
      "['Unet_resnet34_2classes-fold1.pth', 'Unet_resnet34_2classes-fold3.pth', 'Unet_resnet34_2classes-fold5.pth']\n",
      "Using diameter of 51\n",
      "2022-02-20 16:13:46,192 [INFO] ** TORCH CUDA version installed and working. **\n",
      "2022-02-20 16:13:46,193 [INFO] >>>> using GPU\n",
      "2022-02-20 16:13:46,315 [INFO] ~~~ FINDING MASKS ~~~\n",
      "2022-02-20 16:14:24,897 [INFO] >>>> TOTAL TIME 38.58 sec\n",
      "Found 3 models in folder /mnt/c/Users/dsege/TEMP/test_project4/03_segmentation_tool/trained_models\n",
      "['Unet_resnet34_2classes-fold1.pth', 'Unet_resnet34_2classes-fold3.pth', 'Unet_resnet34_2classes-fold5.pth']\n",
      "Using diameter of 51\n",
      "2022-02-20 16:14:33,154 [INFO] ** TORCH CUDA version installed and working. **\n",
      "2022-02-20 16:14:33,155 [INFO] >>>> using GPU\n",
      "2022-02-20 16:14:33,400 [INFO] ~~~ FINDING MASKS ~~~\n",
      "2022-02-20 16:15:12,194 [INFO] >>>> TOTAL TIME 38.79 sec\n",
      "Found 3 models in folder /mnt/c/Users/dsege/TEMP/test_project4/03_segmentation_tool/trained_models\n",
      "['Unet_resnet34_2classes-fold1.pth', 'Unet_resnet34_2classes-fold3.pth', 'Unet_resnet34_2classes-fold5.pth']\n",
      "Using diameter of 51\n",
      "2022-02-20 16:15:21,589 [INFO] ** TORCH CUDA version installed and working. **\n",
      "2022-02-20 16:15:21,589 [INFO] >>>> using GPU\n",
      "2022-02-20 16:15:21,713 [INFO] ~~~ FINDING MASKS ~~~\n",
      "2022-02-20 16:16:00,018 [INFO] >>>> TOTAL TIME 38.31 sec\n",
      "Found 3 models in folder /mnt/c/Users/dsege/TEMP/test_project4/03_segmentation_tool/trained_models\n",
      "['Unet_resnet34_2classes-fold1.pth', 'Unet_resnet34_2classes-fold3.pth', 'Unet_resnet34_2classes-fold5.pth']\n",
      "Using diameter of 51\n",
      "2022-02-20 16:16:09,346 [INFO] ** TORCH CUDA version installed and working. **\n",
      "2022-02-20 16:16:09,347 [INFO] >>>> using GPU\n",
      "2022-02-20 16:16:09,466 [INFO] ~~~ FINDING MASKS ~~~\n",
      "2022-02-20 16:16:46,750 [INFO] >>>> TOTAL TIME 37.28 sec\n",
      "Found 3 models in folder /mnt/c/Users/dsege/TEMP/test_project4/03_segmentation_tool/trained_models\n",
      "['Unet_resnet34_2classes-fold1.pth', 'Unet_resnet34_2classes-fold3.pth', 'Unet_resnet34_2classes-fold5.pth']\n",
      "Using diameter of 51\n",
      "2022-02-20 16:16:56,643 [INFO] ** TORCH CUDA version installed and working. **\n",
      "2022-02-20 16:16:56,644 [INFO] >>>> using GPU\n",
      "2022-02-20 16:16:56,775 [INFO] ~~~ FINDING MASKS ~~~\n",
      "2022-02-20 16:17:33,122 [INFO] >>>> TOTAL TIME 36.35 sec\n"
     ]
    }
   ],
   "source": [
    "refactored_project.segment(file_ids = ['0000'], batch_size = 1)"
   ]
  },
  {
   "cell_type": "code",
   "execution_count": 11,
   "id": "2c6f8339-76e1-459d-b55d-7bcc6d6b3599",
   "metadata": {},
   "outputs": [
    {
     "data": {
      "text/plain": [
       "True"
      ]
     },
     "execution_count": 11,
     "metadata": {},
     "output_type": "execute_result"
    }
   ],
   "source": [
    "refactored_project.database.low_memory"
   ]
  },
  {
   "cell_type": "code",
   "execution_count": 12,
   "id": "b6fef4c6-2ecf-47d1-be1b-9d682fcff8da",
   "metadata": {},
   "outputs": [
    {
     "name": "stdout",
     "output_type": "stream",
     "text": [
      "Warning: preprocessing_step_00 not yet specified in renaming dictionary\n",
      "Warning: preprocessing_step_01 not yet specified in renaming dictionary\n",
      "Warning: total_planes not yet specified in renaming dictionary\n",
      "Warning: segmentation_completed not yet specified in renaming dictionary\n",
      "Warning: segmentation_step_00 not yet specified in renaming dictionary\n",
      "Warning: binary_segmentations_done not yet specified in renaming dictionary\n",
      "Warning: instance_segmentations_done not yet specified in renaming dictionary\n",
      "Warning: batch_id not yet specified in renaming dictionary\n"
     ]
    }
   ],
   "source": [
    "refactored_project.save_status()"
   ]
  },
  {
   "cell_type": "code",
   "execution_count": null,
   "id": "fcb29080-5089-4424-8b4d-ff83c673a913",
   "metadata": {},
   "outputs": [],
   "source": []
  },
  {
   "cell_type": "code",
   "execution_count": null,
   "id": "3abc49d1-bb9f-41bb-9cca-23b5c4b5f458",
   "metadata": {},
   "outputs": [],
   "source": [
    "refactored_project.load_status()"
   ]
  },
  {
   "cell_type": "code",
   "execution_count": 14,
   "id": "c9da8aad-2f06-4069-8b62-5ae292386e85",
   "metadata": {},
   "outputs": [
    {
     "data": {
      "text/plain": [
       "{'file_id': ['0000', '0001', '0002', '0003'],\n",
       " 'original_file_id': ['#5_SN_tg_s2_sfr1',\n",
       "  '#8_SN_tg_s2_sfr1',\n",
       "  '#7_SN_wt_s2_sfr1',\n",
       "  '#9_SN_wt_s2_sfr1'],\n",
       " 'group_id': ['tg', 'tg', 'wt', 'wt'],\n",
       " 'subject_id': ['#5_tg_old', '#8_tg_old', '#7_wt_old', '#9_wt_old'],\n",
       " 'microscopy_filepath': [Path('/mnt/c/Users/dsege/TEMP/test_project4/00_microscopy_images/tg/#5_tg_old/#5_SN_tg_s2_sfr1.czi'),\n",
       "  Path('/mnt/c/Users/dsege/TEMP/test_project4/00_microscopy_images/tg/#8_tg_old/#8_SN_tg_s2_sfr1.czi'),\n",
       "  Path('/mnt/c/Users/dsege/TEMP/test_project4/00_microscopy_images/wt/#7_wt_old/#7_SN_wt_s2_sfr1.czi'),\n",
       "  Path('/mnt/c/Users/dsege/TEMP/test_project4/00_microscopy_images/wt/#9_wt_old/#9_SN_wt_s2_sfr1.czi')],\n",
       " 'microscopy_filetype': ['.czi', '.czi', '.czi', '.czi'],\n",
       " 'rois_present': [True, True, True, True],\n",
       " 'rois_filepath': [Path('/mnt/c/Users/dsege/TEMP/test_project4/01_rois_to_analyze/tg/#5_tg_old/#5_SN_tg_s2_sfr1.roi'),\n",
       "  Path('/mnt/c/Users/dsege/TEMP/test_project4/01_rois_to_analyze/tg/#8_tg_old/#8_SN_tg_s2_sfr1.roi'),\n",
       "  Path('/mnt/c/Users/dsege/TEMP/test_project4/01_rois_to_analyze/wt/#7_wt_old/#7_SN_wt_s2_sfr1.roi'),\n",
       "  Path('/mnt/c/Users/dsege/TEMP/test_project4/01_rois_to_analyze/wt/#9_wt_old/#9_SN_wt_s2_sfr1.roi')],\n",
       " 'rois_filetype': ['.roi', '.roi', '.roi', '.roi'],\n",
       " 'preprocessing_completed': [True, True, True, True],\n",
       " 'preprocessing_step_00': ['ConvertFrom12To8BitRGB',\n",
       "  'ConvertFrom12To8BitRGB',\n",
       "  'ConvertFrom12To8BitRGB',\n",
       "  'ConvertFrom12To8BitRGB'],\n",
       " 'preprocessing_step_01': ['CropStitchingArtefactsRGB',\n",
       "  'CropStitchingArtefactsRGB',\n",
       "  'CropStitchingArtefactsRGB',\n",
       "  'CropStitchingArtefactsRGB'],\n",
       " 'cropping_row_indices': [(26, 7624), (25, 7622), (24, 7627), (53, 5769)],\n",
       " 'cropping_column_indices': [(61, 4687), (54, 4685), (61, 4688), (41, 6909)],\n",
       " 'RGB': [True, True, True, True],\n",
       " 'total_planes': [8, 8, 8, 9],\n",
       " 'segmentation_completed': [True, True, True, True],\n",
       " 'segmentation_step_00': ['Deepflash2BinaryAndInstance',\n",
       "  'Deepflash2BinaryAndInstance',\n",
       "  'Deepflash2BinaryAndInstance',\n",
       "  'Deepflash2BinaryAndInstance'],\n",
       " 'binary_segmentations_done': [True, True, True, True],\n",
       " 'instance_segmentations_done': [True, True, True, True],\n",
       " 'batch_id': [0, 1, 2, 1]}"
      ]
     },
     "execution_count": 14,
     "metadata": {},
     "output_type": "execute_result"
    }
   ],
   "source": [
    "refactored_project.database.file_infos"
   ]
  },
  {
   "cell_type": "code",
   "execution_count": null,
   "id": "f16baab5-b00a-485a-af27-c74d7fda0bda",
   "metadata": {},
   "outputs": [],
   "source": [
    "refactored_project.preprocess()"
   ]
  },
  {
   "cell_type": "code",
   "execution_count": null,
   "id": "b9185a61-a7fc-4679-8746-6c946d77c989",
   "metadata": {},
   "outputs": [],
   "source": [
    "refactored_project.save_status()"
   ]
  },
  {
   "cell_type": "code",
   "execution_count": null,
   "id": "5c865d94-cf2d-4ce9-b6d8-a722161d0b88",
   "metadata": {},
   "outputs": [],
   "source": []
  },
  {
   "cell_type": "code",
   "execution_count": null,
   "id": "ee15bfd3-15e2-44a5-a86b-ee540e97f07a",
   "metadata": {},
   "outputs": [],
   "source": [
    "refactored_project.database.area_rois_for_quantification"
   ]
  },
  {
   "cell_type": "code",
   "execution_count": null,
   "id": "53925323-e490-4f6a-a2f7-a164d2467a94",
   "metadata": {},
   "outputs": [],
   "source": [
    "refactored_project.preprocessing_object.load_rois()"
   ]
  },
  {
   "cell_type": "code",
   "execution_count": null,
   "id": "bddd2159-86a2-45a5-82ac-97a0b5c25bd2",
   "metadata": {},
   "outputs": [],
   "source": []
  },
  {
   "cell_type": "code",
   "execution_count": null,
   "id": "fbb972e2-f1a9-4744-afcc-7869ae9e62a3",
   "metadata": {},
   "outputs": [],
   "source": []
  },
  {
   "cell_type": "code",
   "execution_count": null,
   "id": "1cbe38a4-808e-43eb-a7db-1736ebf5ee04",
   "metadata": {},
   "outputs": [],
   "source": [
    "refactored_project.database.file_infos['microscopy_filepath'][0]"
   ]
  },
  {
   "cell_type": "code",
   "execution_count": null,
   "id": "60955ed9-0e69-4a8e-8c21-b61a1329e133",
   "metadata": {},
   "outputs": [],
   "source": [
    "from findmycells.microscopyimages import MicroscopyImageLoader\n",
    "import matplotlib.pyplot as plt"
   ]
  },
  {
   "cell_type": "code",
   "execution_count": null,
   "id": "2856aee1-c87d-4125-a72f-e9a92e06ea39",
   "metadata": {},
   "outputs": [],
   "source": [
    "microscopy_image_loader = MicroscopyImageLoader(filepath = refactored_project.database.file_infos['microscopy_filepath'][0],\n",
    "                                                filetype = refactored_project.database.file_infos['microscopy_filetype'][0])\n",
    "zstack = microscopy_image_loader.as_array()"
   ]
  },
  {
   "cell_type": "code",
   "execution_count": null,
   "id": "3519656f-f651-4c8b-b482-bffbb4e14165",
   "metadata": {},
   "outputs": [],
   "source": [
    "zstack.shape"
   ]
  },
  {
   "cell_type": "code",
   "execution_count": null,
   "id": "38c06c82-a6a0-4100-905a-5aa09b261a19",
   "metadata": {},
   "outputs": [],
   "source": [
    "cropped_zstack = zstack[:, 100:7100, 100:4600, :]"
   ]
  },
  {
   "cell_type": "code",
   "execution_count": null,
   "id": "05013083-8056-4cf3-9efb-6f2f4e10597d",
   "metadata": {},
   "outputs": [],
   "source": [
    "from PIL import Image\n",
    "import os"
   ]
  },
  {
   "cell_type": "code",
   "execution_count": null,
   "id": "03eb6f1f-b667-4946-92e3-b0f8ace53a3e",
   "metadata": {},
   "outputs": [],
   "source": [
    "pil_image = Image.fromarray(rgb_image, 'RGB')"
   ]
  },
  {
   "cell_type": "code",
   "execution_count": null,
   "id": "c0a33c1d-1126-4008-b0aa-d0f735ae1e8c",
   "metadata": {},
   "outputs": [],
   "source": [
    "pil_image.save('pil_image.png')"
   ]
  },
  {
   "cell_type": "code",
   "execution_count": null,
   "id": "9f3bba72-3fad-4dbb-8801-f45800000ad9",
   "metadata": {},
   "outputs": [],
   "source": []
  },
  {
   "cell_type": "code",
   "execution_count": null,
   "id": "461481eb-31d9-4753-bdb9-9e1444733a3d",
   "metadata": {},
   "outputs": [],
   "source": [
    "from skimage.io import imsave\n",
    "rgb_image = rgb_image.astype('uint8')\n",
    "imsave('skimage_image.png', rgb_image)"
   ]
  },
  {
   "cell_type": "code",
   "execution_count": null,
   "id": "c300610e-b37a-4d43-9672-1d8ac63c42e8",
   "metadata": {},
   "outputs": [],
   "source": []
  },
  {
   "cell_type": "code",
   "execution_count": null,
   "id": "d916e813-507f-4b1a-9cf9-466a07faf12e",
   "metadata": {},
   "outputs": [],
   "source": [
    "rgb_image"
   ]
  },
  {
   "cell_type": "code",
   "execution_count": null,
   "id": "d9924168-790a-4d07-a17e-73dd7a6893ab",
   "metadata": {},
   "outputs": [],
   "source": [
    "rgb_image = refactored_project.preprocessing_object.preprocessed_image[0].copy()"
   ]
  },
  {
   "cell_type": "code",
   "execution_count": null,
   "id": "bf794fbc-d511-4dc5-be7f-9a9000a7f0ef",
   "metadata": {},
   "outputs": [],
   "source": [
    "plt.imshow(rgb_image)"
   ]
  },
  {
   "cell_type": "code",
   "execution_count": null,
   "id": "73036e97-6fb4-4575-bab5-f9fc582b43bb",
   "metadata": {},
   "outputs": [],
   "source": [
    "converted_image = (rgb_image / 4095 * 255).round(0).astype('uint8')"
   ]
  },
  {
   "cell_type": "code",
   "execution_count": null,
   "id": "568314ef-08cc-44fb-be00-37e6f68b5869",
   "metadata": {},
   "outputs": [],
   "source": [
    "from pathlib import Path\n",
    "from shapely.geometry import Polygon\n",
    "import roifile\n",
    "import numpy as np"
   ]
  },
  {
   "cell_type": "code",
   "execution_count": null,
   "id": "b7919fda-794d-4735-b615-f426321df9f4",
   "metadata": {},
   "outputs": [],
   "source": [
    "roi_filepath = Path('/mnt/c/Users/dsege/TEMP/test_project2/01_rois_to_analyze/tg/#5_tg_old/#hund.roi')"
   ]
  },
  {
   "cell_type": "code",
   "execution_count": null,
   "id": "7ea77698-0f6b-4025-aa11-b4d0108b5d71",
   "metadata": {},
   "outputs": [],
   "source": [
    "roi_filepath = Path('/mnt/c/Users/dsege/TEMP/test_project2/01_rois_to_analyze/tg/#5_tg_old/RoiSet.zip')"
   ]
  },
  {
   "cell_type": "code",
   "execution_count": null,
   "id": "ce5f8645-a1e5-4f12-a6fa-c085d0754bf6",
   "metadata": {},
   "outputs": [],
   "source": [
    "roi_filepath.name.endswith('.zip')"
   ]
  },
  {
   "cell_type": "code",
   "execution_count": null,
   "id": "367e51cc-ae5b-48e1-acf8-a06d58952bfc",
   "metadata": {},
   "outputs": [],
   "source": [
    "'.zip' in ['.roi', '.zip']"
   ]
  },
  {
   "cell_type": "code",
   "execution_count": null,
   "id": "7e4ce74a-fff0-48d6-8276-a89e66ba357f",
   "metadata": {},
   "outputs": [],
   "source": [
    "loaded_rois[1].name"
   ]
  },
  {
   "cell_type": "code",
   "execution_count": null,
   "id": "9d970e4b-5987-4b8f-8470-e6af93aab732",
   "metadata": {},
   "outputs": [],
   "source": [
    "if roi_filepath.name.endswith('.roi'):\n",
    "    loaded_rois = [roifile.ImagejRoi.fromfile(roi_filepath)]\n",
    "elif roi_filepath.name.endswith('.zip'):\n",
    "    loaded_rois = roifile.ImagejRoi.fromfile(roi_filepath)\n",
    "else:\n",
    "    filetype = roi_filepath.name[roi_filepath.name.find('.'):]\n",
    "    raise ValueError(f'ImageJROIReader cannot handle files of type {filetype}')\n",
    "\n",
    "rois_as_shapely_polygons = {'all_planes': dict()}\n",
    "roi_count = len(loaded_rois)\n",
    "for roi_index in range(roi_count):\n",
    "    row_coords = loaded_rois[roi_index].coordinates()[:, 1]\n",
    "    col_coords = loaded_rois[roi_index].coordinates()[:, 0]\n",
    "    if roi_count > 1:\n",
    "        rois_as_shapely_polygons['all_planes'][loaded_rois[roi_index].name] = Polygon(np.asarray(list(zip(row_coords, col_coords))))\n",
    "    else:\n",
    "        rois_as_shapely_polygons['all_planes'][str(roi_index).zfill(3)] = Polygon(np.asarray(list(zip(row_coords, col_coords)))) \n"
   ]
  },
  {
   "cell_type": "code",
   "execution_count": null,
   "id": "40bceb9a-7b38-434e-bcdd-ecc73e08ec8e",
   "metadata": {},
   "outputs": [],
   "source": [
    "row_coords"
   ]
  },
  {
   "cell_type": "code",
   "execution_count": null,
   "id": "e0ccd590-c245-4125-baff-46f7ed0efc96",
   "metadata": {},
   "outputs": [],
   "source": [
    "row_coords = [row - 5 for row in row_coords]\n",
    "row_coords"
   ]
  },
  {
   "cell_type": "code",
   "execution_count": null,
   "id": "9a980d3a-a77f-487a-a135-8b954a837bdf",
   "metadata": {},
   "outputs": [],
   "source": [
    "a = np.asarray(row_coords)"
   ]
  },
  {
   "cell_type": "code",
   "execution_count": null,
   "id": "1fa60ed2-97e8-4515-b6c5-7059acb9eb7a",
   "metadata": {},
   "outputs": [],
   "source": [
    "a -= 5"
   ]
  },
  {
   "cell_type": "code",
   "execution_count": null,
   "id": "9d6b51d9-d35d-42ab-9955-0a313f285c0d",
   "metadata": {},
   "outputs": [],
   "source": [
    "a"
   ]
  },
  {
   "cell_type": "code",
   "execution_count": null,
   "id": "5a27ae8b-ab04-4d5c-8e14-1fad31d53932",
   "metadata": {},
   "outputs": [],
   "source": [
    "Polygon(np.asarray(list(zip(np.asarray(row_coords), np.asarray(col_coords)))))"
   ]
  },
  {
   "cell_type": "code",
   "execution_count": null,
   "id": "f24d9f1b-70e5-42be-baae-c705fc905835",
   "metadata": {},
   "outputs": [],
   "source": [
    "col_coords"
   ]
  },
  {
   "cell_type": "code",
   "execution_count": null,
   "id": "26435e84-a46b-48a1-920e-ddb1620288eb",
   "metadata": {},
   "outputs": [],
   "source": [
    "row_coords = [coordinates[0] for coordinates in rois_as_shapely_polygons['all_planes']['0330-0403'].boundary.coords[:]]\n",
    "col_coords = [coordinates[1] for coordinates in rois_as_shapely_polygons['all_planes']['0330-0403'].boundary.coords[:]]"
   ]
  },
  {
   "cell_type": "code",
   "execution_count": null,
   "id": "bcc266b9-f28e-4e08-bf61-78e48ad38c8c",
   "metadata": {},
   "outputs": [],
   "source": []
  },
  {
   "cell_type": "code",
   "execution_count": null,
   "id": "db04a3e8-726e-4982-9c6b-8ade173faea3",
   "metadata": {},
   "outputs": [],
   "source": [
    "rois_as_shapely_polygons['all_planes'].keys()"
   ]
  },
  {
   "cell_type": "code",
   "execution_count": null,
   "id": "3bc9aa06-1223-4bd7-9ced-1e4a4f3543e3",
   "metadata": {},
   "outputs": [],
   "source": [
    "f'ImageJROIReader cannot handle files of type {filetype}'"
   ]
  },
  {
   "cell_type": "code",
   "execution_count": null,
   "id": "03e41052-8143-483c-b0a0-466f609bcde7",
   "metadata": {},
   "outputs": [],
   "source": [
    "roi[0].coordinates()"
   ]
  },
  {
   "cell_type": "code",
   "execution_count": null,
   "id": "e4a107b5-13e1-4423-a578-1613acc0cddb",
   "metadata": {},
   "outputs": [],
   "source": [
    "self.as_polygons[roi_id] = Polygon(np.asarray(list(zip(self.roi_coordinates[roi_id][0], self.roi_coordinates[roi_id][1]))))"
   ]
  },
  {
   "cell_type": "code",
   "execution_count": null,
   "id": "50b0236b-9f74-4b08-a296-e93ffc370e3d",
   "metadata": {},
   "outputs": [],
   "source": []
  },
  {
   "cell_type": "code",
   "execution_count": null,
   "id": "e72a8d57-f68e-4b49-9abb-ba06bcd3715c",
   "metadata": {},
   "outputs": [],
   "source": [
    "rois_as_shapely_polygons['file_id']['plane_id']['roi_id']"
   ]
  },
  {
   "cell_type": "code",
   "execution_count": null,
   "id": "c1fd3960-ef21-4ff1-9cb2-a830d761011c",
   "metadata": {},
   "outputs": [],
   "source": [
    "hunde = list()\n",
    "katzen = list()\n",
    "for x in hunde:\n",
    "    katzen.append(x)\n",
    "    "
   ]
  },
  {
   "cell_type": "code",
   "execution_count": null,
   "id": "749b9d79-cfb5-40b8-aa34-5c7fb909b18f",
   "metadata": {},
   "outputs": [],
   "source": [
    "katzen"
   ]
  },
  {
   "cell_type": "code",
   "execution_count": null,
   "id": "2af5ea2e-62b4-4890-b16a-65025d9c9519",
   "metadata": {},
   "outputs": [],
   "source": []
  },
  {
   "cell_type": "code",
   "execution_count": null,
   "id": "ffcbf1e1-0e52-45da-8605-346ec98aa478",
   "metadata": {},
   "outputs": [],
   "source": [
    "project_root_dir = Path('/mnt/c/Users/dsege/TEMP/test_project2/')"
   ]
  },
  {
   "cell_type": "code",
   "execution_count": null,
   "id": "0daaf827-68d7-41fb-b776-212fc9596d92",
   "metadata": {},
   "outputs": [],
   "source": [
    "project_root_dir.joinpath(elem).as_posix()"
   ]
  },
  {
   "cell_type": "code",
   "execution_count": null,
   "id": "1846f57b-abe1-43f7-9488-316a0d81e843",
   "metadata": {},
   "outputs": [],
   "source": [
    "elem"
   ]
  },
  {
   "cell_type": "code",
   "execution_count": null,
   "id": "2a862d86-ebbb-4d9f-a4f1-a26788151de7",
   "metadata": {},
   "outputs": [],
   "source": [
    "project_root_dir.is_dir()"
   ]
  },
  {
   "cell_type": "code",
   "execution_count": null,
   "id": "3953188b-1dbd-4931-b81f-7cb540b2dd41",
   "metadata": {},
   "outputs": [],
   "source": [
    "project_root_dir"
   ]
  },
  {
   "cell_type": "code",
   "execution_count": null,
   "id": "39a4a408-254f-40d7-b1e7-79e1cdf19b59",
   "metadata": {},
   "outputs": [],
   "source": [
    "self.project_root_dir + [elem for elem in subdirectories if 'microscopy' in elem][0] + '/'"
   ]
  },
  {
   "cell_type": "code",
   "execution_count": null,
   "id": "9d5dd650-809a-4ac3-a059-43b8e956091f",
   "metadata": {},
   "outputs": [],
   "source": [
    "subdirectories"
   ]
  },
  {
   "cell_type": "code",
   "execution_count": null,
   "id": "9c60ec87-1550-445a-8e2c-32b436d5b153",
   "metadata": {},
   "outputs": [],
   "source": [
    "import os\n",
    "def listdir_nohidden(path):\n",
    "    return [f for f in os.listdir(path) if f.startswith('.') == False]"
   ]
  },
  {
   "cell_type": "code",
   "execution_count": null,
   "id": "d3939d87-37d3-4123-9d36-d8e55e98a571",
   "metadata": {},
   "outputs": [],
   "source": [
    "subdirectories = listdir_nohidden(path = project_root_dir)"
   ]
  },
  {
   "cell_type": "code",
   "execution_count": null,
   "id": "54a73aaf-94ad-48c6-8c99-1e3711b32b55",
   "metadata": {},
   "outputs": [],
   "source": [
    "? microscopy_image_dir.mkdir"
   ]
  },
  {
   "cell_type": "code",
   "execution_count": null,
   "id": "553ceb23-5870-4d34-aca2-dc3d37a4b537",
   "metadata": {},
   "outputs": [],
   "source": [
    "subdirectory_attributes = {'rois_to_analyze_dir': {'foldername': '01_rois_to_analyze',\n",
    "                                                   'key_substring': 'rois'},\n",
    "                           'preprocessed_images_dir': {'foldername': '02_preprocessed_images',\n",
    "                                                       'key_substring': 'preprocessed'},\n",
    "                           'deepflash2_dir': {'foldername': '03_deepflash2',\n",
    "                                              'key_substring': 'deepflash'},\n",
    "                           'binary_segmentations_dir': {'foldername': '04_binary_segmentations',\n",
    "                                                        'key_substring': 'binary'},\n",
    "                           'instance_segmentations_dir': {'foldername': '05_instance_segmentations',\n",
    "                                                          'key_substring': 'instance'},\n",
    "                           'inspection_dir': {'foldername': '06_inspection',\n",
    "                                              'key_substring': 'inspection'},\n",
    "                           'results_dir': {'foldername': '07_results',\n",
    "                                           'key_substring': 'results'}}\n"
   ]
  },
  {
   "cell_type": "code",
   "execution_count": null,
   "id": "b2f4dc56-05ce-42fa-8e29-50792a88872b",
   "metadata": {},
   "outputs": [],
   "source": [
    "for attribute_key in subdirectory_attributes.keys():\n",
    "    elements_matching_key_substring = [elem for elem in subdirectories if subdirectory_attributes[attribute_key]['key_substring'] in elem]\n",
    "    if len(elements_matching_key_substring) > 0:\n",
    "        for matching_element in elements_matching_key_substring:\n",
    "            if (project_root_dir.joinpath(matching_element).is_dir()) & (hasattr(self, attribute_key) == False):\n",
    "                setattr(self, attribute_key, project_root_dir.joinpath(matching_element))\n",
    "    if hasattr(self, attribute_key) == False:\n",
    "        subdirectory_path = project_root_dir.joinpath(subdirectory_attributes[attribute_key]['foldername'])\n",
    "        subdirectory_path.mkdir()\n",
    "        setattr(self, attribute_key, subdirectory_path)\n",
    "                \n",
    "                "
   ]
  },
  {
   "cell_type": "code",
   "execution_count": null,
   "id": "4aa00488-c46f-4390-a4f2-d8c882d0c9a2",
   "metadata": {},
   "outputs": [],
   "source": []
  },
  {
   "cell_type": "code",
   "execution_count": null,
   "id": "d0861cab-21d7-474e-b1eb-d2645a18970a",
   "metadata": {},
   "outputs": [],
   "source": [
    "folder = [elem for elem in subdirectories if 'microscopy' in elem][0]"
   ]
  },
  {
   "cell_type": "code",
   "execution_count": null,
   "id": "0ff4ecd1-e8c6-4e19-a91a-178cfb3fd476",
   "metadata": {},
   "outputs": [],
   "source": [
    "microscopy_image_dir = project_root_dir.joinpath('hund')"
   ]
  },
  {
   "cell_type": "code",
   "execution_count": null,
   "id": "f5dda9bf-05e7-4e6e-8002-cae6a58167ab",
   "metadata": {},
   "outputs": [],
   "source": [
    "project_root_dir.joinpath('hund').is_dir()\n",
    "    "
   ]
  },
  {
   "cell_type": "code",
   "execution_count": null,
   "id": "44b4e714-17fa-4321-b8fa-064ad35c0756",
   "metadata": {},
   "outputs": [],
   "source": [
    "microscopy_image_dir"
   ]
  },
  {
   "cell_type": "code",
   "execution_count": null,
   "id": "a2ec393f-08aa-474d-8294-f2d9aa5ab7af",
   "metadata": {},
   "outputs": [],
   "source": [
    "from findmycells.main import Project\n",
    "import os\n",
    "import pandas as pd\n",
    "from datetime import datetime"
   ]
  }
 ],
 "metadata": {
  "kernelspec": {
   "display_name": "Python 3 (ipykernel)",
   "language": "python",
   "name": "python3"
  },
  "language_info": {
   "codemirror_mode": {
    "name": "ipython",
    "version": 3
   },
   "file_extension": ".py",
   "mimetype": "text/x-python",
   "name": "python",
   "nbconvert_exporter": "python",
   "pygments_lexer": "ipython3",
   "version": "3.7.12"
  }
 },
 "nbformat": 4,
 "nbformat_minor": 5
}
