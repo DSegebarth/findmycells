{
 "cells": [
  {
   "cell_type": "markdown",
   "id": "a6c273b4-65c0-4a00-b71e-35460c1d077e",
   "metadata": {},
   "source": [
    "Next steps:\n",
    "\n",
    " - ~load ROIs~ (or create one with shape of the image)\n",
    " - ~make adaptations to database:~\n",
    "   - ~use Path objects to enable continous integration~\n",
    "   - ~rename deepflash2_dir to segmentation_tool_dir~\n",
    "   - ~create sorted list of all preprocessing steps (i.e. preprocessing strategies)~\n",
    " - ~adapt main~\n",
    " - ~function that saves preprocessed images~\n",
    " \n",
    " \n",
    " - confirm that roi is loaded and adjusted correctly (rows and columns switched?)\n",
    " - continue with segmentations\n",
    "\n",
    " - Minimal preprocessing steps are:\n",
    "    - save the \"unprocessed\" microscopy images to the preprocessed_dir\n",
    "    - load the unprocessed ROIs into the database (create ROI with shape of image if whole image is to be analyzed)"
   ]
  },
  {
   "cell_type": "code",
   "execution_count": null,
   "id": "6737d86a-e84d-4e8f-b947-a789c7ac3e71",
   "metadata": {},
   "outputs": [],
   "source": [
    "import random"
   ]
  },
  {
   "cell_type": "code",
   "execution_count": null,
   "id": "db889067-4c3c-4eba-ac86-f80858b768ef",
   "metadata": {},
   "outputs": [],
   "source": [
    "animals = ['hund', 'katze', 'maus', 'vogel', 'maulwurf']"
   ]
  },
  {
   "cell_type": "code",
   "execution_count": null,
   "id": "7de77f15-01e7-4bad-9dda-14043ddfddba",
   "metadata": {},
   "outputs": [],
   "source": [
    "animals.remove('hund')"
   ]
  },
  {
   "cell_type": "code",
   "execution_count": null,
   "id": "80d62f59-4022-4d63-934a-50f118955cb3",
   "metadata": {},
   "outputs": [],
   "source": [
    "animals"
   ]
  },
  {
   "cell_type": "code",
   "execution_count": null,
   "id": "9037b9cc-a645-493a-840a-334c8c923958",
   "metadata": {},
   "outputs": [],
   "source": [
    "random.sample(animals, 2)"
   ]
  },
  {
   "cell_type": "code",
   "execution_count": null,
   "id": "6d04dee0-0c2d-4d90-aa41-c2a3072cf011",
   "metadata": {},
   "outputs": [],
   "source": [
    "batch_size = 2"
   ]
  },
  {
   "cell_type": "code",
   "execution_count": null,
   "id": "1ef10a9b-9584-4eef-b1ac-9dee26241fcb",
   "metadata": {},
   "outputs": [],
   "source": []
  },
  {
   "cell_type": "code",
   "execution_count": null,
   "id": "6228a27f-f155-4af5-8d1b-bc0d3bb49a15",
   "metadata": {},
   "outputs": [],
   "source": [
    "if len(animals) % batch_size == 0:\n",
    "    total_batches = int(len(animals) / batch_size)\n",
    "else:\n",
    "    total_batches = int(len(animals) / batch_size) + 1\n",
    "file_ids_per_batch = list()\n",
    "for batch_id in range(total_batches):\n",
    "    if len(animals) >= batch_size:\n",
    "        sampled_file_ids = random.sample(animals, batch_size)\n",
    "    else:\n",
    "        sampled_file_ids = animals.copy()\n",
    "    file_ids_per_batch.append(sampled_file_ids)\n",
    "    for elem in sampled_file_ids:\n",
    "        animals.remove(elem)\n",
    "return file_ids_per_batch    "
   ]
  },
  {
   "cell_type": "code",
   "execution_count": null,
   "id": "6c6c5f05-c527-4056-94c7-e1dfeaef978d",
   "metadata": {},
   "outputs": [],
   "source": [
    "file_ids_per_batch"
   ]
  },
  {
   "cell_type": "code",
   "execution_count": null,
   "id": "5698a817-1fb1-483e-ae85-9819e4ec2a8e",
   "metadata": {},
   "outputs": [],
   "source": [
    "import numpy as np\n",
    "max(np.asarray([0, 1, 3, False, False]))"
   ]
  },
  {
   "cell_type": "code",
   "execution_count": null,
   "id": "a7b32d7e-fa6b-436f-8ba0-c01de4dfdca3",
   "metadata": {},
   "outputs": [],
   "source": []
  },
  {
   "cell_type": "code",
   "execution_count": 1,
   "id": "126b3170-6380-49e5-9902-ccce3d2c2331",
   "metadata": {
    "tags": []
   },
   "outputs": [],
   "source": [
    "from findmycells.main import Project\n",
    "from pathlib import Path"
   ]
  },
  {
   "cell_type": "code",
   "execution_count": 2,
   "id": "d22c5813-1033-4e8f-9729-cadc728adf2e",
   "metadata": {},
   "outputs": [],
   "source": [
    "from findmycells.preprocessing import CropStitchingArtefactsRGB, ConvertFrom12To8BitRGB\n",
    "from findmycells.segmentation import Deepflash2BinaryAndInstanceSegmentation"
   ]
  },
  {
   "cell_type": "code",
   "execution_count": 3,
   "id": "abf7f2d3-e522-4907-828f-f234361202cd",
   "metadata": {},
   "outputs": [],
   "source": [
    "project_root_dir = Path('/mnt/c/Users/dsege/TEMP/test_project4')"
   ]
  },
  {
   "cell_type": "code",
   "execution_count": 4,
   "id": "55d6c4f7-a245-4d27-862d-ea33aaea1a0f",
   "metadata": {},
   "outputs": [],
   "source": [
    "user_input_via_gui = {'project_root_dir': project_root_dir, \n",
    "                      'preprocessing_strategies': [ConvertFrom12To8BitRGB, CropStitchingArtefactsRGB], \n",
    "                      'segmentation_strategies': [Deepflash2BinaryAndInstanceSegmentation], \n",
    "                      'low_memory': True}"
   ]
  },
  {
   "cell_type": "code",
   "execution_count": 5,
   "id": "99658d36-0877-4dac-b348-26b0dd8fdd42",
   "metadata": {},
   "outputs": [],
   "source": [
    "refactored_project = Project(user_input_via_gui)\n",
    "refactored_project.load_status()"
   ]
  },
  {
   "cell_type": "code",
   "execution_count": 6,
   "id": "6469e4c9-18a8-4402-af1d-8704e305008d",
   "metadata": {},
   "outputs": [],
   "source": [
    "refactored_project.preprocess()"
   ]
  },
  {
   "cell_type": "code",
   "execution_count": 8,
   "id": "8cb7c923-ef00-4f85-9c4f-10579d9015e6",
   "metadata": {},
   "outputs": [
    {
     "name": "stdout",
     "output_type": "stream",
     "text": [
      "Warning: preprocessing_step_00 not yet specified in renaming dictionary\n",
      "Warning: preprocessing_step_01 not yet specified in renaming dictionary\n",
      "Warning: total_planes not yet specified in renaming dictionary\n"
     ]
    }
   ],
   "source": [
    "refactored_project.save_status()"
   ]
  },
  {
   "cell_type": "code",
   "execution_count": 7,
   "id": "7b234ebd-c924-4bbb-99df-ab0ec70c0d5c",
   "metadata": {},
   "outputs": [
    {
     "name": "stdout",
     "output_type": "stream",
     "text": [
      "Found 3 models in folder /mnt/c/Users/dsege/TEMP/test_project4/03_segmentation_tool/trained_models\n",
      "['Unet_resnet34_2classes-fold1.pth', 'Unet_resnet34_2classes-fold3.pth', 'Unet_resnet34_2classes-fold5.pth']\n",
      "Computing Stats...\n",
      "Found 3 models in folder /mnt/c/Users/dsege/TEMP/test_project4/03_segmentation_tool/trained_models\n",
      "['Unet_resnet34_2classes-fold1.pth', 'Unet_resnet34_2classes-fold3.pth', 'Unet_resnet34_2classes-fold5.pth']\n"
     ]
    },
    {
     "data": {
      "text/html": [],
      "text/plain": [
       "<IPython.core.display.HTML object>"
      ]
     },
     "metadata": {},
     "output_type": "display_data"
    },
    {
     "name": "stdout",
     "output_type": "stream",
     "text": [
      "Predicting 0000-000.png\n"
     ]
    },
    {
     "data": {
      "text/html": [],
      "text/plain": [
       "<IPython.core.display.HTML object>"
      ]
     },
     "metadata": {},
     "output_type": "display_data"
    },
    {
     "name": "stdout",
     "output_type": "stream",
     "text": [
      "Predicting 0000-001.png\n"
     ]
    },
    {
     "data": {
      "text/html": [],
      "text/plain": [
       "<IPython.core.display.HTML object>"
      ]
     },
     "metadata": {},
     "output_type": "display_data"
    },
    {
     "name": "stdout",
     "output_type": "stream",
     "text": [
      "Predicting 0000-002.png\n"
     ]
    },
    {
     "data": {
      "text/html": [],
      "text/plain": [
       "<IPython.core.display.HTML object>"
      ]
     },
     "metadata": {},
     "output_type": "display_data"
    },
    {
     "name": "stdout",
     "output_type": "stream",
     "text": [
      "Predicting 0000-003.png\n"
     ]
    },
    {
     "data": {
      "text/html": [],
      "text/plain": [
       "<IPython.core.display.HTML object>"
      ]
     },
     "metadata": {},
     "output_type": "display_data"
    },
    {
     "name": "stdout",
     "output_type": "stream",
     "text": [
      "Predicting 0000-004.png\n"
     ]
    },
    {
     "data": {
      "text/html": [],
      "text/plain": [
       "<IPython.core.display.HTML object>"
      ]
     },
     "metadata": {},
     "output_type": "display_data"
    },
    {
     "name": "stdout",
     "output_type": "stream",
     "text": [
      "Predicting 0000-005.png\n"
     ]
    },
    {
     "data": {
      "text/html": [],
      "text/plain": [
       "<IPython.core.display.HTML object>"
      ]
     },
     "metadata": {},
     "output_type": "display_data"
    },
    {
     "name": "stdout",
     "output_type": "stream",
     "text": [
      "Predicting 0000-006.png\n"
     ]
    },
    {
     "data": {
      "text/html": [],
      "text/plain": [
       "<IPython.core.display.HTML object>"
      ]
     },
     "metadata": {},
     "output_type": "display_data"
    },
    {
     "name": "stdout",
     "output_type": "stream",
     "text": [
      "Predicting 0000-007.png\n"
     ]
    },
    {
     "data": {
      "text/html": [],
      "text/plain": [
       "<IPython.core.display.HTML object>"
      ]
     },
     "metadata": {},
     "output_type": "display_data"
    },
    {
     "name": "stdout",
     "output_type": "stream",
     "text": [
      "2022-02-20 16:11:03,551 [INFO] WRITING LOG OUTPUT TO /home/ds/.cellpose/run.log\n",
      "Found 3 models in folder /mnt/c/Users/dsege/TEMP/test_project4/03_segmentation_tool/trained_models\n",
      "['Unet_resnet34_2classes-fold1.pth', 'Unet_resnet34_2classes-fold3.pth', 'Unet_resnet34_2classes-fold5.pth']\n",
      "Using diameter of 51\n",
      "2022-02-20 16:11:15,107 [INFO] ** TORCH CUDA version installed and working. **\n",
      "2022-02-20 16:11:15,108 [INFO] >>>> using GPU\n",
      "2022-02-20 16:11:15,308 [INFO] ~~~ FINDING MASKS ~~~\n",
      "2022-02-20 16:12:01,675 [INFO] >>>> TOTAL TIME 46.37 sec\n",
      "Found 3 models in folder /mnt/c/Users/dsege/TEMP/test_project4/03_segmentation_tool/trained_models\n",
      "['Unet_resnet34_2classes-fold1.pth', 'Unet_resnet34_2classes-fold3.pth', 'Unet_resnet34_2classes-fold5.pth']\n",
      "Using diameter of 51\n",
      "2022-02-20 16:12:08,639 [INFO] ** TORCH CUDA version installed and working. **\n",
      "2022-02-20 16:12:08,639 [INFO] >>>> using GPU\n",
      "2022-02-20 16:12:08,763 [INFO] ~~~ FINDING MASKS ~~~\n",
      "2022-02-20 16:12:50,977 [INFO] >>>> TOTAL TIME 42.21 sec\n",
      "Found 3 models in folder /mnt/c/Users/dsege/TEMP/test_project4/03_segmentation_tool/trained_models\n",
      "['Unet_resnet34_2classes-fold1.pth', 'Unet_resnet34_2classes-fold3.pth', 'Unet_resnet34_2classes-fold5.pth']\n",
      "Using diameter of 51\n",
      "2022-02-20 16:12:57,622 [INFO] ** TORCH CUDA version installed and working. **\n",
      "2022-02-20 16:12:57,623 [INFO] >>>> using GPU\n",
      "2022-02-20 16:12:57,733 [INFO] ~~~ FINDING MASKS ~~~\n",
      "2022-02-20 16:13:37,728 [INFO] >>>> TOTAL TIME 39.99 sec\n",
      "Found 3 models in folder /mnt/c/Users/dsege/TEMP/test_project4/03_segmentation_tool/trained_models\n",
      "['Unet_resnet34_2classes-fold1.pth', 'Unet_resnet34_2classes-fold3.pth', 'Unet_resnet34_2classes-fold5.pth']\n",
      "Using diameter of 51\n",
      "2022-02-20 16:13:46,192 [INFO] ** TORCH CUDA version installed and working. **\n",
      "2022-02-20 16:13:46,193 [INFO] >>>> using GPU\n",
      "2022-02-20 16:13:46,315 [INFO] ~~~ FINDING MASKS ~~~\n",
      "2022-02-20 16:14:24,897 [INFO] >>>> TOTAL TIME 38.58 sec\n",
      "Found 3 models in folder /mnt/c/Users/dsege/TEMP/test_project4/03_segmentation_tool/trained_models\n",
      "['Unet_resnet34_2classes-fold1.pth', 'Unet_resnet34_2classes-fold3.pth', 'Unet_resnet34_2classes-fold5.pth']\n",
      "Using diameter of 51\n",
      "2022-02-20 16:14:33,154 [INFO] ** TORCH CUDA version installed and working. **\n",
      "2022-02-20 16:14:33,155 [INFO] >>>> using GPU\n",
      "2022-02-20 16:14:33,400 [INFO] ~~~ FINDING MASKS ~~~\n",
      "2022-02-20 16:15:12,194 [INFO] >>>> TOTAL TIME 38.79 sec\n",
      "Found 3 models in folder /mnt/c/Users/dsege/TEMP/test_project4/03_segmentation_tool/trained_models\n",
      "['Unet_resnet34_2classes-fold1.pth', 'Unet_resnet34_2classes-fold3.pth', 'Unet_resnet34_2classes-fold5.pth']\n",
      "Using diameter of 51\n",
      "2022-02-20 16:15:21,589 [INFO] ** TORCH CUDA version installed and working. **\n",
      "2022-02-20 16:15:21,589 [INFO] >>>> using GPU\n",
      "2022-02-20 16:15:21,713 [INFO] ~~~ FINDING MASKS ~~~\n",
      "2022-02-20 16:16:00,018 [INFO] >>>> TOTAL TIME 38.31 sec\n",
      "Found 3 models in folder /mnt/c/Users/dsege/TEMP/test_project4/03_segmentation_tool/trained_models\n",
      "['Unet_resnet34_2classes-fold1.pth', 'Unet_resnet34_2classes-fold3.pth', 'Unet_resnet34_2classes-fold5.pth']\n",
      "Using diameter of 51\n",
      "2022-02-20 16:16:09,346 [INFO] ** TORCH CUDA version installed and working. **\n",
      "2022-02-20 16:16:09,347 [INFO] >>>> using GPU\n",
      "2022-02-20 16:16:09,466 [INFO] ~~~ FINDING MASKS ~~~\n",
      "2022-02-20 16:16:46,750 [INFO] >>>> TOTAL TIME 37.28 sec\n",
      "Found 3 models in folder /mnt/c/Users/dsege/TEMP/test_project4/03_segmentation_tool/trained_models\n",
      "['Unet_resnet34_2classes-fold1.pth', 'Unet_resnet34_2classes-fold3.pth', 'Unet_resnet34_2classes-fold5.pth']\n",
      "Using diameter of 51\n",
      "2022-02-20 16:16:56,643 [INFO] ** TORCH CUDA version installed and working. **\n",
      "2022-02-20 16:16:56,644 [INFO] >>>> using GPU\n",
      "2022-02-20 16:16:56,775 [INFO] ~~~ FINDING MASKS ~~~\n",
      "2022-02-20 16:17:33,122 [INFO] >>>> TOTAL TIME 36.35 sec\n"
     ]
    }
   ],
   "source": [
    "refactored_project.segment(file_ids = ['0000'], batch_size = 1)"
   ]
  },
  {
   "cell_type": "code",
   "execution_count": 11,
   "id": "2c6f8339-76e1-459d-b55d-7bcc6d6b3599",
   "metadata": {},
   "outputs": [
    {
     "data": {
      "text/plain": [
       "True"
      ]
     },
     "execution_count": 11,
     "metadata": {},
     "output_type": "execute_result"
    }
   ],
   "source": [
    "refactored_project.database.low_memory"
   ]
  },
  {
   "cell_type": "code",
   "execution_count": 12,
   "id": "b6fef4c6-2ecf-47d1-be1b-9d682fcff8da",
   "metadata": {},
   "outputs": [
    {
     "name": "stdout",
     "output_type": "stream",
     "text": [
      "Warning: preprocessing_step_00 not yet specified in renaming dictionary\n",
      "Warning: preprocessing_step_01 not yet specified in renaming dictionary\n",
      "Warning: total_planes not yet specified in renaming dictionary\n",
      "Warning: segmentation_completed not yet specified in renaming dictionary\n",
      "Warning: segmentation_step_00 not yet specified in renaming dictionary\n",
      "Warning: binary_segmentations_done not yet specified in renaming dictionary\n",
      "Warning: instance_segmentations_done not yet specified in renaming dictionary\n",
      "Warning: batch_id not yet specified in renaming dictionary\n"
     ]
    }
   ],
   "source": [
    "refactored_project.save_status()"
   ]
  },
  {
   "cell_type": "code",
   "execution_count": 16,
   "id": "b39cbab5-93e2-4592-aac7-d557c459b6a8",
   "metadata": {},
   "outputs": [
    {
     "name": "stdout",
     "output_type": "stream",
     "text": [
      "Found 3 models in folder /mnt/c/Users/dsege/TEMP/test_project4/03_segmentation_tool/trained_models\n",
      "['Unet_resnet34_2classes-fold1.pth', 'Unet_resnet34_2classes-fold3.pth', 'Unet_resnet34_2classes-fold5.pth']\n"
     ]
    },
    {
     "ename": "KeyboardInterrupt",
     "evalue": "",
     "output_type": "error",
     "traceback": [
      "\u001b[0;31m---------------------------------------------------------------------------\u001b[0m",
      "\u001b[0;31mKeyboardInterrupt\u001b[0m                         Traceback (most recent call last)",
      "\u001b[0;32m/tmp/ipykernel_1020/1535549946.py\u001b[0m in \u001b[0;36m<module>\u001b[0;34m\u001b[0m\n\u001b[0;32m----> 1\u001b[0;31m \u001b[0mrefactored_project\u001b[0m\u001b[0;34m.\u001b[0m\u001b[0msegment\u001b[0m\u001b[0;34m(\u001b[0m\u001b[0mbatch_size\u001b[0m \u001b[0;34m=\u001b[0m \u001b[0;36m2\u001b[0m\u001b[0;34m,\u001b[0m \u001b[0moverwrite\u001b[0m\u001b[0;34m=\u001b[0m\u001b[0;32mTrue\u001b[0m\u001b[0;34m)\u001b[0m\u001b[0;34m\u001b[0m\u001b[0;34m\u001b[0m\u001b[0m\n\u001b[0m",
      "\u001b[0;32m~/GitHub_repos/DCLmeetsRETUNE/image_analysis_pipeline/findmycells/main.py\u001b[0m in \u001b[0;36msegment\u001b[0;34m(self, file_ids, batch_size, overwrite)\u001b[0m\n\u001b[1;32m     43\u001b[0m         \u001b[0;32mfor\u001b[0m \u001b[0mbatch_file_ids\u001b[0m \u001b[0;32min\u001b[0m \u001b[0mfile_ids_per_batch\u001b[0m\u001b[0;34m:\u001b[0m\u001b[0;34m\u001b[0m\u001b[0;34m\u001b[0m\u001b[0m\n\u001b[1;32m     44\u001b[0m             \u001b[0msegmentation_object\u001b[0m \u001b[0;34m=\u001b[0m \u001b[0mSegmentationObject\u001b[0m\u001b[0;34m(\u001b[0m\u001b[0mdatabase\u001b[0m \u001b[0;34m=\u001b[0m \u001b[0mself\u001b[0m\u001b[0;34m.\u001b[0m\u001b[0mdatabase\u001b[0m\u001b[0;34m,\u001b[0m \u001b[0mfile_ids\u001b[0m \u001b[0;34m=\u001b[0m \u001b[0mbatch_file_ids\u001b[0m\u001b[0;34m)\u001b[0m\u001b[0;34m\u001b[0m\u001b[0;34m\u001b[0m\u001b[0m\n\u001b[0;32m---> 45\u001b[0;31m             \u001b[0msegmentation_object\u001b[0m\u001b[0;34m.\u001b[0m\u001b[0mrun_all_segmentation_steps\u001b[0m\u001b[0;34m(\u001b[0m\u001b[0;34m)\u001b[0m\u001b[0;34m\u001b[0m\u001b[0;34m\u001b[0m\u001b[0m\n\u001b[0m\u001b[1;32m     46\u001b[0m             \u001b[0msegmentation_object\u001b[0m\u001b[0;34m.\u001b[0m\u001b[0mupdate_database\u001b[0m\u001b[0;34m(\u001b[0m\u001b[0;34m)\u001b[0m\u001b[0;34m\u001b[0m\u001b[0;34m\u001b[0m\u001b[0m\n\u001b[1;32m     47\u001b[0m             \u001b[0;32mdel\u001b[0m \u001b[0msegmentation_object\u001b[0m\u001b[0;34m\u001b[0m\u001b[0;34m\u001b[0m\u001b[0m\n",
      "\u001b[0;32m~/GitHub_repos/DCLmeetsRETUNE/image_analysis_pipeline/findmycells/segmentation.py\u001b[0m in \u001b[0;36mrun_all_segmentation_steps\u001b[0;34m(self)\u001b[0m\n\u001b[1;32m     38\u001b[0m     \u001b[0;32mdef\u001b[0m \u001b[0mrun_all_segmentation_steps\u001b[0m\u001b[0;34m(\u001b[0m\u001b[0mself\u001b[0m\u001b[0;34m)\u001b[0m \u001b[0;34m->\u001b[0m \u001b[0;32mNone\u001b[0m\u001b[0;34m:\u001b[0m\u001b[0;34m\u001b[0m\u001b[0;34m\u001b[0m\u001b[0m\n\u001b[1;32m     39\u001b[0m         \u001b[0;32mfor\u001b[0m \u001b[0msegmentation_strategy\u001b[0m \u001b[0;32min\u001b[0m \u001b[0mself\u001b[0m\u001b[0;34m.\u001b[0m\u001b[0mdatabase\u001b[0m\u001b[0;34m.\u001b[0m\u001b[0msegmentation_strategies\u001b[0m\u001b[0;34m:\u001b[0m\u001b[0;34m\u001b[0m\u001b[0;34m\u001b[0m\u001b[0m\n\u001b[0;32m---> 40\u001b[0;31m             \u001b[0mself\u001b[0m \u001b[0;34m=\u001b[0m \u001b[0msegmentation_strategy\u001b[0m\u001b[0;34m(\u001b[0m\u001b[0;34m)\u001b[0m\u001b[0;34m.\u001b[0m\u001b[0mrun\u001b[0m\u001b[0;34m(\u001b[0m\u001b[0msegmentation_object\u001b[0m \u001b[0;34m=\u001b[0m \u001b[0mself\u001b[0m\u001b[0;34m,\u001b[0m \u001b[0mstep\u001b[0m \u001b[0;34m=\u001b[0m \u001b[0mself\u001b[0m\u001b[0;34m.\u001b[0m\u001b[0mdatabase\u001b[0m\u001b[0;34m.\u001b[0m\u001b[0msegmentation_strategies\u001b[0m\u001b[0;34m.\u001b[0m\u001b[0mindex\u001b[0m\u001b[0;34m(\u001b[0m\u001b[0msegmentation_strategy\u001b[0m\u001b[0;34m)\u001b[0m\u001b[0;34m)\u001b[0m\u001b[0;34m\u001b[0m\u001b[0;34m\u001b[0m\u001b[0m\n\u001b[0m\u001b[1;32m     41\u001b[0m \u001b[0;34m\u001b[0m\u001b[0m\n\u001b[1;32m     42\u001b[0m \u001b[0;34m\u001b[0m\u001b[0m\n",
      "\u001b[0;32m~/GitHub_repos/DCLmeetsRETUNE/image_analysis_pipeline/findmycells/segmentation.py\u001b[0m in \u001b[0;36mrun\u001b[0;34m(self, segmentation_object, step)\u001b[0m\n\u001b[1;32m     71\u001b[0m             \u001b[0msegmentation_object\u001b[0m\u001b[0;34m.\u001b[0m\u001b[0mdatabase\u001b[0m \u001b[0;34m=\u001b[0m \u001b[0mself\u001b[0m\u001b[0;34m.\u001b[0m\u001b[0minitialize_deepflash2_as_segmentation_tool\u001b[0m\u001b[0;34m(\u001b[0m\u001b[0mdatabase\u001b[0m \u001b[0;34m=\u001b[0m \u001b[0msegmentation_object\u001b[0m\u001b[0;34m.\u001b[0m\u001b[0mdatabase\u001b[0m\u001b[0;34m)\u001b[0m\u001b[0;34m\u001b[0m\u001b[0;34m\u001b[0m\u001b[0m\n\u001b[1;32m     72\u001b[0m         \u001b[0mself\u001b[0m\u001b[0;34m.\u001b[0m\u001b[0mcopy_all_files_of_current_batch_to_temp_dir\u001b[0m\u001b[0;34m(\u001b[0m\u001b[0mdatabase\u001b[0m \u001b[0;34m=\u001b[0m \u001b[0msegmentation_object\u001b[0m\u001b[0;34m.\u001b[0m\u001b[0mdatabase\u001b[0m\u001b[0;34m,\u001b[0m \u001b[0mbatch_file_ids\u001b[0m \u001b[0;34m=\u001b[0m \u001b[0msegmentation_object\u001b[0m\u001b[0;34m.\u001b[0m\u001b[0mfile_ids\u001b[0m\u001b[0;34m)\u001b[0m\u001b[0;34m\u001b[0m\u001b[0;34m\u001b[0m\u001b[0m\n\u001b[0;32m---> 73\u001b[0;31m         \u001b[0msegmentation_object\u001b[0m\u001b[0;34m.\u001b[0m\u001b[0mdatabase\u001b[0m \u001b[0;34m=\u001b[0m \u001b[0mself\u001b[0m\u001b[0;34m.\u001b[0m\u001b[0mrun_semantic_segmentations\u001b[0m\u001b[0;34m(\u001b[0m\u001b[0mdatabase\u001b[0m \u001b[0;34m=\u001b[0m \u001b[0msegmentation_object\u001b[0m\u001b[0;34m.\u001b[0m\u001b[0mdatabase\u001b[0m\u001b[0;34m)\u001b[0m\u001b[0;34m\u001b[0m\u001b[0;34m\u001b[0m\u001b[0m\n\u001b[0m\u001b[1;32m     74\u001b[0m         \u001b[0msegmentation_object\u001b[0m\u001b[0;34m.\u001b[0m\u001b[0mdatabase\u001b[0m \u001b[0;34m=\u001b[0m \u001b[0mself\u001b[0m\u001b[0;34m.\u001b[0m\u001b[0mrun_instance_segmentations\u001b[0m\u001b[0;34m(\u001b[0m\u001b[0mdatabase\u001b[0m \u001b[0;34m=\u001b[0m \u001b[0msegmentation_object\u001b[0m\u001b[0;34m.\u001b[0m\u001b[0mdatabase\u001b[0m\u001b[0;34m)\u001b[0m\u001b[0;34m\u001b[0m\u001b[0;34m\u001b[0m\u001b[0m\n\u001b[1;32m     75\u001b[0m         \u001b[0mself\u001b[0m\u001b[0;34m.\u001b[0m\u001b[0mmove_files\u001b[0m\u001b[0;34m(\u001b[0m\u001b[0mdatabase\u001b[0m \u001b[0;34m=\u001b[0m \u001b[0msegmentation_object\u001b[0m\u001b[0;34m.\u001b[0m\u001b[0mdatabase\u001b[0m\u001b[0;34m,\u001b[0m \u001b[0mbatch_file_ids\u001b[0m \u001b[0;34m=\u001b[0m \u001b[0msegmentation_object\u001b[0m\u001b[0;34m.\u001b[0m\u001b[0mfile_ids\u001b[0m\u001b[0;34m)\u001b[0m\u001b[0;34m\u001b[0m\u001b[0;34m\u001b[0m\u001b[0m\n",
      "\u001b[0;32m~/GitHub_repos/DCLmeetsRETUNE/image_analysis_pipeline/findmycells/segmentation.py\u001b[0m in \u001b[0;36mrun_binary_segmentations\u001b[0;34m(self, database)\u001b[0m\n\u001b[1;32m    121\u001b[0m                                               \u001b[0mzarr_store\u001b[0m \u001b[0;34m=\u001b[0m \u001b[0mdatabase\u001b[0m\u001b[0;34m.\u001b[0m\u001b[0msegmentation_tool_temp_dir\u001b[0m\u001b[0;34m,\u001b[0m\u001b[0;34m\u001b[0m\u001b[0;34m\u001b[0m\u001b[0m\n\u001b[1;32m    122\u001b[0m                                               \u001b[0mexport_dir\u001b[0m \u001b[0;34m=\u001b[0m \u001b[0mdatabase\u001b[0m\u001b[0;34m.\u001b[0m\u001b[0msegmentation_tool_dir\u001b[0m\u001b[0;34m,\u001b[0m\u001b[0;34m\u001b[0m\u001b[0;34m\u001b[0m\u001b[0m\n\u001b[0;32m--> 123\u001b[0;31m                                               use_tta = True)\n\u001b[0m\u001b[1;32m    124\u001b[0m         \u001b[0;32mif\u001b[0m \u001b[0;34m'df_ens'\u001b[0m \u001b[0;32mnot\u001b[0m \u001b[0;32min\u001b[0m \u001b[0mdatabase\u001b[0m\u001b[0;34m.\u001b[0m\u001b[0msegmentation_tool_configs\u001b[0m\u001b[0;34m.\u001b[0m\u001b[0mkeys\u001b[0m\u001b[0;34m(\u001b[0m\u001b[0;34m)\u001b[0m\u001b[0;34m:\u001b[0m\u001b[0;34m\u001b[0m\u001b[0;34m\u001b[0m\u001b[0m\n\u001b[1;32m    125\u001b[0m             \u001b[0mdatabase\u001b[0m\u001b[0;34m.\u001b[0m\u001b[0msegmentation_tool_configs\u001b[0m\u001b[0;34m[\u001b[0m\u001b[0;34m'df_ens'\u001b[0m\u001b[0;34m]\u001b[0m \u001b[0;34m=\u001b[0m \u001b[0mensemble_learner\u001b[0m\u001b[0;34m.\u001b[0m\u001b[0mdf_ens\u001b[0m\u001b[0;34m.\u001b[0m\u001b[0mcopy\u001b[0m\u001b[0;34m(\u001b[0m\u001b[0;34m)\u001b[0m\u001b[0;34m\u001b[0m\u001b[0;34m\u001b[0m\u001b[0m\n",
      "\u001b[0;32m~/anaconda3/envs/DCLwidgets_clone/lib/python3.7/site-packages/deepflash2/learner.py\u001b[0m in \u001b[0;36mget_ensemble_results\u001b[0;34m(self, files, zarr_store, export_dir, filetype, **kwargs)\u001b[0m\n\u001b[1;32m    561\u001b[0m \u001b[0;34m\u001b[0m\u001b[0m\n\u001b[1;32m    562\u001b[0m     \u001b[0;32mdef\u001b[0m \u001b[0mget_ensemble_results\u001b[0m\u001b[0;34m(\u001b[0m\u001b[0mself\u001b[0m\u001b[0;34m,\u001b[0m \u001b[0mfiles\u001b[0m\u001b[0;34m,\u001b[0m \u001b[0mzarr_store\u001b[0m\u001b[0;34m=\u001b[0m\u001b[0;32mNone\u001b[0m\u001b[0;34m,\u001b[0m \u001b[0mexport_dir\u001b[0m\u001b[0;34m=\u001b[0m\u001b[0;32mNone\u001b[0m\u001b[0;34m,\u001b[0m \u001b[0mfiletype\u001b[0m\u001b[0;34m=\u001b[0m\u001b[0;34m'.png'\u001b[0m\u001b[0;34m,\u001b[0m \u001b[0;34m**\u001b[0m\u001b[0mkwargs\u001b[0m\u001b[0;34m)\u001b[0m\u001b[0;34m:\u001b[0m\u001b[0;34m\u001b[0m\u001b[0;34m\u001b[0m\u001b[0m\n\u001b[0;32m--> 563\u001b[0;31m         \u001b[0mep\u001b[0m \u001b[0;34m=\u001b[0m \u001b[0mEnsemblePredict\u001b[0m\u001b[0;34m(\u001b[0m\u001b[0mmodels_paths\u001b[0m\u001b[0;34m=\u001b[0m\u001b[0mself\u001b[0m\u001b[0;34m.\u001b[0m\u001b[0mmodels\u001b[0m\u001b[0;34m.\u001b[0m\u001b[0mvalues\u001b[0m\u001b[0;34m(\u001b[0m\u001b[0;34m)\u001b[0m\u001b[0;34m,\u001b[0m \u001b[0mzarr_store\u001b[0m\u001b[0;34m=\u001b[0m\u001b[0mzarr_store\u001b[0m\u001b[0;34m)\u001b[0m\u001b[0;34m\u001b[0m\u001b[0;34m\u001b[0m\u001b[0m\n\u001b[0m\u001b[1;32m    564\u001b[0m         \u001b[0mg_smx\u001b[0m\u001b[0;34m,\u001b[0m \u001b[0mg_std\u001b[0m\u001b[0;34m,\u001b[0m \u001b[0mg_eng\u001b[0m \u001b[0;34m=\u001b[0m \u001b[0mep\u001b[0m\u001b[0;34m.\u001b[0m\u001b[0mpredict_images\u001b[0m\u001b[0;34m(\u001b[0m\u001b[0mfiles\u001b[0m\u001b[0;34m,\u001b[0m \u001b[0mbs\u001b[0m\u001b[0;34m=\u001b[0m\u001b[0mself\u001b[0m\u001b[0;34m.\u001b[0m\u001b[0mbatch_size\u001b[0m\u001b[0;34m,\u001b[0m \u001b[0mds_kwargs\u001b[0m\u001b[0;34m=\u001b[0m\u001b[0mself\u001b[0m\u001b[0;34m.\u001b[0m\u001b[0mpred_ds_kwargs\u001b[0m\u001b[0;34m,\u001b[0m \u001b[0;34m**\u001b[0m\u001b[0mkwargs\u001b[0m\u001b[0;34m)\u001b[0m\u001b[0;34m\u001b[0m\u001b[0;34m\u001b[0m\u001b[0m\n\u001b[1;32m    565\u001b[0m         \u001b[0mchunk_store\u001b[0m \u001b[0;34m=\u001b[0m \u001b[0mg_smx\u001b[0m\u001b[0;34m.\u001b[0m\u001b[0mchunk_store\u001b[0m\u001b[0;34m.\u001b[0m\u001b[0mpath\u001b[0m\u001b[0;34m\u001b[0m\u001b[0;34m\u001b[0m\u001b[0m\n",
      "\u001b[0;32m~/anaconda3/envs/DCLwidgets_clone/lib/python3.7/site-packages/deepflash2/learner.py\u001b[0m in \u001b[0;36m__init__\u001b[0;34m(self, models_paths, zarr_store)\u001b[0m\n\u001b[1;32m    188\u001b[0m         \u001b[0mself\u001b[0m\u001b[0;34m.\u001b[0m\u001b[0mmodels_paths\u001b[0m \u001b[0;34m=\u001b[0m \u001b[0mmodels_paths\u001b[0m\u001b[0;34m\u001b[0m\u001b[0;34m\u001b[0m\u001b[0m\n\u001b[1;32m    189\u001b[0m         \u001b[0mself\u001b[0m\u001b[0;34m.\u001b[0m\u001b[0mdevice\u001b[0m \u001b[0;34m=\u001b[0m \u001b[0mtorch\u001b[0m\u001b[0;34m.\u001b[0m\u001b[0mdevice\u001b[0m\u001b[0;34m(\u001b[0m\u001b[0;34m'cuda'\u001b[0m \u001b[0;32mif\u001b[0m \u001b[0mtorch\u001b[0m\u001b[0;34m.\u001b[0m\u001b[0mcuda\u001b[0m\u001b[0;34m.\u001b[0m\u001b[0mis_available\u001b[0m\u001b[0;34m(\u001b[0m\u001b[0;34m)\u001b[0m \u001b[0;32melse\u001b[0m \u001b[0;34m'cpu'\u001b[0m\u001b[0;34m)\u001b[0m\u001b[0;34m\u001b[0m\u001b[0;34m\u001b[0m\u001b[0m\n\u001b[0;32m--> 190\u001b[0;31m         \u001b[0mself\u001b[0m\u001b[0;34m.\u001b[0m\u001b[0minit_models\u001b[0m\u001b[0;34m(\u001b[0m\u001b[0;34m)\u001b[0m\u001b[0;34m\u001b[0m\u001b[0;34m\u001b[0m\u001b[0m\n\u001b[0m\u001b[1;32m    191\u001b[0m \u001b[0;34m\u001b[0m\u001b[0m\n\u001b[1;32m    192\u001b[0m         \u001b[0;31m# Init zarr storage\u001b[0m\u001b[0;34m\u001b[0m\u001b[0;34m\u001b[0m\u001b[0;34m\u001b[0m\u001b[0m\n",
      "\u001b[0;32m~/anaconda3/envs/DCLwidgets_clone/lib/python3.7/site-packages/deepflash2/learner.py\u001b[0m in \u001b[0;36minit_models\u001b[0;34m(self)\u001b[0m\n\u001b[1;32m    200\u001b[0m         \u001b[0mself\u001b[0m\u001b[0;34m.\u001b[0m\u001b[0mstats\u001b[0m \u001b[0;34m=\u001b[0m \u001b[0;32mNone\u001b[0m\u001b[0;34m\u001b[0m\u001b[0;34m\u001b[0m\u001b[0m\n\u001b[1;32m    201\u001b[0m         \u001b[0;32mfor\u001b[0m \u001b[0mp\u001b[0m \u001b[0;32min\u001b[0m \u001b[0mself\u001b[0m\u001b[0;34m.\u001b[0m\u001b[0mmodels_paths\u001b[0m\u001b[0;34m:\u001b[0m\u001b[0;34m\u001b[0m\u001b[0;34m\u001b[0m\u001b[0m\n\u001b[0;32m--> 202\u001b[0;31m             \u001b[0mmodel\u001b[0m\u001b[0;34m,\u001b[0m \u001b[0mstats\u001b[0m \u001b[0;34m=\u001b[0m \u001b[0mload_smp_model\u001b[0m\u001b[0;34m(\u001b[0m\u001b[0mp\u001b[0m\u001b[0;34m)\u001b[0m\u001b[0;34m\u001b[0m\u001b[0;34m\u001b[0m\u001b[0m\n\u001b[0m\u001b[1;32m    203\u001b[0m             \u001b[0;32mif\u001b[0m \u001b[0;32mnot\u001b[0m \u001b[0mself\u001b[0m\u001b[0;34m.\u001b[0m\u001b[0mstats\u001b[0m\u001b[0;34m:\u001b[0m \u001b[0mself\u001b[0m\u001b[0;34m.\u001b[0m\u001b[0mstats\u001b[0m \u001b[0;34m=\u001b[0m \u001b[0mstats\u001b[0m\u001b[0;34m\u001b[0m\u001b[0;34m\u001b[0m\u001b[0m\n\u001b[1;32m    204\u001b[0m             \u001b[0;32massert\u001b[0m \u001b[0mnp\u001b[0m\u001b[0;34m.\u001b[0m\u001b[0marray_equal\u001b[0m\u001b[0;34m(\u001b[0m\u001b[0mstats\u001b[0m\u001b[0;34m,\u001b[0m \u001b[0mself\u001b[0m\u001b[0;34m.\u001b[0m\u001b[0mstats\u001b[0m\u001b[0;34m)\u001b[0m\u001b[0;34m,\u001b[0m \u001b[0;34m'Only models trained on the same stats are allowed.'\u001b[0m\u001b[0;34m\u001b[0m\u001b[0;34m\u001b[0m\u001b[0m\n",
      "\u001b[0;32m~/anaconda3/envs/DCLwidgets_clone/lib/python3.7/site-packages/deepflash2/models.py\u001b[0m in \u001b[0;36mload_smp_model\u001b[0;34m(path, device, strict, **kwargs)\u001b[0m\n\u001b[1;32m     62\u001b[0m     \u001b[0;32mif\u001b[0m \u001b[0misinstance\u001b[0m\u001b[0;34m(\u001b[0m\u001b[0mdevice\u001b[0m\u001b[0;34m,\u001b[0m \u001b[0mint\u001b[0m\u001b[0;34m)\u001b[0m\u001b[0;34m:\u001b[0m \u001b[0mdevice\u001b[0m \u001b[0;34m=\u001b[0m \u001b[0mtorch\u001b[0m\u001b[0;34m.\u001b[0m\u001b[0mdevice\u001b[0m\u001b[0;34m(\u001b[0m\u001b[0;34m'cuda'\u001b[0m\u001b[0;34m,\u001b[0m \u001b[0mdevice\u001b[0m\u001b[0;34m)\u001b[0m\u001b[0;34m\u001b[0m\u001b[0;34m\u001b[0m\u001b[0m\n\u001b[1;32m     63\u001b[0m     \u001b[0;32melif\u001b[0m \u001b[0mdevice\u001b[0m \u001b[0;32mis\u001b[0m \u001b[0;32mNone\u001b[0m\u001b[0;34m:\u001b[0m \u001b[0mdevice\u001b[0m \u001b[0;34m=\u001b[0m \u001b[0;34m'cpu'\u001b[0m\u001b[0;34m\u001b[0m\u001b[0;34m\u001b[0m\u001b[0m\n\u001b[0;32m---> 64\u001b[0;31m     \u001b[0mmodel_dict\u001b[0m \u001b[0;34m=\u001b[0m \u001b[0mtorch\u001b[0m\u001b[0;34m.\u001b[0m\u001b[0mload\u001b[0m\u001b[0;34m(\u001b[0m\u001b[0mpath\u001b[0m\u001b[0;34m,\u001b[0m \u001b[0mmap_location\u001b[0m\u001b[0;34m=\u001b[0m\u001b[0mdevice\u001b[0m\u001b[0;34m)\u001b[0m\u001b[0;34m\u001b[0m\u001b[0;34m\u001b[0m\u001b[0m\n\u001b[0m\u001b[1;32m     65\u001b[0m     \u001b[0mstate\u001b[0m \u001b[0;34m=\u001b[0m \u001b[0mmodel_dict\u001b[0m\u001b[0;34m.\u001b[0m\u001b[0mpop\u001b[0m\u001b[0;34m(\u001b[0m\u001b[0;34m'model'\u001b[0m\u001b[0;34m)\u001b[0m\u001b[0;34m\u001b[0m\u001b[0;34m\u001b[0m\u001b[0m\n\u001b[1;32m     66\u001b[0m     \u001b[0mstats\u001b[0m \u001b[0;34m=\u001b[0m \u001b[0mmodel_dict\u001b[0m\u001b[0;34m.\u001b[0m\u001b[0mpop\u001b[0m\u001b[0;34m(\u001b[0m\u001b[0;34m'stats'\u001b[0m\u001b[0;34m)\u001b[0m\u001b[0;34m\u001b[0m\u001b[0;34m\u001b[0m\u001b[0m\n",
      "\u001b[0;32m~/anaconda3/envs/DCLwidgets_clone/lib/python3.7/site-packages/torch/serialization.py\u001b[0m in \u001b[0;36mload\u001b[0;34m(f, map_location, pickle_module, **pickle_load_args)\u001b[0m\n\u001b[1;32m    606\u001b[0m                     \u001b[0;32mreturn\u001b[0m \u001b[0mtorch\u001b[0m\u001b[0;34m.\u001b[0m\u001b[0mjit\u001b[0m\u001b[0;34m.\u001b[0m\u001b[0mload\u001b[0m\u001b[0;34m(\u001b[0m\u001b[0mopened_file\u001b[0m\u001b[0;34m)\u001b[0m\u001b[0;34m\u001b[0m\u001b[0;34m\u001b[0m\u001b[0m\n\u001b[1;32m    607\u001b[0m                 \u001b[0;32mreturn\u001b[0m \u001b[0m_load\u001b[0m\u001b[0;34m(\u001b[0m\u001b[0mopened_zipfile\u001b[0m\u001b[0;34m,\u001b[0m \u001b[0mmap_location\u001b[0m\u001b[0;34m,\u001b[0m \u001b[0mpickle_module\u001b[0m\u001b[0;34m,\u001b[0m \u001b[0;34m**\u001b[0m\u001b[0mpickle_load_args\u001b[0m\u001b[0;34m)\u001b[0m\u001b[0;34m\u001b[0m\u001b[0;34m\u001b[0m\u001b[0m\n\u001b[0;32m--> 608\u001b[0;31m         \u001b[0;32mreturn\u001b[0m \u001b[0m_legacy_load\u001b[0m\u001b[0;34m(\u001b[0m\u001b[0mopened_file\u001b[0m\u001b[0;34m,\u001b[0m \u001b[0mmap_location\u001b[0m\u001b[0;34m,\u001b[0m \u001b[0mpickle_module\u001b[0m\u001b[0;34m,\u001b[0m \u001b[0;34m**\u001b[0m\u001b[0mpickle_load_args\u001b[0m\u001b[0;34m)\u001b[0m\u001b[0;34m\u001b[0m\u001b[0;34m\u001b[0m\u001b[0m\n\u001b[0m\u001b[1;32m    609\u001b[0m \u001b[0;34m\u001b[0m\u001b[0m\n\u001b[1;32m    610\u001b[0m \u001b[0;34m\u001b[0m\u001b[0m\n",
      "\u001b[0;32m~/anaconda3/envs/DCLwidgets_clone/lib/python3.7/site-packages/torch/serialization.py\u001b[0m in \u001b[0;36m_legacy_load\u001b[0;34m(f, map_location, pickle_module, **pickle_load_args)\u001b[0m\n\u001b[1;32m    792\u001b[0m     \u001b[0;32mfor\u001b[0m \u001b[0mkey\u001b[0m \u001b[0;32min\u001b[0m \u001b[0mdeserialized_storage_keys\u001b[0m\u001b[0;34m:\u001b[0m\u001b[0;34m\u001b[0m\u001b[0;34m\u001b[0m\u001b[0m\n\u001b[1;32m    793\u001b[0m         \u001b[0;32massert\u001b[0m \u001b[0mkey\u001b[0m \u001b[0;32min\u001b[0m \u001b[0mdeserialized_objects\u001b[0m\u001b[0;34m\u001b[0m\u001b[0;34m\u001b[0m\u001b[0m\n\u001b[0;32m--> 794\u001b[0;31m         \u001b[0mdeserialized_objects\u001b[0m\u001b[0;34m[\u001b[0m\u001b[0mkey\u001b[0m\u001b[0;34m]\u001b[0m\u001b[0;34m.\u001b[0m\u001b[0m_set_from_file\u001b[0m\u001b[0;34m(\u001b[0m\u001b[0mf\u001b[0m\u001b[0;34m,\u001b[0m \u001b[0moffset\u001b[0m\u001b[0;34m,\u001b[0m \u001b[0mf_should_read_directly\u001b[0m\u001b[0;34m)\u001b[0m\u001b[0;34m\u001b[0m\u001b[0;34m\u001b[0m\u001b[0m\n\u001b[0m\u001b[1;32m    795\u001b[0m         \u001b[0;32mif\u001b[0m \u001b[0moffset\u001b[0m \u001b[0;32mis\u001b[0m \u001b[0;32mnot\u001b[0m \u001b[0;32mNone\u001b[0m\u001b[0;34m:\u001b[0m\u001b[0;34m\u001b[0m\u001b[0;34m\u001b[0m\u001b[0m\n\u001b[1;32m    796\u001b[0m             \u001b[0moffset\u001b[0m \u001b[0;34m=\u001b[0m \u001b[0mf\u001b[0m\u001b[0;34m.\u001b[0m\u001b[0mtell\u001b[0m\u001b[0;34m(\u001b[0m\u001b[0;34m)\u001b[0m\u001b[0;34m\u001b[0m\u001b[0;34m\u001b[0m\u001b[0m\n",
      "\u001b[0;31mKeyboardInterrupt\u001b[0m: "
     ]
    }
   ],
   "source": [
    "refactored_project.segment(batch_size = 2, overwrite=True)"
   ]
  },
  {
   "cell_type": "code",
   "execution_count": null,
   "id": "fcb29080-5089-4424-8b4d-ff83c673a913",
   "metadata": {},
   "outputs": [],
   "source": []
  },
  {
   "cell_type": "code",
   "execution_count": null,
   "id": "3abc49d1-bb9f-41bb-9cca-23b5c4b5f458",
   "metadata": {},
   "outputs": [],
   "source": [
    "refactored_project.load_status()"
   ]
  },
  {
   "cell_type": "code",
   "execution_count": 14,
   "id": "c9da8aad-2f06-4069-8b62-5ae292386e85",
   "metadata": {},
   "outputs": [
    {
     "data": {
      "text/plain": [
       "{'file_id': ['0000', '0001', '0002', '0003'],\n",
       " 'original_file_id': ['#5_SN_tg_s2_sfr1',\n",
       "  '#8_SN_tg_s2_sfr1',\n",
       "  '#7_SN_wt_s2_sfr1',\n",
       "  '#9_SN_wt_s2_sfr1'],\n",
       " 'group_id': ['tg', 'tg', 'wt', 'wt'],\n",
       " 'subject_id': ['#5_tg_old', '#8_tg_old', '#7_wt_old', '#9_wt_old'],\n",
       " 'microscopy_filepath': [Path('/mnt/c/Users/dsege/TEMP/test_project4/00_microscopy_images/tg/#5_tg_old/#5_SN_tg_s2_sfr1.czi'),\n",
       "  Path('/mnt/c/Users/dsege/TEMP/test_project4/00_microscopy_images/tg/#8_tg_old/#8_SN_tg_s2_sfr1.czi'),\n",
       "  Path('/mnt/c/Users/dsege/TEMP/test_project4/00_microscopy_images/wt/#7_wt_old/#7_SN_wt_s2_sfr1.czi'),\n",
       "  Path('/mnt/c/Users/dsege/TEMP/test_project4/00_microscopy_images/wt/#9_wt_old/#9_SN_wt_s2_sfr1.czi')],\n",
       " 'microscopy_filetype': ['.czi', '.czi', '.czi', '.czi'],\n",
       " 'rois_present': [True, True, True, True],\n",
       " 'rois_filepath': [Path('/mnt/c/Users/dsege/TEMP/test_project4/01_rois_to_analyze/tg/#5_tg_old/#5_SN_tg_s2_sfr1.roi'),\n",
       "  Path('/mnt/c/Users/dsege/TEMP/test_project4/01_rois_to_analyze/tg/#8_tg_old/#8_SN_tg_s2_sfr1.roi'),\n",
       "  Path('/mnt/c/Users/dsege/TEMP/test_project4/01_rois_to_analyze/wt/#7_wt_old/#7_SN_wt_s2_sfr1.roi'),\n",
       "  Path('/mnt/c/Users/dsege/TEMP/test_project4/01_rois_to_analyze/wt/#9_wt_old/#9_SN_wt_s2_sfr1.roi')],\n",
       " 'rois_filetype': ['.roi', '.roi', '.roi', '.roi'],\n",
       " 'preprocessing_completed': [True, True, True, True],\n",
       " 'preprocessing_step_00': ['ConvertFrom12To8BitRGB',\n",
       "  'ConvertFrom12To8BitRGB',\n",
       "  'ConvertFrom12To8BitRGB',\n",
       "  'ConvertFrom12To8BitRGB'],\n",
       " 'preprocessing_step_01': ['CropStitchingArtefactsRGB',\n",
       "  'CropStitchingArtefactsRGB',\n",
       "  'CropStitchingArtefactsRGB',\n",
       "  'CropStitchingArtefactsRGB'],\n",
       " 'cropping_row_indices': [(26, 7624), (25, 7622), (24, 7627), (53, 5769)],\n",
       " 'cropping_column_indices': [(61, 4687), (54, 4685), (61, 4688), (41, 6909)],\n",
       " 'RGB': [True, True, True, True],\n",
       " 'total_planes': [8, 8, 8, 9],\n",
       " 'segmentation_completed': [True, True, True, True],\n",
       " 'segmentation_step_00': ['Deepflash2BinaryAndInstance',\n",
       "  'Deepflash2BinaryAndInstance',\n",
       "  'Deepflash2BinaryAndInstance',\n",
       "  'Deepflash2BinaryAndInstance'],\n",
       " 'binary_segmentations_done': [True, True, True, True],\n",
       " 'instance_segmentations_done': [True, True, True, True],\n",
       " 'batch_id': [0, 1, 2, 1]}"
      ]
     },
     "execution_count": 14,
     "metadata": {},
     "output_type": "execute_result"
    }
   ],
   "source": [
    "refactored_project.database.file_infos"
   ]
  },
  {
   "cell_type": "code",
   "execution_count": null,
   "id": "f16baab5-b00a-485a-af27-c74d7fda0bda",
   "metadata": {},
   "outputs": [],
   "source": [
    "refactored_project.preprocess()"
   ]
  },
  {
   "cell_type": "code",
   "execution_count": null,
   "id": "b9185a61-a7fc-4679-8746-6c946d77c989",
   "metadata": {},
   "outputs": [],
   "source": [
    "refactored_project.save_status()"
   ]
  },
  {
   "cell_type": "code",
   "execution_count": null,
   "id": "5c865d94-cf2d-4ce9-b6d8-a722161d0b88",
   "metadata": {},
   "outputs": [],
   "source": []
  },
  {
   "cell_type": "code",
   "execution_count": null,
   "id": "ee15bfd3-15e2-44a5-a86b-ee540e97f07a",
   "metadata": {},
   "outputs": [],
   "source": [
    "refactored_project.database.area_rois_for_quantification"
   ]
  },
  {
   "cell_type": "code",
   "execution_count": null,
   "id": "53925323-e490-4f6a-a2f7-a164d2467a94",
   "metadata": {},
   "outputs": [],
   "source": [
    "refactored_project.preprocessing_object.load_rois()"
   ]
  },
  {
   "cell_type": "code",
   "execution_count": null,
   "id": "bddd2159-86a2-45a5-82ac-97a0b5c25bd2",
   "metadata": {},
   "outputs": [],
   "source": []
  },
  {
   "cell_type": "code",
   "execution_count": null,
   "id": "fbb972e2-f1a9-4744-afcc-7869ae9e62a3",
   "metadata": {},
   "outputs": [],
   "source": []
  },
  {
   "cell_type": "code",
   "execution_count": null,
   "id": "1cbe38a4-808e-43eb-a7db-1736ebf5ee04",
   "metadata": {},
   "outputs": [],
   "source": [
    "refactored_project.database.file_infos['microscopy_filepath'][0]"
   ]
  },
  {
   "cell_type": "code",
   "execution_count": null,
   "id": "60955ed9-0e69-4a8e-8c21-b61a1329e133",
   "metadata": {},
   "outputs": [],
   "source": [
    "from findmycells.microscopyimages import MicroscopyImageLoader\n",
    "import matplotlib.pyplot as plt"
   ]
  },
  {
   "cell_type": "code",
   "execution_count": null,
   "id": "2856aee1-c87d-4125-a72f-e9a92e06ea39",
   "metadata": {},
   "outputs": [],
   "source": [
    "microscopy_image_loader = MicroscopyImageLoader(filepath = refactored_project.database.file_infos['microscopy_filepath'][0],\n",
    "                                                filetype = refactored_project.database.file_infos['microscopy_filetype'][0])\n",
    "zstack = microscopy_image_loader.as_array()"
   ]
  },
  {
   "cell_type": "code",
   "execution_count": null,
   "id": "3519656f-f651-4c8b-b482-bffbb4e14165",
   "metadata": {},
   "outputs": [],
   "source": [
    "zstack.shape"
   ]
  },
  {
   "cell_type": "code",
   "execution_count": null,
   "id": "38c06c82-a6a0-4100-905a-5aa09b261a19",
   "metadata": {},
   "outputs": [],
   "source": [
    "cropped_zstack = zstack[:, 100:7100, 100:4600, :]"
   ]
  },
  {
   "cell_type": "code",
   "execution_count": null,
   "id": "05013083-8056-4cf3-9efb-6f2f4e10597d",
   "metadata": {},
   "outputs": [],
   "source": [
    "from PIL import Image\n",
    "import os"
   ]
  },
  {
   "cell_type": "code",
   "execution_count": null,
   "id": "03eb6f1f-b667-4946-92e3-b0f8ace53a3e",
   "metadata": {},
   "outputs": [],
   "source": [
    "pil_image = Image.fromarray(rgb_image, 'RGB')"
   ]
  },
  {
   "cell_type": "code",
   "execution_count": null,
   "id": "c0a33c1d-1126-4008-b0aa-d0f735ae1e8c",
   "metadata": {},
   "outputs": [],
   "source": [
    "pil_image.save('pil_image.png')"
   ]
  },
  {
   "cell_type": "code",
   "execution_count": null,
   "id": "9f3bba72-3fad-4dbb-8801-f45800000ad9",
   "metadata": {},
   "outputs": [],
   "source": []
  },
  {
   "cell_type": "code",
   "execution_count": null,
   "id": "461481eb-31d9-4753-bdb9-9e1444733a3d",
   "metadata": {},
   "outputs": [],
   "source": [
    "from skimage.io import imsave\n",
    "rgb_image = rgb_image.astype('uint8')\n",
    "imsave('skimage_image.png', rgb_image)"
   ]
  },
  {
   "cell_type": "code",
   "execution_count": null,
   "id": "c300610e-b37a-4d43-9672-1d8ac63c42e8",
   "metadata": {},
   "outputs": [],
   "source": []
  },
  {
   "cell_type": "code",
   "execution_count": null,
   "id": "d916e813-507f-4b1a-9cf9-466a07faf12e",
   "metadata": {},
   "outputs": [],
   "source": [
    "rgb_image"
   ]
  },
  {
   "cell_type": "code",
   "execution_count": null,
   "id": "d9924168-790a-4d07-a17e-73dd7a6893ab",
   "metadata": {},
   "outputs": [],
   "source": [
    "rgb_image = refactored_project.preprocessing_object.preprocessed_image[0].copy()"
   ]
  },
  {
   "cell_type": "code",
   "execution_count": null,
   "id": "bf794fbc-d511-4dc5-be7f-9a9000a7f0ef",
   "metadata": {},
   "outputs": [],
   "source": [
    "plt.imshow(rgb_image)"
   ]
  },
  {
   "cell_type": "code",
   "execution_count": null,
   "id": "73036e97-6fb4-4575-bab5-f9fc582b43bb",
   "metadata": {},
   "outputs": [],
   "source": [
    "converted_image = (rgb_image / 4095 * 255).round(0).astype('uint8')"
   ]
  },
  {
   "cell_type": "code",
   "execution_count": null,
   "id": "568314ef-08cc-44fb-be00-37e6f68b5869",
   "metadata": {},
   "outputs": [],
   "source": [
    "from pathlib import Path\n",
    "from shapely.geometry import Polygon\n",
    "import roifile\n",
    "import numpy as np"
   ]
  },
  {
   "cell_type": "code",
   "execution_count": null,
   "id": "b7919fda-794d-4735-b615-f426321df9f4",
   "metadata": {},
   "outputs": [],
   "source": [
    "roi_filepath = Path('/mnt/c/Users/dsege/TEMP/test_project2/01_rois_to_analyze/tg/#5_tg_old/#hund.roi')"
   ]
  },
  {
   "cell_type": "code",
   "execution_count": null,
   "id": "7ea77698-0f6b-4025-aa11-b4d0108b5d71",
   "metadata": {},
   "outputs": [],
   "source": [
    "roi_filepath = Path('/mnt/c/Users/dsege/TEMP/test_project2/01_rois_to_analyze/tg/#5_tg_old/RoiSet.zip')"
   ]
  },
  {
   "cell_type": "code",
   "execution_count": null,
   "id": "ce5f8645-a1e5-4f12-a6fa-c085d0754bf6",
   "metadata": {},
   "outputs": [],
   "source": [
    "roi_filepath.name.endswith('.zip')"
   ]
  },
  {
   "cell_type": "code",
   "execution_count": null,
   "id": "367e51cc-ae5b-48e1-acf8-a06d58952bfc",
   "metadata": {},
   "outputs": [],
   "source": [
    "'.zip' in ['.roi', '.zip']"
   ]
  },
  {
   "cell_type": "code",
   "execution_count": null,
   "id": "7e4ce74a-fff0-48d6-8276-a89e66ba357f",
   "metadata": {},
   "outputs": [],
   "source": [
    "loaded_rois[1].name"
   ]
  },
  {
   "cell_type": "code",
   "execution_count": null,
   "id": "9d970e4b-5987-4b8f-8470-e6af93aab732",
   "metadata": {},
   "outputs": [],
   "source": [
    "if roi_filepath.name.endswith('.roi'):\n",
    "    loaded_rois = [roifile.ImagejRoi.fromfile(roi_filepath)]\n",
    "elif roi_filepath.name.endswith('.zip'):\n",
    "    loaded_rois = roifile.ImagejRoi.fromfile(roi_filepath)\n",
    "else:\n",
    "    filetype = roi_filepath.name[roi_filepath.name.find('.'):]\n",
    "    raise ValueError(f'ImageJROIReader cannot handle files of type {filetype}')\n",
    "\n",
    "rois_as_shapely_polygons = {'all_planes': dict()}\n",
    "roi_count = len(loaded_rois)\n",
    "for roi_index in range(roi_count):\n",
    "    row_coords = loaded_rois[roi_index].coordinates()[:, 1]\n",
    "    col_coords = loaded_rois[roi_index].coordinates()[:, 0]\n",
    "    if roi_count > 1:\n",
    "        rois_as_shapely_polygons['all_planes'][loaded_rois[roi_index].name] = Polygon(np.asarray(list(zip(row_coords, col_coords))))\n",
    "    else:\n",
    "        rois_as_shapely_polygons['all_planes'][str(roi_index).zfill(3)] = Polygon(np.asarray(list(zip(row_coords, col_coords)))) \n"
   ]
  },
  {
   "cell_type": "code",
   "execution_count": null,
   "id": "40bceb9a-7b38-434e-bcdd-ecc73e08ec8e",
   "metadata": {},
   "outputs": [],
   "source": [
    "row_coords"
   ]
  },
  {
   "cell_type": "code",
   "execution_count": null,
   "id": "e0ccd590-c245-4125-baff-46f7ed0efc96",
   "metadata": {},
   "outputs": [],
   "source": [
    "row_coords = [row - 5 for row in row_coords]\n",
    "row_coords"
   ]
  },
  {
   "cell_type": "code",
   "execution_count": null,
   "id": "9a980d3a-a77f-487a-a135-8b954a837bdf",
   "metadata": {},
   "outputs": [],
   "source": [
    "a = np.asarray(row_coords)"
   ]
  },
  {
   "cell_type": "code",
   "execution_count": null,
   "id": "1fa60ed2-97e8-4515-b6c5-7059acb9eb7a",
   "metadata": {},
   "outputs": [],
   "source": [
    "a -= 5"
   ]
  },
  {
   "cell_type": "code",
   "execution_count": null,
   "id": "9d6b51d9-d35d-42ab-9955-0a313f285c0d",
   "metadata": {},
   "outputs": [],
   "source": [
    "a"
   ]
  },
  {
   "cell_type": "code",
   "execution_count": null,
   "id": "5a27ae8b-ab04-4d5c-8e14-1fad31d53932",
   "metadata": {},
   "outputs": [],
   "source": [
    "Polygon(np.asarray(list(zip(np.asarray(row_coords), np.asarray(col_coords)))))"
   ]
  },
  {
   "cell_type": "code",
   "execution_count": null,
   "id": "f24d9f1b-70e5-42be-baae-c705fc905835",
   "metadata": {},
   "outputs": [],
   "source": [
    "col_coords"
   ]
  },
  {
   "cell_type": "code",
   "execution_count": null,
   "id": "26435e84-a46b-48a1-920e-ddb1620288eb",
   "metadata": {},
   "outputs": [],
   "source": [
    "row_coords = [coordinates[0] for coordinates in rois_as_shapely_polygons['all_planes']['0330-0403'].boundary.coords[:]]\n",
    "col_coords = [coordinates[1] for coordinates in rois_as_shapely_polygons['all_planes']['0330-0403'].boundary.coords[:]]"
   ]
  },
  {
   "cell_type": "code",
   "execution_count": null,
   "id": "bcc266b9-f28e-4e08-bf61-78e48ad38c8c",
   "metadata": {},
   "outputs": [],
   "source": []
  },
  {
   "cell_type": "code",
   "execution_count": null,
   "id": "db04a3e8-726e-4982-9c6b-8ade173faea3",
   "metadata": {},
   "outputs": [],
   "source": [
    "rois_as_shapely_polygons['all_planes'].keys()"
   ]
  },
  {
   "cell_type": "code",
   "execution_count": null,
   "id": "3bc9aa06-1223-4bd7-9ced-1e4a4f3543e3",
   "metadata": {},
   "outputs": [],
   "source": [
    "f'ImageJROIReader cannot handle files of type {filetype}'"
   ]
  },
  {
   "cell_type": "code",
   "execution_count": null,
   "id": "03e41052-8143-483c-b0a0-466f609bcde7",
   "metadata": {},
   "outputs": [],
   "source": [
    "roi[0].coordinates()"
   ]
  },
  {
   "cell_type": "code",
   "execution_count": null,
   "id": "e4a107b5-13e1-4423-a578-1613acc0cddb",
   "metadata": {},
   "outputs": [],
   "source": [
    "self.as_polygons[roi_id] = Polygon(np.asarray(list(zip(self.roi_coordinates[roi_id][0], self.roi_coordinates[roi_id][1]))))"
   ]
  },
  {
   "cell_type": "code",
   "execution_count": null,
   "id": "50b0236b-9f74-4b08-a296-e93ffc370e3d",
   "metadata": {},
   "outputs": [],
   "source": []
  },
  {
   "cell_type": "code",
   "execution_count": null,
   "id": "e72a8d57-f68e-4b49-9abb-ba06bcd3715c",
   "metadata": {},
   "outputs": [],
   "source": [
    "rois_as_shapely_polygons['file_id']['plane_id']['roi_id']"
   ]
  },
  {
   "cell_type": "code",
   "execution_count": null,
   "id": "c1fd3960-ef21-4ff1-9cb2-a830d761011c",
   "metadata": {},
   "outputs": [],
   "source": [
    "hunde = list()\n",
    "katzen = list()\n",
    "for x in hunde:\n",
    "    katzen.append(x)\n",
    "    "
   ]
  },
  {
   "cell_type": "code",
   "execution_count": null,
   "id": "749b9d79-cfb5-40b8-aa34-5c7fb909b18f",
   "metadata": {},
   "outputs": [],
   "source": [
    "katzen"
   ]
  },
  {
   "cell_type": "code",
   "execution_count": null,
   "id": "2af5ea2e-62b4-4890-b16a-65025d9c9519",
   "metadata": {},
   "outputs": [],
   "source": []
  },
  {
   "cell_type": "code",
   "execution_count": null,
   "id": "ffcbf1e1-0e52-45da-8605-346ec98aa478",
   "metadata": {},
   "outputs": [],
   "source": [
    "project_root_dir = Path('/mnt/c/Users/dsege/TEMP/test_project2/')"
   ]
  },
  {
   "cell_type": "code",
   "execution_count": null,
   "id": "0daaf827-68d7-41fb-b776-212fc9596d92",
   "metadata": {},
   "outputs": [],
   "source": [
    "project_root_dir.joinpath(elem).as_posix()"
   ]
  },
  {
   "cell_type": "code",
   "execution_count": null,
   "id": "1846f57b-abe1-43f7-9488-316a0d81e843",
   "metadata": {},
   "outputs": [],
   "source": [
    "elem"
   ]
  },
  {
   "cell_type": "code",
   "execution_count": null,
   "id": "2a862d86-ebbb-4d9f-a4f1-a26788151de7",
   "metadata": {},
   "outputs": [],
   "source": [
    "project_root_dir.is_dir()"
   ]
  },
  {
   "cell_type": "code",
   "execution_count": null,
   "id": "3953188b-1dbd-4931-b81f-7cb540b2dd41",
   "metadata": {},
   "outputs": [],
   "source": [
    "project_root_dir"
   ]
  },
  {
   "cell_type": "code",
   "execution_count": null,
   "id": "39a4a408-254f-40d7-b1e7-79e1cdf19b59",
   "metadata": {},
   "outputs": [],
   "source": [
    "self.project_root_dir + [elem for elem in subdirectories if 'microscopy' in elem][0] + '/'"
   ]
  },
  {
   "cell_type": "code",
   "execution_count": null,
   "id": "9d5dd650-809a-4ac3-a059-43b8e956091f",
   "metadata": {},
   "outputs": [],
   "source": [
    "subdirectories"
   ]
  },
  {
   "cell_type": "code",
   "execution_count": null,
   "id": "9c60ec87-1550-445a-8e2c-32b436d5b153",
   "metadata": {},
   "outputs": [],
   "source": [
    "import os\n",
    "def listdir_nohidden(path):\n",
    "    return [f for f in os.listdir(path) if f.startswith('.') == False]"
   ]
  },
  {
   "cell_type": "code",
   "execution_count": null,
   "id": "d3939d87-37d3-4123-9d36-d8e55e98a571",
   "metadata": {},
   "outputs": [],
   "source": [
    "subdirectories = listdir_nohidden(path = project_root_dir)"
   ]
  },
  {
   "cell_type": "code",
   "execution_count": null,
   "id": "54a73aaf-94ad-48c6-8c99-1e3711b32b55",
   "metadata": {},
   "outputs": [],
   "source": [
    "? microscopy_image_dir.mkdir"
   ]
  },
  {
   "cell_type": "code",
   "execution_count": null,
   "id": "553ceb23-5870-4d34-aca2-dc3d37a4b537",
   "metadata": {},
   "outputs": [],
   "source": [
    "subdirectory_attributes = {'rois_to_analyze_dir': {'foldername': '01_rois_to_analyze',\n",
    "                                                   'key_substring': 'rois'},\n",
    "                           'preprocessed_images_dir': {'foldername': '02_preprocessed_images',\n",
    "                                                       'key_substring': 'preprocessed'},\n",
    "                           'deepflash2_dir': {'foldername': '03_deepflash2',\n",
    "                                              'key_substring': 'deepflash'},\n",
    "                           'binary_segmentations_dir': {'foldername': '04_binary_segmentations',\n",
    "                                                        'key_substring': 'binary'},\n",
    "                           'instance_segmentations_dir': {'foldername': '05_instance_segmentations',\n",
    "                                                          'key_substring': 'instance'},\n",
    "                           'inspection_dir': {'foldername': '06_inspection',\n",
    "                                              'key_substring': 'inspection'},\n",
    "                           'results_dir': {'foldername': '07_results',\n",
    "                                           'key_substring': 'results'}}\n"
   ]
  },
  {
   "cell_type": "code",
   "execution_count": null,
   "id": "b2f4dc56-05ce-42fa-8e29-50792a88872b",
   "metadata": {},
   "outputs": [],
   "source": [
    "for attribute_key in subdirectory_attributes.keys():\n",
    "    elements_matching_key_substring = [elem for elem in subdirectories if subdirectory_attributes[attribute_key]['key_substring'] in elem]\n",
    "    if len(elements_matching_key_substring) > 0:\n",
    "        for matching_element in elements_matching_key_substring:\n",
    "            if (project_root_dir.joinpath(matching_element).is_dir()) & (hasattr(self, attribute_key) == False):\n",
    "                setattr(self, attribute_key, project_root_dir.joinpath(matching_element))\n",
    "    if hasattr(self, attribute_key) == False:\n",
    "        subdirectory_path = project_root_dir.joinpath(subdirectory_attributes[attribute_key]['foldername'])\n",
    "        subdirectory_path.mkdir()\n",
    "        setattr(self, attribute_key, subdirectory_path)\n",
    "                \n",
    "                "
   ]
  },
  {
   "cell_type": "code",
   "execution_count": null,
   "id": "4aa00488-c46f-4390-a4f2-d8c882d0c9a2",
   "metadata": {},
   "outputs": [],
   "source": []
  },
  {
   "cell_type": "code",
   "execution_count": null,
   "id": "d0861cab-21d7-474e-b1eb-d2645a18970a",
   "metadata": {},
   "outputs": [],
   "source": [
    "folder = [elem for elem in subdirectories if 'microscopy' in elem][0]"
   ]
  },
  {
   "cell_type": "code",
   "execution_count": null,
   "id": "0ff4ecd1-e8c6-4e19-a91a-178cfb3fd476",
   "metadata": {},
   "outputs": [],
   "source": [
    "microscopy_image_dir = project_root_dir.joinpath('hund')"
   ]
  },
  {
   "cell_type": "code",
   "execution_count": null,
   "id": "f5dda9bf-05e7-4e6e-8002-cae6a58167ab",
   "metadata": {},
   "outputs": [],
   "source": [
    "project_root_dir.joinpath('hund').is_dir()\n",
    "    "
   ]
  },
  {
   "cell_type": "code",
   "execution_count": null,
   "id": "44b4e714-17fa-4321-b8fa-064ad35c0756",
   "metadata": {},
   "outputs": [],
   "source": [
    "microscopy_image_dir"
   ]
  },
  {
   "cell_type": "code",
   "execution_count": null,
   "id": "a2ec393f-08aa-474d-8294-f2d9aa5ab7af",
   "metadata": {},
   "outputs": [],
   "source": [
    "from findmycells.main import Project\n",
    "import os\n",
    "import pandas as pd\n",
    "from datetime import datetime"
   ]
  }
 ],
 "metadata": {
  "kernelspec": {
   "display_name": "Python 3 (ipykernel)",
   "language": "python",
   "name": "python3"
  },
  "language_info": {
   "codemirror_mode": {
    "name": "ipython",
    "version": 3
   },
   "file_extension": ".py",
   "mimetype": "text/x-python",
   "name": "python",
   "nbconvert_exporter": "python",
   "pygments_lexer": "ipython3",
   "version": "3.7.12"
  }
 },
 "nbformat": 4,
 "nbformat_minor": 5
}
