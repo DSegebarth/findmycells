{
 "cells": [
  {
   "cell_type": "code",
   "execution_count": 1,
   "id": "8656b71c-1948-4519-afde-56473284b2ec",
   "metadata": {},
   "outputs": [],
   "source": [
    "from findmycells.main import Project\n",
    "from findmycells.preprocessing import CropStitchingArtefacts, CroppingAsPreprocessingStrategy\n"
   ]
  },
  {
   "cell_type": "code",
   "execution_count": 2,
   "id": "3a8304aa-a96c-43ac-bbbc-e43085b15ee3",
   "metadata": {},
   "outputs": [],
   "source": [
    "project_root_dir = '/mnt/c/Users/dsege/TEMP/test_project/'"
   ]
  },
  {
   "cell_type": "markdown",
   "id": "1f231c14-4aaf-4368-8740-c5c8bc57c4e5",
   "metadata": {},
   "source": [
    "### Option A: start a new project"
   ]
  },
  {
   "cell_type": "code",
   "execution_count": 3,
   "id": "223351a7-3aad-4b59-b954-3d4bbd63027d",
   "metadata": {},
   "outputs": [],
   "source": [
    "user_input_via_gui = {'project_root_dir': project_root_dir,\n",
    "                      'preprocessing': {0: {'method_category': None,\n",
    "                                            'method_specifier': None,\n",
    "                                            'additional_settings': dict(),\n",
    "                                            'ProcessingMethod': CropStitchingArtefacts(),\n",
    "                                            'ProcessingStrategy': CroppingAsPreprocessingStrategy()}\n",
    "                                       }}"
   ]
  },
  {
   "cell_type": "code",
   "execution_count": 4,
   "id": "4c18db12-8385-48d0-97ae-57d2b873823e",
   "metadata": {},
   "outputs": [],
   "source": [
    "test_project = Project(user_input_via_gui)"
   ]
  },
  {
   "cell_type": "code",
   "execution_count": 5,
   "id": "b724ab47-2ab7-4ad1-8ca2-ae3d4de5d197",
   "metadata": {},
   "outputs": [
    {
     "name": "stdout",
     "output_type": "stream",
     "text": [
      "done with plane 000\n",
      "done with plane 001\n",
      "done with plane 002\n",
      "done with plane 003\n",
      "done with plane 004\n",
      "done with plane 005\n",
      "done with plane 006\n",
      "done with plane 007\n",
      "done with plane 000\n",
      "done with plane 001\n",
      "done with plane 002\n",
      "done with plane 003\n",
      "done with plane 004\n",
      "done with plane 005\n",
      "done with plane 006\n",
      "done with plane 007\n"
     ]
    }
   ],
   "source": [
    "file_ids = ['0001', '0002']\n",
    "test_project.preprocess(file_ids)"
   ]
  },
  {
   "cell_type": "code",
   "execution_count": 6,
   "id": "a732cb6a-de7f-493e-88d8-549a8d7b84fd",
   "metadata": {},
   "outputs": [],
   "source": [
    "test_project.save_status()"
   ]
  },
  {
   "cell_type": "markdown",
   "id": "1a4aa247-306b-4aa1-a313-9852e1fe442d",
   "metadata": {},
   "source": [
    "### Option B: load and continue an existing project"
   ]
  },
  {
   "cell_type": "code",
   "execution_count": 4,
   "id": "1eda0486-7a0b-4789-95de-c1c3818e14c2",
   "metadata": {},
   "outputs": [],
   "source": [
    "user_input_via_gui_load_from_configs = {'project_root_dir': project_root_dir}"
   ]
  },
  {
   "cell_type": "code",
   "execution_count": 5,
   "id": "f21e0248-c074-4af9-b5ea-1241b915a411",
   "metadata": {},
   "outputs": [],
   "source": [
    "test_project = Project(user_input_via_gui_load_from_configs)"
   ]
  },
  {
   "cell_type": "code",
   "execution_count": 6,
   "id": "46df69a4-052f-4a34-a1cd-4b5451f147d0",
   "metadata": {},
   "outputs": [],
   "source": [
    "test_project.load_status()"
   ]
  },
  {
   "cell_type": "code",
   "execution_count": 7,
   "id": "1da42e9a-3607-4ce9-864c-78dba1fd63e1",
   "metadata": {},
   "outputs": [
    {
     "name": "stdout",
     "output_type": "stream",
     "text": [
      "done with plane 000\n",
      "done with plane 001\n",
      "done with plane 002\n",
      "done with plane 003\n",
      "done with plane 004\n",
      "done with plane 005\n",
      "done with plane 006\n",
      "done with plane 007\n",
      "done with plane 000\n",
      "done with plane 001\n",
      "done with plane 002\n",
      "done with plane 003\n",
      "done with plane 004\n",
      "done with plane 005\n",
      "done with plane 006\n",
      "done with plane 007\n"
     ]
    }
   ],
   "source": [
    "file_ids = ['0003', '0004']\n",
    "test_project.preprocess(file_ids)"
   ]
  },
  {
   "cell_type": "code",
   "execution_count": 9,
   "id": "7477293b-0a21-4717-bc71-c09dd8114912",
   "metadata": {},
   "outputs": [],
   "source": [
    "test_project.save_status()"
   ]
  },
  {
   "cell_type": "markdown",
   "id": "a6731ff1-a9be-450b-8b0c-0b818ff6a6d6",
   "metadata": {},
   "source": [
    "### Option C: Final test:"
   ]
  },
  {
   "cell_type": "code",
   "execution_count": 3,
   "id": "6e04fce3-f652-427f-b8a8-c354b884750a",
   "metadata": {},
   "outputs": [],
   "source": [
    "user_input_via_gui_load_from_configs = {'project_root_dir': project_root_dir}"
   ]
  },
  {
   "cell_type": "code",
   "execution_count": 4,
   "id": "e8b346b0-56d8-4e64-b1e6-c5d05e9398fc",
   "metadata": {},
   "outputs": [],
   "source": [
    "test_project = Project(user_input_via_gui_load_from_configs)"
   ]
  },
  {
   "cell_type": "code",
   "execution_count": 5,
   "id": "d5727974-5f48-40c9-b9e5-37027224365d",
   "metadata": {},
   "outputs": [],
   "source": [
    "test_project.load_status()"
   ]
  },
  {
   "cell_type": "code",
   "execution_count": 7,
   "id": "82b2fbd4-f991-4097-85ac-b498a8ecffcb",
   "metadata": {},
   "outputs": [
    {
     "name": "stdout",
     "output_type": "stream",
     "text": [
      "done with plane 000\n",
      "done with plane 001\n",
      "done with plane 002\n",
      "done with plane 003\n",
      "done with plane 004\n",
      "done with plane 005\n",
      "done with plane 006\n",
      "done with plane 007\n"
     ]
    }
   ],
   "source": [
    "file_ids = ['0000', '0001', '0002', '0003', '0004']\n",
    "test_project.preprocess(file_ids)"
   ]
  },
  {
   "cell_type": "code",
   "execution_count": 8,
   "id": "c325f9c9-4ee4-4e24-8cdd-0a88d910288a",
   "metadata": {},
   "outputs": [],
   "source": [
    "test_project.save_status()"
   ]
  },
  {
   "cell_type": "markdown",
   "id": "fff7d861-bee1-4120-9563-fe791d72b75b",
   "metadata": {},
   "source": [
    "# This is where we want to go:"
   ]
  },
  {
   "cell_type": "code",
   "execution_count": null,
   "id": "98bd20fb-f258-449e-bfb7-747ae1e3dbd2",
   "metadata": {},
   "outputs": [],
   "source": [
    "## Initialize the project\n",
    "\n",
    "project_name = Project(project_root_dir)\n",
    "# project_root_dir: path of project root directory\n",
    "\n",
    "project_name.initialize_database()\n",
    "# creates the database object and sets-up everything (main subdirs, file infos, ..)\n",
    "# as alternative, see: load_status()\n",
    "\n",
    "project_name.save_current_status()\n",
    "# saves current progress status to disk (basically the database.file_infos as pickle file? - what about shapely polygons that might have been loaded?)\n",
    "\n",
    "\n",
    "project_name.load_status()\n",
    "# Alternative to initialize_database()\n",
    "# loads the corresponding information from disk and allows the user to continue from here\n",
    "\n",
    "\n",
    "## Preprocessing\n",
    "\n",
    "project_name.preprocess(microscopy_files, cropping_strategy)\n",
    "# microscopy_files: list of all microscopy image files that shall be preprocessed (this would allow step-by-step processing)\n",
    "# cropping_strategy: object of type CroppingStrategy that specifies which exact cropping strategy shall be used\n",
    "\n",
    "# infers:\n",
    "    # microscopy-image-file-loader from filetype (e.g. .czi file loader)\n",
    "    # whether it´s a z-stack\n",
    "    # whether it´s an RGB image\n",
    "# automatically updates the database accordingly\n",
    "\n",
    "\n",
    "## Image segmentation\n",
    "\n",
    "project_name.run_segmentations(files, SegmentationStrategy)\n",
    "# files: list of files that shall be segmented (in case of df2 make sure that all are used due to image statistics & cellpose diameter)\n",
    "# SegmentationStrategy: e.g. deepflash2_binary, deepflash2_instances, intellesis\n",
    "\n",
    "# launches the respective segmentations and saves all progress in the database object & all segmentations in the corresponding subdir\n",
    "\n",
    "\n",
    "## Quantifications\n",
    "\n",
    "project_name.run_quantifications(files, QuantificationStrategy)\n",
    "# files: list of files whose segmentations shall be used for quantification\n",
    "# QuantificationStrategy: e.g. 2D, 3D_grid_estimation, 3D_entire_volume (enable selection of more specific options / exclusion criteria)\n",
    "\n",
    "# Launches the respective quantifications and saves all progress in the database object & all quantification results in the results table"
   ]
  }
 ],
 "metadata": {
  "kernelspec": {
   "display_name": "Python 3 (ipykernel)",
   "language": "python",
   "name": "python3"
  },
  "language_info": {
   "codemirror_mode": {
    "name": "ipython",
    "version": 3
   },
   "file_extension": ".py",
   "mimetype": "text/x-python",
   "name": "python",
   "nbconvert_exporter": "python",
   "pygments_lexer": "ipython3",
   "version": "3.7.12"
  }
 },
 "nbformat": 4,
 "nbformat_minor": 5
}
