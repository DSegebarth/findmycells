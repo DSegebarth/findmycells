{
 "cells": [
  {
   "cell_type": "code",
   "execution_count": 1,
   "id": "8656b71c-1948-4519-afde-56473284b2ec",
   "metadata": {},
   "outputs": [],
   "source": [
    "from findmycells.main import Project\n",
    "from findmycells.preprocessing import CropStitchingArtefacts\n",
    "from findmycells.segmentation import Deepflash2BinaryAndInstanceSegmentationStrategy"
   ]
  },
  {
   "cell_type": "code",
   "execution_count": 2,
   "id": "3a8304aa-a96c-43ac-bbbc-e43085b15ee3",
   "metadata": {},
   "outputs": [],
   "source": [
    "project_root_dir = '/mnt/c/Users/dsege/TEMP/test_project/'"
   ]
  },
  {
   "cell_type": "code",
   "execution_count": 17,
   "id": "43c29514-b57e-4ce4-8eb1-af584bca85d1",
   "metadata": {},
   "outputs": [],
   "source": [
    "import os\n",
    "import shutil\n",
    "\n",
    "os.mkdir('/mnt/c/Users/dsege/TEMP/test_project/just_for_temporary_copies/')"
   ]
  },
  {
   "cell_type": "code",
   "execution_count": 18,
   "id": "4a0f81b1-197b-4355-8493-3e0d45046c75",
   "metadata": {},
   "outputs": [
    {
     "data": {
      "text/plain": [
       "'/mnt/c/Users/dsege/TEMP/test_project/just_for_temporary_copies/0000-000.png'"
      ]
     },
     "execution_count": 18,
     "metadata": {},
     "output_type": "execute_result"
    }
   ],
   "source": [
    "filepath_src = '/mnt/c/Users/dsege/TEMP/test_project/02_preprocessed_images/0000-000.png'\n",
    "dir_dst = '/mnt/c/Users/dsege/TEMP/test_project/just_for_temporary_copies/'\n",
    "\n",
    "\n",
    "shutil.copy(filepath_src, dir_dst)"
   ]
  },
  {
   "cell_type": "markdown",
   "id": "1f231c14-4aaf-4368-8740-c5c8bc57c4e5",
   "metadata": {},
   "source": [
    "### Option A: start a new project"
   ]
  },
  {
   "cell_type": "code",
   "execution_count": 3,
   "id": "223351a7-3aad-4b59-b954-3d4bbd63027d",
   "metadata": {},
   "outputs": [],
   "source": [
    "user_input_via_gui = {'project_root_dir': project_root_dir,\n",
    "                      'preprocessing_configs': {0: {'method_category': None,\n",
    "                                                    'method_specifier': None,\n",
    "                                                    'additional_settings': dict(),\n",
    "                                                    'ProcessingMethod': CropStitchingArtefacts(),\n",
    "                                                    'ProcessingStrategy': None}\n",
    "                                               },\n",
    "                     'segmentation_strategy': Deepflash2BinaryAndInstanceSegmentationStrategy()}"
   ]
  },
  {
   "cell_type": "code",
   "execution_count": 4,
   "id": "4c18db12-8385-48d0-97ae-57d2b873823e",
   "metadata": {},
   "outputs": [],
   "source": [
    "test_project = Project(user_input_via_gui)"
   ]
  },
  {
   "cell_type": "code",
   "execution_count": 5,
   "id": "a4061afc-9af6-42b5-aa2a-5a786d94336e",
   "metadata": {},
   "outputs": [
    {
     "data": {
      "text/plain": [
       "<findmycells.segmentation.Deepflash2BinaryAndInstanceSegmentationStrategy at 0x7fbb33c5d310>"
      ]
     },
     "execution_count": 5,
     "metadata": {},
     "output_type": "execute_result"
    }
   ],
   "source": [
    "test_project.database.segmentation_strategy"
   ]
  },
  {
   "cell_type": "code",
   "execution_count": 6,
   "id": "b724ab47-2ab7-4ad1-8ca2-ae3d4de5d197",
   "metadata": {},
   "outputs": [
    {
     "name": "stdout",
     "output_type": "stream",
     "text": [
      "done with plane 000\n",
      "done with plane 001\n",
      "done with plane 002\n",
      "done with plane 003\n",
      "done with plane 004\n",
      "done with plane 005\n",
      "done with plane 006\n",
      "done with plane 007\n"
     ]
    }
   ],
   "source": [
    "file_ids = ['0000']\n",
    "test_project.preprocess(file_ids)"
   ]
  },
  {
   "cell_type": "code",
   "execution_count": 7,
   "id": "a732cb6a-de7f-493e-88d8-549a8d7b84fd",
   "metadata": {},
   "outputs": [],
   "source": [
    "test_project.save_status()"
   ]
  },
  {
   "cell_type": "code",
   "execution_count": 8,
   "id": "81de2cd4-441a-40ff-b962-ba01e93a113c",
   "metadata": {},
   "outputs": [
    {
     "name": "stdout",
     "output_type": "stream",
     "text": [
      "Found 5 models in folder /mnt/c/Users/dsege/TEMP/test_project/03_deepflash2/trained_models\n",
      "['Unet_resnet34_2classes-fold1.pth', 'Unet_resnet34_2classes-fold2.pth', 'Unet_resnet34_2classes-fold3.pth', 'Unet_resnet34_2classes-fold4.pth', 'Unet_resnet34_2classes-fold5.pth']\n",
      "Computing Stats...\n"
     ]
    },
    {
     "data": {
      "text/html": [],
      "text/plain": [
       "<IPython.core.display.HTML object>"
      ]
     },
     "metadata": {},
     "output_type": "display_data"
    },
    {
     "name": "stdout",
     "output_type": "stream",
     "text": [
      "Predicting 0000-000.png\n"
     ]
    },
    {
     "data": {
      "text/html": [],
      "text/plain": [
       "<IPython.core.display.HTML object>"
      ]
     },
     "metadata": {},
     "output_type": "display_data"
    },
    {
     "name": "stdout",
     "output_type": "stream",
     "text": [
      "Predicting 0000-001.png\n"
     ]
    },
    {
     "data": {
      "text/html": [],
      "text/plain": [
       "<IPython.core.display.HTML object>"
      ]
     },
     "metadata": {},
     "output_type": "display_data"
    },
    {
     "name": "stdout",
     "output_type": "stream",
     "text": [
      "Predicting 0000-002.png\n"
     ]
    },
    {
     "data": {
      "text/html": [],
      "text/plain": [
       "<IPython.core.display.HTML object>"
      ]
     },
     "metadata": {},
     "output_type": "display_data"
    },
    {
     "name": "stdout",
     "output_type": "stream",
     "text": [
      "Predicting 0000-003.png\n"
     ]
    },
    {
     "data": {
      "text/html": [],
      "text/plain": [
       "<IPython.core.display.HTML object>"
      ]
     },
     "metadata": {},
     "output_type": "display_data"
    },
    {
     "name": "stdout",
     "output_type": "stream",
     "text": [
      "Predicting 0000-004.png\n"
     ]
    },
    {
     "data": {
      "text/html": [],
      "text/plain": [
       "<IPython.core.display.HTML object>"
      ]
     },
     "metadata": {},
     "output_type": "display_data"
    },
    {
     "name": "stdout",
     "output_type": "stream",
     "text": [
      "Predicting 0000-005.png\n"
     ]
    },
    {
     "data": {
      "text/html": [],
      "text/plain": [
       "<IPython.core.display.HTML object>"
      ]
     },
     "metadata": {},
     "output_type": "display_data"
    },
    {
     "name": "stdout",
     "output_type": "stream",
     "text": [
      "Predicting 0000-006.png\n"
     ]
    },
    {
     "data": {
      "text/html": [],
      "text/plain": [
       "<IPython.core.display.HTML object>"
      ]
     },
     "metadata": {},
     "output_type": "display_data"
    },
    {
     "name": "stdout",
     "output_type": "stream",
     "text": [
      "Predicting 0000-007.png\n"
     ]
    },
    {
     "data": {
      "text/html": [],
      "text/plain": [
       "<IPython.core.display.HTML object>"
      ]
     },
     "metadata": {},
     "output_type": "display_data"
    },
    {
     "name": "stdout",
     "output_type": "stream",
     "text": [
      "2021-12-30 21:05:12,157 [INFO] WRITING LOG OUTPUT TO /home/ds/.cellpose/run.log\n",
      "Found 5 models in folder /mnt/c/Users/dsege/TEMP/test_project/03_deepflash2/trained_models\n",
      "['Unet_resnet34_2classes-fold1.pth', 'Unet_resnet34_2classes-fold2.pth', 'Unet_resnet34_2classes-fold3.pth', 'Unet_resnet34_2classes-fold4.pth', 'Unet_resnet34_2classes-fold5.pth']\n",
      "Computing Stats...\n",
      "Using diameter of 50\n",
      "2021-12-30 21:05:59,380 [INFO] ** TORCH CUDA version installed and working. **\n",
      "2021-12-30 21:05:59,383 [INFO] >>>> using GPU\n",
      "2021-12-30 21:05:59,581 [INFO] ~~~ FINDING MASKS ~~~\n",
      "2021-12-30 21:06:55,584 [INFO] >>>> TOTAL TIME 56.00 sec\n",
      "Found 5 models in folder /mnt/c/Users/dsege/TEMP/test_project/03_deepflash2/trained_models\n",
      "['Unet_resnet34_2classes-fold1.pth', 'Unet_resnet34_2classes-fold2.pth', 'Unet_resnet34_2classes-fold3.pth', 'Unet_resnet34_2classes-fold4.pth', 'Unet_resnet34_2classes-fold5.pth']\n",
      "Computing Stats...\n",
      "Using diameter of 50\n",
      "2021-12-30 21:07:33,135 [INFO] ** TORCH CUDA version installed and working. **\n",
      "2021-12-30 21:07:33,136 [INFO] >>>> using GPU\n",
      "2021-12-30 21:07:33,269 [INFO] ~~~ FINDING MASKS ~~~\n",
      "2021-12-30 21:08:19,511 [INFO] >>>> TOTAL TIME 46.24 sec\n",
      "Found 5 models in folder /mnt/c/Users/dsege/TEMP/test_project/03_deepflash2/trained_models\n",
      "['Unet_resnet34_2classes-fold1.pth', 'Unet_resnet34_2classes-fold2.pth', 'Unet_resnet34_2classes-fold3.pth', 'Unet_resnet34_2classes-fold4.pth', 'Unet_resnet34_2classes-fold5.pth']\n",
      "Computing Stats...\n",
      "Using diameter of 50\n",
      "2021-12-30 21:08:58,162 [INFO] ** TORCH CUDA version installed and working. **\n",
      "2021-12-30 21:08:58,168 [INFO] >>>> using GPU\n",
      "2021-12-30 21:08:58,405 [INFO] ~~~ FINDING MASKS ~~~\n",
      "2021-12-30 21:09:42,097 [INFO] >>>> TOTAL TIME 43.69 sec\n",
      "Found 5 models in folder /mnt/c/Users/dsege/TEMP/test_project/03_deepflash2/trained_models\n",
      "['Unet_resnet34_2classes-fold1.pth', 'Unet_resnet34_2classes-fold2.pth', 'Unet_resnet34_2classes-fold3.pth', 'Unet_resnet34_2classes-fold4.pth', 'Unet_resnet34_2classes-fold5.pth']\n",
      "Computing Stats...\n",
      "Using diameter of 50\n",
      "2021-12-30 21:10:20,158 [INFO] ** TORCH CUDA version installed and working. **\n",
      "2021-12-30 21:10:20,159 [INFO] >>>> using GPU\n",
      "2021-12-30 21:10:20,394 [INFO] ~~~ FINDING MASKS ~~~\n",
      "2021-12-30 21:11:04,122 [INFO] >>>> TOTAL TIME 43.73 sec\n",
      "Found 5 models in folder /mnt/c/Users/dsege/TEMP/test_project/03_deepflash2/trained_models\n",
      "['Unet_resnet34_2classes-fold1.pth', 'Unet_resnet34_2classes-fold2.pth', 'Unet_resnet34_2classes-fold3.pth', 'Unet_resnet34_2classes-fold4.pth', 'Unet_resnet34_2classes-fold5.pth']\n",
      "Computing Stats...\n",
      "Using diameter of 50\n",
      "2021-12-30 21:11:41,050 [INFO] ** TORCH CUDA version installed and working. **\n",
      "2021-12-30 21:11:41,051 [INFO] >>>> using GPU\n",
      "2021-12-30 21:11:41,172 [INFO] ~~~ FINDING MASKS ~~~\n",
      "2021-12-30 21:12:24,154 [INFO] >>>> TOTAL TIME 42.98 sec\n",
      "Found 5 models in folder /mnt/c/Users/dsege/TEMP/test_project/03_deepflash2/trained_models\n",
      "['Unet_resnet34_2classes-fold1.pth', 'Unet_resnet34_2classes-fold2.pth', 'Unet_resnet34_2classes-fold3.pth', 'Unet_resnet34_2classes-fold4.pth', 'Unet_resnet34_2classes-fold5.pth']\n",
      "Computing Stats...\n",
      "Using diameter of 50\n",
      "2021-12-30 21:13:05,080 [INFO] ** TORCH CUDA version installed and working. **\n",
      "2021-12-30 21:13:05,080 [INFO] >>>> using GPU\n",
      "2021-12-30 21:13:05,201 [INFO] ~~~ FINDING MASKS ~~~\n",
      "2021-12-30 21:13:45,346 [INFO] >>>> TOTAL TIME 40.14 sec\n",
      "Found 5 models in folder /mnt/c/Users/dsege/TEMP/test_project/03_deepflash2/trained_models\n",
      "['Unet_resnet34_2classes-fold1.pth', 'Unet_resnet34_2classes-fold2.pth', 'Unet_resnet34_2classes-fold3.pth', 'Unet_resnet34_2classes-fold4.pth', 'Unet_resnet34_2classes-fold5.pth']\n",
      "Computing Stats...\n",
      "Using diameter of 50\n",
      "2021-12-30 21:14:22,674 [INFO] ** TORCH CUDA version installed and working. **\n",
      "2021-12-30 21:14:22,675 [INFO] >>>> using GPU\n",
      "2021-12-30 21:14:22,787 [INFO] ~~~ FINDING MASKS ~~~\n",
      "2021-12-30 21:15:03,476 [INFO] >>>> TOTAL TIME 40.69 sec\n",
      "Found 5 models in folder /mnt/c/Users/dsege/TEMP/test_project/03_deepflash2/trained_models\n",
      "['Unet_resnet34_2classes-fold1.pth', 'Unet_resnet34_2classes-fold2.pth', 'Unet_resnet34_2classes-fold3.pth', 'Unet_resnet34_2classes-fold4.pth', 'Unet_resnet34_2classes-fold5.pth']\n",
      "Computing Stats...\n",
      "Using diameter of 50\n",
      "2021-12-30 21:15:39,786 [INFO] ** TORCH CUDA version installed and working. **\n",
      "2021-12-30 21:15:39,787 [INFO] >>>> using GPU\n",
      "2021-12-30 21:15:39,923 [INFO] ~~~ FINDING MASKS ~~~\n",
      "2021-12-30 21:16:17,645 [INFO] >>>> TOTAL TIME 37.72 sec\n"
     ]
    }
   ],
   "source": [
    "test_project.run_segmentation()"
   ]
  },
  {
   "cell_type": "code",
   "execution_count": 9,
   "id": "fc39d8be-7e2d-45df-bd4c-ce8d20363bf7",
   "metadata": {},
   "outputs": [],
   "source": [
    "test_project.save_status()"
   ]
  },
  {
   "cell_type": "code",
   "execution_count": 13,
   "id": "25ca9aa0-f7b1-451d-b5d0-c7a3e8406841",
   "metadata": {},
   "outputs": [
    {
     "data": {
      "text/plain": [
       "{'binary_segmented_files': ['0000-000.png',\n",
       "  '0000-001.png',\n",
       "  '0000-002.png',\n",
       "  '0000-003.png',\n",
       "  '0000-004.png',\n",
       "  '0000-005.png',\n",
       "  '0000-006.png',\n",
       "  '0000-007.png'],\n",
       " 'instance_segmented_files': ['0000-000.png',\n",
       "  '0000-001.png',\n",
       "  '0000-002.png',\n",
       "  '0000-003.png',\n",
       "  '0000-004.png',\n",
       "  '0000-005.png',\n",
       "  '0000-006.png',\n",
       "  '0000-007.png']}"
      ]
     },
     "execution_count": 13,
     "metadata": {},
     "output_type": "execute_result"
    }
   ],
   "source": [
    "test_project.database.segmented_file_lists"
   ]
  },
  {
   "cell_type": "markdown",
   "id": "1a4aa247-306b-4aa1-a313-9852e1fe442d",
   "metadata": {},
   "source": [
    "### Option B: load and continue an existing project"
   ]
  },
  {
   "cell_type": "code",
   "execution_count": null,
   "id": "1eda0486-7a0b-4789-95de-c1c3818e14c2",
   "metadata": {},
   "outputs": [],
   "source": [
    "user_input_via_gui_load_from_configs = {'project_root_dir': project_root_dir}"
   ]
  },
  {
   "cell_type": "code",
   "execution_count": null,
   "id": "f21e0248-c074-4af9-b5ea-1241b915a411",
   "metadata": {},
   "outputs": [],
   "source": [
    "test_project = Project(user_input_via_gui_load_from_configs)"
   ]
  },
  {
   "cell_type": "code",
   "execution_count": null,
   "id": "46df69a4-052f-4a34-a1cd-4b5451f147d0",
   "metadata": {},
   "outputs": [],
   "source": [
    "test_project.load_status()"
   ]
  },
  {
   "cell_type": "code",
   "execution_count": null,
   "id": "1da42e9a-3607-4ce9-864c-78dba1fd63e1",
   "metadata": {},
   "outputs": [],
   "source": [
    "file_ids = ['0002']\n",
    "test_project.preprocess(file_ids)"
   ]
  },
  {
   "cell_type": "code",
   "execution_count": null,
   "id": "c50cc434-58ff-4acc-b54f-75a8ece090c7",
   "metadata": {},
   "outputs": [],
   "source": [
    "test_project.run_segmentation()"
   ]
  },
  {
   "cell_type": "code",
   "execution_count": null,
   "id": "7477293b-0a21-4717-bc71-c09dd8114912",
   "metadata": {},
   "outputs": [],
   "source": [
    "test_project.save_status()"
   ]
  },
  {
   "cell_type": "code",
   "execution_count": null,
   "id": "a6a34cbb-ff18-47dd-b077-16b2057386eb",
   "metadata": {},
   "outputs": [],
   "source": []
  },
  {
   "cell_type": "markdown",
   "id": "a6731ff1-a9be-450b-8b0c-0b818ff6a6d6",
   "metadata": {},
   "source": [
    "### Option C: Final test:"
   ]
  },
  {
   "cell_type": "code",
   "execution_count": null,
   "id": "6e04fce3-f652-427f-b8a8-c354b884750a",
   "metadata": {},
   "outputs": [],
   "source": [
    "user_input_via_gui_load_from_configs = {'project_root_dir': project_root_dir}"
   ]
  },
  {
   "cell_type": "code",
   "execution_count": null,
   "id": "e8b346b0-56d8-4e64-b1e6-c5d05e9398fc",
   "metadata": {},
   "outputs": [],
   "source": [
    "test_project = Project(user_input_via_gui_load_from_configs)"
   ]
  },
  {
   "cell_type": "code",
   "execution_count": null,
   "id": "d5727974-5f48-40c9-b9e5-37027224365d",
   "metadata": {},
   "outputs": [],
   "source": [
    "test_project.load_status()"
   ]
  },
  {
   "cell_type": "code",
   "execution_count": null,
   "id": "4c62445b-eeba-4662-95f6-08d103d204f8",
   "metadata": {},
   "outputs": [],
   "source": [
    "test_project.database.file_infos['preprocessing_completed']"
   ]
  },
  {
   "cell_type": "code",
   "execution_count": null,
   "id": "82b2fbd4-f991-4097-85ac-b498a8ecffcb",
   "metadata": {},
   "outputs": [],
   "source": [
    "test_project.preprocess()"
   ]
  },
  {
   "cell_type": "code",
   "execution_count": null,
   "id": "c325f9c9-4ee4-4e24-8cdd-0a88d910288a",
   "metadata": {},
   "outputs": [],
   "source": [
    "test_project.save_status()"
   ]
  },
  {
   "cell_type": "markdown",
   "id": "fff7d861-bee1-4120-9563-fe791d72b75b",
   "metadata": {},
   "source": [
    "# This is where we want to go:"
   ]
  },
  {
   "cell_type": "code",
   "execution_count": null,
   "id": "98bd20fb-f258-449e-bfb7-747ae1e3dbd2",
   "metadata": {},
   "outputs": [],
   "source": [
    "## Initialize the project\n",
    "\n",
    "project_name = Project(project_root_dir)\n",
    "# project_root_dir: path of project root directory\n",
    "\n",
    "project_name.initialize_database()\n",
    "# creates the database object and sets-up everything (main subdirs, file infos, ..)\n",
    "# as alternative, see: load_status()\n",
    "\n",
    "project_name.save_current_status()\n",
    "# saves current progress status to disk (basically the database.file_infos as pickle file? - what about shapely polygons that might have been loaded?)\n",
    "\n",
    "\n",
    "project_name.load_status()\n",
    "# Alternative to initialize_database()\n",
    "# loads the corresponding information from disk and allows the user to continue from here\n",
    "\n",
    "\n",
    "## Preprocessing\n",
    "\n",
    "project_name.preprocess(microscopy_files, cropping_strategy)\n",
    "# microscopy_files: list of all microscopy image files that shall be preprocessed (this would allow step-by-step processing)\n",
    "# cropping_strategy: object of type CroppingStrategy that specifies which exact cropping strategy shall be used\n",
    "\n",
    "# infers:\n",
    "    # microscopy-image-file-loader from filetype (e.g. .czi file loader)\n",
    "    # whether it´s a z-stack\n",
    "    # whether it´s an RGB image\n",
    "# automatically updates the database accordingly\n",
    "\n",
    "\n",
    "## Image segmentation\n",
    "\n",
    "project_name.run_segmentations(files, SegmentationStrategy)\n",
    "# files: list of files that shall be segmented (in case of df2 make sure that all are used due to image statistics & cellpose diameter)\n",
    "# SegmentationStrategy: e.g. deepflash2_binary, deepflash2_instances, intellesis\n",
    "\n",
    "# launches the respective segmentations and saves all progress in the database object & all segmentations in the corresponding subdir\n",
    "\n",
    "\n",
    "## Quantifications\n",
    "\n",
    "project_name.run_quantifications(files, QuantificationStrategy)\n",
    "# files: list of files whose segmentations shall be used for quantification\n",
    "# QuantificationStrategy: e.g. 2D, 3D_grid_estimation, 3D_entire_volume (enable selection of more specific options / exclusion criteria)\n",
    "\n",
    "# Launches the respective quantifications and saves all progress in the database object & all quantification results in the results table"
   ]
  }
 ],
 "metadata": {
  "kernelspec": {
   "display_name": "Python 3 (ipykernel)",
   "language": "python",
   "name": "python3"
  },
  "language_info": {
   "codemirror_mode": {
    "name": "ipython",
    "version": 3
   },
   "file_extension": ".py",
   "mimetype": "text/x-python",
   "name": "python",
   "nbconvert_exporter": "python",
   "pygments_lexer": "ipython3",
   "version": "3.7.12"
  }
 },
 "nbformat": 4,
 "nbformat_minor": 5
}
