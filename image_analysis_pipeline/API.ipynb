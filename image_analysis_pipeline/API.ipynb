{
 "cells": [
  {
   "cell_type": "code",
   "execution_count": 1,
   "id": "8656b71c-1948-4519-afde-56473284b2ec",
   "metadata": {},
   "outputs": [],
   "source": [
    "from findmycells.main import Project\n",
    "from findmycells.preprocessing import CropStitchingArtefacts\n",
    "from findmycells.segmentation import Deepflash2BinaryAndInstanceSegmentationStrategy\n",
    "from findmycells.quantifications import ReconstructCellsIn3DFrom2DInstanceLabels, CountCellsInWholeStructure\n",
    "from findmycells.inspection import InspectReconstructedCellsBasedOnMultiMatchIDX"
   ]
  },
  {
   "cell_type": "code",
   "execution_count": 2,
   "id": "3a8304aa-a96c-43ac-bbbc-e43085b15ee3",
   "metadata": {},
   "outputs": [],
   "source": [
    "project_root_dir = '/mnt/c/Users/dsege/TEMP/test_project2/'"
   ]
  },
  {
   "cell_type": "markdown",
   "id": "1f231c14-4aaf-4368-8740-c5c8bc57c4e5",
   "metadata": {},
   "source": [
    "### Option A: start a new project"
   ]
  },
  {
   "cell_type": "code",
   "execution_count": 3,
   "id": "223351a7-3aad-4b59-b954-3d4bbd63027d",
   "metadata": {},
   "outputs": [],
   "source": [
    "user_input_via_gui = {'project_root_dir': project_root_dir,\n",
    "                      'preprocessing_configs': {0: {'method_category': None,\n",
    "                                                    'method_specifier': None,\n",
    "                                                    'additional_settings': dict(),\n",
    "                                                    'ProcessingMethod': CropStitchingArtefacts(),\n",
    "                                                    'ProcessingStrategy': None}\n",
    "                                               },\n",
    "                     'segmentation_strategy': Deepflash2BinaryAndInstanceSegmentationStrategy(),\n",
    "                     'quantification_configs': {'segmentations_to_use': 'instance', # or 'binary'\n",
    "                                                'quantification_preprocessing_strategies': [ReconstructCellsIn3DFrom2DInstanceLabels()],\n",
    "                                                'quantification_strategy': CountCellsInWholeStructure(),\n",
    "                                                'additional_settings': {'min_roi_size': 400,\n",
    "                                                                        'min_z_extension': 2}},\n",
    "                     'low_memory': True}"
   ]
  },
  {
   "cell_type": "code",
   "execution_count": 4,
   "id": "4c18db12-8385-48d0-97ae-57d2b873823e",
   "metadata": {},
   "outputs": [],
   "source": [
    "test_project = Project(user_input_via_gui)"
   ]
  },
  {
   "cell_type": "markdown",
   "id": "c6367cc3-093d-4641-b07d-5e7bbe36482b",
   "metadata": {},
   "source": [
    "### Option b: load status from an existing project:"
   ]
  },
  {
   "cell_type": "code",
   "execution_count": 5,
   "id": "3564e61f-02ce-4c4f-ace8-12a85e8ba837",
   "metadata": {},
   "outputs": [],
   "source": [
    "#test_project = Project({'project_root_dir': project_root_dir})"
   ]
  },
  {
   "cell_type": "code",
   "execution_count": 5,
   "id": "b736433b-6456-47f6-a973-0964783b3814",
   "metadata": {},
   "outputs": [],
   "source": [
    "test_project.load_status()"
   ]
  },
  {
   "cell_type": "code",
   "execution_count": 6,
   "id": "9b571083-d39c-4e08-af8c-8874783a7caf",
   "metadata": {},
   "outputs": [
    {
     "data": {
      "text/plain": [
       "[True, True, True, True]"
      ]
     },
     "execution_count": 6,
     "metadata": {},
     "output_type": "execute_result"
    }
   ],
   "source": [
    "test_project.database.file_infos['quantification_completed']"
   ]
  },
  {
   "cell_type": "code",
   "execution_count": 9,
   "id": "28e6c7f7-1277-41a3-af62-065617b129ab",
   "metadata": {},
   "outputs": [],
   "source": [
    "test_project.run_quantificatons()"
   ]
  },
  {
   "cell_type": "code",
   "execution_count": 7,
   "id": "7eeab319-53be-4828-94a9-f112f048c234",
   "metadata": {},
   "outputs": [
    {
     "data": {
      "text/plain": [
       "{'0000': {'000': {'inclusion_criteria_position': ['within', 'intersects'],\n",
       "   'inclusion_criteria_min_z_extension': 2,\n",
       "   'number_connected_components': 81}},\n",
       " '0001': {'000': {'inclusion_criteria_position': ['within', 'intersects'],\n",
       "   'inclusion_criteria_min_z_extension': 2,\n",
       "   'number_connected_components': 19}},\n",
       " '0002': {'000': {'inclusion_criteria_position': ['within', 'intersects'],\n",
       "   'inclusion_criteria_min_z_extension': 2,\n",
       "   'number_connected_components': 77}},\n",
       " '0003': {'000': {'inclusion_criteria_position': ['within', 'intersects'],\n",
       "   'inclusion_criteria_min_z_extension': 2,\n",
       "   'number_connected_components': 131}}}"
      ]
     },
     "execution_count": 7,
     "metadata": {},
     "output_type": "execute_result"
    }
   ],
   "source": [
    "test_project.database.quantification_results"
   ]
  },
  {
   "cell_type": "code",
   "execution_count": null,
   "id": "9a5079ad-987b-496b-808c-b121be1ffb93",
   "metadata": {},
   "outputs": [],
   "source": [
    "test_project.run_inspection('0003', InspectReconstructedCellsBasedOnMultiMatchIDX(0, save=True, show=True))"
   ]
  },
  {
   "cell_type": "code",
   "execution_count": 16,
   "id": "d7a326fd-568d-41eb-95f1-c7ac43920024",
   "metadata": {},
   "outputs": [],
   "source": [
    "test_project.save_status()"
   ]
  },
  {
   "cell_type": "markdown",
   "id": "fff7d861-bee1-4120-9563-fe791d72b75b",
   "metadata": {},
   "source": [
    "# This is where we want to go:"
   ]
  },
  {
   "cell_type": "code",
   "execution_count": null,
   "id": "98bd20fb-f258-449e-bfb7-747ae1e3dbd2",
   "metadata": {},
   "outputs": [],
   "source": [
    "## Initialize the project\n",
    "\n",
    "project_name = Project(project_root_dir)\n",
    "# project_root_dir: path of project root directory\n",
    "\n",
    "project_name.initialize_database()\n",
    "# creates the database object and sets-up everything (main subdirs, file infos, ..)\n",
    "# as alternative, see: load_status()\n",
    "\n",
    "project_name.save_current_status()\n",
    "# saves current progress status to disk (basically the database.file_infos as pickle file? - what about shapely polygons that might have been loaded?)\n",
    "\n",
    "\n",
    "project_name.load_status()\n",
    "# Alternative to initialize_database()\n",
    "# loads the corresponding information from disk and allows the user to continue from here\n",
    "\n",
    "\n",
    "## Preprocessing\n",
    "\n",
    "project_name.preprocess(microscopy_files, cropping_strategy)\n",
    "# microscopy_files: list of all microscopy image files that shall be preprocessed (this would allow step-by-step processing)\n",
    "# cropping_strategy: object of type CroppingStrategy that specifies which exact cropping strategy shall be used\n",
    "\n",
    "# infers:\n",
    "    # microscopy-image-file-loader from filetype (e.g. .czi file loader)\n",
    "    # whether it´s a z-stack\n",
    "    # whether it´s an RGB image\n",
    "# automatically updates the database accordingly\n",
    "\n",
    "\n",
    "## Image segmentation\n",
    "\n",
    "project_name.run_segmentations(files, SegmentationStrategy)\n",
    "# files: list of files that shall be segmented (in case of df2 make sure that all are used due to image statistics & cellpose diameter)\n",
    "# SegmentationStrategy: e.g. deepflash2_binary, deepflash2_instances, intellesis\n",
    "\n",
    "# launches the respective segmentations and saves all progress in the database object & all segmentations in the corresponding subdir\n",
    "\n",
    "\n",
    "## Quantifications\n",
    "\n",
    "project_name.run_quantifications(files, QuantificationStrategy)\n",
    "# files: list of files whose segmentations shall be used for quantification\n",
    "# QuantificationStrategy: e.g. 2D, 3D_grid_estimation, 3D_entire_volume (enable selection of more specific options / exclusion criteria)\n",
    "\n",
    "# Launches the respective quantifications and saves all progress in the database object & all quantification results in the results table"
   ]
  }
 ],
 "metadata": {
  "kernelspec": {
   "display_name": "Python 3 (ipykernel)",
   "language": "python",
   "name": "python3"
  },
  "language_info": {
   "codemirror_mode": {
    "name": "ipython",
    "version": 3
   },
   "file_extension": ".py",
   "mimetype": "text/x-python",
   "name": "python",
   "nbconvert_exporter": "python",
   "pygments_lexer": "ipython3",
   "version": "3.7.12"
  }
 },
 "nbformat": 4,
 "nbformat_minor": 5
}
