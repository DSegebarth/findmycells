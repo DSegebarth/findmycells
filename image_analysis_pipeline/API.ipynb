{
 "cells": [
  {
   "cell_type": "code",
   "execution_count": 1,
   "id": "8656b71c-1948-4519-afde-56473284b2ec",
   "metadata": {},
   "outputs": [],
   "source": [
    "from findmycells.main import Project\n",
    "from findmycells.preprocessing import CropStitchingArtefacts\n",
    "from findmycells.segmentation import Deepflash2BinaryAndInstanceSegmentationStrategy\n",
    "from findmycells.quantifications import ReconstructCellsIn3DFrom2DInstanceLabels, CountCellsInWholeStructure\n",
    "from findmycells.inspection import InspectReconstructedCellsBasedOnMultiMatchIDX"
   ]
  },
  {
   "cell_type": "code",
   "execution_count": 2,
   "id": "3a8304aa-a96c-43ac-bbbc-e43085b15ee3",
   "metadata": {},
   "outputs": [],
   "source": [
    "project_root_dir = '/mnt/c/Users/dsege/TEMP/test_project2/'"
   ]
  },
  {
   "cell_type": "markdown",
   "id": "adf0530e-a394-4efc-b836-68e0da31ed27",
   "metadata": {},
   "source": [
    "# Invite Sofie to Repository"
   ]
  },
  {
   "cell_type": "code",
   "execution_count": 1,
   "id": "72dc3dc1-7ce2-47f4-80e5-7c28df6863a2",
   "metadata": {},
   "outputs": [],
   "source": [
    "def print_something(a):\n",
    "    print(a)\n",
    "    "
   ]
  },
  {
   "cell_type": "code",
   "execution_count": 3,
   "id": "9375fbc7-11d4-41c9-82dd-f74ee26d6958",
   "metadata": {},
   "outputs": [],
   "source": [
    "def add_one(a):\n",
    "    a = a + 1\n",
    "    return a"
   ]
  },
  {
   "cell_type": "code",
   "execution_count": 5,
   "id": "ca181a74-a4f3-419b-b066-5db0d09bda78",
   "metadata": {},
   "outputs": [
    {
     "data": {
      "text/plain": [
       "6"
      ]
     },
     "execution_count": 5,
     "metadata": {},
     "output_type": "execute_result"
    }
   ],
   "source": [
    "add_one(a=5)"
   ]
  },
  {
   "cell_type": "code",
   "execution_count": 2,
   "id": "f78bec65-66c4-4938-b828-d8ada7866600",
   "metadata": {},
   "outputs": [
    {
     "name": "stdout",
     "output_type": "stream",
     "text": [
      "hallo\n"
     ]
    }
   ],
   "source": [
    "print_something(a='hallo')"
   ]
  },
  {
   "cell_type": "code",
   "execution_count": 43,
   "id": "7644ffb8-e524-4e5c-bbc9-c6f874c165a7",
   "metadata": {},
   "outputs": [],
   "source": [
    "from abc import ABC, abstractmethod\n",
    "\n",
    "class MathStrategy(ABC):\n",
    "    \n",
    "    @abstractmethod\n",
    "    def calculate(self, integer):\n",
    "        # do something\n",
    "        return integer"
   ]
  },
  {
   "cell_type": "code",
   "execution_count": 44,
   "id": "cfc1cf92-e5f1-45c2-b2e5-137f6b169548",
   "metadata": {},
   "outputs": [],
   "source": [
    "class AddOneStrategy(MathStrategy):\n",
    "    \n",
    "    def calculate(self, integer):\n",
    "        return integer + 1\n",
    "    \n",
    "    \n",
    "class SubstractOneStrategy(MathStrategy):\n",
    "    \n",
    "    def calculate(self, integer):\n",
    "        return integer - 1"
   ]
  },
  {
   "cell_type": "code",
   "execution_count": 47,
   "id": "4e33a658-3f0d-49d8-a2ae-ebd1d5813c4b",
   "metadata": {},
   "outputs": [],
   "source": [
    "class MultiplyByTwo(MathStrategy):\n",
    "    \n",
    "    def calculate(self, integer):\n",
    "        return integer * 2"
   ]
  },
  {
   "cell_type": "code",
   "execution_count": 60,
   "id": "8a7a8d5c-a2b8-4b25-81b3-f4927ee07109",
   "metadata": {},
   "outputs": [],
   "source": [
    "a_list = [1, 2]\n",
    "\n",
    "a_tuple = (1, 2)"
   ]
  },
  {
   "cell_type": "code",
   "execution_count": 63,
   "id": "fe3e8089-c2b5-450a-a2ae-265ea0ea0885",
   "metadata": {},
   "outputs": [],
   "source": [
    "a_list[1] = 4"
   ]
  },
  {
   "cell_type": "code",
   "execution_count": 68,
   "id": "9e0551b1-45b4-4958-ad6a-1c40dc39044b",
   "metadata": {},
   "outputs": [],
   "source": [
    "def return_two_things(a, b):\n",
    "    return a, b"
   ]
  },
  {
   "cell_type": "code",
   "execution_count": 69,
   "id": "d755f57f-a0e4-4f5a-af0f-5e50e2211191",
   "metadata": {},
   "outputs": [],
   "source": [
    "c = return_two_things(1, 3)"
   ]
  },
  {
   "cell_type": "code",
   "execution_count": 72,
   "id": "9ae74a02-6f0b-42a5-a0ad-db2b8034a4d5",
   "metadata": {},
   "outputs": [
    {
     "data": {
      "text/plain": [
       "[1, 3]"
      ]
     },
     "execution_count": 72,
     "metadata": {},
     "output_type": "execute_result"
    }
   ],
   "source": [
    "list(c)"
   ]
  },
  {
   "cell_type": "code",
   "execution_count": 67,
   "id": "50bf571c-6570-4ba5-a1d8-0404065abd2f",
   "metadata": {},
   "outputs": [
    {
     "data": {
      "text/plain": [
       "1"
      ]
     },
     "execution_count": 67,
     "metadata": {},
     "output_type": "execute_result"
    }
   ],
   "source": [
    "a_tuple[0]"
   ]
  },
  {
   "cell_type": "code",
   "execution_count": 50,
   "id": "327d9fec-af71-4484-a437-44d236751435",
   "metadata": {},
   "outputs": [
    {
     "data": {
      "text/plain": [
       "4"
      ]
     },
     "execution_count": 50,
     "metadata": {},
     "output_type": "execute_result"
    }
   ],
   "source": [
    "calculator.calculate(2)"
   ]
  },
  {
   "cell_type": "code",
   "execution_count": null,
   "id": "ff4dd1d9-7877-488f-ad61-08bb15a3d624",
   "metadata": {},
   "outputs": [],
   "source": []
  },
  {
   "cell_type": "code",
   "execution_count": 49,
   "id": "1cee6e51-9b7c-43df-8af3-796d6c88a9e1",
   "metadata": {},
   "outputs": [],
   "source": [
    "calculator = MultiplyByTwo()"
   ]
  },
  {
   "cell_type": "code",
   "execution_count": null,
   "id": "4ffa166f-2df3-42c7-86a5-f5a3d646da51",
   "metadata": {},
   "outputs": [],
   "source": []
  },
  {
   "cell_type": "code",
   "execution_count": 31,
   "id": "8054327e-bbcc-4fb1-8ac8-eef186bf2402",
   "metadata": {},
   "outputs": [],
   "source": [
    "calculator = AddOneStrategy()"
   ]
  },
  {
   "cell_type": "code",
   "execution_count": 33,
   "id": "d362522a-920c-4d59-91c7-aef6d01e3e3b",
   "metadata": {},
   "outputs": [
    {
     "data": {
      "text/plain": [
       "2"
      ]
     },
     "execution_count": 33,
     "metadata": {},
     "output_type": "execute_result"
    }
   ],
   "source": [
    "calculator.calculate(1)"
   ]
  },
  {
   "cell_type": "code",
   "execution_count": 34,
   "id": "1aeb5b1f-b93b-47b3-ba0b-e7f9d62445b4",
   "metadata": {},
   "outputs": [],
   "source": [
    "calculator2 = SubstractOneStrategy()"
   ]
  },
  {
   "cell_type": "code",
   "execution_count": 35,
   "id": "a4d99d04-3ecb-430f-965a-88e320e10116",
   "metadata": {},
   "outputs": [
    {
     "data": {
      "text/plain": [
       "0"
      ]
     },
     "execution_count": 35,
     "metadata": {},
     "output_type": "execute_result"
    }
   ],
   "source": [
    "calculator2.calculate(1)"
   ]
  },
  {
   "cell_type": "code",
   "execution_count": 51,
   "id": "1af0e7dc-3b3d-4c31-97e2-973ad75c50c6",
   "metadata": {},
   "outputs": [],
   "source": [
    "class Animal:\n",
    "    \n",
    "    def __init__(self, species: str, age_in_years: int):\n",
    "        self.species = species\n",
    "        self.age = age_in_years\n",
    "        \n",
    "    def get_older(self):\n",
    "        self.age = self.age + 1\n",
    "        \n",
    "    def add_one(self, a: int) -> int:\n",
    "        a = a + 1\n",
    "        return a"
   ]
  },
  {
   "cell_type": "code",
   "execution_count": 53,
   "id": "900c8cf0-d309-46e9-92fb-b03cece01e4f",
   "metadata": {},
   "outputs": [],
   "source": [
    "cat = Animal(9, 8)\n"
   ]
  },
  {
   "cell_type": "code",
   "execution_count": 55,
   "id": "78cbd3e3-bc25-4a9a-b9a4-d2daf919d560",
   "metadata": {},
   "outputs": [
    {
     "data": {
      "text/plain": [
       "int"
      ]
     },
     "execution_count": 55,
     "metadata": {},
     "output_type": "execute_result"
    }
   ],
   "source": [
    "type(cat.species)"
   ]
  },
  {
   "cell_type": "code",
   "execution_count": 36,
   "id": "c41b70e4-9cd2-44f5-a47f-e287421c0019",
   "metadata": {},
   "outputs": [],
   "source": [
    "class Dog(Animal):\n",
    "    \n",
    "    def do_your_sound(self):\n",
    "        print('bark')"
   ]
  },
  {
   "cell_type": "code",
   "execution_count": 38,
   "id": "925398ed-604e-46f2-ab53-18efa11b48d0",
   "metadata": {},
   "outputs": [],
   "source": [
    "bello = Dog(species='dog', age_in_years=3)"
   ]
  },
  {
   "cell_type": "code",
   "execution_count": 40,
   "id": "a9a3ce3e-94f6-4e5a-b98a-89a6f5feedf4",
   "metadata": {},
   "outputs": [],
   "source": [
    "bello.get_older()"
   ]
  },
  {
   "cell_type": "code",
   "execution_count": 41,
   "id": "becc73fc-32f3-4828-87d7-ac6915a4a6eb",
   "metadata": {},
   "outputs": [
    {
     "data": {
      "text/plain": [
       "4"
      ]
     },
     "execution_count": 41,
     "metadata": {},
     "output_type": "execute_result"
    }
   ],
   "source": [
    "bello.age"
   ]
  },
  {
   "cell_type": "code",
   "execution_count": 42,
   "id": "0a900f68-0013-4365-a722-2f297b31be4c",
   "metadata": {},
   "outputs": [
    {
     "name": "stdout",
     "output_type": "stream",
     "text": [
      "bark\n"
     ]
    }
   ],
   "source": [
    "bello.do_your_sound()"
   ]
  },
  {
   "cell_type": "code",
   "execution_count": 25,
   "id": "c09feea9-c956-4ffa-8962-db0c38055acd",
   "metadata": {},
   "outputs": [],
   "source": [
    "dog = Animal(species = 'dog', age_in_years = 7)"
   ]
  },
  {
   "cell_type": "code",
   "execution_count": 26,
   "id": "576740ad-4514-44cb-9064-2ab1817d5888",
   "metadata": {},
   "outputs": [
    {
     "data": {
      "text/plain": [
       "7"
      ]
     },
     "execution_count": 26,
     "metadata": {},
     "output_type": "execute_result"
    }
   ],
   "source": [
    "dog.age"
   ]
  },
  {
   "cell_type": "code",
   "execution_count": 27,
   "id": "54dcd899-4e6a-41c3-9846-0eb7cb6a2a1c",
   "metadata": {},
   "outputs": [],
   "source": [
    "dog.get_older()"
   ]
  },
  {
   "cell_type": "code",
   "execution_count": 28,
   "id": "bea20210-dc54-459b-875e-6c96e5f561d6",
   "metadata": {},
   "outputs": [
    {
     "data": {
      "text/plain": [
       "8"
      ]
     },
     "execution_count": 28,
     "metadata": {},
     "output_type": "execute_result"
    }
   ],
   "source": [
    "dog.age"
   ]
  },
  {
   "cell_type": "code",
   "execution_count": 29,
   "id": "86a2e3c1-68a8-474d-b47d-9fcbcc0325d7",
   "metadata": {},
   "outputs": [
    {
     "data": {
      "text/plain": [
       "6"
      ]
     },
     "execution_count": 29,
     "metadata": {},
     "output_type": "execute_result"
    }
   ],
   "source": [
    "dog.add_one(a=5)"
   ]
  },
  {
   "cell_type": "code",
   "execution_count": 23,
   "id": "6c2edc49-144c-4664-ba89-cb97d2a627a4",
   "metadata": {},
   "outputs": [
    {
     "ename": "TypeError",
     "evalue": "get_younger() takes 0 positional arguments but 1 was given",
     "output_type": "error",
     "traceback": [
      "\u001b[0;31m---------------------------------------------------------------------------\u001b[0m",
      "\u001b[0;31mTypeError\u001b[0m                                 Traceback (most recent call last)",
      "\u001b[0;32m/tmp/ipykernel_949/4293983305.py\u001b[0m in \u001b[0;36m<module>\u001b[0;34m\u001b[0m\n\u001b[0;32m----> 1\u001b[0;31m \u001b[0mdog\u001b[0m\u001b[0;34m.\u001b[0m\u001b[0mget_younger\u001b[0m\u001b[0;34m(\u001b[0m\u001b[0;34m)\u001b[0m\u001b[0;34m\u001b[0m\u001b[0;34m\u001b[0m\u001b[0m\n\u001b[0m",
      "\u001b[0;31mTypeError\u001b[0m: get_younger() takes 0 positional arguments but 1 was given"
     ]
    }
   ],
   "source": [
    "dog.get_younger()"
   ]
  },
  {
   "cell_type": "markdown",
   "id": "1f231c14-4aaf-4368-8740-c5c8bc57c4e5",
   "metadata": {},
   "source": [
    "### Option A: start a new project"
   ]
  },
  {
   "cell_type": "code",
   "execution_count": 3,
   "id": "223351a7-3aad-4b59-b954-3d4bbd63027d",
   "metadata": {},
   "outputs": [],
   "source": [
    "user_input_via_gui = {'project_root_dir': project_root_dir,\n",
    "                      'preprocessing_configs': {0: {'method_category': None,\n",
    "                                                    'method_specifier': None,\n",
    "                                                    'additional_settings': dict(),\n",
    "                                                    'ProcessingMethod': CropStitchingArtefacts(),\n",
    "                                                    'ProcessingStrategy': None}\n",
    "                                               },\n",
    "                     'segmentation_strategy': Deepflash2BinaryAndInstanceSegmentationStrategy(),\n",
    "                     'quantification_configs': {'segmentations_to_use': 'instance', # or 'binary'\n",
    "                                                'quantification_preprocessing_strategies': [ReconstructCellsIn3DFrom2DInstanceLabels()],\n",
    "                                                'quantification_strategy': CountCellsInWholeStructure(),\n",
    "                                                'additional_settings': {'min_roi_size': 400,\n",
    "                                                                        'min_z_extension': 2}},\n",
    "                     'low_memory': True}"
   ]
  },
  {
   "cell_type": "code",
   "execution_count": 4,
   "id": "4c18db12-8385-48d0-97ae-57d2b873823e",
   "metadata": {},
   "outputs": [],
   "source": [
    "test_project = Project(user_input_via_gui)"
   ]
  },
  {
   "cell_type": "markdown",
   "id": "c6367cc3-093d-4641-b07d-5e7bbe36482b",
   "metadata": {},
   "source": [
    "### Option b: load status from an existing project:"
   ]
  },
  {
   "cell_type": "code",
   "execution_count": 5,
   "id": "3564e61f-02ce-4c4f-ace8-12a85e8ba837",
   "metadata": {},
   "outputs": [],
   "source": [
    "#test_project = Project({'project_root_dir': project_root_dir})"
   ]
  },
  {
   "cell_type": "code",
   "execution_count": 5,
   "id": "b736433b-6456-47f6-a973-0964783b3814",
   "metadata": {},
   "outputs": [],
   "source": [
    "test_project.load_status()"
   ]
  },
  {
   "cell_type": "code",
   "execution_count": 6,
   "id": "9b571083-d39c-4e08-af8c-8874783a7caf",
   "metadata": {},
   "outputs": [
    {
     "data": {
      "text/plain": [
       "[True, True, True, True]"
      ]
     },
     "execution_count": 6,
     "metadata": {},
     "output_type": "execute_result"
    }
   ],
   "source": [
    "test_project.database.file_infos['quantification_completed']"
   ]
  },
  {
   "cell_type": "code",
   "execution_count": 9,
   "id": "28e6c7f7-1277-41a3-af62-065617b129ab",
   "metadata": {},
   "outputs": [],
   "source": [
    "test_project.run_quantificatons()"
   ]
  },
  {
   "cell_type": "code",
   "execution_count": 7,
   "id": "7eeab319-53be-4828-94a9-f112f048c234",
   "metadata": {},
   "outputs": [
    {
     "data": {
      "text/plain": [
       "{'0000': {'000': {'inclusion_criteria_position': ['within', 'intersects'],\n",
       "   'inclusion_criteria_min_z_extension': 2,\n",
       "   'number_connected_components': 81}},\n",
       " '0001': {'000': {'inclusion_criteria_position': ['within', 'intersects'],\n",
       "   'inclusion_criteria_min_z_extension': 2,\n",
       "   'number_connected_components': 19}},\n",
       " '0002': {'000': {'inclusion_criteria_position': ['within', 'intersects'],\n",
       "   'inclusion_criteria_min_z_extension': 2,\n",
       "   'number_connected_components': 77}},\n",
       " '0003': {'000': {'inclusion_criteria_position': ['within', 'intersects'],\n",
       "   'inclusion_criteria_min_z_extension': 2,\n",
       "   'number_connected_components': 131}}}"
      ]
     },
     "execution_count": 7,
     "metadata": {},
     "output_type": "execute_result"
    }
   ],
   "source": [
    "test_project.database.quantification_results"
   ]
  },
  {
   "cell_type": "code",
   "execution_count": 14,
   "id": "da42e44d-c0da-444a-bab1-578f6b3dd9c5",
   "metadata": {},
   "outputs": [
    {
     "data": {
      "text/plain": [
       "26"
      ]
     },
     "execution_count": 14,
     "metadata": {},
     "output_type": "execute_result"
    }
   ],
   "source": [
    "test_project.database.multi_matches_traceback['0000']['original_instance_label_id'][22]"
   ]
  },
  {
   "cell_type": "code",
   "execution_count": null,
   "id": "ca138ab7-b126-446a-9206-d20892f220b6",
   "metadata": {},
   "outputs": [],
   "source": [
    "test_project.run_inspection('0000', InspectReconstructedCellsBasedOnMultiMatchIDX(22, save=True, show=True))"
   ]
  },
  {
   "cell_type": "code",
   "execution_count": 16,
   "id": "d7a326fd-568d-41eb-95f1-c7ac43920024",
   "metadata": {},
   "outputs": [],
   "source": [
    "test_project.save_status()"
   ]
  },
  {
   "cell_type": "markdown",
   "id": "fff7d861-bee1-4120-9563-fe791d72b75b",
   "metadata": {},
   "source": [
    "# This is where we want to go:"
   ]
  },
  {
   "cell_type": "code",
   "execution_count": null,
   "id": "98bd20fb-f258-449e-bfb7-747ae1e3dbd2",
   "metadata": {},
   "outputs": [],
   "source": [
    "## Initialize the project\n",
    "\n",
    "project_name = Project(project_root_dir)\n",
    "# project_root_dir: path of project root directory\n",
    "\n",
    "project_name.initialize_database()\n",
    "# creates the database object and sets-up everything (main subdirs, file infos, ..)\n",
    "# as alternative, see: load_status()\n",
    "\n",
    "project_name.save_current_status()\n",
    "# saves current progress status to disk (basically the database.file_infos as pickle file? - what about shapely polygons that might have been loaded?)\n",
    "\n",
    "\n",
    "project_name.load_status()\n",
    "# Alternative to initialize_database()\n",
    "# loads the corresponding information from disk and allows the user to continue from here\n",
    "\n",
    "\n",
    "## Preprocessing\n",
    "\n",
    "project_name.preprocess(microscopy_files, cropping_strategy)\n",
    "# microscopy_files: list of all microscopy image files that shall be preprocessed (this would allow step-by-step processing)\n",
    "# cropping_strategy: object of type CroppingStrategy that specifies which exact cropping strategy shall be used\n",
    "\n",
    "# infers:\n",
    "    # microscopy-image-file-loader from filetype (e.g. .czi file loader)\n",
    "    # whether it´s a z-stack\n",
    "    # whether it´s an RGB image\n",
    "# automatically updates the database accordingly\n",
    "\n",
    "\n",
    "## Image segmentation\n",
    "\n",
    "project_name.run_segmentations(files, SegmentationStrategy)\n",
    "# files: list of files that shall be segmented (in case of df2 make sure that all are used due to image statistics & cellpose diameter)\n",
    "# SegmentationStrategy: e.g. deepflash2_binary, deepflash2_instances, intellesis\n",
    "\n",
    "# launches the respective segmentations and saves all progress in the database object & all segmentations in the corresponding subdir\n",
    "\n",
    "\n",
    "## Quantifications\n",
    "\n",
    "project_name.run_quantifications(files, QuantificationStrategy)\n",
    "# files: list of files whose segmentations shall be used for quantification\n",
    "# QuantificationStrategy: e.g. 2D, 3D_grid_estimation, 3D_entire_volume (enable selection of more specific options / exclusion criteria)\n",
    "\n",
    "# Launches the respective quantifications and saves all progress in the database object & all quantification results in the results table"
   ]
  }
 ],
 "metadata": {
  "kernelspec": {
   "display_name": "Python 3 (ipykernel)",
   "language": "python",
   "name": "python3"
  },
  "language_info": {
   "codemirror_mode": {
    "name": "ipython",
    "version": 3
   },
   "file_extension": ".py",
   "mimetype": "text/x-python",
   "name": "python",
   "nbconvert_exporter": "python",
   "pygments_lexer": "ipython3",
   "version": "3.7.12"
  }
 },
 "nbformat": 4,
 "nbformat_minor": 5
}
