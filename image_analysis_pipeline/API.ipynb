{
 "cells": [
  {
   "cell_type": "code",
   "execution_count": 1,
   "id": "8656b71c-1948-4519-afde-56473284b2ec",
   "metadata": {},
   "outputs": [],
   "source": [
    "from findmycells.main import Project\n",
    "from findmycells.preprocessing import CropStitchingArtefacts\n",
    "from findmycells.segmentation import Deepflash2BinaryAndInstanceSegmentationStrategy"
   ]
  },
  {
   "cell_type": "code",
   "execution_count": 2,
   "id": "3a8304aa-a96c-43ac-bbbc-e43085b15ee3",
   "metadata": {},
   "outputs": [],
   "source": [
    "project_root_dir = '/mnt/c/Users/dsege/TEMP/test_project2/'"
   ]
  },
  {
   "cell_type": "markdown",
   "id": "1f231c14-4aaf-4368-8740-c5c8bc57c4e5",
   "metadata": {},
   "source": [
    "### Option A: start a new project"
   ]
  },
  {
   "cell_type": "code",
   "execution_count": 8,
   "id": "223351a7-3aad-4b59-b954-3d4bbd63027d",
   "metadata": {},
   "outputs": [],
   "source": [
    "user_input_via_gui = {'project_root_dir': project_root_dir,\n",
    "                      'preprocessing_configs': {0: {'method_category': None,\n",
    "                                                    'method_specifier': None,\n",
    "                                                    'additional_settings': dict(),\n",
    "                                                    'ProcessingMethod': CropStitchingArtefacts(),\n",
    "                                                    'ProcessingStrategy': None}\n",
    "                                               },\n",
    "                     'segmentation_strategy': Deepflash2BinaryAndInstanceSegmentationStrategy(),\n",
    "                     'low_memory': True}"
   ]
  },
  {
   "cell_type": "code",
   "execution_count": 9,
   "id": "4c18db12-8385-48d0-97ae-57d2b873823e",
   "metadata": {},
   "outputs": [],
   "source": [
    "test_project = Project(user_input_via_gui)"
   ]
  },
  {
   "cell_type": "code",
   "execution_count": 10,
   "id": "b724ab47-2ab7-4ad1-8ca2-ae3d4de5d197",
   "metadata": {},
   "outputs": [
    {
     "name": "stdout",
     "output_type": "stream",
     "text": [
      "done with plane 000\n",
      "done with plane 001\n",
      "done with plane 002\n",
      "done with plane 003\n",
      "done with plane 004\n",
      "done with plane 005\n",
      "done with plane 006\n",
      "done with plane 007\n",
      "done with plane 000\n",
      "done with plane 001\n",
      "done with plane 002\n",
      "done with plane 003\n",
      "done with plane 004\n",
      "done with plane 005\n",
      "done with plane 006\n",
      "done with plane 007\n",
      "done with plane 000\n",
      "done with plane 001\n",
      "done with plane 002\n",
      "done with plane 003\n",
      "done with plane 004\n",
      "done with plane 005\n",
      "done with plane 006\n",
      "done with plane 007\n",
      "done with plane 000\n",
      "done with plane 001\n",
      "done with plane 002\n",
      "done with plane 003\n",
      "done with plane 004\n",
      "done with plane 005\n",
      "done with plane 006\n",
      "done with plane 007\n",
      "done with plane 008\n"
     ]
    }
   ],
   "source": [
    "test_project.preprocess()"
   ]
  },
  {
   "cell_type": "code",
   "execution_count": 11,
   "id": "a732cb6a-de7f-493e-88d8-549a8d7b84fd",
   "metadata": {},
   "outputs": [],
   "source": [
    "test_project.save_status()"
   ]
  },
  {
   "cell_type": "code",
   "execution_count": 12,
   "id": "81de2cd4-441a-40ff-b962-ba01e93a113c",
   "metadata": {},
   "outputs": [
    {
     "name": "stdout",
     "output_type": "stream",
     "text": [
      "Found 3 models in folder /mnt/c/Users/dsege/TEMP/test_project2/03_deepflash2/trained_models\n",
      "['Unet_resnet34_2classes-fold1.pth', 'Unet_resnet34_2classes-fold3.pth', 'Unet_resnet34_2classes-fold5.pth']\n",
      "Computing Stats...\n",
      "Found 3 models in folder /mnt/c/Users/dsege/TEMP/test_project2/03_deepflash2/trained_models\n",
      "['Unet_resnet34_2classes-fold1.pth', 'Unet_resnet34_2classes-fold3.pth', 'Unet_resnet34_2classes-fold5.pth']\n"
     ]
    },
    {
     "data": {
      "text/html": [],
      "text/plain": [
       "<IPython.core.display.HTML object>"
      ]
     },
     "metadata": {},
     "output_type": "display_data"
    },
    {
     "name": "stdout",
     "output_type": "stream",
     "text": [
      "Predicting 0000-000.png\n"
     ]
    },
    {
     "data": {
      "text/html": [],
      "text/plain": [
       "<IPython.core.display.HTML object>"
      ]
     },
     "metadata": {},
     "output_type": "display_data"
    },
    {
     "name": "stdout",
     "output_type": "stream",
     "text": [
      "Predicting 0000-001.png\n"
     ]
    },
    {
     "data": {
      "text/html": [],
      "text/plain": [
       "<IPython.core.display.HTML object>"
      ]
     },
     "metadata": {},
     "output_type": "display_data"
    },
    {
     "name": "stdout",
     "output_type": "stream",
     "text": [
      "Predicting 0000-002.png\n"
     ]
    },
    {
     "data": {
      "text/html": [],
      "text/plain": [
       "<IPython.core.display.HTML object>"
      ]
     },
     "metadata": {},
     "output_type": "display_data"
    },
    {
     "name": "stdout",
     "output_type": "stream",
     "text": [
      "Predicting 0000-003.png\n"
     ]
    },
    {
     "data": {
      "text/html": [],
      "text/plain": [
       "<IPython.core.display.HTML object>"
      ]
     },
     "metadata": {},
     "output_type": "display_data"
    },
    {
     "name": "stdout",
     "output_type": "stream",
     "text": [
      "Predicting 0000-004.png\n"
     ]
    },
    {
     "data": {
      "text/html": [],
      "text/plain": [
       "<IPython.core.display.HTML object>"
      ]
     },
     "metadata": {},
     "output_type": "display_data"
    },
    {
     "name": "stdout",
     "output_type": "stream",
     "text": [
      "Predicting 0000-005.png\n"
     ]
    },
    {
     "data": {
      "text/html": [],
      "text/plain": [
       "<IPython.core.display.HTML object>"
      ]
     },
     "metadata": {},
     "output_type": "display_data"
    },
    {
     "name": "stdout",
     "output_type": "stream",
     "text": [
      "Predicting 0000-006.png\n"
     ]
    },
    {
     "data": {
      "text/html": [],
      "text/plain": [
       "<IPython.core.display.HTML object>"
      ]
     },
     "metadata": {},
     "output_type": "display_data"
    },
    {
     "name": "stdout",
     "output_type": "stream",
     "text": [
      "Predicting 0000-007.png\n"
     ]
    },
    {
     "data": {
      "text/html": [],
      "text/plain": [
       "<IPython.core.display.HTML object>"
      ]
     },
     "metadata": {},
     "output_type": "display_data"
    },
    {
     "name": "stdout",
     "output_type": "stream",
     "text": [
      "2022-01-03 14:07:10,133 [INFO] WRITING LOG OUTPUT TO /home/ds/.cellpose/run.log\n",
      "Found 3 models in folder /mnt/c/Users/dsege/TEMP/test_project2/03_deepflash2/trained_models\n",
      "['Unet_resnet34_2classes-fold1.pth', 'Unet_resnet34_2classes-fold3.pth', 'Unet_resnet34_2classes-fold5.pth']\n",
      "Using diameter of 51\n",
      "2022-01-03 14:07:22,060 [INFO] ** TORCH CUDA version installed and working. **\n",
      "2022-01-03 14:07:22,061 [INFO] >>>> using GPU\n",
      "2022-01-03 14:07:22,191 [INFO] ~~~ FINDING MASKS ~~~\n",
      "2022-01-03 14:08:06,481 [INFO] >>>> TOTAL TIME 44.29 sec\n",
      "Found 3 models in folder /mnt/c/Users/dsege/TEMP/test_project2/03_deepflash2/trained_models\n",
      "['Unet_resnet34_2classes-fold1.pth', 'Unet_resnet34_2classes-fold3.pth', 'Unet_resnet34_2classes-fold5.pth']\n",
      "Using diameter of 51\n",
      "2022-01-03 14:08:14,475 [INFO] ** TORCH CUDA version installed and working. **\n",
      "2022-01-03 14:08:14,475 [INFO] >>>> using GPU\n",
      "2022-01-03 14:08:14,607 [INFO] ~~~ FINDING MASKS ~~~\n",
      "2022-01-03 14:08:52,811 [INFO] >>>> TOTAL TIME 38.20 sec\n",
      "Found 3 models in folder /mnt/c/Users/dsege/TEMP/test_project2/03_deepflash2/trained_models\n",
      "['Unet_resnet34_2classes-fold1.pth', 'Unet_resnet34_2classes-fold3.pth', 'Unet_resnet34_2classes-fold5.pth']\n",
      "Using diameter of 51\n",
      "2022-01-03 14:09:01,039 [INFO] ** TORCH CUDA version installed and working. **\n",
      "2022-01-03 14:09:01,040 [INFO] >>>> using GPU\n",
      "2022-01-03 14:09:01,165 [INFO] ~~~ FINDING MASKS ~~~\n",
      "2022-01-03 14:09:40,034 [INFO] >>>> TOTAL TIME 38.87 sec\n",
      "Found 3 models in folder /mnt/c/Users/dsege/TEMP/test_project2/03_deepflash2/trained_models\n",
      "['Unet_resnet34_2classes-fold1.pth', 'Unet_resnet34_2classes-fold3.pth', 'Unet_resnet34_2classes-fold5.pth']\n",
      "Using diameter of 51\n",
      "2022-01-03 14:09:49,709 [INFO] ** TORCH CUDA version installed and working. **\n",
      "2022-01-03 14:09:49,709 [INFO] >>>> using GPU\n",
      "2022-01-03 14:09:49,847 [INFO] ~~~ FINDING MASKS ~~~\n",
      "2022-01-03 14:10:27,924 [INFO] >>>> TOTAL TIME 38.08 sec\n",
      "Found 3 models in folder /mnt/c/Users/dsege/TEMP/test_project2/03_deepflash2/trained_models\n",
      "['Unet_resnet34_2classes-fold1.pth', 'Unet_resnet34_2classes-fold3.pth', 'Unet_resnet34_2classes-fold5.pth']\n",
      "Using diameter of 51\n",
      "2022-01-03 14:10:37,866 [INFO] ** TORCH CUDA version installed and working. **\n",
      "2022-01-03 14:10:37,867 [INFO] >>>> using GPU\n",
      "2022-01-03 14:10:38,012 [INFO] ~~~ FINDING MASKS ~~~\n",
      "2022-01-03 14:11:15,801 [INFO] >>>> TOTAL TIME 37.79 sec\n",
      "Found 3 models in folder /mnt/c/Users/dsege/TEMP/test_project2/03_deepflash2/trained_models\n",
      "['Unet_resnet34_2classes-fold1.pth', 'Unet_resnet34_2classes-fold3.pth', 'Unet_resnet34_2classes-fold5.pth']\n",
      "Using diameter of 51\n",
      "2022-01-03 14:11:24,971 [INFO] ** TORCH CUDA version installed and working. **\n",
      "2022-01-03 14:11:24,972 [INFO] >>>> using GPU\n",
      "2022-01-03 14:11:25,053 [INFO] ~~~ FINDING MASKS ~~~\n",
      "2022-01-03 14:12:04,201 [INFO] >>>> TOTAL TIME 39.15 sec\n",
      "Found 3 models in folder /mnt/c/Users/dsege/TEMP/test_project2/03_deepflash2/trained_models\n",
      "['Unet_resnet34_2classes-fold1.pth', 'Unet_resnet34_2classes-fold3.pth', 'Unet_resnet34_2classes-fold5.pth']\n",
      "Using diameter of 51\n",
      "2022-01-03 14:12:13,902 [INFO] ** TORCH CUDA version installed and working. **\n",
      "2022-01-03 14:12:13,902 [INFO] >>>> using GPU\n",
      "2022-01-03 14:12:14,059 [INFO] ~~~ FINDING MASKS ~~~\n",
      "2022-01-03 14:12:51,692 [INFO] >>>> TOTAL TIME 37.63 sec\n",
      "Found 3 models in folder /mnt/c/Users/dsege/TEMP/test_project2/03_deepflash2/trained_models\n",
      "['Unet_resnet34_2classes-fold1.pth', 'Unet_resnet34_2classes-fold3.pth', 'Unet_resnet34_2classes-fold5.pth']\n",
      "Using diameter of 51\n",
      "2022-01-03 14:13:01,008 [INFO] ** TORCH CUDA version installed and working. **\n",
      "2022-01-03 14:13:01,009 [INFO] >>>> using GPU\n",
      "2022-01-03 14:13:01,141 [INFO] ~~~ FINDING MASKS ~~~\n",
      "2022-01-03 14:13:38,632 [INFO] >>>> TOTAL TIME 37.49 sec\n"
     ]
    }
   ],
   "source": [
    "file_ids = ['0000']\n",
    "test_project.run_segmentation(file_ids)"
   ]
  },
  {
   "cell_type": "code",
   "execution_count": 13,
   "id": "fc39d8be-7e2d-45df-bd4c-ce8d20363bf7",
   "metadata": {},
   "outputs": [],
   "source": [
    "test_project.save_status()"
   ]
  },
  {
   "cell_type": "code",
   "execution_count": 14,
   "id": "25ca9aa0-f7b1-451d-b5d0-c7a3e8406841",
   "metadata": {},
   "outputs": [
    {
     "data": {
      "text/plain": [
       "{'binary_segmented_files': [['0000-000.png',\n",
       "   '0000-001.png',\n",
       "   '0000-002.png',\n",
       "   '0000-003.png',\n",
       "   '0000-004.png',\n",
       "   '0000-005.png',\n",
       "   '0000-006.png',\n",
       "   '0000-007.png']],\n",
       " 'instance_segmented_files': ['0000-000.png',\n",
       "  '0000-001.png',\n",
       "  '0000-002.png',\n",
       "  '0000-003.png',\n",
       "  '0000-004.png',\n",
       "  '0000-005.png',\n",
       "  '0000-006.png',\n",
       "  '0000-007.png']}"
      ]
     },
     "execution_count": 14,
     "metadata": {},
     "output_type": "execute_result"
    }
   ],
   "source": [
    "test_project.database.segmented_file_lists"
   ]
  },
  {
   "cell_type": "markdown",
   "id": "1a4aa247-306b-4aa1-a313-9852e1fe442d",
   "metadata": {},
   "source": [
    "### Option B: load and continue an existing project"
   ]
  },
  {
   "cell_type": "code",
   "execution_count": 3,
   "id": "1eda0486-7a0b-4789-95de-c1c3818e14c2",
   "metadata": {},
   "outputs": [],
   "source": [
    "user_input_via_gui_load_from_configs = {'project_root_dir': project_root_dir}"
   ]
  },
  {
   "cell_type": "code",
   "execution_count": 4,
   "id": "f21e0248-c074-4af9-b5ea-1241b915a411",
   "metadata": {},
   "outputs": [],
   "source": [
    "test_project = Project(user_input_via_gui_load_from_configs)"
   ]
  },
  {
   "cell_type": "code",
   "execution_count": 5,
   "id": "46df69a4-052f-4a34-a1cd-4b5451f147d0",
   "metadata": {},
   "outputs": [],
   "source": [
    "test_project.load_status()"
   ]
  },
  {
   "cell_type": "code",
   "execution_count": 6,
   "id": "1da42e9a-3607-4ce9-864c-78dba1fd63e1",
   "metadata": {},
   "outputs": [],
   "source": [
    "file_ids = ['0001']\n",
    "test_project.preprocess(file_ids)"
   ]
  },
  {
   "cell_type": "code",
   "execution_count": 7,
   "id": "9bd4fa40-9d21-40c1-9cb7-cc3d63dfcd50",
   "metadata": {},
   "outputs": [
    {
     "data": {
      "text/plain": [
       "{'n_models': 3,\n",
       " 'ensemble_path': Path('/mnt/c/Users/dsege/TEMP/test_project2/03_deepflash2/trained_models'),\n",
       " 'stats': (array([0.37066153, 0.39342624, 0.42422427]),\n",
       "  array([0.10605087, 0.13208711, 0.17070068])),\n",
       " 'df_ens': None,\n",
       " 'cellpose_diameter_first_batch': 51,\n",
       " 'cellpose_diameters_all_batches': [51, 57, 55]}"
      ]
     },
     "execution_count": 7,
     "metadata": {},
     "output_type": "execute_result"
    }
   ],
   "source": [
    "test_project.database.deepflash2_configs"
   ]
  },
  {
   "cell_type": "code",
   "execution_count": 8,
   "id": "278a6f96-03aa-4c94-980d-aa51987dee85",
   "metadata": {},
   "outputs": [
    {
     "data": {
      "text/plain": [
       "{'binary_segmented_files': ['0000-000.png',\n",
       "  '0000-001.png',\n",
       "  '0000-002.png',\n",
       "  '0000-003.png',\n",
       "  '0000-004.png',\n",
       "  '0000-005.png',\n",
       "  '0000-006.png',\n",
       "  '0000-007.png',\n",
       "  '0001-000.png',\n",
       "  '0001-001.png',\n",
       "  '0001-002.png',\n",
       "  '0001-003.png',\n",
       "  '0001-004.png',\n",
       "  '0001-005.png',\n",
       "  '0001-006.png',\n",
       "  '0001-007.png',\n",
       "  '0002-000.png',\n",
       "  '0002-001.png',\n",
       "  '0002-002.png',\n",
       "  '0002-003.png',\n",
       "  '0002-004.png',\n",
       "  '0002-005.png',\n",
       "  '0002-006.png',\n",
       "  '0002-007.png'],\n",
       " 'instance_segmented_files': ['0000-000.png',\n",
       "  '0000-001.png',\n",
       "  '0000-002.png',\n",
       "  '0000-003.png',\n",
       "  '0000-004.png',\n",
       "  '0000-005.png',\n",
       "  '0000-006.png',\n",
       "  '0000-007.png',\n",
       "  '0001-000.png',\n",
       "  '0001-001.png',\n",
       "  '0001-002.png',\n",
       "  '0001-003.png',\n",
       "  '0001-004.png',\n",
       "  '0001-005.png',\n",
       "  '0001-006.png',\n",
       "  '0001-007.png',\n",
       "  '0002-000.png',\n",
       "  '0002-001.png',\n",
       "  '0002-002.png',\n",
       "  '0002-003.png',\n",
       "  '0002-004.png',\n",
       "  '0002-005.png',\n",
       "  '0002-006.png',\n",
       "  '0002-007.png']}"
      ]
     },
     "execution_count": 8,
     "metadata": {},
     "output_type": "execute_result"
    }
   ],
   "source": [
    "test_project.database.segmented_file_lists"
   ]
  },
  {
   "cell_type": "code",
   "execution_count": 9,
   "id": "a263fbd6-b4ee-41c4-be6b-4d2391f2d5e0",
   "metadata": {},
   "outputs": [
    {
     "data": {
      "text/plain": [
       "['0001']"
      ]
     },
     "execution_count": 9,
     "metadata": {},
     "output_type": "execute_result"
    }
   ],
   "source": [
    "file_ids"
   ]
  },
  {
   "cell_type": "code",
   "execution_count": 11,
   "id": "c50cc434-58ff-4acc-b54f-75a8ece090c7",
   "metadata": {},
   "outputs": [
    {
     "name": "stdout",
     "output_type": "stream",
     "text": [
      "Found 3 models in folder /mnt/c/Users/dsege/TEMP/test_project2/03_deepflash2/trained_models\n",
      "['Unet_resnet34_2classes-fold1.pth', 'Unet_resnet34_2classes-fold3.pth', 'Unet_resnet34_2classes-fold5.pth']\n"
     ]
    },
    {
     "data": {
      "text/html": [],
      "text/plain": [
       "<IPython.core.display.HTML object>"
      ]
     },
     "metadata": {},
     "output_type": "display_data"
    },
    {
     "name": "stdout",
     "output_type": "stream",
     "text": [
      "Predicting 0003-000.png\n"
     ]
    },
    {
     "data": {
      "text/html": [],
      "text/plain": [
       "<IPython.core.display.HTML object>"
      ]
     },
     "metadata": {},
     "output_type": "display_data"
    },
    {
     "name": "stdout",
     "output_type": "stream",
     "text": [
      "Predicting 0003-001.png\n"
     ]
    },
    {
     "data": {
      "text/html": [],
      "text/plain": [
       "<IPython.core.display.HTML object>"
      ]
     },
     "metadata": {},
     "output_type": "display_data"
    },
    {
     "name": "stdout",
     "output_type": "stream",
     "text": [
      "Predicting 0003-002.png\n"
     ]
    },
    {
     "data": {
      "text/html": [],
      "text/plain": [
       "<IPython.core.display.HTML object>"
      ]
     },
     "metadata": {},
     "output_type": "display_data"
    },
    {
     "name": "stdout",
     "output_type": "stream",
     "text": [
      "Predicting 0003-003.png\n"
     ]
    },
    {
     "data": {
      "text/html": [],
      "text/plain": [
       "<IPython.core.display.HTML object>"
      ]
     },
     "metadata": {},
     "output_type": "display_data"
    },
    {
     "name": "stdout",
     "output_type": "stream",
     "text": [
      "Predicting 0003-004.png\n"
     ]
    },
    {
     "data": {
      "text/html": [],
      "text/plain": [
       "<IPython.core.display.HTML object>"
      ]
     },
     "metadata": {},
     "output_type": "display_data"
    },
    {
     "name": "stdout",
     "output_type": "stream",
     "text": [
      "Predicting 0003-005.png\n"
     ]
    },
    {
     "data": {
      "text/html": [],
      "text/plain": [
       "<IPython.core.display.HTML object>"
      ]
     },
     "metadata": {},
     "output_type": "display_data"
    },
    {
     "name": "stdout",
     "output_type": "stream",
     "text": [
      "Predicting 0003-006.png\n"
     ]
    },
    {
     "data": {
      "text/html": [],
      "text/plain": [
       "<IPython.core.display.HTML object>"
      ]
     },
     "metadata": {},
     "output_type": "display_data"
    },
    {
     "name": "stdout",
     "output_type": "stream",
     "text": [
      "Predicting 0003-007.png\n"
     ]
    },
    {
     "data": {
      "text/html": [],
      "text/plain": [
       "<IPython.core.display.HTML object>"
      ]
     },
     "metadata": {},
     "output_type": "display_data"
    },
    {
     "name": "stdout",
     "output_type": "stream",
     "text": [
      "Predicting 0003-008.png\n"
     ]
    },
    {
     "data": {
      "text/html": [],
      "text/plain": [
       "<IPython.core.display.HTML object>"
      ]
     },
     "metadata": {},
     "output_type": "display_data"
    },
    {
     "name": "stdout",
     "output_type": "stream",
     "text": [
      "2022-01-03 17:50:33,253 [INFO] WRITING LOG OUTPUT TO /home/ds/.cellpose/run.log\n",
      "Found 3 models in folder /mnt/c/Users/dsege/TEMP/test_project2/03_deepflash2/trained_models\n",
      "['Unet_resnet34_2classes-fold1.pth', 'Unet_resnet34_2classes-fold3.pth', 'Unet_resnet34_2classes-fold5.pth']\n",
      "Using diameter of 51\n",
      "2022-01-03 17:50:45,343 [INFO] ** TORCH CUDA version installed and working. **\n",
      "2022-01-03 17:50:45,344 [INFO] >>>> using GPU\n",
      "2022-01-03 17:50:45,532 [INFO] ~~~ FINDING MASKS ~~~\n",
      "2022-01-03 17:51:40,043 [INFO] >>>> TOTAL TIME 54.51 sec\n",
      "Found 3 models in folder /mnt/c/Users/dsege/TEMP/test_project2/03_deepflash2/trained_models\n",
      "['Unet_resnet34_2classes-fold1.pth', 'Unet_resnet34_2classes-fold3.pth', 'Unet_resnet34_2classes-fold5.pth']\n",
      "Using diameter of 51\n",
      "2022-01-03 17:51:49,000 [INFO] ** TORCH CUDA version installed and working. **\n",
      "2022-01-03 17:51:49,001 [INFO] >>>> using GPU\n",
      "2022-01-03 17:51:49,138 [INFO] ~~~ FINDING MASKS ~~~\n",
      "2022-01-03 17:52:33,306 [INFO] >>>> TOTAL TIME 44.17 sec\n",
      "Found 3 models in folder /mnt/c/Users/dsege/TEMP/test_project2/03_deepflash2/trained_models\n",
      "['Unet_resnet34_2classes-fold1.pth', 'Unet_resnet34_2classes-fold3.pth', 'Unet_resnet34_2classes-fold5.pth']\n",
      "Using diameter of 51\n",
      "2022-01-03 17:52:41,469 [INFO] ** TORCH CUDA version installed and working. **\n",
      "2022-01-03 17:52:41,470 [INFO] >>>> using GPU\n",
      "2022-01-03 17:52:41,606 [INFO] ~~~ FINDING MASKS ~~~\n",
      "2022-01-03 17:53:28,049 [INFO] >>>> TOTAL TIME 46.44 sec\n",
      "Found 3 models in folder /mnt/c/Users/dsege/TEMP/test_project2/03_deepflash2/trained_models\n",
      "['Unet_resnet34_2classes-fold1.pth', 'Unet_resnet34_2classes-fold3.pth', 'Unet_resnet34_2classes-fold5.pth']\n",
      "Using diameter of 51\n",
      "2022-01-03 17:53:38,157 [INFO] ** TORCH CUDA version installed and working. **\n",
      "2022-01-03 17:53:38,158 [INFO] >>>> using GPU\n",
      "2022-01-03 17:53:38,301 [INFO] ~~~ FINDING MASKS ~~~\n",
      "2022-01-03 17:54:21,225 [INFO] >>>> TOTAL TIME 42.92 sec\n",
      "Found 3 models in folder /mnt/c/Users/dsege/TEMP/test_project2/03_deepflash2/trained_models\n",
      "['Unet_resnet34_2classes-fold1.pth', 'Unet_resnet34_2classes-fold3.pth', 'Unet_resnet34_2classes-fold5.pth']\n",
      "Using diameter of 51\n",
      "2022-01-03 17:54:30,481 [INFO] ** TORCH CUDA version installed and working. **\n",
      "2022-01-03 17:54:30,482 [INFO] >>>> using GPU\n",
      "2022-01-03 17:54:30,594 [INFO] ~~~ FINDING MASKS ~~~\n",
      "2022-01-03 17:55:13,757 [INFO] >>>> TOTAL TIME 43.16 sec\n",
      "Found 3 models in folder /mnt/c/Users/dsege/TEMP/test_project2/03_deepflash2/trained_models\n",
      "['Unet_resnet34_2classes-fold1.pth', 'Unet_resnet34_2classes-fold3.pth', 'Unet_resnet34_2classes-fold5.pth']\n",
      "Using diameter of 51\n",
      "2022-01-03 17:55:23,101 [INFO] ** TORCH CUDA version installed and working. **\n",
      "2022-01-03 17:55:23,101 [INFO] >>>> using GPU\n",
      "2022-01-03 17:55:23,227 [INFO] ~~~ FINDING MASKS ~~~\n",
      "2022-01-03 17:56:06,396 [INFO] >>>> TOTAL TIME 43.17 sec\n",
      "Found 3 models in folder /mnt/c/Users/dsege/TEMP/test_project2/03_deepflash2/trained_models\n",
      "['Unet_resnet34_2classes-fold1.pth', 'Unet_resnet34_2classes-fold3.pth', 'Unet_resnet34_2classes-fold5.pth']\n",
      "Using diameter of 51\n",
      "2022-01-03 17:56:15,706 [INFO] ** TORCH CUDA version installed and working. **\n",
      "2022-01-03 17:56:15,707 [INFO] >>>> using GPU\n",
      "2022-01-03 17:56:15,836 [INFO] ~~~ FINDING MASKS ~~~\n",
      "2022-01-03 17:56:58,925 [INFO] >>>> TOTAL TIME 43.09 sec\n",
      "Found 3 models in folder /mnt/c/Users/dsege/TEMP/test_project2/03_deepflash2/trained_models\n",
      "['Unet_resnet34_2classes-fold1.pth', 'Unet_resnet34_2classes-fold3.pth', 'Unet_resnet34_2classes-fold5.pth']\n",
      "Using diameter of 51\n",
      "2022-01-03 17:57:08,350 [INFO] ** TORCH CUDA version installed and working. **\n",
      "2022-01-03 17:57:08,350 [INFO] >>>> using GPU\n",
      "2022-01-03 17:57:08,483 [INFO] ~~~ FINDING MASKS ~~~\n",
      "2022-01-03 17:57:51,220 [INFO] >>>> TOTAL TIME 42.74 sec\n",
      "Found 3 models in folder /mnt/c/Users/dsege/TEMP/test_project2/03_deepflash2/trained_models\n",
      "['Unet_resnet34_2classes-fold1.pth', 'Unet_resnet34_2classes-fold3.pth', 'Unet_resnet34_2classes-fold5.pth']\n",
      "Using diameter of 51\n",
      "2022-01-03 17:58:00,743 [INFO] ** TORCH CUDA version installed and working. **\n",
      "2022-01-03 17:58:00,743 [INFO] >>>> using GPU\n",
      "2022-01-03 17:58:00,862 [INFO] ~~~ FINDING MASKS ~~~\n",
      "2022-01-03 17:58:42,168 [INFO] >>>> TOTAL TIME 41.31 sec\n"
     ]
    }
   ],
   "source": [
    "test_project.run_segmentation()"
   ]
  },
  {
   "cell_type": "code",
   "execution_count": 12,
   "id": "7477293b-0a21-4717-bc71-c09dd8114912",
   "metadata": {},
   "outputs": [],
   "source": [
    "test_project.save_status()"
   ]
  },
  {
   "cell_type": "markdown",
   "id": "a6731ff1-a9be-450b-8b0c-0b818ff6a6d6",
   "metadata": {},
   "source": [
    "### Option C: Final test:"
   ]
  },
  {
   "cell_type": "code",
   "execution_count": null,
   "id": "6e04fce3-f652-427f-b8a8-c354b884750a",
   "metadata": {},
   "outputs": [],
   "source": [
    "user_input_via_gui_load_from_configs = {'project_root_dir': project_root_dir}"
   ]
  },
  {
   "cell_type": "code",
   "execution_count": null,
   "id": "e8b346b0-56d8-4e64-b1e6-c5d05e9398fc",
   "metadata": {},
   "outputs": [],
   "source": [
    "test_project = Project(user_input_via_gui_load_from_configs)"
   ]
  },
  {
   "cell_type": "code",
   "execution_count": null,
   "id": "d5727974-5f48-40c9-b9e5-37027224365d",
   "metadata": {},
   "outputs": [],
   "source": [
    "test_project.load_status()"
   ]
  },
  {
   "cell_type": "code",
   "execution_count": null,
   "id": "4c62445b-eeba-4662-95f6-08d103d204f8",
   "metadata": {},
   "outputs": [],
   "source": [
    "test_project.database.file_infos['preprocessing_completed']"
   ]
  },
  {
   "cell_type": "code",
   "execution_count": null,
   "id": "82b2fbd4-f991-4097-85ac-b498a8ecffcb",
   "metadata": {},
   "outputs": [],
   "source": [
    "test_project.preprocess()"
   ]
  },
  {
   "cell_type": "code",
   "execution_count": null,
   "id": "c325f9c9-4ee4-4e24-8cdd-0a88d910288a",
   "metadata": {},
   "outputs": [],
   "source": [
    "test_project.save_status()"
   ]
  },
  {
   "cell_type": "markdown",
   "id": "fff7d861-bee1-4120-9563-fe791d72b75b",
   "metadata": {},
   "source": [
    "# This is where we want to go:"
   ]
  },
  {
   "cell_type": "code",
   "execution_count": null,
   "id": "98bd20fb-f258-449e-bfb7-747ae1e3dbd2",
   "metadata": {},
   "outputs": [],
   "source": [
    "## Initialize the project\n",
    "\n",
    "project_name = Project(project_root_dir)\n",
    "# project_root_dir: path of project root directory\n",
    "\n",
    "project_name.initialize_database()\n",
    "# creates the database object and sets-up everything (main subdirs, file infos, ..)\n",
    "# as alternative, see: load_status()\n",
    "\n",
    "project_name.save_current_status()\n",
    "# saves current progress status to disk (basically the database.file_infos as pickle file? - what about shapely polygons that might have been loaded?)\n",
    "\n",
    "\n",
    "project_name.load_status()\n",
    "# Alternative to initialize_database()\n",
    "# loads the corresponding information from disk and allows the user to continue from here\n",
    "\n",
    "\n",
    "## Preprocessing\n",
    "\n",
    "project_name.preprocess(microscopy_files, cropping_strategy)\n",
    "# microscopy_files: list of all microscopy image files that shall be preprocessed (this would allow step-by-step processing)\n",
    "# cropping_strategy: object of type CroppingStrategy that specifies which exact cropping strategy shall be used\n",
    "\n",
    "# infers:\n",
    "    # microscopy-image-file-loader from filetype (e.g. .czi file loader)\n",
    "    # whether it´s a z-stack\n",
    "    # whether it´s an RGB image\n",
    "# automatically updates the database accordingly\n",
    "\n",
    "\n",
    "## Image segmentation\n",
    "\n",
    "project_name.run_segmentations(files, SegmentationStrategy)\n",
    "# files: list of files that shall be segmented (in case of df2 make sure that all are used due to image statistics & cellpose diameter)\n",
    "# SegmentationStrategy: e.g. deepflash2_binary, deepflash2_instances, intellesis\n",
    "\n",
    "# launches the respective segmentations and saves all progress in the database object & all segmentations in the corresponding subdir\n",
    "\n",
    "\n",
    "## Quantifications\n",
    "\n",
    "project_name.run_quantifications(files, QuantificationStrategy)\n",
    "# files: list of files whose segmentations shall be used for quantification\n",
    "# QuantificationStrategy: e.g. 2D, 3D_grid_estimation, 3D_entire_volume (enable selection of more specific options / exclusion criteria)\n",
    "\n",
    "# Launches the respective quantifications and saves all progress in the database object & all quantification results in the results table"
   ]
  }
 ],
 "metadata": {
  "kernelspec": {
   "display_name": "Python 3 (ipykernel)",
   "language": "python",
   "name": "python3"
  },
  "language_info": {
   "codemirror_mode": {
    "name": "ipython",
    "version": 3
   },
   "file_extension": ".py",
   "mimetype": "text/x-python",
   "name": "python",
   "nbconvert_exporter": "python",
   "pygments_lexer": "ipython3",
   "version": "3.7.12"
  }
 },
 "nbformat": 4,
 "nbformat_minor": 5
}
