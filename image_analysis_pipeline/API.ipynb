{
 "cells": [
  {
   "cell_type": "code",
   "execution_count": 12,
   "id": "8656b71c-1948-4519-afde-56473284b2ec",
   "metadata": {},
   "outputs": [],
   "source": [
    "from findmycells.main import Project\n",
    "import os\n",
    "import pandas as pd"
   ]
  },
  {
   "cell_type": "code",
   "execution_count": 13,
   "id": "e8594352-264b-42b1-96a7-a434bccc6f9f",
   "metadata": {},
   "outputs": [],
   "source": [
    "if os.path.isdir('/mnt/c/Users/dsege/TEMP/test_project2/'):\n",
    "    project_root_dir = '/mnt/c/Users/dsege/TEMP/test_project2/'\n",
    "    from findmycells.preprocessing import CropStitchingArtefacts\n",
    "    from findmycells.segmentation import Deepflash2BinaryAndInstanceSegmentationStrategy\n",
    "    from findmycells.quantifications import ReconstructCellsIn3DFrom2DInstanceLabels, CountCellsInWholeStructure\n",
    "    from findmycells.inspection import InspectReconstructedCellsBasedOnMultiMatchIDX\n",
    "else:\n",
    "    project_root_dir = '/Users/Sofie/Documents/DCL/Project_root_directory/'"
   ]
  },
  {
   "cell_type": "code",
   "execution_count": 14,
   "id": "7069a40e-28ce-4c19-800e-4973731da568",
   "metadata": {},
   "outputs": [
    {
     "data": {
      "text/plain": [
       "['02_preprocessed_images',\n",
       " '06_inspection',\n",
       " '.DS_Store',\n",
       " '05_instance_segmentations',\n",
       " '04_binary_segmentations',\n",
       " '01_rois_to_analyze',\n",
       " '07_results',\n",
       " '00_microscopy_images',\n",
       " '03_deepflash2']"
      ]
     },
     "execution_count": 14,
     "metadata": {},
     "output_type": "execute_result"
    }
   ],
   "source": [
    "user_input_via_gui = {'project_root_dir': project_root_dir}\n",
    "os.listdir(project_root_dir)"
   ]
  },
  {
   "cell_type": "code",
   "execution_count": 15,
   "id": "0cdc4d75-799d-4c1b-9831-509645449744",
   "metadata": {},
   "outputs": [],
   "source": [
    "test_project = Project(user_input_via_gui)"
   ]
  },
  {
   "cell_type": "code",
   "execution_count": 16,
   "id": "6dbaacf9-4244-4d57-a16c-de9165f0eb2d",
   "metadata": {},
   "outputs": [
    {
     "data": {
      "text/plain": [
       "{'file_id': ['0000', '0001', '0002', '0003'],\n",
       " 'original_file_id': ['#9_SN_wt_s2_sfr1',\n",
       "  '#7_SN_wt_s2_sfr1',\n",
       "  '#8_SN_tg_s2_sfr1',\n",
       "  '#5_SN_tg_s2_sfr1'],\n",
       " 'group_id': ['wt', 'wt', 'tg', 'tg'],\n",
       " 'subject_id': ['#9_wt_old', '#7_wt_old', '#8_tg_old', '#5_tg_old'],\n",
       " 'microscopy_filepath': ['/Users/Sofie/Documents/DCL/Project_root_directory/00_microscopy_images/wt/#9_wt_old/#9_SN_wt_s2_sfr1.czi',\n",
       "  '/Users/Sofie/Documents/DCL/Project_root_directory/00_microscopy_images/wt/#7_wt_old/#7_SN_wt_s2_sfr1.czi',\n",
       "  '/Users/Sofie/Documents/DCL/Project_root_directory/00_microscopy_images/tg/#8_tg_old/#8_SN_tg_s2_sfr1.czi',\n",
       "  '/Users/Sofie/Documents/DCL/Project_root_directory/00_microscopy_images/tg/#5_tg_old/#5_SN_tg_s2_sfr1.czi'],\n",
       " 'microscopy_filetype': ['.czi', '.czi', '.czi', '.czi'],\n",
       " 'rois_present': [True, True, True, True],\n",
       " 'rois_filepath': ['/Users/Sofie/Documents/DCL/Project_root_directory/01_rois_to_analyze/wt/#9_wt_old/#9_SN_wt_s2_sfr1.roi',\n",
       "  '/Users/Sofie/Documents/DCL/Project_root_directory/01_rois_to_analyze/wt/#7_wt_old/#7_SN_wt_s2_sfr1.roi',\n",
       "  '/Users/Sofie/Documents/DCL/Project_root_directory/01_rois_to_analyze/tg/#8_tg_old/#8_SN_tg_s2_sfr1.roi',\n",
       "  '/Users/Sofie/Documents/DCL/Project_root_directory/01_rois_to_analyze/tg/#5_tg_old/#5_SN_tg_s2_sfr1.roi'],\n",
       " 'rois_filetype': ['.roi', '.roi', '.roi', '.roi']}"
      ]
     },
     "execution_count": 16,
     "metadata": {},
     "output_type": "execute_result"
    }
   ],
   "source": [
    "# initial check whether also the dictionary was created properly:\n",
    "test_project.database.file_infos"
   ]
  },
  {
   "cell_type": "code",
   "execution_count": 19,
   "id": "b97be905-9445-4af1-89ca-e7e7d28c6f25",
   "metadata": {},
   "outputs": [],
   "source": [
    "dataframe_files = test_project.database.file_infos #this is what you should convert"
   ]
  },
  {
   "cell_type": "code",
   "execution_count": 27,
   "id": "fc7ec203-40c7-43d5-90d3-6fe322bdd584",
   "metadata": {},
   "outputs": [],
   "source": [
    "#Try to make a dataframe\n",
    "dataframe_try = pd.DataFrame(dataframe_files)\n",
    "Database_files_DF = dataframe_try.rename(columns={\"file_id\": \"File ID\", \"original_file_id\": \"Original File ID\", \n",
    "                                           \"group_id\": \"Group ID\", \"subject_id\": \"Subject ID\", \"microscopy_filepath\": \n",
    "                                          \"Microscopy Filepath\", \"microscopy_filetype\": \"Microscopy Filetype\",\n",
    "                                          \"rois_present\": \"Rois Present\", \"rois_filepath\": \"Rois Filepath\",\n",
    "                                          \"rois_filetype\": \"Rois Filetype\"})\n",
    "\n",
    "Database_files_DF.to_csv(\"/Users/Sofie/Documents/DCL/DCLmeetsRETUNE/Database_files_DF.csv\")"
   ]
  },
  {
   "cell_type": "code",
   "execution_count": 6,
   "id": "aa91a56a-b731-463f-b222-b611b648d6e6",
   "metadata": {},
   "outputs": [
    {
     "ename": "ModuleNotFoundError",
     "evalue": "No module named 'torch'",
     "output_type": "error",
     "traceback": [
      "\u001b[0;31m---------------------------------------------------------------------------\u001b[0m",
      "\u001b[0;31mModuleNotFoundError\u001b[0m                       Traceback (most recent call last)",
      "\u001b[0;32m<ipython-input-6-b77ea3995370>\u001b[0m in \u001b[0;36m<module>\u001b[0;34m\u001b[0m\n\u001b[1;32m      1\u001b[0m \u001b[0;31m# if yes, let´s continue with loading the results:\u001b[0m\u001b[0;34m\u001b[0m\u001b[0;34m\u001b[0m\u001b[0;34m\u001b[0m\u001b[0m\n\u001b[0;32m----> 2\u001b[0;31m \u001b[0mtest_project\u001b[0m\u001b[0;34m.\u001b[0m\u001b[0mload_status\u001b[0m\u001b[0;34m(\u001b[0m\u001b[0;34m)\u001b[0m\u001b[0;34m\u001b[0m\u001b[0;34m\u001b[0m\u001b[0m\n\u001b[0m",
      "\u001b[0;32m~/Documents/DCL/DCLmeetsRETUNE/image_analysis_pipeline/findmycells/main.py\u001b[0m in \u001b[0;36mload_status\u001b[0;34m(self)\u001b[0m\n\u001b[1;32m     18\u001b[0m \u001b[0;34m\u001b[0m\u001b[0m\n\u001b[1;32m     19\u001b[0m     \u001b[0;32mdef\u001b[0m \u001b[0mload_status\u001b[0m\u001b[0;34m(\u001b[0m\u001b[0mself\u001b[0m\u001b[0;34m)\u001b[0m \u001b[0;34m->\u001b[0m \u001b[0;32mNone\u001b[0m\u001b[0;34m:\u001b[0m\u001b[0;34m\u001b[0m\u001b[0;34m\u001b[0m\u001b[0m\n\u001b[0;32m---> 20\u001b[0;31m         \u001b[0mself\u001b[0m\u001b[0;34m.\u001b[0m\u001b[0mdatabase\u001b[0m\u001b[0;34m.\u001b[0m\u001b[0mload_all\u001b[0m\u001b[0;34m(\u001b[0m\u001b[0;34m)\u001b[0m\u001b[0;34m\u001b[0m\u001b[0;34m\u001b[0m\u001b[0m\n\u001b[0m\u001b[1;32m     21\u001b[0m \u001b[0;34m\u001b[0m\u001b[0m\n\u001b[1;32m     22\u001b[0m     \u001b[0;32mdef\u001b[0m \u001b[0mpreprocess\u001b[0m\u001b[0;34m(\u001b[0m\u001b[0mself\u001b[0m\u001b[0;34m,\u001b[0m \u001b[0mfile_ids\u001b[0m\u001b[0;34m:\u001b[0m \u001b[0mOptional\u001b[0m\u001b[0;34m[\u001b[0m\u001b[0mList\u001b[0m\u001b[0;34m]\u001b[0m\u001b[0;34m=\u001b[0m\u001b[0;32mNone\u001b[0m\u001b[0;34m)\u001b[0m \u001b[0;34m->\u001b[0m \u001b[0;32mNone\u001b[0m\u001b[0;34m:\u001b[0m\u001b[0;34m\u001b[0m\u001b[0;34m\u001b[0m\u001b[0m\n",
      "\u001b[0;32m~/Documents/DCL/DCLmeetsRETUNE/image_analysis_pipeline/findmycells/database.py\u001b[0m in \u001b[0;36mload_all\u001b[0;34m(self)\u001b[0m\n\u001b[1;32m    309\u001b[0m             \u001b[0mproject_configs_filename\u001b[0m \u001b[0;34m=\u001b[0m \u001b[0;34m[\u001b[0m\u001b[0mfname\u001b[0m \u001b[0;32mfor\u001b[0m \u001b[0mfname\u001b[0m \u001b[0;32min\u001b[0m \u001b[0mresult_files\u001b[0m \u001b[0;32mif\u001b[0m \u001b[0mfname\u001b[0m\u001b[0;34m.\u001b[0m\u001b[0mendswith\u001b[0m\u001b[0;34m(\u001b[0m\u001b[0;34m'project_configs.p'\u001b[0m\u001b[0;34m)\u001b[0m\u001b[0;34m]\u001b[0m\u001b[0;34m[\u001b[0m\u001b[0;36m0\u001b[0m\u001b[0;34m]\u001b[0m\u001b[0;34m\u001b[0m\u001b[0;34m\u001b[0m\u001b[0m\n\u001b[1;32m    310\u001b[0m             \u001b[0;32mwith\u001b[0m \u001b[0mopen\u001b[0m\u001b[0;34m(\u001b[0m\u001b[0mself\u001b[0m\u001b[0;34m.\u001b[0m\u001b[0mresults_dir\u001b[0m \u001b[0;34m+\u001b[0m \u001b[0mproject_configs_filename\u001b[0m\u001b[0;34m,\u001b[0m \u001b[0;34m'rb'\u001b[0m\u001b[0;34m)\u001b[0m \u001b[0;32mas\u001b[0m \u001b[0mio\u001b[0m\u001b[0;34m:\u001b[0m\u001b[0;34m\u001b[0m\u001b[0;34m\u001b[0m\u001b[0m\n\u001b[0;32m--> 311\u001b[0;31m                 \u001b[0mproject_configs\u001b[0m \u001b[0;34m=\u001b[0m \u001b[0mpickle\u001b[0m\u001b[0;34m.\u001b[0m\u001b[0mload\u001b[0m\u001b[0;34m(\u001b[0m\u001b[0mio\u001b[0m\u001b[0;34m)\u001b[0m\u001b[0;34m\u001b[0m\u001b[0;34m\u001b[0m\u001b[0m\n\u001b[0m\u001b[1;32m    312\u001b[0m \u001b[0;34m\u001b[0m\u001b[0m\n\u001b[1;32m    313\u001b[0m             \u001b[0;32mfor\u001b[0m \u001b[0mkey\u001b[0m\u001b[0;34m,\u001b[0m \u001b[0mvalue\u001b[0m \u001b[0;32min\u001b[0m \u001b[0mproject_configs\u001b[0m\u001b[0;34m.\u001b[0m\u001b[0mitems\u001b[0m\u001b[0;34m(\u001b[0m\u001b[0;34m)\u001b[0m\u001b[0;34m:\u001b[0m\u001b[0;34m\u001b[0m\u001b[0;34m\u001b[0m\u001b[0m\n",
      "\u001b[0;32m~/Documents/DCL/DCLmeetsRETUNE/image_analysis_pipeline/findmycells/segmentation.py\u001b[0m in \u001b[0;36m<module>\u001b[0;34m\u001b[0m\n\u001b[1;32m      8\u001b[0m \u001b[0;32mfrom\u001b[0m \u001b[0mtyping\u001b[0m \u001b[0;32mimport\u001b[0m \u001b[0mTuple\u001b[0m\u001b[0;34m,\u001b[0m \u001b[0mList\u001b[0m\u001b[0;34m\u001b[0m\u001b[0;34m\u001b[0m\u001b[0m\n\u001b[1;32m      9\u001b[0m \u001b[0;34m\u001b[0m\u001b[0m\n\u001b[0;32m---> 10\u001b[0;31m \u001b[0;32mfrom\u001b[0m \u001b[0mtorch\u001b[0m\u001b[0;34m.\u001b[0m\u001b[0mcuda\u001b[0m \u001b[0;32mimport\u001b[0m \u001b[0mempty_cache\u001b[0m\u001b[0;34m\u001b[0m\u001b[0;34m\u001b[0m\u001b[0m\n\u001b[0m\u001b[1;32m     11\u001b[0m \u001b[0;34m\u001b[0m\u001b[0m\n\u001b[1;32m     12\u001b[0m \u001b[0;32mfrom\u001b[0m \u001b[0mdeepflash2\u001b[0m\u001b[0;34m.\u001b[0m\u001b[0mlearner\u001b[0m \u001b[0;32mimport\u001b[0m \u001b[0mEnsembleLearner\u001b[0m\u001b[0;34m\u001b[0m\u001b[0;34m\u001b[0m\u001b[0m\n",
      "\u001b[0;31mModuleNotFoundError\u001b[0m: No module named 'torch'"
     ]
    }
   ],
   "source": [
    "# if yes, let´s continue with loading the results:\n",
    "test_project.load_status()"
   ]
  },
  {
   "cell_type": "code",
   "execution_count": 23,
   "id": "34d6762a-74c9-474a-8403-905f0fd51798",
   "metadata": {},
   "outputs": [
    {
     "data": {
      "text/plain": [
       "[True, True, True, True]"
      ]
     },
     "execution_count": 23,
     "metadata": {},
     "output_type": "execute_result"
    }
   ],
   "source": [
    "# now let´s make a copy of the dictionary we want to convert into a pandas DataFrame object\n",
    "file_infos = test_project.database.file_infos.copy()\n",
    "\n",
    "# and check whether the results were actually loaded - this should return a list like: [True, True, True, True]\n",
    "file_infos['preprocessing_completed']"
   ]
  },
  {
   "cell_type": "markdown",
   "id": "ed0cd522-2650-48f1-bc82-28082cd3cc5e",
   "metadata": {},
   "source": [
    "If this is also the case, it´s now your turn to figure out how to convert the dictionary into a DataFrame and from there to save it as csv file into the results directory (path is stored as attribute in the database). If you get stuck at some point, just sent me an e-mail :)\n",
    "\n",
    "Hint: you would want to use the [pandas](https://pandas.pydata.org/) package for this. You also need to import the package like this: "
   ]
  },
  {
   "cell_type": "code",
   "execution_count": null,
   "id": "7583e140-6cee-405f-a80e-9672523ed5ef",
   "metadata": {},
   "outputs": [],
   "source": [
    "#If this happens to throw an error, make sure to install pandas to your conda environment \n",
    "# using `conda install pandas` in your terminal\n",
    "import pandas as pd"
   ]
  },
  {
   "cell_type": "code",
   "execution_count": null,
   "id": "00c2575f-c53b-496a-991e-11f1ba86b9e9",
   "metadata": {},
   "outputs": [],
   "source": []
  },
  {
   "cell_type": "code",
   "execution_count": null,
   "id": "3573f0aa-c588-4274-b22e-5dcfd9f63607",
   "metadata": {},
   "outputs": [],
   "source": []
  },
  {
   "cell_type": "code",
   "execution_count": null,
   "id": "0df3d477-4125-4c21-b19b-14f69d231c75",
   "metadata": {},
   "outputs": [],
   "source": []
  },
  {
   "cell_type": "markdown",
   "id": "134d1524-25b9-4c62-adca-75b06423d5a1",
   "metadata": {},
   "source": [
    "If you got the first part working, the second part will require you to actually integrate the code you wrote into the \"database.py\" module so that it becomes part of the pipeline. For this, please create a new method in the Database class that contains all the code to save the file_infos dictionary as csv file into the results directory and a piece of code that calls this method in the \"save_all()\" method of the Database class (I added a comment at the corresponding position in line 278). \n",
    "\n",
    "In order for you to test whether your integrated code works, make sure to save all changes in the 'database.py' file (via clicking \"File\" in the very upper left corner of your Jupyter-lab browser window - and then \"Save Python File\") - then restart the Kernel of this notebook (via clicking \"Kernel\" and \"Restart Kernel...\"). This is neccessary because you have to import the new version of the database.py file, and that only works after restarting the kernel and re-executing the import. Now create the test_project again, load all results using load_status() and now try running: `test_project.save_all()` Did this save the csv file in the correct directory? :D"
   ]
  },
  {
   "cell_type": "markdown",
   "id": "1f231c14-4aaf-4368-8740-c5c8bc57c4e5",
   "metadata": {},
   "source": [
    "### Option A: start a new project"
   ]
  },
  {
   "cell_type": "code",
   "execution_count": 3,
   "id": "223351a7-3aad-4b59-b954-3d4bbd63027d",
   "metadata": {},
   "outputs": [],
   "source": [
    "user_input_via_gui = {'project_root_dir': project_root_dir,\n",
    "                      'preprocessing_configs': {0: {'method_category': None,\n",
    "                                                    'method_specifier': None,\n",
    "                                                    'additional_settings': dict(),\n",
    "                                                    'ProcessingMethod': CropStitchingArtefacts(),\n",
    "                                                    'ProcessingStrategy': None}\n",
    "                                               },\n",
    "                     'segmentation_strategy': Deepflash2BinaryAndInstanceSegmentationStrategy(),\n",
    "                     'quantification_configs': {'segmentations_to_use': 'instance', # or 'binary'\n",
    "                                                'quantification_preprocessing_strategies': [ReconstructCellsIn3DFrom2DInstanceLabels()],\n",
    "                                                'quantification_strategy': CountCellsInWholeStructure(),\n",
    "                                                'additional_settings': {'min_roi_size': 400,\n",
    "                                                                        'min_z_extension': 2}},\n",
    "                     'low_memory': True}"
   ]
  },
  {
   "cell_type": "code",
   "execution_count": 4,
   "id": "4c18db12-8385-48d0-97ae-57d2b873823e",
   "metadata": {},
   "outputs": [],
   "source": [
    "test_project = Project(user_input_via_gui)"
   ]
  },
  {
   "cell_type": "markdown",
   "id": "c6367cc3-093d-4641-b07d-5e7bbe36482b",
   "metadata": {},
   "source": [
    "### Option b: load status from an existing project:"
   ]
  },
  {
   "cell_type": "code",
   "execution_count": 5,
   "id": "3564e61f-02ce-4c4f-ace8-12a85e8ba837",
   "metadata": {},
   "outputs": [],
   "source": [
    "#test_project = Project({'project_root_dir': project_root_dir})"
   ]
  },
  {
   "cell_type": "code",
   "execution_count": 5,
   "id": "b736433b-6456-47f6-a973-0964783b3814",
   "metadata": {},
   "outputs": [],
   "source": [
    "test_project.load_status()"
   ]
  },
  {
   "cell_type": "code",
   "execution_count": 6,
   "id": "9b571083-d39c-4e08-af8c-8874783a7caf",
   "metadata": {},
   "outputs": [
    {
     "data": {
      "text/plain": [
       "[True, True, True, True]"
      ]
     },
     "execution_count": 6,
     "metadata": {},
     "output_type": "execute_result"
    }
   ],
   "source": [
    "test_project.database.file_infos['quantification_completed']"
   ]
  },
  {
   "cell_type": "code",
   "execution_count": 9,
   "id": "28e6c7f7-1277-41a3-af62-065617b129ab",
   "metadata": {},
   "outputs": [],
   "source": [
    "test_project.run_quantificatons()"
   ]
  },
  {
   "cell_type": "code",
   "execution_count": 7,
   "id": "7eeab319-53be-4828-94a9-f112f048c234",
   "metadata": {},
   "outputs": [
    {
     "data": {
      "text/plain": [
       "{'0000': {'000': {'inclusion_criteria_position': ['within', 'intersects'],\n",
       "   'inclusion_criteria_min_z_extension': 2,\n",
       "   'number_connected_components': 81}},\n",
       " '0001': {'000': {'inclusion_criteria_position': ['within', 'intersects'],\n",
       "   'inclusion_criteria_min_z_extension': 2,\n",
       "   'number_connected_components': 19}},\n",
       " '0002': {'000': {'inclusion_criteria_position': ['within', 'intersects'],\n",
       "   'inclusion_criteria_min_z_extension': 2,\n",
       "   'number_connected_components': 77}},\n",
       " '0003': {'000': {'inclusion_criteria_position': ['within', 'intersects'],\n",
       "   'inclusion_criteria_min_z_extension': 2,\n",
       "   'number_connected_components': 131}}}"
      ]
     },
     "execution_count": 7,
     "metadata": {},
     "output_type": "execute_result"
    }
   ],
   "source": [
    "test_project.database.quantification_results"
   ]
  },
  {
   "cell_type": "code",
   "execution_count": 14,
   "id": "da42e44d-c0da-444a-bab1-578f6b3dd9c5",
   "metadata": {},
   "outputs": [
    {
     "data": {
      "text/plain": [
       "26"
      ]
     },
     "execution_count": 14,
     "metadata": {},
     "output_type": "execute_result"
    }
   ],
   "source": [
    "test_project.database.multi_matches_traceback['0000']['original_instance_label_id'][22]"
   ]
  },
  {
   "cell_type": "code",
   "execution_count": null,
   "id": "ca138ab7-b126-446a-9206-d20892f220b6",
   "metadata": {},
   "outputs": [],
   "source": [
    "test_project.run_inspection('0000', InspectReconstructedCellsBasedOnMultiMatchIDX(22, save=True, show=True))"
   ]
  },
  {
   "cell_type": "code",
   "execution_count": 16,
   "id": "d7a326fd-568d-41eb-95f1-c7ac43920024",
   "metadata": {},
   "outputs": [],
   "source": [
    "test_project.save_status()"
   ]
  },
  {
   "cell_type": "markdown",
   "id": "fff7d861-bee1-4120-9563-fe791d72b75b",
   "metadata": {},
   "source": [
    "# This is where we want to go:"
   ]
  },
  {
   "cell_type": "code",
   "execution_count": null,
   "id": "98bd20fb-f258-449e-bfb7-747ae1e3dbd2",
   "metadata": {},
   "outputs": [],
   "source": [
    "## Initialize the project\n",
    "\n",
    "project_name = Project(project_root_dir)\n",
    "# project_root_dir: path of project root directory\n",
    "\n",
    "project_name.initialize_database()\n",
    "# creates the database object and sets-up everything (main subdirs, file infos, ..)\n",
    "# as alternative, see: load_status()\n",
    "\n",
    "project_name.save_current_status()\n",
    "# saves current progress status to disk (basically the database.file_infos as pickle file? - what about shapely polygons that might have been loaded?)\n",
    "\n",
    "\n",
    "project_name.load_status()\n",
    "# Alternative to initialize_database()\n",
    "# loads the corresponding information from disk and allows the user to continue from here\n",
    "\n",
    "\n",
    "## Preprocessing\n",
    "\n",
    "project_name.preprocess(microscopy_files, cropping_strategy)\n",
    "# microscopy_files: list of all microscopy image files that shall be preprocessed (this would allow step-by-step processing)\n",
    "# cropping_strategy: object of type CroppingStrategy that specifies which exact cropping strategy shall be used\n",
    "\n",
    "# infers:\n",
    "    # microscopy-image-file-loader from filetype (e.g. .czi file loader)\n",
    "    # whether it´s a z-stack\n",
    "    # whether it´s an RGB image\n",
    "# automatically updates the database accordingly\n",
    "\n",
    "\n",
    "## Image segmentation\n",
    "\n",
    "project_name.run_segmentations(files, SegmentationStrategy)\n",
    "# files: list of files that shall be segmented (in case of df2 make sure that all are used due to image statistics & cellpose diameter)\n",
    "# SegmentationStrategy: e.g. deepflash2_binary, deepflash2_instances, intellesis\n",
    "\n",
    "# launches the respective segmentations and saves all progress in the database object & all segmentations in the corresponding subdir\n",
    "\n",
    "\n",
    "## Quantifications\n",
    "\n",
    "project_name.run_quantifications(files, QuantificationStrategy)\n",
    "# files: list of files whose segmentations shall be used for quantification\n",
    "# QuantificationStrategy: e.g. 2D, 3D_grid_estimation, 3D_entire_volume (enable selection of more specific options / exclusion criteria)\n",
    "\n",
    "# Launches the respective quantifications and saves all progress in the database object & all quantification results in the results table"
   ]
  }
 ],
 "metadata": {
  "kernelspec": {
   "display_name": "Python 3",
   "language": "python",
   "name": "python3"
  },
  "language_info": {
   "codemirror_mode": {
    "name": "ipython",
    "version": 3
   },
   "file_extension": ".py",
   "mimetype": "text/x-python",
   "name": "python",
   "nbconvert_exporter": "python",
   "pygments_lexer": "ipython3",
   "version": "3.8.5"
  }
 },
 "nbformat": 4,
 "nbformat_minor": 5
}
