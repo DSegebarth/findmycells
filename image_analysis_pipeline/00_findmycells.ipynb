{
 "cells": [
  {
   "cell_type": "code",
   "execution_count": 1,
   "id": "6b0d0021-9636-4229-9d25-0dc7ab228104",
   "metadata": {},
   "outputs": [],
   "source": [
    "from abc import ABC, abstractmethod\n",
    "import os\n",
    "from pathlib import Path\n",
    "import numpy as np\n",
    "from PIL import Image\n",
    "\n",
    "from torch.cuda import empty_cache"
   ]
  },
  {
   "cell_type": "code",
   "execution_count": 2,
   "id": "949f3fb8-52d8-4e2b-b193-f9973e912ddd",
   "metadata": {},
   "outputs": [],
   "source": [
    "from deepflash2 import learner\n",
    "from deepflash2.models import get_diameters"
   ]
  },
  {
   "cell_type": "code",
   "execution_count": 3,
   "id": "e1891114-4ce7-4286-b1d4-3997e65197a7",
   "metadata": {},
   "outputs": [],
   "source": [
    "from findmycells.main import Database, CZIZStack, ImageJROIs, CropStitchingArtefactsCroppingStrategy\n",
    "from findmycells.utils import convert_12_to_8_bit_rgb_image"
   ]
  },
  {
   "cell_type": "code",
   "execution_count": null,
   "id": "7740530c-682d-4cb4-9c06-cd8a07339559",
   "metadata": {},
   "outputs": [],
   "source": [
    "project_root_dir = '/mnt/c/Users/dsege/TEMP/test_project/'\n",
    "\n",
    "if os.path.isdir(project_root_dir) == False:\n",
    "    project_root_dir = 'path on your system'"
   ]
  },
  {
   "cell_type": "code",
   "execution_count": null,
   "id": "ba2e80ab-abdf-433f-90da-7772fdc54527",
   "metadata": {},
   "outputs": [],
   "source": [
    "project_name = Project(project_root_dir)\n",
    "# project_root_dir: path of project root directory\n",
    "\n",
    "# creates the database object and sets-up everything (main subdirs, file infos, ..)\n",
    "\n",
    "\n",
    "project_name.preprocess(microscopy_files, cropping_strategy)\n",
    "# microscopy_files: list of all microscopy image files that shall be preprocessed (this would allow step-by-step processing)\n",
    "# cropping_strategy: object of type CroppingStrategy that specifies which exact cropping strategy shall be used\n",
    "\n",
    "# infers:\n",
    "    # microscopy-image-file-loader from filetype (e.g. .czi file loader)\n",
    "    # whether it´s a z-stack\n",
    "    # whether it´s an RGB image\n",
    "# automatically updates the database accordingly\n",
    "\n",
    "\n",
    "project_name.save_current_status()\n",
    "# saves current progress status to disk (basically the database.file_infos as pickle file? - what about shapely polygons that might have been loaded?)\n",
    "\n",
    "project_name.load_status()\n",
    "# loads the corresponding informations from disk and allows the user to continue from here\n",
    "\n",
    "\n",
    "project_name.run_segmentations(files, SegmentationStrategy)\n",
    "# files: list of files that shall be segmented (in case of df2 make sure that all are used due to image statistics & cellpose diameter)\n",
    "# SegmentationStrategy: e.g. deepflash2_binary, deepflash2_instances, intellesis\n",
    "\n",
    "# launches the respective segmentations and saves all progress in the database object & all segmentations in the corresponding subdir\n",
    "\n",
    "\n",
    "project_name.run_quantifications(files, QuantificationStrategy)\n",
    "# files: list of files whose segmentations shall be used for quantification\n",
    "# QuantificationStrategy: e.g. 2D, 3D_grid_estimation, 3D_entire_volume (enable selection of more specific options / exclusion criteria)\n",
    "\n",
    "# Launches the respective quantifications and saves all progress in the database object & all quantification results in the results table\n"
   ]
  },
  {
   "cell_type": "code",
   "execution_count": null,
   "id": "ce3fbbc9-ea8d-4bb8-a64c-604d6bde294c",
   "metadata": {},
   "outputs": [],
   "source": []
  },
  {
   "cell_type": "code",
   "execution_count": 4,
   "id": "ff11c973-2410-465f-9882-477147832597",
   "metadata": {},
   "outputs": [],
   "source": [
    "project_root_dir = '/mnt/c/Users/dsege/TEMP/test_project/'\n",
    "\n",
    "if os.path.isdir(project_root_dir) == False:\n",
    "    project_root_dir = 'path on your system'\n",
    "\n",
    "\n",
    "db = Database(project_root_dir)"
   ]
  },
  {
   "cell_type": "code",
   "execution_count": 5,
   "id": "bc954126-aa3d-428e-a84c-ee5074c01af6",
   "metadata": {},
   "outputs": [
    {
     "data": {
      "text/plain": [
       "'/mnt/c/Users/dsege/TEMP/test_project/03_deepflash2/temp/'"
      ]
     },
     "execution_count": 5,
     "metadata": {},
     "output_type": "execute_result"
    }
   ],
   "source": [
    "db.deepflash2_temp_dir"
   ]
  },
  {
   "cell_type": "markdown",
   "id": "824af4ad-a607-406f-b4c3-c8cf8c5b3987",
   "metadata": {},
   "source": [
    "# Preprocessing"
   ]
  },
  {
   "cell_type": "markdown",
   "id": "7648f735-9ebd-4b5a-b538-c3e40ffa078d",
   "metadata": {},
   "source": [
    "Change database:\n",
    "\n",
    "- input:\n",
    "    required - one of the following:\n",
    "    a) raw microscopy images (e.g. RGB z-stack)\n",
    "    b) pre-processed images (e.g. cropped, brightnes-contrast adjusted, or converted to single planes)\n",
    "    \n",
    "    optional:\n",
    "    a) roi files (that mark the corresponding areas in each image that shall be quantified)\n",
    "    b) masks (that mark the corresponding areas in each image that shall be quantified)\n",
    "    "
   ]
  },
  {
   "cell_type": "code",
   "execution_count": null,
   "id": "0697feb6-d042-441e-8a7a-7bb8f370acef",
   "metadata": {},
   "outputs": [],
   "source": [
    "# Preprocessing\n",
    "\n",
    "db.create_subdirectory_structure(db.preprocessed_images_dir)\n",
    "\n",
    "for file_id in db.file_infos['file_id']:\n",
    "    if file_id == '0010':\n",
    "        file_infos = db.get_file_infos(file_id)\n",
    "        group, subject = file_infos['group_id'], file_infos['subject_id']\n",
    "        filename, image_filetype, roi_filetype = file_infos['original_file_id'], file_infos['microscopy_filetype'], file_infos['rois_filetype']\n",
    "        image_filepath_in = f'{db.microscopy_image_dir}{group}/{subject}/{filename}{image_filetype}' \n",
    "        rois_filepath_in = f'{db.rois_to_analyze_dir}{group}/{subject}/{filename}{roi_filetype}'\n",
    "        \n",
    "        print('starting to load file_id: ' + file_id)\n",
    "        microscopy_image = CZIZStack(image_filepath_in)\n",
    "        rois = ImageJROIs(rois_filepath_in)\n",
    "        # right now only one ROI that is used for all planes. Ultimately, however, it should also be possible to have plane-specific ROI(s)!\n",
    "        cropping_strategy = CropStitchingArtefactsCroppingStrategy()\n",
    "        \n",
    "        for plane_idx in range(microscopy_image.total_planes):\n",
    "            plane_id = str(plane_idx).zfill(3)\n",
    "            image_plane = microscopy_image.as_array[plane_idx].copy() \n",
    "            cropped_image = cropping_strategy.crop_image(image_plane)\n",
    "            cropped_image = convert_12_to_8_bit_rgb_image(cropped_image)\n",
    "            cropped_image = Image.fromarray(cropped_image, 'RGB')\n",
    "            image_filepath_out = f'{db.preprocessed_images_dir}{group}/{subject}/{file_id}-{plane_id}.png'\n",
    "            cropped_image.save(image_filepath_out)\n",
    "            del image_plane, cropped_image\n",
    "            print(f'done with plane {plane_id}')\n",
    "        \n",
    "        cropping_strategy.adjust_rois(rois)\n",
    "        rois.from_array_to_shapely_polygon()\n",
    "        \n",
    "        db.update_file_infos(file_id, 'cropping_row_indices', (cropping_strategy.lower_row_idx, cropping_strategy.upper_row_idx))\n",
    "        db.update_file_infos(file_id, 'cropping_column_indices', (cropping_strategy.lower_col_idx, cropping_strategy.upper_col_idx))\n",
    "        db.import_roi_polygons(rois)\n",
    "        \n",
    "        del microscopy_image\n",
    "        print('done with processing of file_id: ' + file_id)"
   ]
  },
  {
   "cell_type": "code",
   "execution_count": null,
   "id": "7a9bb581-9295-4349-a5a9-a1c0cdc0aebb",
   "metadata": {},
   "outputs": [],
   "source": [
    "db.file_infos"
   ]
  },
  {
   "cell_type": "markdown",
   "id": "68ba168b-c845-47b6-abd2-be6937283d0d",
   "metadata": {},
   "source": [
    "## Next steps:\n",
    "\n",
    "\n",
    "- Sofie:\n",
    "    - Method in Database class that creates a pandas DataFrame from file_infos\n",
    "    - Method in Database class that allows to save the DataFrame to disk\n",
    "\n",
    "\n",
    "\n",
    "- Integration of df2 API -> Dennis\n",
    "    - binary predictions\n",
    "    - cellpose predictions"
   ]
  },
  {
   "cell_type": "markdown",
   "id": "5b85f905-fa0a-4e2d-9fd2-3402c0dd51c5",
   "metadata": {
    "tags": []
   },
   "source": [
    "## Integration of df2:"
   ]
  },
  {
   "cell_type": "markdown",
   "id": "3c74b085-92c2-442b-9a6a-cbe09b9df61e",
   "metadata": {},
   "source": [
    "Next steps:\n",
    "\n",
    "- df2 creates 2 zarr directories in the tmp folder in Linux that quickly waste disk space and are not automatically deleted: find a fix!\n",
    "    - fix for the one that is created during (at the end of) the predictions found (see code below)\n",
    "    - the first one must be generated upon creation of the EnsembleLearner object?\n",
    "    \n",
    "- try to run cellpose independently of normal predictions\n",
    "\n",
    "- move files from the auto-generated df2 directories into the corresponding project dir folders\n",
    "\n",
    "- changes if all images are processed individually vs. all together? different image stats for predictions? different feature stats for cellpose?"
   ]
  },
  {
   "cell_type": "code",
   "execution_count": null,
   "id": "693efb42-00fe-4561-802d-33c7a1dcaba1",
   "metadata": {},
   "outputs": [],
   "source": []
  },
  {
   "cell_type": "markdown",
   "id": "7442ad24-bd3e-408d-b170-2239c097e7e1",
   "metadata": {},
   "source": [
    "- Run regular df2 predictions on a batch of images (distributed files across 2 or more directories) - not possible: df2 requires a single input dir\n",
    "- save df_ens \n",
    "- delete EnsembleLearner object which was used for predictions\n",
    "- delete temporary files from system temp dir\n",
    "- clear GPU cache / memory?\n",
    "\n",
    "- get diameter for cellpose across all masks\n",
    "- iterate through all images individually to run cellpose predictions:\n",
    "    - create a new EnsembleLearner object each time\n",
    "    - pass a DataFrame with only that single corresponding row as df_ens\n",
    "    - set cellpose_diameter to calculated diameter (identical for all!)\n",
    "    - run cellpose preds\n",
    "    - clear GPU cache / memory?\n",
    "- delete all temporary files in custom temp dir (contains softmax preds which were required for cellpose)\n",
    "- move all predictions to the correct project dirs"
   ]
  },
  {
   "cell_type": "markdown",
   "id": "c01ce97e-4b81-41d9-8923-fd6ebeb93cf6",
   "metadata": {},
   "source": [
    "## Integration of deepflash2:\n",
    "\n",
    "### I) Run binary predictions on a batch of images:"
   ]
  },
  {
   "cell_type": "code",
   "execution_count": 6,
   "id": "c3df610c-8399-4117-a956-87fa6f3165d7",
   "metadata": {},
   "outputs": [
    {
     "name": "stdout",
     "output_type": "stream",
     "text": [
      "Found 5 models in folder /mnt/c/Users/dsege/TEMP/test_project/03_deepflash2/trained_models\n",
      "['Unet_resnet34_2classes-fold1.pth', 'Unet_resnet34_2classes-fold2.pth', 'Unet_resnet34_2classes-fold3.pth', 'Unet_resnet34_2classes-fold4.pth', 'Unet_resnet34_2classes-fold5.pth']\n",
      "Computing Stats...\n"
     ]
    },
    {
     "data": {
      "text/plain": [
       "(array([0.36283578, 0.38616829, 0.42082587]),\n",
       " array([0.11086489, 0.13612533, 0.17018981]))"
      ]
     },
     "execution_count": 6,
     "metadata": {},
     "output_type": "execute_result"
    }
   ],
   "source": [
    "image_dir = '/mnt/c/Users/dsege/TEMP/test_project/pooled_for_batch_processing_test_all/'\n",
    "export_dir = db.deepflash2_dir\n",
    "zarr_dir = db.deepflash2_temp_dir\n",
    "ensemble_dir = db.trained_models_dir\n",
    "ensemble_path = Path(ensemble_dir)\n",
    "\n",
    "ensemble_learner = learner.EnsembleLearner(image_dir = image_dir, ensemble_path = ensemble_path)\n",
    "ensemble_learner.stats"
   ]
  },
  {
   "cell_type": "code",
   "execution_count": 7,
   "id": "0e801bdd-adea-40c2-827b-906deff9c1e9",
   "metadata": {},
   "outputs": [
    {
     "data": {
      "text/html": [],
      "text/plain": [
       "<IPython.core.display.HTML object>"
      ]
     },
     "metadata": {},
     "output_type": "display_data"
    },
    {
     "name": "stdout",
     "output_type": "stream",
     "text": [
      "Predicting 0000-003.png\n"
     ]
    },
    {
     "data": {
      "text/html": [],
      "text/plain": [
       "<IPython.core.display.HTML object>"
      ]
     },
     "metadata": {},
     "output_type": "display_data"
    },
    {
     "name": "stdout",
     "output_type": "stream",
     "text": [
      "Predicting 0001-003.png\n"
     ]
    },
    {
     "data": {
      "text/html": [],
      "text/plain": [
       "<IPython.core.display.HTML object>"
      ]
     },
     "metadata": {},
     "output_type": "display_data"
    },
    {
     "name": "stdout",
     "output_type": "stream",
     "text": [
      "Predicting 0002-003.png\n"
     ]
    },
    {
     "data": {
      "text/html": [],
      "text/plain": [
       "<IPython.core.display.HTML object>"
      ]
     },
     "metadata": {},
     "output_type": "display_data"
    },
    {
     "name": "stdout",
     "output_type": "stream",
     "text": [
      "Predicting 0003-004.png\n"
     ]
    },
    {
     "data": {
      "text/html": [],
      "text/plain": [
       "<IPython.core.display.HTML object>"
      ]
     },
     "metadata": {},
     "output_type": "display_data"
    },
    {
     "name": "stdout",
     "output_type": "stream",
     "text": [
      "Predicting 0004-004.png\n"
     ]
    },
    {
     "data": {
      "text/html": [],
      "text/plain": [
       "<IPython.core.display.HTML object>"
      ]
     },
     "metadata": {},
     "output_type": "display_data"
    },
    {
     "name": "stdout",
     "output_type": "stream",
     "text": [
      "Predicting 0005-004.png\n"
     ]
    },
    {
     "data": {
      "text/html": [],
      "text/plain": [
       "<IPython.core.display.HTML object>"
      ]
     },
     "metadata": {},
     "output_type": "display_data"
    },
    {
     "name": "stdout",
     "output_type": "stream",
     "text": [
      "Predicting 0006-004.png\n"
     ]
    },
    {
     "data": {
      "text/html": [],
      "text/plain": [
       "<IPython.core.display.HTML object>"
      ]
     },
     "metadata": {},
     "output_type": "display_data"
    },
    {
     "name": "stdout",
     "output_type": "stream",
     "text": [
      "Predicting 0007-004.png\n"
     ]
    },
    {
     "data": {
      "text/html": [],
      "text/plain": [
       "<IPython.core.display.HTML object>"
      ]
     },
     "metadata": {},
     "output_type": "display_data"
    },
    {
     "name": "stdout",
     "output_type": "stream",
     "text": [
      "Predicting 0008-004.png\n"
     ]
    },
    {
     "data": {
      "text/html": [],
      "text/plain": [
       "<IPython.core.display.HTML object>"
      ]
     },
     "metadata": {},
     "output_type": "display_data"
    },
    {
     "name": "stdout",
     "output_type": "stream",
     "text": [
      "Predicting 0009-005.png\n"
     ]
    },
    {
     "data": {
      "text/html": [],
      "text/plain": [
       "<IPython.core.display.HTML object>"
      ]
     },
     "metadata": {},
     "output_type": "display_data"
    },
    {
     "name": "stdout",
     "output_type": "stream",
     "text": [
      "Predicting 0010-005.png\n"
     ]
    },
    {
     "data": {
      "text/html": [],
      "text/plain": [
       "<IPython.core.display.HTML object>"
      ]
     },
     "metadata": {},
     "output_type": "display_data"
    },
    {
     "data": {
      "text/html": [
       "<div>\n",
       "<style scoped>\n",
       "    .dataframe tbody tr th:only-of-type {\n",
       "        vertical-align: middle;\n",
       "    }\n",
       "\n",
       "    .dataframe tbody tr th {\n",
       "        vertical-align: top;\n",
       "    }\n",
       "\n",
       "    .dataframe thead th {\n",
       "        text-align: right;\n",
       "    }\n",
       "</style>\n",
       "<table border=\"1\" class=\"dataframe\">\n",
       "  <thead>\n",
       "    <tr style=\"text-align: right;\">\n",
       "      <th></th>\n",
       "      <th>file</th>\n",
       "      <th>ensemble</th>\n",
       "      <th>n_models</th>\n",
       "      <th>uncertainty_score</th>\n",
       "      <th>image_path</th>\n",
       "      <th>softmax_path</th>\n",
       "      <th>uncertainty_path</th>\n",
       "      <th>energy_path</th>\n",
       "    </tr>\n",
       "  </thead>\n",
       "  <tbody>\n",
       "    <tr>\n",
       "      <th>0</th>\n",
       "      <td>0000-003.png</td>\n",
       "      <td>Unet_resnet34_2classes</td>\n",
       "      <td>5</td>\n",
       "      <td>0.103049</td>\n",
       "      <td>/mnt/c/Users/dsege/TEMP/test_project/pooled_for_batch_processing_test_all/0000-003.png</td>\n",
       "      <td>/mnt/c/Users/dsege/TEMP/test_project/03_deepflash2/temp/smx/0000-003.png</td>\n",
       "      <td>/mnt/c/Users/dsege/TEMP/test_project/03_deepflash2/temp/std/0000-003.png</td>\n",
       "      <td>None</td>\n",
       "    </tr>\n",
       "    <tr>\n",
       "      <th>1</th>\n",
       "      <td>0001-003.png</td>\n",
       "      <td>Unet_resnet34_2classes</td>\n",
       "      <td>5</td>\n",
       "      <td>0.068256</td>\n",
       "      <td>/mnt/c/Users/dsege/TEMP/test_project/pooled_for_batch_processing_test_all/0001-003.png</td>\n",
       "      <td>/mnt/c/Users/dsege/TEMP/test_project/03_deepflash2/temp/smx/0001-003.png</td>\n",
       "      <td>/mnt/c/Users/dsege/TEMP/test_project/03_deepflash2/temp/std/0001-003.png</td>\n",
       "      <td>None</td>\n",
       "    </tr>\n",
       "    <tr>\n",
       "      <th>2</th>\n",
       "      <td>0002-003.png</td>\n",
       "      <td>Unet_resnet34_2classes</td>\n",
       "      <td>5</td>\n",
       "      <td>0.107383</td>\n",
       "      <td>/mnt/c/Users/dsege/TEMP/test_project/pooled_for_batch_processing_test_all/0002-003.png</td>\n",
       "      <td>/mnt/c/Users/dsege/TEMP/test_project/03_deepflash2/temp/smx/0002-003.png</td>\n",
       "      <td>/mnt/c/Users/dsege/TEMP/test_project/03_deepflash2/temp/std/0002-003.png</td>\n",
       "      <td>None</td>\n",
       "    </tr>\n",
       "    <tr>\n",
       "      <th>3</th>\n",
       "      <td>0003-004.png</td>\n",
       "      <td>Unet_resnet34_2classes</td>\n",
       "      <td>5</td>\n",
       "      <td>0.081598</td>\n",
       "      <td>/mnt/c/Users/dsege/TEMP/test_project/pooled_for_batch_processing_test_all/0003-004.png</td>\n",
       "      <td>/mnt/c/Users/dsege/TEMP/test_project/03_deepflash2/temp/smx/0003-004.png</td>\n",
       "      <td>/mnt/c/Users/dsege/TEMP/test_project/03_deepflash2/temp/std/0003-004.png</td>\n",
       "      <td>None</td>\n",
       "    </tr>\n",
       "    <tr>\n",
       "      <th>4</th>\n",
       "      <td>0004-004.png</td>\n",
       "      <td>Unet_resnet34_2classes</td>\n",
       "      <td>5</td>\n",
       "      <td>0.108982</td>\n",
       "      <td>/mnt/c/Users/dsege/TEMP/test_project/pooled_for_batch_processing_test_all/0004-004.png</td>\n",
       "      <td>/mnt/c/Users/dsege/TEMP/test_project/03_deepflash2/temp/smx/0004-004.png</td>\n",
       "      <td>/mnt/c/Users/dsege/TEMP/test_project/03_deepflash2/temp/std/0004-004.png</td>\n",
       "      <td>None</td>\n",
       "    </tr>\n",
       "    <tr>\n",
       "      <th>5</th>\n",
       "      <td>0005-004.png</td>\n",
       "      <td>Unet_resnet34_2classes</td>\n",
       "      <td>5</td>\n",
       "      <td>0.108050</td>\n",
       "      <td>/mnt/c/Users/dsege/TEMP/test_project/pooled_for_batch_processing_test_all/0005-004.png</td>\n",
       "      <td>/mnt/c/Users/dsege/TEMP/test_project/03_deepflash2/temp/smx/0005-004.png</td>\n",
       "      <td>/mnt/c/Users/dsege/TEMP/test_project/03_deepflash2/temp/std/0005-004.png</td>\n",
       "      <td>None</td>\n",
       "    </tr>\n",
       "    <tr>\n",
       "      <th>6</th>\n",
       "      <td>0006-004.png</td>\n",
       "      <td>Unet_resnet34_2classes</td>\n",
       "      <td>5</td>\n",
       "      <td>0.108684</td>\n",
       "      <td>/mnt/c/Users/dsege/TEMP/test_project/pooled_for_batch_processing_test_all/0006-004.png</td>\n",
       "      <td>/mnt/c/Users/dsege/TEMP/test_project/03_deepflash2/temp/smx/0006-004.png</td>\n",
       "      <td>/mnt/c/Users/dsege/TEMP/test_project/03_deepflash2/temp/std/0006-004.png</td>\n",
       "      <td>None</td>\n",
       "    </tr>\n",
       "    <tr>\n",
       "      <th>7</th>\n",
       "      <td>0007-004.png</td>\n",
       "      <td>Unet_resnet34_2classes</td>\n",
       "      <td>5</td>\n",
       "      <td>0.085985</td>\n",
       "      <td>/mnt/c/Users/dsege/TEMP/test_project/pooled_for_batch_processing_test_all/0007-004.png</td>\n",
       "      <td>/mnt/c/Users/dsege/TEMP/test_project/03_deepflash2/temp/smx/0007-004.png</td>\n",
       "      <td>/mnt/c/Users/dsege/TEMP/test_project/03_deepflash2/temp/std/0007-004.png</td>\n",
       "      <td>None</td>\n",
       "    </tr>\n",
       "    <tr>\n",
       "      <th>8</th>\n",
       "      <td>0008-004.png</td>\n",
       "      <td>Unet_resnet34_2classes</td>\n",
       "      <td>5</td>\n",
       "      <td>0.085817</td>\n",
       "      <td>/mnt/c/Users/dsege/TEMP/test_project/pooled_for_batch_processing_test_all/0008-004.png</td>\n",
       "      <td>/mnt/c/Users/dsege/TEMP/test_project/03_deepflash2/temp/smx/0008-004.png</td>\n",
       "      <td>/mnt/c/Users/dsege/TEMP/test_project/03_deepflash2/temp/std/0008-004.png</td>\n",
       "      <td>None</td>\n",
       "    </tr>\n",
       "    <tr>\n",
       "      <th>9</th>\n",
       "      <td>0009-005.png</td>\n",
       "      <td>Unet_resnet34_2classes</td>\n",
       "      <td>5</td>\n",
       "      <td>0.087464</td>\n",
       "      <td>/mnt/c/Users/dsege/TEMP/test_project/pooled_for_batch_processing_test_all/0009-005.png</td>\n",
       "      <td>/mnt/c/Users/dsege/TEMP/test_project/03_deepflash2/temp/smx/0009-005.png</td>\n",
       "      <td>/mnt/c/Users/dsege/TEMP/test_project/03_deepflash2/temp/std/0009-005.png</td>\n",
       "      <td>None</td>\n",
       "    </tr>\n",
       "    <tr>\n",
       "      <th>10</th>\n",
       "      <td>0010-005.png</td>\n",
       "      <td>Unet_resnet34_2classes</td>\n",
       "      <td>5</td>\n",
       "      <td>0.073124</td>\n",
       "      <td>/mnt/c/Users/dsege/TEMP/test_project/pooled_for_batch_processing_test_all/0010-005.png</td>\n",
       "      <td>/mnt/c/Users/dsege/TEMP/test_project/03_deepflash2/temp/smx/0010-005.png</td>\n",
       "      <td>/mnt/c/Users/dsege/TEMP/test_project/03_deepflash2/temp/std/0010-005.png</td>\n",
       "      <td>None</td>\n",
       "    </tr>\n",
       "  </tbody>\n",
       "</table>\n",
       "</div>"
      ],
      "text/plain": [
       "            file                ensemble  n_models  uncertainty_score  \\\n",
       "0   0000-003.png  Unet_resnet34_2classes         5           0.103049   \n",
       "1   0001-003.png  Unet_resnet34_2classes         5           0.068256   \n",
       "2   0002-003.png  Unet_resnet34_2classes         5           0.107383   \n",
       "3   0003-004.png  Unet_resnet34_2classes         5           0.081598   \n",
       "4   0004-004.png  Unet_resnet34_2classes         5           0.108982   \n",
       "5   0005-004.png  Unet_resnet34_2classes         5           0.108050   \n",
       "6   0006-004.png  Unet_resnet34_2classes         5           0.108684   \n",
       "7   0007-004.png  Unet_resnet34_2classes         5           0.085985   \n",
       "8   0008-004.png  Unet_resnet34_2classes         5           0.085817   \n",
       "9   0009-005.png  Unet_resnet34_2classes         5           0.087464   \n",
       "10  0010-005.png  Unet_resnet34_2classes         5           0.073124   \n",
       "\n",
       "                                                                                image_path  \\\n",
       "0   /mnt/c/Users/dsege/TEMP/test_project/pooled_for_batch_processing_test_all/0000-003.png   \n",
       "1   /mnt/c/Users/dsege/TEMP/test_project/pooled_for_batch_processing_test_all/0001-003.png   \n",
       "2   /mnt/c/Users/dsege/TEMP/test_project/pooled_for_batch_processing_test_all/0002-003.png   \n",
       "3   /mnt/c/Users/dsege/TEMP/test_project/pooled_for_batch_processing_test_all/0003-004.png   \n",
       "4   /mnt/c/Users/dsege/TEMP/test_project/pooled_for_batch_processing_test_all/0004-004.png   \n",
       "5   /mnt/c/Users/dsege/TEMP/test_project/pooled_for_batch_processing_test_all/0005-004.png   \n",
       "6   /mnt/c/Users/dsege/TEMP/test_project/pooled_for_batch_processing_test_all/0006-004.png   \n",
       "7   /mnt/c/Users/dsege/TEMP/test_project/pooled_for_batch_processing_test_all/0007-004.png   \n",
       "8   /mnt/c/Users/dsege/TEMP/test_project/pooled_for_batch_processing_test_all/0008-004.png   \n",
       "9   /mnt/c/Users/dsege/TEMP/test_project/pooled_for_batch_processing_test_all/0009-005.png   \n",
       "10  /mnt/c/Users/dsege/TEMP/test_project/pooled_for_batch_processing_test_all/0010-005.png   \n",
       "\n",
       "                                                                softmax_path  \\\n",
       "0   /mnt/c/Users/dsege/TEMP/test_project/03_deepflash2/temp/smx/0000-003.png   \n",
       "1   /mnt/c/Users/dsege/TEMP/test_project/03_deepflash2/temp/smx/0001-003.png   \n",
       "2   /mnt/c/Users/dsege/TEMP/test_project/03_deepflash2/temp/smx/0002-003.png   \n",
       "3   /mnt/c/Users/dsege/TEMP/test_project/03_deepflash2/temp/smx/0003-004.png   \n",
       "4   /mnt/c/Users/dsege/TEMP/test_project/03_deepflash2/temp/smx/0004-004.png   \n",
       "5   /mnt/c/Users/dsege/TEMP/test_project/03_deepflash2/temp/smx/0005-004.png   \n",
       "6   /mnt/c/Users/dsege/TEMP/test_project/03_deepflash2/temp/smx/0006-004.png   \n",
       "7   /mnt/c/Users/dsege/TEMP/test_project/03_deepflash2/temp/smx/0007-004.png   \n",
       "8   /mnt/c/Users/dsege/TEMP/test_project/03_deepflash2/temp/smx/0008-004.png   \n",
       "9   /mnt/c/Users/dsege/TEMP/test_project/03_deepflash2/temp/smx/0009-005.png   \n",
       "10  /mnt/c/Users/dsege/TEMP/test_project/03_deepflash2/temp/smx/0010-005.png   \n",
       "\n",
       "                                                            uncertainty_path  \\\n",
       "0   /mnt/c/Users/dsege/TEMP/test_project/03_deepflash2/temp/std/0000-003.png   \n",
       "1   /mnt/c/Users/dsege/TEMP/test_project/03_deepflash2/temp/std/0001-003.png   \n",
       "2   /mnt/c/Users/dsege/TEMP/test_project/03_deepflash2/temp/std/0002-003.png   \n",
       "3   /mnt/c/Users/dsege/TEMP/test_project/03_deepflash2/temp/std/0003-004.png   \n",
       "4   /mnt/c/Users/dsege/TEMP/test_project/03_deepflash2/temp/std/0004-004.png   \n",
       "5   /mnt/c/Users/dsege/TEMP/test_project/03_deepflash2/temp/std/0005-004.png   \n",
       "6   /mnt/c/Users/dsege/TEMP/test_project/03_deepflash2/temp/std/0006-004.png   \n",
       "7   /mnt/c/Users/dsege/TEMP/test_project/03_deepflash2/temp/std/0007-004.png   \n",
       "8   /mnt/c/Users/dsege/TEMP/test_project/03_deepflash2/temp/std/0008-004.png   \n",
       "9   /mnt/c/Users/dsege/TEMP/test_project/03_deepflash2/temp/std/0009-005.png   \n",
       "10  /mnt/c/Users/dsege/TEMP/test_project/03_deepflash2/temp/std/0010-005.png   \n",
       "\n",
       "   energy_path  \n",
       "0         None  \n",
       "1         None  \n",
       "2         None  \n",
       "3         None  \n",
       "4         None  \n",
       "5         None  \n",
       "6         None  \n",
       "7         None  \n",
       "8         None  \n",
       "9         None  \n",
       "10        None  "
      ]
     },
     "execution_count": 7,
     "metadata": {},
     "output_type": "execute_result"
    }
   ],
   "source": [
    "ensemble_learner.get_ensemble_results(ensemble_learner.files, zarr_store = zarr_dir, export_dir = export_dir, use_tta = ensemble_learner.pred_tta)\n",
    "\n",
    "df_temp_pred_results = ensemble_learner.df_ens.copy()\n",
    "df_temp_pred_results"
   ]
  },
  {
   "cell_type": "markdown",
   "id": "64bf893f-8dd5-447d-97cd-cfe9a3eb43e5",
   "metadata": {},
   "source": [
    "Delete EnsembleLearner object that was used for binary segmentations from memory:"
   ]
  },
  {
   "cell_type": "code",
   "execution_count": 8,
   "id": "706ce15b-1866-4e02-887e-5f9175560672",
   "metadata": {},
   "outputs": [],
   "source": [
    "del ensemble_learner"
   ]
  },
  {
   "cell_type": "markdown",
   "id": "6fdcac62-f18f-4287-a9ef-a2886966dee7",
   "metadata": {},
   "source": [
    "### II) Run cellpose preds on individual images to avoid overflow of GPU memory:"
   ]
  },
  {
   "cell_type": "code",
   "execution_count": 9,
   "id": "67c31cb5-0bda-48e5-b1e7-74cdf796c337",
   "metadata": {},
   "outputs": [
    {
     "name": "stdout",
     "output_type": "stream",
     "text": [
      "2021-12-27 19:01:11,551 [INFO] WRITING LOG OUTPUT TO /home/ds/.cellpose/run.log\n"
     ]
    },
    {
     "data": {
      "text/plain": [
       "55"
      ]
     },
     "execution_count": 9,
     "metadata": {},
     "output_type": "execute_result"
    }
   ],
   "source": [
    "deepflash2_masks_dir = db.deepflash2_dir + 'masks/'\n",
    "\n",
    "mask_paths = [deepflash2_masks_dir + elem for elem in os.listdir(deepflash2_masks_dir)]\n",
    "\n",
    "masks_as_arrays = []\n",
    "\n",
    "for mask_as_image in mask_paths:\n",
    "    with Image.open(mask_as_image) as image:\n",
    "        masks_as_arrays.append(np.array(image))\n",
    "\n",
    "cellpose_diameter = get_diameters(masks_as_arrays)\n",
    "cellpose_diameter"
   ]
  },
  {
   "cell_type": "code",
   "execution_count": 10,
   "id": "68fc6714-40a7-416f-99ec-5a643b6ff72c",
   "metadata": {},
   "outputs": [
    {
     "name": "stdout",
     "output_type": "stream",
     "text": [
      "Found 5 models in folder /mnt/c/Users/dsege/TEMP/test_project/03_deepflash2/trained_models\n",
      "['Unet_resnet34_2classes-fold1.pth', 'Unet_resnet34_2classes-fold2.pth', 'Unet_resnet34_2classes-fold3.pth', 'Unet_resnet34_2classes-fold4.pth', 'Unet_resnet34_2classes-fold5.pth']\n",
      "Computing Stats...\n",
      "Using diameter of 55\n",
      "2021-12-27 19:02:40,459 [INFO] ** TORCH CUDA version installed and working. **\n",
      "2021-12-27 19:02:40,461 [INFO] >>>> using GPU\n",
      "2021-12-27 19:02:40,647 [INFO] ~~~ FINDING MASKS ~~~\n",
      "2021-12-27 19:03:24,793 [INFO] >>>> TOTAL TIME 44.14 sec\n",
      "Found 5 models in folder /mnt/c/Users/dsege/TEMP/test_project/03_deepflash2/trained_models\n",
      "['Unet_resnet34_2classes-fold1.pth', 'Unet_resnet34_2classes-fold2.pth', 'Unet_resnet34_2classes-fold3.pth', 'Unet_resnet34_2classes-fold4.pth', 'Unet_resnet34_2classes-fold5.pth']\n",
      "Computing Stats...\n",
      "Using diameter of 55\n",
      "2021-12-27 19:04:15,394 [INFO] ** TORCH CUDA version installed and working. **\n",
      "2021-12-27 19:04:15,395 [INFO] >>>> using GPU\n",
      "2021-12-27 19:04:15,521 [INFO] ~~~ FINDING MASKS ~~~\n",
      "2021-12-27 19:04:50,330 [INFO] >>>> TOTAL TIME 34.81 sec\n",
      "Found 5 models in folder /mnt/c/Users/dsege/TEMP/test_project/03_deepflash2/trained_models\n",
      "['Unet_resnet34_2classes-fold1.pth', 'Unet_resnet34_2classes-fold2.pth', 'Unet_resnet34_2classes-fold3.pth', 'Unet_resnet34_2classes-fold4.pth', 'Unet_resnet34_2classes-fold5.pth']\n",
      "Computing Stats...\n",
      "Using diameter of 55\n",
      "2021-12-27 19:05:36,437 [INFO] ** TORCH CUDA version installed and working. **\n",
      "2021-12-27 19:05:36,438 [INFO] >>>> using GPU\n",
      "2021-12-27 19:05:36,551 [INFO] ~~~ FINDING MASKS ~~~\n",
      "2021-12-27 19:06:12,455 [INFO] >>>> TOTAL TIME 35.90 sec\n",
      "Found 5 models in folder /mnt/c/Users/dsege/TEMP/test_project/03_deepflash2/trained_models\n",
      "['Unet_resnet34_2classes-fold1.pth', 'Unet_resnet34_2classes-fold2.pth', 'Unet_resnet34_2classes-fold3.pth', 'Unet_resnet34_2classes-fold4.pth', 'Unet_resnet34_2classes-fold5.pth']\n",
      "Computing Stats...\n",
      "Using diameter of 55\n",
      "2021-12-27 19:06:59,257 [INFO] ** TORCH CUDA version installed and working. **\n",
      "2021-12-27 19:06:59,263 [INFO] >>>> using GPU\n",
      "2021-12-27 19:06:59,398 [INFO] ~~~ FINDING MASKS ~~~\n",
      "2021-12-27 19:07:33,027 [INFO] >>>> TOTAL TIME 33.63 sec\n",
      "Found 5 models in folder /mnt/c/Users/dsege/TEMP/test_project/03_deepflash2/trained_models\n",
      "['Unet_resnet34_2classes-fold1.pth', 'Unet_resnet34_2classes-fold2.pth', 'Unet_resnet34_2classes-fold3.pth', 'Unet_resnet34_2classes-fold4.pth', 'Unet_resnet34_2classes-fold5.pth']\n",
      "Computing Stats...\n",
      "Using diameter of 55\n",
      "2021-12-27 19:08:21,963 [INFO] ** TORCH CUDA version installed and working. **\n",
      "2021-12-27 19:08:21,964 [INFO] >>>> using GPU\n",
      "2021-12-27 19:08:22,076 [INFO] ~~~ FINDING MASKS ~~~\n",
      "2021-12-27 19:08:55,182 [INFO] >>>> TOTAL TIME 33.11 sec\n",
      "Found 5 models in folder /mnt/c/Users/dsege/TEMP/test_project/03_deepflash2/trained_models\n",
      "['Unet_resnet34_2classes-fold1.pth', 'Unet_resnet34_2classes-fold2.pth', 'Unet_resnet34_2classes-fold3.pth', 'Unet_resnet34_2classes-fold4.pth', 'Unet_resnet34_2classes-fold5.pth']\n",
      "Computing Stats...\n",
      "Using diameter of 55\n",
      "2021-12-27 19:09:43,267 [INFO] ** TORCH CUDA version installed and working. **\n",
      "2021-12-27 19:09:43,268 [INFO] >>>> using GPU\n",
      "2021-12-27 19:09:43,401 [INFO] ~~~ FINDING MASKS ~~~\n",
      "2021-12-27 19:10:17,381 [INFO] >>>> TOTAL TIME 33.98 sec\n",
      "Found 5 models in folder /mnt/c/Users/dsege/TEMP/test_project/03_deepflash2/trained_models\n",
      "['Unet_resnet34_2classes-fold1.pth', 'Unet_resnet34_2classes-fold2.pth', 'Unet_resnet34_2classes-fold3.pth', 'Unet_resnet34_2classes-fold4.pth', 'Unet_resnet34_2classes-fold5.pth']\n",
      "Computing Stats...\n",
      "Using diameter of 55\n",
      "2021-12-27 19:11:05,686 [INFO] ** TORCH CUDA version installed and working. **\n",
      "2021-12-27 19:11:05,687 [INFO] >>>> using GPU\n",
      "2021-12-27 19:11:05,903 [INFO] ~~~ FINDING MASKS ~~~\n",
      "2021-12-27 19:11:41,416 [INFO] >>>> TOTAL TIME 35.51 sec\n",
      "Found 5 models in folder /mnt/c/Users/dsege/TEMP/test_project/03_deepflash2/trained_models\n",
      "['Unet_resnet34_2classes-fold1.pth', 'Unet_resnet34_2classes-fold2.pth', 'Unet_resnet34_2classes-fold3.pth', 'Unet_resnet34_2classes-fold4.pth', 'Unet_resnet34_2classes-fold5.pth']\n",
      "Computing Stats...\n",
      "Using diameter of 55\n",
      "2021-12-27 19:12:31,366 [INFO] ** TORCH CUDA version installed and working. **\n",
      "2021-12-27 19:12:31,367 [INFO] >>>> using GPU\n",
      "2021-12-27 19:12:31,514 [INFO] ~~~ FINDING MASKS ~~~\n",
      "2021-12-27 19:13:05,210 [INFO] >>>> TOTAL TIME 33.70 sec\n",
      "Found 5 models in folder /mnt/c/Users/dsege/TEMP/test_project/03_deepflash2/trained_models\n",
      "['Unet_resnet34_2classes-fold1.pth', 'Unet_resnet34_2classes-fold2.pth', 'Unet_resnet34_2classes-fold3.pth', 'Unet_resnet34_2classes-fold4.pth', 'Unet_resnet34_2classes-fold5.pth']\n",
      "Computing Stats...\n",
      "Using diameter of 55\n",
      "2021-12-27 19:13:52,355 [INFO] ** TORCH CUDA version installed and working. **\n",
      "2021-12-27 19:13:52,355 [INFO] >>>> using GPU\n",
      "2021-12-27 19:13:52,481 [INFO] ~~~ FINDING MASKS ~~~\n",
      "2021-12-27 19:14:24,949 [INFO] >>>> TOTAL TIME 32.47 sec\n",
      "Found 5 models in folder /mnt/c/Users/dsege/TEMP/test_project/03_deepflash2/trained_models\n",
      "['Unet_resnet34_2classes-fold1.pth', 'Unet_resnet34_2classes-fold2.pth', 'Unet_resnet34_2classes-fold3.pth', 'Unet_resnet34_2classes-fold4.pth', 'Unet_resnet34_2classes-fold5.pth']\n",
      "Computing Stats...\n",
      "Using diameter of 55\n",
      "2021-12-27 19:15:12,316 [INFO] ** TORCH CUDA version installed and working. **\n",
      "2021-12-27 19:15:12,317 [INFO] >>>> using GPU\n",
      "2021-12-27 19:15:12,437 [INFO] ~~~ FINDING MASKS ~~~\n",
      "2021-12-27 19:15:57,513 [INFO] >>>> TOTAL TIME 45.08 sec\n",
      "Found 5 models in folder /mnt/c/Users/dsege/TEMP/test_project/03_deepflash2/trained_models\n",
      "['Unet_resnet34_2classes-fold1.pth', 'Unet_resnet34_2classes-fold2.pth', 'Unet_resnet34_2classes-fold3.pth', 'Unet_resnet34_2classes-fold4.pth', 'Unet_resnet34_2classes-fold5.pth']\n",
      "Computing Stats...\n",
      "Using diameter of 55\n",
      "2021-12-27 19:16:43,811 [INFO] ** TORCH CUDA version installed and working. **\n",
      "2021-12-27 19:16:43,812 [INFO] >>>> using GPU\n",
      "2021-12-27 19:16:44,018 [INFO] ~~~ FINDING MASKS ~~~\n",
      "2021-12-27 19:17:18,400 [INFO] >>>> TOTAL TIME 34.38 sec\n"
     ]
    }
   ],
   "source": [
    "empty_cache()\n",
    "\n",
    "for row_id in range(df_temp_pred_results.shape[0]):\n",
    "    \n",
    "    ensemble_learner = learner.EnsembleLearner(image_dir = image_dir, ensemble_path = ensemble_path)\n",
    "    df_single_row = df_temp_pred_results.iloc[row_id].to_frame().T.reset_index(drop=True).copy()\n",
    "    ensemble_learner.df_ens = df_single_row\n",
    "    ensemble_learner.cellpose_diameter = cellpose_diameter\n",
    "    ensemble_learner.get_cellpose_results(export_dir = export_dir)\n",
    "    \n",
    "    del ensemble_learner\n",
    "    empty_cache()"
   ]
  },
  {
   "cell_type": "markdown",
   "id": "ab84c20a-3579-442c-b26e-e2f0cfa82886",
   "metadata": {},
   "source": [
    "## Remove all temp directories and files:\n",
    "\n",
    "**Optional: delete the zarr dirs in the systems tmp dir prior to cellpose predictions**"
   ]
  },
  {
   "cell_type": "code",
   "execution_count": 14,
   "id": "6a104204-16ee-4668-8293-84a093c6704f",
   "metadata": {},
   "outputs": [
    {
     "ename": "FileNotFoundError",
     "evalue": "[Errno 2] No such file or directory: '/mnt/c/Users/dsege/TEMP/test_project/03_deepflash2/temp'",
     "output_type": "error",
     "traceback": [
      "\u001b[0;31m---------------------------------------------------------------------------\u001b[0m",
      "\u001b[0;31mFileNotFoundError\u001b[0m                         Traceback (most recent call last)",
      "\u001b[0;32m/tmp/ipykernel_560/1437878341.py\u001b[0m in \u001b[0;36m<module>\u001b[0;34m\u001b[0m\n\u001b[1;32m      8\u001b[0m \u001b[0;34m\u001b[0m\u001b[0m\n\u001b[1;32m      9\u001b[0m \u001b[0;31m# Remove all zarr directories that were created in designated df2 temp directory:\u001b[0m\u001b[0;34m\u001b[0m\u001b[0;34m\u001b[0m\u001b[0;34m\u001b[0m\u001b[0m\n\u001b[0;32m---> 10\u001b[0;31m \u001b[0mshutil\u001b[0m\u001b[0;34m.\u001b[0m\u001b[0mrmtree\u001b[0m\u001b[0;34m(\u001b[0m\u001b[0mdb\u001b[0m\u001b[0;34m.\u001b[0m\u001b[0mdeepflash2_temp_dir\u001b[0m\u001b[0;34m[\u001b[0m\u001b[0;34m:\u001b[0m\u001b[0mdb\u001b[0m\u001b[0;34m.\u001b[0m\u001b[0mdeepflash2_temp_dir\u001b[0m\u001b[0;34m.\u001b[0m\u001b[0mrfind\u001b[0m\u001b[0;34m(\u001b[0m\u001b[0;34m'/'\u001b[0m\u001b[0;34m)\u001b[0m\u001b[0;34m]\u001b[0m\u001b[0;34m)\u001b[0m\u001b[0;34m\u001b[0m\u001b[0;34m\u001b[0m\u001b[0m\n\u001b[0m",
      "\u001b[0;32m~/anaconda3/envs/DCLwidgets_clone/lib/python3.7/shutil.py\u001b[0m in \u001b[0;36mrmtree\u001b[0;34m(path, ignore_errors, onerror)\u001b[0m\n\u001b[1;32m    483\u001b[0m             \u001b[0morig_st\u001b[0m \u001b[0;34m=\u001b[0m \u001b[0mos\u001b[0m\u001b[0;34m.\u001b[0m\u001b[0mlstat\u001b[0m\u001b[0;34m(\u001b[0m\u001b[0mpath\u001b[0m\u001b[0;34m)\u001b[0m\u001b[0;34m\u001b[0m\u001b[0;34m\u001b[0m\u001b[0m\n\u001b[1;32m    484\u001b[0m         \u001b[0;32mexcept\u001b[0m \u001b[0mException\u001b[0m\u001b[0;34m:\u001b[0m\u001b[0;34m\u001b[0m\u001b[0;34m\u001b[0m\u001b[0m\n\u001b[0;32m--> 485\u001b[0;31m             \u001b[0monerror\u001b[0m\u001b[0;34m(\u001b[0m\u001b[0mos\u001b[0m\u001b[0;34m.\u001b[0m\u001b[0mlstat\u001b[0m\u001b[0;34m,\u001b[0m \u001b[0mpath\u001b[0m\u001b[0;34m,\u001b[0m \u001b[0msys\u001b[0m\u001b[0;34m.\u001b[0m\u001b[0mexc_info\u001b[0m\u001b[0;34m(\u001b[0m\u001b[0;34m)\u001b[0m\u001b[0;34m)\u001b[0m\u001b[0;34m\u001b[0m\u001b[0;34m\u001b[0m\u001b[0m\n\u001b[0m\u001b[1;32m    486\u001b[0m             \u001b[0;32mreturn\u001b[0m\u001b[0;34m\u001b[0m\u001b[0;34m\u001b[0m\u001b[0m\n\u001b[1;32m    487\u001b[0m         \u001b[0;32mtry\u001b[0m\u001b[0;34m:\u001b[0m\u001b[0;34m\u001b[0m\u001b[0;34m\u001b[0m\u001b[0m\n",
      "\u001b[0;32m~/anaconda3/envs/DCLwidgets_clone/lib/python3.7/shutil.py\u001b[0m in \u001b[0;36mrmtree\u001b[0;34m(path, ignore_errors, onerror)\u001b[0m\n\u001b[1;32m    481\u001b[0m         \u001b[0;31m# lstat()/open()/fstat() trick.\u001b[0m\u001b[0;34m\u001b[0m\u001b[0;34m\u001b[0m\u001b[0;34m\u001b[0m\u001b[0m\n\u001b[1;32m    482\u001b[0m         \u001b[0;32mtry\u001b[0m\u001b[0;34m:\u001b[0m\u001b[0;34m\u001b[0m\u001b[0;34m\u001b[0m\u001b[0m\n\u001b[0;32m--> 483\u001b[0;31m             \u001b[0morig_st\u001b[0m \u001b[0;34m=\u001b[0m \u001b[0mos\u001b[0m\u001b[0;34m.\u001b[0m\u001b[0mlstat\u001b[0m\u001b[0;34m(\u001b[0m\u001b[0mpath\u001b[0m\u001b[0;34m)\u001b[0m\u001b[0;34m\u001b[0m\u001b[0;34m\u001b[0m\u001b[0m\n\u001b[0m\u001b[1;32m    484\u001b[0m         \u001b[0;32mexcept\u001b[0m \u001b[0mException\u001b[0m\u001b[0;34m:\u001b[0m\u001b[0;34m\u001b[0m\u001b[0;34m\u001b[0m\u001b[0m\n\u001b[1;32m    485\u001b[0m             \u001b[0monerror\u001b[0m\u001b[0;34m(\u001b[0m\u001b[0mos\u001b[0m\u001b[0;34m.\u001b[0m\u001b[0mlstat\u001b[0m\u001b[0;34m,\u001b[0m \u001b[0mpath\u001b[0m\u001b[0;34m,\u001b[0m \u001b[0msys\u001b[0m\u001b[0;34m.\u001b[0m\u001b[0mexc_info\u001b[0m\u001b[0;34m(\u001b[0m\u001b[0;34m)\u001b[0m\u001b[0;34m)\u001b[0m\u001b[0;34m\u001b[0m\u001b[0;34m\u001b[0m\u001b[0m\n",
      "\u001b[0;31mFileNotFoundError\u001b[0m: [Errno 2] No such file or directory: '/mnt/c/Users/dsege/TEMP/test_project/03_deepflash2/temp'"
     ]
    }
   ],
   "source": [
    "import shutil\n",
    "\n",
    "# Remove all zarr directories that were created in systems tmp directory:\n",
    "temp_zarr_subdirs = [elem for elem in os.listdir('/tmp/') if 'zarr' in elem]\n",
    "if len(temp_zarr_subdirs) > 0:\n",
    "    for subdirectory in temp_zarr_subdirs:\n",
    "        shutil.rmtree(f'/tmp/{subdirectory}/')\n",
    "    \n",
    "# Remove all zarr directories that were created in designated df2 temp directory:\n",
    "shutil.rmtree(db.deepflash2_temp_dir[:db.deepflash2_temp_dir.rfind('/')])"
   ]
  }
 ],
 "metadata": {
  "kernelspec": {
   "display_name": "Python 3 (ipykernel)",
   "language": "python",
   "name": "python3"
  },
  "language_info": {
   "codemirror_mode": {
    "name": "ipython",
    "version": 3
   },
   "file_extension": ".py",
   "mimetype": "text/x-python",
   "name": "python",
   "nbconvert_exporter": "python",
   "pygments_lexer": "ipython3",
   "version": "3.7.12"
  }
 },
 "nbformat": 4,
 "nbformat_minor": 5
}
