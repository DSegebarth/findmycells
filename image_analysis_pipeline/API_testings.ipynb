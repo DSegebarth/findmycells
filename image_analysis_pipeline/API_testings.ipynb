{
 "cells": [
  {
   "cell_type": "markdown",
   "id": "6a9b9b86-1acf-4442-ad48-d7263016dbfb",
   "metadata": {},
   "source": [
    "# **API testing environment**"
   ]
  },
  {
   "cell_type": "markdown",
   "id": "a102a1a4-ba86-4102-bc41-7d2233c5c32c",
   "metadata": {},
   "source": [
    "## 1) Preparation related functions:"
   ]
  },
  {
   "cell_type": "markdown",
   "id": "c2e9ea73-42ff-4d0e-a68f-17fd89b06bca",
   "metadata": {},
   "source": [
    "*findmycells* offers some functions that might be useful in preparing the input for the *findmycells* `Project`"
   ]
  },
  {
   "cell_type": "markdown",
   "id": "1e40626c-ed89-43fb-b330-058ab02da6e9",
   "metadata": {},
   "source": [
    "### a) Create excel files for Image Loader\n",
    "\n",
    "This function can be used if images of individual planes are to be used, rather than the original zstack"
   ]
  },
  {
   "cell_type": "code",
   "execution_count": 2,
   "id": "3913d1aa-103a-4d68-adbf-599f18f32cad",
   "metadata": {},
   "outputs": [],
   "source": [
    "from pathlib import Path\n",
    "from findmycells.main import Preparations\n",
    "\n",
    "root_dir = Path('/mnt/d/new_analysis_data_set_EV_A53T/Mosaik_images_for_training_and_analyis/analysis/')\n",
    "destination_dir = Path('/mnt/c/Users/dsege/TEMP/Grotemeyer/02_all_new_scanner_fmc/')\n",
    "\n",
    "preparations = Preparations()\n",
    "preparations.create_excel_files_for_image_loader(root = root_dir, destination = destination_dir, batch_processing = True) \n",
    "#batch_procssing is True by default"
   ]
  },
  {
   "cell_type": "code",
   "execution_count": null,
   "id": "c082bf12-5edb-48e3-a59c-6445e5284547",
   "metadata": {},
   "outputs": [],
   "source": []
  },
  {
   "cell_type": "markdown",
   "id": "e819ca57-87ca-468c-929b-a8d10f632ce5",
   "metadata": {},
   "source": [
    "## 2) Project related functions:\n",
    "\n",
    "These are the main functions of the *findmycells* package and comprise a modular set of functions related to:\n",
    "\n",
    "    a) Working with the project database\n",
    "    b) Preprocessing of the images (and respective ROIs)\n",
    "    c) Segmentation of the relevant image features\n",
    "    d) Quantification of the segmented image features\n",
    "    e) ..."
   ]
  },
  {
   "cell_type": "code",
   "execution_count": 1,
   "id": "c2751b35-151c-498a-a2cd-f9e9409bc2cc",
   "metadata": {},
   "outputs": [],
   "source": [
    "from pathlib import Path\n",
    "from findmycells.main import Project"
   ]
  },
  {
   "cell_type": "code",
   "execution_count": 2,
   "id": "ae41b06f-43c3-420f-90c6-267bbebdc3d5",
   "metadata": {},
   "outputs": [],
   "source": [
    "from findmycells.preprocessing import CropStitchingArtefactsRGB, ConvertTo8Bit, MaximumIntensityProjection, MinimumIntensityProjection, CropToROIsBoundingBox, AdjustBrightnessAndContrast\n",
    "from findmycells.segmentation import Deepflash2SemanticSegmentation, LosslessConversionOfDF2SemanticSegToInstanceSegWithCP\n",
    "from findmycells.quantifications import ReconstructCellsIn3DFrom2DInstanceLabels, ApplyExclusionCriteria, CountFeaturesInWholeAreaROIs\n",
    "from findmycells.inspection import InspectReconstructedCells2D"
   ]
  },
  {
   "cell_type": "code",
   "execution_count": 3,
   "id": "f27a7dfe-365d-4bef-9ddf-d7439f4c194b",
   "metadata": {},
   "outputs": [],
   "source": [
    "project_root_dir = Path('/mnt/c/Users/dsege/TEMP/findmycells_projects/decouple_df2_and_cp/')"
   ]
  },
  {
   "cell_type": "code",
   "execution_count": 2,
   "id": "9139a38d-3e72-4c01-b9d4-78e655ad94ae",
   "metadata": {},
   "outputs": [],
   "source": [
    "segmentation_configs = {'cellpose': {'model_type': 'nuclei', #one of: 'cyto', 'cyto2', or 'nuclei'\n",
    "                                     'net_avg': True}}"
   ]
  },
  {
   "cell_type": "code",
   "execution_count": 3,
   "id": "818ab3b6-30a7-4ac0-a96b-54de747d6912",
   "metadata": {},
   "outputs": [
    {
     "name": "stdout",
     "output_type": "stream",
     "text": [
      "model_type\n",
      "net_avg\n"
     ]
    }
   ],
   "source": [
    "for key, value in segmentation_configs['cellpose'].items():\n",
    "    print(key)"
   ]
  },
  {
   "cell_type": "code",
   "execution_count": 4,
   "id": "2902b1bc-12e4-42d4-b240-8e680ca12509",
   "metadata": {},
   "outputs": [],
   "source": [
    "quantification_configs = {'segmentations_to_use': 'instance',\n",
    "                          'postprocessing_strategies': [ReconstructCellsIn3DFrom2DInstanceLabels, ApplyExclusionCriteria],\n",
    "                          'quantification_strategies': [CountFeaturesInWholeAreaROIs]}"
   ]
  },
  {
   "cell_type": "code",
   "execution_count": 5,
   "id": "ea8219be-a412-4e87-adc3-ebab1ed15215",
   "metadata": {},
   "outputs": [],
   "source": [
    "user_input_via_gui = {'project_root_dir': project_root_dir, \n",
    "                      'preprocessing_strategies': [ConvertTo8Bit, CropToROIsBoundingBox, CropStitchingArtefactsRGB], \n",
    "                      'segmentation_strategies': [Deepflash2SemanticSegmentation, LosslessConversionOfDF2SemanticSegToInstanceSegWithCP], \n",
    "                      'segmentation_configs': segmentation_configs,\n",
    "                      'quantification_configs': quantification_configs,\n",
    "                      'inspection_strategies': [InspectReconstructedCells2D],\n",
    "                      'clear_temp_zarrs_from_sys_tmp': True}"
   ]
  },
  {
   "cell_type": "code",
   "execution_count": 6,
   "id": "7d233f51-060e-4004-81dd-b124208883b2",
   "metadata": {},
   "outputs": [],
   "source": [
    "refactored_project = Project(user_input_via_gui)"
   ]
  },
  {
   "cell_type": "code",
   "execution_count": 7,
   "id": "cb174df4-ad06-4c6e-a14c-6ebd27c0728a",
   "metadata": {},
   "outputs": [],
   "source": [
    "refactored_project.preprocess()"
   ]
  },
  {
   "cell_type": "code",
   "execution_count": 8,
   "id": "81ee1ba2-1d16-4c85-b91d-481b2abf77e4",
   "metadata": {},
   "outputs": [
    {
     "name": "stdout",
     "output_type": "stream",
     "text": [
      "Warning: preprocessing_step_00 not yet specified in renaming dictionary\n",
      "Warning: preprocessing_step_01 not yet specified in renaming dictionary\n",
      "Warning: preprocessing_step_02 not yet specified in renaming dictionary\n",
      "Warning: total_planes not yet specified in renaming dictionary\n"
     ]
    }
   ],
   "source": [
    "refactored_project.save_status()"
   ]
  },
  {
   "cell_type": "code",
   "execution_count": 9,
   "id": "13db9a8f-3eca-4971-9a43-bc6644869d37",
   "metadata": {},
   "outputs": [
    {
     "name": "stdout",
     "output_type": "stream",
     "text": [
      "Found 3 models in folder /mnt/c/Users/dsege/TEMP/findmycells_projects/decouple_df2_and_cp/03_segmentation_tool/trained_models\n",
      "['Unet_resnet34_2classes-fold1.pth', 'Unet_resnet34_2classes-fold3.pth', 'Unet_resnet34_2classes-fold5.pth']\n",
      "Computing Stats...\n",
      "Found 3 models in folder /mnt/c/Users/dsege/TEMP/findmycells_projects/decouple_df2_and_cp/03_segmentation_tool/trained_models\n",
      "['Unet_resnet34_2classes-fold1.pth', 'Unet_resnet34_2classes-fold3.pth', 'Unet_resnet34_2classes-fold5.pth']\n"
     ]
    },
    {
     "data": {
      "text/html": [],
      "text/plain": [
       "<IPython.core.display.HTML object>"
      ]
     },
     "metadata": {},
     "output_type": "display_data"
    },
    {
     "name": "stdout",
     "output_type": "stream",
     "text": [
      "Predicting 0000-000.png\n"
     ]
    },
    {
     "data": {
      "text/html": [],
      "text/plain": [
       "<IPython.core.display.HTML object>"
      ]
     },
     "metadata": {},
     "output_type": "display_data"
    },
    {
     "name": "stdout",
     "output_type": "stream",
     "text": [
      "Predicting 0000-001.png\n"
     ]
    },
    {
     "data": {
      "text/html": [],
      "text/plain": [
       "<IPython.core.display.HTML object>"
      ]
     },
     "metadata": {},
     "output_type": "display_data"
    },
    {
     "name": "stdout",
     "output_type": "stream",
     "text": [
      "Predicting 0000-002.png\n"
     ]
    },
    {
     "data": {
      "text/html": [],
      "text/plain": [
       "<IPython.core.display.HTML object>"
      ]
     },
     "metadata": {},
     "output_type": "display_data"
    },
    {
     "name": "stdout",
     "output_type": "stream",
     "text": [
      "Predicting 0000-003.png\n"
     ]
    },
    {
     "data": {
      "text/html": [],
      "text/plain": [
       "<IPython.core.display.HTML object>"
      ]
     },
     "metadata": {},
     "output_type": "display_data"
    },
    {
     "name": "stdout",
     "output_type": "stream",
     "text": [
      "Predicting 0000-004.png\n"
     ]
    },
    {
     "data": {
      "text/html": [],
      "text/plain": [
       "<IPython.core.display.HTML object>"
      ]
     },
     "metadata": {},
     "output_type": "display_data"
    },
    {
     "name": "stdout",
     "output_type": "stream",
     "text": [
      "Predicting 0000-005.png\n"
     ]
    },
    {
     "data": {
      "text/html": [],
      "text/plain": [
       "<IPython.core.display.HTML object>"
      ]
     },
     "metadata": {},
     "output_type": "display_data"
    },
    {
     "name": "stdout",
     "output_type": "stream",
     "text": [
      "Predicting 0000-006.png\n"
     ]
    },
    {
     "data": {
      "text/html": [],
      "text/plain": [
       "<IPython.core.display.HTML object>"
      ]
     },
     "metadata": {},
     "output_type": "display_data"
    },
    {
     "name": "stdout",
     "output_type": "stream",
     "text": [
      "Predicting 0000-007.png\n"
     ]
    },
    {
     "data": {
      "text/html": [],
      "text/plain": [
       "<IPython.core.display.HTML object>"
      ]
     },
     "metadata": {},
     "output_type": "display_data"
    },
    {
     "name": "stdout",
     "output_type": "stream",
     "text": [
      "2022-04-12 12:07:02,683 [INFO] WRITING LOG OUTPUT TO /home/ds/.cellpose/run.log\n",
      "Found 3 models in folder /mnt/c/Users/dsege/TEMP/findmycells_projects/decouple_df2_and_cp/03_segmentation_tool/trained_models\n",
      "['Unet_resnet34_2classes-fold1.pth', 'Unet_resnet34_2classes-fold3.pth', 'Unet_resnet34_2classes-fold5.pth']\n",
      "Using diameter of 50\n",
      "2022-04-12 12:07:07,952 [INFO] ** TORCH CUDA version installed and working. **\n",
      "2022-04-12 12:07:07,953 [INFO] >>>> using GPU\n",
      "2022-04-12 12:07:08,085 [INFO] ~~~ FINDING MASKS ~~~\n",
      "2022-04-12 12:07:35,711 [INFO] >>>> TOTAL TIME 27.63 sec\n",
      "Found 3 models in folder /mnt/c/Users/dsege/TEMP/findmycells_projects/decouple_df2_and_cp/03_segmentation_tool/trained_models\n",
      "['Unet_resnet34_2classes-fold1.pth', 'Unet_resnet34_2classes-fold3.pth', 'Unet_resnet34_2classes-fold5.pth']\n",
      "Using diameter of 50\n",
      "2022-04-12 12:07:39,344 [INFO] ** TORCH CUDA version installed and working. **\n",
      "2022-04-12 12:07:39,345 [INFO] >>>> using GPU\n",
      "2022-04-12 12:07:39,462 [INFO] ~~~ FINDING MASKS ~~~\n",
      "2022-04-12 12:07:59,701 [INFO] >>>> TOTAL TIME 20.24 sec\n",
      "Found 3 models in folder /mnt/c/Users/dsege/TEMP/findmycells_projects/decouple_df2_and_cp/03_segmentation_tool/trained_models\n",
      "['Unet_resnet34_2classes-fold1.pth', 'Unet_resnet34_2classes-fold3.pth', 'Unet_resnet34_2classes-fold5.pth']\n",
      "Using diameter of 50\n",
      "2022-04-12 12:08:03,157 [INFO] ** TORCH CUDA version installed and working. **\n",
      "2022-04-12 12:08:03,157 [INFO] >>>> using GPU\n",
      "2022-04-12 12:08:03,264 [INFO] ~~~ FINDING MASKS ~~~\n",
      "2022-04-12 12:08:23,715 [INFO] >>>> TOTAL TIME 20.45 sec\n",
      "Found 3 models in folder /mnt/c/Users/dsege/TEMP/findmycells_projects/decouple_df2_and_cp/03_segmentation_tool/trained_models\n",
      "['Unet_resnet34_2classes-fold1.pth', 'Unet_resnet34_2classes-fold3.pth', 'Unet_resnet34_2classes-fold5.pth']\n",
      "Using diameter of 50\n",
      "2022-04-12 12:08:27,239 [INFO] ** TORCH CUDA version installed and working. **\n",
      "2022-04-12 12:08:27,240 [INFO] >>>> using GPU\n",
      "2022-04-12 12:08:27,350 [INFO] ~~~ FINDING MASKS ~~~\n",
      "2022-04-12 12:08:48,662 [INFO] >>>> TOTAL TIME 21.31 sec\n",
      "Found 3 models in folder /mnt/c/Users/dsege/TEMP/findmycells_projects/decouple_df2_and_cp/03_segmentation_tool/trained_models\n",
      "['Unet_resnet34_2classes-fold1.pth', 'Unet_resnet34_2classes-fold3.pth', 'Unet_resnet34_2classes-fold5.pth']\n",
      "Using diameter of 50\n",
      "2022-04-12 12:08:52,221 [INFO] ** TORCH CUDA version installed and working. **\n",
      "2022-04-12 12:08:52,222 [INFO] >>>> using GPU\n",
      "2022-04-12 12:08:52,331 [INFO] ~~~ FINDING MASKS ~~~\n",
      "2022-04-12 12:09:14,509 [INFO] >>>> TOTAL TIME 22.18 sec\n",
      "Found 3 models in folder /mnt/c/Users/dsege/TEMP/findmycells_projects/decouple_df2_and_cp/03_segmentation_tool/trained_models\n",
      "['Unet_resnet34_2classes-fold1.pth', 'Unet_resnet34_2classes-fold3.pth', 'Unet_resnet34_2classes-fold5.pth']\n",
      "Using diameter of 50\n",
      "2022-04-12 12:09:19,837 [INFO] ** TORCH CUDA version installed and working. **\n",
      "2022-04-12 12:09:19,837 [INFO] >>>> using GPU\n",
      "2022-04-12 12:09:19,955 [INFO] ~~~ FINDING MASKS ~~~\n",
      "2022-04-12 12:09:40,985 [INFO] >>>> TOTAL TIME 21.03 sec\n",
      "Found 3 models in folder /mnt/c/Users/dsege/TEMP/findmycells_projects/decouple_df2_and_cp/03_segmentation_tool/trained_models\n",
      "['Unet_resnet34_2classes-fold1.pth', 'Unet_resnet34_2classes-fold3.pth', 'Unet_resnet34_2classes-fold5.pth']\n",
      "Using diameter of 50\n",
      "2022-04-12 12:09:45,671 [INFO] ** TORCH CUDA version installed and working. **\n",
      "2022-04-12 12:09:45,672 [INFO] >>>> using GPU\n",
      "2022-04-12 12:09:45,788 [INFO] ~~~ FINDING MASKS ~~~\n",
      "2022-04-12 12:10:07,997 [INFO] >>>> TOTAL TIME 22.21 sec\n",
      "Found 3 models in folder /mnt/c/Users/dsege/TEMP/findmycells_projects/decouple_df2_and_cp/03_segmentation_tool/trained_models\n",
      "['Unet_resnet34_2classes-fold1.pth', 'Unet_resnet34_2classes-fold3.pth', 'Unet_resnet34_2classes-fold5.pth']\n",
      "Using diameter of 50\n",
      "2022-04-12 12:10:12,635 [INFO] ** TORCH CUDA version installed and working. **\n",
      "2022-04-12 12:10:12,636 [INFO] >>>> using GPU\n",
      "2022-04-12 12:10:12,768 [INFO] ~~~ FINDING MASKS ~~~\n",
      "2022-04-12 12:10:32,982 [INFO] >>>> TOTAL TIME 20.21 sec\n"
     ]
    }
   ],
   "source": [
    "refactored_project.segment()"
   ]
  },
  {
   "cell_type": "code",
   "execution_count": null,
   "id": "d1356511-580b-44c8-bcc1-f15438ef85af",
   "metadata": {},
   "outputs": [],
   "source": []
  },
  {
   "cell_type": "code",
   "execution_count": 7,
   "id": "db32cf08-9913-4225-a438-9b4302e473a7",
   "metadata": {},
   "outputs": [],
   "source": [
    "refactored_project.load_status()"
   ]
  },
  {
   "cell_type": "code",
   "execution_count": 8,
   "id": "f276d41e-e92e-4890-aee3-172f2533795e",
   "metadata": {},
   "outputs": [
    {
     "data": {
      "text/plain": [
       "{'CountFeaturesInWholeAreaROIs': {'0000': {'SN': 49, 'VTA': 20},\n",
       "  '0001': {'SN': 12, 'VTA': 1},\n",
       "  '0002': {'SN': 42, 'VTA': 2},\n",
       "  '0003': {'SN': 76, 'VTA': 2}}}"
      ]
     },
     "execution_count": 8,
     "metadata": {},
     "output_type": "execute_result"
    }
   ],
   "source": [
    "refactored_project.database.quantification_results"
   ]
  },
  {
   "cell_type": "code",
   "execution_count": null,
   "id": "538691f1-d4ea-409c-bb10-bcfc54c2d811",
   "metadata": {},
   "outputs": [],
   "source": []
  },
  {
   "cell_type": "code",
   "execution_count": null,
   "id": "9477e5ef-f4b1-4b1e-adfc-b1099d65157c",
   "metadata": {},
   "outputs": [],
   "source": [
    "project_root_dir = '/mnt/c/Users/dsege/TEMP/findmycells_projects/TH_in_SN/'\n",
    "\n",
    "user_input_via_gui = {'project_root_dir': project_root_dir,\n",
    "                      }"
   ]
  },
  {
   "cell_type": "code",
   "execution_count": 3,
   "id": "881f0711-57a6-4e26-a6a4-6347d4591a57",
   "metadata": {},
   "outputs": [],
   "source": [
    "def defaults(hund: str, katze: str):\n",
    "    print(hund, katze)"
   ]
  },
  {
   "cell_type": "code",
   "execution_count": 3,
   "id": "c21b4d69-4c80-405b-b840-c1e143ea5759",
   "metadata": {},
   "outputs": [],
   "source": [
    "hund = [[1, 2], [2, 3]]\n",
    "\n",
    "if hund == None:\n",
    "    print('ja')"
   ]
  },
  {
   "cell_type": "markdown",
   "id": "e3cce915-b902-44dc-a19d-b8f84bc9cbf7",
   "metadata": {},
   "source": [
    "# **Test after major refactoring**"
   ]
  },
  {
   "cell_type": "code",
   "execution_count": 13,
   "id": "6af93f67-d6d9-4e3e-bf8c-b061cc19c6b3",
   "metadata": {
    "tags": []
   },
   "outputs": [],
   "source": [
    "from pathlib import Path\n",
    "from findmycells.main import Project\n",
    "\n",
    "from findmycells.preprocessing import CropStitchingArtefactsRGB, ConvertTo8Bit, MaximumIntensityProjection, MinimumIntensityProjection, CropToROIsBoundingBox, AdjustBrightnessAndContrast\n",
    "from findmycells.segmentation import Deepflash2SemanticSegmentation, LosslessConversionOfDF2SemanticSegToInstanceSegWithCP\n",
    "from findmycells.postprocessing import ReconstructCellsIn3DFrom2DInstanceLabels, ApplyExclusionCriteria\n",
    "from findmycells.quantifications import CountFeaturesInWholeAreaROIs"
   ]
  },
  {
   "cell_type": "code",
   "execution_count": 14,
   "id": "0b2a73c5-37ae-46b4-a09c-1d98d2c8b9b7",
   "metadata": {},
   "outputs": [],
   "source": [
    "project_root_dir = Path('/mnt/c/Users/dsege/TEMP/findmycells_projects/for_debugging/')\n",
    "\n",
    "segmentation_configs = {'cellpose': {'model_type': 'nuclei', #one of: 'cyto', 'cyto2', or 'nuclei'\n",
    "                                     'net_avg': True}}"
   ]
  },
  {
   "cell_type": "code",
   "execution_count": 15,
   "id": "f058ad3c-646b-41e9-8be4-2dbe7525e553",
   "metadata": {},
   "outputs": [],
   "source": [
    "user_input_via_gui = {'project_root_dir': project_root_dir,  \n",
    "                      'segmentation_configs': segmentation_configs,\n",
    "                      #'quantification_configs': quantification_configs,\n",
    "                      'clear_temp_zarrs_from_sys_tmp': True}"
   ]
  },
  {
   "cell_type": "code",
   "execution_count": 16,
   "id": "c23a7174-54d6-49c2-b0d6-114176e2d4a6",
   "metadata": {},
   "outputs": [],
   "source": [
    "refactored_project = Project(user_input_via_gui)"
   ]
  },
  {
   "cell_type": "code",
   "execution_count": 17,
   "id": "d9fbb14d-c8d9-4383-8e23-247846009108",
   "metadata": {},
   "outputs": [],
   "source": [
    "refactored_project.load_status()"
   ]
  },
  {
   "cell_type": "code",
   "execution_count": 6,
   "id": "cb3c24dc-c0a0-4717-b8e0-4e6eb22b1f6e",
   "metadata": {},
   "outputs": [],
   "source": [
    "refactored_project.preprocess(strategies = [CropToROIsBoundingBox, CropStitchingArtefactsRGB, ConvertTo8Bit])"
   ]
  },
  {
   "cell_type": "code",
   "execution_count": null,
   "id": "d511d672-ff16-4535-81c5-2682ec296adc",
   "metadata": {},
   "outputs": [
    {
     "name": "stdout",
     "output_type": "stream",
     "text": [
      "Found 5 models in folder /mnt/c/Users/dsege/TEMP/findmycells_projects/for_debugging/03_segmentation_tool/trained_models\n",
      "['Unet_resnet34_2classes-fold1.pth', 'Unet_resnet34_2classes-fold2.pth', 'Unet_resnet34_2classes-fold3.pth', 'Unet_resnet34_2classes-fold4.pth', 'Unet_resnet34_2classes-fold5.pth']\n"
     ]
    }
   ],
   "source": [
    "refactored_project.segment(strategies = [Deepflash2SemanticSegmentation],\n",
    "                          batch_size = 5, overwrite = True)"
   ]
  },
  {
   "cell_type": "code",
   "execution_count": 15,
   "id": "04a46869-c2d3-4557-b88d-a991e63d6081",
   "metadata": {},
   "outputs": [],
   "source": [
    "hund = [1, 2, 3, 4]\n",
    "\n",
    "katze = hund"
   ]
  },
  {
   "cell_type": "code",
   "execution_count": 16,
   "id": "29b2aea4-4a8b-4cc2-8a0a-72f7e06311a2",
   "metadata": {},
   "outputs": [],
   "source": [
    "hund.remove(3)"
   ]
  },
  {
   "cell_type": "code",
   "execution_count": 17,
   "id": "76fae131-e0f9-419c-a862-e8a8922e0e55",
   "metadata": {},
   "outputs": [
    {
     "data": {
      "text/plain": [
       "[1, 2, 4]"
      ]
     },
     "execution_count": 17,
     "metadata": {},
     "output_type": "execute_result"
    }
   ],
   "source": [
    "katze"
   ]
  },
  {
   "cell_type": "code",
   "execution_count": 7,
   "id": "aa05b0e5-8041-429f-b906-5a86165a5e06",
   "metadata": {},
   "outputs": [
    {
     "name": "stdout",
     "output_type": "stream",
     "text": [
      "starting with strategy of index 0\n",
      "starting with processing of the following file ids: ['0001', '0000']\n",
      "Using cellpose with a diameter of: 59.37929474347361\n",
      "2022-04-19 15:04:04,497 [INFO] WRITING LOG OUTPUT TO /home/ds/.cellpose/run.log\n",
      "2022-04-19 15:04:08,371 [INFO] ** TORCH CUDA version installed and working. **\n",
      "2022-04-19 15:04:08,371 [INFO] >>>> using GPU\n",
      "2022-04-19 15:04:08,457 [INFO] ~~~ FINDING MASKS ~~~\n",
      "2022-04-19 15:04:11,105 [INFO] >>>> TOTAL TIME 2.65 sec\n",
      "2022-04-19 15:04:13,111 [INFO] ** TORCH CUDA version installed and working. **\n",
      "2022-04-19 15:04:13,114 [INFO] >>>> using GPU\n",
      "2022-04-19 15:04:13,194 [INFO] ~~~ FINDING MASKS ~~~\n",
      "2022-04-19 15:04:15,536 [INFO] >>>> TOTAL TIME 2.34 sec\n",
      "2022-04-19 15:04:17,912 [INFO] ** TORCH CUDA version installed and working. **\n",
      "2022-04-19 15:04:17,913 [INFO] >>>> using GPU\n",
      "2022-04-19 15:04:17,980 [INFO] ~~~ FINDING MASKS ~~~\n",
      "2022-04-19 15:04:20,351 [INFO] >>>> TOTAL TIME 2.37 sec\n",
      "2022-04-19 15:04:22,610 [INFO] ** TORCH CUDA version installed and working. **\n",
      "2022-04-19 15:04:22,610 [INFO] >>>> using GPU\n",
      "2022-04-19 15:04:22,681 [INFO] ~~~ FINDING MASKS ~~~\n",
      "2022-04-19 15:04:25,054 [INFO] >>>> TOTAL TIME 2.37 sec\n",
      "2022-04-19 15:04:27,118 [INFO] ** TORCH CUDA version installed and working. **\n",
      "2022-04-19 15:04:27,119 [INFO] >>>> using GPU\n",
      "2022-04-19 15:04:27,184 [INFO] ~~~ FINDING MASKS ~~~\n",
      "2022-04-19 15:04:29,851 [INFO] >>>> TOTAL TIME 2.67 sec\n",
      "2022-04-19 15:04:31,496 [INFO] ** TORCH CUDA version installed and working. **\n",
      "2022-04-19 15:04:31,497 [INFO] >>>> using GPU\n",
      "2022-04-19 15:04:31,570 [INFO] ~~~ FINDING MASKS ~~~\n",
      "2022-04-19 15:04:33,933 [INFO] >>>> TOTAL TIME 2.36 sec\n",
      "2022-04-19 15:04:35,953 [INFO] ** TORCH CUDA version installed and working. **\n",
      "2022-04-19 15:04:35,953 [INFO] >>>> using GPU\n",
      "2022-04-19 15:04:36,033 [INFO] ~~~ FINDING MASKS ~~~\n",
      "2022-04-19 15:04:38,408 [INFO] >>>> TOTAL TIME 2.37 sec\n",
      "2022-04-19 15:04:39,639 [INFO] ** TORCH CUDA version installed and working. **\n",
      "2022-04-19 15:04:39,640 [INFO] >>>> using GPU\n",
      "2022-04-19 15:04:39,706 [INFO] ~~~ FINDING MASKS ~~~\n",
      "2022-04-19 15:04:41,878 [INFO] >>>> TOTAL TIME 2.17 sec\n",
      "2022-04-19 15:04:43,212 [INFO] ** TORCH CUDA version installed and working. **\n",
      "2022-04-19 15:04:43,213 [INFO] >>>> using GPU\n",
      "2022-04-19 15:04:43,283 [INFO] ~~~ FINDING MASKS ~~~\n",
      "2022-04-19 15:04:45,528 [INFO] >>>> TOTAL TIME 2.24 sec\n",
      "2022-04-19 15:04:46,317 [INFO] ** TORCH CUDA version installed and working. **\n",
      "2022-04-19 15:04:46,318 [INFO] >>>> using GPU\n",
      "2022-04-19 15:04:46,387 [INFO] ~~~ FINDING MASKS ~~~\n",
      "2022-04-19 15:04:48,657 [INFO] >>>> TOTAL TIME 2.27 sec\n",
      "2022-04-19 15:04:50,517 [INFO] ** TORCH CUDA version installed and working. **\n",
      "2022-04-19 15:04:50,519 [INFO] >>>> using GPU\n",
      "2022-04-19 15:04:50,604 [INFO] ~~~ FINDING MASKS ~~~\n",
      "2022-04-19 15:04:52,915 [INFO] >>>> TOTAL TIME 2.31 sec\n",
      "2022-04-19 15:04:54,785 [INFO] ** TORCH CUDA version installed and working. **\n",
      "2022-04-19 15:04:54,786 [INFO] >>>> using GPU\n",
      "2022-04-19 15:04:54,862 [INFO] ~~~ FINDING MASKS ~~~\n",
      "2022-04-19 15:04:57,243 [INFO] >>>> TOTAL TIME 2.38 sec\n",
      "2022-04-19 15:04:59,565 [INFO] ** TORCH CUDA version installed and working. **\n",
      "2022-04-19 15:04:59,565 [INFO] >>>> using GPU\n",
      "2022-04-19 15:04:59,651 [INFO] ~~~ FINDING MASKS ~~~\n",
      "2022-04-19 15:05:01,985 [INFO] >>>> TOTAL TIME 2.33 sec\n",
      "2022-04-19 15:05:03,981 [INFO] ** TORCH CUDA version installed and working. **\n",
      "2022-04-19 15:05:03,982 [INFO] >>>> using GPU\n",
      "2022-04-19 15:05:04,054 [INFO] ~~~ FINDING MASKS ~~~\n",
      "2022-04-19 15:05:06,427 [INFO] >>>> TOTAL TIME 2.37 sec\n",
      "2022-04-19 15:05:08,480 [INFO] ** TORCH CUDA version installed and working. **\n",
      "2022-04-19 15:05:08,481 [INFO] >>>> using GPU\n",
      "2022-04-19 15:05:08,548 [INFO] ~~~ FINDING MASKS ~~~\n",
      "2022-04-19 15:05:10,982 [INFO] >>>> TOTAL TIME 2.43 sec\n",
      "2022-04-19 15:05:12,579 [INFO] ** TORCH CUDA version installed and working. **\n",
      "2022-04-19 15:05:12,580 [INFO] >>>> using GPU\n",
      "2022-04-19 15:05:12,651 [INFO] ~~~ FINDING MASKS ~~~\n",
      "2022-04-19 15:05:15,049 [INFO] >>>> TOTAL TIME 2.40 sec\n",
      "2022-04-19 15:05:16,853 [INFO] ** TORCH CUDA version installed and working. **\n",
      "2022-04-19 15:05:16,854 [INFO] >>>> using GPU\n",
      "2022-04-19 15:05:16,922 [INFO] ~~~ FINDING MASKS ~~~\n",
      "2022-04-19 15:05:19,247 [INFO] >>>> TOTAL TIME 2.33 sec\n",
      "2022-04-19 15:05:20,443 [INFO] ** TORCH CUDA version installed and working. **\n",
      "2022-04-19 15:05:20,444 [INFO] >>>> using GPU\n",
      "2022-04-19 15:05:20,519 [INFO] ~~~ FINDING MASKS ~~~\n",
      "2022-04-19 15:05:22,767 [INFO] >>>> TOTAL TIME 2.25 sec\n",
      "2022-04-19 15:05:23,966 [INFO] ** TORCH CUDA version installed and working. **\n",
      "2022-04-19 15:05:23,967 [INFO] >>>> using GPU\n",
      "2022-04-19 15:05:24,029 [INFO] ~~~ FINDING MASKS ~~~\n",
      "2022-04-19 15:05:26,292 [INFO] >>>> TOTAL TIME 2.26 sec\n",
      "2022-04-19 15:05:26,991 [INFO] ** TORCH CUDA version installed and working. **\n",
      "2022-04-19 15:05:26,992 [INFO] >>>> using GPU\n",
      "2022-04-19 15:05:27,062 [INFO] ~~~ FINDING MASKS ~~~\n",
      "2022-04-19 15:05:29,304 [INFO] >>>> TOTAL TIME 2.24 sec\n",
      "Warning: preprocessing_step_00 not yet specified in renaming dictionary\n",
      "Warning: preprocessing_step_01 not yet specified in renaming dictionary\n",
      "Warning: preprocessing_step_02 not yet specified in renaming dictionary\n",
      "Warning: total_planes not yet specified in renaming dictionary\n",
      "Warning: segmentation_completed not yet specified in renaming dictionary\n",
      "Warning: semantic_segmentations_done not yet specified in renaming dictionary\n",
      "Warning: segmentation_step_00 not yet specified in renaming dictionary\n",
      "Warning: instance_segmentations_done not yet specified in renaming dictionary\n",
      "Warning: segmentation_step_01 not yet specified in renaming dictionary\n",
      "Warning: preprocessing_step_00 not yet specified in renaming dictionary\n",
      "Warning: preprocessing_step_01 not yet specified in renaming dictionary\n",
      "Warning: preprocessing_step_02 not yet specified in renaming dictionary\n",
      "Warning: total_planes not yet specified in renaming dictionary\n",
      "Warning: segmentation_completed not yet specified in renaming dictionary\n",
      "Warning: semantic_segmentations_done not yet specified in renaming dictionary\n",
      "Warning: segmentation_step_00 not yet specified in renaming dictionary\n",
      "Warning: instance_segmentations_done not yet specified in renaming dictionary\n",
      "Warning: segmentation_step_01 not yet specified in renaming dictionary\n"
     ]
    }
   ],
   "source": [
    "refactored_project.segment(strategies = [LosslessConversionOfDF2SemanticSegToInstanceSegWithCP],\n",
    "                          batch_size = 2, \n",
    "                          clear_tmp_data = True,\n",
    "                          overwrite = True)"
   ]
  },
  {
   "cell_type": "code",
   "execution_count": 9,
   "id": "b16c3c6b-73e4-46a8-a8e2-a0d6330dcd0d",
   "metadata": {},
   "outputs": [
    {
     "name": "stdout",
     "output_type": "stream",
     "text": [
      "Postprocessing segmentations of file ID: 0000 (1/2)\n",
      "-Initializing 3D reconstruction from 2D instance segmentations\n",
      "--matching ROIs across planes (1/13)\n",
      "--matching ROIs across planes (2/13)\n",
      "--matching ROIs across planes (3/13)\n",
      "--matching ROIs across planes (4/13)\n",
      "--matching ROIs across planes (5/13)\n",
      "--matching ROIs across planes (6/13)\n",
      "--matching ROIs across planes (7/13)\n",
      "--matching ROIs across planes (8/13)\n",
      "--matching ROIs across planes (9/13)\n",
      "--matching ROIs across planes (10/13)\n",
      "--matching ROIs across planes (11/13)\n",
      "--matching ROIs across planes (12/13)\n",
      "--matching ROIs across planes (13/13)\n",
      "-applying exclusion criteria\n",
      "Postprocessing segmentations of file ID: 0001 (2/2)\n",
      "-Initializing 3D reconstruction from 2D instance segmentations\n",
      "--matching ROIs across planes (1/13)\n",
      "--matching ROIs across planes (2/13)\n",
      "--matching ROIs across planes (3/13)\n",
      "--matching ROIs across planes (4/13)\n",
      "--matching ROIs across planes (5/13)\n",
      "--matching ROIs across planes (6/13)\n",
      "--matching ROIs across planes (7/13)\n",
      "--matching ROIs across planes (8/13)\n",
      "--matching ROIs across planes (9/13)\n",
      "--matching ROIs across planes (10/13)\n",
      "--matching ROIs across planes (11/13)\n",
      "--matching ROIs across planes (12/13)\n",
      "--matching ROIs across planes (13/13)\n",
      "-applying exclusion criteria\n"
     ]
    }
   ],
   "source": [
    "refactored_project.postprocess(strategies = [ReconstructCellsIn3DFrom2DInstanceLabels, ApplyExclusionCriteria], \n",
    "                               segmentations_to_use = 'instance')"
   ]
  },
  {
   "cell_type": "code",
   "execution_count": 10,
   "id": "2907bb0c-2524-4bfb-b8fe-cdecf671c302",
   "metadata": {},
   "outputs": [
    {
     "name": "stdout",
     "output_type": "stream",
     "text": [
      "Quantification of file ID: 0000 (1/2)\n",
      "-counting the number of image features per region of interest\n",
      "Quantification of file ID: 0001 (2/2)\n",
      "-counting the number of image features per region of interest\n"
     ]
    }
   ],
   "source": [
    "refactored_project.quantify(strategies = [CountFeaturesInWholeAreaROIs])"
   ]
  },
  {
   "cell_type": "code",
   "execution_count": 11,
   "id": "a05ab6bd-9368-46db-91fc-ba88aa3d0176",
   "metadata": {},
   "outputs": [
    {
     "data": {
      "text/plain": [
       "{'CountFeaturesInWholeAreaROIs': {'0000': {'000': 6}, '0001': {'000': 6}}}"
      ]
     },
     "execution_count": 11,
     "metadata": {},
     "output_type": "execute_result"
    }
   ],
   "source": [
    "refactored_project.database.quantification_results"
   ]
  },
  {
   "cell_type": "code",
   "execution_count": 6,
   "id": "b0d86ae1-2eb9-4d22-9a8d-447b02223dae",
   "metadata": {},
   "outputs": [],
   "source": [
    "refactored_project.load_status()"
   ]
  },
  {
   "cell_type": "code",
   "execution_count": 11,
   "id": "3099b561-a3ff-4ee4-b66d-eb89fd67398f",
   "metadata": {},
   "outputs": [
    {
     "data": {
      "text/plain": [
       "[None, None, None, None, None]"
      ]
     },
     "execution_count": 11,
     "metadata": {},
     "output_type": "execute_result"
    }
   ],
   "source": [
    "[None] * 5"
   ]
  },
  {
   "cell_type": "code",
   "execution_count": null,
   "id": "240abc2a-5b07-4d5a-bc22-d0522a747fbd",
   "metadata": {},
   "outputs": [],
   "source": []
  },
  {
   "cell_type": "code",
   "execution_count": 8,
   "id": "b3d3c9c0-cd5c-4e93-b552-4b07d415ef6c",
   "metadata": {},
   "outputs": [
    {
     "data": {
      "text/plain": [
       "{'file_id': ['0000', '0001'],\n",
       " 'original_file_id': ['#2_2_SN_slice5', '#2_2_SN_slice6'],\n",
       " 'group_id': ['tg', 'tg'],\n",
       " 'subject_id': ['#2_2', '#2_2'],\n",
       " 'microscopy_filepath': [PosixPath('/mnt/c/Users/dsege/TEMP/findmycells_projects/for_debugging/00_microscopy_images/tg/#2_2/#2_2_SN_slice5.xlsx'),\n",
       "  PosixPath('/mnt/c/Users/dsege/TEMP/findmycells_projects/for_debugging/00_microscopy_images/tg/#2_2/#2_2_SN_slice6.xlsx')],\n",
       " 'microscopy_filetype': ['.xlsx', '.xlsx'],\n",
       " 'rois_present': [True, True],\n",
       " 'rois_filepath': [PosixPath('/mnt/c/Users/dsege/TEMP/findmycells_projects/for_debugging/01_rois_to_analyze/tg/#2_2/#2_2_SN_slice5.roi'),\n",
       "  PosixPath('/mnt/c/Users/dsege/TEMP/findmycells_projects/for_debugging/01_rois_to_analyze/tg/#2_2/#2_2_SN_slice6.roi')],\n",
       " 'rois_filetype': ['.roi', '.roi'],\n",
       " 'preprocessing_completed': [True, True],\n",
       " 'preprocessing_step_00': ['CropToROIsBoundingBox', 'CropToROIsBoundingBox'],\n",
       " 'cropping_row_indices': [(0, -1), (0, -1)],\n",
       " 'cropping_column_indices': [(0, -1), (0, -1)],\n",
       " 'preprocessing_step_01': ['CropStitchingArtefactsRGB',\n",
       "  'CropStitchingArtefactsRGB'],\n",
       " 'preprocessing_step_02': ['ConvertTo8Bit', 'ConvertTo8Bit'],\n",
       " 'RGB': [True, True],\n",
       " 'total_planes': [13, 13],\n",
       " 'segmentation_completed': [True, True],\n",
       " 'semantic_segmentations_done': [True, True],\n",
       " 'segmentation_step_00': ['Deepflash2SemanticSegmentation',\n",
       "  'Deepflash2SemanticSegmentation'],\n",
       " 'instance_segmentations_done': [True, True],\n",
       " 'segmentation_step_01': ['LosslessConversionOfDF2SemanticSegToInstanceSegWithCP',\n",
       "  'LosslessConversionOfDF2SemanticSegToInstanceSegWithCP']}"
      ]
     },
     "execution_count": 8,
     "metadata": {},
     "output_type": "execute_result"
    }
   ],
   "source": [
    "refactored_project.database.file_infos"
   ]
  },
  {
   "cell_type": "code",
   "execution_count": 23,
   "id": "ea74b2b5-5ccb-4000-91ef-b4f7bb9a3533",
   "metadata": {},
   "outputs": [],
   "source": [
    "import shutil\n",
    "for tmp_subdir_path in refactored_project.database.segmentation_tool_dir.iterdir():\n",
    "    if tmp_subdir_path.is_dir() and tmp_subdir_path.name != 'trained_models':\n",
    "        shutil.rmtree(tmp_subdir_path)\n",
    "        "
   ]
  },
  {
   "cell_type": "code",
   "execution_count": 13,
   "id": "cf71e54c-f59c-4ad7-925f-da874d72ad26",
   "metadata": {},
   "outputs": [],
   "source": [
    "import random"
   ]
  },
  {
   "cell_type": "code",
   "execution_count": 14,
   "id": "abef678e-ef6d-45bc-8fd9-f73788ea0ea4",
   "metadata": {},
   "outputs": [],
   "source": [
    "hund = [1, 2, 3, 4, 5, 6]\n",
    "batch_size = 2\n",
    "\n",
    "hunde_per_batch = []\n",
    "if type(batch_size) == int:\n",
    "    while len(hund) > 0:\n",
    "        if len(hund) >= batch_size:\n",
    "            subsample = random.sample(hund, batch_size)\n",
    "            for elem in subsample:\n",
    "                hund.remove(elem)\n",
    "            hunde_per_batch.append(subsample)\n",
    "        else:\n",
    "            hunde_per_batch.append(hund)\n",
    "            hund = []"
   ]
  },
  {
   "cell_type": "code",
   "execution_count": 15,
   "id": "5d0fc743-d4ff-41e6-9442-49edcc71721b",
   "metadata": {},
   "outputs": [
    {
     "data": {
      "text/plain": [
       "[[2, 6], [5, 3], [4, 1]]"
      ]
     },
     "execution_count": 15,
     "metadata": {},
     "output_type": "execute_result"
    }
   ],
   "source": [
    "hunde_per_batch"
   ]
  },
  {
   "cell_type": "code",
   "execution_count": 16,
   "id": "94ad49b4-e0b7-4c18-8e6c-ce9e7b875472",
   "metadata": {},
   "outputs": [
    {
     "data": {
      "text/plain": [
       "[2, 6, 5, 3, 4, 1]"
      ]
     },
     "execution_count": 16,
     "metadata": {},
     "output_type": "execute_result"
    }
   ],
   "source": [
    "all_file_ids = []\n",
    "for elem in hunde_per_batch:\n",
    "    all_file_ids += elem\n",
    "all_file_ids"
   ]
  },
  {
   "cell_type": "code",
   "execution_count": 19,
   "id": "480f51e2-df74-481c-a3a7-ec37c3a7854d",
   "metadata": {},
   "outputs": [
    {
     "data": {
      "text/plain": [
       "True"
      ]
     },
     "execution_count": 19,
     "metadata": {},
     "output_type": "execute_result"
    }
   ],
   "source": [
    "1 == 1 & 3 != 2"
   ]
  },
  {
   "cell_type": "code",
   "execution_count": 14,
   "id": "57ed9549-2710-419d-b18b-74936ec567d7",
   "metadata": {},
   "outputs": [
    {
     "data": {
      "text/plain": [
       "{'df2': {'n_models': 5,\n",
       "  'ensemble_path': Path('/mnt/c/Users/dsege/TEMP/findmycells_projects/for_debugging/03_segmentation_tool/trained_models'),\n",
       "  'stats': (array([0.61211561, 0.53707885, 0.448336  ]),\n",
       "   array([0.17942536, 0.20184252, 0.21167512]))},\n",
       " 'cp': {'model_type': 'nuclei',\n",
       "  'net_avg': True,\n",
       "  'diameter': 59.37929474347361}}"
      ]
     },
     "execution_count": 14,
     "metadata": {},
     "output_type": "execute_result"
    }
   ],
   "source": [
    "refactored_project.database.segmentation_tool_configs"
   ]
  },
  {
   "cell_type": "code",
   "execution_count": 18,
   "id": "b32a6340-bd5a-49eb-aef7-85b97ef5ce37",
   "metadata": {},
   "outputs": [
    {
     "name": "stdout",
     "output_type": "stream",
     "text": [
      "Warning: preprocessing_step_00 not yet specified in renaming dictionary\n",
      "Warning: preprocessing_step_01 not yet specified in renaming dictionary\n",
      "Warning: preprocessing_step_02 not yet specified in renaming dictionary\n",
      "Warning: total_planes not yet specified in renaming dictionary\n",
      "Warning: semantic_segmentations_done not yet specified in renaming dictionary\n",
      "Warning: segmentation_step_00 not yet specified in renaming dictionary\n",
      "Warning: instance_segmentations_done not yet specified in renaming dictionary\n",
      "Warning: segmentation_step_01 not yet specified in renaming dictionary\n",
      "Warning: segmentation_completed not yet specified in renaming dictionary\n"
     ]
    }
   ],
   "source": [
    "refactored_project.save_status()"
   ]
  },
  {
   "cell_type": "code",
   "execution_count": 19,
   "id": "42115e45-eb42-4310-9fa7-98e96daebc6a",
   "metadata": {},
   "outputs": [
    {
     "name": "stdout",
     "output_type": "stream",
     "text": [
      "Postprocessing segmentations of file ID: 0000 (1/1)\n",
      "-Initializing 3D reconstruction from 2D instance segmentations\n",
      "--matching ROIs across planes (1/8)\n",
      "--matching ROIs across planes (2/8)\n",
      "--matching ROIs across planes (3/8)\n",
      "--matching ROIs across planes (4/8)\n",
      "--matching ROIs across planes (5/8)\n",
      "--matching ROIs across planes (6/8)\n",
      "--matching ROIs across planes (7/8)\n",
      "--matching ROIs across planes (8/8)\n",
      "-applying exclusion criteria\n"
     ]
    }
   ],
   "source": [
    "refactored_project.postprocess(strategies = [ReconstructCellsIn3DFrom2DInstanceLabels, ApplyExclusionCriteria], \n",
    "                               segmentations_to_use = 'instance')"
   ]
  },
  {
   "cell_type": "code",
   "execution_count": 20,
   "id": "4c956c45-5027-4203-84d1-d9813fd5aeb0",
   "metadata": {},
   "outputs": [
    {
     "name": "stdout",
     "output_type": "stream",
     "text": [
      "Quantification of file ID: 0000 (1/1)\n",
      "-counting the number of image features per region of interest\n"
     ]
    }
   ],
   "source": [
    "refactored_project.quantify(strategies = [CountFeaturesInWholeAreaROIs])"
   ]
  },
  {
   "cell_type": "code",
   "execution_count": 21,
   "id": "a1e5809d-7bcb-49d2-bac3-bc6ad8c9e43f",
   "metadata": {},
   "outputs": [
    {
     "data": {
      "text/plain": [
       "{'file_id': ['0000'],\n",
       " 'original_file_id': ['#5_SN_tg_s2_sfr3'],\n",
       " 'group_id': ['tg'],\n",
       " 'subject_id': ['#5_tg_old'],\n",
       " 'microscopy_filepath': [Path('/mnt/c/Users/dsege/TEMP/findmycells_projects/TH_in_SN_refactored/00_microscopy_images/tg/#5_tg_old/#5_SN_tg_s2_sfr3.czi')],\n",
       " 'microscopy_filetype': ['.czi'],\n",
       " 'rois_present': [True],\n",
       " 'rois_filepath': [Path('/mnt/c/Users/dsege/TEMP/findmycells_projects/TH_in_SN_refactored/01_rois_to_analyze/tg/#5_tg_old/#5_SN_tg_s2_sfr3.roi')],\n",
       " 'rois_filetype': ['.roi'],\n",
       " 'preprocessing_completed': [True],\n",
       " 'preprocessing_step_00': ['CropToROIsBoundingBox'],\n",
       " 'cropping_row_indices': [(0, -1)],\n",
       " 'cropping_column_indices': [(0, -1)],\n",
       " 'preprocessing_step_01': ['CropStitchingArtefactsRGB'],\n",
       " 'preprocessing_step_02': ['ConvertTo8Bit'],\n",
       " 'RGB': [True],\n",
       " 'total_planes': [8],\n",
       " 'semantic_segmentations_done': [True],\n",
       " 'segmentation_step_00': ['Deepflash2SemanticSegmentation'],\n",
       " 'instance_segmentations_done': [True],\n",
       " 'segmentation_step_01': ['LosslessConversionOfDF2SemanticSegToInstanceSegWithCP'],\n",
       " 'segmentation_completed': [True],\n",
       " 'postprocessing_completed': [True],\n",
       " 'postprocessing_step_00': ['ReconstructCellsIn3DFrom2DInstanceLabels'],\n",
       " 'postprocessing_step_01': ['ApplyExclusionCriteria'],\n",
       " 'included_relative_positions': [['within', 'intersects']],\n",
       " 'minimum_number_of_planes_required_to_cover': [2],\n",
       " 'quantification_completed': [True],\n",
       " 'quantification_step_00': ['CountFeaturesInWholeAreaROIs']}"
      ]
     },
     "execution_count": 21,
     "metadata": {},
     "output_type": "execute_result"
    }
   ],
   "source": [
    "refactored_project.database.file_infos"
   ]
  },
  {
   "cell_type": "code",
   "execution_count": 22,
   "id": "d222a285-2da9-4dac-a433-1e974b855131",
   "metadata": {},
   "outputs": [
    {
     "data": {
      "text/plain": [
       "{'CountFeaturesInWholeAreaROIs': {'0000': {'000': 158}}}"
      ]
     },
     "execution_count": 22,
     "metadata": {},
     "output_type": "execute_result"
    }
   ],
   "source": [
    "refactored_project.database.quantification_results"
   ]
  },
  {
   "cell_type": "code",
   "execution_count": null,
   "id": "1a80895c-d2e6-43be-8499-49c4efc89ae3",
   "metadata": {},
   "outputs": [],
   "source": []
  }
 ],
 "metadata": {
  "kernelspec": {
   "display_name": "Python 3 (ipykernel)",
   "language": "python",
   "name": "python3"
  },
  "language_info": {
   "codemirror_mode": {
    "name": "ipython",
    "version": 3
   },
   "file_extension": ".py",
   "mimetype": "text/x-python",
   "name": "python",
   "nbconvert_exporter": "python",
   "pygments_lexer": "ipython3",
   "version": "3.7.12"
  }
 },
 "nbformat": 4,
 "nbformat_minor": 5
}
