{
 "cells": [
  {
   "cell_type": "markdown",
   "id": "6a9b9b86-1acf-4442-ad48-d7263016dbfb",
   "metadata": {},
   "source": [
    "# **API testing environment**"
   ]
  },
  {
   "cell_type": "markdown",
   "id": "a102a1a4-ba86-4102-bc41-7d2233c5c32c",
   "metadata": {},
   "source": [
    "## 1) Preparation related functions:"
   ]
  },
  {
   "cell_type": "markdown",
   "id": "c2e9ea73-42ff-4d0e-a68f-17fd89b06bca",
   "metadata": {},
   "source": [
    "*findmycells* offers some functions that might be useful in preparing the input for the *findmycells* `Project`"
   ]
  },
  {
   "cell_type": "markdown",
   "id": "1e40626c-ed89-43fb-b330-058ab02da6e9",
   "metadata": {},
   "source": [
    "### a) Create excel files for Image Loader\n",
    "\n",
    "This function can be used if images of individual planes are to be used, rather than the original zstack"
   ]
  },
  {
   "cell_type": "code",
   "execution_count": 2,
   "id": "3913d1aa-103a-4d68-adbf-599f18f32cad",
   "metadata": {},
   "outputs": [],
   "source": [
    "from pathlib import Path\n",
    "from findmycells.main import Preparations\n",
    "\n",
    "root_dir = Path('/mnt/d/new_analysis_data_set_EV_A53T/Mosaik_images_for_training_and_analyis/analysis/')\n",
    "destination_dir = Path('/mnt/c/Users/dsege/TEMP/Grotemeyer/02_all_new_scanner_fmc/')\n",
    "\n",
    "preparations = Preparations()\n",
    "preparations.create_excel_files_for_image_loader(root = root_dir, destination = destination_dir, batch_processing = True) \n",
    "#batch_procssing is True by default"
   ]
  },
  {
   "cell_type": "code",
   "execution_count": null,
   "id": "c082bf12-5edb-48e3-a59c-6445e5284547",
   "metadata": {},
   "outputs": [],
   "source": []
  },
  {
   "cell_type": "markdown",
   "id": "e819ca57-87ca-468c-929b-a8d10f632ce5",
   "metadata": {},
   "source": [
    "## 2) Project related functions:\n",
    "\n",
    "These are the main functions of the *findmycells* package and comprise a modular set of functions related to:\n",
    "\n",
    "    a) Working with the project database\n",
    "    b) Preprocessing of the images (and respective ROIs)\n",
    "    c) Segmentation of the relevant image features\n",
    "    d) Quantification of the segmented image features\n",
    "    e) ..."
   ]
  },
  {
   "cell_type": "code",
   "execution_count": 1,
   "id": "c2751b35-151c-498a-a2cd-f9e9409bc2cc",
   "metadata": {},
   "outputs": [],
   "source": [
    "from pathlib import Path\n",
    "from findmycells.main import Project"
   ]
  },
  {
   "cell_type": "code",
   "execution_count": 2,
   "id": "ae41b06f-43c3-420f-90c6-267bbebdc3d5",
   "metadata": {},
   "outputs": [],
   "source": [
    "from findmycells.preprocessing import CropStitchingArtefactsRGB, ConvertTo8Bit, MaximumIntensityProjection, MinimumIntensityProjection, CropToROIsBoundingBox, AdjustBrightnessAndContrast\n",
    "from findmycells.segmentation import Deepflash2SemanticSegmentation, LosslessConversionOfDF2SemanticSegToInstanceSegWithCP\n",
    "from findmycells.quantifications import ReconstructCellsIn3DFrom2DInstanceLabels, ApplyExclusionCriteria, CountFeaturesInWholeAreaROIs\n",
    "from findmycells.inspection import InspectReconstructedCells2D"
   ]
  },
  {
   "cell_type": "code",
   "execution_count": 3,
   "id": "f27a7dfe-365d-4bef-9ddf-d7439f4c194b",
   "metadata": {},
   "outputs": [],
   "source": [
    "project_root_dir = Path('/mnt/c/Users/dsege/TEMP/findmycells_projects/decouple_df2_and_cp/')"
   ]
  },
  {
   "cell_type": "code",
   "execution_count": 2,
   "id": "9139a38d-3e72-4c01-b9d4-78e655ad94ae",
   "metadata": {},
   "outputs": [],
   "source": [
    "segmentation_configs = {'cellpose': {'model_type': 'nuclei', #one of: 'cyto', 'cyto2', or 'nuclei'\n",
    "                                     'net_avg': True}}"
   ]
  },
  {
   "cell_type": "code",
   "execution_count": 3,
   "id": "818ab3b6-30a7-4ac0-a96b-54de747d6912",
   "metadata": {},
   "outputs": [
    {
     "name": "stdout",
     "output_type": "stream",
     "text": [
      "model_type\n",
      "net_avg\n"
     ]
    }
   ],
   "source": [
    "for key, value in segmentation_configs['cellpose'].items():\n",
    "    print(key)"
   ]
  },
  {
   "cell_type": "code",
   "execution_count": 4,
   "id": "2902b1bc-12e4-42d4-b240-8e680ca12509",
   "metadata": {},
   "outputs": [],
   "source": [
    "quantification_configs = {'segmentations_to_use': 'instance',\n",
    "                          'postprocessing_strategies': [ReconstructCellsIn3DFrom2DInstanceLabels, ApplyExclusionCriteria],\n",
    "                          'quantification_strategies': [CountFeaturesInWholeAreaROIs]}"
   ]
  },
  {
   "cell_type": "code",
   "execution_count": 5,
   "id": "ea8219be-a412-4e87-adc3-ebab1ed15215",
   "metadata": {},
   "outputs": [],
   "source": [
    "user_input_via_gui = {'project_root_dir': project_root_dir, \n",
    "                      'preprocessing_strategies': [ConvertTo8Bit, CropToROIsBoundingBox, CropStitchingArtefactsRGB], \n",
    "                      'segmentation_strategies': [Deepflash2SemanticSegmentation, LosslessConversionOfDF2SemanticSegToInstanceSegWithCP], \n",
    "                      'segmentation_configs': segmentation_configs,\n",
    "                      'quantification_configs': quantification_configs,\n",
    "                      'inspection_strategies': [InspectReconstructedCells2D],\n",
    "                      'clear_temp_zarrs_from_sys_tmp': True}"
   ]
  },
  {
   "cell_type": "code",
   "execution_count": 6,
   "id": "7d233f51-060e-4004-81dd-b124208883b2",
   "metadata": {},
   "outputs": [],
   "source": [
    "refactored_project = Project(user_input_via_gui)"
   ]
  },
  {
   "cell_type": "code",
   "execution_count": 7,
   "id": "cb174df4-ad06-4c6e-a14c-6ebd27c0728a",
   "metadata": {},
   "outputs": [],
   "source": [
    "refactored_project.preprocess()"
   ]
  },
  {
   "cell_type": "code",
   "execution_count": 8,
   "id": "81ee1ba2-1d16-4c85-b91d-481b2abf77e4",
   "metadata": {},
   "outputs": [
    {
     "name": "stdout",
     "output_type": "stream",
     "text": [
      "Warning: preprocessing_step_00 not yet specified in renaming dictionary\n",
      "Warning: preprocessing_step_01 not yet specified in renaming dictionary\n",
      "Warning: preprocessing_step_02 not yet specified in renaming dictionary\n",
      "Warning: total_planes not yet specified in renaming dictionary\n"
     ]
    }
   ],
   "source": [
    "refactored_project.save_status()"
   ]
  },
  {
   "cell_type": "code",
   "execution_count": 9,
   "id": "13db9a8f-3eca-4971-9a43-bc6644869d37",
   "metadata": {},
   "outputs": [
    {
     "name": "stdout",
     "output_type": "stream",
     "text": [
      "Found 3 models in folder /mnt/c/Users/dsege/TEMP/findmycells_projects/decouple_df2_and_cp/03_segmentation_tool/trained_models\n",
      "['Unet_resnet34_2classes-fold1.pth', 'Unet_resnet34_2classes-fold3.pth', 'Unet_resnet34_2classes-fold5.pth']\n",
      "Computing Stats...\n",
      "Found 3 models in folder /mnt/c/Users/dsege/TEMP/findmycells_projects/decouple_df2_and_cp/03_segmentation_tool/trained_models\n",
      "['Unet_resnet34_2classes-fold1.pth', 'Unet_resnet34_2classes-fold3.pth', 'Unet_resnet34_2classes-fold5.pth']\n"
     ]
    },
    {
     "data": {
      "text/html": [],
      "text/plain": [
       "<IPython.core.display.HTML object>"
      ]
     },
     "metadata": {},
     "output_type": "display_data"
    },
    {
     "name": "stdout",
     "output_type": "stream",
     "text": [
      "Predicting 0000-000.png\n"
     ]
    },
    {
     "data": {
      "text/html": [],
      "text/plain": [
       "<IPython.core.display.HTML object>"
      ]
     },
     "metadata": {},
     "output_type": "display_data"
    },
    {
     "name": "stdout",
     "output_type": "stream",
     "text": [
      "Predicting 0000-001.png\n"
     ]
    },
    {
     "data": {
      "text/html": [],
      "text/plain": [
       "<IPython.core.display.HTML object>"
      ]
     },
     "metadata": {},
     "output_type": "display_data"
    },
    {
     "name": "stdout",
     "output_type": "stream",
     "text": [
      "Predicting 0000-002.png\n"
     ]
    },
    {
     "data": {
      "text/html": [],
      "text/plain": [
       "<IPython.core.display.HTML object>"
      ]
     },
     "metadata": {},
     "output_type": "display_data"
    },
    {
     "name": "stdout",
     "output_type": "stream",
     "text": [
      "Predicting 0000-003.png\n"
     ]
    },
    {
     "data": {
      "text/html": [],
      "text/plain": [
       "<IPython.core.display.HTML object>"
      ]
     },
     "metadata": {},
     "output_type": "display_data"
    },
    {
     "name": "stdout",
     "output_type": "stream",
     "text": [
      "Predicting 0000-004.png\n"
     ]
    },
    {
     "data": {
      "text/html": [],
      "text/plain": [
       "<IPython.core.display.HTML object>"
      ]
     },
     "metadata": {},
     "output_type": "display_data"
    },
    {
     "name": "stdout",
     "output_type": "stream",
     "text": [
      "Predicting 0000-005.png\n"
     ]
    },
    {
     "data": {
      "text/html": [],
      "text/plain": [
       "<IPython.core.display.HTML object>"
      ]
     },
     "metadata": {},
     "output_type": "display_data"
    },
    {
     "name": "stdout",
     "output_type": "stream",
     "text": [
      "Predicting 0000-006.png\n"
     ]
    },
    {
     "data": {
      "text/html": [],
      "text/plain": [
       "<IPython.core.display.HTML object>"
      ]
     },
     "metadata": {},
     "output_type": "display_data"
    },
    {
     "name": "stdout",
     "output_type": "stream",
     "text": [
      "Predicting 0000-007.png\n"
     ]
    },
    {
     "data": {
      "text/html": [],
      "text/plain": [
       "<IPython.core.display.HTML object>"
      ]
     },
     "metadata": {},
     "output_type": "display_data"
    },
    {
     "name": "stdout",
     "output_type": "stream",
     "text": [
      "2022-04-12 12:07:02,683 [INFO] WRITING LOG OUTPUT TO /home/ds/.cellpose/run.log\n",
      "Found 3 models in folder /mnt/c/Users/dsege/TEMP/findmycells_projects/decouple_df2_and_cp/03_segmentation_tool/trained_models\n",
      "['Unet_resnet34_2classes-fold1.pth', 'Unet_resnet34_2classes-fold3.pth', 'Unet_resnet34_2classes-fold5.pth']\n",
      "Using diameter of 50\n",
      "2022-04-12 12:07:07,952 [INFO] ** TORCH CUDA version installed and working. **\n",
      "2022-04-12 12:07:07,953 [INFO] >>>> using GPU\n",
      "2022-04-12 12:07:08,085 [INFO] ~~~ FINDING MASKS ~~~\n",
      "2022-04-12 12:07:35,711 [INFO] >>>> TOTAL TIME 27.63 sec\n",
      "Found 3 models in folder /mnt/c/Users/dsege/TEMP/findmycells_projects/decouple_df2_and_cp/03_segmentation_tool/trained_models\n",
      "['Unet_resnet34_2classes-fold1.pth', 'Unet_resnet34_2classes-fold3.pth', 'Unet_resnet34_2classes-fold5.pth']\n",
      "Using diameter of 50\n",
      "2022-04-12 12:07:39,344 [INFO] ** TORCH CUDA version installed and working. **\n",
      "2022-04-12 12:07:39,345 [INFO] >>>> using GPU\n",
      "2022-04-12 12:07:39,462 [INFO] ~~~ FINDING MASKS ~~~\n",
      "2022-04-12 12:07:59,701 [INFO] >>>> TOTAL TIME 20.24 sec\n",
      "Found 3 models in folder /mnt/c/Users/dsege/TEMP/findmycells_projects/decouple_df2_and_cp/03_segmentation_tool/trained_models\n",
      "['Unet_resnet34_2classes-fold1.pth', 'Unet_resnet34_2classes-fold3.pth', 'Unet_resnet34_2classes-fold5.pth']\n",
      "Using diameter of 50\n",
      "2022-04-12 12:08:03,157 [INFO] ** TORCH CUDA version installed and working. **\n",
      "2022-04-12 12:08:03,157 [INFO] >>>> using GPU\n",
      "2022-04-12 12:08:03,264 [INFO] ~~~ FINDING MASKS ~~~\n",
      "2022-04-12 12:08:23,715 [INFO] >>>> TOTAL TIME 20.45 sec\n",
      "Found 3 models in folder /mnt/c/Users/dsege/TEMP/findmycells_projects/decouple_df2_and_cp/03_segmentation_tool/trained_models\n",
      "['Unet_resnet34_2classes-fold1.pth', 'Unet_resnet34_2classes-fold3.pth', 'Unet_resnet34_2classes-fold5.pth']\n",
      "Using diameter of 50\n",
      "2022-04-12 12:08:27,239 [INFO] ** TORCH CUDA version installed and working. **\n",
      "2022-04-12 12:08:27,240 [INFO] >>>> using GPU\n",
      "2022-04-12 12:08:27,350 [INFO] ~~~ FINDING MASKS ~~~\n",
      "2022-04-12 12:08:48,662 [INFO] >>>> TOTAL TIME 21.31 sec\n",
      "Found 3 models in folder /mnt/c/Users/dsege/TEMP/findmycells_projects/decouple_df2_and_cp/03_segmentation_tool/trained_models\n",
      "['Unet_resnet34_2classes-fold1.pth', 'Unet_resnet34_2classes-fold3.pth', 'Unet_resnet34_2classes-fold5.pth']\n",
      "Using diameter of 50\n",
      "2022-04-12 12:08:52,221 [INFO] ** TORCH CUDA version installed and working. **\n",
      "2022-04-12 12:08:52,222 [INFO] >>>> using GPU\n",
      "2022-04-12 12:08:52,331 [INFO] ~~~ FINDING MASKS ~~~\n",
      "2022-04-12 12:09:14,509 [INFO] >>>> TOTAL TIME 22.18 sec\n",
      "Found 3 models in folder /mnt/c/Users/dsege/TEMP/findmycells_projects/decouple_df2_and_cp/03_segmentation_tool/trained_models\n",
      "['Unet_resnet34_2classes-fold1.pth', 'Unet_resnet34_2classes-fold3.pth', 'Unet_resnet34_2classes-fold5.pth']\n",
      "Using diameter of 50\n",
      "2022-04-12 12:09:19,837 [INFO] ** TORCH CUDA version installed and working. **\n",
      "2022-04-12 12:09:19,837 [INFO] >>>> using GPU\n",
      "2022-04-12 12:09:19,955 [INFO] ~~~ FINDING MASKS ~~~\n",
      "2022-04-12 12:09:40,985 [INFO] >>>> TOTAL TIME 21.03 sec\n",
      "Found 3 models in folder /mnt/c/Users/dsege/TEMP/findmycells_projects/decouple_df2_and_cp/03_segmentation_tool/trained_models\n",
      "['Unet_resnet34_2classes-fold1.pth', 'Unet_resnet34_2classes-fold3.pth', 'Unet_resnet34_2classes-fold5.pth']\n",
      "Using diameter of 50\n",
      "2022-04-12 12:09:45,671 [INFO] ** TORCH CUDA version installed and working. **\n",
      "2022-04-12 12:09:45,672 [INFO] >>>> using GPU\n",
      "2022-04-12 12:09:45,788 [INFO] ~~~ FINDING MASKS ~~~\n",
      "2022-04-12 12:10:07,997 [INFO] >>>> TOTAL TIME 22.21 sec\n",
      "Found 3 models in folder /mnt/c/Users/dsege/TEMP/findmycells_projects/decouple_df2_and_cp/03_segmentation_tool/trained_models\n",
      "['Unet_resnet34_2classes-fold1.pth', 'Unet_resnet34_2classes-fold3.pth', 'Unet_resnet34_2classes-fold5.pth']\n",
      "Using diameter of 50\n",
      "2022-04-12 12:10:12,635 [INFO] ** TORCH CUDA version installed and working. **\n",
      "2022-04-12 12:10:12,636 [INFO] >>>> using GPU\n",
      "2022-04-12 12:10:12,768 [INFO] ~~~ FINDING MASKS ~~~\n",
      "2022-04-12 12:10:32,982 [INFO] >>>> TOTAL TIME 20.21 sec\n"
     ]
    }
   ],
   "source": [
    "refactored_project.segment()"
   ]
  },
  {
   "cell_type": "code",
   "execution_count": null,
   "id": "d1356511-580b-44c8-bcc1-f15438ef85af",
   "metadata": {},
   "outputs": [],
   "source": []
  },
  {
   "cell_type": "code",
   "execution_count": 7,
   "id": "db32cf08-9913-4225-a438-9b4302e473a7",
   "metadata": {},
   "outputs": [],
   "source": [
    "refactored_project.load_status()"
   ]
  },
  {
   "cell_type": "code",
   "execution_count": 8,
   "id": "f276d41e-e92e-4890-aee3-172f2533795e",
   "metadata": {},
   "outputs": [
    {
     "data": {
      "text/plain": [
       "{'CountFeaturesInWholeAreaROIs': {'0000': {'SN': 49, 'VTA': 20},\n",
       "  '0001': {'SN': 12, 'VTA': 1},\n",
       "  '0002': {'SN': 42, 'VTA': 2},\n",
       "  '0003': {'SN': 76, 'VTA': 2}}}"
      ]
     },
     "execution_count": 8,
     "metadata": {},
     "output_type": "execute_result"
    }
   ],
   "source": [
    "refactored_project.database.quantification_results"
   ]
  },
  {
   "cell_type": "code",
   "execution_count": null,
   "id": "538691f1-d4ea-409c-bb10-bcfc54c2d811",
   "metadata": {},
   "outputs": [],
   "source": []
  },
  {
   "cell_type": "code",
   "execution_count": null,
   "id": "9477e5ef-f4b1-4b1e-adfc-b1099d65157c",
   "metadata": {},
   "outputs": [],
   "source": [
    "project_root_dir = '/mnt/c/Users/dsege/TEMP/findmycells_projects/TH_in_SN/'\n",
    "\n",
    "user_input_via_gui = {'project_root_dir': project_root_dir,\n",
    "                      }"
   ]
  },
  {
   "cell_type": "code",
   "execution_count": 3,
   "id": "881f0711-57a6-4e26-a6a4-6347d4591a57",
   "metadata": {},
   "outputs": [],
   "source": [
    "def defaults(hund: str, katze: str):\n",
    "    print(hund, katze)"
   ]
  },
  {
   "cell_type": "markdown",
   "id": "e3cce915-b902-44dc-a19d-b8f84bc9cbf7",
   "metadata": {},
   "source": [
    "# **Test after major refactoring**"
   ]
  },
  {
   "cell_type": "code",
   "execution_count": 11,
   "id": "6af93f67-d6d9-4e3e-bf8c-b061cc19c6b3",
   "metadata": {
    "tags": []
   },
   "outputs": [],
   "source": [
    "from pathlib import Path\n",
    "from findmycells.main import Project\n",
    "\n",
    "from findmycells.preprocessing import CropStitchingArtefactsRGB, ConvertTo8Bit, MaximumIntensityProjection, MinimumIntensityProjection, CropToROIsBoundingBox, AdjustBrightnessAndContrast\n",
    "from findmycells.segmentation import Deepflash2SemanticSegmentation, LosslessConversionOfDF2SemanticSegToInstanceSegWithCP\n",
    "from findmycells.postprocessing import ReconstructCellsIn3DFrom2DInstanceLabels, ApplyExclusionCriteria\n",
    "from findmycells.quantifications import CountFeaturesInWholeAreaROIs"
   ]
  },
  {
   "cell_type": "code",
   "execution_count": 12,
   "id": "0b2a73c5-37ae-46b4-a09c-1d98d2c8b9b7",
   "metadata": {},
   "outputs": [],
   "source": [
    "project_root_dir = Path('/mnt/c/Users/dsege/TEMP/findmycells_projects/TH_in_SN_refactored/')\n",
    "\n",
    "quantification_configs = {'segmentations_to_use': 'instance',\n",
    "                          'postprocessing_strategies': [ReconstructCellsIn3DFrom2DInstanceLabels, ApplyExclusionCriteria],\n",
    "                          'quantification_strategies': [CountFeaturesInWholeAreaROIs]}\n",
    "\n",
    "segmentation_configs = {'cellpose': {'model_type': 'nuclei', #one of: 'cyto', 'cyto2', or 'nuclei'\n",
    "                                     'net_avg': True}}"
   ]
  },
  {
   "cell_type": "code",
   "execution_count": 13,
   "id": "f058ad3c-646b-41e9-8be4-2dbe7525e553",
   "metadata": {},
   "outputs": [],
   "source": [
    "user_input_via_gui = {'project_root_dir': project_root_dir,  \n",
    "                      'segmentation_configs': segmentation_configs,\n",
    "                      'quantification_configs': quantification_configs,\n",
    "                      'clear_temp_zarrs_from_sys_tmp': True}"
   ]
  },
  {
   "cell_type": "code",
   "execution_count": 14,
   "id": "c23a7174-54d6-49c2-b0d6-114176e2d4a6",
   "metadata": {},
   "outputs": [],
   "source": [
    "refactored_project = Project(user_input_via_gui)"
   ]
  },
  {
   "cell_type": "code",
   "execution_count": 5,
   "id": "b0d86ae1-2eb9-4d22-9a8d-447b02223dae",
   "metadata": {},
   "outputs": [],
   "source": [
    "refactored_project.load_status()"
   ]
  },
  {
   "cell_type": "code",
   "execution_count": 15,
   "id": "cb3c24dc-c0a0-4717-b8e0-4e6eb22b1f6e",
   "metadata": {},
   "outputs": [],
   "source": [
    "refactored_project.preprocess(strategies = [CropToROIsBoundingBox, CropStitchingArtefactsRGB, ConvertTo8Bit])"
   ]
  },
  {
   "cell_type": "code",
   "execution_count": 16,
   "id": "b16c3c6b-73e4-46a8-a8e2-a0d6330dcd0d",
   "metadata": {},
   "outputs": [
    {
     "name": "stdout",
     "output_type": "stream",
     "text": [
      "Warning: preprocessing_step_00 not yet specified in renaming dictionary\n",
      "Warning: preprocessing_step_01 not yet specified in renaming dictionary\n",
      "Warning: preprocessing_step_02 not yet specified in renaming dictionary\n",
      "Warning: total_planes not yet specified in renaming dictionary\n"
     ]
    }
   ],
   "source": [
    "refactored_project.save_status()"
   ]
  },
  {
   "cell_type": "code",
   "execution_count": 17,
   "id": "d511d672-ff16-4535-81c5-2682ec296adc",
   "metadata": {},
   "outputs": [
    {
     "name": "stdout",
     "output_type": "stream",
     "text": [
      "Found 3 models in folder /mnt/c/Users/dsege/TEMP/findmycells_projects/TH_in_SN_refactored/03_segmentation_tool/trained_models\n",
      "['Unet_resnet34_2classes-fold1.pth', 'Unet_resnet34_2classes-fold3.pth', 'Unet_resnet34_2classes-fold5.pth']\n",
      "Computing Stats...\n",
      "Found 3 models in folder /mnt/c/Users/dsege/TEMP/findmycells_projects/TH_in_SN_refactored/03_segmentation_tool/trained_models\n",
      "['Unet_resnet34_2classes-fold1.pth', 'Unet_resnet34_2classes-fold3.pth', 'Unet_resnet34_2classes-fold5.pth']\n"
     ]
    },
    {
     "data": {
      "text/html": [],
      "text/plain": [
       "<IPython.core.display.HTML object>"
      ]
     },
     "metadata": {},
     "output_type": "display_data"
    },
    {
     "name": "stdout",
     "output_type": "stream",
     "text": [
      "Predicting 0000-000.png\n"
     ]
    },
    {
     "data": {
      "text/html": [],
      "text/plain": [
       "<IPython.core.display.HTML object>"
      ]
     },
     "metadata": {},
     "output_type": "display_data"
    },
    {
     "name": "stdout",
     "output_type": "stream",
     "text": [
      "Predicting 0000-001.png\n"
     ]
    },
    {
     "data": {
      "text/html": [],
      "text/plain": [
       "<IPython.core.display.HTML object>"
      ]
     },
     "metadata": {},
     "output_type": "display_data"
    },
    {
     "name": "stdout",
     "output_type": "stream",
     "text": [
      "Predicting 0000-002.png\n"
     ]
    },
    {
     "data": {
      "text/html": [],
      "text/plain": [
       "<IPython.core.display.HTML object>"
      ]
     },
     "metadata": {},
     "output_type": "display_data"
    },
    {
     "name": "stdout",
     "output_type": "stream",
     "text": [
      "Predicting 0000-003.png\n"
     ]
    },
    {
     "data": {
      "text/html": [],
      "text/plain": [
       "<IPython.core.display.HTML object>"
      ]
     },
     "metadata": {},
     "output_type": "display_data"
    },
    {
     "name": "stdout",
     "output_type": "stream",
     "text": [
      "Predicting 0000-004.png\n"
     ]
    },
    {
     "data": {
      "text/html": [],
      "text/plain": [
       "<IPython.core.display.HTML object>"
      ]
     },
     "metadata": {},
     "output_type": "display_data"
    },
    {
     "name": "stdout",
     "output_type": "stream",
     "text": [
      "Predicting 0000-005.png\n"
     ]
    },
    {
     "data": {
      "text/html": [],
      "text/plain": [
       "<IPython.core.display.HTML object>"
      ]
     },
     "metadata": {},
     "output_type": "display_data"
    },
    {
     "name": "stdout",
     "output_type": "stream",
     "text": [
      "Predicting 0000-006.png\n"
     ]
    },
    {
     "data": {
      "text/html": [],
      "text/plain": [
       "<IPython.core.display.HTML object>"
      ]
     },
     "metadata": {},
     "output_type": "display_data"
    },
    {
     "name": "stdout",
     "output_type": "stream",
     "text": [
      "Predicting 0000-007.png\n"
     ]
    },
    {
     "data": {
      "text/html": [],
      "text/plain": [
       "<IPython.core.display.HTML object>"
      ]
     },
     "metadata": {},
     "output_type": "display_data"
    },
    {
     "name": "stdout",
     "output_type": "stream",
     "text": [
      "2022-04-16 14:24:22,669 [INFO] WRITING LOG OUTPUT TO /home/ds/.cellpose/run.log\n",
      "2022-04-16 14:24:25,384 [INFO] ** TORCH CUDA version installed and working. **\n",
      "2022-04-16 14:24:25,384 [INFO] >>>> using GPU\n",
      "2022-04-16 14:24:25,503 [INFO] ~~~ FINDING MASKS ~~~\n",
      "2022-04-16 14:24:40,871 [INFO] >>>> TOTAL TIME 15.37 sec\n",
      "2022-04-16 14:24:43,014 [INFO] ** TORCH CUDA version installed and working. **\n",
      "2022-04-16 14:24:43,014 [INFO] >>>> using GPU\n",
      "2022-04-16 14:24:43,099 [INFO] ~~~ FINDING MASKS ~~~\n",
      "2022-04-16 14:24:56,276 [INFO] >>>> TOTAL TIME 13.18 sec\n",
      "2022-04-16 14:25:15,098 [INFO] ** TORCH CUDA version installed and working. **\n",
      "2022-04-16 14:25:15,099 [INFO] >>>> using GPU\n",
      "2022-04-16 14:25:15,216 [INFO] ~~~ FINDING MASKS ~~~\n",
      "2022-04-16 14:25:28,634 [INFO] >>>> TOTAL TIME 13.42 sec\n",
      "2022-04-16 14:26:53,208 [INFO] ** TORCH CUDA version installed and working. **\n",
      "2022-04-16 14:26:53,209 [INFO] >>>> using GPU\n",
      "2022-04-16 14:26:53,331 [INFO] ~~~ FINDING MASKS ~~~\n",
      "2022-04-16 14:27:06,536 [INFO] >>>> TOTAL TIME 13.21 sec\n",
      "2022-04-16 14:29:08,065 [INFO] ** TORCH CUDA version installed and working. **\n",
      "2022-04-16 14:29:08,066 [INFO] >>>> using GPU\n",
      "2022-04-16 14:29:08,176 [INFO] ~~~ FINDING MASKS ~~~\n",
      "2022-04-16 14:29:21,488 [INFO] >>>> TOTAL TIME 13.31 sec\n",
      "2022-04-16 14:31:13,585 [INFO] ** TORCH CUDA version installed and working. **\n",
      "2022-04-16 14:31:13,586 [INFO] >>>> using GPU\n",
      "2022-04-16 14:31:13,665 [INFO] ~~~ FINDING MASKS ~~~\n",
      "2022-04-16 14:31:27,483 [INFO] >>>> TOTAL TIME 13.82 sec\n",
      "2022-04-16 14:33:03,530 [INFO] ** TORCH CUDA version installed and working. **\n",
      "2022-04-16 14:33:03,531 [INFO] >>>> using GPU\n",
      "2022-04-16 14:33:03,651 [INFO] ~~~ FINDING MASKS ~~~\n",
      "2022-04-16 14:33:16,805 [INFO] >>>> TOTAL TIME 13.15 sec\n",
      "2022-04-16 14:34:49,712 [INFO] ** TORCH CUDA version installed and working. **\n",
      "2022-04-16 14:34:49,713 [INFO] >>>> using GPU\n",
      "2022-04-16 14:34:50,018 [INFO] ~~~ FINDING MASKS ~~~\n",
      "2022-04-16 14:35:03,101 [INFO] >>>> TOTAL TIME 13.08 sec\n"
     ]
    }
   ],
   "source": [
    "refactored_project.segment(strategies = [Deepflash2SemanticSegmentation, LosslessConversionOfDF2SemanticSegToInstanceSegWithCP])\n",
    "                           "
   ]
  },
  {
   "cell_type": "code",
   "execution_count": 8,
   "id": "b3d3c9c0-cd5c-4e93-b552-4b07d415ef6c",
   "metadata": {},
   "outputs": [
    {
     "data": {
      "text/plain": [
       "{'file_id': ['0000'],\n",
       " 'original_file_id': ['#5_SN_tg_s2_sfr3'],\n",
       " 'group_id': ['tg'],\n",
       " 'subject_id': ['#5_tg_old'],\n",
       " 'microscopy_filepath': [Path('/mnt/c/Users/dsege/TEMP/findmycells_projects/TH_in_SN_refactored/00_microscopy_images/tg/#5_tg_old/#5_SN_tg_s2_sfr3.czi')],\n",
       " 'microscopy_filetype': ['.czi'],\n",
       " 'rois_present': [True],\n",
       " 'rois_filepath': [Path('/mnt/c/Users/dsege/TEMP/findmycells_projects/TH_in_SN_refactored/01_rois_to_analyze/tg/#5_tg_old/#5_SN_tg_s2_sfr3.roi')],\n",
       " 'rois_filetype': ['.roi'],\n",
       " 'preprocessing_completed': [True],\n",
       " 'preprocessing_step_00': ['MaximumIntensityProjection'],\n",
       " 'preprocessing_step_01': ['CropToROIsBoundingBox'],\n",
       " 'cropping_row_indices': [(0, -1)],\n",
       " 'cropping_column_indices': [(0, -1)],\n",
       " 'preprocessing_step_02': ['CropStitchingArtefactsRGB'],\n",
       " 'preprocessing_step_03': ['ConvertTo8Bit'],\n",
       " 'RGB': [True],\n",
       " 'total_planes': [1],\n",
       " 'semantic_segmentations_done': [True],\n",
       " 'segmentation_step_00': ['Deepflash2SemanticSegmentation'],\n",
       " 'instance_segmentations_done': [True],\n",
       " 'segmentation_step_01': ['LosslessConversionOfDF2SemanticSegToInstanceSegWithCP'],\n",
       " 'segmentation_completed': [True]}"
      ]
     },
     "execution_count": 8,
     "metadata": {},
     "output_type": "execute_result"
    }
   ],
   "source": [
    "refactored_project.database.file_infos"
   ]
  },
  {
   "cell_type": "code",
   "execution_count": 18,
   "id": "b32a6340-bd5a-49eb-aef7-85b97ef5ce37",
   "metadata": {},
   "outputs": [
    {
     "name": "stdout",
     "output_type": "stream",
     "text": [
      "Warning: preprocessing_step_00 not yet specified in renaming dictionary\n",
      "Warning: preprocessing_step_01 not yet specified in renaming dictionary\n",
      "Warning: preprocessing_step_02 not yet specified in renaming dictionary\n",
      "Warning: total_planes not yet specified in renaming dictionary\n",
      "Warning: semantic_segmentations_done not yet specified in renaming dictionary\n",
      "Warning: segmentation_step_00 not yet specified in renaming dictionary\n",
      "Warning: instance_segmentations_done not yet specified in renaming dictionary\n",
      "Warning: segmentation_step_01 not yet specified in renaming dictionary\n",
      "Warning: segmentation_completed not yet specified in renaming dictionary\n"
     ]
    }
   ],
   "source": [
    "refactored_project.save_status()"
   ]
  },
  {
   "cell_type": "code",
   "execution_count": 19,
   "id": "42115e45-eb42-4310-9fa7-98e96daebc6a",
   "metadata": {},
   "outputs": [
    {
     "name": "stdout",
     "output_type": "stream",
     "text": [
      "Postprocessing segmentations of file ID: 0000 (1/1)\n",
      "-Initializing 3D reconstruction from 2D instance segmentations\n",
      "--matching ROIs across planes (1/8)\n",
      "--matching ROIs across planes (2/8)\n",
      "--matching ROIs across planes (3/8)\n",
      "--matching ROIs across planes (4/8)\n",
      "--matching ROIs across planes (5/8)\n",
      "--matching ROIs across planes (6/8)\n",
      "--matching ROIs across planes (7/8)\n",
      "--matching ROIs across planes (8/8)\n",
      "-applying exclusion criteria\n"
     ]
    }
   ],
   "source": [
    "refactored_project.postprocess(strategies = [ReconstructCellsIn3DFrom2DInstanceLabels, ApplyExclusionCriteria], \n",
    "                               segmentations_to_use = 'instance')"
   ]
  },
  {
   "cell_type": "code",
   "execution_count": 20,
   "id": "4c956c45-5027-4203-84d1-d9813fd5aeb0",
   "metadata": {},
   "outputs": [
    {
     "name": "stdout",
     "output_type": "stream",
     "text": [
      "Quantification of file ID: 0000 (1/1)\n",
      "-counting the number of image features per region of interest\n"
     ]
    }
   ],
   "source": [
    "refactored_project.quantify(strategies = [CountFeaturesInWholeAreaROIs])"
   ]
  },
  {
   "cell_type": "code",
   "execution_count": 21,
   "id": "a1e5809d-7bcb-49d2-bac3-bc6ad8c9e43f",
   "metadata": {},
   "outputs": [
    {
     "data": {
      "text/plain": [
       "{'file_id': ['0000'],\n",
       " 'original_file_id': ['#5_SN_tg_s2_sfr3'],\n",
       " 'group_id': ['tg'],\n",
       " 'subject_id': ['#5_tg_old'],\n",
       " 'microscopy_filepath': [Path('/mnt/c/Users/dsege/TEMP/findmycells_projects/TH_in_SN_refactored/00_microscopy_images/tg/#5_tg_old/#5_SN_tg_s2_sfr3.czi')],\n",
       " 'microscopy_filetype': ['.czi'],\n",
       " 'rois_present': [True],\n",
       " 'rois_filepath': [Path('/mnt/c/Users/dsege/TEMP/findmycells_projects/TH_in_SN_refactored/01_rois_to_analyze/tg/#5_tg_old/#5_SN_tg_s2_sfr3.roi')],\n",
       " 'rois_filetype': ['.roi'],\n",
       " 'preprocessing_completed': [True],\n",
       " 'preprocessing_step_00': ['CropToROIsBoundingBox'],\n",
       " 'cropping_row_indices': [(0, -1)],\n",
       " 'cropping_column_indices': [(0, -1)],\n",
       " 'preprocessing_step_01': ['CropStitchingArtefactsRGB'],\n",
       " 'preprocessing_step_02': ['ConvertTo8Bit'],\n",
       " 'RGB': [True],\n",
       " 'total_planes': [8],\n",
       " 'semantic_segmentations_done': [True],\n",
       " 'segmentation_step_00': ['Deepflash2SemanticSegmentation'],\n",
       " 'instance_segmentations_done': [True],\n",
       " 'segmentation_step_01': ['LosslessConversionOfDF2SemanticSegToInstanceSegWithCP'],\n",
       " 'segmentation_completed': [True],\n",
       " 'postprocessing_completed': [True],\n",
       " 'postprocessing_step_00': ['ReconstructCellsIn3DFrom2DInstanceLabels'],\n",
       " 'postprocessing_step_01': ['ApplyExclusionCriteria'],\n",
       " 'included_relative_positions': [['within', 'intersects']],\n",
       " 'minimum_number_of_planes_required_to_cover': [2],\n",
       " 'quantification_completed': [True],\n",
       " 'quantification_step_00': ['CountFeaturesInWholeAreaROIs']}"
      ]
     },
     "execution_count": 21,
     "metadata": {},
     "output_type": "execute_result"
    }
   ],
   "source": [
    "refactored_project.database.file_infos"
   ]
  },
  {
   "cell_type": "code",
   "execution_count": 22,
   "id": "d222a285-2da9-4dac-a433-1e974b855131",
   "metadata": {},
   "outputs": [
    {
     "data": {
      "text/plain": [
       "{'CountFeaturesInWholeAreaROIs': {'0000': {'000': 158}}}"
      ]
     },
     "execution_count": 22,
     "metadata": {},
     "output_type": "execute_result"
    }
   ],
   "source": [
    "refactored_project.database.quantification_results"
   ]
  },
  {
   "cell_type": "code",
   "execution_count": null,
   "id": "1a80895c-d2e6-43be-8499-49c4efc89ae3",
   "metadata": {},
   "outputs": [],
   "source": []
  }
 ],
 "metadata": {
  "kernelspec": {
   "display_name": "Python 3 (ipykernel)",
   "language": "python",
   "name": "python3"
  },
  "language_info": {
   "codemirror_mode": {
    "name": "ipython",
    "version": 3
   },
   "file_extension": ".py",
   "mimetype": "text/x-python",
   "name": "python",
   "nbconvert_exporter": "python",
   "pygments_lexer": "ipython3",
   "version": "3.7.12"
  }
 },
 "nbformat": 4,
 "nbformat_minor": 5
}
