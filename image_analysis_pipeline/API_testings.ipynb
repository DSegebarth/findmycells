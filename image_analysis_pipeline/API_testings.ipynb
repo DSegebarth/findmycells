{
 "cells": [
  {
   "cell_type": "markdown",
   "id": "6a9b9b86-1acf-4442-ad48-d7263016dbfb",
   "metadata": {},
   "source": [
    "# **API testing environment**"
   ]
  },
  {
   "cell_type": "markdown",
   "id": "a102a1a4-ba86-4102-bc41-7d2233c5c32c",
   "metadata": {},
   "source": [
    "## 1) Preparation related functions:"
   ]
  },
  {
   "cell_type": "markdown",
   "id": "c2e9ea73-42ff-4d0e-a68f-17fd89b06bca",
   "metadata": {},
   "source": [
    "*findmycells* offers some functions that might be useful in preparing the input for the *findmycells* `Project`"
   ]
  },
  {
   "cell_type": "markdown",
   "id": "1e40626c-ed89-43fb-b330-058ab02da6e9",
   "metadata": {},
   "source": [
    "### a) Create excel files for Image Loader\n",
    "\n",
    "This function can be used if images of individual planes are to be used, rather than the original zstack"
   ]
  },
  {
   "cell_type": "code",
   "execution_count": 2,
   "id": "3913d1aa-103a-4d68-adbf-599f18f32cad",
   "metadata": {},
   "outputs": [],
   "source": [
    "from pathlib import Path\n",
    "from findmycells.main import Preparations\n",
    "\n",
    "root_dir = Path('/mnt/d/new_analysis_data_set_EV_A53T/Mosaik_images_for_training_and_analyis/analysis/')\n",
    "destination_dir = Path('/mnt/c/Users/dsege/TEMP/Grotemeyer/02_all_new_scanner_fmc/')\n",
    "\n",
    "preparations = Preparations()\n",
    "preparations.create_excel_files_for_image_loader(root = root_dir, destination = destination_dir, batch_processing = True) \n",
    "#batch_procssing is True by default"
   ]
  },
  {
   "cell_type": "code",
   "execution_count": null,
   "id": "c082bf12-5edb-48e3-a59c-6445e5284547",
   "metadata": {},
   "outputs": [],
   "source": []
  },
  {
   "cell_type": "markdown",
   "id": "e819ca57-87ca-468c-929b-a8d10f632ce5",
   "metadata": {},
   "source": [
    "## 2) Project related functions:\n",
    "\n",
    "These are the main functions of the *findmycells* package and comprise a modular set of functions related to:\n",
    "\n",
    "    a) Working with the project database\n",
    "    b) Preprocessing of the images (and respective ROIs)\n",
    "    c) Segmentation of the relevant image features\n",
    "    d) Quantification of the segmented image features\n",
    "    e) ..."
   ]
  },
  {
   "cell_type": "code",
   "execution_count": 1,
   "id": "c2751b35-151c-498a-a2cd-f9e9409bc2cc",
   "metadata": {},
   "outputs": [],
   "source": [
    "from pathlib import Path\n",
    "from findmycells.main import Project"
   ]
  },
  {
   "cell_type": "code",
   "execution_count": 2,
   "id": "ae41b06f-43c3-420f-90c6-267bbebdc3d5",
   "metadata": {},
   "outputs": [],
   "source": [
    "from findmycells.preprocessing import CropStitchingArtefactsRGB, ConvertTo8Bit, MaximumIntensityProjection, MinimumIntensityProjection, CropToROIsBoundingBox, AdjustBrightnessAndContrast\n",
    "from findmycells.segmentation import Deepflash2SemanticAndInstanceSegmentation\n",
    "from findmycells.quantifications import ReconstructCellsIn3DFrom2DInstanceLabels, ApplyExclusionCriteria, CountFeaturesInWholeAreaROIs\n",
    "from findmycells.inspection import InspectReconstructedCells2D"
   ]
  },
  {
   "cell_type": "code",
   "execution_count": 3,
   "id": "f27a7dfe-365d-4bef-9ddf-d7439f4c194b",
   "metadata": {},
   "outputs": [],
   "source": [
    "project_root_dir = Path('/mnt/c/Users/dsege/TEMP/findmycells_projects/decouple_df2_and_cp/')"
   ]
  },
  {
   "cell_type": "code",
   "execution_count": 4,
   "id": "2902b1bc-12e4-42d4-b240-8e680ca12509",
   "metadata": {},
   "outputs": [],
   "source": [
    "quantification_configs = {'segmentations_to_use': 'instance',\n",
    "                          'postprocessing_strategies': [ReconstructCellsIn3DFrom2DInstanceLabels, ApplyExclusionCriteria],\n",
    "                          'quantification_strategies': [CountFeaturesInWholeAreaROIs]}"
   ]
  },
  {
   "cell_type": "code",
   "execution_count": 5,
   "id": "ea8219be-a412-4e87-adc3-ebab1ed15215",
   "metadata": {},
   "outputs": [],
   "source": [
    "user_input_via_gui = {'project_root_dir': project_root_dir, \n",
    "                      'preprocessing_strategies': [ConvertTo8Bit, CropToROIsBoundingBox, CropStitchingArtefactsRGB], \n",
    "                      'segmentation_strategies': [Deepflash2SemanticAndInstanceSegmentation], \n",
    "                      'quantification_configs': quantification_configs,\n",
    "                      'inspection_strategies': [InspectReconstructedCells2D],\n",
    "                      'clear_tmp_zarrs': False}"
   ]
  },
  {
   "cell_type": "code",
   "execution_count": 6,
   "id": "7d233f51-060e-4004-81dd-b124208883b2",
   "metadata": {},
   "outputs": [],
   "source": [
    "refactored_project = Project(user_input_via_gui)"
   ]
  },
  {
   "cell_type": "code",
   "execution_count": 7,
   "id": "cb174df4-ad06-4c6e-a14c-6ebd27c0728a",
   "metadata": {},
   "outputs": [],
   "source": [
    "refactored_project.preprocess()"
   ]
  },
  {
   "cell_type": "code",
   "execution_count": 8,
   "id": "81ee1ba2-1d16-4c85-b91d-481b2abf77e4",
   "metadata": {},
   "outputs": [
    {
     "name": "stdout",
     "output_type": "stream",
     "text": [
      "Warning: preprocessing_step_00 not yet specified in renaming dictionary\n",
      "Warning: preprocessing_step_01 not yet specified in renaming dictionary\n",
      "Warning: preprocessing_step_02 not yet specified in renaming dictionary\n",
      "Warning: total_planes not yet specified in renaming dictionary\n"
     ]
    }
   ],
   "source": [
    "refactored_project.save_status()"
   ]
  },
  {
   "cell_type": "code",
   "execution_count": 9,
   "id": "13db9a8f-3eca-4971-9a43-bc6644869d37",
   "metadata": {},
   "outputs": [
    {
     "name": "stdout",
     "output_type": "stream",
     "text": [
      "Found 3 models in folder /mnt/c/Users/dsege/TEMP/findmycells_projects/decouple_df2_and_cp/03_segmentation_tool/trained_models\n",
      "['Unet_resnet34_2classes-fold1.pth', 'Unet_resnet34_2classes-fold3.pth', 'Unet_resnet34_2classes-fold5.pth']\n",
      "Computing Stats...\n",
      "Found 3 models in folder /mnt/c/Users/dsege/TEMP/findmycells_projects/decouple_df2_and_cp/03_segmentation_tool/trained_models\n",
      "['Unet_resnet34_2classes-fold1.pth', 'Unet_resnet34_2classes-fold3.pth', 'Unet_resnet34_2classes-fold5.pth']\n"
     ]
    },
    {
     "data": {
      "text/html": [],
      "text/plain": [
       "<IPython.core.display.HTML object>"
      ]
     },
     "metadata": {},
     "output_type": "display_data"
    },
    {
     "name": "stdout",
     "output_type": "stream",
     "text": [
      "Predicting 0000-000.png\n"
     ]
    },
    {
     "data": {
      "text/html": [],
      "text/plain": [
       "<IPython.core.display.HTML object>"
      ]
     },
     "metadata": {},
     "output_type": "display_data"
    },
    {
     "name": "stdout",
     "output_type": "stream",
     "text": [
      "Predicting 0000-001.png\n"
     ]
    },
    {
     "data": {
      "text/html": [],
      "text/plain": [
       "<IPython.core.display.HTML object>"
      ]
     },
     "metadata": {},
     "output_type": "display_data"
    },
    {
     "name": "stdout",
     "output_type": "stream",
     "text": [
      "Predicting 0000-002.png\n"
     ]
    },
    {
     "data": {
      "text/html": [],
      "text/plain": [
       "<IPython.core.display.HTML object>"
      ]
     },
     "metadata": {},
     "output_type": "display_data"
    },
    {
     "name": "stdout",
     "output_type": "stream",
     "text": [
      "Predicting 0000-003.png\n"
     ]
    },
    {
     "data": {
      "text/html": [],
      "text/plain": [
       "<IPython.core.display.HTML object>"
      ]
     },
     "metadata": {},
     "output_type": "display_data"
    },
    {
     "name": "stdout",
     "output_type": "stream",
     "text": [
      "Predicting 0000-004.png\n"
     ]
    },
    {
     "data": {
      "text/html": [],
      "text/plain": [
       "<IPython.core.display.HTML object>"
      ]
     },
     "metadata": {},
     "output_type": "display_data"
    },
    {
     "name": "stdout",
     "output_type": "stream",
     "text": [
      "Predicting 0000-005.png\n"
     ]
    },
    {
     "data": {
      "text/html": [],
      "text/plain": [
       "<IPython.core.display.HTML object>"
      ]
     },
     "metadata": {},
     "output_type": "display_data"
    },
    {
     "name": "stdout",
     "output_type": "stream",
     "text": [
      "Predicting 0000-006.png\n"
     ]
    },
    {
     "data": {
      "text/html": [],
      "text/plain": [
       "<IPython.core.display.HTML object>"
      ]
     },
     "metadata": {},
     "output_type": "display_data"
    },
    {
     "name": "stdout",
     "output_type": "stream",
     "text": [
      "Predicting 0000-007.png\n"
     ]
    },
    {
     "data": {
      "text/html": [],
      "text/plain": [
       "<IPython.core.display.HTML object>"
      ]
     },
     "metadata": {},
     "output_type": "display_data"
    },
    {
     "name": "stdout",
     "output_type": "stream",
     "text": [
      "2022-04-12 12:07:02,683 [INFO] WRITING LOG OUTPUT TO /home/ds/.cellpose/run.log\n",
      "Found 3 models in folder /mnt/c/Users/dsege/TEMP/findmycells_projects/decouple_df2_and_cp/03_segmentation_tool/trained_models\n",
      "['Unet_resnet34_2classes-fold1.pth', 'Unet_resnet34_2classes-fold3.pth', 'Unet_resnet34_2classes-fold5.pth']\n",
      "Using diameter of 50\n",
      "2022-04-12 12:07:07,952 [INFO] ** TORCH CUDA version installed and working. **\n",
      "2022-04-12 12:07:07,953 [INFO] >>>> using GPU\n",
      "2022-04-12 12:07:08,085 [INFO] ~~~ FINDING MASKS ~~~\n",
      "2022-04-12 12:07:35,711 [INFO] >>>> TOTAL TIME 27.63 sec\n",
      "Found 3 models in folder /mnt/c/Users/dsege/TEMP/findmycells_projects/decouple_df2_and_cp/03_segmentation_tool/trained_models\n",
      "['Unet_resnet34_2classes-fold1.pth', 'Unet_resnet34_2classes-fold3.pth', 'Unet_resnet34_2classes-fold5.pth']\n",
      "Using diameter of 50\n",
      "2022-04-12 12:07:39,344 [INFO] ** TORCH CUDA version installed and working. **\n",
      "2022-04-12 12:07:39,345 [INFO] >>>> using GPU\n",
      "2022-04-12 12:07:39,462 [INFO] ~~~ FINDING MASKS ~~~\n",
      "2022-04-12 12:07:59,701 [INFO] >>>> TOTAL TIME 20.24 sec\n",
      "Found 3 models in folder /mnt/c/Users/dsege/TEMP/findmycells_projects/decouple_df2_and_cp/03_segmentation_tool/trained_models\n",
      "['Unet_resnet34_2classes-fold1.pth', 'Unet_resnet34_2classes-fold3.pth', 'Unet_resnet34_2classes-fold5.pth']\n",
      "Using diameter of 50\n",
      "2022-04-12 12:08:03,157 [INFO] ** TORCH CUDA version installed and working. **\n",
      "2022-04-12 12:08:03,157 [INFO] >>>> using GPU\n",
      "2022-04-12 12:08:03,264 [INFO] ~~~ FINDING MASKS ~~~\n",
      "2022-04-12 12:08:23,715 [INFO] >>>> TOTAL TIME 20.45 sec\n",
      "Found 3 models in folder /mnt/c/Users/dsege/TEMP/findmycells_projects/decouple_df2_and_cp/03_segmentation_tool/trained_models\n",
      "['Unet_resnet34_2classes-fold1.pth', 'Unet_resnet34_2classes-fold3.pth', 'Unet_resnet34_2classes-fold5.pth']\n",
      "Using diameter of 50\n",
      "2022-04-12 12:08:27,239 [INFO] ** TORCH CUDA version installed and working. **\n",
      "2022-04-12 12:08:27,240 [INFO] >>>> using GPU\n",
      "2022-04-12 12:08:27,350 [INFO] ~~~ FINDING MASKS ~~~\n",
      "2022-04-12 12:08:48,662 [INFO] >>>> TOTAL TIME 21.31 sec\n",
      "Found 3 models in folder /mnt/c/Users/dsege/TEMP/findmycells_projects/decouple_df2_and_cp/03_segmentation_tool/trained_models\n",
      "['Unet_resnet34_2classes-fold1.pth', 'Unet_resnet34_2classes-fold3.pth', 'Unet_resnet34_2classes-fold5.pth']\n",
      "Using diameter of 50\n",
      "2022-04-12 12:08:52,221 [INFO] ** TORCH CUDA version installed and working. **\n",
      "2022-04-12 12:08:52,222 [INFO] >>>> using GPU\n",
      "2022-04-12 12:08:52,331 [INFO] ~~~ FINDING MASKS ~~~\n",
      "2022-04-12 12:09:14,509 [INFO] >>>> TOTAL TIME 22.18 sec\n",
      "Found 3 models in folder /mnt/c/Users/dsege/TEMP/findmycells_projects/decouple_df2_and_cp/03_segmentation_tool/trained_models\n",
      "['Unet_resnet34_2classes-fold1.pth', 'Unet_resnet34_2classes-fold3.pth', 'Unet_resnet34_2classes-fold5.pth']\n",
      "Using diameter of 50\n",
      "2022-04-12 12:09:19,837 [INFO] ** TORCH CUDA version installed and working. **\n",
      "2022-04-12 12:09:19,837 [INFO] >>>> using GPU\n",
      "2022-04-12 12:09:19,955 [INFO] ~~~ FINDING MASKS ~~~\n",
      "2022-04-12 12:09:40,985 [INFO] >>>> TOTAL TIME 21.03 sec\n",
      "Found 3 models in folder /mnt/c/Users/dsege/TEMP/findmycells_projects/decouple_df2_and_cp/03_segmentation_tool/trained_models\n",
      "['Unet_resnet34_2classes-fold1.pth', 'Unet_resnet34_2classes-fold3.pth', 'Unet_resnet34_2classes-fold5.pth']\n",
      "Using diameter of 50\n",
      "2022-04-12 12:09:45,671 [INFO] ** TORCH CUDA version installed and working. **\n",
      "2022-04-12 12:09:45,672 [INFO] >>>> using GPU\n",
      "2022-04-12 12:09:45,788 [INFO] ~~~ FINDING MASKS ~~~\n",
      "2022-04-12 12:10:07,997 [INFO] >>>> TOTAL TIME 22.21 sec\n",
      "Found 3 models in folder /mnt/c/Users/dsege/TEMP/findmycells_projects/decouple_df2_and_cp/03_segmentation_tool/trained_models\n",
      "['Unet_resnet34_2classes-fold1.pth', 'Unet_resnet34_2classes-fold3.pth', 'Unet_resnet34_2classes-fold5.pth']\n",
      "Using diameter of 50\n",
      "2022-04-12 12:10:12,635 [INFO] ** TORCH CUDA version installed and working. **\n",
      "2022-04-12 12:10:12,636 [INFO] >>>> using GPU\n",
      "2022-04-12 12:10:12,768 [INFO] ~~~ FINDING MASKS ~~~\n",
      "2022-04-12 12:10:32,982 [INFO] >>>> TOTAL TIME 20.21 sec\n"
     ]
    }
   ],
   "source": [
    "refactored_project.segment()"
   ]
  },
  {
   "cell_type": "code",
   "execution_count": null,
   "id": "d1356511-580b-44c8-bcc1-f15438ef85af",
   "metadata": {},
   "outputs": [],
   "source": []
  },
  {
   "cell_type": "code",
   "execution_count": 7,
   "id": "db32cf08-9913-4225-a438-9b4302e473a7",
   "metadata": {},
   "outputs": [],
   "source": [
    "refactored_project.load_status()"
   ]
  },
  {
   "cell_type": "code",
   "execution_count": 8,
   "id": "f276d41e-e92e-4890-aee3-172f2533795e",
   "metadata": {},
   "outputs": [
    {
     "data": {
      "text/plain": [
       "{'CountFeaturesInWholeAreaROIs': {'0000': {'SN': 49, 'VTA': 20},\n",
       "  '0001': {'SN': 12, 'VTA': 1},\n",
       "  '0002': {'SN': 42, 'VTA': 2},\n",
       "  '0003': {'SN': 76, 'VTA': 2}}}"
      ]
     },
     "execution_count": 8,
     "metadata": {},
     "output_type": "execute_result"
    }
   ],
   "source": [
    "refactored_project.database.quantification_results"
   ]
  },
  {
   "cell_type": "code",
   "execution_count": null,
   "id": "538691f1-d4ea-409c-bb10-bcfc54c2d811",
   "metadata": {},
   "outputs": [],
   "source": []
  },
  {
   "cell_type": "code",
   "execution_count": null,
   "id": "9477e5ef-f4b1-4b1e-adfc-b1099d65157c",
   "metadata": {},
   "outputs": [],
   "source": [
    "project_root_dir = '/mnt/c/Users/dsege/TEMP/findmycells_projects/TH_in_SN/'\n",
    "\n",
    "user_input_via_gui = {'project_root_dir': project_root_dir,\n",
    "                      }"
   ]
  }
 ],
 "metadata": {
  "kernelspec": {
   "display_name": "Python 3 (ipykernel)",
   "language": "python",
   "name": "python3"
  },
  "language_info": {
   "codemirror_mode": {
    "name": "ipython",
    "version": 3
   },
   "file_extension": ".py",
   "mimetype": "text/x-python",
   "name": "python",
   "nbconvert_exporter": "python",
   "pygments_lexer": "ipython3",
   "version": "3.7.12"
  }
 },
 "nbformat": 4,
 "nbformat_minor": 5
}
