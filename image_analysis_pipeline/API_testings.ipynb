{
 "cells": [
  {
   "cell_type": "markdown",
   "id": "6a9b9b86-1acf-4442-ad48-d7263016dbfb",
   "metadata": {},
   "source": [
    "# **API testing environment**"
   ]
  },
  {
   "cell_type": "markdown",
   "id": "a102a1a4-ba86-4102-bc41-7d2233c5c32c",
   "metadata": {},
   "source": [
    "## 1) Preparation related functions:"
   ]
  },
  {
   "cell_type": "markdown",
   "id": "c2e9ea73-42ff-4d0e-a68f-17fd89b06bca",
   "metadata": {},
   "source": [
    "*findmycells* offers some functions that might be useful in preparing the input for the *findmycells* `Project`"
   ]
  },
  {
   "cell_type": "markdown",
   "id": "1e40626c-ed89-43fb-b330-058ab02da6e9",
   "metadata": {},
   "source": [
    "### a) Create excel files for Image Loader\n",
    "\n",
    "This function can be used if images of individual planes are to be used, rather than the original zstack"
   ]
  },
  {
   "cell_type": "code",
   "execution_count": 2,
   "id": "3913d1aa-103a-4d68-adbf-599f18f32cad",
   "metadata": {},
   "outputs": [],
   "source": [
    "from pathlib import Path\n",
    "from findmycells.main import Preparations\n",
    "\n",
    "root_dir = Path('/mnt/d/new_analysis_data_set_EV_A53T/Mosaik_images_for_training_and_analyis/analysis/')\n",
    "destination_dir = Path('/mnt/c/Users/dsege/TEMP/Grotemeyer/02_all_new_scanner_fmc/')\n",
    "\n",
    "preparations = Preparations()\n",
    "preparations.create_excel_files_for_image_loader(root = root_dir, destination = destination_dir, batch_processing = True) \n",
    "#batch_procssing is True by default"
   ]
  },
  {
   "cell_type": "code",
   "execution_count": null,
   "id": "c082bf12-5edb-48e3-a59c-6445e5284547",
   "metadata": {},
   "outputs": [],
   "source": []
  },
  {
   "cell_type": "markdown",
   "id": "e819ca57-87ca-468c-929b-a8d10f632ce5",
   "metadata": {},
   "source": [
    "## 2) Project related functions:\n",
    "\n",
    "These are the main functions of the *findmycells* package and comprise a modular set of functions related to:\n",
    "\n",
    "    a) Working with the project database\n",
    "    b) Preprocessing of the images (and respective ROIs)\n",
    "    c) Segmentation of the relevant image features\n",
    "    d) Quantification of the segmented image features\n",
    "    e) ..."
   ]
  },
  {
   "cell_type": "code",
   "execution_count": 3,
   "id": "c2751b35-151c-498a-a2cd-f9e9409bc2cc",
   "metadata": {},
   "outputs": [],
   "source": [
    "from pathlib import Path\n",
    "from findmycells.main import Project"
   ]
  },
  {
   "cell_type": "code",
   "execution_count": null,
   "id": "9477e5ef-f4b1-4b1e-adfc-b1099d65157c",
   "metadata": {},
   "outputs": [],
   "source": [
    "project_root_dir = '/mnt/c/Users/dsege/TEMP/findmycells_projects/TH_in_SN/'\n",
    "\n",
    "user_input_via_gui = {'project_root_dir': project_root_dir,\n",
    "                      'only_duplication': True}"
   ]
  },
  {
   "cell_type": "code",
   "execution_count": null,
   "id": "538691f1-d4ea-409c-bb10-bcfc54c2d811",
   "metadata": {},
   "outputs": [],
   "source": []
  }
 ],
 "metadata": {
  "kernelspec": {
   "display_name": "Python 3 (ipykernel)",
   "language": "python",
   "name": "python3"
  },
  "language_info": {
   "codemirror_mode": {
    "name": "ipython",
    "version": 3
   },
   "file_extension": ".py",
   "mimetype": "text/x-python",
   "name": "python",
   "nbconvert_exporter": "python",
   "pygments_lexer": "ipython3",
   "version": "3.7.12"
  }
 },
 "nbformat": 4,
 "nbformat_minor": 5
}
