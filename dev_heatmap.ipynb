{
 "cells": [
  {
   "cell_type": "code",
   "execution_count": null,
   "id": "58099e6a-968c-45fd-949f-36244e542ffe",
   "metadata": {},
   "outputs": [],
   "source": [
    "from skimage.io import imread\n",
    "from skimage import measure\n",
    "import numpy as np\n",
    "from typing import Dict, List, Tuple, Optional\n",
    "import matplotlib.pyplot as plt\n",
    "\n",
    "from shapely.geometry import Polygon, LineString, Point\n",
    "from skimage.transform import PiecewiseAffineTransform, warp"
   ]
  },
  {
   "cell_type": "code",
   "execution_count": null,
   "id": "26970b1c-bacd-4ced-8e93-a7f036f8e7cd",
   "metadata": {},
   "outputs": [],
   "source": [
    "def get_contour_coords(single_plane: np.ndarray, label_id: int) -> List[Tuple[int, int]]:\n",
    "    x_dim, y_dim = single_plane.shape\n",
    "    tmp_array = np.zeros((x_dim, y_dim), dtype='uint8')\n",
    "    tmp_array[np.where(single_plane == label_id)] = 1\n",
    "    tmp_contours = measure.find_contours(tmp_array, level = 0)[0]\n",
    "    return tmp_contours"
   ]
  },
  {
   "cell_type": "code",
   "execution_count": null,
   "id": "095357ab-a161-41ff-9524-56fd6bdd334d",
   "metadata": {},
   "outputs": [],
   "source": [
    "def get_intersection_point_coords(line_a_point_idxs: Tuple[int, int], line_b_point_idxs: Tuple[int, int], \n",
    "                                  contour_coords: List[Tuple[int, int]], polygon: Polygon) -> Optional[Tuple[float, float]]:\n",
    "    line_a = LineString([contour_coords[line_a_point_idxs[0]], contour_coords[line_a_point_idxs[1]]])\n",
    "    line_b = LineString([contour_coords[line_b_point_idxs[0]], contour_coords[line_b_point_idxs[1]]])\n",
    "    if line_a.intersects(line_b):\n",
    "        intersection_point = line_a.intersection(line_b)\n",
    "        if (type(intersection_point) == Point) & (polygon.contains(intersection_point)):\n",
    "            return intersection_point.x, intersection_point.y"
   ]
  },
  {
   "cell_type": "code",
   "execution_count": null,
   "id": "aceac37d-3f27-4793-bb3d-21b7b3d7c87c",
   "metadata": {},
   "outputs": [],
   "source": [
    "def rearrange_array_to_begin_with_reference_point(unsorted_contour_coords: np.ndarray, reference_point_idx: int) -> np.ndarray:\n",
    "    return np.concatenate([unsorted_contour_coords[reference_point_idx:], unsorted_contour_coords[:reference_point_idx]])"
   ]
  },
  {
   "cell_type": "code",
   "execution_count": null,
   "id": "cc264d82-ddf2-4279-bd99-4a8f2045857d",
   "metadata": {},
   "outputs": [],
   "source": [
    "def plot_query_and_reference_images_with_points(query_img: np.ndarray, query_points: np.ndarray,\n",
    "                                                reference_img: np.ndarray, reference_points: np.ndarray) -> None:\n",
    "    fig = plt.figure(figsize=(10, 5), facecolor='white')\n",
    "    gs = fig.add_gridspec(1, 2)\n",
    "    \n",
    "    ax1 = fig.add_subplot(gs[0, 0])\n",
    "    plt.imshow(query_img, cmap='Greys')\n",
    "    plt.scatter(query_points[:, 1], query_points[:, 0], s=30, c=range(query_points.shape[0]), cmap='viridis')\n",
    "    plt.title('query')\n",
    "    ax2 = fig.add_subplot(gs[0, 1])\n",
    "    plt.imshow(reference_img, cmap='Greys')\n",
    "    plt.scatter(reference_points[:, 1], reference_points[:, 0], s=30, c=range(query_points.shape[0]), cmap='viridis')\n",
    "    plt.title('reference')\n",
    "    plt.show()"
   ]
  },
  {
   "cell_type": "code",
   "execution_count": null,
   "id": "e0f5ff21-3c25-4b29-ac5e-9b3535e8c56a",
   "metadata": {},
   "outputs": [],
   "source": [
    "def plot_query_transformed_and_reference_images_with_points(query_img: np.ndarray, query_points: np.ndarray,\n",
    "                                                            transformed_img: np.ndarray, transformed_points: np.ndarray,\n",
    "                                                            reference_img: np.ndarray, reference_points: np.ndarray) -> None:\n",
    "    fig = plt.figure(figsize=(15, 5), facecolor='white')\n",
    "    gs = fig.add_gridspec(1, 3)\n",
    "    \n",
    "    ax1 = fig.add_subplot(gs[0, 0])\n",
    "    plt.imshow(query_img, cmap='Greys')\n",
    "    plt.scatter(query_points[:, 1], query_points[:, 0], s=30, c=range(query_points.shape[0]), cmap='viridis')\n",
    "    plt.title('query')\n",
    "    ax2 = fig.add_subplot(gs[0, 1])\n",
    "    plt.imshow(transformed_img, cmap='Greys')\n",
    "    plt.scatter(transformed_points[:, 1], transformed_points[:, 0], s=30, c=range(query_points.shape[0]), cmap='viridis')\n",
    "    plt.title('transformed')\n",
    "    ax3 = fig.add_subplot(gs[0, 2])\n",
    "    plt.imshow(reference_img, cmap='Greys')\n",
    "    plt.scatter(reference_points[:, 1], reference_points[:, 0], s=30, c=range(query_points.shape[0]), cmap='viridis')\n",
    "    plt.title('reference')\n",
    "    plt.show()"
   ]
  },
  {
   "cell_type": "code",
   "execution_count": null,
   "id": "3a262c2a-49ad-429e-893d-e81af9c7d5b9",
   "metadata": {},
   "outputs": [],
   "source": [
    "def sample_contour_points(contour_coords: np.ndarray, n_points_to_sample: int) -> np.ndarray:\n",
    "    return np.linspace(0, contour_coords.shape[0], n_points_to_sample, endpoint=False, dtype=int)"
   ]
  },
  {
   "cell_type": "code",
   "execution_count": null,
   "id": "57165b32-3ee4-45d6-b530-30b7c8f6f733",
   "metadata": {},
   "outputs": [],
   "source": [
    "def get_matches_intersection_point_coords(query_contour_coords: np.ndarray, query_polygon,\n",
    "                                          reference_contour_coords: np.ndarray, reference_polygon,\n",
    "                                          target_n_matches: int, max_attempts: int=1000) -> Dict[str, List[np.ndarray]]:\n",
    "    assert query_contour_coords.shape[0] == reference_contour_coords.shape[0], 'numbers of sampled coords are not identical!'\n",
    "    matched_intersection_point_coords = {'query': [],\n",
    "                                         'reference': []}\n",
    "    sample_idxs = np.arange(0, query_contour_coords.shape[0], 1)\n",
    "    for i in range(max_attempts):\n",
    "        four_point_idxs = np.random.choice(sample_idxs, 4, replace=False)\n",
    "        query_intersection_coords = get_intersection_point_coords(four_point_idxs[:2], four_point_idxs[2:], query_contour_coords, query_polygon)\n",
    "        reference_intersection_coords = get_intersection_point_coords(four_point_idxs[:2], four_point_idxs[2:], reference_contour_coords, reference_polygon)\n",
    "        if (query_intersection_coords != None) & (reference_intersection_coords != None):\n",
    "            matched_intersection_point_coords['query'].append(query_intersection_coords)\n",
    "            matched_intersection_point_coords['reference'].append(reference_intersection_coords)\n",
    "        if len(matched_intersection_point_coords['query']) == target_n_matches:\n",
    "            print(f'{target_n_matches} matching intersection points found!')\n",
    "            break\n",
    "    return matched_intersection_point_coords"
   ]
  },
  {
   "cell_type": "code",
   "execution_count": null,
   "id": "3f7ee452-336f-4139-b03c-93d1eb161f0e",
   "metadata": {},
   "outputs": [],
   "source": [
    "def crop_image_and_adjust_point_coords(image: np.ndarray, points_coords: np.ndarray, polygon: Polygon, box_shape: Tuple[int, int]) -> Tuple[np.ndarray, np.ndarray]:\n",
    "    centroid_row, centroid_col = int(polygon.centroid.x), int(polygon.centroid.y)\n",
    "    row_min, row_max = centroid_row - box_shape[0], centroid_row + box_shape[0] # pad with black pixels if otherwise too small!\n",
    "    col_min, col_max = centroid_col - box_shape[1], centroid_col + box_shape[1] # pad with black pixels if otherwise too small!\n",
    "    cropped_image = image[row_min:row_max, col_min:col_max].copy()\n",
    "    offset_adjusted_points_coords = np.asarray([(coords[0] - row_min, coords[1] - col_min) for coords in points_coords])\n",
    "    return cropped_image, offset_adjusted_points_coords"
   ]
  },
  {
   "cell_type": "code",
   "execution_count": null,
   "id": "b969ad8b-10af-42ab-bbb4-113d6dbd35fd",
   "metadata": {},
   "outputs": [],
   "source": [
    "query = imread('test_data/irregular_query.png')\n",
    "query_contours = get_contour_coords(query, 255) # will start per default with lowest left point (= max for both coords)\n",
    "query_polygon = Polygon(query_contours)"
   ]
  },
  {
   "cell_type": "code",
   "execution_count": null,
   "id": "a5871f95-bc1f-4d76-a80c-56024a5a63b5",
   "metadata": {},
   "outputs": [],
   "source": [
    "reference = imread('test_data/irregular_reference.png')\n",
    "reference_contours = get_contour_coords(reference, 255)\n",
    "reference_polygon = Polygon(reference_contours)"
   ]
  },
  {
   "cell_type": "code",
   "execution_count": null,
   "id": "8b9653cd-6550-4a07-b046-5ee3ea5e3f7c",
   "metadata": {},
   "outputs": [],
   "source": [
    "# for the irregular shape:\n",
    "\n",
    "# upper most contour pixel in query matches left most in reference:\n",
    "query_anker_point_idx = query_contours[:, 0].argmin()\n",
    "\n",
    "# left most contour pixel in reference matches upper most in query:\n",
    "reference_anker_point_idx = reference_contours[:, 1].argmin()"
   ]
  },
  {
   "cell_type": "code",
   "execution_count": null,
   "id": "af91175b-766c-4f19-8a2e-a001e0444924",
   "metadata": {},
   "outputs": [],
   "source": [
    "# for squares: (matches by accident)\n",
    "# query_anker_point_idx = 0\n",
    "# reference_anker_point_idx = 0"
   ]
  },
  {
   "cell_type": "code",
   "execution_count": null,
   "id": "4be3010d-a7bf-45d9-88ee-8ca96bc4bc28",
   "metadata": {},
   "outputs": [],
   "source": [
    "sorted_query_contours = rearrange_array_to_begin_with_reference_point(query_contours, query_anker_point_idx)\n",
    "sorted_reference_contours = rearrange_array_to_begin_with_reference_point(reference_contours, reference_anker_point_idx)"
   ]
  },
  {
   "cell_type": "code",
   "execution_count": null,
   "id": "1f389794-eca0-461d-91e4-2f4935ca0942",
   "metadata": {},
   "outputs": [],
   "source": []
  },
  {
   "cell_type": "code",
   "execution_count": null,
   "id": "ca454f68-b03f-482c-9a32-4d653ef287ea",
   "metadata": {},
   "outputs": [],
   "source": [
    "query_contour_sample_idxs = sample_contour_points(sorted_query_contours, 50)\n",
    "query_sampled_contour_coords = sorted_query_contours[query_contour_sample_idxs]\n",
    "\n",
    "reference_contour_sample_idxs = sample_contour_points(sorted_reference_contours, 50)\n",
    "reference_sampled_contour_coords = sorted_reference_contours[reference_contour_sample_idxs]"
   ]
  },
  {
   "cell_type": "code",
   "execution_count": null,
   "id": "eb7ea6f3-6b95-423b-9ec2-64a635777041",
   "metadata": {},
   "outputs": [],
   "source": [
    "matched_intersection_point_coords = get_matches_intersection_point_coords(query_sampled_contour_coords, query_polygon,\n",
    "                                                                          reference_sampled_contour_coords, reference_polygon,\n",
    "                                                                          target_n_matches = 100)"
   ]
  },
  {
   "cell_type": "code",
   "execution_count": null,
   "id": "36c0b827-66d5-44e9-8377-84bbbf635e09",
   "metadata": {},
   "outputs": [],
   "source": [
    "test_matches = get_matches_intersection_point_coords(query_sampled_contour_coords, query_polygon,\n",
    "                                                      reference_sampled_contour_coords, reference_polygon,\n",
    "                                                      target_n_matches = 100)"
   ]
  },
  {
   "cell_type": "code",
   "execution_count": null,
   "id": "7a7922d0-2082-420d-8e11-e24de0a62749",
   "metadata": {},
   "outputs": [],
   "source": [
    "query_matched_point_coords = np.concatenate([query_sampled_contour_coords, matched_intersection_point_coords['query']])\n",
    "reference_matched_point_coords = np.concatenate([reference_sampled_contour_coords, matched_intersection_point_coords['reference']])"
   ]
  },
  {
   "cell_type": "code",
   "execution_count": null,
   "id": "dfcefa3f-9dcf-49f7-bc9b-a47b8ba21e79",
   "metadata": {},
   "outputs": [],
   "source": [
    "query_test_matched_point_coords = np.asarray(test_matches['query'])\n",
    "reference_test_matched_point_coords = np.asarray(test_matches['reference'])"
   ]
  },
  {
   "cell_type": "code",
   "execution_count": null,
   "id": "d057ce50-a9e0-4b40-844d-cf085d4b2ef9",
   "metadata": {},
   "outputs": [],
   "source": [
    "plot_query_and_reference_images_with_points(query, query_matched_point_coords,\n",
    "                                            reference, reference_matched_point_coords)"
   ]
  },
  {
   "cell_type": "code",
   "execution_count": null,
   "id": "d342e672-3d6a-4e98-b8ad-ce53a53a1e8d",
   "metadata": {},
   "outputs": [],
   "source": [
    "plot_query_and_reference_images_with_points(query, query_test_matched_point_coords,\n",
    "                                            reference, reference_test_matched_point_coords)"
   ]
  },
  {
   "cell_type": "code",
   "execution_count": null,
   "id": "9a8a017c-7bf0-43b4-bc2c-85f359107043",
   "metadata": {},
   "outputs": [],
   "source": [
    "query_box_coords = [int(idx) for idx in query_polygon.bounds]\n",
    "reference_box_coords = [int(idx) for idx in reference_polygon.bounds]\n",
    "half_width_rows = max([query_box_coords[2] - query_box_coords[0], reference_box_coords[2] - reference_box_coords[0]]) // 2\n",
    "half_width_cols = max([query_box_coords[3] - query_box_coords[1], reference_box_coords[3] - reference_box_coords[1]]) // 2\n",
    "box_shape = (half_width_rows, half_width_cols)"
   ]
  },
  {
   "cell_type": "code",
   "execution_count": null,
   "id": "a603d4df-3add-4faa-8aaf-0c10fa8dab1f",
   "metadata": {},
   "outputs": [],
   "source": [
    "query_centroid, query_centroid_coords = crop_image_and_adjust_point_coords(query, query_matched_point_coords, query_polygon, box_shape)\n",
    "reference_centroid, reference_centroid_coords = crop_image_and_adjust_point_coords(reference, reference_matched_point_coords, reference_polygon, box_shape)"
   ]
  },
  {
   "cell_type": "code",
   "execution_count": null,
   "id": "2a900919-7a07-4ab9-a00c-7db88043b8c4",
   "metadata": {},
   "outputs": [],
   "source": [
    "plot_query_and_reference_images_with_points(query_centroid, query_centroid_coords,\n",
    "                                            reference_centroid, reference_centroid_coords)"
   ]
  },
  {
   "cell_type": "code",
   "execution_count": null,
   "id": "be8e9b03-76e3-4b1b-a4e0-45376aebd495",
   "metadata": {},
   "outputs": [],
   "source": [
    "_, query_test_centroid_coords = crop_image_and_adjust_point_coords(query, query_test_matched_point_coords, query_polygon, box_shape)\n",
    "_, reference_test_centroid_coords = crop_image_and_adjust_point_coords(reference, reference_test_matched_point_coords, reference_polygon, box_shape)\n",
    "plot_query_and_reference_images_with_points(query_centroid, query_test_centroid_coords,\n",
    "                                            reference_centroid, reference_test_centroid_coords)"
   ]
  },
  {
   "cell_type": "code",
   "execution_count": null,
   "id": "caf081d5-38e3-4d1d-922a-6671b73714dd",
   "metadata": {},
   "outputs": [],
   "source": [
    "tform = PiecewiseAffineTransform()\n",
    "tform.estimate(reference_centroid_coords, query_centroid_coords)"
   ]
  },
  {
   "cell_type": "code",
   "execution_count": null,
   "id": "09ab3b7c-0371-4686-9593-76af7a96bcae",
   "metadata": {},
   "outputs": [],
   "source": [
    "#test_img = imread('test_data/colored_square.png')"
   ]
  },
  {
   "cell_type": "code",
   "execution_count": null,
   "id": "6aa071de-0fac-4e93-8104-ac1773d5d551",
   "metadata": {},
   "outputs": [],
   "source": [
    "#test_centroid, _ = crop_image_and_adjust_point_coords(test_img, query_matched_point_coords, query_polygon, box_shape)"
   ]
  },
  {
   "cell_type": "code",
   "execution_count": null,
   "id": "0adac445-0dde-4534-b82f-3bc0e8c06f8d",
   "metadata": {},
   "outputs": [],
   "source": [
    "#out_rows, out_cols = reference_centroid.shape\n",
    "#out = warp(test_centroid, tform) \n",
    "# seems like rows and columns are switched up for the image!\n",
    "# for instance, compare the difference between the .plot and the .scatter method:\n",
    "# ax.scatter(tform.inverse(query_centroid_coords)[:, 0], tform.inverse(query_centroid_coords)[:, 1])\n",
    "# ax.plot(tform.inverse(query_centroid_coords)[:, 0], tform.inverse(query_centroid_coords)[:, 1], '.b')\n",
    "#plt.imshow(out)"
   ]
  },
  {
   "cell_type": "code",
   "execution_count": null,
   "id": "246d0207-51a5-4a2b-b4e2-2deda196f16f",
   "metadata": {},
   "outputs": [],
   "source": [
    "# out_inverse = warp(test_centroid, inverse_map=tform.inverse) \n",
    "# plt.imshow(out_inverse)"
   ]
  },
  {
   "cell_type": "code",
   "execution_count": null,
   "id": "4dbe8778-46ef-4fc3-9e9b-546a55c35b9a",
   "metadata": {},
   "outputs": [],
   "source": [
    "transformed_query_points = tform.inverse(query_centroid_coords)\n",
    "transformed_query_test_points = tform.inverse(query_test_centroid_coords)"
   ]
  },
  {
   "cell_type": "code",
   "execution_count": null,
   "id": "75b21d4b-612d-4cb8-92fa-96d55041f323",
   "metadata": {},
   "outputs": [],
   "source": [
    "plot_query_transformed_and_reference_images_with_points(query_centroid, query_centroid_coords,\n",
    "                                                        reference_centroid, transformed_query_points,\n",
    "                                                        reference_centroid, reference_centroid_coords)"
   ]
  },
  {
   "cell_type": "code",
   "execution_count": null,
   "id": "2c2cc262-199c-45dc-969c-f17a4fd50786",
   "metadata": {},
   "outputs": [],
   "source": [
    "plot_query_transformed_and_reference_images_with_points(query_centroid, query_test_centroid_coords,\n",
    "                                                        reference_centroid, transformed_query_test_points,\n",
    "                                                        reference_centroid, reference_test_centroid_coords)"
   ]
  }
 ],
 "metadata": {
  "kernelspec": {
   "display_name": "Python 3 (ipykernel)",
   "language": "python",
   "name": "python3"
  }
 },
 "nbformat": 4,
 "nbformat_minor": 5
}
